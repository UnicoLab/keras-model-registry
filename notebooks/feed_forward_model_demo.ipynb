{
 "cells": [
  {
   "cell_type": "markdown",
   "id": "3a29214a",
   "metadata": {},
   "source": [
    "# Feed-Forward Model End-to-End Demo\n",
    "\n",
    "This notebook demonstrates KMR's BaseFeedForwardModel on a synthetic tabular regression task, including:\n",
    "\n",
    "- Data generation and train/val/test split\n",
    "- Model creation, training, and evaluation\n",
    "- Plotly visualizations\n",
    "- Model serialization and loading validation\n",
    "\n",
    "## 1. Setup and Imports\n"
   ]
  },
  {
   "cell_type": "code",
   "execution_count": 1,
   "id": "993a8170",
   "metadata": {},
   "outputs": [
    {
     "name": "stdout",
     "output_type": "stream",
     "text": [
      "✅ All imports successful!\n",
      "TensorFlow version: 2.18.0\n",
      "Keras version: 3.8.0\n"
     ]
    }
   ],
   "source": [
    "import os\n",
    "import tempfile\n",
    "from typing import Any\n",
    "\n",
    "import numpy as np\n",
    "import tensorflow as tf\n",
    "import keras\n",
    "from keras.optimizers import Adam\n",
    "from keras.losses import MeanSquaredError\n",
    "from keras.metrics import MeanAbsoluteError\n",
    "\n",
    "import plotly.graph_objects as go\n",
    "from plotly.subplots import make_subplots\n",
    "\n",
    "# KMR imports\n",
    "from kmr.models.feed_forward import BaseFeedForwardModel\n",
    "\n",
    "print(\"✅ All imports successful!\")\n",
    "print(f\"TensorFlow version: {tf.__version__}\")\n",
    "print(f\"Keras version: {keras.__version__}\")\n"
   ]
  },
  {
   "cell_type": "markdown",
   "id": "970fe6f5",
   "metadata": {},
   "source": [
    "## 2. Generate Synthetic Regression Data\n",
    "\n",
    "We'll create a synthetic tabular dataset with 12 features and a continuous target.\n",
    "The target will be a non-linear combination of features with noise.\n"
   ]
  },
  {
   "cell_type": "code",
   "execution_count": 2,
   "id": "9764f629",
   "metadata": {},
   "outputs": [
    {
     "name": "stdout",
     "output_type": "stream",
     "text": [
      "📦 Generating synthetic data...\n",
      "✅ Data shapes -> Train: (1400, 12), Val: (300, 12), Test: (300, 12)\n"
     ]
    }
   ],
   "source": [
    "print(\"📦 Generating synthetic data...\")\n",
    "\n",
    "# Reproducibility\n",
    "np.random.seed(42)\n",
    "\n",
    "num_samples = 2000\n",
    "num_features = 12\n",
    "feature_names = [f\"feature_{i}\" for i in range(num_features)]\n",
    "\n",
    "# Generate correlated features\n",
    "X = np.random.randn(num_samples, num_features).astype(np.float32)\n",
    "X[:, 1] = 0.5 * X[:, 0] + 0.5 * X[:, 1]  # introduce correlation\n",
    "X[:, 5] = np.sin(X[:, 2]) + 0.1 * np.random.randn(num_samples)\n",
    "\n",
    "# Create a non-linear target with noise\n",
    "true_weights = np.linspace(1.0, 0.2, num_features)\n",
    "y = (\n",
    "    2.0 * np.sin(X[:, 0])\n",
    "    + 0.5 * X[:, 1] ** 2\n",
    "    - 1.5 * X[:, 2]\n",
    "    + (X[:, 3] * X[:, 4])\n",
    "    + X @ true_weights\n",
    "    + 0.5 * np.random.randn(num_samples)\n",
    ").astype(np.float32)\n",
    "\n",
    "# Train/Val/Test split\n",
    "train_size = int(0.7 * num_samples)\n",
    "val_size = int(0.15 * num_samples)\n",
    "\n",
    "X_train = X[:train_size]\n",
    "y_train = y[:train_size]\n",
    "\n",
    "X_val = X[train_size:train_size + val_size]\n",
    "y_val = y[train_size:train_size + val_size]\n",
    "\n",
    "X_test = X[train_size + val_size:]\n",
    "y_test = y[train_size + val_size:]\n",
    "\n",
    "print(f\"✅ Data shapes -> Train: {X_train.shape}, Val: {X_val.shape}, Test: {X_test.shape}\")\n"
   ]
  },
  {
   "cell_type": "markdown",
   "id": "c7f86988",
   "metadata": {},
   "source": [
    "## 3. Build Feed-Forward Model\n",
    "\n",
    "We will use `BaseFeedForwardModel` with a few hidden layers. Inputs will be passed as a dict keyed by `feature_names` to demonstrate universal input handling.\n"
   ]
  },
  {
   "cell_type": "code",
   "execution_count": 3,
   "id": "3eafd6f0",
   "metadata": {},
   "outputs": [
    {
     "name": "stderr",
     "output_type": "stream",
     "text": [
      "\u001b[32m2025-10-30 15:48:01.952\u001b[0m | \u001b[1mINFO    \u001b[0m | \u001b[36mkmr.models.feed_forward\u001b[0m:\u001b[36m__init__\u001b[0m:\u001b[36m85\u001b[0m - \u001b[1m🏗️ Initializing Feed Forward Neural Network\u001b[0m\n",
      "\u001b[32m2025-10-30 15:48:01.953\u001b[0m | \u001b[1mINFO    \u001b[0m | \u001b[36mkmr.models.feed_forward\u001b[0m:\u001b[36m__init__\u001b[0m:\u001b[36m86\u001b[0m - \u001b[1m📊 Model Architecture: [128, 64, 32] -> 1\u001b[0m\n",
      "\u001b[32m2025-10-30 15:48:01.954\u001b[0m | \u001b[1mINFO    \u001b[0m | \u001b[36mkmr.models.feed_forward\u001b[0m:\u001b[36m__init__\u001b[0m:\u001b[36m87\u001b[0m - \u001b[1m🔄 Input Features: ['feature_0', 'feature_1', 'feature_2', 'feature_3', 'feature_4', 'feature_5', 'feature_6', 'feature_7', 'feature_8', 'feature_9', 'feature_10', 'feature_11']\u001b[0m\n",
      "\u001b[32m2025-10-30 15:48:01.957\u001b[0m | \u001b[34m\u001b[1mDEBUG   \u001b[0m | \u001b[36mkmr.models.feed_forward\u001b[0m:\u001b[36m__init__\u001b[0m:\u001b[36m93\u001b[0m - \u001b[34m\u001b[1m✨ Created input layers for features: ['feature_0', 'feature_1', 'feature_2', 'feature_3', 'feature_4', 'feature_5', 'feature_6', 'feature_7', 'feature_8', 'feature_9', 'feature_10', 'feature_11']\u001b[0m\n",
      "\u001b[32m2025-10-30 15:48:01.958\u001b[0m | \u001b[34m\u001b[1mDEBUG   \u001b[0m | \u001b[36mkmr.models.feed_forward\u001b[0m:\u001b[36m__init__\u001b[0m:\u001b[36m97\u001b[0m - \u001b[34m\u001b[1m✨ Created concatenation layer\u001b[0m\n",
      "\u001b[32m2025-10-30 15:48:01.958\u001b[0m | \u001b[34m\u001b[1mDEBUG   \u001b[0m | \u001b[36mkmr.models.feed_forward\u001b[0m:\u001b[36m__init__\u001b[0m:\u001b[36m102\u001b[0m - \u001b[34m\u001b[1m✨ Adding hidden layer 1 with 128 units\u001b[0m\n",
      "\u001b[32m2025-10-30 15:48:01.972\u001b[0m | \u001b[34m\u001b[1mDEBUG   \u001b[0m | \u001b[36mkmr.models.feed_forward\u001b[0m:\u001b[36m__init__\u001b[0m:\u001b[36m102\u001b[0m - \u001b[34m\u001b[1m✨ Adding hidden layer 2 with 64 units\u001b[0m\n",
      "\u001b[32m2025-10-30 15:48:01.974\u001b[0m | \u001b[34m\u001b[1mDEBUG   \u001b[0m | \u001b[36mkmr.models.feed_forward\u001b[0m:\u001b[36m__init__\u001b[0m:\u001b[36m102\u001b[0m - \u001b[34m\u001b[1m✨ Adding hidden layer 3 with 32 units\u001b[0m\n",
      "\u001b[32m2025-10-30 15:48:01.975\u001b[0m | \u001b[34m\u001b[1mDEBUG   \u001b[0m | \u001b[36mkmr.models.feed_forward\u001b[0m:\u001b[36m__init__\u001b[0m:\u001b[36m123\u001b[0m - \u001b[34m\u001b[1m✨ Adding output layer with 1 units\u001b[0m\n"
     ]
    },
    {
     "name": "stdout",
     "output_type": "stream",
     "text": [
      "✅ Model created and compiled!\n",
      "Feature names: ['feature_0', 'feature_1', 'feature_2', 'feature_3', 'feature_4', 'feature_5', 'feature_6', 'feature_7', 'feature_8', 'feature_9', 'feature_10', 'feature_11']\n"
     ]
    }
   ],
   "source": [
    "# Prepare dict inputs expected by BaseFeedForwardModel when using multiple named inputs\n",
    "X_train_dict = {name: X_train[:, i] for i, name in enumerate(feature_names)}\n",
    "X_val_dict = {name: X_val[:, i] for i, name in enumerate(feature_names)}\n",
    "X_test_dict = {name: X_test[:, i] for i, name in enumerate(feature_names)}\n",
    "\n",
    "# Create model\n",
    "model = BaseFeedForwardModel(\n",
    "    feature_names=feature_names,\n",
    "    hidden_units=[128, 64, 32],\n",
    "    output_units=1,\n",
    "    dropout_rate=0.2,\n",
    "    activation='relu',\n",
    "    name='feed_forward_demo'\n",
    ")\n",
    "\n",
    "# Compile model\n",
    "model.compile(\n",
    "    optimizer=Adam(learning_rate=0.001),\n",
    "    loss=MeanSquaredError(),\n",
    "    metrics=[MeanAbsoluteError()],\n",
    ")\n",
    "\n",
    "print(\"✅ Model created and compiled!\")\n",
    "print(\"Feature names:\", feature_names)\n"
   ]
  },
  {
   "cell_type": "markdown",
   "id": "7eb5b6e6",
   "metadata": {},
   "source": [
    "## 4. Train and Evaluate\n",
    "We will train for a small number of epochs and then evaluate on the validation and test sets.\n"
   ]
  },
  {
   "cell_type": "code",
   "execution_count": 4,
   "id": "f1c0aac4",
   "metadata": {},
   "outputs": [
    {
     "name": "stdout",
     "output_type": "stream",
     "text": [
      "🚀 Starting training...\n",
      "Epoch 1/30\n",
      "\u001b[1m44/44\u001b[0m \u001b[32m━━━━━━━━━━━━━━━━━━━━\u001b[0m\u001b[37m\u001b[0m \u001b[1m1s\u001b[0m 3ms/step - loss: 9.0939 - mean_absolute_error: 2.4331 - val_loss: 2.2943 - val_mean_absolute_error: 1.2063 - learning_rate: 0.0010\n",
      "Epoch 2/30\n",
      "\u001b[1m44/44\u001b[0m \u001b[32m━━━━━━━━━━━━━━━━━━━━\u001b[0m\u001b[37m\u001b[0m \u001b[1m0s\u001b[0m 2ms/step - loss: 2.5036 - mean_absolute_error: 1.2145 - val_loss: 1.4060 - val_mean_absolute_error: 0.9399 - learning_rate: 0.0010\n",
      "Epoch 3/30\n",
      "\u001b[1m44/44\u001b[0m \u001b[32m━━━━━━━━━━━━━━━━━━━━\u001b[0m\u001b[37m\u001b[0m \u001b[1m0s\u001b[0m 1ms/step - loss: 1.9695 - mean_absolute_error: 1.0971 - val_loss: 1.2032 - val_mean_absolute_error: 0.8664 - learning_rate: 0.0010\n",
      "Epoch 4/30\n",
      "\u001b[1m44/44\u001b[0m \u001b[32m━━━━━━━━━━━━━━━━━━━━\u001b[0m\u001b[37m\u001b[0m \u001b[1m0s\u001b[0m 1ms/step - loss: 1.7879 - mean_absolute_error: 1.0123 - val_loss: 1.0165 - val_mean_absolute_error: 0.8028 - learning_rate: 0.0010\n",
      "Epoch 5/30\n",
      "\u001b[1m44/44\u001b[0m \u001b[32m━━━━━━━━━━━━━━━━━━━━\u001b[0m\u001b[37m\u001b[0m \u001b[1m0s\u001b[0m 1ms/step - loss: 1.6929 - mean_absolute_error: 0.9610 - val_loss: 0.8650 - val_mean_absolute_error: 0.7428 - learning_rate: 0.0010\n",
      "Epoch 6/30\n",
      "\u001b[1m44/44\u001b[0m \u001b[32m━━━━━━━━━━━━━━━━━━━━\u001b[0m\u001b[37m\u001b[0m \u001b[1m0s\u001b[0m 1ms/step - loss: 1.4478 - mean_absolute_error: 0.9398 - val_loss: 0.9019 - val_mean_absolute_error: 0.7473 - learning_rate: 0.0010\n",
      "Epoch 7/30\n",
      "\u001b[1m44/44\u001b[0m \u001b[32m━━━━━━━━━━━━━━━━━━━━\u001b[0m\u001b[37m\u001b[0m \u001b[1m0s\u001b[0m 1ms/step - loss: 1.3225 - mean_absolute_error: 0.8784 - val_loss: 0.8922 - val_mean_absolute_error: 0.7364 - learning_rate: 0.0010\n",
      "Epoch 8/30\n",
      "\u001b[1m44/44\u001b[0m \u001b[32m━━━━━━━━━━━━━━━━━━━━\u001b[0m\u001b[37m\u001b[0m \u001b[1m0s\u001b[0m 1ms/step - loss: 1.1838 - mean_absolute_error: 0.8364 - val_loss: 0.7058 - val_mean_absolute_error: 0.6608 - learning_rate: 0.0010\n",
      "Epoch 9/30\n",
      "\u001b[1m44/44\u001b[0m \u001b[32m━━━━━━━━━━━━━━━━━━━━\u001b[0m\u001b[37m\u001b[0m \u001b[1m0s\u001b[0m 1ms/step - loss: 1.1789 - mean_absolute_error: 0.8200 - val_loss: 0.7658 - val_mean_absolute_error: 0.6923 - learning_rate: 0.0010\n",
      "Epoch 10/30\n",
      "\u001b[1m44/44\u001b[0m \u001b[32m━━━━━━━━━━━━━━━━━━━━\u001b[0m\u001b[37m\u001b[0m \u001b[1m0s\u001b[0m 1ms/step - loss: 1.2200 - mean_absolute_error: 0.8390 - val_loss: 0.7125 - val_mean_absolute_error: 0.6515 - learning_rate: 0.0010\n",
      "Epoch 11/30\n",
      "\u001b[1m44/44\u001b[0m \u001b[32m━━━━━━━━━━━━━━━━━━━━\u001b[0m\u001b[37m\u001b[0m \u001b[1m0s\u001b[0m 1ms/step - loss: 1.1577 - mean_absolute_error: 0.8279 - val_loss: 0.6207 - val_mean_absolute_error: 0.6184 - learning_rate: 0.0010\n",
      "Epoch 12/30\n",
      "\u001b[1m44/44\u001b[0m \u001b[32m━━━━━━━━━━━━━━━━━━━━\u001b[0m\u001b[37m\u001b[0m \u001b[1m0s\u001b[0m 1ms/step - loss: 1.1158 - mean_absolute_error: 0.8168 - val_loss: 0.6148 - val_mean_absolute_error: 0.6070 - learning_rate: 0.0010\n",
      "Epoch 13/30\n",
      "\u001b[1m44/44\u001b[0m \u001b[32m━━━━━━━━━━━━━━━━━━━━\u001b[0m\u001b[37m\u001b[0m \u001b[1m0s\u001b[0m 1ms/step - loss: 1.1443 - mean_absolute_error: 0.8074 - val_loss: 0.6194 - val_mean_absolute_error: 0.6077 - learning_rate: 0.0010\n",
      "Epoch 14/30\n",
      "\u001b[1m44/44\u001b[0m \u001b[32m━━━━━━━━━━━━━━━━━━━━\u001b[0m\u001b[37m\u001b[0m \u001b[1m0s\u001b[0m 1ms/step - loss: 0.9221 - mean_absolute_error: 0.7293 - val_loss: 0.5520 - val_mean_absolute_error: 0.5788 - learning_rate: 0.0010\n",
      "Epoch 15/30\n",
      "\u001b[1m44/44\u001b[0m \u001b[32m━━━━━━━━━━━━━━━━━━━━\u001b[0m\u001b[37m\u001b[0m \u001b[1m0s\u001b[0m 1ms/step - loss: 0.9816 - mean_absolute_error: 0.7489 - val_loss: 0.5969 - val_mean_absolute_error: 0.6089 - learning_rate: 0.0010\n",
      "Epoch 16/30\n",
      "\u001b[1m44/44\u001b[0m \u001b[32m━━━━━━━━━━━━━━━━━━━━\u001b[0m\u001b[37m\u001b[0m \u001b[1m0s\u001b[0m 1ms/step - loss: 0.9280 - mean_absolute_error: 0.7405 - val_loss: 0.5714 - val_mean_absolute_error: 0.5914 - learning_rate: 0.0010\n",
      "Epoch 17/30\n",
      "\u001b[1m44/44\u001b[0m \u001b[32m━━━━━━━━━━━━━━━━━━━━\u001b[0m\u001b[37m\u001b[0m \u001b[1m0s\u001b[0m 1ms/step - loss: 1.0233 - mean_absolute_error: 0.7609 - val_loss: 0.5767 - val_mean_absolute_error: 0.5918 - learning_rate: 0.0010\n",
      "Epoch 18/30\n",
      "\u001b[1m44/44\u001b[0m \u001b[32m━━━━━━━━━━━━━━━━━━━━\u001b[0m\u001b[37m\u001b[0m \u001b[1m0s\u001b[0m 1ms/step - loss: 1.1388 - mean_absolute_error: 0.7869 - val_loss: 0.5309 - val_mean_absolute_error: 0.5677 - learning_rate: 5.0000e-04\n",
      "Epoch 19/30\n",
      "\u001b[1m44/44\u001b[0m \u001b[32m━━━━━━━━━━━━━━━━━━━━\u001b[0m\u001b[37m\u001b[0m \u001b[1m0s\u001b[0m 1ms/step - loss: 1.0837 - mean_absolute_error: 0.7833 - val_loss: 0.5329 - val_mean_absolute_error: 0.5695 - learning_rate: 5.0000e-04\n",
      "Epoch 20/30\n",
      "\u001b[1m44/44\u001b[0m \u001b[32m━━━━━━━━━━━━━━━━━━━━\u001b[0m\u001b[37m\u001b[0m \u001b[1m0s\u001b[0m 1ms/step - loss: 0.9143 - mean_absolute_error: 0.7345 - val_loss: 0.5290 - val_mean_absolute_error: 0.5690 - learning_rate: 5.0000e-04\n",
      "Epoch 21/30\n",
      "\u001b[1m44/44\u001b[0m \u001b[32m━━━━━━━━━━━━━━━━━━━━\u001b[0m\u001b[37m\u001b[0m \u001b[1m0s\u001b[0m 1ms/step - loss: 0.9087 - mean_absolute_error: 0.7208 - val_loss: 0.5408 - val_mean_absolute_error: 0.5727 - learning_rate: 5.0000e-04\n",
      "Epoch 22/30\n",
      "\u001b[1m44/44\u001b[0m \u001b[32m━━━━━━━━━━━━━━━━━━━━\u001b[0m\u001b[37m\u001b[0m \u001b[1m0s\u001b[0m 1ms/step - loss: 0.9733 - mean_absolute_error: 0.7545 - val_loss: 0.5332 - val_mean_absolute_error: 0.5738 - learning_rate: 5.0000e-04\n",
      "Epoch 23/30\n",
      "\u001b[1m44/44\u001b[0m \u001b[32m━━━━━━━━━━━━━━━━━━━━\u001b[0m\u001b[37m\u001b[0m \u001b[1m0s\u001b[0m 1ms/step - loss: 0.9093 - mean_absolute_error: 0.7329 - val_loss: 0.5650 - val_mean_absolute_error: 0.5863 - learning_rate: 5.0000e-04\n",
      "Epoch 24/30\n",
      "\u001b[1m44/44\u001b[0m \u001b[32m━━━━━━━━━━━━━━━━━━━━\u001b[0m\u001b[37m\u001b[0m \u001b[1m0s\u001b[0m 1ms/step - loss: 0.8492 - mean_absolute_error: 0.7037 - val_loss: 0.5444 - val_mean_absolute_error: 0.5742 - learning_rate: 2.5000e-04\n",
      "Epoch 25/30\n",
      "\u001b[1m44/44\u001b[0m \u001b[32m━━━━━━━━━━━━━━━━━━━━\u001b[0m\u001b[37m\u001b[0m \u001b[1m0s\u001b[0m 1ms/step - loss: 0.9276 - mean_absolute_error: 0.7271 - val_loss: 0.5365 - val_mean_absolute_error: 0.5714 - learning_rate: 2.5000e-04\n",
      "✅ Training completed!\n",
      "Validation - Loss: 0.5290, MAE: 0.5690\n",
      "Test - Loss: 0.5039, MAE: 0.5406\n"
     ]
    }
   ],
   "source": [
    "print(\"🚀 Starting training...\")\n",
    "\n",
    "callbacks = [\n",
    "    keras.callbacks.EarlyStopping(monitor=\"val_loss\", patience=5, restore_best_weights=True),\n",
    "    keras.callbacks.ReduceLROnPlateau(monitor=\"val_loss\", factor=0.5, patience=3)\n",
    "]\n",
    "\n",
    "history = model.fit(\n",
    "    X_train_dict, y_train,\n",
    "    validation_data=(X_val_dict, y_val),\n",
    "    epochs=30,\n",
    "    batch_size=32,\n",
    "    callbacks=callbacks,\n",
    "    verbose=1\n",
    ")\n",
    "\n",
    "print(\"✅ Training completed!\")\n",
    "\n",
    "# Evaluate\n",
    "val_loss, val_mae = model.evaluate(X_val_dict, y_val, verbose=0)\n",
    "print(f\"Validation - Loss: {val_loss:.4f}, MAE: {val_mae:.4f}\")\n",
    "\n",
    "test_loss, test_mae = model.evaluate(X_test_dict, y_test, verbose=0)\n",
    "print(f\"Test - Loss: {test_loss:.4f}, MAE: {test_mae:.4f}\")\n",
    "\n",
    "# Predictions for later visualizations\n",
    "y_pred_val = model.predict(X_val_dict, verbose=0).squeeze()\n",
    "y_pred_test = model.predict(X_test_dict, verbose=0).squeeze()\n"
   ]
  },
  {
   "cell_type": "markdown",
   "id": "c49583da",
   "metadata": {},
   "source": [
    "## 5. Visualizations\n",
    "We will plot training curves, predictions vs. ground truth, and residuals.\n"
   ]
  },
  {
   "cell_type": "code",
   "execution_count": 5,
   "id": "5120e385",
   "metadata": {},
   "outputs": [
    {
     "name": "stdout",
     "output_type": "stream",
     "text": [
      "📊 Creating visualizations...\n"
     ]
    },
    {
     "data": {
      "application/vnd.plotly.v1+json": {
       "config": {
        "plotlyServerURL": "https://plot.ly"
       },
       "data": [
        {
         "mode": "lines",
         "name": "loss",
         "type": "scatter",
         "xaxis": "x",
         "y": [
          7.555290222167969,
          2.350128412246704,
          1.9241325855255127,
          1.7832953929901123,
          1.5970993041992188,
          1.4677823781967163,
          1.3898425102233887,
          1.2964175939559937,
          1.2169132232666016,
          1.1964858770370483,
          1.1435704231262207,
          1.1115375757217407,
          1.1311938762664795,
          1.0303584337234497,
          0.9945074319839478,
          0.913110613822937,
          1.0167702436447144,
          0.982043445110321,
          1.0310285091400146,
          0.8929738998413086,
          0.9304609298706055,
          0.9665502309799194,
          0.8659519553184509,
          0.867237389087677,
          0.9700222611427307
         ],
         "yaxis": "y"
        },
        {
         "mode": "lines",
         "name": "val_loss",
         "type": "scatter",
         "xaxis": "x",
         "y": [
          2.2943427562713623,
          1.4060200452804565,
          1.203195571899414,
          1.0164713859558105,
          0.8649654388427734,
          0.9019346833229065,
          0.8921787738800049,
          0.7058424353599548,
          0.7657687067985535,
          0.7124655842781067,
          0.6207414269447327,
          0.6147941946983337,
          0.6194380521774292,
          0.552004873752594,
          0.5969247221946716,
          0.5713731646537781,
          0.5767057538032532,
          0.5309024453163147,
          0.532853364944458,
          0.5290077328681946,
          0.5407742261886597,
          0.5331857204437256,
          0.5650188326835632,
          0.5443517565727234,
          0.5365114808082581
         ],
         "yaxis": "y"
        },
        {
         "mode": "markers",
         "name": "pred vs true",
         "type": "scatter",
         "x": {
          "bdata": "3Q+sPq/brUBmeXU/ebiCQAiNHECyFNy/qHdqwFC7vz2tplTAEQEWQAR9Hj83s7E8E+MZvxPHm78KObI/+TBUQO6+hkAtSWfAHnuXvgzSjUC37cM+Af9dQBN7SsBYeXLAlrQKwI+cHsBEDhRAqA4FQPoqiz5rXeG//+dsQCUYvz+JqbJAiIHbv4tVNsCm2+I/591ywPGbGcCEfyHAUjeaQB2TFLxXkF+/jp7QwNWkesAP75m/Qk9CPyYDacDhnhK/wXraPk6SPEA6joI9wJlDwFyI7D8D244/Av8Lvyij0D8EDabApHZRwFxn4L+6MSjAXeJpP7vuVcD4n/C/ctoDwGOjgj943ec+cObHv9XgQj9gqbG96et7PwZXV0AgqypAhwYbvokjWkCqdeC/bjiFQMkLkkBpRCbAd85SwFe/gsDwHdLAkBgywOpeVMD7AtxAIa6Nv8J6Y0A9lY8/HTsVP+1muD8qfxlAzRVXP7Jmb0Dh+VfALhibwD/SLL/e7h9A6CqOwEYkYsDPUZtAV3qDwIrY/r8ERL8/Nn/1v7bGk8CL1o7AouUFQKSx2j+4aMy/1zA/v/BcYMCTr19AxrWIQMTXLT9PErRA9O+OwB4jwEBRxb/AqQJWPk6y4cDvtQ3ApSgeQJs41cCcBku/QLBaP+xNKsAwPl690mnJvw/zrj7WzptA2qsYwHrNGEEBeBlADLbvwIpa1b8LQFJA2GhHwFTxpb9NRY48DA2EP8py1D+DSze/KpVAQBMvqj8R9JK9pD8sQLwzisCSvai/nv+KQFvggT9NKeU+cNckP4NWmz8yCeY/xpucwFvwTkAybcA+mUsSQCw6ij9bZBXAXtKHwEX02z8xu/+/S3OOwLfRMUCFNHpAQnwYQX4CY7+dhFRAIntMwB84a0AnCzhAHVGXP7w/D8D30v1AEYxkvxjUGMC0BOS+oW40PmLrG8BnuNM/neGcwKA3bMDt1AdAS3uRPxx2878TMJvAZ0J+wCw+vz8FleK/VyxLvz+5UEDOb9I7aoojQPfwqD+R5C7Ahw6nPUA04D889+A/2EnSQGnNY0BeBfA+f37+vuwIIcAQacFAL48NPm9MLT8H14ZA7nloveLJdD8BQZrAEg6Wv2lZk8CN/CpAe8NfQKkUlED6yK1AoyRPQE6lE0Gj/aa+eCBnvy+L7UB/4D3A3FuAP/0Qtz4Cx0g/1hudwBVX878MJb1AERNQQMSwgUCxyAPA0OmBv9MUDcDCI8u/y4rtP2CEKcAMHJFAFbqkQAgMlEDG/lPAE+2/QM6ozT/ocPM/KMt9wPV7XcAig/O+NWe8v/LKlEBwvIpAYJq3QCvP4MATxPE/jtVRwNdqaL/LE1dAAaxtwC1lNUA41pvAwpX6P8WVcb/opve/9aCQQMmWnr9rBRXAcmYzQFzh7b9R9m7AeNRqPuT+gT/QmSLAEXHcvy7dHz2BjbLAE8AgQB61/L/AyIu+znlqwFygnECMwKRABByZwHxl/r/J0/c/o/ixQMoZjr99RTlAGttfP3RjhEBuEaTAef3Ev12xvb9nVtQ/G6rOvhJ7JcD/n+c/05IjwAg61T/yVYjA5PKLPocH2j/gqAk+",
          "dtype": "f4"
         },
         "xaxis": "x2",
         "y": {
          "bdata": "SkM4PTE4j0D2Ci0/mdyVQNzi8D9Yw0TA6qUPwO8WOL+c7orAxnsQQHLDA0D6pww/p7g8v1NXsL9rEwVAOTtKQJ9MOUDCf3PA4nQ2P7zKaUBI4t4+OblSQEHZWsCn2IDA+25AwC8i/r9KYQFAkIIEQCErcb/TDt+/IGUwQDrlDEB0WZ1AVacCwAJqKMA4JM8/BBNfwNieFMCAhEHAbvmVQKTEnj0oumg+6zeawBjNOsD9eqy/Myh6v49hGMA+/mg9190zP9jUO0Bzyf4+cL8UwAUVtj9c6Zg/IMgaPhaB0T+itmrALPY3wB1Z07/OpiPARbpyP07eNsD1aa+/FbL4v/nhHj8qCww9i2e7v6AkkD9jFvY/5Ek6P2B1KUCmhUJA7BQBPzBpOUDaNR3A7FAtQMxyUEAP4x3Asq46wCcQUcAuUZnALWs7wLyPbcCIENpA9Ceivy04P0AUGCc+mcGaP47q8D/nqOM/A5aLP/R/c0DzexHAgkBYwLo2j79g4SJAzWttwHH6KMBfxpBAZtxswM9PDcDnask/R3vhv1lel8DGk4/ABZkWQGp5oD8pu7K/unqSv9qnT8CYKVFAGOlpQNlgpD43urxAP1JzwBErm0CL9ZzArtdbPqxJqMCXjNy/t1jaP9Fim8CLiTO/dwWmP+wPz7+b0qi+ZRRxv35evz4Ca4FAwxALwCb3/kBqjRdAYyXnwLV/D8AMszlAhAYswBnppr+Rx64+95qkP5/O2j+CrzI95BweQKE6HUBIiU6/HRU3P4Obh8CEMAjAIUudQA1jfj8+ZU8/sEYSQKTl5z9WJXu8hW59wPuFFEAhRYY/ajsTQFV/kD/r3e2/PmKYwKXspj/GfRXABc+EwLIMKECIa1BAIHIJQcrC6r+U6h9ASdETwPZSckCqkjlAG8nqPxAf4L8OOJ1A0WJ6v2ikA8Cn0Y6+nc+5PAs8E8D3iKI/fkKNwKFqHsAnJMg/rY6fPwZZCcD9lV/A7VtKwPOciz8gDAfAxT+Lv5dWVUDBd68+JS4RQF39uT8HUf+/7+IePzZoCECVV9Y/t/S+QKKSeECPsPM/Tw5wvyCeF8DLfbZA6zySPk2vdj/T44JAYVmovmdamz8oho/A+2S+v7y/dsBIPzRAXvwxQIRdPEDjCIZAzksyQHUyDUHvSY6/ZqCgv9zm20CSvCHAWHPUP2GJaT+x4zM/6baDwBIEHMDP6I1AP/EqQNDBZEBMxFXAD7G/v6fan78MtBHAvEIRQJ5hE8CGMJtAw2edQG2Ng0AFuXjAgE+rQJOy8j8JPek/OqlawDz+RcCcIFq/bY/Nv8n8gEBJo4ZAH4qXQHrBsMCJaM8/yc0swANMpb/ajRlAWX5jwB5PH0DUIXvAP426P4vDRL+JBLi/EUKAQMDpEcBH1Pe/HHNGQL6LFMAZYGDAzEFPPkPSmj9EFjPAkc7ivyQZTb9jloPAGNgGQAvGBsDxYkm//uBDwHFXjkCDgKRAysGPwN9Iyb8RG7g/JZySQN0Efb9YwiZAgqV7P3JYMUC0jWXAIQm9v6mfw78IUhxA0Pl/Pi40PcBiXhpAbJspwITD8T/NPqTAFQMfP8LLgT8bGyM+",
          "dtype": "f4"
         },
         "yaxis": "y2"
        },
        {
         "mode": "lines",
         "name": "ideal",
         "type": "scatter",
         "x": [
          -7.490972518920898,
          9.550165176391602
         ],
         "xaxis": "x2",
         "y": [
          -7.490972518920898,
          9.550165176391602
         ],
         "yaxis": "y2"
        },
        {
         "name": "residuals",
         "nbinsx": 40,
         "type": "histogram",
         "x": {
          "bdata": "NvA8v7iHDL+oxuY+pDYqv7Tq076gOF4+wOjlPeA/uj96Yqg/HH37vhAWsb7AtwY+sCsUvpDloL1wKnK/FoNyP8jtu763PIU/WQ5QPygZlD6tNB0+1QqNPjzjpb7wLPC9qVMsv1BlmL543Lu/AHY9PGYLDz+siDA/5CXevgCrk73wPaM9AH8EP9I1QUDAQQk+YBoHv1wAnz8MFUk/gLwHPuyLhb+cl9c/vMWSvqAVBr57dkK//O8mvyCjn710HDc/CDPjv3hsTb6AOXk9oIH5vlSnZL/4Z8Q+GD+LvwASADxQtK4+IKVIvYjou73GKjw/4gAOv+Di/j4jSos+wAPMvqiAKj8EQYA/8ON6PwyoO78g9wI/oBLbviATwT1AKIO9eFsDvZ5kNb+n6ha+BmwCv2SnYr/wEwA/gEv1PADN/D082si+hA7ivprJzD4WbYI/sI7kPn3/5z8Atq49oEehvljMP79PYJs/NvejPzBjCL4UJ5S+cGVHPwC3qD7o4Og+4NyQPiRoUj+8W/y+2JHLvGhuED/4Lii/3PuMvwhXsb3AvcQ+zMbCv5F+Az+Afg29mCINP6Cjlb5iSLi/qEC0PkAOpr0sq/O+cPUKvuzcrj8AppO8aCdLvyjikj6Mmtm/ciyAvh5iCT8KRIM+mOwkPx4BCr+wcMK+NOCTP/AbdT+Qhsk+9xZXP9ApFT6Y2y+/IKJwP/zoEj+AyT09oOODPgDu3bv+nXS/UO7HvYCpaT94HyC+dWR1Pz+/Ib+037u/gN95PgCLfr1qNuM+lOlWP1Aqxb9QUBw+mM4jPkiHFD8KsTK/wEkTP3CxWb4AgiQ+9F5/v7Cohb6AY2m+gNjsPoDaIr6IouW/GFeevgipGj+6O94/iDSnPhy6Ub+wX2g+ijkav4CgPL3Y9AM/7UCNvsgppr5AwtC+KFfnv9g/zz6Afam+1tC6vuxGTz8U7DM/OK+3vx+e4T4w1L6+cN+Mv+DIvT54sLA+QFPevYAe1D4Y4Qk/uvT8PxQfFL8vRpC/SHEeP2TpAj9eWsQ+cF8UPuwMrj7+mZu/JvFDPxpmKr6vTrc+AMX3O5AKib6AwcO8L6G5vuBLZL4AIRm/glMnv2CpsD0gW84+LkOhvxVIIL8wbqK9YESavuBa472O1ie/OonLPgYRAD9QVgs+UpStv/5xrT/khM4+0AkeP+iZT7/0Iyc/Qh4ZvwCwSz3Y1YO+RhOyvij+wL7A/fQ+E1zWPtBnlT4obok+Fr7APnC7HT6kW6E+QGk7v8QXdj/w8fm+YH9zPiC1qzxQaUM+uHX5vaAeUz+goLq7OI/KP4xJpz+oIdK/2qoeP4ikV71og/i+oHpLvYgapz0AXB8+Ai6svmamlj50B5U+fKO1vwDRb7wAGAw8IDbhvQA7vTxAYxq/aB/hvhhcEr98mADA4CQDPnwLcj/w49C9UptIv4p3MD8cJG+/dHLUvlQKET+Afoq+YJXcPIBcND6Qrau+XLXivsQ2wL9czdk+cPGCPpiGNz/YRl8/9PC8Pxibhb7ArBa+xS4hv+hIM75sAa0+cPqpPTgZgb+AXZG9rDeCvpC4Xr74mka+/Bz3PnyJ/r5ASmo+",
          "dtype": "f4"
         },
         "xaxis": "x3",
         "yaxis": "y3"
        },
        {
         "name": "MAE per bin",
         "type": "bar",
         "x": [
          -7.042521526938991,
          -6.145619542975174,
          -5.248717559011359,
          -4.351815575047543,
          -3.454913591083727,
          -2.5580116071199117,
          -1.6611096231560958,
          -0.7642076391922799,
          0.13269434477153608,
          1.0295963287353516,
          1.9264983126991675,
          2.8234002966629834,
          3.7203022806267994,
          4.617204264590615,
          5.514106248554431,
          6.411008232518247,
          7.307910216482062,
          8.204812200445879,
          9.101714184409694
         ],
         "xaxis": "x4",
         "y": [
          1.342674970626831,
          1.5209622383117676,
          1.0850721597671509,
          0.5287530422210693,
          0.5988355875015259,
          0.39141377806663513,
          0.3953656256198883,
          0.4225636422634125,
          0.496324360370636,
          0.4843041002750397,
          0.37670809030532837,
          0.4231017529964447,
          0.5911278128623962,
          0.6387702226638794,
          0.7589913010597229,
          0.6862189769744873,
          0.3060774803161621,
          3.0189099311828613,
          0.671506404876709
         ],
         "yaxis": "y4"
        }
       ],
       "layout": {
        "annotations": [
         {
          "font": {
           "size": 16
          },
          "showarrow": false,
          "text": "Training/Validation Loss",
          "x": 0.225,
          "xanchor": "center",
          "xref": "paper",
          "y": 1,
          "yanchor": "bottom",
          "yref": "paper"
         },
         {
          "font": {
           "size": 16
          },
          "showarrow": false,
          "text": "Predictions vs Ground Truth (Test)",
          "x": 0.775,
          "xanchor": "center",
          "xref": "paper",
          "y": 1,
          "yanchor": "bottom",
          "yref": "paper"
         },
         {
          "font": {
           "size": 16
          },
          "showarrow": false,
          "text": "Residuals Histogram (Test)",
          "x": 0.225,
          "xanchor": "center",
          "xref": "paper",
          "y": 0.375,
          "yanchor": "bottom",
          "yref": "paper"
         },
         {
          "font": {
           "size": 16
          },
          "showarrow": false,
          "text": "MAE over Bins (Test)",
          "x": 0.775,
          "xanchor": "center",
          "xref": "paper",
          "y": 0.375,
          "yanchor": "bottom",
          "yref": "paper"
         }
        ],
        "height": 800,
        "showlegend": true,
        "template": {
         "data": {
          "bar": [
           {
            "error_x": {
             "color": "#2a3f5f"
            },
            "error_y": {
             "color": "#2a3f5f"
            },
            "marker": {
             "line": {
              "color": "#E5ECF6",
              "width": 0.5
             },
             "pattern": {
              "fillmode": "overlay",
              "size": 10,
              "solidity": 0.2
             }
            },
            "type": "bar"
           }
          ],
          "barpolar": [
           {
            "marker": {
             "line": {
              "color": "#E5ECF6",
              "width": 0.5
             },
             "pattern": {
              "fillmode": "overlay",
              "size": 10,
              "solidity": 0.2
             }
            },
            "type": "barpolar"
           }
          ],
          "carpet": [
           {
            "aaxis": {
             "endlinecolor": "#2a3f5f",
             "gridcolor": "white",
             "linecolor": "white",
             "minorgridcolor": "white",
             "startlinecolor": "#2a3f5f"
            },
            "baxis": {
             "endlinecolor": "#2a3f5f",
             "gridcolor": "white",
             "linecolor": "white",
             "minorgridcolor": "white",
             "startlinecolor": "#2a3f5f"
            },
            "type": "carpet"
           }
          ],
          "choropleth": [
           {
            "colorbar": {
             "outlinewidth": 0,
             "ticks": ""
            },
            "type": "choropleth"
           }
          ],
          "contour": [
           {
            "colorbar": {
             "outlinewidth": 0,
             "ticks": ""
            },
            "colorscale": [
             [
              0,
              "#0d0887"
             ],
             [
              0.1111111111111111,
              "#46039f"
             ],
             [
              0.2222222222222222,
              "#7201a8"
             ],
             [
              0.3333333333333333,
              "#9c179e"
             ],
             [
              0.4444444444444444,
              "#bd3786"
             ],
             [
              0.5555555555555556,
              "#d8576b"
             ],
             [
              0.6666666666666666,
              "#ed7953"
             ],
             [
              0.7777777777777778,
              "#fb9f3a"
             ],
             [
              0.8888888888888888,
              "#fdca26"
             ],
             [
              1,
              "#f0f921"
             ]
            ],
            "type": "contour"
           }
          ],
          "contourcarpet": [
           {
            "colorbar": {
             "outlinewidth": 0,
             "ticks": ""
            },
            "type": "contourcarpet"
           }
          ],
          "heatmap": [
           {
            "colorbar": {
             "outlinewidth": 0,
             "ticks": ""
            },
            "colorscale": [
             [
              0,
              "#0d0887"
             ],
             [
              0.1111111111111111,
              "#46039f"
             ],
             [
              0.2222222222222222,
              "#7201a8"
             ],
             [
              0.3333333333333333,
              "#9c179e"
             ],
             [
              0.4444444444444444,
              "#bd3786"
             ],
             [
              0.5555555555555556,
              "#d8576b"
             ],
             [
              0.6666666666666666,
              "#ed7953"
             ],
             [
              0.7777777777777778,
              "#fb9f3a"
             ],
             [
              0.8888888888888888,
              "#fdca26"
             ],
             [
              1,
              "#f0f921"
             ]
            ],
            "type": "heatmap"
           }
          ],
          "histogram": [
           {
            "marker": {
             "pattern": {
              "fillmode": "overlay",
              "size": 10,
              "solidity": 0.2
             }
            },
            "type": "histogram"
           }
          ],
          "histogram2d": [
           {
            "colorbar": {
             "outlinewidth": 0,
             "ticks": ""
            },
            "colorscale": [
             [
              0,
              "#0d0887"
             ],
             [
              0.1111111111111111,
              "#46039f"
             ],
             [
              0.2222222222222222,
              "#7201a8"
             ],
             [
              0.3333333333333333,
              "#9c179e"
             ],
             [
              0.4444444444444444,
              "#bd3786"
             ],
             [
              0.5555555555555556,
              "#d8576b"
             ],
             [
              0.6666666666666666,
              "#ed7953"
             ],
             [
              0.7777777777777778,
              "#fb9f3a"
             ],
             [
              0.8888888888888888,
              "#fdca26"
             ],
             [
              1,
              "#f0f921"
             ]
            ],
            "type": "histogram2d"
           }
          ],
          "histogram2dcontour": [
           {
            "colorbar": {
             "outlinewidth": 0,
             "ticks": ""
            },
            "colorscale": [
             [
              0,
              "#0d0887"
             ],
             [
              0.1111111111111111,
              "#46039f"
             ],
             [
              0.2222222222222222,
              "#7201a8"
             ],
             [
              0.3333333333333333,
              "#9c179e"
             ],
             [
              0.4444444444444444,
              "#bd3786"
             ],
             [
              0.5555555555555556,
              "#d8576b"
             ],
             [
              0.6666666666666666,
              "#ed7953"
             ],
             [
              0.7777777777777778,
              "#fb9f3a"
             ],
             [
              0.8888888888888888,
              "#fdca26"
             ],
             [
              1,
              "#f0f921"
             ]
            ],
            "type": "histogram2dcontour"
           }
          ],
          "mesh3d": [
           {
            "colorbar": {
             "outlinewidth": 0,
             "ticks": ""
            },
            "type": "mesh3d"
           }
          ],
          "parcoords": [
           {
            "line": {
             "colorbar": {
              "outlinewidth": 0,
              "ticks": ""
             }
            },
            "type": "parcoords"
           }
          ],
          "pie": [
           {
            "automargin": true,
            "type": "pie"
           }
          ],
          "scatter": [
           {
            "fillpattern": {
             "fillmode": "overlay",
             "size": 10,
             "solidity": 0.2
            },
            "type": "scatter"
           }
          ],
          "scatter3d": [
           {
            "line": {
             "colorbar": {
              "outlinewidth": 0,
              "ticks": ""
             }
            },
            "marker": {
             "colorbar": {
              "outlinewidth": 0,
              "ticks": ""
             }
            },
            "type": "scatter3d"
           }
          ],
          "scattercarpet": [
           {
            "marker": {
             "colorbar": {
              "outlinewidth": 0,
              "ticks": ""
             }
            },
            "type": "scattercarpet"
           }
          ],
          "scattergeo": [
           {
            "marker": {
             "colorbar": {
              "outlinewidth": 0,
              "ticks": ""
             }
            },
            "type": "scattergeo"
           }
          ],
          "scattergl": [
           {
            "marker": {
             "colorbar": {
              "outlinewidth": 0,
              "ticks": ""
             }
            },
            "type": "scattergl"
           }
          ],
          "scattermap": [
           {
            "marker": {
             "colorbar": {
              "outlinewidth": 0,
              "ticks": ""
             }
            },
            "type": "scattermap"
           }
          ],
          "scattermapbox": [
           {
            "marker": {
             "colorbar": {
              "outlinewidth": 0,
              "ticks": ""
             }
            },
            "type": "scattermapbox"
           }
          ],
          "scatterpolar": [
           {
            "marker": {
             "colorbar": {
              "outlinewidth": 0,
              "ticks": ""
             }
            },
            "type": "scatterpolar"
           }
          ],
          "scatterpolargl": [
           {
            "marker": {
             "colorbar": {
              "outlinewidth": 0,
              "ticks": ""
             }
            },
            "type": "scatterpolargl"
           }
          ],
          "scatterternary": [
           {
            "marker": {
             "colorbar": {
              "outlinewidth": 0,
              "ticks": ""
             }
            },
            "type": "scatterternary"
           }
          ],
          "surface": [
           {
            "colorbar": {
             "outlinewidth": 0,
             "ticks": ""
            },
            "colorscale": [
             [
              0,
              "#0d0887"
             ],
             [
              0.1111111111111111,
              "#46039f"
             ],
             [
              0.2222222222222222,
              "#7201a8"
             ],
             [
              0.3333333333333333,
              "#9c179e"
             ],
             [
              0.4444444444444444,
              "#bd3786"
             ],
             [
              0.5555555555555556,
              "#d8576b"
             ],
             [
              0.6666666666666666,
              "#ed7953"
             ],
             [
              0.7777777777777778,
              "#fb9f3a"
             ],
             [
              0.8888888888888888,
              "#fdca26"
             ],
             [
              1,
              "#f0f921"
             ]
            ],
            "type": "surface"
           }
          ],
          "table": [
           {
            "cells": {
             "fill": {
              "color": "#EBF0F8"
             },
             "line": {
              "color": "white"
             }
            },
            "header": {
             "fill": {
              "color": "#C8D4E3"
             },
             "line": {
              "color": "white"
             }
            },
            "type": "table"
           }
          ]
         },
         "layout": {
          "annotationdefaults": {
           "arrowcolor": "#2a3f5f",
           "arrowhead": 0,
           "arrowwidth": 1
          },
          "autotypenumbers": "strict",
          "coloraxis": {
           "colorbar": {
            "outlinewidth": 0,
            "ticks": ""
           }
          },
          "colorscale": {
           "diverging": [
            [
             0,
             "#8e0152"
            ],
            [
             0.1,
             "#c51b7d"
            ],
            [
             0.2,
             "#de77ae"
            ],
            [
             0.3,
             "#f1b6da"
            ],
            [
             0.4,
             "#fde0ef"
            ],
            [
             0.5,
             "#f7f7f7"
            ],
            [
             0.6,
             "#e6f5d0"
            ],
            [
             0.7,
             "#b8e186"
            ],
            [
             0.8,
             "#7fbc41"
            ],
            [
             0.9,
             "#4d9221"
            ],
            [
             1,
             "#276419"
            ]
           ],
           "sequential": [
            [
             0,
             "#0d0887"
            ],
            [
             0.1111111111111111,
             "#46039f"
            ],
            [
             0.2222222222222222,
             "#7201a8"
            ],
            [
             0.3333333333333333,
             "#9c179e"
            ],
            [
             0.4444444444444444,
             "#bd3786"
            ],
            [
             0.5555555555555556,
             "#d8576b"
            ],
            [
             0.6666666666666666,
             "#ed7953"
            ],
            [
             0.7777777777777778,
             "#fb9f3a"
            ],
            [
             0.8888888888888888,
             "#fdca26"
            ],
            [
             1,
             "#f0f921"
            ]
           ],
           "sequentialminus": [
            [
             0,
             "#0d0887"
            ],
            [
             0.1111111111111111,
             "#46039f"
            ],
            [
             0.2222222222222222,
             "#7201a8"
            ],
            [
             0.3333333333333333,
             "#9c179e"
            ],
            [
             0.4444444444444444,
             "#bd3786"
            ],
            [
             0.5555555555555556,
             "#d8576b"
            ],
            [
             0.6666666666666666,
             "#ed7953"
            ],
            [
             0.7777777777777778,
             "#fb9f3a"
            ],
            [
             0.8888888888888888,
             "#fdca26"
            ],
            [
             1,
             "#f0f921"
            ]
           ]
          },
          "colorway": [
           "#636efa",
           "#EF553B",
           "#00cc96",
           "#ab63fa",
           "#FFA15A",
           "#19d3f3",
           "#FF6692",
           "#B6E880",
           "#FF97FF",
           "#FECB52"
          ],
          "font": {
           "color": "#2a3f5f"
          },
          "geo": {
           "bgcolor": "white",
           "lakecolor": "white",
           "landcolor": "#E5ECF6",
           "showlakes": true,
           "showland": true,
           "subunitcolor": "white"
          },
          "hoverlabel": {
           "align": "left"
          },
          "hovermode": "closest",
          "mapbox": {
           "style": "light"
          },
          "paper_bgcolor": "white",
          "plot_bgcolor": "#E5ECF6",
          "polar": {
           "angularaxis": {
            "gridcolor": "white",
            "linecolor": "white",
            "ticks": ""
           },
           "bgcolor": "#E5ECF6",
           "radialaxis": {
            "gridcolor": "white",
            "linecolor": "white",
            "ticks": ""
           }
          },
          "scene": {
           "xaxis": {
            "backgroundcolor": "#E5ECF6",
            "gridcolor": "white",
            "gridwidth": 2,
            "linecolor": "white",
            "showbackground": true,
            "ticks": "",
            "zerolinecolor": "white"
           },
           "yaxis": {
            "backgroundcolor": "#E5ECF6",
            "gridcolor": "white",
            "gridwidth": 2,
            "linecolor": "white",
            "showbackground": true,
            "ticks": "",
            "zerolinecolor": "white"
           },
           "zaxis": {
            "backgroundcolor": "#E5ECF6",
            "gridcolor": "white",
            "gridwidth": 2,
            "linecolor": "white",
            "showbackground": true,
            "ticks": "",
            "zerolinecolor": "white"
           }
          },
          "shapedefaults": {
           "line": {
            "color": "#2a3f5f"
           }
          },
          "ternary": {
           "aaxis": {
            "gridcolor": "white",
            "linecolor": "white",
            "ticks": ""
           },
           "baxis": {
            "gridcolor": "white",
            "linecolor": "white",
            "ticks": ""
           },
           "bgcolor": "#E5ECF6",
           "caxis": {
            "gridcolor": "white",
            "linecolor": "white",
            "ticks": ""
           }
          },
          "title": {
           "x": 0.05
          },
          "xaxis": {
           "automargin": true,
           "gridcolor": "white",
           "linecolor": "white",
           "ticks": "",
           "title": {
            "standoff": 15
           },
           "zerolinecolor": "white",
           "zerolinewidth": 2
          },
          "yaxis": {
           "automargin": true,
           "gridcolor": "white",
           "linecolor": "white",
           "ticks": "",
           "title": {
            "standoff": 15
           },
           "zerolinecolor": "white",
           "zerolinewidth": 2
          }
         }
        },
        "title": {
         "text": "Feed-Forward Regression Results"
        },
        "xaxis": {
         "anchor": "y",
         "domain": [
          0,
          0.45
         ],
         "title": {
          "text": "Epoch"
         }
        },
        "xaxis2": {
         "anchor": "y2",
         "domain": [
          0.55,
          1
         ],
         "title": {
          "text": "True"
         }
        },
        "xaxis3": {
         "anchor": "y3",
         "domain": [
          0,
          0.45
         ],
         "title": {
          "text": "Residual"
         }
        },
        "xaxis4": {
         "anchor": "y4",
         "domain": [
          0.55,
          1
         ],
         "title": {
          "text": "Target (bin center)"
         }
        },
        "yaxis": {
         "anchor": "x",
         "domain": [
          0.625,
          1
         ],
         "title": {
          "text": "Loss"
         }
        },
        "yaxis2": {
         "anchor": "x2",
         "domain": [
          0.625,
          1
         ],
         "title": {
          "text": "Predicted"
         }
        },
        "yaxis3": {
         "anchor": "x3",
         "domain": [
          0,
          0.375
         ],
         "title": {
          "text": "Frequency"
         }
        },
        "yaxis4": {
         "anchor": "x4",
         "domain": [
          0,
          0.375
         ],
         "title": {
          "text": "MAE"
         }
        }
       }
      }
     },
     "metadata": {},
     "output_type": "display_data"
    },
    {
     "name": "stdout",
     "output_type": "stream",
     "text": [
      "✅ Visualizations created successfully!\n"
     ]
    }
   ],
   "source": [
    "print(\"📊 Creating visualizations...\")\n",
    "\n",
    "# Loss curves\n",
    "hist_loss = history.history.get(\"loss\", [])\n",
    "hist_val_loss = history.history.get(\"val_loss\", [])\n",
    "\n",
    "# Residuals (test)\n",
    "residuals = (y_test - y_pred_test)\n",
    "\n",
    "fig = make_subplots(\n",
    "    rows=2, cols=2,\n",
    "    subplot_titles=(\n",
    "        \"Training/Validation Loss\",\n",
    "        \"Predictions vs Ground Truth (Test)\",\n",
    "        \"Residuals Histogram (Test)\",\n",
    "        \"MAE over Bins (Test)\"\n",
    "    ),\n",
    "    specs=[[{\"type\": \"scatter\"}, {\"type\": \"scatter\"}],\n",
    "           [{\"type\": \"histogram\"}, {\"type\": \"bar\"}]]\n",
    ")\n",
    "\n",
    "# Plot 1: Loss curves\n",
    "fig.add_scatter(y=hist_loss, mode=\"lines\", name=\"loss\", row=1, col=1)\n",
    "fig.add_scatter(y=hist_val_loss, mode=\"lines\", name=\"val_loss\", row=1, col=1)\n",
    "\n",
    "# Plot 2: Predictions vs truth (downsample for display if large)\n",
    "idx = np.random.choice(len(y_test), size=min(400, len(y_test)), replace=False)\n",
    "fig.add_scatter(\n",
    "    x=y_test[idx], y=y_pred_test[idx], mode=\"markers\", name=\"pred vs true\",\n",
    "    row=1, col=2\n",
    ")\n",
    "# Diagonal reference line\n",
    "min_v = float(min(y_test.min(), y_pred_test.min()))\n",
    "max_v = float(max(y_test.max(), y_pred_test.max()))\n",
    "fig.add_scatter(x=[min_v, max_v], y=[min_v, max_v], mode=\"lines\", name=\"ideal\", row=1, col=2)\n",
    "\n",
    "# Plot 3: Residuals histogram\n",
    "fig.add_histogram(x=residuals, nbinsx=40, name=\"residuals\", row=2, col=1)\n",
    "\n",
    "# Plot 4: MAE over bins\n",
    "bins = np.linspace(min_v, max_v, 20)\n",
    "bin_indices = np.digitize(y_test, bins)\n",
    "mae_per_bin = []\n",
    "centers = []\n",
    "for b in range(1, len(bins)):\n",
    "    mask = bin_indices == b\n",
    "    if np.any(mask):\n",
    "        mae_per_bin.append(np.mean(np.abs(y_test[mask] - y_pred_test[mask])))\n",
    "        centers.append((bins[b] + bins[b-1]) / 2)\n",
    "    else:\n",
    "        mae_per_bin.append(0.0)\n",
    "        centers.append((bins[b] + bins[b-1]) / 2)\n",
    "\n",
    "fig.add_bar(x=centers, y=mae_per_bin, name=\"MAE per bin\", row=2, col=2)\n",
    "\n",
    "fig.update_layout(height=800, title_text=\"Feed-Forward Regression Results\", showlegend=True)\n",
    "fig.update_xaxes(title_text=\"Epoch\", row=1, col=1)\n",
    "fig.update_yaxes(title_text=\"Loss\", row=1, col=1)\n",
    "fig.update_xaxes(title_text=\"True\", row=1, col=2)\n",
    "fig.update_yaxes(title_text=\"Predicted\", row=1, col=2)\n",
    "fig.update_xaxes(title_text=\"Residual\", row=2, col=1)\n",
    "fig.update_yaxes(title_text=\"Frequency\", row=2, col=1)\n",
    "fig.update_xaxes(title_text=\"Target (bin center)\", row=2, col=2)\n",
    "fig.update_yaxes(title_text=\"MAE\", row=2, col=2)\n",
    "\n",
    "fig.show()\n",
    "print(\"✅ Visualizations created successfully!\")\n"
   ]
  },
  {
   "cell_type": "markdown",
   "id": "88ef3601",
   "metadata": {},
   "source": [
    "## 6. Model Serialization and Loading\n",
    "We will save the model in Keras format and validate that a loaded model produces consistent predictions.\n"
   ]
  },
  {
   "cell_type": "code",
   "execution_count": 6,
   "id": "2cdc8d7b",
   "metadata": {},
   "outputs": [
    {
     "name": "stderr",
     "output_type": "stream",
     "text": [
      "\u001b[32m2025-10-30 15:48:16.490\u001b[0m | \u001b[1mINFO    \u001b[0m | \u001b[36mkmr.models.feed_forward\u001b[0m:\u001b[36m__init__\u001b[0m:\u001b[36m85\u001b[0m - \u001b[1m🏗️ Initializing Feed Forward Neural Network\u001b[0m\n",
      "\u001b[32m2025-10-30 15:48:16.490\u001b[0m | \u001b[1mINFO    \u001b[0m | \u001b[36mkmr.models.feed_forward\u001b[0m:\u001b[36m__init__\u001b[0m:\u001b[36m86\u001b[0m - \u001b[1m📊 Model Architecture: [128, 64, 32] -> 1\u001b[0m\n",
      "\u001b[32m2025-10-30 15:48:16.490\u001b[0m | \u001b[1mINFO    \u001b[0m | \u001b[36mkmr.models.feed_forward\u001b[0m:\u001b[36m__init__\u001b[0m:\u001b[36m87\u001b[0m - \u001b[1m🔄 Input Features: ['feature_0', 'feature_1', 'feature_2', 'feature_3', 'feature_4', 'feature_5', 'feature_6', 'feature_7', 'feature_8', 'feature_9', 'feature_10', 'feature_11']\u001b[0m\n",
      "\u001b[32m2025-10-30 15:48:16.493\u001b[0m | \u001b[34m\u001b[1mDEBUG   \u001b[0m | \u001b[36mkmr.models.feed_forward\u001b[0m:\u001b[36m__init__\u001b[0m:\u001b[36m93\u001b[0m - \u001b[34m\u001b[1m✨ Created input layers for features: ['feature_0', 'feature_1', 'feature_2', 'feature_3', 'feature_4', 'feature_5', 'feature_6', 'feature_7', 'feature_8', 'feature_9', 'feature_10', 'feature_11']\u001b[0m\n",
      "\u001b[32m2025-10-30 15:48:16.494\u001b[0m | \u001b[34m\u001b[1mDEBUG   \u001b[0m | \u001b[36mkmr.models.feed_forward\u001b[0m:\u001b[36m__init__\u001b[0m:\u001b[36m97\u001b[0m - \u001b[34m\u001b[1m✨ Created concatenation layer\u001b[0m\n",
      "\u001b[32m2025-10-30 15:48:16.494\u001b[0m | \u001b[34m\u001b[1mDEBUG   \u001b[0m | \u001b[36mkmr.models.feed_forward\u001b[0m:\u001b[36m__init__\u001b[0m:\u001b[36m102\u001b[0m - \u001b[34m\u001b[1m✨ Adding hidden layer 1 with 128 units\u001b[0m\n",
      "\u001b[32m2025-10-30 15:48:16.496\u001b[0m | \u001b[34m\u001b[1mDEBUG   \u001b[0m | \u001b[36mkmr.models.feed_forward\u001b[0m:\u001b[36m__init__\u001b[0m:\u001b[36m102\u001b[0m - \u001b[34m\u001b[1m✨ Adding hidden layer 2 with 64 units\u001b[0m\n",
      "\u001b[32m2025-10-30 15:48:16.497\u001b[0m | \u001b[34m\u001b[1mDEBUG   \u001b[0m | \u001b[36mkmr.models.feed_forward\u001b[0m:\u001b[36m__init__\u001b[0m:\u001b[36m102\u001b[0m - \u001b[34m\u001b[1m✨ Adding hidden layer 3 with 32 units\u001b[0m\n",
      "\u001b[32m2025-10-30 15:48:16.498\u001b[0m | \u001b[34m\u001b[1mDEBUG   \u001b[0m | \u001b[36mkmr.models.feed_forward\u001b[0m:\u001b[36m__init__\u001b[0m:\u001b[36m123\u001b[0m - \u001b[34m\u001b[1m✨ Adding output layer with 1 units\u001b[0m\n"
     ]
    },
    {
     "name": "stdout",
     "output_type": "stream",
     "text": [
      "💾 Testing Keras format serialization...\n",
      "✅ Model saved to: /var/folders/v8/4l9cyywn1x970gdc1v67r5480000gn/T/tmpjp0bhir7/feed_forward_demo.keras\n",
      "✅ Model loaded successfully!\n",
      "🔍 Mean absolute difference between original and loaded predictions: 0.000000\n",
      "✅ Loaded model prediction check completed!\n"
     ]
    }
   ],
   "source": [
    "print(\"💾 Testing Keras format serialization...\")\n",
    "\n",
    "with tempfile.TemporaryDirectory() as temp_dir:\n",
    "    keras_path = os.path.join(temp_dir, \"feed_forward_demo.keras\")\n",
    "\n",
    "    # Save\n",
    "    model.save(keras_path)\n",
    "    print(f\"✅ Model saved to: {keras_path}\")\n",
    "\n",
    "    # Load\n",
    "    loaded_model = keras.models.load_model(keras_path)\n",
    "    print(\"✅ Model loaded successfully!\")\n",
    "\n",
    "    # Compare predictions on a small slice\n",
    "    sl = slice(0, 64)\n",
    "    preds_orig = model.predict({k: v[sl] for k, v in X_test_dict.items()}, verbose=0)\n",
    "    preds_loaded = loaded_model.predict({k: v[sl] for k, v in X_test_dict.items()}, verbose=0)\n",
    "\n",
    "    # Report similarity\n",
    "    diff = np.mean(np.abs(preds_orig - preds_loaded))\n",
    "    print(f\"🔍 Mean absolute difference between original and loaded predictions: {float(diff):.6f}\")\n",
    "    print(\"✅ Loaded model prediction check completed!\")\n"
   ]
  },
  {
   "cell_type": "markdown",
   "id": "d3b79075",
   "metadata": {},
   "source": [
    "## 7. Summary\n",
    "\n",
    "- Trained `BaseFeedForwardModel` on synthetic regression data with 12 features.\n",
    "- Achieved regression metrics (reported above) on validation and test sets.\n",
    "- Visualized loss curves, predictions vs. truth, and residuals.\n",
    "- Saved and loaded model in Keras format; verified prediction consistency.\n",
    "\n",
    "This notebook mirrors the style of the autoencoder end-to-end test and showcases the feed-forward workflow.\n"
   ]
  }
 ],
 "metadata": {
  "kernelspec": {
   "display_name": "kmr-S1SSCx8j-py3.12",
   "language": "python",
   "name": "python3"
  },
  "language_info": {
   "codemirror_mode": {
    "name": "ipython",
    "version": 3
   },
   "file_extension": ".py",
   "mimetype": "text/x-python",
   "name": "python",
   "nbconvert_exporter": "python",
   "pygments_lexer": "ipython3",
   "version": "3.12.4"
  }
 },
 "nbformat": 4,
 "nbformat_minor": 5
}
