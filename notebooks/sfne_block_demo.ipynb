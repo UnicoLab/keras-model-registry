{
  "cells": [
    {
      "cell_type": "markdown",
      "metadata": {},
      "source": [
        "# SFNEBlock Demo\n",
        "\n",
        "This notebook demonstrates the complete functionality of the KMR SFNEBlock (Sparse Feature Network Ensemble), including:\n",
        "- Model creation and configuration\n",
        "- Training and evaluation\n",
        "- Ensemble learning capabilities\n",
        "- Performance visualization\n",
        "\n",
        "## Setup and Imports\n"
      ]
    },
    {
      "cell_type": "code",
      "execution_count": 1,
      "metadata": {},
      "outputs": [
        {
          "name": "stdout",
          "output_type": "stream",
          "text": [
            "✅ All imports successful!\n",
            "TensorFlow version: 2.18.0\n",
            "Keras version: 3.8.0\n"
          ]
        }
      ],
      "source": [
        "import numpy as np\n",
        "import plotly.graph_objects as go\n",
        "import tensorflow as tf\n",
        "import keras\n",
        "import warnings\n",
        "warnings.filterwarnings('ignore')\n",
        "\n",
        "# Import KMR models and utilities\n",
        "from kmr.models import SFNEBlock\n",
        "from kmr.utils import KMRPlotter, KMRDataGenerator\n",
        "\n",
        "print(\"✅ All imports successful!\")\n",
        "print(f\"TensorFlow version: {tf.__version__}\")\n",
        "print(f\"Keras version: {keras.__version__}\")\n"
      ]
    },
    {
      "cell_type": "markdown",
      "metadata": {},
      "source": [
        "## 1. Generate Synthetic Data\n",
        "\n",
        "We'll create a classification dataset to demonstrate SFNEBlock's capabilities.\n"
      ]
    },
    {
      "cell_type": "code",
      "execution_count": 2,
      "metadata": {},
      "outputs": [
        {
          "name": "stdout",
          "output_type": "stream",
          "text": [
            "Training data shape: (1600, 20)\n",
            "Test data shape: (400, 20)\n",
            "Class distribution: [801 799]\n"
          ]
        }
      ],
      "source": [
        "# Generate synthetic classification data using KMR data generator\n",
        "X_train, X_test, y_train, y_test = KMRDataGenerator.generate_classification_data(\n",
        "    n_samples=2000,\n",
        "    n_features=20,\n",
        "    n_classes=2,\n",
        "    noise_level=0.1,\n",
        "    include_interactions=True,\n",
        "    include_nonlinear=True\n",
        ")\n",
        "\n",
        "print(f\"Training data shape: {X_train.shape}\")\n",
        "print(f\"Test data shape: {X_test.shape}\")\n",
        "print(f\"Class distribution: {np.bincount(y_train)}\")\n"
      ]
    },
    {
      "cell_type": "markdown",
      "metadata": {},
      "source": [
        "## 2. SFNEBlock Model Creation and Training\n",
        " ()"
      ]
    },
    {
      "cell_type": "code",
      "execution_count": 3,
      "metadata": {},
      "outputs": [
        {
          "name": "stderr",
          "output_type": "stream",
          "text": [
            "\u001b[32m2025-10-30 16:33:32.863\u001b[0m | \u001b[34m\u001b[1mDEBUG   \u001b[0m | \u001b[36mkmr.layers._base_layer\u001b[0m:\u001b[36m_log_initialization\u001b[0m:\u001b[36m73\u001b[0m - \u001b[34m\u001b[1mInitialized SlowNetwork with parameters: {'name': 'slow_network', 'trainable': True, 'dtype': {'module': 'keras', 'class_name': 'DTypePolicy', 'config': {'name': 'float32'}, 'registered_name': None}, 'input_dim': 20, 'num_layers': 2, 'units': 32}\u001b[0m\n",
            "\u001b[32m2025-10-30 16:33:32.864\u001b[0m | \u001b[34m\u001b[1mDEBUG   \u001b[0m | \u001b[36mkmr.layers._base_layer\u001b[0m:\u001b[36m_log_initialization\u001b[0m:\u001b[36m73\u001b[0m - \u001b[34m\u001b[1mInitialized HyperZZWOperator with parameters: {'name': 'hyper_zzw_operator', 'trainable': True, 'dtype': {'module': 'keras', 'class_name': 'DTypePolicy', 'config': {'name': 'float32'}, 'registered_name': None}, 'input_dim': 64, 'context_dim': None}\u001b[0m\n"
          ]
        },
        {
          "name": "stdout",
          "output_type": "stream",
          "text": [
            "✅ SFNEBlock created successfully!\n",
            "Input dimension: 20\n",
            "Output dimension: 1\n",
            "Hidden dimension: 64\n",
            "Number of layers: 2\n",
            "Slow network units: 32\n",
            "Slow network layers: 2\n",
            "✅ Model compiled successfully!\n"
          ]
        }
      ],
      "source": [
        "# Create SFNEBlock model with correct parameters\n",
        "n_features = X_train.shape[1]\n",
        "\n",
        "model = SFNEBlock(\n",
        "    input_dim=n_features,\n",
        "    output_dim=1,  # Binary classification\n",
        "    hidden_dim=64,\n",
        "    num_layers=2,\n",
        "    slow_network_units=32,\n",
        "    slow_network_layers=2\n",
        ")\n",
        "\n",
        "print(\"✅ SFNEBlock created successfully!\")\n",
        "print(f\"Input dimension: {model.input_dim}\")\n",
        "print(f\"Output dimension: {model.output_dim}\")\n",
        "print(f\"Hidden dimension: {model.hidden_dim}\")\n",
        "print(f\"Number of layers: {model.num_layers}\")\n",
        "print(f\"Slow network units: {model.slow_network_units}\")\n",
        "print(f\"Slow network layers: {model.slow_network_layers}\")\n",
        "\n",
        "# Compile the model\n",
        "model.compile(\n",
        "    optimizer=\"adam\",\n",
        "    loss=\"binary_crossentropy\",\n",
        "    metrics=[\"accuracy\", \"precision\", \"recall\"]\n",
        ")\n",
        "\n",
        "print(\"✅ Model compiled successfully!\")\n"
      ]
    },
    {
      "cell_type": "code",
      "execution_count": 5,
      "metadata": {},
      "outputs": [
        {
          "name": "stdout",
          "output_type": "stream",
          "text": [
            "🚀 Starting training...\n",
            "Epoch 1/30\n"
          ]
        },
        {
          "name": "stderr",
          "output_type": "stream",
          "text": [
            "\u001b[32m2025-10-30 16:34:21.011\u001b[0m | \u001b[34m\u001b[1mDEBUG   \u001b[0m | \u001b[36mkmr.models.SFNEBlock\u001b[0m:\u001b[36mcall\u001b[0m:\u001b[36m176\u001b[0m - \u001b[34m\u001b[1mSFNEBlock input shape: (64, 20)\u001b[0m\n",
            "\u001b[32m2025-10-30 16:34:21.026\u001b[0m | \u001b[34m\u001b[1mDEBUG   \u001b[0m | \u001b[36mkmr.layers.SlowNetwork\u001b[0m:\u001b[36mbuild\u001b[0m:\u001b[36m106\u001b[0m - \u001b[34m\u001b[1mSlowNetwork built with input_dim=20, num_layers=2, units=32\u001b[0m\n",
            "\u001b[32m2025-10-30 16:34:21.026\u001b[0m | \u001b[34m\u001b[1mDEBUG   \u001b[0m | \u001b[36mkmr.layers.SlowNetwork\u001b[0m:\u001b[36mcall\u001b[0m:\u001b[36m122\u001b[0m - \u001b[34m\u001b[1mSlowNetwork input shape: (64, 64)\u001b[0m\n",
            "\u001b[32m2025-10-30 16:34:21.031\u001b[0m | \u001b[34m\u001b[1mDEBUG   \u001b[0m | \u001b[36mkmr.layers.SlowNetwork\u001b[0m:\u001b[36mcall\u001b[0m:\u001b[36m126\u001b[0m - \u001b[34m\u001b[1mSlowNetwork layer 0 output shape: (64, 32)\u001b[0m\n",
            "\u001b[32m2025-10-30 16:34:21.038\u001b[0m | \u001b[34m\u001b[1mDEBUG   \u001b[0m | \u001b[36mkmr.layers.SlowNetwork\u001b[0m:\u001b[36mcall\u001b[0m:\u001b[36m126\u001b[0m - \u001b[34m\u001b[1mSlowNetwork layer 1 output shape: (64, 32)\u001b[0m\n",
            "\u001b[32m2025-10-30 16:34:21.043\u001b[0m | \u001b[34m\u001b[1mDEBUG   \u001b[0m | \u001b[36mkmr.layers.SlowNetwork\u001b[0m:\u001b[36mcall\u001b[0m:\u001b[36m129\u001b[0m - \u001b[34m\u001b[1mSlowNetwork output shape: (64, 20)\u001b[0m\n",
            "\u001b[32m2025-10-30 16:34:21.043\u001b[0m | \u001b[34m\u001b[1mDEBUG   \u001b[0m | \u001b[36mkmr.models.SFNEBlock\u001b[0m:\u001b[36mcall\u001b[0m:\u001b[36m188\u001b[0m - \u001b[34m\u001b[1mSFNEBlock hyper_kernels shape: (64, 20)\u001b[0m\n",
            "\u001b[32m2025-10-30 16:34:21.044\u001b[0m | \u001b[34m\u001b[1mDEBUG   \u001b[0m | \u001b[36mkmr.layers.HyperZZWOperator\u001b[0m:\u001b[36mbuild\u001b[0m:\u001b[36m112\u001b[0m - \u001b[34m\u001b[1mHyperZZWOperator built with input_dim=64, context_dim=20\u001b[0m\n",
            "\u001b[32m2025-10-30 16:34:21.044\u001b[0m | \u001b[34m\u001b[1mDEBUG   \u001b[0m | \u001b[36mkmr.layers.HyperZZWOperator\u001b[0m:\u001b[36mcall\u001b[0m:\u001b[36m132\u001b[0m - \u001b[34m\u001b[1mHyperZZWOperator input_tensor shape: (64, 64)\u001b[0m\n",
            "\u001b[32m2025-10-30 16:34:21.044\u001b[0m | \u001b[34m\u001b[1mDEBUG   \u001b[0m | \u001b[36mkmr.layers.HyperZZWOperator\u001b[0m:\u001b[36mcall\u001b[0m:\u001b[36m133\u001b[0m - \u001b[34m\u001b[1mHyperZZWOperator context_tensor shape: (64, 20)\u001b[0m\n",
            "\u001b[32m2025-10-30 16:34:21.049\u001b[0m | \u001b[34m\u001b[1mDEBUG   \u001b[0m | \u001b[36mkmr.layers.HyperZZWOperator\u001b[0m:\u001b[36mcall\u001b[0m:\u001b[36m153\u001b[0m - \u001b[34m\u001b[1mHyperZZWOperator output shape: (64, 64)\u001b[0m\n",
            "\u001b[32m2025-10-30 16:34:21.050\u001b[0m | \u001b[34m\u001b[1mDEBUG   \u001b[0m | \u001b[36mkmr.models.SFNEBlock\u001b[0m:\u001b[36mcall\u001b[0m:\u001b[36m192\u001b[0m - \u001b[34m\u001b[1mSFNEBlock context_weights shape: (64, 64)\u001b[0m\n",
            "\u001b[32m2025-10-30 16:34:21.050\u001b[0m | \u001b[34m\u001b[1mDEBUG   \u001b[0m | \u001b[36mkmr.models.SFNEBlock\u001b[0m:\u001b[36mcall\u001b[0m:\u001b[36m196\u001b[0m - \u001b[34m\u001b[1mSFNEBlock context_weights_expanded shape: (64, 64, 1)\u001b[0m\n",
            "\u001b[32m2025-10-30 16:34:21.056\u001b[0m | \u001b[34m\u001b[1mDEBUG   \u001b[0m | \u001b[36mkmr.models.SFNEBlock\u001b[0m:\u001b[36mcall\u001b[0m:\u001b[36m202\u001b[0m - \u001b[34m\u001b[1mSFNEBlock global_output shape: (64, 64, 20)\u001b[0m\n",
            "\u001b[32m2025-10-30 16:34:21.061\u001b[0m | \u001b[34m\u001b[1mDEBUG   \u001b[0m | \u001b[36mkmr.models.SFNEBlock\u001b[0m:\u001b[36mcall\u001b[0m:\u001b[36m206\u001b[0m - \u001b[34m\u001b[1mSFNEBlock local_output shape: (64, 64, 20)\u001b[0m\n",
            "\u001b[32m2025-10-30 16:34:21.062\u001b[0m | \u001b[34m\u001b[1mDEBUG   \u001b[0m | \u001b[36mkmr.models.SFNEBlock\u001b[0m:\u001b[36mcall\u001b[0m:\u001b[36m210\u001b[0m - \u001b[34m\u001b[1mSFNEBlock combined_output shape: (64, 64, 40)\u001b[0m\n",
            "\u001b[32m2025-10-30 16:34:21.063\u001b[0m | \u001b[34m\u001b[1mDEBUG   \u001b[0m | \u001b[36mkmr.models.SFNEBlock\u001b[0m:\u001b[36mcall\u001b[0m:\u001b[36m217\u001b[0m - \u001b[34m\u001b[1mSFNEBlock combined_output_flat shape: (64, 2560)\u001b[0m\n",
            "\u001b[32m2025-10-30 16:34:21.069\u001b[0m | \u001b[34m\u001b[1mDEBUG   \u001b[0m | \u001b[36mkmr.models.SFNEBlock\u001b[0m:\u001b[36mcall\u001b[0m:\u001b[36m223\u001b[0m - \u001b[34m\u001b[1mSFNEBlock bottleneck_output shape: (64, 20)\u001b[0m\n",
            "\u001b[32m2025-10-30 16:34:21.073\u001b[0m | \u001b[34m\u001b[1mDEBUG   \u001b[0m | \u001b[36mkmr.models.SFNEBlock\u001b[0m:\u001b[36mcall\u001b[0m:\u001b[36m227\u001b[0m - \u001b[34m\u001b[1mSFNEBlock output_layer output shape: (64, 1)\u001b[0m\n",
            "\u001b[32m2025-10-30 16:34:21.088\u001b[0m | \u001b[34m\u001b[1mDEBUG   \u001b[0m | \u001b[36mkmr.models.SFNEBlock\u001b[0m:\u001b[36mcall\u001b[0m:\u001b[36m176\u001b[0m - \u001b[34m\u001b[1mSFNEBlock input shape: (64, 20)\u001b[0m\n",
            "\u001b[32m2025-10-30 16:34:21.096\u001b[0m | \u001b[34m\u001b[1mDEBUG   \u001b[0m | \u001b[36mkmr.layers.SlowNetwork\u001b[0m:\u001b[36mcall\u001b[0m:\u001b[36m122\u001b[0m - \u001b[34m\u001b[1mSlowNetwork input shape: (64, 64)\u001b[0m\n",
            "\u001b[32m2025-10-30 16:34:21.099\u001b[0m | \u001b[34m\u001b[1mDEBUG   \u001b[0m | \u001b[36mkmr.layers.SlowNetwork\u001b[0m:\u001b[36mcall\u001b[0m:\u001b[36m126\u001b[0m - \u001b[34m\u001b[1mSlowNetwork layer 0 output shape: (64, 32)\u001b[0m\n",
            "\u001b[32m2025-10-30 16:34:21.102\u001b[0m | \u001b[34m\u001b[1mDEBUG   \u001b[0m | \u001b[36mkmr.layers.SlowNetwork\u001b[0m:\u001b[36mcall\u001b[0m:\u001b[36m126\u001b[0m - \u001b[34m\u001b[1mSlowNetwork layer 1 output shape: (64, 32)\u001b[0m\n",
            "\u001b[32m2025-10-30 16:34:21.104\u001b[0m | \u001b[34m\u001b[1mDEBUG   \u001b[0m | \u001b[36mkmr.layers.SlowNetwork\u001b[0m:\u001b[36mcall\u001b[0m:\u001b[36m129\u001b[0m - \u001b[34m\u001b[1mSlowNetwork output shape: (64, 20)\u001b[0m\n",
            "\u001b[32m2025-10-30 16:34:21.104\u001b[0m | \u001b[34m\u001b[1mDEBUG   \u001b[0m | \u001b[36mkmr.models.SFNEBlock\u001b[0m:\u001b[36mcall\u001b[0m:\u001b[36m188\u001b[0m - \u001b[34m\u001b[1mSFNEBlock hyper_kernels shape: (64, 20)\u001b[0m\n",
            "\u001b[32m2025-10-30 16:34:21.104\u001b[0m | \u001b[34m\u001b[1mDEBUG   \u001b[0m | \u001b[36mkmr.layers.HyperZZWOperator\u001b[0m:\u001b[36mcall\u001b[0m:\u001b[36m132\u001b[0m - \u001b[34m\u001b[1mHyperZZWOperator input_tensor shape: (64, 64)\u001b[0m\n",
            "\u001b[32m2025-10-30 16:34:21.104\u001b[0m | \u001b[34m\u001b[1mDEBUG   \u001b[0m | \u001b[36mkmr.layers.HyperZZWOperator\u001b[0m:\u001b[36mcall\u001b[0m:\u001b[36m133\u001b[0m - \u001b[34m\u001b[1mHyperZZWOperator context_tensor shape: (64, 20)\u001b[0m\n",
            "\u001b[32m2025-10-30 16:34:21.106\u001b[0m | \u001b[34m\u001b[1mDEBUG   \u001b[0m | \u001b[36mkmr.layers.HyperZZWOperator\u001b[0m:\u001b[36mcall\u001b[0m:\u001b[36m153\u001b[0m - \u001b[34m\u001b[1mHyperZZWOperator output shape: (64, 64)\u001b[0m\n",
            "\u001b[32m2025-10-30 16:34:21.106\u001b[0m | \u001b[34m\u001b[1mDEBUG   \u001b[0m | \u001b[36mkmr.models.SFNEBlock\u001b[0m:\u001b[36mcall\u001b[0m:\u001b[36m192\u001b[0m - \u001b[34m\u001b[1mSFNEBlock context_weights shape: (64, 64)\u001b[0m\n",
            "\u001b[32m2025-10-30 16:34:21.107\u001b[0m | \u001b[34m\u001b[1mDEBUG   \u001b[0m | \u001b[36mkmr.models.SFNEBlock\u001b[0m:\u001b[36mcall\u001b[0m:\u001b[36m196\u001b[0m - \u001b[34m\u001b[1mSFNEBlock context_weights_expanded shape: (64, 64, 1)\u001b[0m\n",
            "\u001b[32m2025-10-30 16:34:21.111\u001b[0m | \u001b[34m\u001b[1mDEBUG   \u001b[0m | \u001b[36mkmr.models.SFNEBlock\u001b[0m:\u001b[36mcall\u001b[0m:\u001b[36m202\u001b[0m - \u001b[34m\u001b[1mSFNEBlock global_output shape: (64, 64, 20)\u001b[0m\n",
            "\u001b[32m2025-10-30 16:34:21.117\u001b[0m | \u001b[34m\u001b[1mDEBUG   \u001b[0m | \u001b[36mkmr.models.SFNEBlock\u001b[0m:\u001b[36mcall\u001b[0m:\u001b[36m206\u001b[0m - \u001b[34m\u001b[1mSFNEBlock local_output shape: (64, 64, 20)\u001b[0m\n",
            "\u001b[32m2025-10-30 16:34:21.118\u001b[0m | \u001b[34m\u001b[1mDEBUG   \u001b[0m | \u001b[36mkmr.models.SFNEBlock\u001b[0m:\u001b[36mcall\u001b[0m:\u001b[36m210\u001b[0m - \u001b[34m\u001b[1mSFNEBlock combined_output shape: (64, 64, 40)\u001b[0m\n",
            "\u001b[32m2025-10-30 16:34:21.119\u001b[0m | \u001b[34m\u001b[1mDEBUG   \u001b[0m | \u001b[36mkmr.models.SFNEBlock\u001b[0m:\u001b[36mcall\u001b[0m:\u001b[36m217\u001b[0m - \u001b[34m\u001b[1mSFNEBlock combined_output_flat shape: (64, 2560)\u001b[0m\n",
            "\u001b[32m2025-10-30 16:34:21.121\u001b[0m | \u001b[34m\u001b[1mDEBUG   \u001b[0m | \u001b[36mkmr.models.SFNEBlock\u001b[0m:\u001b[36mcall\u001b[0m:\u001b[36m223\u001b[0m - \u001b[34m\u001b[1mSFNEBlock bottleneck_output shape: (64, 20)\u001b[0m\n",
            "\u001b[32m2025-10-30 16:34:21.123\u001b[0m | \u001b[34m\u001b[1mDEBUG   \u001b[0m | \u001b[36mkmr.models.SFNEBlock\u001b[0m:\u001b[36mcall\u001b[0m:\u001b[36m227\u001b[0m - \u001b[34m\u001b[1mSFNEBlock output_layer output shape: (64, 1)\u001b[0m\n",
            "\u001b[32m2025-10-30 16:34:21.556\u001b[0m | \u001b[34m\u001b[1mDEBUG   \u001b[0m | \u001b[36mkmr.models.SFNEBlock\u001b[0m:\u001b[36mcall\u001b[0m:\u001b[36m176\u001b[0m - \u001b[34m\u001b[1mSFNEBlock input shape: (64, 20)\u001b[0m\n",
            "\u001b[32m2025-10-30 16:34:21.561\u001b[0m | \u001b[34m\u001b[1mDEBUG   \u001b[0m | \u001b[36mkmr.layers.SlowNetwork\u001b[0m:\u001b[36mcall\u001b[0m:\u001b[36m122\u001b[0m - \u001b[34m\u001b[1mSlowNetwork input shape: (64, 64)\u001b[0m\n",
            "\u001b[32m2025-10-30 16:34:21.563\u001b[0m | \u001b[34m\u001b[1mDEBUG   \u001b[0m | \u001b[36mkmr.layers.SlowNetwork\u001b[0m:\u001b[36mcall\u001b[0m:\u001b[36m126\u001b[0m - \u001b[34m\u001b[1mSlowNetwork layer 0 output shape: (64, 32)\u001b[0m\n",
            "\u001b[32m2025-10-30 16:34:21.565\u001b[0m | \u001b[34m\u001b[1mDEBUG   \u001b[0m | \u001b[36mkmr.layers.SlowNetwork\u001b[0m:\u001b[36mcall\u001b[0m:\u001b[36m126\u001b[0m - \u001b[34m\u001b[1mSlowNetwork layer 1 output shape: (64, 32)\u001b[0m\n",
            "\u001b[32m2025-10-30 16:34:21.566\u001b[0m | \u001b[34m\u001b[1mDEBUG   \u001b[0m | \u001b[36mkmr.layers.SlowNetwork\u001b[0m:\u001b[36mcall\u001b[0m:\u001b[36m129\u001b[0m - \u001b[34m\u001b[1mSlowNetwork output shape: (64, 20)\u001b[0m\n",
            "\u001b[32m2025-10-30 16:34:21.566\u001b[0m | \u001b[34m\u001b[1mDEBUG   \u001b[0m | \u001b[36mkmr.models.SFNEBlock\u001b[0m:\u001b[36mcall\u001b[0m:\u001b[36m188\u001b[0m - \u001b[34m\u001b[1mSFNEBlock hyper_kernels shape: (64, 20)\u001b[0m\n",
            "\u001b[32m2025-10-30 16:34:21.566\u001b[0m | \u001b[34m\u001b[1mDEBUG   \u001b[0m | \u001b[36mkmr.layers.HyperZZWOperator\u001b[0m:\u001b[36mcall\u001b[0m:\u001b[36m132\u001b[0m - \u001b[34m\u001b[1mHyperZZWOperator input_tensor shape: (64, 64)\u001b[0m\n",
            "\u001b[32m2025-10-30 16:34:21.567\u001b[0m | \u001b[34m\u001b[1mDEBUG   \u001b[0m | \u001b[36mkmr.layers.HyperZZWOperator\u001b[0m:\u001b[36mcall\u001b[0m:\u001b[36m133\u001b[0m - \u001b[34m\u001b[1mHyperZZWOperator context_tensor shape: (64, 20)\u001b[0m\n",
            "\u001b[32m2025-10-30 16:34:21.568\u001b[0m | \u001b[34m\u001b[1mDEBUG   \u001b[0m | \u001b[36mkmr.layers.HyperZZWOperator\u001b[0m:\u001b[36mcall\u001b[0m:\u001b[36m153\u001b[0m - \u001b[34m\u001b[1mHyperZZWOperator output shape: (64, 64)\u001b[0m\n",
            "\u001b[32m2025-10-30 16:34:21.568\u001b[0m | \u001b[34m\u001b[1mDEBUG   \u001b[0m | \u001b[36mkmr.models.SFNEBlock\u001b[0m:\u001b[36mcall\u001b[0m:\u001b[36m192\u001b[0m - \u001b[34m\u001b[1mSFNEBlock context_weights shape: (64, 64)\u001b[0m\n",
            "\u001b[32m2025-10-30 16:34:21.569\u001b[0m | \u001b[34m\u001b[1mDEBUG   \u001b[0m | \u001b[36mkmr.models.SFNEBlock\u001b[0m:\u001b[36mcall\u001b[0m:\u001b[36m196\u001b[0m - \u001b[34m\u001b[1mSFNEBlock context_weights_expanded shape: (64, 64, 1)\u001b[0m\n",
            "\u001b[32m2025-10-30 16:34:21.573\u001b[0m | \u001b[34m\u001b[1mDEBUG   \u001b[0m | \u001b[36mkmr.models.SFNEBlock\u001b[0m:\u001b[36mcall\u001b[0m:\u001b[36m202\u001b[0m - \u001b[34m\u001b[1mSFNEBlock global_output shape: (64, 64, 20)\u001b[0m\n",
            "\u001b[32m2025-10-30 16:34:21.577\u001b[0m | \u001b[34m\u001b[1mDEBUG   \u001b[0m | \u001b[36mkmr.models.SFNEBlock\u001b[0m:\u001b[36mcall\u001b[0m:\u001b[36m206\u001b[0m - \u001b[34m\u001b[1mSFNEBlock local_output shape: (64, 64, 20)\u001b[0m\n",
            "\u001b[32m2025-10-30 16:34:21.578\u001b[0m | \u001b[34m\u001b[1mDEBUG   \u001b[0m | \u001b[36mkmr.models.SFNEBlock\u001b[0m:\u001b[36mcall\u001b[0m:\u001b[36m210\u001b[0m - \u001b[34m\u001b[1mSFNEBlock combined_output shape: (64, 64, 40)\u001b[0m\n",
            "\u001b[32m2025-10-30 16:34:21.578\u001b[0m | \u001b[34m\u001b[1mDEBUG   \u001b[0m | \u001b[36mkmr.models.SFNEBlock\u001b[0m:\u001b[36mcall\u001b[0m:\u001b[36m217\u001b[0m - \u001b[34m\u001b[1mSFNEBlock combined_output_flat shape: (64, 2560)\u001b[0m\n",
            "\u001b[32m2025-10-30 16:34:21.581\u001b[0m | \u001b[34m\u001b[1mDEBUG   \u001b[0m | \u001b[36mkmr.models.SFNEBlock\u001b[0m:\u001b[36mcall\u001b[0m:\u001b[36m223\u001b[0m - \u001b[34m\u001b[1mSFNEBlock bottleneck_output shape: (64, 20)\u001b[0m\n",
            "\u001b[32m2025-10-30 16:34:21.582\u001b[0m | \u001b[34m\u001b[1mDEBUG   \u001b[0m | \u001b[36mkmr.models.SFNEBlock\u001b[0m:\u001b[36mcall\u001b[0m:\u001b[36m227\u001b[0m - \u001b[34m\u001b[1mSFNEBlock output_layer output shape: (64, 1)\u001b[0m\n"
          ]
        },
        {
          "name": "stdout",
          "output_type": "stream",
          "text": [
            "\u001b[1m 1/25\u001b[0m \u001b[37m━━━━━━━━━━━━━━━━━━━━\u001b[0m \u001b[1m22s\u001b[0m 948ms/step - accuracy: 0.4062 - loss: 8.6721 - precision: 0.0000e+00 - recall: 0.0000e+00"
          ]
        },
        {
          "name": "stderr",
          "output_type": "stream",
          "text": [
            "\u001b[32m2025-10-30 16:34:22.013\u001b[0m | \u001b[34m\u001b[1mDEBUG   \u001b[0m | \u001b[36mkmr.models.SFNEBlock\u001b[0m:\u001b[36mcall\u001b[0m:\u001b[36m176\u001b[0m - \u001b[34m\u001b[1mSFNEBlock input shape: (None, 20)\u001b[0m\n",
            "\u001b[32m2025-10-30 16:34:22.017\u001b[0m | \u001b[34m\u001b[1mDEBUG   \u001b[0m | \u001b[36mkmr.layers.SlowNetwork\u001b[0m:\u001b[36mcall\u001b[0m:\u001b[36m122\u001b[0m - \u001b[34m\u001b[1mSlowNetwork input shape: (None, 64)\u001b[0m\n",
            "\u001b[32m2025-10-30 16:34:22.019\u001b[0m | \u001b[34m\u001b[1mDEBUG   \u001b[0m | \u001b[36mkmr.layers.SlowNetwork\u001b[0m:\u001b[36mcall\u001b[0m:\u001b[36m126\u001b[0m - \u001b[34m\u001b[1mSlowNetwork layer 0 output shape: (None, 32)\u001b[0m\n",
            "\u001b[32m2025-10-30 16:34:22.021\u001b[0m | \u001b[34m\u001b[1mDEBUG   \u001b[0m | \u001b[36mkmr.layers.SlowNetwork\u001b[0m:\u001b[36mcall\u001b[0m:\u001b[36m126\u001b[0m - \u001b[34m\u001b[1mSlowNetwork layer 1 output shape: (None, 32)\u001b[0m\n",
            "\u001b[32m2025-10-30 16:34:22.023\u001b[0m | \u001b[34m\u001b[1mDEBUG   \u001b[0m | \u001b[36mkmr.layers.SlowNetwork\u001b[0m:\u001b[36mcall\u001b[0m:\u001b[36m129\u001b[0m - \u001b[34m\u001b[1mSlowNetwork output shape: (None, 20)\u001b[0m\n",
            "\u001b[32m2025-10-30 16:34:22.023\u001b[0m | \u001b[34m\u001b[1mDEBUG   \u001b[0m | \u001b[36mkmr.models.SFNEBlock\u001b[0m:\u001b[36mcall\u001b[0m:\u001b[36m188\u001b[0m - \u001b[34m\u001b[1mSFNEBlock hyper_kernels shape: (None, 20)\u001b[0m\n",
            "\u001b[32m2025-10-30 16:34:22.024\u001b[0m | \u001b[34m\u001b[1mDEBUG   \u001b[0m | \u001b[36mkmr.layers.HyperZZWOperator\u001b[0m:\u001b[36mcall\u001b[0m:\u001b[36m132\u001b[0m - \u001b[34m\u001b[1mHyperZZWOperator input_tensor shape: (None, 64)\u001b[0m\n",
            "\u001b[32m2025-10-30 16:34:22.024\u001b[0m | \u001b[34m\u001b[1mDEBUG   \u001b[0m | \u001b[36mkmr.layers.HyperZZWOperator\u001b[0m:\u001b[36mcall\u001b[0m:\u001b[36m133\u001b[0m - \u001b[34m\u001b[1mHyperZZWOperator context_tensor shape: (None, 20)\u001b[0m\n",
            "\u001b[32m2025-10-30 16:34:22.025\u001b[0m | \u001b[34m\u001b[1mDEBUG   \u001b[0m | \u001b[36mkmr.layers.HyperZZWOperator\u001b[0m:\u001b[36mcall\u001b[0m:\u001b[36m153\u001b[0m - \u001b[34m\u001b[1mHyperZZWOperator output shape: (None, 64)\u001b[0m\n",
            "\u001b[32m2025-10-30 16:34:22.025\u001b[0m | \u001b[34m\u001b[1mDEBUG   \u001b[0m | \u001b[36mkmr.models.SFNEBlock\u001b[0m:\u001b[36mcall\u001b[0m:\u001b[36m192\u001b[0m - \u001b[34m\u001b[1mSFNEBlock context_weights shape: (None, 64)\u001b[0m\n",
            "\u001b[32m2025-10-30 16:34:22.026\u001b[0m | \u001b[34m\u001b[1mDEBUG   \u001b[0m | \u001b[36mkmr.models.SFNEBlock\u001b[0m:\u001b[36mcall\u001b[0m:\u001b[36m196\u001b[0m - \u001b[34m\u001b[1mSFNEBlock context_weights_expanded shape: (None, 64, 1)\u001b[0m\n",
            "\u001b[32m2025-10-30 16:34:22.032\u001b[0m | \u001b[34m\u001b[1mDEBUG   \u001b[0m | \u001b[36mkmr.models.SFNEBlock\u001b[0m:\u001b[36mcall\u001b[0m:\u001b[36m202\u001b[0m - \u001b[34m\u001b[1mSFNEBlock global_output shape: (None, 64, 20)\u001b[0m\n",
            "\u001b[32m2025-10-30 16:34:22.035\u001b[0m | \u001b[34m\u001b[1mDEBUG   \u001b[0m | \u001b[36mkmr.models.SFNEBlock\u001b[0m:\u001b[36mcall\u001b[0m:\u001b[36m206\u001b[0m - \u001b[34m\u001b[1mSFNEBlock local_output shape: (None, 64, 20)\u001b[0m\n",
            "\u001b[32m2025-10-30 16:34:22.036\u001b[0m | \u001b[34m\u001b[1mDEBUG   \u001b[0m | \u001b[36mkmr.models.SFNEBlock\u001b[0m:\u001b[36mcall\u001b[0m:\u001b[36m210\u001b[0m - \u001b[34m\u001b[1mSFNEBlock combined_output shape: (None, 64, 40)\u001b[0m\n",
            "\u001b[32m2025-10-30 16:34:22.036\u001b[0m | \u001b[34m\u001b[1mDEBUG   \u001b[0m | \u001b[36mkmr.models.SFNEBlock\u001b[0m:\u001b[36mcall\u001b[0m:\u001b[36m217\u001b[0m - \u001b[34m\u001b[1mSFNEBlock combined_output_flat shape: (None, 2560)\u001b[0m\n",
            "\u001b[32m2025-10-30 16:34:22.038\u001b[0m | \u001b[34m\u001b[1mDEBUG   \u001b[0m | \u001b[36mkmr.models.SFNEBlock\u001b[0m:\u001b[36mcall\u001b[0m:\u001b[36m223\u001b[0m - \u001b[34m\u001b[1mSFNEBlock bottleneck_output shape: (None, 20)\u001b[0m\n",
            "\u001b[32m2025-10-30 16:34:22.040\u001b[0m | \u001b[34m\u001b[1mDEBUG   \u001b[0m | \u001b[36mkmr.models.SFNEBlock\u001b[0m:\u001b[36mcall\u001b[0m:\u001b[36m227\u001b[0m - \u001b[34m\u001b[1mSFNEBlock output_layer output shape: (None, 1)\u001b[0m\n"
          ]
        },
        {
          "name": "stdout",
          "output_type": "stream",
          "text": [
            "\u001b[1m25/25\u001b[0m \u001b[32m━━━━━━━━━━━━━━━━━━━━\u001b[0m\u001b[37m\u001b[0m \u001b[1m1s\u001b[0m 12ms/step - accuracy: 0.4922 - loss: 2.5486 - precision: 0.1901 - recall: 0.0049 - val_accuracy: 0.6100 - val_loss: 0.6635 - val_precision: 0.6066 - val_recall: 0.6368\n",
            "Epoch 2/30\n",
            "\u001b[1m25/25\u001b[0m \u001b[32m━━━━━━━━━━━━━━━━━━━━\u001b[0m\u001b[37m\u001b[0m \u001b[1m0s\u001b[0m 3ms/step - accuracy: 0.5652 - loss: 0.6184 - precision: 0.5403 - recall: 0.9443 - val_accuracy: 0.8300 - val_loss: 0.4010 - val_precision: 0.7548 - val_recall: 0.9801\n",
            "Epoch 3/30\n",
            "\u001b[1m25/25\u001b[0m \u001b[32m━━━━━━━━━━━━━━━━━━━━\u001b[0m\u001b[37m\u001b[0m \u001b[1m0s\u001b[0m 3ms/step - accuracy: 0.8849 - loss: 0.3482 - precision: 0.8359 - recall: 0.9539 - val_accuracy: 0.9275 - val_loss: 0.2310 - val_precision: 0.8909 - val_recall: 0.9751\n",
            "Epoch 4/30\n",
            "\u001b[1m25/25\u001b[0m \u001b[32m━━━━━━━━━━━━━━━━━━━━\u001b[0m\u001b[37m\u001b[0m \u001b[1m0s\u001b[0m 3ms/step - accuracy: 0.9289 - loss: 0.2355 - precision: 0.9125 - recall: 0.9409 - val_accuracy: 0.9650 - val_loss: 0.1753 - val_precision: 0.9795 - val_recall: 0.9502\n",
            "Epoch 5/30\n",
            "\u001b[1m25/25\u001b[0m \u001b[32m━━━━━━━━━━━━━━━━━━━━\u001b[0m\u001b[37m\u001b[0m \u001b[1m0s\u001b[0m 3ms/step - accuracy: 0.9566 - loss: 0.1737 - precision: 0.9495 - recall: 0.9644 - val_accuracy: 0.9525 - val_loss: 0.1536 - val_precision: 0.9252 - val_recall: 0.9851\n",
            "Epoch 6/30\n",
            "\u001b[1m25/25\u001b[0m \u001b[32m━━━━━━━━━━━━━━━━━━━━\u001b[0m\u001b[37m\u001b[0m \u001b[1m0s\u001b[0m 3ms/step - accuracy: 0.9710 - loss: 0.1319 - precision: 0.9607 - recall: 0.9834 - val_accuracy: 0.9600 - val_loss: 0.1271 - val_precision: 0.9512 - val_recall: 0.9701\n",
            "Epoch 7/30\n",
            "\u001b[1m25/25\u001b[0m \u001b[32m━━━━━━━━━━━━━━━━━━━━\u001b[0m\u001b[37m\u001b[0m \u001b[1m0s\u001b[0m 3ms/step - accuracy: 0.9756 - loss: 0.0962 - precision: 0.9675 - recall: 0.9864 - val_accuracy: 0.9650 - val_loss: 0.1042 - val_precision: 0.9746 - val_recall: 0.9552\n",
            "Epoch 8/30\n",
            "\u001b[1m25/25\u001b[0m \u001b[32m━━━━━━━━━━━━━━━━━━━━\u001b[0m\u001b[37m\u001b[0m \u001b[1m0s\u001b[0m 3ms/step - accuracy: 0.9743 - loss: 0.0829 - precision: 0.9837 - recall: 0.9655 - val_accuracy: 0.9650 - val_loss: 0.0928 - val_precision: 0.9517 - val_recall: 0.9801\n",
            "Epoch 9/30\n",
            "\u001b[1m25/25\u001b[0m \u001b[32m━━━━━━━━━━━━━━━━━━━━\u001b[0m\u001b[37m\u001b[0m \u001b[1m0s\u001b[0m 3ms/step - accuracy: 0.9747 - loss: 0.0879 - precision: 0.9660 - recall: 0.9835 - val_accuracy: 0.9675 - val_loss: 0.1133 - val_precision: 0.9700 - val_recall: 0.9652\n",
            "Epoch 10/30\n",
            "\u001b[1m25/25\u001b[0m \u001b[32m━━━━━━━━━━━━━━━━━━━━\u001b[0m\u001b[37m\u001b[0m \u001b[1m0s\u001b[0m 3ms/step - accuracy: 0.9840 - loss: 0.0544 - precision: 0.9774 - recall: 0.9912 - val_accuracy: 0.9625 - val_loss: 0.1193 - val_precision: 0.9650 - val_recall: 0.9602\n",
            "Epoch 11/30\n",
            "\u001b[1m25/25\u001b[0m \u001b[32m━━━━━━━━━━━━━━━━━━━━\u001b[0m\u001b[37m\u001b[0m \u001b[1m0s\u001b[0m 3ms/step - accuracy: 0.9833 - loss: 0.0509 - precision: 0.9827 - recall: 0.9846 - val_accuracy: 0.9575 - val_loss: 0.1464 - val_precision: 0.9510 - val_recall: 0.9652\n",
            "Epoch 12/30\n",
            "\u001b[1m25/25\u001b[0m \u001b[32m━━━━━━━━━━━━━━━━━━━━\u001b[0m\u001b[37m\u001b[0m \u001b[1m0s\u001b[0m 3ms/step - accuracy: 0.9476 - loss: 0.1769 - precision: 0.9781 - recall: 0.9142 - val_accuracy: 0.9500 - val_loss: 0.1627 - val_precision: 0.9548 - val_recall: 0.9453\n",
            "Epoch 13/30\n",
            "\u001b[1m25/25\u001b[0m \u001b[32m━━━━━━━━━━━━━━━━━━━━\u001b[0m\u001b[37m\u001b[0m \u001b[1m0s\u001b[0m 3ms/step - accuracy: 0.9465 - loss: 0.1740 - precision: 0.9643 - recall: 0.9307 - val_accuracy: 0.9500 - val_loss: 0.1822 - val_precision: 0.9458 - val_recall: 0.9552\n",
            "Epoch 14/30\n",
            "\u001b[1m25/25\u001b[0m \u001b[32m━━━━━━━━━━━━━━━━━━━━\u001b[0m\u001b[37m\u001b[0m \u001b[1m0s\u001b[0m 3ms/step - accuracy: 0.9613 - loss: 0.1341 - precision: 0.9651 - recall: 0.9571 - val_accuracy: 0.9575 - val_loss: 0.1080 - val_precision: 0.9381 - val_recall: 0.9801\n",
            "Epoch 15/30\n",
            "\u001b[1m25/25\u001b[0m \u001b[32m━━━━━━━━━━━━━━━━━━━━\u001b[0m\u001b[37m\u001b[0m \u001b[1m0s\u001b[0m 3ms/step - accuracy: 0.9775 - loss: 0.0698 - precision: 0.9824 - recall: 0.9725 - val_accuracy: 0.9625 - val_loss: 0.0811 - val_precision: 0.9650 - val_recall: 0.9602\n",
            "Epoch 16/30\n",
            "\u001b[1m25/25\u001b[0m \u001b[32m━━━━━━━━━━━━━━━━━━━━\u001b[0m\u001b[37m\u001b[0m \u001b[1m0s\u001b[0m 3ms/step - accuracy: 0.9864 - loss: 0.0550 - precision: 0.9824 - recall: 0.9902 - val_accuracy: 0.9675 - val_loss: 0.0699 - val_precision: 0.9845 - val_recall: 0.9502\n",
            "Epoch 17/30\n",
            "\u001b[1m25/25\u001b[0m \u001b[32m━━━━━━━━━━━━━━━━━━━━\u001b[0m\u001b[37m\u001b[0m \u001b[1m0s\u001b[0m 3ms/step - accuracy: 0.9888 - loss: 0.0489 - precision: 0.9939 - recall: 0.9832 - val_accuracy: 0.9650 - val_loss: 0.0720 - val_precision: 0.9652 - val_recall: 0.9652\n",
            "Epoch 18/30\n",
            "\u001b[1m25/25\u001b[0m \u001b[32m━━━━━━━━━━━━━━━━━━━━\u001b[0m\u001b[37m\u001b[0m \u001b[1m0s\u001b[0m 2ms/step - accuracy: 0.9913 - loss: 0.0399 - precision: 0.9887 - recall: 0.9943 - val_accuracy: 0.9625 - val_loss: 0.1078 - val_precision: 0.9604 - val_recall: 0.9652\n",
            "Epoch 19/30\n",
            "\u001b[1m25/25\u001b[0m \u001b[32m━━━━━━━━━━━━━━━━━━━━\u001b[0m\u001b[37m\u001b[0m \u001b[1m0s\u001b[0m 3ms/step - accuracy: 0.9928 - loss: 0.0380 - precision: 0.9920 - recall: 0.9934 - val_accuracy: 0.9625 - val_loss: 0.1454 - val_precision: 0.9471 - val_recall: 0.9801\n",
            "Epoch 20/30\n",
            "\u001b[1m25/25\u001b[0m \u001b[32m━━━━━━━━━━━━━━━━━━━━\u001b[0m\u001b[37m\u001b[0m \u001b[1m0s\u001b[0m 3ms/step - accuracy: 0.9866 - loss: 0.0370 - precision: 0.9792 - recall: 0.9951 - val_accuracy: 0.9650 - val_loss: 0.1348 - val_precision: 0.9652 - val_recall: 0.9652\n",
            "Epoch 21/30\n",
            "\u001b[1m25/25\u001b[0m \u001b[32m━━━━━━━━━━━━━━━━━━━━\u001b[0m\u001b[37m\u001b[0m \u001b[1m0s\u001b[0m 3ms/step - accuracy: 0.9905 - loss: 0.0325 - precision: 0.9910 - recall: 0.9890 - val_accuracy: 0.9625 - val_loss: 0.0711 - val_precision: 0.9844 - val_recall: 0.9403\n",
            "Epoch 22/30\n",
            "\u001b[1m25/25\u001b[0m \u001b[32m━━━━━━━━━━━━━━━━━━━━\u001b[0m\u001b[37m\u001b[0m \u001b[1m0s\u001b[0m 3ms/step - accuracy: 0.9858 - loss: 0.0390 - precision: 0.9948 - recall: 0.9774 - val_accuracy: 0.9650 - val_loss: 0.0695 - val_precision: 0.9746 - val_recall: 0.9552\n",
            "Epoch 23/30\n",
            "\u001b[1m25/25\u001b[0m \u001b[32m━━━━━━━━━━━━━━━━━━━━\u001b[0m\u001b[37m\u001b[0m \u001b[1m0s\u001b[0m 3ms/step - accuracy: 0.9947 - loss: 0.0318 - precision: 0.9981 - recall: 0.9915 - val_accuracy: 0.9750 - val_loss: 0.1307 - val_precision: 0.9799 - val_recall: 0.9701\n",
            "Epoch 24/30\n",
            "\u001b[1m25/25\u001b[0m \u001b[32m━━━━━━━━━━━━━━━━━━━━\u001b[0m\u001b[37m\u001b[0m \u001b[1m0s\u001b[0m 2ms/step - accuracy: 0.9927 - loss: 0.0291 - precision: 0.9948 - recall: 0.9902 - val_accuracy: 0.9625 - val_loss: 0.0684 - val_precision: 0.9794 - val_recall: 0.9453\n",
            "Epoch 25/30\n",
            "\u001b[1m25/25\u001b[0m \u001b[32m━━━━━━━━━━━━━━━━━━━━\u001b[0m\u001b[37m\u001b[0m \u001b[1m0s\u001b[0m 2ms/step - accuracy: 0.9944 - loss: 0.0274 - precision: 0.9955 - recall: 0.9933 - val_accuracy: 0.9625 - val_loss: 0.1484 - val_precision: 0.9895 - val_recall: 0.9353\n",
            "Epoch 26/30\n",
            "\u001b[1m25/25\u001b[0m \u001b[32m━━━━━━━━━━━━━━━━━━━━\u001b[0m\u001b[37m\u001b[0m \u001b[1m0s\u001b[0m 3ms/step - accuracy: 0.9922 - loss: 0.0319 - precision: 0.9963 - recall: 0.9873 - val_accuracy: 0.9625 - val_loss: 0.1094 - val_precision: 0.9650 - val_recall: 0.9602\n",
            "Epoch 27/30\n",
            "\u001b[1m25/25\u001b[0m \u001b[32m━━━━━━━━━━━━━━━━━━━━\u001b[0m\u001b[37m\u001b[0m \u001b[1m0s\u001b[0m 3ms/step - accuracy: 0.9949 - loss: 0.0230 - precision: 0.9946 - recall: 0.9950 - val_accuracy: 0.9625 - val_loss: 0.1039 - val_precision: 0.9844 - val_recall: 0.9403\n",
            "Epoch 28/30\n",
            "\u001b[1m25/25\u001b[0m \u001b[32m━━━━━━━━━━━━━━━━━━━━\u001b[0m\u001b[37m\u001b[0m \u001b[1m0s\u001b[0m 3ms/step - accuracy: 0.9936 - loss: 0.0253 - precision: 0.9959 - recall: 0.9910 - val_accuracy: 0.9650 - val_loss: 0.1350 - val_precision: 0.9606 - val_recall: 0.9701\n",
            "Epoch 29/30\n",
            "\u001b[1m25/25\u001b[0m \u001b[32m━━━━━━━━━━━━━━━━━━━━\u001b[0m\u001b[37m\u001b[0m \u001b[1m0s\u001b[0m 2ms/step - accuracy: 0.9920 - loss: 0.0206 - precision: 0.9945 - recall: 0.9894 - val_accuracy: 0.9700 - val_loss: 0.1391 - val_precision: 0.9655 - val_recall: 0.9751\n",
            "Epoch 30/30\n",
            "\u001b[1m25/25\u001b[0m \u001b[32m━━━━━━━━━━━━━━━━━━━━\u001b[0m\u001b[37m\u001b[0m \u001b[1m0s\u001b[0m 3ms/step - accuracy: 0.9983 - loss: 0.0164 - precision: 0.9986 - recall: 0.9979 - val_accuracy: 0.9625 - val_loss: 0.0942 - val_precision: 0.9844 - val_recall: 0.9403\n",
            "✅ Training completed!\n",
            "\n",
            "📊 Test Results:\n",
            "Test Loss: 0.0942\n",
            "Test Accuracy: 0.9625\n",
            "Test Precision: 0.9844\n",
            "Test Recall: 0.9403\n",
            "Test F1-Score: 0.9618\n"
          ]
        }
      ],
      "source": [
        "# Train the model\n",
        "print(\"🚀 Starting training...\")\n",
        "\n",
        "history = model.fit(\n",
        "    X_train, y_train,\n",
        "    validation_data=(X_test, y_test),\n",
        "    epochs=30,\n",
        "    batch_size=64,\n",
        "    verbose=1\n",
        ")\n",
        "\n",
        "print(\"✅ Training completed!\")\n",
        "\n",
        "# Evaluate the model\n",
        "test_loss, test_accuracy, test_precision, test_recall = model.evaluate(X_test, y_test, verbose=0)\n",
        "print(f\"\\n📊 Test Results:\")\n",
        "print(f\"Test Loss: {test_loss:.4f}\")\n",
        "print(f\"Test Accuracy: {test_accuracy:.4f}\")\n",
        "print(f\"Test Precision: {test_precision:.4f}\")\n",
        "print(f\"Test Recall: {test_recall:.4f}\")\n",
        "\n",
        "# Calculate F1 score\n",
        "f1_score = 2 * (test_precision * test_recall) / (test_precision + test_recall)\n",
        "print(f\"Test F1-Score: {f1_score:.4f}\")\n"
      ]
    },
    {
      "cell_type": "code",
      "execution_count": 6,
      "metadata": {},
      "outputs": [
        {
          "name": "stdout",
          "output_type": "stream",
          "text": [
            "📊 Creating training visualizations...\n"
          ]
        },
        {
          "data": {
            "application/vnd.plotly.v1+json": {
              "config": {
                "plotlyServerURL": "https://plot.ly"
              },
              "data": [
                {
                  "line": {
                    "color": "blue"
                  },
                  "mode": "lines",
                  "name": "Training Loss",
                  "type": "scatter",
                  "x": [
                    1,
                    2,
                    3,
                    4,
                    5,
                    6,
                    7,
                    8,
                    9,
                    10,
                    11,
                    12,
                    13,
                    14,
                    15,
                    16,
                    17,
                    18,
                    19,
                    20,
                    21,
                    22,
                    23,
                    24,
                    25,
                    26,
                    27,
                    28,
                    29,
                    30
                  ],
                  "xaxis": "x",
                  "y": [
                    1.409155011177063,
                    0.5679851770401001,
                    0.3065439462661743,
                    0.21590237319469452,
                    0.16809366643428802,
                    0.1282496452331543,
                    0.0996728166937828,
                    0.08646606653928757,
                    0.08750922232866287,
                    0.05694291740655899,
                    0.0515279546380043,
                    0.2442958950996399,
                    0.1470864713191986,
                    0.0972372367978096,
                    0.06330783665180206,
                    0.054119691252708435,
                    0.049705542623996735,
                    0.04323664680123329,
                    0.041781675070524216,
                    0.038384635001420975,
                    0.03552612289786339,
                    0.036297451704740524,
                    0.02953023836016655,
                    0.02970590628683567,
                    0.028966691344976425,
                    0.030134378001093864,
                    0.024182774126529694,
                    0.023870648816227913,
                    0.01915154606103897,
                    0.01954575441777706
                  ],
                  "yaxis": "y"
                },
                {
                  "line": {
                    "color": "red"
                  },
                  "mode": "lines",
                  "name": "Validation Loss",
                  "type": "scatter",
                  "x": [
                    1,
                    2,
                    3,
                    4,
                    5,
                    6,
                    7,
                    8,
                    9,
                    10,
                    11,
                    12,
                    13,
                    14,
                    15,
                    16,
                    17,
                    18,
                    19,
                    20,
                    21,
                    22,
                    23,
                    24,
                    25,
                    26,
                    27,
                    28,
                    29,
                    30
                  ],
                  "xaxis": "x",
                  "y": [
                    0.6634788513183594,
                    0.40100914239883423,
                    0.23103249073028564,
                    0.17533104121685028,
                    0.15364137291908264,
                    0.12710916996002197,
                    0.10421326011419296,
                    0.09282095730304718,
                    0.11334381997585297,
                    0.11929123848676682,
                    0.14637546241283417,
                    0.16274365782737732,
                    0.18219900131225586,
                    0.10795187950134277,
                    0.08109774440526962,
                    0.0699092224240303,
                    0.07198923081159592,
                    0.10782048851251602,
                    0.14544536173343658,
                    0.13476982712745667,
                    0.07109951227903366,
                    0.06949567049741745,
                    0.13072142004966736,
                    0.0683906152844429,
                    0.148357093334198,
                    0.10943974554538727,
                    0.10392079502344131,
                    0.1350349485874176,
                    0.13914138078689575,
                    0.09421273320913315
                  ],
                  "yaxis": "y"
                },
                {
                  "line": {
                    "color": "blue"
                  },
                  "mode": "lines",
                  "name": "Training Accuracy",
                  "type": "scatter",
                  "x": [
                    1,
                    2,
                    3,
                    4,
                    5,
                    6,
                    7,
                    8,
                    9,
                    10,
                    11,
                    12,
                    13,
                    14,
                    15,
                    16,
                    17,
                    18,
                    19,
                    20,
                    21,
                    22,
                    23,
                    24,
                    25,
                    26,
                    27,
                    28,
                    29,
                    30
                  ],
                  "xaxis": "x2",
                  "y": [
                    0.5131250023841858,
                    0.6031249761581421,
                    0.8981249928474426,
                    0.9350000023841858,
                    0.9543750286102295,
                    0.9700000286102295,
                    0.9737499952316284,
                    0.9725000262260437,
                    0.9725000262260437,
                    0.9800000190734863,
                    0.9837499856948853,
                    0.925000011920929,
                    0.9474999904632568,
                    0.9700000286102295,
                    0.9825000166893005,
                    0.9868749976158142,
                    0.9862499833106995,
                    0.9881250262260437,
                    0.9900000095367432,
                    0.9906250238418579,
                    0.9881250262260437,
                    0.9881250262260437,
                    0.9937499761581421,
                    0.9906250238418579,
                    0.9931250214576721,
                    0.9931250214576721,
                    0.9943749904632568,
                    0.9937499761581421,
                    0.9950000047683716,
                    0.9962499737739563
                  ],
                  "yaxis": "y2"
                },
                {
                  "line": {
                    "color": "red"
                  },
                  "mode": "lines",
                  "name": "Validation Accuracy",
                  "type": "scatter",
                  "x": [
                    1,
                    2,
                    3,
                    4,
                    5,
                    6,
                    7,
                    8,
                    9,
                    10,
                    11,
                    12,
                    13,
                    14,
                    15,
                    16,
                    17,
                    18,
                    19,
                    20,
                    21,
                    22,
                    23,
                    24,
                    25,
                    26,
                    27,
                    28,
                    29,
                    30
                  ],
                  "xaxis": "x2",
                  "y": [
                    0.6100000143051147,
                    0.8299999833106995,
                    0.9275000095367432,
                    0.9649999737739563,
                    0.9524999856948853,
                    0.9599999785423279,
                    0.9649999737739563,
                    0.9649999737739563,
                    0.9674999713897705,
                    0.9624999761581421,
                    0.9574999809265137,
                    0.949999988079071,
                    0.949999988079071,
                    0.9574999809265137,
                    0.9624999761581421,
                    0.9674999713897705,
                    0.9649999737739563,
                    0.9624999761581421,
                    0.9624999761581421,
                    0.9649999737739563,
                    0.9624999761581421,
                    0.9649999737739563,
                    0.9750000238418579,
                    0.9624999761581421,
                    0.9624999761581421,
                    0.9624999761581421,
                    0.9624999761581421,
                    0.9649999737739563,
                    0.9700000286102295,
                    0.9624999761581421
                  ],
                  "yaxis": "y2"
                },
                {
                  "line": {
                    "color": "blue"
                  },
                  "mode": "lines",
                  "name": "Training Precision",
                  "type": "scatter",
                  "x": [
                    1,
                    2,
                    3,
                    4,
                    5,
                    6,
                    7,
                    8,
                    9,
                    10,
                    11,
                    12,
                    13,
                    14,
                    15,
                    16,
                    17,
                    18,
                    19,
                    20,
                    21,
                    22,
                    23,
                    24,
                    25,
                    26,
                    27,
                    28,
                    29,
                    30
                  ],
                  "xaxis": "x3",
                  "y": [
                    0.7631579041481018,
                    0.5584045648574829,
                    0.8630136847496033,
                    0.9263803958892822,
                    0.9459459185600281,
                    0.9630086421966553,
                    0.967861533164978,
                    0.9760403633117676,
                    0.9724655747413635,
                    0.9787765145301819,
                    0.9861634969711304,
                    0.9721835851669312,
                    0.9673202633857727,
                    0.9783439636230469,
                    0.9885931611061096,
                    0.9862499833106995,
                    0.9874529242515564,
                    0.9899497628211975,
                    0.9912170767784119,
                    0.9887780547142029,
                    0.9862843155860901,
                    0.991183876991272,
                    0.9949811697006226,
                    0.9900000095367432,
                    0.9937343597412109,
                    0.9937343597412109,
                    0.9949874877929688,
                    0.9949811697006226,
                    0.9962359070777893,
                    0.9974905848503113
                  ],
                  "yaxis": "y3"
                },
                {
                  "line": {
                    "color": "red"
                  },
                  "mode": "lines",
                  "name": "Validation Precision",
                  "type": "scatter",
                  "x": [
                    1,
                    2,
                    3,
                    4,
                    5,
                    6,
                    7,
                    8,
                    9,
                    10,
                    11,
                    12,
                    13,
                    14,
                    15,
                    16,
                    17,
                    18,
                    19,
                    20,
                    21,
                    22,
                    23,
                    24,
                    25,
                    26,
                    27,
                    28,
                    29,
                    30
                  ],
                  "xaxis": "x3",
                  "y": [
                    0.6066350936889648,
                    0.7547892928123474,
                    0.8909090757369995,
                    0.9794871807098389,
                    0.9252336621284485,
                    0.9512194991111755,
                    0.9746192693710327,
                    0.9516907930374146,
                    0.9700000286102295,
                    0.9649999737739563,
                    0.9509803652763367,
                    0.9547738432884216,
                    0.9458128213882446,
                    0.938095211982727,
                    0.9649999737739563,
                    0.9845361113548279,
                    0.96517413854599,
                    0.9603960514068604,
                    0.9471153616905212,
                    0.96517413854599,
                    0.984375,
                    0.9746192693710327,
                    0.979899525642395,
                    0.9793814420700073,
                    0.9894737005233765,
                    0.9649999737739563,
                    0.984375,
                    0.9605911374092102,
                    0.9655172228813171,
                    0.984375
                  ],
                  "yaxis": "y3"
                },
                {
                  "line": {
                    "color": "blue"
                  },
                  "mode": "lines",
                  "name": "Training Recall",
                  "type": "scatter",
                  "x": [
                    1,
                    2,
                    3,
                    4,
                    5,
                    6,
                    7,
                    8,
                    9,
                    10,
                    11,
                    12,
                    13,
                    14,
                    15,
                    16,
                    17,
                    18,
                    19,
                    20,
                    21,
                    22,
                    23,
                    24,
                    25,
                    26,
                    27,
                    28,
                    29,
                    30
                  ],
                  "xaxis": "x4",
                  "y": [
                    0.036295369267463684,
                    0.9812265038490295,
                    0.9461827278137207,
                    0.944931149482727,
                    0.9637046456336975,
                    0.9774718284606934,
                    0.9799749851226807,
                    0.9687108993530273,
                    0.9724655747413635,
                    0.9812265038490295,
                    0.9812265038490295,
                    0.8748435378074646,
                    0.9261577129364014,
                    0.9612014889717102,
                    0.9762202501296997,
                    0.987484335899353,
                    0.9849812388420105,
                    0.9862328171730042,
                    0.9887359142303467,
                    0.9924905896186829,
                    0.9899874925613403,
                    0.9849812388420105,
                    0.9924905896186829,
                    0.991239070892334,
                    0.9924905896186829,
                    0.9924905896186829,
                    0.9937421679496765,
                    0.9924905896186829,
                    0.9937421679496765,
                    0.9949937462806702
                  ],
                  "yaxis": "y4"
                },
                {
                  "line": {
                    "color": "red"
                  },
                  "mode": "lines",
                  "name": "Validation Recall",
                  "type": "scatter",
                  "x": [
                    1,
                    2,
                    3,
                    4,
                    5,
                    6,
                    7,
                    8,
                    9,
                    10,
                    11,
                    12,
                    13,
                    14,
                    15,
                    16,
                    17,
                    18,
                    19,
                    20,
                    21,
                    22,
                    23,
                    24,
                    25,
                    26,
                    27,
                    28,
                    29,
                    30
                  ],
                  "xaxis": "x4",
                  "y": [
                    0.6368159055709839,
                    0.9800994992256165,
                    0.9751243591308594,
                    0.9502487778663635,
                    0.9850746393203735,
                    0.9701492786407471,
                    0.9552238583564758,
                    0.9800994992256165,
                    0.96517413854599,
                    0.9601989984512329,
                    0.96517413854599,
                    0.9452736377716064,
                    0.9552238583564758,
                    0.9800994992256165,
                    0.9601989984512329,
                    0.9502487778663635,
                    0.96517413854599,
                    0.96517413854599,
                    0.9800994992256165,
                    0.96517413854599,
                    0.9402984976768494,
                    0.9552238583564758,
                    0.9701492786407471,
                    0.9452736377716064,
                    0.9353233575820923,
                    0.9601989984512329,
                    0.9402984976768494,
                    0.9701492786407471,
                    0.9751243591308594,
                    0.9402984976768494
                  ],
                  "yaxis": "y4"
                }
              ],
              "layout": {
                "annotations": [
                  {
                    "font": {
                      "size": 16
                    },
                    "showarrow": false,
                    "text": "Training and Validation Loss",
                    "x": 0.225,
                    "xanchor": "center",
                    "xref": "paper",
                    "y": 1,
                    "yanchor": "bottom",
                    "yref": "paper"
                  },
                  {
                    "font": {
                      "size": 16
                    },
                    "showarrow": false,
                    "text": "Training and Validation Accuracy",
                    "x": 0.775,
                    "xanchor": "center",
                    "xref": "paper",
                    "y": 1,
                    "yanchor": "bottom",
                    "yref": "paper"
                  },
                  {
                    "font": {
                      "size": 16
                    },
                    "showarrow": false,
                    "text": "Training and Validation Precision",
                    "x": 0.225,
                    "xanchor": "center",
                    "xref": "paper",
                    "y": 0.375,
                    "yanchor": "bottom",
                    "yref": "paper"
                  },
                  {
                    "font": {
                      "size": 16
                    },
                    "showarrow": false,
                    "text": "Training and Validation Recall",
                    "x": 0.775,
                    "xanchor": "center",
                    "xref": "paper",
                    "y": 0.375,
                    "yanchor": "bottom",
                    "yref": "paper"
                  }
                ],
                "height": 600,
                "showlegend": true,
                "template": {
                  "data": {
                    "bar": [
                      {
                        "error_x": {
                          "color": "#2a3f5f"
                        },
                        "error_y": {
                          "color": "#2a3f5f"
                        },
                        "marker": {
                          "line": {
                            "color": "#E5ECF6",
                            "width": 0.5
                          },
                          "pattern": {
                            "fillmode": "overlay",
                            "size": 10,
                            "solidity": 0.2
                          }
                        },
                        "type": "bar"
                      }
                    ],
                    "barpolar": [
                      {
                        "marker": {
                          "line": {
                            "color": "#E5ECF6",
                            "width": 0.5
                          },
                          "pattern": {
                            "fillmode": "overlay",
                            "size": 10,
                            "solidity": 0.2
                          }
                        },
                        "type": "barpolar"
                      }
                    ],
                    "carpet": [
                      {
                        "aaxis": {
                          "endlinecolor": "#2a3f5f",
                          "gridcolor": "white",
                          "linecolor": "white",
                          "minorgridcolor": "white",
                          "startlinecolor": "#2a3f5f"
                        },
                        "baxis": {
                          "endlinecolor": "#2a3f5f",
                          "gridcolor": "white",
                          "linecolor": "white",
                          "minorgridcolor": "white",
                          "startlinecolor": "#2a3f5f"
                        },
                        "type": "carpet"
                      }
                    ],
                    "choropleth": [
                      {
                        "colorbar": {
                          "outlinewidth": 0,
                          "ticks": ""
                        },
                        "type": "choropleth"
                      }
                    ],
                    "contour": [
                      {
                        "colorbar": {
                          "outlinewidth": 0,
                          "ticks": ""
                        },
                        "colorscale": [
                          [
                            0,
                            "#0d0887"
                          ],
                          [
                            0.1111111111111111,
                            "#46039f"
                          ],
                          [
                            0.2222222222222222,
                            "#7201a8"
                          ],
                          [
                            0.3333333333333333,
                            "#9c179e"
                          ],
                          [
                            0.4444444444444444,
                            "#bd3786"
                          ],
                          [
                            0.5555555555555556,
                            "#d8576b"
                          ],
                          [
                            0.6666666666666666,
                            "#ed7953"
                          ],
                          [
                            0.7777777777777778,
                            "#fb9f3a"
                          ],
                          [
                            0.8888888888888888,
                            "#fdca26"
                          ],
                          [
                            1,
                            "#f0f921"
                          ]
                        ],
                        "type": "contour"
                      }
                    ],
                    "contourcarpet": [
                      {
                        "colorbar": {
                          "outlinewidth": 0,
                          "ticks": ""
                        },
                        "type": "contourcarpet"
                      }
                    ],
                    "heatmap": [
                      {
                        "colorbar": {
                          "outlinewidth": 0,
                          "ticks": ""
                        },
                        "colorscale": [
                          [
                            0,
                            "#0d0887"
                          ],
                          [
                            0.1111111111111111,
                            "#46039f"
                          ],
                          [
                            0.2222222222222222,
                            "#7201a8"
                          ],
                          [
                            0.3333333333333333,
                            "#9c179e"
                          ],
                          [
                            0.4444444444444444,
                            "#bd3786"
                          ],
                          [
                            0.5555555555555556,
                            "#d8576b"
                          ],
                          [
                            0.6666666666666666,
                            "#ed7953"
                          ],
                          [
                            0.7777777777777778,
                            "#fb9f3a"
                          ],
                          [
                            0.8888888888888888,
                            "#fdca26"
                          ],
                          [
                            1,
                            "#f0f921"
                          ]
                        ],
                        "type": "heatmap"
                      }
                    ],
                    "histogram": [
                      {
                        "marker": {
                          "pattern": {
                            "fillmode": "overlay",
                            "size": 10,
                            "solidity": 0.2
                          }
                        },
                        "type": "histogram"
                      }
                    ],
                    "histogram2d": [
                      {
                        "colorbar": {
                          "outlinewidth": 0,
                          "ticks": ""
                        },
                        "colorscale": [
                          [
                            0,
                            "#0d0887"
                          ],
                          [
                            0.1111111111111111,
                            "#46039f"
                          ],
                          [
                            0.2222222222222222,
                            "#7201a8"
                          ],
                          [
                            0.3333333333333333,
                            "#9c179e"
                          ],
                          [
                            0.4444444444444444,
                            "#bd3786"
                          ],
                          [
                            0.5555555555555556,
                            "#d8576b"
                          ],
                          [
                            0.6666666666666666,
                            "#ed7953"
                          ],
                          [
                            0.7777777777777778,
                            "#fb9f3a"
                          ],
                          [
                            0.8888888888888888,
                            "#fdca26"
                          ],
                          [
                            1,
                            "#f0f921"
                          ]
                        ],
                        "type": "histogram2d"
                      }
                    ],
                    "histogram2dcontour": [
                      {
                        "colorbar": {
                          "outlinewidth": 0,
                          "ticks": ""
                        },
                        "colorscale": [
                          [
                            0,
                            "#0d0887"
                          ],
                          [
                            0.1111111111111111,
                            "#46039f"
                          ],
                          [
                            0.2222222222222222,
                            "#7201a8"
                          ],
                          [
                            0.3333333333333333,
                            "#9c179e"
                          ],
                          [
                            0.4444444444444444,
                            "#bd3786"
                          ],
                          [
                            0.5555555555555556,
                            "#d8576b"
                          ],
                          [
                            0.6666666666666666,
                            "#ed7953"
                          ],
                          [
                            0.7777777777777778,
                            "#fb9f3a"
                          ],
                          [
                            0.8888888888888888,
                            "#fdca26"
                          ],
                          [
                            1,
                            "#f0f921"
                          ]
                        ],
                        "type": "histogram2dcontour"
                      }
                    ],
                    "mesh3d": [
                      {
                        "colorbar": {
                          "outlinewidth": 0,
                          "ticks": ""
                        },
                        "type": "mesh3d"
                      }
                    ],
                    "parcoords": [
                      {
                        "line": {
                          "colorbar": {
                            "outlinewidth": 0,
                            "ticks": ""
                          }
                        },
                        "type": "parcoords"
                      }
                    ],
                    "pie": [
                      {
                        "automargin": true,
                        "type": "pie"
                      }
                    ],
                    "scatter": [
                      {
                        "fillpattern": {
                          "fillmode": "overlay",
                          "size": 10,
                          "solidity": 0.2
                        },
                        "type": "scatter"
                      }
                    ],
                    "scatter3d": [
                      {
                        "line": {
                          "colorbar": {
                            "outlinewidth": 0,
                            "ticks": ""
                          }
                        },
                        "marker": {
                          "colorbar": {
                            "outlinewidth": 0,
                            "ticks": ""
                          }
                        },
                        "type": "scatter3d"
                      }
                    ],
                    "scattercarpet": [
                      {
                        "marker": {
                          "colorbar": {
                            "outlinewidth": 0,
                            "ticks": ""
                          }
                        },
                        "type": "scattercarpet"
                      }
                    ],
                    "scattergeo": [
                      {
                        "marker": {
                          "colorbar": {
                            "outlinewidth": 0,
                            "ticks": ""
                          }
                        },
                        "type": "scattergeo"
                      }
                    ],
                    "scattergl": [
                      {
                        "marker": {
                          "colorbar": {
                            "outlinewidth": 0,
                            "ticks": ""
                          }
                        },
                        "type": "scattergl"
                      }
                    ],
                    "scattermap": [
                      {
                        "marker": {
                          "colorbar": {
                            "outlinewidth": 0,
                            "ticks": ""
                          }
                        },
                        "type": "scattermap"
                      }
                    ],
                    "scattermapbox": [
                      {
                        "marker": {
                          "colorbar": {
                            "outlinewidth": 0,
                            "ticks": ""
                          }
                        },
                        "type": "scattermapbox"
                      }
                    ],
                    "scatterpolar": [
                      {
                        "marker": {
                          "colorbar": {
                            "outlinewidth": 0,
                            "ticks": ""
                          }
                        },
                        "type": "scatterpolar"
                      }
                    ],
                    "scatterpolargl": [
                      {
                        "marker": {
                          "colorbar": {
                            "outlinewidth": 0,
                            "ticks": ""
                          }
                        },
                        "type": "scatterpolargl"
                      }
                    ],
                    "scatterternary": [
                      {
                        "marker": {
                          "colorbar": {
                            "outlinewidth": 0,
                            "ticks": ""
                          }
                        },
                        "type": "scatterternary"
                      }
                    ],
                    "surface": [
                      {
                        "colorbar": {
                          "outlinewidth": 0,
                          "ticks": ""
                        },
                        "colorscale": [
                          [
                            0,
                            "#0d0887"
                          ],
                          [
                            0.1111111111111111,
                            "#46039f"
                          ],
                          [
                            0.2222222222222222,
                            "#7201a8"
                          ],
                          [
                            0.3333333333333333,
                            "#9c179e"
                          ],
                          [
                            0.4444444444444444,
                            "#bd3786"
                          ],
                          [
                            0.5555555555555556,
                            "#d8576b"
                          ],
                          [
                            0.6666666666666666,
                            "#ed7953"
                          ],
                          [
                            0.7777777777777778,
                            "#fb9f3a"
                          ],
                          [
                            0.8888888888888888,
                            "#fdca26"
                          ],
                          [
                            1,
                            "#f0f921"
                          ]
                        ],
                        "type": "surface"
                      }
                    ],
                    "table": [
                      {
                        "cells": {
                          "fill": {
                            "color": "#EBF0F8"
                          },
                          "line": {
                            "color": "white"
                          }
                        },
                        "header": {
                          "fill": {
                            "color": "#C8D4E3"
                          },
                          "line": {
                            "color": "white"
                          }
                        },
                        "type": "table"
                      }
                    ]
                  },
                  "layout": {
                    "annotationdefaults": {
                      "arrowcolor": "#2a3f5f",
                      "arrowhead": 0,
                      "arrowwidth": 1
                    },
                    "autotypenumbers": "strict",
                    "coloraxis": {
                      "colorbar": {
                        "outlinewidth": 0,
                        "ticks": ""
                      }
                    },
                    "colorscale": {
                      "diverging": [
                        [
                          0,
                          "#8e0152"
                        ],
                        [
                          0.1,
                          "#c51b7d"
                        ],
                        [
                          0.2,
                          "#de77ae"
                        ],
                        [
                          0.3,
                          "#f1b6da"
                        ],
                        [
                          0.4,
                          "#fde0ef"
                        ],
                        [
                          0.5,
                          "#f7f7f7"
                        ],
                        [
                          0.6,
                          "#e6f5d0"
                        ],
                        [
                          0.7,
                          "#b8e186"
                        ],
                        [
                          0.8,
                          "#7fbc41"
                        ],
                        [
                          0.9,
                          "#4d9221"
                        ],
                        [
                          1,
                          "#276419"
                        ]
                      ],
                      "sequential": [
                        [
                          0,
                          "#0d0887"
                        ],
                        [
                          0.1111111111111111,
                          "#46039f"
                        ],
                        [
                          0.2222222222222222,
                          "#7201a8"
                        ],
                        [
                          0.3333333333333333,
                          "#9c179e"
                        ],
                        [
                          0.4444444444444444,
                          "#bd3786"
                        ],
                        [
                          0.5555555555555556,
                          "#d8576b"
                        ],
                        [
                          0.6666666666666666,
                          "#ed7953"
                        ],
                        [
                          0.7777777777777778,
                          "#fb9f3a"
                        ],
                        [
                          0.8888888888888888,
                          "#fdca26"
                        ],
                        [
                          1,
                          "#f0f921"
                        ]
                      ],
                      "sequentialminus": [
                        [
                          0,
                          "#0d0887"
                        ],
                        [
                          0.1111111111111111,
                          "#46039f"
                        ],
                        [
                          0.2222222222222222,
                          "#7201a8"
                        ],
                        [
                          0.3333333333333333,
                          "#9c179e"
                        ],
                        [
                          0.4444444444444444,
                          "#bd3786"
                        ],
                        [
                          0.5555555555555556,
                          "#d8576b"
                        ],
                        [
                          0.6666666666666666,
                          "#ed7953"
                        ],
                        [
                          0.7777777777777778,
                          "#fb9f3a"
                        ],
                        [
                          0.8888888888888888,
                          "#fdca26"
                        ],
                        [
                          1,
                          "#f0f921"
                        ]
                      ]
                    },
                    "colorway": [
                      "#636efa",
                      "#EF553B",
                      "#00cc96",
                      "#ab63fa",
                      "#FFA15A",
                      "#19d3f3",
                      "#FF6692",
                      "#B6E880",
                      "#FF97FF",
                      "#FECB52"
                    ],
                    "font": {
                      "color": "#2a3f5f"
                    },
                    "geo": {
                      "bgcolor": "white",
                      "lakecolor": "white",
                      "landcolor": "#E5ECF6",
                      "showlakes": true,
                      "showland": true,
                      "subunitcolor": "white"
                    },
                    "hoverlabel": {
                      "align": "left"
                    },
                    "hovermode": "closest",
                    "mapbox": {
                      "style": "light"
                    },
                    "paper_bgcolor": "white",
                    "plot_bgcolor": "#E5ECF6",
                    "polar": {
                      "angularaxis": {
                        "gridcolor": "white",
                        "linecolor": "white",
                        "ticks": ""
                      },
                      "bgcolor": "#E5ECF6",
                      "radialaxis": {
                        "gridcolor": "white",
                        "linecolor": "white",
                        "ticks": ""
                      }
                    },
                    "scene": {
                      "xaxis": {
                        "backgroundcolor": "#E5ECF6",
                        "gridcolor": "white",
                        "gridwidth": 2,
                        "linecolor": "white",
                        "showbackground": true,
                        "ticks": "",
                        "zerolinecolor": "white"
                      },
                      "yaxis": {
                        "backgroundcolor": "#E5ECF6",
                        "gridcolor": "white",
                        "gridwidth": 2,
                        "linecolor": "white",
                        "showbackground": true,
                        "ticks": "",
                        "zerolinecolor": "white"
                      },
                      "zaxis": {
                        "backgroundcolor": "#E5ECF6",
                        "gridcolor": "white",
                        "gridwidth": 2,
                        "linecolor": "white",
                        "showbackground": true,
                        "ticks": "",
                        "zerolinecolor": "white"
                      }
                    },
                    "shapedefaults": {
                      "line": {
                        "color": "#2a3f5f"
                      }
                    },
                    "ternary": {
                      "aaxis": {
                        "gridcolor": "white",
                        "linecolor": "white",
                        "ticks": ""
                      },
                      "baxis": {
                        "gridcolor": "white",
                        "linecolor": "white",
                        "ticks": ""
                      },
                      "bgcolor": "#E5ECF6",
                      "caxis": {
                        "gridcolor": "white",
                        "linecolor": "white",
                        "ticks": ""
                      }
                    },
                    "title": {
                      "x": 0.05
                    },
                    "xaxis": {
                      "automargin": true,
                      "gridcolor": "white",
                      "linecolor": "white",
                      "ticks": "",
                      "title": {
                        "standoff": 15
                      },
                      "zerolinecolor": "white",
                      "zerolinewidth": 2
                    },
                    "yaxis": {
                      "automargin": true,
                      "gridcolor": "white",
                      "linecolor": "white",
                      "ticks": "",
                      "title": {
                        "standoff": 15
                      },
                      "zerolinecolor": "white",
                      "zerolinewidth": 2
                    }
                  }
                },
                "title": {
                  "text": "SFNEBlock Training Progress"
                },
                "xaxis": {
                  "anchor": "y",
                  "domain": [
                    0,
                    0.45
                  ],
                  "title": {
                    "text": "Epoch"
                  }
                },
                "xaxis2": {
                  "anchor": "y2",
                  "domain": [
                    0.55,
                    1
                  ],
                  "title": {
                    "text": "Epoch"
                  }
                },
                "xaxis3": {
                  "anchor": "y3",
                  "domain": [
                    0,
                    0.45
                  ],
                  "title": {
                    "text": "Epoch"
                  }
                },
                "xaxis4": {
                  "anchor": "y4",
                  "domain": [
                    0.55,
                    1
                  ],
                  "title": {
                    "text": "Epoch"
                  }
                },
                "yaxis": {
                  "anchor": "x",
                  "domain": [
                    0.625,
                    1
                  ],
                  "title": {
                    "text": "Value"
                  }
                },
                "yaxis2": {
                  "anchor": "x2",
                  "domain": [
                    0.625,
                    1
                  ],
                  "title": {
                    "text": "Value"
                  }
                },
                "yaxis3": {
                  "anchor": "x3",
                  "domain": [
                    0,
                    0.375
                  ],
                  "title": {
                    "text": "Value"
                  }
                },
                "yaxis4": {
                  "anchor": "x4",
                  "domain": [
                    0,
                    0.375
                  ],
                  "title": {
                    "text": "Value"
                  }
                }
              }
            }
          },
          "metadata": {},
          "output_type": "display_data"
        },
        {
          "name": "stdout",
          "output_type": "stream",
          "text": [
            "✅ Training visualizations created successfully!\n"
          ]
        }
      ],
      "source": [
        "# Visualize training progress using KMR plotting utilities\n",
        "print(\"📊 Creating training visualizations...\")\n",
        "\n",
        "fig = KMRPlotter.plot_training_history(\n",
        "    history,\n",
        "    metrics=['loss', 'accuracy', 'precision', 'recall'],\n",
        "    title=\"SFNEBlock Training Progress\",\n",
        "    height=600\n",
        ")\n",
        "fig.show()\n",
        "print(\"✅ Training visualizations created successfully!\")\n"
      ]
    },
    {
      "cell_type": "code",
      "execution_count": 8,
      "metadata": {},
      "outputs": [
        {
          "name": "stdout",
          "output_type": "stream",
          "text": [
            "🔍 Making predictions and creating comprehensive visualizations...\n",
            "\u001b[1m 1/13\u001b[0m \u001b[32m━\u001b[0m\u001b[37m━━━━━━━━━━━━━━━━━━━\u001b[0m \u001b[1m0s\u001b[0m 9ms/step"
          ]
        },
        {
          "name": "stdout",
          "output_type": "stream",
          "text": [
            "\u001b[1m13/13\u001b[0m \u001b[32m━━━━━━━━━━━━━━━━━━━━\u001b[0m\u001b[37m\u001b[0m \u001b[1m0s\u001b[0m 1ms/step\n"
          ]
        },
        {
          "data": {
            "application/vnd.plotly.v1+json": {
              "config": {
                "plotlyServerURL": "https://plot.ly"
              },
              "data": [
                {
                  "colorscale": [
                    [
                      0,
                      "rgb(247,251,255)"
                    ],
                    [
                      0.125,
                      "rgb(222,235,247)"
                    ],
                    [
                      0.25,
                      "rgb(198,219,239)"
                    ],
                    [
                      0.375,
                      "rgb(158,202,225)"
                    ],
                    [
                      0.5,
                      "rgb(107,174,214)"
                    ],
                    [
                      0.625,
                      "rgb(66,146,198)"
                    ],
                    [
                      0.75,
                      "rgb(33,113,181)"
                    ],
                    [
                      0.875,
                      "rgb(8,81,156)"
                    ],
                    [
                      1,
                      "rgb(8,48,107)"
                    ]
                  ],
                  "text": {
                    "bdata": "xAADAAwAvQA=",
                    "dtype": "i2",
                    "shape": "2, 2"
                  },
                  "textfont": {
                    "size": 16
                  },
                  "texttemplate": "%{text}",
                  "type": "heatmap",
                  "x": [
                    "Predicted 0",
                    "Predicted 1"
                  ],
                  "xaxis": "x",
                  "y": [
                    "Actual 0",
                    "Actual 1"
                  ],
                  "yaxis": "y",
                  "z": {
                    "bdata": "xAADAAwAvQA=",
                    "dtype": "i2",
                    "shape": "2, 2"
                  }
                },
                {
                  "marker": {
                    "color": [
                      "#1f77b4",
                      "#ff7f0e",
                      "#2ca02c",
                      "#d62728"
                    ]
                  },
                  "type": "bar",
                  "x": [
                    "Accuracy",
                    "Precision",
                    "Recall",
                    "F1-Score"
                  ],
                  "xaxis": "x2",
                  "y": [
                    0.9625,
                    0.984375,
                    0.9402985074626866,
                    0.9618320610687023
                  ],
                  "yaxis": "y2"
                },
                {
                  "name": "Scores",
                  "nbinsx": 30,
                  "type": "histogram",
                  "x": {
                    "bdata": "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",
                    "dtype": "f4"
                  },
                  "xaxis": "x3",
                  "yaxis": "y3"
                },
                {
                  "line": {
                    "width": 3
                  },
                  "mode": "lines",
                  "name": "PR Curve",
                  "type": "scatter",
                  "x": [
                    1,
                    0.6716417910447762,
                    0.5472636815920398,
                    0.43283582089552236,
                    0.35323383084577115,
                    0.2736318407960199,
                    0.23383084577114427,
                    0.19900497512437812,
                    0.16417910447761194,
                    0.14427860696517414,
                    0.12437810945273632,
                    0.11442786069651742,
                    0.09950248756218906,
                    0.09950248756218906,
                    0.0945273631840796,
                    0.07960199004975124,
                    0.07960199004975124,
                    0.05970149253731343,
                    0.05472636815920398,
                    0.04477611940298507,
                    0.03980099502487562,
                    0.03482587064676617,
                    0.029850746268656716,
                    0.024875621890547265,
                    0.024875621890547265,
                    0.024875621890547265,
                    0.024875621890547265,
                    0.01990049751243781,
                    0.01990049751243781,
                    0.01990049751243781,
                    0.01990049751243781,
                    0.014925373134328358,
                    0.014925373134328358,
                    0.014925373134328358,
                    0.014925373134328358,
                    0.014925373134328358,
                    0.014925373134328358,
                    0.014925373134328358,
                    0.014925373134328358,
                    0.014925373134328358,
                    0.014925373134328358,
                    0.014925373134328358,
                    0.014925373134328358,
                    0.014925373134328358,
                    0.014925373134328358,
                    0.014925373134328358,
                    0.014925373134328358,
                    0.014925373134328358,
                    0.014925373134328358,
                    0.014925373134328358,
                    0.014925373134328358,
                    0.014925373134328358,
                    0.014925373134328358,
                    0.014925373134328358,
                    0.014925373134328358,
                    0.009950248756218905,
                    0.009950248756218905,
                    0.009950248756218905,
                    0.009950248756218905,
                    0.009950248756218905,
                    0.009950248756218905,
                    0.009950248756218905,
                    0.004975124378109453,
                    0.004975124378109453,
                    0.004975124378109453,
                    0.004975124378109453,
                    0.004975124378109453,
                    0.004975124378109453,
                    0.004975124378109453,
                    0.004975124378109453,
                    0.004975124378109453,
                    0.004975124378109453,
                    0.004975124378109453,
                    0.004975124378109453,
                    0.004975124378109453,
                    0.004975124378109453,
                    0.004975124378109453,
                    0.004975124378109453,
                    0.004975124378109453,
                    0.004975124378109453,
                    0.004975124378109453,
                    0.004975124378109453,
                    0.004975124378109453,
                    0.004975124378109453,
                    0.004975124378109453,
                    0.004975124378109453,
                    0.004975124378109453,
                    0.004975124378109453,
                    0.004975124378109453,
                    0.004975124378109453,
                    0.004975124378109453,
                    0.004975124378109453,
                    0.004975124378109453,
                    0.004975124378109453,
                    0.004975124378109453,
                    0.004975124378109453,
                    0.004975124378109453,
                    0.004975124378109453,
                    0.004975124378109453,
                    0
                  ],
                  "xaxis": "x4",
                  "y": [
                    0.9136363636363637,
                    1,
                    1,
                    1,
                    1,
                    1,
                    1,
                    1,
                    1,
                    1,
                    1,
                    1,
                    1,
                    1,
                    1,
                    1,
                    1,
                    1,
                    1,
                    1,
                    1,
                    1,
                    1,
                    1,
                    1,
                    1,
                    1,
                    1,
                    1,
                    1,
                    1,
                    1,
                    1,
                    1,
                    1,
                    1,
                    1,
                    1,
                    1,
                    1,
                    1,
                    1,
                    1,
                    1,
                    1,
                    1,
                    1,
                    1,
                    1,
                    1,
                    1,
                    1,
                    1,
                    1,
                    1,
                    1,
                    1,
                    1,
                    1,
                    1,
                    1,
                    1,
                    1,
                    1,
                    1,
                    1,
                    1,
                    1,
                    1,
                    1,
                    1,
                    1,
                    1,
                    1,
                    1,
                    1,
                    1,
                    1,
                    1,
                    1,
                    1,
                    1,
                    1,
                    1,
                    1,
                    1,
                    1,
                    1,
                    1,
                    1,
                    1,
                    1,
                    1,
                    1,
                    1,
                    1,
                    1,
                    1,
                    1,
                    0
                  ],
                  "yaxis": "y4"
                }
              ],
              "layout": {
                "annotations": [
                  {
                    "font": {
                      "size": 16
                    },
                    "showarrow": false,
                    "text": "Confusion Matrix",
                    "x": 0.225,
                    "xanchor": "center",
                    "xref": "paper",
                    "y": 1,
                    "yanchor": "bottom",
                    "yref": "paper"
                  },
                  {
                    "font": {
                      "size": 16
                    },
                    "showarrow": false,
                    "text": "Performance Metrics",
                    "x": 0.775,
                    "xanchor": "center",
                    "xref": "paper",
                    "y": 1,
                    "yanchor": "bottom",
                    "yref": "paper"
                  },
                  {
                    "font": {
                      "size": 16
                    },
                    "showarrow": false,
                    "text": "Score Distribution",
                    "x": 0.225,
                    "xanchor": "center",
                    "xref": "paper",
                    "y": 0.375,
                    "yanchor": "bottom",
                    "yref": "paper"
                  },
                  {
                    "font": {
                      "size": 16
                    },
                    "showarrow": false,
                    "text": "Precision-Recall Curve",
                    "x": 0.775,
                    "xanchor": "center",
                    "xref": "paper",
                    "y": 0.375,
                    "yanchor": "bottom",
                    "yref": "paper"
                  }
                ],
                "height": 800,
                "showlegend": true,
                "template": {
                  "data": {
                    "bar": [
                      {
                        "error_x": {
                          "color": "#2a3f5f"
                        },
                        "error_y": {
                          "color": "#2a3f5f"
                        },
                        "marker": {
                          "line": {
                            "color": "#E5ECF6",
                            "width": 0.5
                          },
                          "pattern": {
                            "fillmode": "overlay",
                            "size": 10,
                            "solidity": 0.2
                          }
                        },
                        "type": "bar"
                      }
                    ],
                    "barpolar": [
                      {
                        "marker": {
                          "line": {
                            "color": "#E5ECF6",
                            "width": 0.5
                          },
                          "pattern": {
                            "fillmode": "overlay",
                            "size": 10,
                            "solidity": 0.2
                          }
                        },
                        "type": "barpolar"
                      }
                    ],
                    "carpet": [
                      {
                        "aaxis": {
                          "endlinecolor": "#2a3f5f",
                          "gridcolor": "white",
                          "linecolor": "white",
                          "minorgridcolor": "white",
                          "startlinecolor": "#2a3f5f"
                        },
                        "baxis": {
                          "endlinecolor": "#2a3f5f",
                          "gridcolor": "white",
                          "linecolor": "white",
                          "minorgridcolor": "white",
                          "startlinecolor": "#2a3f5f"
                        },
                        "type": "carpet"
                      }
                    ],
                    "choropleth": [
                      {
                        "colorbar": {
                          "outlinewidth": 0,
                          "ticks": ""
                        },
                        "type": "choropleth"
                      }
                    ],
                    "contour": [
                      {
                        "colorbar": {
                          "outlinewidth": 0,
                          "ticks": ""
                        },
                        "colorscale": [
                          [
                            0,
                            "#0d0887"
                          ],
                          [
                            0.1111111111111111,
                            "#46039f"
                          ],
                          [
                            0.2222222222222222,
                            "#7201a8"
                          ],
                          [
                            0.3333333333333333,
                            "#9c179e"
                          ],
                          [
                            0.4444444444444444,
                            "#bd3786"
                          ],
                          [
                            0.5555555555555556,
                            "#d8576b"
                          ],
                          [
                            0.6666666666666666,
                            "#ed7953"
                          ],
                          [
                            0.7777777777777778,
                            "#fb9f3a"
                          ],
                          [
                            0.8888888888888888,
                            "#fdca26"
                          ],
                          [
                            1,
                            "#f0f921"
                          ]
                        ],
                        "type": "contour"
                      }
                    ],
                    "contourcarpet": [
                      {
                        "colorbar": {
                          "outlinewidth": 0,
                          "ticks": ""
                        },
                        "type": "contourcarpet"
                      }
                    ],
                    "heatmap": [
                      {
                        "colorbar": {
                          "outlinewidth": 0,
                          "ticks": ""
                        },
                        "colorscale": [
                          [
                            0,
                            "#0d0887"
                          ],
                          [
                            0.1111111111111111,
                            "#46039f"
                          ],
                          [
                            0.2222222222222222,
                            "#7201a8"
                          ],
                          [
                            0.3333333333333333,
                            "#9c179e"
                          ],
                          [
                            0.4444444444444444,
                            "#bd3786"
                          ],
                          [
                            0.5555555555555556,
                            "#d8576b"
                          ],
                          [
                            0.6666666666666666,
                            "#ed7953"
                          ],
                          [
                            0.7777777777777778,
                            "#fb9f3a"
                          ],
                          [
                            0.8888888888888888,
                            "#fdca26"
                          ],
                          [
                            1,
                            "#f0f921"
                          ]
                        ],
                        "type": "heatmap"
                      }
                    ],
                    "histogram": [
                      {
                        "marker": {
                          "pattern": {
                            "fillmode": "overlay",
                            "size": 10,
                            "solidity": 0.2
                          }
                        },
                        "type": "histogram"
                      }
                    ],
                    "histogram2d": [
                      {
                        "colorbar": {
                          "outlinewidth": 0,
                          "ticks": ""
                        },
                        "colorscale": [
                          [
                            0,
                            "#0d0887"
                          ],
                          [
                            0.1111111111111111,
                            "#46039f"
                          ],
                          [
                            0.2222222222222222,
                            "#7201a8"
                          ],
                          [
                            0.3333333333333333,
                            "#9c179e"
                          ],
                          [
                            0.4444444444444444,
                            "#bd3786"
                          ],
                          [
                            0.5555555555555556,
                            "#d8576b"
                          ],
                          [
                            0.6666666666666666,
                            "#ed7953"
                          ],
                          [
                            0.7777777777777778,
                            "#fb9f3a"
                          ],
                          [
                            0.8888888888888888,
                            "#fdca26"
                          ],
                          [
                            1,
                            "#f0f921"
                          ]
                        ],
                        "type": "histogram2d"
                      }
                    ],
                    "histogram2dcontour": [
                      {
                        "colorbar": {
                          "outlinewidth": 0,
                          "ticks": ""
                        },
                        "colorscale": [
                          [
                            0,
                            "#0d0887"
                          ],
                          [
                            0.1111111111111111,
                            "#46039f"
                          ],
                          [
                            0.2222222222222222,
                            "#7201a8"
                          ],
                          [
                            0.3333333333333333,
                            "#9c179e"
                          ],
                          [
                            0.4444444444444444,
                            "#bd3786"
                          ],
                          [
                            0.5555555555555556,
                            "#d8576b"
                          ],
                          [
                            0.6666666666666666,
                            "#ed7953"
                          ],
                          [
                            0.7777777777777778,
                            "#fb9f3a"
                          ],
                          [
                            0.8888888888888888,
                            "#fdca26"
                          ],
                          [
                            1,
                            "#f0f921"
                          ]
                        ],
                        "type": "histogram2dcontour"
                      }
                    ],
                    "mesh3d": [
                      {
                        "colorbar": {
                          "outlinewidth": 0,
                          "ticks": ""
                        },
                        "type": "mesh3d"
                      }
                    ],
                    "parcoords": [
                      {
                        "line": {
                          "colorbar": {
                            "outlinewidth": 0,
                            "ticks": ""
                          }
                        },
                        "type": "parcoords"
                      }
                    ],
                    "pie": [
                      {
                        "automargin": true,
                        "type": "pie"
                      }
                    ],
                    "scatter": [
                      {
                        "fillpattern": {
                          "fillmode": "overlay",
                          "size": 10,
                          "solidity": 0.2
                        },
                        "type": "scatter"
                      }
                    ],
                    "scatter3d": [
                      {
                        "line": {
                          "colorbar": {
                            "outlinewidth": 0,
                            "ticks": ""
                          }
                        },
                        "marker": {
                          "colorbar": {
                            "outlinewidth": 0,
                            "ticks": ""
                          }
                        },
                        "type": "scatter3d"
                      }
                    ],
                    "scattercarpet": [
                      {
                        "marker": {
                          "colorbar": {
                            "outlinewidth": 0,
                            "ticks": ""
                          }
                        },
                        "type": "scattercarpet"
                      }
                    ],
                    "scattergeo": [
                      {
                        "marker": {
                          "colorbar": {
                            "outlinewidth": 0,
                            "ticks": ""
                          }
                        },
                        "type": "scattergeo"
                      }
                    ],
                    "scattergl": [
                      {
                        "marker": {
                          "colorbar": {
                            "outlinewidth": 0,
                            "ticks": ""
                          }
                        },
                        "type": "scattergl"
                      }
                    ],
                    "scattermap": [
                      {
                        "marker": {
                          "colorbar": {
                            "outlinewidth": 0,
                            "ticks": ""
                          }
                        },
                        "type": "scattermap"
                      }
                    ],
                    "scattermapbox": [
                      {
                        "marker": {
                          "colorbar": {
                            "outlinewidth": 0,
                            "ticks": ""
                          }
                        },
                        "type": "scattermapbox"
                      }
                    ],
                    "scatterpolar": [
                      {
                        "marker": {
                          "colorbar": {
                            "outlinewidth": 0,
                            "ticks": ""
                          }
                        },
                        "type": "scatterpolar"
                      }
                    ],
                    "scatterpolargl": [
                      {
                        "marker": {
                          "colorbar": {
                            "outlinewidth": 0,
                            "ticks": ""
                          }
                        },
                        "type": "scatterpolargl"
                      }
                    ],
                    "scatterternary": [
                      {
                        "marker": {
                          "colorbar": {
                            "outlinewidth": 0,
                            "ticks": ""
                          }
                        },
                        "type": "scatterternary"
                      }
                    ],
                    "surface": [
                      {
                        "colorbar": {
                          "outlinewidth": 0,
                          "ticks": ""
                        },
                        "colorscale": [
                          [
                            0,
                            "#0d0887"
                          ],
                          [
                            0.1111111111111111,
                            "#46039f"
                          ],
                          [
                            0.2222222222222222,
                            "#7201a8"
                          ],
                          [
                            0.3333333333333333,
                            "#9c179e"
                          ],
                          [
                            0.4444444444444444,
                            "#bd3786"
                          ],
                          [
                            0.5555555555555556,
                            "#d8576b"
                          ],
                          [
                            0.6666666666666666,
                            "#ed7953"
                          ],
                          [
                            0.7777777777777778,
                            "#fb9f3a"
                          ],
                          [
                            0.8888888888888888,
                            "#fdca26"
                          ],
                          [
                            1,
                            "#f0f921"
                          ]
                        ],
                        "type": "surface"
                      }
                    ],
                    "table": [
                      {
                        "cells": {
                          "fill": {
                            "color": "#EBF0F8"
                          },
                          "line": {
                            "color": "white"
                          }
                        },
                        "header": {
                          "fill": {
                            "color": "#C8D4E3"
                          },
                          "line": {
                            "color": "white"
                          }
                        },
                        "type": "table"
                      }
                    ]
                  },
                  "layout": {
                    "annotationdefaults": {
                      "arrowcolor": "#2a3f5f",
                      "arrowhead": 0,
                      "arrowwidth": 1
                    },
                    "autotypenumbers": "strict",
                    "coloraxis": {
                      "colorbar": {
                        "outlinewidth": 0,
                        "ticks": ""
                      }
                    },
                    "colorscale": {
                      "diverging": [
                        [
                          0,
                          "#8e0152"
                        ],
                        [
                          0.1,
                          "#c51b7d"
                        ],
                        [
                          0.2,
                          "#de77ae"
                        ],
                        [
                          0.3,
                          "#f1b6da"
                        ],
                        [
                          0.4,
                          "#fde0ef"
                        ],
                        [
                          0.5,
                          "#f7f7f7"
                        ],
                        [
                          0.6,
                          "#e6f5d0"
                        ],
                        [
                          0.7,
                          "#b8e186"
                        ],
                        [
                          0.8,
                          "#7fbc41"
                        ],
                        [
                          0.9,
                          "#4d9221"
                        ],
                        [
                          1,
                          "#276419"
                        ]
                      ],
                      "sequential": [
                        [
                          0,
                          "#0d0887"
                        ],
                        [
                          0.1111111111111111,
                          "#46039f"
                        ],
                        [
                          0.2222222222222222,
                          "#7201a8"
                        ],
                        [
                          0.3333333333333333,
                          "#9c179e"
                        ],
                        [
                          0.4444444444444444,
                          "#bd3786"
                        ],
                        [
                          0.5555555555555556,
                          "#d8576b"
                        ],
                        [
                          0.6666666666666666,
                          "#ed7953"
                        ],
                        [
                          0.7777777777777778,
                          "#fb9f3a"
                        ],
                        [
                          0.8888888888888888,
                          "#fdca26"
                        ],
                        [
                          1,
                          "#f0f921"
                        ]
                      ],
                      "sequentialminus": [
                        [
                          0,
                          "#0d0887"
                        ],
                        [
                          0.1111111111111111,
                          "#46039f"
                        ],
                        [
                          0.2222222222222222,
                          "#7201a8"
                        ],
                        [
                          0.3333333333333333,
                          "#9c179e"
                        ],
                        [
                          0.4444444444444444,
                          "#bd3786"
                        ],
                        [
                          0.5555555555555556,
                          "#d8576b"
                        ],
                        [
                          0.6666666666666666,
                          "#ed7953"
                        ],
                        [
                          0.7777777777777778,
                          "#fb9f3a"
                        ],
                        [
                          0.8888888888888888,
                          "#fdca26"
                        ],
                        [
                          1,
                          "#f0f921"
                        ]
                      ]
                    },
                    "colorway": [
                      "#636efa",
                      "#EF553B",
                      "#00cc96",
                      "#ab63fa",
                      "#FFA15A",
                      "#19d3f3",
                      "#FF6692",
                      "#B6E880",
                      "#FF97FF",
                      "#FECB52"
                    ],
                    "font": {
                      "color": "#2a3f5f"
                    },
                    "geo": {
                      "bgcolor": "white",
                      "lakecolor": "white",
                      "landcolor": "#E5ECF6",
                      "showlakes": true,
                      "showland": true,
                      "subunitcolor": "white"
                    },
                    "hoverlabel": {
                      "align": "left"
                    },
                    "hovermode": "closest",
                    "mapbox": {
                      "style": "light"
                    },
                    "paper_bgcolor": "white",
                    "plot_bgcolor": "#E5ECF6",
                    "polar": {
                      "angularaxis": {
                        "gridcolor": "white",
                        "linecolor": "white",
                        "ticks": ""
                      },
                      "bgcolor": "#E5ECF6",
                      "radialaxis": {
                        "gridcolor": "white",
                        "linecolor": "white",
                        "ticks": ""
                      }
                    },
                    "scene": {
                      "xaxis": {
                        "backgroundcolor": "#E5ECF6",
                        "gridcolor": "white",
                        "gridwidth": 2,
                        "linecolor": "white",
                        "showbackground": true,
                        "ticks": "",
                        "zerolinecolor": "white"
                      },
                      "yaxis": {
                        "backgroundcolor": "#E5ECF6",
                        "gridcolor": "white",
                        "gridwidth": 2,
                        "linecolor": "white",
                        "showbackground": true,
                        "ticks": "",
                        "zerolinecolor": "white"
                      },
                      "zaxis": {
                        "backgroundcolor": "#E5ECF6",
                        "gridcolor": "white",
                        "gridwidth": 2,
                        "linecolor": "white",
                        "showbackground": true,
                        "ticks": "",
                        "zerolinecolor": "white"
                      }
                    },
                    "shapedefaults": {
                      "line": {
                        "color": "#2a3f5f"
                      }
                    },
                    "ternary": {
                      "aaxis": {
                        "gridcolor": "white",
                        "linecolor": "white",
                        "ticks": ""
                      },
                      "baxis": {
                        "gridcolor": "white",
                        "linecolor": "white",
                        "ticks": ""
                      },
                      "bgcolor": "#E5ECF6",
                      "caxis": {
                        "gridcolor": "white",
                        "linecolor": "white",
                        "ticks": ""
                      }
                    },
                    "title": {
                      "x": 0.05
                    },
                    "xaxis": {
                      "automargin": true,
                      "gridcolor": "white",
                      "linecolor": "white",
                      "ticks": "",
                      "title": {
                        "standoff": 15
                      },
                      "zerolinecolor": "white",
                      "zerolinewidth": 2
                    },
                    "yaxis": {
                      "automargin": true,
                      "gridcolor": "white",
                      "linecolor": "white",
                      "ticks": "",
                      "title": {
                        "standoff": 15
                      },
                      "zerolinecolor": "white",
                      "zerolinewidth": 2
                    }
                  }
                },
                "title": {
                  "text": "SFNEBlock Classification Results"
                },
                "xaxis": {
                  "anchor": "y",
                  "domain": [
                    0,
                    0.45
                  ]
                },
                "xaxis2": {
                  "anchor": "y2",
                  "domain": [
                    0.55,
                    1
                  ]
                },
                "xaxis3": {
                  "anchor": "y3",
                  "domain": [
                    0,
                    0.45
                  ]
                },
                "xaxis4": {
                  "anchor": "y4",
                  "domain": [
                    0.55,
                    1
                  ]
                },
                "yaxis": {
                  "anchor": "x",
                  "domain": [
                    0.625,
                    1
                  ]
                },
                "yaxis2": {
                  "anchor": "x2",
                  "domain": [
                    0.625,
                    1
                  ]
                },
                "yaxis3": {
                  "anchor": "x3",
                  "domain": [
                    0,
                    0.375
                  ]
                },
                "yaxis4": {
                  "anchor": "x4",
                  "domain": [
                    0,
                    0.375
                  ]
                }
              }
            }
          },
          "metadata": {},
          "output_type": "display_data"
        },
        {
          "name": "stdout",
          "output_type": "stream",
          "text": [
            "\n",
            "📊 Final Performance Metrics:\n",
            "Accuracy: 0.9625\n",
            "Precision: 0.9844\n",
            "Recall: 0.9403\n",
            "F1-Score: 0.9618\n",
            "✅ SFNEBlock demo completed successfully!\n"
          ]
        }
      ],
      "source": [
        "# Make predictions and create comprehensive plots\n",
        "print(\"🔍 Making predictions and creating comprehensive visualizations...\")\n",
        "\n",
        "# Make predictions\n",
        "y_pred_proba = model.predict(X_test)\n",
        "y_pred = (y_pred_proba > 0.5).astype(int).flatten()\n",
        "\n",
        "# Create comprehensive classification plots\n",
        "fig = KMRPlotter.create_comprehensive_plot(\n",
        "    'classification',\n",
        "    y_true=y_test,\n",
        "    y_pred=y_pred,\n",
        "    y_scores=y_pred_proba.flatten(),\n",
        "    title=\"SFNEBlock Classification Results\"\n",
        ")\n",
        "fig.show()\n",
        "\n",
        "# Calculate additional metrics (manual F1)\n",
        "accuracy_metric = keras.metrics.BinaryAccuracy()\n",
        "precision_metric = keras.metrics.Precision()\n",
        "recall_metric = keras.metrics.Recall()\n",
        "\n",
        "accuracy_metric.update_state(y_test, y_pred)\n",
        "precision_metric.update_state(y_test, y_pred)\n",
        "recall_metric.update_state(y_test, y_pred)\n",
        "\n",
        "accuracy = accuracy_metric.result().numpy()\n",
        "precision = precision_metric.result().numpy()\n",
        "recall = recall_metric.result().numpy()\n",
        "\n",
        "f1 = 2 * (precision * recall) / (precision + recall) if (precision + recall) > 0 else 0.0\n",
        "\n",
        "print(f\"\\n📊 Final Performance Metrics:\")\n",
        "print(f\"Accuracy: {accuracy:.4f}\")\n",
        "print(f\"Precision: {precision:.4f}\")\n",
        "print(f\"Recall: {recall:.4f}\")\n",
        "print(f\"F1-Score: {f1:.4f}\")\n",
        "\n",
        "print(\"✅ SFNEBlock demo completed successfully!\")\n"
      ]
    },
    {
      "cell_type": "markdown",
      "metadata": {},
      "source": [
        "## 3. Model Serialization and Loading\n",
        "\n",
        "We will save the SFNEBlock model in Keras format and verify that a loaded model produces consistent predictions.\n"
      ]
    },
    {
      "cell_type": "code",
      "execution_count": 9,
      "metadata": {},
      "outputs": [
        {
          "name": "stderr",
          "output_type": "stream",
          "text": [
            "\u001b[32m2025-10-30 16:37:53.943\u001b[0m | \u001b[34m\u001b[1mDEBUG   \u001b[0m | \u001b[36mkmr.layers._base_layer\u001b[0m:\u001b[36m_log_initialization\u001b[0m:\u001b[36m73\u001b[0m - \u001b[34m\u001b[1mInitialized SlowNetwork with parameters: {'name': 'slow_network_1', 'trainable': True, 'dtype': {'module': 'keras', 'class_name': 'DTypePolicy', 'config': {'name': 'float32'}, 'registered_name': None}, 'input_dim': 20, 'num_layers': 2, 'units': 32}\u001b[0m\n",
            "\u001b[32m2025-10-30 16:37:53.944\u001b[0m | \u001b[34m\u001b[1mDEBUG   \u001b[0m | \u001b[36mkmr.layers._base_layer\u001b[0m:\u001b[36m_log_initialization\u001b[0m:\u001b[36m73\u001b[0m - \u001b[34m\u001b[1mInitialized HyperZZWOperator with parameters: {'name': 'hyper_zzw_operator_1', 'trainable': True, 'dtype': {'module': 'keras', 'class_name': 'DTypePolicy', 'config': {'name': 'float32'}, 'registered_name': None, 'shared_object_id': 4457399840}, 'input_dim': 64, 'context_dim': None}\u001b[0m\n",
            "\u001b[32m2025-10-30 16:37:53.946\u001b[0m | \u001b[34m\u001b[1mDEBUG   \u001b[0m | \u001b[36mkmr.models.SFNEBlock\u001b[0m:\u001b[36mcall\u001b[0m:\u001b[36m176\u001b[0m - \u001b[34m\u001b[1mSFNEBlock input shape: (64, 20)\u001b[0m\n",
            "\u001b[32m2025-10-30 16:37:53.955\u001b[0m | \u001b[34m\u001b[1mDEBUG   \u001b[0m | \u001b[36mkmr.layers.SlowNetwork\u001b[0m:\u001b[36mbuild\u001b[0m:\u001b[36m106\u001b[0m - \u001b[34m\u001b[1mSlowNetwork built with input_dim=20, num_layers=2, units=32\u001b[0m\n",
            "\u001b[32m2025-10-30 16:37:53.955\u001b[0m | \u001b[34m\u001b[1mDEBUG   \u001b[0m | \u001b[36mkmr.layers.SlowNetwork\u001b[0m:\u001b[36mcall\u001b[0m:\u001b[36m122\u001b[0m - \u001b[34m\u001b[1mSlowNetwork input shape: (64, 64)\u001b[0m\n",
            "\u001b[32m2025-10-30 16:37:53.959\u001b[0m | \u001b[34m\u001b[1mDEBUG   \u001b[0m | \u001b[36mkmr.layers.SlowNetwork\u001b[0m:\u001b[36mcall\u001b[0m:\u001b[36m126\u001b[0m - \u001b[34m\u001b[1mSlowNetwork layer 0 output shape: (64, 32)\u001b[0m\n",
            "\u001b[32m2025-10-30 16:37:53.963\u001b[0m | \u001b[34m\u001b[1mDEBUG   \u001b[0m | \u001b[36mkmr.layers.SlowNetwork\u001b[0m:\u001b[36mcall\u001b[0m:\u001b[36m126\u001b[0m - \u001b[34m\u001b[1mSlowNetwork layer 1 output shape: (64, 32)\u001b[0m\n",
            "\u001b[32m2025-10-30 16:37:53.966\u001b[0m | \u001b[34m\u001b[1mDEBUG   \u001b[0m | \u001b[36mkmr.layers.SlowNetwork\u001b[0m:\u001b[36mcall\u001b[0m:\u001b[36m129\u001b[0m - \u001b[34m\u001b[1mSlowNetwork output shape: (64, 20)\u001b[0m\n",
            "\u001b[32m2025-10-30 16:37:53.966\u001b[0m | \u001b[34m\u001b[1mDEBUG   \u001b[0m | \u001b[36mkmr.models.SFNEBlock\u001b[0m:\u001b[36mcall\u001b[0m:\u001b[36m188\u001b[0m - \u001b[34m\u001b[1mSFNEBlock hyper_kernels shape: (64, 20)\u001b[0m\n",
            "\u001b[32m2025-10-30 16:37:53.967\u001b[0m | \u001b[34m\u001b[1mDEBUG   \u001b[0m | \u001b[36mkmr.layers.HyperZZWOperator\u001b[0m:\u001b[36mbuild\u001b[0m:\u001b[36m112\u001b[0m - \u001b[34m\u001b[1mHyperZZWOperator built with input_dim=64, context_dim=20\u001b[0m\n",
            "\u001b[32m2025-10-30 16:37:53.969\u001b[0m | \u001b[34m\u001b[1mDEBUG   \u001b[0m | \u001b[36mkmr.layers.HyperZZWOperator\u001b[0m:\u001b[36mcall\u001b[0m:\u001b[36m132\u001b[0m - \u001b[34m\u001b[1mHyperZZWOperator input_tensor shape: (64, 64)\u001b[0m\n",
            "\u001b[32m2025-10-30 16:37:53.969\u001b[0m | \u001b[34m\u001b[1mDEBUG   \u001b[0m | \u001b[36mkmr.layers.HyperZZWOperator\u001b[0m:\u001b[36mcall\u001b[0m:\u001b[36m133\u001b[0m - \u001b[34m\u001b[1mHyperZZWOperator context_tensor shape: (64, 20)\u001b[0m\n",
            "\u001b[32m2025-10-30 16:37:53.974\u001b[0m | \u001b[34m\u001b[1mDEBUG   \u001b[0m | \u001b[36mkmr.layers.HyperZZWOperator\u001b[0m:\u001b[36mcall\u001b[0m:\u001b[36m153\u001b[0m - \u001b[34m\u001b[1mHyperZZWOperator output shape: (64, 64)\u001b[0m\n",
            "\u001b[32m2025-10-30 16:37:53.975\u001b[0m | \u001b[34m\u001b[1mDEBUG   \u001b[0m | \u001b[36mkmr.models.SFNEBlock\u001b[0m:\u001b[36mcall\u001b[0m:\u001b[36m192\u001b[0m - \u001b[34m\u001b[1mSFNEBlock context_weights shape: (64, 64)\u001b[0m\n",
            "\u001b[32m2025-10-30 16:37:53.976\u001b[0m | \u001b[34m\u001b[1mDEBUG   \u001b[0m | \u001b[36mkmr.models.SFNEBlock\u001b[0m:\u001b[36mcall\u001b[0m:\u001b[36m196\u001b[0m - \u001b[34m\u001b[1mSFNEBlock context_weights_expanded shape: (64, 64, 1)\u001b[0m\n",
            "\u001b[32m2025-10-30 16:37:53.982\u001b[0m | \u001b[34m\u001b[1mDEBUG   \u001b[0m | \u001b[36mkmr.models.SFNEBlock\u001b[0m:\u001b[36mcall\u001b[0m:\u001b[36m202\u001b[0m - \u001b[34m\u001b[1mSFNEBlock global_output shape: (64, 64, 20)\u001b[0m\n",
            "\u001b[32m2025-10-30 16:37:53.987\u001b[0m | \u001b[34m\u001b[1mDEBUG   \u001b[0m | \u001b[36mkmr.models.SFNEBlock\u001b[0m:\u001b[36mcall\u001b[0m:\u001b[36m206\u001b[0m - \u001b[34m\u001b[1mSFNEBlock local_output shape: (64, 64, 20)\u001b[0m\n",
            "\u001b[32m2025-10-30 16:37:53.988\u001b[0m | \u001b[34m\u001b[1mDEBUG   \u001b[0m | \u001b[36mkmr.models.SFNEBlock\u001b[0m:\u001b[36mcall\u001b[0m:\u001b[36m210\u001b[0m - \u001b[34m\u001b[1mSFNEBlock combined_output shape: (64, 64, 40)\u001b[0m\n",
            "\u001b[32m2025-10-30 16:37:53.989\u001b[0m | \u001b[34m\u001b[1mDEBUG   \u001b[0m | \u001b[36mkmr.models.SFNEBlock\u001b[0m:\u001b[36mcall\u001b[0m:\u001b[36m217\u001b[0m - \u001b[34m\u001b[1mSFNEBlock combined_output_flat shape: (64, 2560)\u001b[0m\n",
            "\u001b[32m2025-10-30 16:37:53.993\u001b[0m | \u001b[34m\u001b[1mDEBUG   \u001b[0m | \u001b[36mkmr.models.SFNEBlock\u001b[0m:\u001b[36mcall\u001b[0m:\u001b[36m223\u001b[0m - \u001b[34m\u001b[1mSFNEBlock bottleneck_output shape: (64, 20)\u001b[0m\n",
            "\u001b[32m2025-10-30 16:37:53.996\u001b[0m | \u001b[34m\u001b[1mDEBUG   \u001b[0m | \u001b[36mkmr.models.SFNEBlock\u001b[0m:\u001b[36mcall\u001b[0m:\u001b[36m227\u001b[0m - \u001b[34m\u001b[1mSFNEBlock output_layer output shape: (64, 1)\u001b[0m\n",
            "\u001b[32m2025-10-30 16:37:54.081\u001b[0m | \u001b[34m\u001b[1mDEBUG   \u001b[0m | \u001b[36mkmr.models.SFNEBlock\u001b[0m:\u001b[36mcall\u001b[0m:\u001b[36m176\u001b[0m - \u001b[34m\u001b[1mSFNEBlock input shape: (32, 20)\u001b[0m\n",
            "\u001b[32m2025-10-30 16:37:54.085\u001b[0m | \u001b[34m\u001b[1mDEBUG   \u001b[0m | \u001b[36mkmr.layers.SlowNetwork\u001b[0m:\u001b[36mcall\u001b[0m:\u001b[36m122\u001b[0m - \u001b[34m\u001b[1mSlowNetwork input shape: (32, 64)\u001b[0m\n",
            "\u001b[32m2025-10-30 16:37:54.087\u001b[0m | \u001b[34m\u001b[1mDEBUG   \u001b[0m | \u001b[36mkmr.layers.SlowNetwork\u001b[0m:\u001b[36mcall\u001b[0m:\u001b[36m126\u001b[0m - \u001b[34m\u001b[1mSlowNetwork layer 0 output shape: (32, 32)\u001b[0m\n",
            "\u001b[32m2025-10-30 16:37:54.089\u001b[0m | \u001b[34m\u001b[1mDEBUG   \u001b[0m | \u001b[36mkmr.layers.SlowNetwork\u001b[0m:\u001b[36mcall\u001b[0m:\u001b[36m126\u001b[0m - \u001b[34m\u001b[1mSlowNetwork layer 1 output shape: (32, 32)\u001b[0m\n",
            "\u001b[32m2025-10-30 16:37:54.090\u001b[0m | \u001b[34m\u001b[1mDEBUG   \u001b[0m | \u001b[36mkmr.layers.SlowNetwork\u001b[0m:\u001b[36mcall\u001b[0m:\u001b[36m129\u001b[0m - \u001b[34m\u001b[1mSlowNetwork output shape: (32, 20)\u001b[0m\n",
            "\u001b[32m2025-10-30 16:37:54.090\u001b[0m | \u001b[34m\u001b[1mDEBUG   \u001b[0m | \u001b[36mkmr.models.SFNEBlock\u001b[0m:\u001b[36mcall\u001b[0m:\u001b[36m188\u001b[0m - \u001b[34m\u001b[1mSFNEBlock hyper_kernels shape: (32, 20)\u001b[0m\n",
            "\u001b[32m2025-10-30 16:37:54.091\u001b[0m | \u001b[34m\u001b[1mDEBUG   \u001b[0m | \u001b[36mkmr.layers.HyperZZWOperator\u001b[0m:\u001b[36mcall\u001b[0m:\u001b[36m132\u001b[0m - \u001b[34m\u001b[1mHyperZZWOperator input_tensor shape: (32, 64)\u001b[0m\n",
            "\u001b[32m2025-10-30 16:37:54.091\u001b[0m | \u001b[34m\u001b[1mDEBUG   \u001b[0m | \u001b[36mkmr.layers.HyperZZWOperator\u001b[0m:\u001b[36mcall\u001b[0m:\u001b[36m133\u001b[0m - \u001b[34m\u001b[1mHyperZZWOperator context_tensor shape: (32, 20)\u001b[0m\n",
            "\u001b[32m2025-10-30 16:37:54.092\u001b[0m | \u001b[34m\u001b[1mDEBUG   \u001b[0m | \u001b[36mkmr.layers.HyperZZWOperator\u001b[0m:\u001b[36mcall\u001b[0m:\u001b[36m153\u001b[0m - \u001b[34m\u001b[1mHyperZZWOperator output shape: (32, 64)\u001b[0m\n",
            "\u001b[32m2025-10-30 16:37:54.092\u001b[0m | \u001b[34m\u001b[1mDEBUG   \u001b[0m | \u001b[36mkmr.models.SFNEBlock\u001b[0m:\u001b[36mcall\u001b[0m:\u001b[36m192\u001b[0m - \u001b[34m\u001b[1mSFNEBlock context_weights shape: (32, 64)\u001b[0m\n",
            "\u001b[32m2025-10-30 16:37:54.093\u001b[0m | \u001b[34m\u001b[1mDEBUG   \u001b[0m | \u001b[36mkmr.models.SFNEBlock\u001b[0m:\u001b[36mcall\u001b[0m:\u001b[36m196\u001b[0m - \u001b[34m\u001b[1mSFNEBlock context_weights_expanded shape: (32, 64, 1)\u001b[0m\n",
            "\u001b[32m2025-10-30 16:37:54.097\u001b[0m | \u001b[34m\u001b[1mDEBUG   \u001b[0m | \u001b[36mkmr.models.SFNEBlock\u001b[0m:\u001b[36mcall\u001b[0m:\u001b[36m202\u001b[0m - \u001b[34m\u001b[1mSFNEBlock global_output shape: (32, 64, 20)\u001b[0m\n",
            "\u001b[32m2025-10-30 16:37:54.103\u001b[0m | \u001b[34m\u001b[1mDEBUG   \u001b[0m | \u001b[36mkmr.models.SFNEBlock\u001b[0m:\u001b[36mcall\u001b[0m:\u001b[36m206\u001b[0m - \u001b[34m\u001b[1mSFNEBlock local_output shape: (32, 64, 20)\u001b[0m\n",
            "\u001b[32m2025-10-30 16:37:54.104\u001b[0m | \u001b[34m\u001b[1mDEBUG   \u001b[0m | \u001b[36mkmr.models.SFNEBlock\u001b[0m:\u001b[36mcall\u001b[0m:\u001b[36m210\u001b[0m - \u001b[34m\u001b[1mSFNEBlock combined_output shape: (32, 64, 40)\u001b[0m\n",
            "\u001b[32m2025-10-30 16:37:54.104\u001b[0m | \u001b[34m\u001b[1mDEBUG   \u001b[0m | \u001b[36mkmr.models.SFNEBlock\u001b[0m:\u001b[36mcall\u001b[0m:\u001b[36m217\u001b[0m - \u001b[34m\u001b[1mSFNEBlock combined_output_flat shape: (32, 2560)\u001b[0m\n",
            "\u001b[32m2025-10-30 16:37:54.106\u001b[0m | \u001b[34m\u001b[1mDEBUG   \u001b[0m | \u001b[36mkmr.models.SFNEBlock\u001b[0m:\u001b[36mcall\u001b[0m:\u001b[36m223\u001b[0m - \u001b[34m\u001b[1mSFNEBlock bottleneck_output shape: (32, 20)\u001b[0m\n",
            "\u001b[32m2025-10-30 16:37:54.109\u001b[0m | \u001b[34m\u001b[1mDEBUG   \u001b[0m | \u001b[36mkmr.models.SFNEBlock\u001b[0m:\u001b[36mcall\u001b[0m:\u001b[36m227\u001b[0m - \u001b[34m\u001b[1mSFNEBlock output_layer output shape: (32, 1)\u001b[0m\n"
          ]
        },
        {
          "name": "stdout",
          "output_type": "stream",
          "text": [
            "💾 Testing Keras format serialization for SFNEBlock...\n",
            "✅ Model saved to: /var/folders/v8/4l9cyywn1x970gdc1v67r5480000gn/T/tmpqhf6act7/sfne_block_demo.keras\n",
            "✅ Model loaded successfully!\n",
            "🔍 Mean absolute difference between original and loaded predictions: 0.000000\n",
            "✅ Loaded model prediction check completed!\n"
          ]
        }
      ],
      "source": [
        "import os, tempfile\n",
        "print(\"💾 Testing Keras format serialization for SFNEBlock...\")\n",
        "\n",
        "with tempfile.TemporaryDirectory() as temp_dir:\n",
        "    keras_path = os.path.join(temp_dir, \"sfne_block_demo.keras\")\n",
        "\n",
        "    # Save\n",
        "    model.save(keras_path)\n",
        "    print(f\"✅ Model saved to: {keras_path}\")\n",
        "\n",
        "    # Load\n",
        "    loaded_model = keras.models.load_model(keras_path)\n",
        "    print(\"✅ Model loaded successfully!\")\n",
        "\n",
        "    # Compare predictions on a small slice\n",
        "    sl = slice(0, 256)\n",
        "    preds_orig = model.predict(X_test[sl], verbose=0)\n",
        "    preds_loaded = loaded_model.predict(X_test[sl], verbose=0)\n",
        "\n",
        "    # Report similarity\n",
        "    diff = np.mean(np.abs(preds_orig - preds_loaded))\n",
        "    print(f\"🔍 Mean absolute difference between original and loaded predictions: {float(diff):.6f}\")\n",
        "    print(\"✅ Loaded model prediction check completed!\")\n"
      ]
    },
    {
      "cell_type": "markdown",
      "metadata": {},
      "source": [
        "## 3. Scenario 2: SFNEBlock With Preprocessing\n"
      ]
    },
    {
      "cell_type": "code",
      "execution_count": 10,
      "metadata": {},
      "outputs": [
        {
          "name": "stdout",
          "output_type": "stream",
          "text": [
            "Multi-input training data shapes:\n",
            "  feature1: (1600, 8)\n",
            "  feature2: (1600, 6)\n",
            "  feature3: (1600, 6)\n",
            "Target shape: (1600,)\n"
          ]
        }
      ],
      "source": [
        "# Generate multi-input data for preprocessing\n",
        "feature_shapes = {\n",
        "    'feature1': (8,),\n",
        "    'feature2': (6,),\n",
        "    'feature3': (6,)\n",
        "}\n",
        "\n",
        "X_train_dict, X_test_dict, y_train_prep, y_test_prep = KMRDataGenerator.generate_multi_input_data(\n",
        "    n_samples=2000,\n",
        "    feature_shapes=feature_shapes,\n",
        "    task_type=\"classification\"\n",
        ")\n",
        "\n",
        "print(f\"Multi-input training data shapes:\")\n",
        "for name, data in X_train_dict.items():\n",
        "    print(f\"  {name}: {data.shape}\")\n",
        "print(f\"Target shape: {y_train_prep.shape}\")\n"
      ]
    },
    {
      "cell_type": "code",
      "execution_count": 11,
      "metadata": {},
      "outputs": [
        {
          "name": "stdout",
          "output_type": "stream",
          "text": [
            "✅ Preprocessing model created successfully!\n",
            "Preprocessing model input shapes: [(None, 8), (None, 6), (None, 6)]\n",
            "Preprocessing model output shape: (None, 32)\n"
          ]
        }
      ],
      "source": [
        "# Create preprocessing model\n",
        "preprocessing_model = KMRDataGenerator.create_preprocessing_model(\n",
        "    input_shapes=feature_shapes,\n",
        "    output_dim=32,\n",
        "    name=\"classification_preprocessing\"\n",
        ")\n",
        "\n",
        "print(\"✅ Preprocessing model created successfully!\")\n",
        "print(f\"Preprocessing model input shapes: {preprocessing_model.input_shape}\")\n",
        "print(f\"Preprocessing model output shape: {preprocessing_model.output_shape}\")\n"
      ]
    },
    {
      "cell_type": "code",
      "execution_count": 20,
      "metadata": {},
      "outputs": [
        {
          "name": "stderr",
          "output_type": "stream",
          "text": [
            "\u001b[32m2025-10-30 16:40:32.329\u001b[0m | \u001b[34m\u001b[1mDEBUG   \u001b[0m | \u001b[36mkmr.models._base\u001b[0m:\u001b[36m_setup_preprocessing_model\u001b[0m:\u001b[36m294\u001b[0m - \u001b[34m\u001b[1mSetting up preprocessing model integration\u001b[0m\n",
            "\u001b[32m2025-10-30 16:40:32.330\u001b[0m | \u001b[34m\u001b[1mDEBUG   \u001b[0m | \u001b[36mkmr.layers._base_layer\u001b[0m:\u001b[36m_log_initialization\u001b[0m:\u001b[36m73\u001b[0m - \u001b[34m\u001b[1mInitialized SlowNetwork with parameters: {'name': 'slow_network_4', 'trainable': True, 'dtype': {'module': 'keras', 'class_name': 'DTypePolicy', 'config': {'name': 'float32'}, 'registered_name': None}, 'input_dim': 20, 'num_layers': 2, 'units': 32}\u001b[0m\n",
            "\u001b[32m2025-10-30 16:40:32.331\u001b[0m | \u001b[34m\u001b[1mDEBUG   \u001b[0m | \u001b[36mkmr.layers._base_layer\u001b[0m:\u001b[36m_log_initialization\u001b[0m:\u001b[36m73\u001b[0m - \u001b[34m\u001b[1mInitialized HyperZZWOperator with parameters: {'name': 'hyper_zzw_operator_4', 'trainable': True, 'dtype': {'module': 'keras', 'class_name': 'DTypePolicy', 'config': {'name': 'float32'}, 'registered_name': None}, 'input_dim': 64, 'context_dim': None}\u001b[0m\n"
          ]
        },
        {
          "name": "stdout",
          "output_type": "stream",
          "text": [
            "✅ SFNEBlock (with preprocessing) created successfully!\n",
            "Model hidden units: 64\n",
            "Model output units: 1\n",
            "Preprocessing model: True\n",
            "✅ Model compiled successfully!\n"
          ]
        }
      ],
      "source": [
        "# Create SFNEBlock with preprocessing\n",
        "model_with_preprocessing = SFNEBlock(\n",
        "    input_dim=n_features,\n",
        "    output_dim=1,  # Binary classification\n",
        "    hidden_dim=64,\n",
        "    num_layers=2,\n",
        "    slow_network_units=32,\n",
        "    slow_network_layers=2,\n",
        "    preprocessing_model=preprocessing_model\n",
        "    \n",
        ")\n",
        "\n",
        "print(\"✅ SFNEBlock (with preprocessing) created successfully!\")\n",
        "print(f\"Model hidden units: {model_with_preprocessing.hidden_dim}\")\n",
        "print(f\"Model output units: {model_with_preprocessing.output_dim}\")\n",
        "print(f\"Preprocessing model: {model_with_preprocessing.preprocessing_model is not None}\")\n",
        "\n",
        "# Compile the model\n",
        "model_with_preprocessing.compile(\n",
        "    optimizer=\"adam\",\n",
        "    loss=\"binary_crossentropy\",\n",
        "    metrics=[\"accuracy\", \"precision\", \"recall\"]\n",
        ")\n",
        "\n",
        "print(\"✅ Model compiled successfully!\")\n"
      ]
    },
    {
      "cell_type": "code",
      "execution_count": 21,
      "metadata": {},
      "outputs": [
        {
          "name": "stderr",
          "output_type": "stream",
          "text": [
            "\u001b[32m2025-10-30 16:40:36.114\u001b[0m | \u001b[1mINFO    \u001b[0m | \u001b[36mkmr.models._base\u001b[0m:\u001b[36m_auto_fit_preprocessing_model\u001b[0m:\u001b[36m341\u001b[0m - \u001b[1mAuto-fitting preprocessing model with training data...\u001b[0m\n",
            "\u001b[32m2025-10-30 16:40:36.115\u001b[0m | \u001b[1mINFO    \u001b[0m | \u001b[36mkmr.models._base\u001b[0m:\u001b[36m_auto_fit_preprocessing_model\u001b[0m:\u001b[36m358\u001b[0m - \u001b[1mBuilt Keras preprocessing model detected - no fitting needed\u001b[0m\n",
            "\u001b[32m2025-10-30 16:40:36.115\u001b[0m | \u001b[1mINFO    \u001b[0m | \u001b[36mkmr.models._base\u001b[0m:\u001b[36m_auto_fit_preprocessing_model\u001b[0m:\u001b[36m393\u001b[0m - \u001b[1mPreprocessing model auto-fitting completed\u001b[0m\n"
          ]
        },
        {
          "name": "stdout",
          "output_type": "stream",
          "text": [
            "🚀 Starting training (with preprocessing)...\n",
            "Epoch 1/30\n"
          ]
        },
        {
          "name": "stderr",
          "output_type": "stream",
          "text": [
            "\u001b[32m2025-10-30 16:40:36.164\u001b[0m | \u001b[34m\u001b[1mDEBUG   \u001b[0m | \u001b[36mkmr.models.SFNEBlock\u001b[0m:\u001b[36mcall\u001b[0m:\u001b[36m176\u001b[0m - \u001b[34m\u001b[1mSFNEBlock input shape: (64, 32)\u001b[0m\n",
            "\u001b[32m2025-10-30 16:40:36.177\u001b[0m | \u001b[34m\u001b[1mDEBUG   \u001b[0m | \u001b[36mkmr.layers.SlowNetwork\u001b[0m:\u001b[36mbuild\u001b[0m:\u001b[36m106\u001b[0m - \u001b[34m\u001b[1mSlowNetwork built with input_dim=20, num_layers=2, units=32\u001b[0m\n",
            "\u001b[32m2025-10-30 16:40:36.178\u001b[0m | \u001b[34m\u001b[1mDEBUG   \u001b[0m | \u001b[36mkmr.layers.SlowNetwork\u001b[0m:\u001b[36mcall\u001b[0m:\u001b[36m122\u001b[0m - \u001b[34m\u001b[1mSlowNetwork input shape: (64, 64)\u001b[0m\n",
            "\u001b[32m2025-10-30 16:40:36.184\u001b[0m | \u001b[34m\u001b[1mDEBUG   \u001b[0m | \u001b[36mkmr.layers.SlowNetwork\u001b[0m:\u001b[36mcall\u001b[0m:\u001b[36m126\u001b[0m - \u001b[34m\u001b[1mSlowNetwork layer 0 output shape: (64, 32)\u001b[0m\n",
            "\u001b[32m2025-10-30 16:40:36.188\u001b[0m | \u001b[34m\u001b[1mDEBUG   \u001b[0m | \u001b[36mkmr.layers.SlowNetwork\u001b[0m:\u001b[36mcall\u001b[0m:\u001b[36m126\u001b[0m - \u001b[34m\u001b[1mSlowNetwork layer 1 output shape: (64, 32)\u001b[0m\n",
            "\u001b[32m2025-10-30 16:40:36.192\u001b[0m | \u001b[34m\u001b[1mDEBUG   \u001b[0m | \u001b[36mkmr.layers.SlowNetwork\u001b[0m:\u001b[36mcall\u001b[0m:\u001b[36m129\u001b[0m - \u001b[34m\u001b[1mSlowNetwork output shape: (64, 20)\u001b[0m\n",
            "\u001b[32m2025-10-30 16:40:36.192\u001b[0m | \u001b[34m\u001b[1mDEBUG   \u001b[0m | \u001b[36mkmr.models.SFNEBlock\u001b[0m:\u001b[36mcall\u001b[0m:\u001b[36m188\u001b[0m - \u001b[34m\u001b[1mSFNEBlock hyper_kernels shape: (64, 20)\u001b[0m\n",
            "\u001b[32m2025-10-30 16:40:36.193\u001b[0m | \u001b[34m\u001b[1mDEBUG   \u001b[0m | \u001b[36mkmr.layers.HyperZZWOperator\u001b[0m:\u001b[36mbuild\u001b[0m:\u001b[36m112\u001b[0m - \u001b[34m\u001b[1mHyperZZWOperator built with input_dim=64, context_dim=20\u001b[0m\n",
            "\u001b[32m2025-10-30 16:40:36.193\u001b[0m | \u001b[34m\u001b[1mDEBUG   \u001b[0m | \u001b[36mkmr.layers.HyperZZWOperator\u001b[0m:\u001b[36mcall\u001b[0m:\u001b[36m132\u001b[0m - \u001b[34m\u001b[1mHyperZZWOperator input_tensor shape: (64, 64)\u001b[0m\n",
            "\u001b[32m2025-10-30 16:40:36.193\u001b[0m | \u001b[34m\u001b[1mDEBUG   \u001b[0m | \u001b[36mkmr.layers.HyperZZWOperator\u001b[0m:\u001b[36mcall\u001b[0m:\u001b[36m133\u001b[0m - \u001b[34m\u001b[1mHyperZZWOperator context_tensor shape: (64, 20)\u001b[0m\n",
            "\u001b[32m2025-10-30 16:40:36.198\u001b[0m | \u001b[34m\u001b[1mDEBUG   \u001b[0m | \u001b[36mkmr.layers.HyperZZWOperator\u001b[0m:\u001b[36mcall\u001b[0m:\u001b[36m153\u001b[0m - \u001b[34m\u001b[1mHyperZZWOperator output shape: (64, 64)\u001b[0m\n",
            "\u001b[32m2025-10-30 16:40:36.199\u001b[0m | \u001b[34m\u001b[1mDEBUG   \u001b[0m | \u001b[36mkmr.models.SFNEBlock\u001b[0m:\u001b[36mcall\u001b[0m:\u001b[36m192\u001b[0m - \u001b[34m\u001b[1mSFNEBlock context_weights shape: (64, 64)\u001b[0m\n",
            "\u001b[32m2025-10-30 16:40:36.200\u001b[0m | \u001b[34m\u001b[1mDEBUG   \u001b[0m | \u001b[36mkmr.models.SFNEBlock\u001b[0m:\u001b[36mcall\u001b[0m:\u001b[36m196\u001b[0m - \u001b[34m\u001b[1mSFNEBlock context_weights_expanded shape: (64, 64, 1)\u001b[0m\n",
            "\u001b[32m2025-10-30 16:40:36.205\u001b[0m | \u001b[34m\u001b[1mDEBUG   \u001b[0m | \u001b[36mkmr.models.SFNEBlock\u001b[0m:\u001b[36mcall\u001b[0m:\u001b[36m202\u001b[0m - \u001b[34m\u001b[1mSFNEBlock global_output shape: (64, 64, 20)\u001b[0m\n",
            "\u001b[32m2025-10-30 16:40:36.212\u001b[0m | \u001b[34m\u001b[1mDEBUG   \u001b[0m | \u001b[36mkmr.models.SFNEBlock\u001b[0m:\u001b[36mcall\u001b[0m:\u001b[36m206\u001b[0m - \u001b[34m\u001b[1mSFNEBlock local_output shape: (64, 64, 20)\u001b[0m\n",
            "\u001b[32m2025-10-30 16:40:36.213\u001b[0m | \u001b[34m\u001b[1mDEBUG   \u001b[0m | \u001b[36mkmr.models.SFNEBlock\u001b[0m:\u001b[36mcall\u001b[0m:\u001b[36m210\u001b[0m - \u001b[34m\u001b[1mSFNEBlock combined_output shape: (64, 64, 40)\u001b[0m\n",
            "\u001b[32m2025-10-30 16:40:36.213\u001b[0m | \u001b[34m\u001b[1mDEBUG   \u001b[0m | \u001b[36mkmr.models.SFNEBlock\u001b[0m:\u001b[36mcall\u001b[0m:\u001b[36m217\u001b[0m - \u001b[34m\u001b[1mSFNEBlock combined_output_flat shape: (64, 2560)\u001b[0m\n",
            "\u001b[32m2025-10-30 16:40:36.219\u001b[0m | \u001b[34m\u001b[1mDEBUG   \u001b[0m | \u001b[36mkmr.models.SFNEBlock\u001b[0m:\u001b[36mcall\u001b[0m:\u001b[36m223\u001b[0m - \u001b[34m\u001b[1mSFNEBlock bottleneck_output shape: (64, 20)\u001b[0m\n",
            "\u001b[32m2025-10-30 16:40:36.223\u001b[0m | \u001b[34m\u001b[1mDEBUG   \u001b[0m | \u001b[36mkmr.models.SFNEBlock\u001b[0m:\u001b[36mcall\u001b[0m:\u001b[36m227\u001b[0m - \u001b[34m\u001b[1mSFNEBlock output_layer output shape: (64, 1)\u001b[0m\n",
            "\u001b[32m2025-10-30 16:40:36.262\u001b[0m | \u001b[34m\u001b[1mDEBUG   \u001b[0m | \u001b[36mkmr.models.SFNEBlock\u001b[0m:\u001b[36mcall\u001b[0m:\u001b[36m176\u001b[0m - \u001b[34m\u001b[1mSFNEBlock input shape: (64, 32)\u001b[0m\n",
            "\u001b[32m2025-10-30 16:40:36.266\u001b[0m | \u001b[34m\u001b[1mDEBUG   \u001b[0m | \u001b[36mkmr.layers.SlowNetwork\u001b[0m:\u001b[36mcall\u001b[0m:\u001b[36m122\u001b[0m - \u001b[34m\u001b[1mSlowNetwork input shape: (64, 64)\u001b[0m\n",
            "\u001b[32m2025-10-30 16:40:36.268\u001b[0m | \u001b[34m\u001b[1mDEBUG   \u001b[0m | \u001b[36mkmr.layers.SlowNetwork\u001b[0m:\u001b[36mcall\u001b[0m:\u001b[36m126\u001b[0m - \u001b[34m\u001b[1mSlowNetwork layer 0 output shape: (64, 32)\u001b[0m\n",
            "\u001b[32m2025-10-30 16:40:36.270\u001b[0m | \u001b[34m\u001b[1mDEBUG   \u001b[0m | \u001b[36mkmr.layers.SlowNetwork\u001b[0m:\u001b[36mcall\u001b[0m:\u001b[36m126\u001b[0m - \u001b[34m\u001b[1mSlowNetwork layer 1 output shape: (64, 32)\u001b[0m\n",
            "\u001b[32m2025-10-30 16:40:36.272\u001b[0m | \u001b[34m\u001b[1mDEBUG   \u001b[0m | \u001b[36mkmr.layers.SlowNetwork\u001b[0m:\u001b[36mcall\u001b[0m:\u001b[36m129\u001b[0m - \u001b[34m\u001b[1mSlowNetwork output shape: (64, 20)\u001b[0m\n",
            "\u001b[32m2025-10-30 16:40:36.272\u001b[0m | \u001b[34m\u001b[1mDEBUG   \u001b[0m | \u001b[36mkmr.models.SFNEBlock\u001b[0m:\u001b[36mcall\u001b[0m:\u001b[36m188\u001b[0m - \u001b[34m\u001b[1mSFNEBlock hyper_kernels shape: (64, 20)\u001b[0m\n",
            "\u001b[32m2025-10-30 16:40:36.272\u001b[0m | \u001b[34m\u001b[1mDEBUG   \u001b[0m | \u001b[36mkmr.layers.HyperZZWOperator\u001b[0m:\u001b[36mcall\u001b[0m:\u001b[36m132\u001b[0m - \u001b[34m\u001b[1mHyperZZWOperator input_tensor shape: (64, 64)\u001b[0m\n",
            "\u001b[32m2025-10-30 16:40:36.272\u001b[0m | \u001b[34m\u001b[1mDEBUG   \u001b[0m | \u001b[36mkmr.layers.HyperZZWOperator\u001b[0m:\u001b[36mcall\u001b[0m:\u001b[36m133\u001b[0m - \u001b[34m\u001b[1mHyperZZWOperator context_tensor shape: (64, 20)\u001b[0m\n",
            "\u001b[32m2025-10-30 16:40:36.273\u001b[0m | \u001b[34m\u001b[1mDEBUG   \u001b[0m | \u001b[36mkmr.layers.HyperZZWOperator\u001b[0m:\u001b[36mcall\u001b[0m:\u001b[36m153\u001b[0m - \u001b[34m\u001b[1mHyperZZWOperator output shape: (64, 64)\u001b[0m\n",
            "\u001b[32m2025-10-30 16:40:36.274\u001b[0m | \u001b[34m\u001b[1mDEBUG   \u001b[0m | \u001b[36mkmr.models.SFNEBlock\u001b[0m:\u001b[36mcall\u001b[0m:\u001b[36m192\u001b[0m - \u001b[34m\u001b[1mSFNEBlock context_weights shape: (64, 64)\u001b[0m\n",
            "\u001b[32m2025-10-30 16:40:36.274\u001b[0m | \u001b[34m\u001b[1mDEBUG   \u001b[0m | \u001b[36mkmr.models.SFNEBlock\u001b[0m:\u001b[36mcall\u001b[0m:\u001b[36m196\u001b[0m - \u001b[34m\u001b[1mSFNEBlock context_weights_expanded shape: (64, 64, 1)\u001b[0m\n",
            "\u001b[32m2025-10-30 16:40:36.278\u001b[0m | \u001b[34m\u001b[1mDEBUG   \u001b[0m | \u001b[36mkmr.models.SFNEBlock\u001b[0m:\u001b[36mcall\u001b[0m:\u001b[36m202\u001b[0m - \u001b[34m\u001b[1mSFNEBlock global_output shape: (64, 64, 20)\u001b[0m\n",
            "\u001b[32m2025-10-30 16:40:36.282\u001b[0m | \u001b[34m\u001b[1mDEBUG   \u001b[0m | \u001b[36mkmr.models.SFNEBlock\u001b[0m:\u001b[36mcall\u001b[0m:\u001b[36m206\u001b[0m - \u001b[34m\u001b[1mSFNEBlock local_output shape: (64, 64, 20)\u001b[0m\n",
            "\u001b[32m2025-10-30 16:40:36.283\u001b[0m | \u001b[34m\u001b[1mDEBUG   \u001b[0m | \u001b[36mkmr.models.SFNEBlock\u001b[0m:\u001b[36mcall\u001b[0m:\u001b[36m210\u001b[0m - \u001b[34m\u001b[1mSFNEBlock combined_output shape: (64, 64, 40)\u001b[0m\n",
            "\u001b[32m2025-10-30 16:40:36.283\u001b[0m | \u001b[34m\u001b[1mDEBUG   \u001b[0m | \u001b[36mkmr.models.SFNEBlock\u001b[0m:\u001b[36mcall\u001b[0m:\u001b[36m217\u001b[0m - \u001b[34m\u001b[1mSFNEBlock combined_output_flat shape: (64, 2560)\u001b[0m\n",
            "\u001b[32m2025-10-30 16:40:36.286\u001b[0m | \u001b[34m\u001b[1mDEBUG   \u001b[0m | \u001b[36mkmr.models.SFNEBlock\u001b[0m:\u001b[36mcall\u001b[0m:\u001b[36m223\u001b[0m - \u001b[34m\u001b[1mSFNEBlock bottleneck_output shape: (64, 20)\u001b[0m\n",
            "\u001b[32m2025-10-30 16:40:36.288\u001b[0m | \u001b[34m\u001b[1mDEBUG   \u001b[0m | \u001b[36mkmr.models.SFNEBlock\u001b[0m:\u001b[36mcall\u001b[0m:\u001b[36m227\u001b[0m - \u001b[34m\u001b[1mSFNEBlock output_layer output shape: (64, 1)\u001b[0m\n",
            "\u001b[32m2025-10-30 16:40:36.944\u001b[0m | \u001b[34m\u001b[1mDEBUG   \u001b[0m | \u001b[36mkmr.models.SFNEBlock\u001b[0m:\u001b[36mcall\u001b[0m:\u001b[36m176\u001b[0m - \u001b[34m\u001b[1mSFNEBlock input shape: (64, 32)\u001b[0m\n",
            "\u001b[32m2025-10-30 16:40:36.948\u001b[0m | \u001b[34m\u001b[1mDEBUG   \u001b[0m | \u001b[36mkmr.layers.SlowNetwork\u001b[0m:\u001b[36mcall\u001b[0m:\u001b[36m122\u001b[0m - \u001b[34m\u001b[1mSlowNetwork input shape: (64, 64)\u001b[0m\n",
            "\u001b[32m2025-10-30 16:40:36.950\u001b[0m | \u001b[34m\u001b[1mDEBUG   \u001b[0m | \u001b[36mkmr.layers.SlowNetwork\u001b[0m:\u001b[36mcall\u001b[0m:\u001b[36m126\u001b[0m - \u001b[34m\u001b[1mSlowNetwork layer 0 output shape: (64, 32)\u001b[0m\n",
            "\u001b[32m2025-10-30 16:40:36.952\u001b[0m | \u001b[34m\u001b[1mDEBUG   \u001b[0m | \u001b[36mkmr.layers.SlowNetwork\u001b[0m:\u001b[36mcall\u001b[0m:\u001b[36m126\u001b[0m - \u001b[34m\u001b[1mSlowNetwork layer 1 output shape: (64, 32)\u001b[0m\n",
            "\u001b[32m2025-10-30 16:40:36.954\u001b[0m | \u001b[34m\u001b[1mDEBUG   \u001b[0m | \u001b[36mkmr.layers.SlowNetwork\u001b[0m:\u001b[36mcall\u001b[0m:\u001b[36m129\u001b[0m - \u001b[34m\u001b[1mSlowNetwork output shape: (64, 20)\u001b[0m\n",
            "\u001b[32m2025-10-30 16:40:36.954\u001b[0m | \u001b[34m\u001b[1mDEBUG   \u001b[0m | \u001b[36mkmr.models.SFNEBlock\u001b[0m:\u001b[36mcall\u001b[0m:\u001b[36m188\u001b[0m - \u001b[34m\u001b[1mSFNEBlock hyper_kernels shape: (64, 20)\u001b[0m\n",
            "\u001b[32m2025-10-30 16:40:36.954\u001b[0m | \u001b[34m\u001b[1mDEBUG   \u001b[0m | \u001b[36mkmr.layers.HyperZZWOperator\u001b[0m:\u001b[36mcall\u001b[0m:\u001b[36m132\u001b[0m - \u001b[34m\u001b[1mHyperZZWOperator input_tensor shape: (64, 64)\u001b[0m\n",
            "\u001b[32m2025-10-30 16:40:36.954\u001b[0m | \u001b[34m\u001b[1mDEBUG   \u001b[0m | \u001b[36mkmr.layers.HyperZZWOperator\u001b[0m:\u001b[36mcall\u001b[0m:\u001b[36m133\u001b[0m - \u001b[34m\u001b[1mHyperZZWOperator context_tensor shape: (64, 20)\u001b[0m\n",
            "\u001b[32m2025-10-30 16:40:36.956\u001b[0m | \u001b[34m\u001b[1mDEBUG   \u001b[0m | \u001b[36mkmr.layers.HyperZZWOperator\u001b[0m:\u001b[36mcall\u001b[0m:\u001b[36m153\u001b[0m - \u001b[34m\u001b[1mHyperZZWOperator output shape: (64, 64)\u001b[0m\n",
            "\u001b[32m2025-10-30 16:40:36.956\u001b[0m | \u001b[34m\u001b[1mDEBUG   \u001b[0m | \u001b[36mkmr.models.SFNEBlock\u001b[0m:\u001b[36mcall\u001b[0m:\u001b[36m192\u001b[0m - \u001b[34m\u001b[1mSFNEBlock context_weights shape: (64, 64)\u001b[0m\n",
            "\u001b[32m2025-10-30 16:40:36.957\u001b[0m | \u001b[34m\u001b[1mDEBUG   \u001b[0m | \u001b[36mkmr.models.SFNEBlock\u001b[0m:\u001b[36mcall\u001b[0m:\u001b[36m196\u001b[0m - \u001b[34m\u001b[1mSFNEBlock context_weights_expanded shape: (64, 64, 1)\u001b[0m\n",
            "\u001b[32m2025-10-30 16:40:36.963\u001b[0m | \u001b[34m\u001b[1mDEBUG   \u001b[0m | \u001b[36mkmr.models.SFNEBlock\u001b[0m:\u001b[36mcall\u001b[0m:\u001b[36m202\u001b[0m - \u001b[34m\u001b[1mSFNEBlock global_output shape: (64, 64, 20)\u001b[0m\n",
            "\u001b[32m2025-10-30 16:40:36.968\u001b[0m | \u001b[34m\u001b[1mDEBUG   \u001b[0m | \u001b[36mkmr.models.SFNEBlock\u001b[0m:\u001b[36mcall\u001b[0m:\u001b[36m206\u001b[0m - \u001b[34m\u001b[1mSFNEBlock local_output shape: (64, 64, 20)\u001b[0m\n",
            "\u001b[32m2025-10-30 16:40:36.969\u001b[0m | \u001b[34m\u001b[1mDEBUG   \u001b[0m | \u001b[36mkmr.models.SFNEBlock\u001b[0m:\u001b[36mcall\u001b[0m:\u001b[36m210\u001b[0m - \u001b[34m\u001b[1mSFNEBlock combined_output shape: (64, 64, 40)\u001b[0m\n",
            "\u001b[32m2025-10-30 16:40:36.970\u001b[0m | \u001b[34m\u001b[1mDEBUG   \u001b[0m | \u001b[36mkmr.models.SFNEBlock\u001b[0m:\u001b[36mcall\u001b[0m:\u001b[36m217\u001b[0m - \u001b[34m\u001b[1mSFNEBlock combined_output_flat shape: (64, 2560)\u001b[0m\n",
            "\u001b[32m2025-10-30 16:40:36.972\u001b[0m | \u001b[34m\u001b[1mDEBUG   \u001b[0m | \u001b[36mkmr.models.SFNEBlock\u001b[0m:\u001b[36mcall\u001b[0m:\u001b[36m223\u001b[0m - \u001b[34m\u001b[1mSFNEBlock bottleneck_output shape: (64, 20)\u001b[0m\n",
            "\u001b[32m2025-10-30 16:40:36.974\u001b[0m | \u001b[34m\u001b[1mDEBUG   \u001b[0m | \u001b[36mkmr.models.SFNEBlock\u001b[0m:\u001b[36mcall\u001b[0m:\u001b[36m227\u001b[0m - \u001b[34m\u001b[1mSFNEBlock output_layer output shape: (64, 1)\u001b[0m\n"
          ]
        },
        {
          "name": "stdout",
          "output_type": "stream",
          "text": [
            "\u001b[1m 1/25\u001b[0m \u001b[37m━━━━━━━━━━━━━━━━━━━━\u001b[0m \u001b[1m33s\u001b[0m 1s/step - accuracy: 0.4375 - loss: 5.0576 - precision: 0.0000e+00 - recall: 0.0000e+00"
          ]
        },
        {
          "name": "stderr",
          "output_type": "stream",
          "text": [
            "\u001b[32m2025-10-30 16:40:37.641\u001b[0m | \u001b[34m\u001b[1mDEBUG   \u001b[0m | \u001b[36mkmr.models.SFNEBlock\u001b[0m:\u001b[36mcall\u001b[0m:\u001b[36m176\u001b[0m - \u001b[34m\u001b[1mSFNEBlock input shape: (None, 32)\u001b[0m\n",
            "\u001b[32m2025-10-30 16:40:37.646\u001b[0m | \u001b[34m\u001b[1mDEBUG   \u001b[0m | \u001b[36mkmr.layers.SlowNetwork\u001b[0m:\u001b[36mcall\u001b[0m:\u001b[36m122\u001b[0m - \u001b[34m\u001b[1mSlowNetwork input shape: (None, 64)\u001b[0m\n",
            "\u001b[32m2025-10-30 16:40:37.648\u001b[0m | \u001b[34m\u001b[1mDEBUG   \u001b[0m | \u001b[36mkmr.layers.SlowNetwork\u001b[0m:\u001b[36mcall\u001b[0m:\u001b[36m126\u001b[0m - \u001b[34m\u001b[1mSlowNetwork layer 0 output shape: (None, 32)\u001b[0m\n",
            "\u001b[32m2025-10-30 16:40:37.650\u001b[0m | \u001b[34m\u001b[1mDEBUG   \u001b[0m | \u001b[36mkmr.layers.SlowNetwork\u001b[0m:\u001b[36mcall\u001b[0m:\u001b[36m126\u001b[0m - \u001b[34m\u001b[1mSlowNetwork layer 1 output shape: (None, 32)\u001b[0m\n",
            "\u001b[32m2025-10-30 16:40:37.652\u001b[0m | \u001b[34m\u001b[1mDEBUG   \u001b[0m | \u001b[36mkmr.layers.SlowNetwork\u001b[0m:\u001b[36mcall\u001b[0m:\u001b[36m129\u001b[0m - \u001b[34m\u001b[1mSlowNetwork output shape: (None, 20)\u001b[0m\n",
            "\u001b[32m2025-10-30 16:40:37.652\u001b[0m | \u001b[34m\u001b[1mDEBUG   \u001b[0m | \u001b[36mkmr.models.SFNEBlock\u001b[0m:\u001b[36mcall\u001b[0m:\u001b[36m188\u001b[0m - \u001b[34m\u001b[1mSFNEBlock hyper_kernels shape: (None, 20)\u001b[0m\n",
            "\u001b[32m2025-10-30 16:40:37.652\u001b[0m | \u001b[34m\u001b[1mDEBUG   \u001b[0m | \u001b[36mkmr.layers.HyperZZWOperator\u001b[0m:\u001b[36mcall\u001b[0m:\u001b[36m132\u001b[0m - \u001b[34m\u001b[1mHyperZZWOperator input_tensor shape: (None, 64)\u001b[0m\n",
            "\u001b[32m2025-10-30 16:40:37.652\u001b[0m | \u001b[34m\u001b[1mDEBUG   \u001b[0m | \u001b[36mkmr.layers.HyperZZWOperator\u001b[0m:\u001b[36mcall\u001b[0m:\u001b[36m133\u001b[0m - \u001b[34m\u001b[1mHyperZZWOperator context_tensor shape: (None, 20)\u001b[0m\n",
            "\u001b[32m2025-10-30 16:40:37.653\u001b[0m | \u001b[34m\u001b[1mDEBUG   \u001b[0m | \u001b[36mkmr.layers.HyperZZWOperator\u001b[0m:\u001b[36mcall\u001b[0m:\u001b[36m153\u001b[0m - \u001b[34m\u001b[1mHyperZZWOperator output shape: (None, 64)\u001b[0m\n",
            "\u001b[32m2025-10-30 16:40:37.653\u001b[0m | \u001b[34m\u001b[1mDEBUG   \u001b[0m | \u001b[36mkmr.models.SFNEBlock\u001b[0m:\u001b[36mcall\u001b[0m:\u001b[36m192\u001b[0m - \u001b[34m\u001b[1mSFNEBlock context_weights shape: (None, 64)\u001b[0m\n",
            "\u001b[32m2025-10-30 16:40:37.654\u001b[0m | \u001b[34m\u001b[1mDEBUG   \u001b[0m | \u001b[36mkmr.models.SFNEBlock\u001b[0m:\u001b[36mcall\u001b[0m:\u001b[36m196\u001b[0m - \u001b[34m\u001b[1mSFNEBlock context_weights_expanded shape: (None, 64, 1)\u001b[0m\n",
            "\u001b[32m2025-10-30 16:40:37.658\u001b[0m | \u001b[34m\u001b[1mDEBUG   \u001b[0m | \u001b[36mkmr.models.SFNEBlock\u001b[0m:\u001b[36mcall\u001b[0m:\u001b[36m202\u001b[0m - \u001b[34m\u001b[1mSFNEBlock global_output shape: (None, 64, 20)\u001b[0m\n",
            "\u001b[32m2025-10-30 16:40:37.662\u001b[0m | \u001b[34m\u001b[1mDEBUG   \u001b[0m | \u001b[36mkmr.models.SFNEBlock\u001b[0m:\u001b[36mcall\u001b[0m:\u001b[36m206\u001b[0m - \u001b[34m\u001b[1mSFNEBlock local_output shape: (None, 64, 20)\u001b[0m\n",
            "\u001b[32m2025-10-30 16:40:37.663\u001b[0m | \u001b[34m\u001b[1mDEBUG   \u001b[0m | \u001b[36mkmr.models.SFNEBlock\u001b[0m:\u001b[36mcall\u001b[0m:\u001b[36m210\u001b[0m - \u001b[34m\u001b[1mSFNEBlock combined_output shape: (None, 64, 40)\u001b[0m\n",
            "\u001b[32m2025-10-30 16:40:37.663\u001b[0m | \u001b[34m\u001b[1mDEBUG   \u001b[0m | \u001b[36mkmr.models.SFNEBlock\u001b[0m:\u001b[36mcall\u001b[0m:\u001b[36m217\u001b[0m - \u001b[34m\u001b[1mSFNEBlock combined_output_flat shape: (None, 2560)\u001b[0m\n",
            "\u001b[32m2025-10-30 16:40:37.665\u001b[0m | \u001b[34m\u001b[1mDEBUG   \u001b[0m | \u001b[36mkmr.models.SFNEBlock\u001b[0m:\u001b[36mcall\u001b[0m:\u001b[36m223\u001b[0m - \u001b[34m\u001b[1mSFNEBlock bottleneck_output shape: (None, 20)\u001b[0m\n",
            "\u001b[32m2025-10-30 16:40:37.666\u001b[0m | \u001b[34m\u001b[1mDEBUG   \u001b[0m | \u001b[36mkmr.models.SFNEBlock\u001b[0m:\u001b[36mcall\u001b[0m:\u001b[36m227\u001b[0m - \u001b[34m\u001b[1mSFNEBlock output_layer output shape: (None, 1)\u001b[0m\n"
          ]
        },
        {
          "name": "stdout",
          "output_type": "stream",
          "text": [
            "\u001b[1m25/25\u001b[0m \u001b[32m━━━━━━━━━━━━━━━━━━━━\u001b[0m\u001b[37m\u001b[0m \u001b[1m2s\u001b[0m 15ms/step - accuracy: 0.5057 - loss: 1.7550 - precision: 0.1695 - recall: 0.0259 - val_accuracy: 0.4800 - val_loss: 0.7114 - val_precision: 0.4800 - val_recall: 1.0000\n",
            "Epoch 2/30\n",
            "\u001b[1m25/25\u001b[0m \u001b[32m━━━━━━━━━━━━━━━━━━━━\u001b[0m\u001b[37m\u001b[0m \u001b[1m0s\u001b[0m 3ms/step - accuracy: 0.5102 - loss: 0.7101 - precision: 0.5102 - recall: 1.0000 - val_accuracy: 0.5125 - val_loss: 0.6926 - val_precision: 0.4800 - val_recall: 0.1875\n",
            "Epoch 3/30\n",
            "\u001b[1m25/25\u001b[0m \u001b[32m━━━━━━━━━━━━━━━━━━━━\u001b[0m\u001b[37m\u001b[0m \u001b[1m0s\u001b[0m 3ms/step - accuracy: 0.5155 - loss: 0.6917 - precision: 0.6673 - recall: 0.1238 - val_accuracy: 0.5350 - val_loss: 0.6906 - val_precision: 0.6500 - val_recall: 0.0677\n",
            "Epoch 4/30\n",
            "\u001b[1m25/25\u001b[0m \u001b[32m━━━━━━━━━━━━━━━━━━━━\u001b[0m\u001b[37m\u001b[0m \u001b[1m0s\u001b[0m 3ms/step - accuracy: 0.5278 - loss: 0.6909 - precision: 0.5436 - recall: 0.6314 - val_accuracy: 0.6400 - val_loss: 0.6807 - val_precision: 0.5968 - val_recall: 0.7708\n",
            "Epoch 5/30\n",
            "\u001b[1m25/25\u001b[0m \u001b[32m━━━━━━━━━━━━━━━━━━━━\u001b[0m\u001b[37m\u001b[0m \u001b[1m0s\u001b[0m 3ms/step - accuracy: 0.5822 - loss: 0.6816 - precision: 0.5688 - recall: 0.7078 - val_accuracy: 0.6625 - val_loss: 0.6289 - val_precision: 0.7436 - val_recall: 0.4531\n",
            "Epoch 6/30\n",
            "\u001b[1m25/25\u001b[0m \u001b[32m━━━━━━━━━━━━━━━━━━━━\u001b[0m\u001b[37m\u001b[0m \u001b[1m0s\u001b[0m 3ms/step - accuracy: 0.6572 - loss: 0.6509 - precision: 0.7483 - recall: 0.5258 - val_accuracy: 0.7000 - val_loss: 0.5813 - val_precision: 0.8529 - val_recall: 0.4531\n",
            "Epoch 7/30\n",
            "\u001b[1m25/25\u001b[0m \u001b[32m━━━━━━━━━━━━━━━━━━━━\u001b[0m\u001b[37m\u001b[0m \u001b[1m0s\u001b[0m 3ms/step - accuracy: 0.7074 - loss: 0.6412 - precision: 0.7730 - recall: 0.5982 - val_accuracy: 0.8325 - val_loss: 0.5422 - val_precision: 0.8205 - val_recall: 0.8333\n",
            "Epoch 8/30\n",
            "\u001b[1m25/25\u001b[0m \u001b[32m━━━━━━━━━━━━━━━━━━━━\u001b[0m\u001b[37m\u001b[0m \u001b[1m0s\u001b[0m 3ms/step - accuracy: 0.7167 - loss: 0.7373 - precision: 0.7726 - recall: 0.6265 - val_accuracy: 0.8150 - val_loss: 0.5257 - val_precision: 0.7837 - val_recall: 0.8490\n",
            "Epoch 9/30\n",
            "\u001b[1m25/25\u001b[0m \u001b[32m━━━━━━━━━━━━━━━━━━━━\u001b[0m\u001b[37m\u001b[0m \u001b[1m0s\u001b[0m 3ms/step - accuracy: 0.6833 - loss: 0.6291 - precision: 0.8518 - recall: 0.4876 - val_accuracy: 0.8350 - val_loss: 0.3866 - val_precision: 0.7812 - val_recall: 0.9115\n",
            "Epoch 10/30\n",
            "\u001b[1m25/25\u001b[0m \u001b[32m━━━━━━━━━━━━━━━━━━━━\u001b[0m\u001b[37m\u001b[0m \u001b[1m0s\u001b[0m 3ms/step - accuracy: 0.7883 - loss: 0.4770 - precision: 0.7942 - recall: 0.7821 - val_accuracy: 0.8850 - val_loss: 0.3035 - val_precision: 0.8802 - val_recall: 0.8802\n",
            "Epoch 11/30\n",
            "\u001b[1m25/25\u001b[0m \u001b[32m━━━━━━━━━━━━━━━━━━━━\u001b[0m\u001b[37m\u001b[0m \u001b[1m0s\u001b[0m 3ms/step - accuracy: 0.8207 - loss: 0.4483 - precision: 0.8480 - recall: 0.7718 - val_accuracy: 0.8625 - val_loss: 0.4439 - val_precision: 0.7965 - val_recall: 0.9583\n",
            "Epoch 12/30\n",
            "\u001b[1m25/25\u001b[0m \u001b[32m━━━━━━━━━━━━━━━━━━━━\u001b[0m\u001b[37m\u001b[0m \u001b[1m0s\u001b[0m 3ms/step - accuracy: 0.7869 - loss: 0.4841 - precision: 0.8402 - recall: 0.7168 - val_accuracy: 0.8275 - val_loss: 0.4144 - val_precision: 0.7510 - val_recall: 0.9583\n",
            "Epoch 13/30\n",
            "\u001b[1m25/25\u001b[0m \u001b[32m━━━━━━━━━━━━━━━━━━━━\u001b[0m\u001b[37m\u001b[0m \u001b[1m0s\u001b[0m 3ms/step - accuracy: 0.8302 - loss: 0.5879 - precision: 0.7793 - recall: 0.9145 - val_accuracy: 0.8925 - val_loss: 0.2539 - val_precision: 0.8531 - val_recall: 0.9375\n",
            "Epoch 14/30\n",
            "\u001b[1m25/25\u001b[0m \u001b[32m━━━━━━━━━━━━━━━━━━━━\u001b[0m\u001b[37m\u001b[0m \u001b[1m0s\u001b[0m 3ms/step - accuracy: 0.8691 - loss: 0.4160 - precision: 0.8411 - recall: 0.9251 - val_accuracy: 0.9075 - val_loss: 0.2526 - val_precision: 0.8818 - val_recall: 0.9323\n",
            "Epoch 15/30\n",
            "\u001b[1m25/25\u001b[0m \u001b[32m━━━━━━━━━━━━━━━━━━━━\u001b[0m\u001b[37m\u001b[0m \u001b[1m0s\u001b[0m 3ms/step - accuracy: 0.8580 - loss: 0.4727 - precision: 0.8400 - recall: 0.8909 - val_accuracy: 0.9100 - val_loss: 0.2208 - val_precision: 0.9105 - val_recall: 0.9010\n",
            "Epoch 16/30\n",
            "\u001b[1m25/25\u001b[0m \u001b[32m━━━━━━━━━━━━━━━━━━━━\u001b[0m\u001b[37m\u001b[0m \u001b[1m0s\u001b[0m 3ms/step - accuracy: 0.8391 - loss: 0.4115 - precision: 0.8190 - recall: 0.8715 - val_accuracy: 0.8975 - val_loss: 0.2979 - val_precision: 0.9576 - val_recall: 0.8229\n",
            "Epoch 17/30\n",
            "\u001b[1m25/25\u001b[0m \u001b[32m━━━━━━━━━━━━━━━━━━━━\u001b[0m\u001b[37m\u001b[0m \u001b[1m0s\u001b[0m 3ms/step - accuracy: 0.8745 - loss: 0.3499 - precision: 0.8808 - recall: 0.8652 - val_accuracy: 0.9025 - val_loss: 0.2163 - val_precision: 0.9227 - val_recall: 0.8698\n",
            "Epoch 18/30\n",
            "\u001b[1m25/25\u001b[0m \u001b[32m━━━━━━━━━━━━━━━━━━━━\u001b[0m\u001b[37m\u001b[0m \u001b[1m0s\u001b[0m 3ms/step - accuracy: 0.8767 - loss: 0.3514 - precision: 0.8741 - recall: 0.8803 - val_accuracy: 0.9175 - val_loss: 0.2297 - val_precision: 0.9760 - val_recall: 0.8490\n",
            "Epoch 19/30\n",
            "\u001b[1m25/25\u001b[0m \u001b[32m━━━━━━━━━━━━━━━━━━━━\u001b[0m\u001b[37m\u001b[0m \u001b[1m0s\u001b[0m 3ms/step - accuracy: 0.8835 - loss: 0.3118 - precision: 0.9181 - recall: 0.8536 - val_accuracy: 0.9250 - val_loss: 0.1949 - val_precision: 0.9500 - val_recall: 0.8906\n",
            "Epoch 20/30\n",
            "\u001b[1m25/25\u001b[0m \u001b[32m━━━━━━━━━━━━━━━━━━━━\u001b[0m\u001b[37m\u001b[0m \u001b[1m0s\u001b[0m 3ms/step - accuracy: 0.8951 - loss: 0.2874 - precision: 0.8909 - recall: 0.9121 - val_accuracy: 0.9175 - val_loss: 0.2148 - val_precision: 0.9206 - val_recall: 0.9062\n",
            "Epoch 21/30\n",
            "\u001b[1m25/25\u001b[0m \u001b[32m━━━━━━━━━━━━━━━━━━━━\u001b[0m\u001b[37m\u001b[0m \u001b[1m0s\u001b[0m 3ms/step - accuracy: 0.8868 - loss: 0.2685 - precision: 0.8751 - recall: 0.9006 - val_accuracy: 0.9200 - val_loss: 0.1885 - val_precision: 0.9301 - val_recall: 0.9010\n",
            "Epoch 22/30\n",
            "\u001b[1m25/25\u001b[0m \u001b[32m━━━━━━━━━━━━━━━━━━━━\u001b[0m\u001b[37m\u001b[0m \u001b[1m0s\u001b[0m 3ms/step - accuracy: 0.8666 - loss: 0.3426 - precision: 0.8507 - recall: 0.8958 - val_accuracy: 0.9150 - val_loss: 0.2433 - val_precision: 0.9877 - val_recall: 0.8333\n",
            "Epoch 23/30\n",
            "\u001b[1m25/25\u001b[0m \u001b[32m━━━━━━━━━━━━━━━━━━━━\u001b[0m\u001b[37m\u001b[0m \u001b[1m0s\u001b[0m 3ms/step - accuracy: 0.8855 - loss: 0.3113 - precision: 0.9081 - recall: 0.8738 - val_accuracy: 0.9175 - val_loss: 0.1513 - val_precision: 0.9206 - val_recall: 0.9062\n",
            "Epoch 24/30\n",
            "\u001b[1m25/25\u001b[0m \u001b[32m━━━━━━━━━━━━━━━━━━━━\u001b[0m\u001b[37m\u001b[0m \u001b[1m0s\u001b[0m 3ms/step - accuracy: 0.8910 - loss: 0.3038 - precision: 0.8858 - recall: 0.8940 - val_accuracy: 0.9150 - val_loss: 0.1681 - val_precision: 0.8911 - val_recall: 0.9375\n",
            "Epoch 25/30\n",
            "\u001b[1m25/25\u001b[0m \u001b[32m━━━━━━━━━━━━━━━━━━━━\u001b[0m\u001b[37m\u001b[0m \u001b[1m0s\u001b[0m 3ms/step - accuracy: 0.9010 - loss: 0.2640 - precision: 0.8900 - recall: 0.9129 - val_accuracy: 0.9175 - val_loss: 0.2193 - val_precision: 0.9492 - val_recall: 0.8750\n",
            "Epoch 26/30\n",
            "\u001b[1m25/25\u001b[0m \u001b[32m━━━━━━━━━━━━━━━━━━━━\u001b[0m\u001b[37m\u001b[0m \u001b[1m0s\u001b[0m 3ms/step - accuracy: 0.9056 - loss: 0.2695 - precision: 0.8751 - recall: 0.9493 - val_accuracy: 0.9125 - val_loss: 0.1564 - val_precision: 0.9110 - val_recall: 0.9062\n",
            "Epoch 27/30\n",
            "\u001b[1m25/25\u001b[0m \u001b[32m━━━━━━━━━━━━━━━━━━━━\u001b[0m\u001b[37m\u001b[0m \u001b[1m0s\u001b[0m 3ms/step - accuracy: 0.8987 - loss: 0.2426 - precision: 0.8801 - recall: 0.9163 - val_accuracy: 0.9175 - val_loss: 0.1579 - val_precision: 0.8878 - val_recall: 0.9479\n",
            "Epoch 28/30\n",
            "\u001b[1m25/25\u001b[0m \u001b[32m━━━━━━━━━━━━━━━━━━━━\u001b[0m\u001b[37m\u001b[0m \u001b[1m0s\u001b[0m 3ms/step - accuracy: 0.8960 - loss: 0.2854 - precision: 0.9015 - recall: 0.8964 - val_accuracy: 0.9175 - val_loss: 0.1576 - val_precision: 0.8841 - val_recall: 0.9531\n",
            "Epoch 29/30\n",
            "\u001b[1m25/25\u001b[0m \u001b[32m━━━━━━━━━━━━━━━━━━━━\u001b[0m\u001b[37m\u001b[0m \u001b[1m0s\u001b[0m 3ms/step - accuracy: 0.9180 - loss: 0.3740 - precision: 0.8999 - recall: 0.9431 - val_accuracy: 0.8775 - val_loss: 0.2983 - val_precision: 1.0000 - val_recall: 0.7448\n",
            "Epoch 30/30\n",
            "\u001b[1m25/25\u001b[0m \u001b[32m━━━━━━━━━━━━━━━━━━━━\u001b[0m\u001b[37m\u001b[0m \u001b[1m0s\u001b[0m 3ms/step - accuracy: 0.8543 - loss: 0.3528 - precision: 0.9442 - recall: 0.7529 - val_accuracy: 0.9350 - val_loss: 0.1417 - val_precision: 0.9109 - val_recall: 0.9583\n",
            "✅ Training completed!\n",
            "\n",
            "📊 Test Results (With Preprocessing):\n",
            "Test Loss: 0.1417\n",
            "Test Accuracy: 0.9350\n",
            "Test Precision: 0.9109\n",
            "Test Recall: 0.9583\n",
            "Test F1-Score: 0.9340\n"
          ]
        }
      ],
      "source": [
        "# Train the model with preprocessing\n",
        "print(\"🚀 Starting training (with preprocessing)...\")\n",
        "\n",
        "history_with_preprocessing = model_with_preprocessing.fit(\n",
        "    X_train_dict, y_train_prep,\n",
        "    validation_data=(X_test_dict, y_test_prep),\n",
        "    epochs=30,\n",
        "    batch_size=64,\n",
        "    verbose=1\n",
        ")\n",
        "\n",
        "print(\"✅ Training completed!\")\n",
        "\n",
        "# Evaluate the model\n",
        "test_loss_prep, test_accuracy_prep, test_precision_prep, test_recall_prep = model_with_preprocessing.evaluate(X_test_dict, y_test_prep, verbose=0)\n",
        "print(f\"\\n📊 Test Results (With Preprocessing):\")\n",
        "print(f\"Test Loss: {test_loss_prep:.4f}\")\n",
        "print(f\"Test Accuracy: {test_accuracy_prep:.4f}\")\n",
        "print(f\"Test Precision: {test_precision_prep:.4f}\")\n",
        "print(f\"Test Recall: {test_recall_prep:.4f}\")\n",
        "\n",
        "# Calculate F1 score\n",
        "f1_score_prep = 2 * (test_precision_prep * test_recall_prep) / (test_precision_prep + test_recall_prep)\n",
        "print(f\"Test F1-Score: {f1_score_prep:.4f}\")\n"
      ]
    },
    {
      "cell_type": "markdown",
      "metadata": {},
      "source": [
        "## 4. Summary\n",
        "\n",
        "- Trained `SFNEBlock` on synthetic classification data and evaluated key metrics.\n",
        "- Visualized training progress and classification results with KMR utilities.\n",
        "- Saved and loaded the model in Keras format; verified prediction consistency.\n",
        "\n",
        "This notebook mirrors the style of other KMR demos and showcases SFNEBlock workflows with and without preprocessing.\n"
      ]
    },
    {
      "cell_type": "code",
      "execution_count": 22,
      "metadata": {},
      "outputs": [
        {
          "name": "stdout",
          "output_type": "stream",
          "text": [
            "📊 Creating training visualizations...\n"
          ]
        },
        {
          "data": {
            "application/vnd.plotly.v1+json": {
              "config": {
                "plotlyServerURL": "https://plot.ly"
              },
              "data": [
                {
                  "line": {
                    "color": "blue"
                  },
                  "mode": "lines",
                  "name": "Training Loss",
                  "type": "scatter",
                  "x": [
                    1,
                    2,
                    3,
                    4,
                    5,
                    6,
                    7,
                    8,
                    9,
                    10,
                    11,
                    12,
                    13,
                    14,
                    15,
                    16,
                    17,
                    18,
                    19,
                    20,
                    21,
                    22,
                    23,
                    24,
                    25,
                    26,
                    27,
                    28,
                    29,
                    30
                  ],
                  "xaxis": "x",
                  "y": [
                    1.409155011177063,
                    0.5679851770401001,
                    0.3065439462661743,
                    0.21590237319469452,
                    0.16809366643428802,
                    0.1282496452331543,
                    0.0996728166937828,
                    0.08646606653928757,
                    0.08750922232866287,
                    0.05694291740655899,
                    0.0515279546380043,
                    0.2442958950996399,
                    0.1470864713191986,
                    0.0972372367978096,
                    0.06330783665180206,
                    0.054119691252708435,
                    0.049705542623996735,
                    0.04323664680123329,
                    0.041781675070524216,
                    0.038384635001420975,
                    0.03552612289786339,
                    0.036297451704740524,
                    0.02953023836016655,
                    0.02970590628683567,
                    0.028966691344976425,
                    0.030134378001093864,
                    0.024182774126529694,
                    0.023870648816227913,
                    0.01915154606103897,
                    0.01954575441777706
                  ],
                  "yaxis": "y"
                },
                {
                  "line": {
                    "color": "red"
                  },
                  "mode": "lines",
                  "name": "Validation Loss",
                  "type": "scatter",
                  "x": [
                    1,
                    2,
                    3,
                    4,
                    5,
                    6,
                    7,
                    8,
                    9,
                    10,
                    11,
                    12,
                    13,
                    14,
                    15,
                    16,
                    17,
                    18,
                    19,
                    20,
                    21,
                    22,
                    23,
                    24,
                    25,
                    26,
                    27,
                    28,
                    29,
                    30
                  ],
                  "xaxis": "x",
                  "y": [
                    0.6634788513183594,
                    0.40100914239883423,
                    0.23103249073028564,
                    0.17533104121685028,
                    0.15364137291908264,
                    0.12710916996002197,
                    0.10421326011419296,
                    0.09282095730304718,
                    0.11334381997585297,
                    0.11929123848676682,
                    0.14637546241283417,
                    0.16274365782737732,
                    0.18219900131225586,
                    0.10795187950134277,
                    0.08109774440526962,
                    0.0699092224240303,
                    0.07198923081159592,
                    0.10782048851251602,
                    0.14544536173343658,
                    0.13476982712745667,
                    0.07109951227903366,
                    0.06949567049741745,
                    0.13072142004966736,
                    0.0683906152844429,
                    0.148357093334198,
                    0.10943974554538727,
                    0.10392079502344131,
                    0.1350349485874176,
                    0.13914138078689575,
                    0.09421273320913315
                  ],
                  "yaxis": "y"
                },
                {
                  "line": {
                    "color": "blue"
                  },
                  "mode": "lines",
                  "name": "Training Accuracy",
                  "type": "scatter",
                  "x": [
                    1,
                    2,
                    3,
                    4,
                    5,
                    6,
                    7,
                    8,
                    9,
                    10,
                    11,
                    12,
                    13,
                    14,
                    15,
                    16,
                    17,
                    18,
                    19,
                    20,
                    21,
                    22,
                    23,
                    24,
                    25,
                    26,
                    27,
                    28,
                    29,
                    30
                  ],
                  "xaxis": "x2",
                  "y": [
                    0.5131250023841858,
                    0.6031249761581421,
                    0.8981249928474426,
                    0.9350000023841858,
                    0.9543750286102295,
                    0.9700000286102295,
                    0.9737499952316284,
                    0.9725000262260437,
                    0.9725000262260437,
                    0.9800000190734863,
                    0.9837499856948853,
                    0.925000011920929,
                    0.9474999904632568,
                    0.9700000286102295,
                    0.9825000166893005,
                    0.9868749976158142,
                    0.9862499833106995,
                    0.9881250262260437,
                    0.9900000095367432,
                    0.9906250238418579,
                    0.9881250262260437,
                    0.9881250262260437,
                    0.9937499761581421,
                    0.9906250238418579,
                    0.9931250214576721,
                    0.9931250214576721,
                    0.9943749904632568,
                    0.9937499761581421,
                    0.9950000047683716,
                    0.9962499737739563
                  ],
                  "yaxis": "y2"
                },
                {
                  "line": {
                    "color": "red"
                  },
                  "mode": "lines",
                  "name": "Validation Accuracy",
                  "type": "scatter",
                  "x": [
                    1,
                    2,
                    3,
                    4,
                    5,
                    6,
                    7,
                    8,
                    9,
                    10,
                    11,
                    12,
                    13,
                    14,
                    15,
                    16,
                    17,
                    18,
                    19,
                    20,
                    21,
                    22,
                    23,
                    24,
                    25,
                    26,
                    27,
                    28,
                    29,
                    30
                  ],
                  "xaxis": "x2",
                  "y": [
                    0.6100000143051147,
                    0.8299999833106995,
                    0.9275000095367432,
                    0.9649999737739563,
                    0.9524999856948853,
                    0.9599999785423279,
                    0.9649999737739563,
                    0.9649999737739563,
                    0.9674999713897705,
                    0.9624999761581421,
                    0.9574999809265137,
                    0.949999988079071,
                    0.949999988079071,
                    0.9574999809265137,
                    0.9624999761581421,
                    0.9674999713897705,
                    0.9649999737739563,
                    0.9624999761581421,
                    0.9624999761581421,
                    0.9649999737739563,
                    0.9624999761581421,
                    0.9649999737739563,
                    0.9750000238418579,
                    0.9624999761581421,
                    0.9624999761581421,
                    0.9624999761581421,
                    0.9624999761581421,
                    0.9649999737739563,
                    0.9700000286102295,
                    0.9624999761581421
                  ],
                  "yaxis": "y2"
                },
                {
                  "line": {
                    "color": "blue"
                  },
                  "mode": "lines",
                  "name": "Training Precision",
                  "type": "scatter",
                  "x": [
                    1,
                    2,
                    3,
                    4,
                    5,
                    6,
                    7,
                    8,
                    9,
                    10,
                    11,
                    12,
                    13,
                    14,
                    15,
                    16,
                    17,
                    18,
                    19,
                    20,
                    21,
                    22,
                    23,
                    24,
                    25,
                    26,
                    27,
                    28,
                    29,
                    30
                  ],
                  "xaxis": "x3",
                  "y": [
                    0.7631579041481018,
                    0.5584045648574829,
                    0.8630136847496033,
                    0.9263803958892822,
                    0.9459459185600281,
                    0.9630086421966553,
                    0.967861533164978,
                    0.9760403633117676,
                    0.9724655747413635,
                    0.9787765145301819,
                    0.9861634969711304,
                    0.9721835851669312,
                    0.9673202633857727,
                    0.9783439636230469,
                    0.9885931611061096,
                    0.9862499833106995,
                    0.9874529242515564,
                    0.9899497628211975,
                    0.9912170767784119,
                    0.9887780547142029,
                    0.9862843155860901,
                    0.991183876991272,
                    0.9949811697006226,
                    0.9900000095367432,
                    0.9937343597412109,
                    0.9937343597412109,
                    0.9949874877929688,
                    0.9949811697006226,
                    0.9962359070777893,
                    0.9974905848503113
                  ],
                  "yaxis": "y3"
                },
                {
                  "line": {
                    "color": "red"
                  },
                  "mode": "lines",
                  "name": "Validation Precision",
                  "type": "scatter",
                  "x": [
                    1,
                    2,
                    3,
                    4,
                    5,
                    6,
                    7,
                    8,
                    9,
                    10,
                    11,
                    12,
                    13,
                    14,
                    15,
                    16,
                    17,
                    18,
                    19,
                    20,
                    21,
                    22,
                    23,
                    24,
                    25,
                    26,
                    27,
                    28,
                    29,
                    30
                  ],
                  "xaxis": "x3",
                  "y": [
                    0.6066350936889648,
                    0.7547892928123474,
                    0.8909090757369995,
                    0.9794871807098389,
                    0.9252336621284485,
                    0.9512194991111755,
                    0.9746192693710327,
                    0.9516907930374146,
                    0.9700000286102295,
                    0.9649999737739563,
                    0.9509803652763367,
                    0.9547738432884216,
                    0.9458128213882446,
                    0.938095211982727,
                    0.9649999737739563,
                    0.9845361113548279,
                    0.96517413854599,
                    0.9603960514068604,
                    0.9471153616905212,
                    0.96517413854599,
                    0.984375,
                    0.9746192693710327,
                    0.979899525642395,
                    0.9793814420700073,
                    0.9894737005233765,
                    0.9649999737739563,
                    0.984375,
                    0.9605911374092102,
                    0.9655172228813171,
                    0.984375
                  ],
                  "yaxis": "y3"
                },
                {
                  "line": {
                    "color": "blue"
                  },
                  "mode": "lines",
                  "name": "Training Recall",
                  "type": "scatter",
                  "x": [
                    1,
                    2,
                    3,
                    4,
                    5,
                    6,
                    7,
                    8,
                    9,
                    10,
                    11,
                    12,
                    13,
                    14,
                    15,
                    16,
                    17,
                    18,
                    19,
                    20,
                    21,
                    22,
                    23,
                    24,
                    25,
                    26,
                    27,
                    28,
                    29,
                    30
                  ],
                  "xaxis": "x4",
                  "y": [
                    0.036295369267463684,
                    0.9812265038490295,
                    0.9461827278137207,
                    0.944931149482727,
                    0.9637046456336975,
                    0.9774718284606934,
                    0.9799749851226807,
                    0.9687108993530273,
                    0.9724655747413635,
                    0.9812265038490295,
                    0.9812265038490295,
                    0.8748435378074646,
                    0.9261577129364014,
                    0.9612014889717102,
                    0.9762202501296997,
                    0.987484335899353,
                    0.9849812388420105,
                    0.9862328171730042,
                    0.9887359142303467,
                    0.9924905896186829,
                    0.9899874925613403,
                    0.9849812388420105,
                    0.9924905896186829,
                    0.991239070892334,
                    0.9924905896186829,
                    0.9924905896186829,
                    0.9937421679496765,
                    0.9924905896186829,
                    0.9937421679496765,
                    0.9949937462806702
                  ],
                  "yaxis": "y4"
                },
                {
                  "line": {
                    "color": "red"
                  },
                  "mode": "lines",
                  "name": "Validation Recall",
                  "type": "scatter",
                  "x": [
                    1,
                    2,
                    3,
                    4,
                    5,
                    6,
                    7,
                    8,
                    9,
                    10,
                    11,
                    12,
                    13,
                    14,
                    15,
                    16,
                    17,
                    18,
                    19,
                    20,
                    21,
                    22,
                    23,
                    24,
                    25,
                    26,
                    27,
                    28,
                    29,
                    30
                  ],
                  "xaxis": "x4",
                  "y": [
                    0.6368159055709839,
                    0.9800994992256165,
                    0.9751243591308594,
                    0.9502487778663635,
                    0.9850746393203735,
                    0.9701492786407471,
                    0.9552238583564758,
                    0.9800994992256165,
                    0.96517413854599,
                    0.9601989984512329,
                    0.96517413854599,
                    0.9452736377716064,
                    0.9552238583564758,
                    0.9800994992256165,
                    0.9601989984512329,
                    0.9502487778663635,
                    0.96517413854599,
                    0.96517413854599,
                    0.9800994992256165,
                    0.96517413854599,
                    0.9402984976768494,
                    0.9552238583564758,
                    0.9701492786407471,
                    0.9452736377716064,
                    0.9353233575820923,
                    0.9601989984512329,
                    0.9402984976768494,
                    0.9701492786407471,
                    0.9751243591308594,
                    0.9402984976768494
                  ],
                  "yaxis": "y4"
                }
              ],
              "layout": {
                "annotations": [
                  {
                    "font": {
                      "size": 16
                    },
                    "showarrow": false,
                    "text": "Training and Validation Loss",
                    "x": 0.225,
                    "xanchor": "center",
                    "xref": "paper",
                    "y": 1,
                    "yanchor": "bottom",
                    "yref": "paper"
                  },
                  {
                    "font": {
                      "size": 16
                    },
                    "showarrow": false,
                    "text": "Training and Validation Accuracy",
                    "x": 0.775,
                    "xanchor": "center",
                    "xref": "paper",
                    "y": 1,
                    "yanchor": "bottom",
                    "yref": "paper"
                  },
                  {
                    "font": {
                      "size": 16
                    },
                    "showarrow": false,
                    "text": "Training and Validation Precision",
                    "x": 0.225,
                    "xanchor": "center",
                    "xref": "paper",
                    "y": 0.375,
                    "yanchor": "bottom",
                    "yref": "paper"
                  },
                  {
                    "font": {
                      "size": 16
                    },
                    "showarrow": false,
                    "text": "Training and Validation Recall",
                    "x": 0.775,
                    "xanchor": "center",
                    "xref": "paper",
                    "y": 0.375,
                    "yanchor": "bottom",
                    "yref": "paper"
                  }
                ],
                "height": 600,
                "showlegend": true,
                "template": {
                  "data": {
                    "bar": [
                      {
                        "error_x": {
                          "color": "#2a3f5f"
                        },
                        "error_y": {
                          "color": "#2a3f5f"
                        },
                        "marker": {
                          "line": {
                            "color": "#E5ECF6",
                            "width": 0.5
                          },
                          "pattern": {
                            "fillmode": "overlay",
                            "size": 10,
                            "solidity": 0.2
                          }
                        },
                        "type": "bar"
                      }
                    ],
                    "barpolar": [
                      {
                        "marker": {
                          "line": {
                            "color": "#E5ECF6",
                            "width": 0.5
                          },
                          "pattern": {
                            "fillmode": "overlay",
                            "size": 10,
                            "solidity": 0.2
                          }
                        },
                        "type": "barpolar"
                      }
                    ],
                    "carpet": [
                      {
                        "aaxis": {
                          "endlinecolor": "#2a3f5f",
                          "gridcolor": "white",
                          "linecolor": "white",
                          "minorgridcolor": "white",
                          "startlinecolor": "#2a3f5f"
                        },
                        "baxis": {
                          "endlinecolor": "#2a3f5f",
                          "gridcolor": "white",
                          "linecolor": "white",
                          "minorgridcolor": "white",
                          "startlinecolor": "#2a3f5f"
                        },
                        "type": "carpet"
                      }
                    ],
                    "choropleth": [
                      {
                        "colorbar": {
                          "outlinewidth": 0,
                          "ticks": ""
                        },
                        "type": "choropleth"
                      }
                    ],
                    "contour": [
                      {
                        "colorbar": {
                          "outlinewidth": 0,
                          "ticks": ""
                        },
                        "colorscale": [
                          [
                            0,
                            "#0d0887"
                          ],
                          [
                            0.1111111111111111,
                            "#46039f"
                          ],
                          [
                            0.2222222222222222,
                            "#7201a8"
                          ],
                          [
                            0.3333333333333333,
                            "#9c179e"
                          ],
                          [
                            0.4444444444444444,
                            "#bd3786"
                          ],
                          [
                            0.5555555555555556,
                            "#d8576b"
                          ],
                          [
                            0.6666666666666666,
                            "#ed7953"
                          ],
                          [
                            0.7777777777777778,
                            "#fb9f3a"
                          ],
                          [
                            0.8888888888888888,
                            "#fdca26"
                          ],
                          [
                            1,
                            "#f0f921"
                          ]
                        ],
                        "type": "contour"
                      }
                    ],
                    "contourcarpet": [
                      {
                        "colorbar": {
                          "outlinewidth": 0,
                          "ticks": ""
                        },
                        "type": "contourcarpet"
                      }
                    ],
                    "heatmap": [
                      {
                        "colorbar": {
                          "outlinewidth": 0,
                          "ticks": ""
                        },
                        "colorscale": [
                          [
                            0,
                            "#0d0887"
                          ],
                          [
                            0.1111111111111111,
                            "#46039f"
                          ],
                          [
                            0.2222222222222222,
                            "#7201a8"
                          ],
                          [
                            0.3333333333333333,
                            "#9c179e"
                          ],
                          [
                            0.4444444444444444,
                            "#bd3786"
                          ],
                          [
                            0.5555555555555556,
                            "#d8576b"
                          ],
                          [
                            0.6666666666666666,
                            "#ed7953"
                          ],
                          [
                            0.7777777777777778,
                            "#fb9f3a"
                          ],
                          [
                            0.8888888888888888,
                            "#fdca26"
                          ],
                          [
                            1,
                            "#f0f921"
                          ]
                        ],
                        "type": "heatmap"
                      }
                    ],
                    "histogram": [
                      {
                        "marker": {
                          "pattern": {
                            "fillmode": "overlay",
                            "size": 10,
                            "solidity": 0.2
                          }
                        },
                        "type": "histogram"
                      }
                    ],
                    "histogram2d": [
                      {
                        "colorbar": {
                          "outlinewidth": 0,
                          "ticks": ""
                        },
                        "colorscale": [
                          [
                            0,
                            "#0d0887"
                          ],
                          [
                            0.1111111111111111,
                            "#46039f"
                          ],
                          [
                            0.2222222222222222,
                            "#7201a8"
                          ],
                          [
                            0.3333333333333333,
                            "#9c179e"
                          ],
                          [
                            0.4444444444444444,
                            "#bd3786"
                          ],
                          [
                            0.5555555555555556,
                            "#d8576b"
                          ],
                          [
                            0.6666666666666666,
                            "#ed7953"
                          ],
                          [
                            0.7777777777777778,
                            "#fb9f3a"
                          ],
                          [
                            0.8888888888888888,
                            "#fdca26"
                          ],
                          [
                            1,
                            "#f0f921"
                          ]
                        ],
                        "type": "histogram2d"
                      }
                    ],
                    "histogram2dcontour": [
                      {
                        "colorbar": {
                          "outlinewidth": 0,
                          "ticks": ""
                        },
                        "colorscale": [
                          [
                            0,
                            "#0d0887"
                          ],
                          [
                            0.1111111111111111,
                            "#46039f"
                          ],
                          [
                            0.2222222222222222,
                            "#7201a8"
                          ],
                          [
                            0.3333333333333333,
                            "#9c179e"
                          ],
                          [
                            0.4444444444444444,
                            "#bd3786"
                          ],
                          [
                            0.5555555555555556,
                            "#d8576b"
                          ],
                          [
                            0.6666666666666666,
                            "#ed7953"
                          ],
                          [
                            0.7777777777777778,
                            "#fb9f3a"
                          ],
                          [
                            0.8888888888888888,
                            "#fdca26"
                          ],
                          [
                            1,
                            "#f0f921"
                          ]
                        ],
                        "type": "histogram2dcontour"
                      }
                    ],
                    "mesh3d": [
                      {
                        "colorbar": {
                          "outlinewidth": 0,
                          "ticks": ""
                        },
                        "type": "mesh3d"
                      }
                    ],
                    "parcoords": [
                      {
                        "line": {
                          "colorbar": {
                            "outlinewidth": 0,
                            "ticks": ""
                          }
                        },
                        "type": "parcoords"
                      }
                    ],
                    "pie": [
                      {
                        "automargin": true,
                        "type": "pie"
                      }
                    ],
                    "scatter": [
                      {
                        "fillpattern": {
                          "fillmode": "overlay",
                          "size": 10,
                          "solidity": 0.2
                        },
                        "type": "scatter"
                      }
                    ],
                    "scatter3d": [
                      {
                        "line": {
                          "colorbar": {
                            "outlinewidth": 0,
                            "ticks": ""
                          }
                        },
                        "marker": {
                          "colorbar": {
                            "outlinewidth": 0,
                            "ticks": ""
                          }
                        },
                        "type": "scatter3d"
                      }
                    ],
                    "scattercarpet": [
                      {
                        "marker": {
                          "colorbar": {
                            "outlinewidth": 0,
                            "ticks": ""
                          }
                        },
                        "type": "scattercarpet"
                      }
                    ],
                    "scattergeo": [
                      {
                        "marker": {
                          "colorbar": {
                            "outlinewidth": 0,
                            "ticks": ""
                          }
                        },
                        "type": "scattergeo"
                      }
                    ],
                    "scattergl": [
                      {
                        "marker": {
                          "colorbar": {
                            "outlinewidth": 0,
                            "ticks": ""
                          }
                        },
                        "type": "scattergl"
                      }
                    ],
                    "scattermap": [
                      {
                        "marker": {
                          "colorbar": {
                            "outlinewidth": 0,
                            "ticks": ""
                          }
                        },
                        "type": "scattermap"
                      }
                    ],
                    "scattermapbox": [
                      {
                        "marker": {
                          "colorbar": {
                            "outlinewidth": 0,
                            "ticks": ""
                          }
                        },
                        "type": "scattermapbox"
                      }
                    ],
                    "scatterpolar": [
                      {
                        "marker": {
                          "colorbar": {
                            "outlinewidth": 0,
                            "ticks": ""
                          }
                        },
                        "type": "scatterpolar"
                      }
                    ],
                    "scatterpolargl": [
                      {
                        "marker": {
                          "colorbar": {
                            "outlinewidth": 0,
                            "ticks": ""
                          }
                        },
                        "type": "scatterpolargl"
                      }
                    ],
                    "scatterternary": [
                      {
                        "marker": {
                          "colorbar": {
                            "outlinewidth": 0,
                            "ticks": ""
                          }
                        },
                        "type": "scatterternary"
                      }
                    ],
                    "surface": [
                      {
                        "colorbar": {
                          "outlinewidth": 0,
                          "ticks": ""
                        },
                        "colorscale": [
                          [
                            0,
                            "#0d0887"
                          ],
                          [
                            0.1111111111111111,
                            "#46039f"
                          ],
                          [
                            0.2222222222222222,
                            "#7201a8"
                          ],
                          [
                            0.3333333333333333,
                            "#9c179e"
                          ],
                          [
                            0.4444444444444444,
                            "#bd3786"
                          ],
                          [
                            0.5555555555555556,
                            "#d8576b"
                          ],
                          [
                            0.6666666666666666,
                            "#ed7953"
                          ],
                          [
                            0.7777777777777778,
                            "#fb9f3a"
                          ],
                          [
                            0.8888888888888888,
                            "#fdca26"
                          ],
                          [
                            1,
                            "#f0f921"
                          ]
                        ],
                        "type": "surface"
                      }
                    ],
                    "table": [
                      {
                        "cells": {
                          "fill": {
                            "color": "#EBF0F8"
                          },
                          "line": {
                            "color": "white"
                          }
                        },
                        "header": {
                          "fill": {
                            "color": "#C8D4E3"
                          },
                          "line": {
                            "color": "white"
                          }
                        },
                        "type": "table"
                      }
                    ]
                  },
                  "layout": {
                    "annotationdefaults": {
                      "arrowcolor": "#2a3f5f",
                      "arrowhead": 0,
                      "arrowwidth": 1
                    },
                    "autotypenumbers": "strict",
                    "coloraxis": {
                      "colorbar": {
                        "outlinewidth": 0,
                        "ticks": ""
                      }
                    },
                    "colorscale": {
                      "diverging": [
                        [
                          0,
                          "#8e0152"
                        ],
                        [
                          0.1,
                          "#c51b7d"
                        ],
                        [
                          0.2,
                          "#de77ae"
                        ],
                        [
                          0.3,
                          "#f1b6da"
                        ],
                        [
                          0.4,
                          "#fde0ef"
                        ],
                        [
                          0.5,
                          "#f7f7f7"
                        ],
                        [
                          0.6,
                          "#e6f5d0"
                        ],
                        [
                          0.7,
                          "#b8e186"
                        ],
                        [
                          0.8,
                          "#7fbc41"
                        ],
                        [
                          0.9,
                          "#4d9221"
                        ],
                        [
                          1,
                          "#276419"
                        ]
                      ],
                      "sequential": [
                        [
                          0,
                          "#0d0887"
                        ],
                        [
                          0.1111111111111111,
                          "#46039f"
                        ],
                        [
                          0.2222222222222222,
                          "#7201a8"
                        ],
                        [
                          0.3333333333333333,
                          "#9c179e"
                        ],
                        [
                          0.4444444444444444,
                          "#bd3786"
                        ],
                        [
                          0.5555555555555556,
                          "#d8576b"
                        ],
                        [
                          0.6666666666666666,
                          "#ed7953"
                        ],
                        [
                          0.7777777777777778,
                          "#fb9f3a"
                        ],
                        [
                          0.8888888888888888,
                          "#fdca26"
                        ],
                        [
                          1,
                          "#f0f921"
                        ]
                      ],
                      "sequentialminus": [
                        [
                          0,
                          "#0d0887"
                        ],
                        [
                          0.1111111111111111,
                          "#46039f"
                        ],
                        [
                          0.2222222222222222,
                          "#7201a8"
                        ],
                        [
                          0.3333333333333333,
                          "#9c179e"
                        ],
                        [
                          0.4444444444444444,
                          "#bd3786"
                        ],
                        [
                          0.5555555555555556,
                          "#d8576b"
                        ],
                        [
                          0.6666666666666666,
                          "#ed7953"
                        ],
                        [
                          0.7777777777777778,
                          "#fb9f3a"
                        ],
                        [
                          0.8888888888888888,
                          "#fdca26"
                        ],
                        [
                          1,
                          "#f0f921"
                        ]
                      ]
                    },
                    "colorway": [
                      "#636efa",
                      "#EF553B",
                      "#00cc96",
                      "#ab63fa",
                      "#FFA15A",
                      "#19d3f3",
                      "#FF6692",
                      "#B6E880",
                      "#FF97FF",
                      "#FECB52"
                    ],
                    "font": {
                      "color": "#2a3f5f"
                    },
                    "geo": {
                      "bgcolor": "white",
                      "lakecolor": "white",
                      "landcolor": "#E5ECF6",
                      "showlakes": true,
                      "showland": true,
                      "subunitcolor": "white"
                    },
                    "hoverlabel": {
                      "align": "left"
                    },
                    "hovermode": "closest",
                    "mapbox": {
                      "style": "light"
                    },
                    "paper_bgcolor": "white",
                    "plot_bgcolor": "#E5ECF6",
                    "polar": {
                      "angularaxis": {
                        "gridcolor": "white",
                        "linecolor": "white",
                        "ticks": ""
                      },
                      "bgcolor": "#E5ECF6",
                      "radialaxis": {
                        "gridcolor": "white",
                        "linecolor": "white",
                        "ticks": ""
                      }
                    },
                    "scene": {
                      "xaxis": {
                        "backgroundcolor": "#E5ECF6",
                        "gridcolor": "white",
                        "gridwidth": 2,
                        "linecolor": "white",
                        "showbackground": true,
                        "ticks": "",
                        "zerolinecolor": "white"
                      },
                      "yaxis": {
                        "backgroundcolor": "#E5ECF6",
                        "gridcolor": "white",
                        "gridwidth": 2,
                        "linecolor": "white",
                        "showbackground": true,
                        "ticks": "",
                        "zerolinecolor": "white"
                      },
                      "zaxis": {
                        "backgroundcolor": "#E5ECF6",
                        "gridcolor": "white",
                        "gridwidth": 2,
                        "linecolor": "white",
                        "showbackground": true,
                        "ticks": "",
                        "zerolinecolor": "white"
                      }
                    },
                    "shapedefaults": {
                      "line": {
                        "color": "#2a3f5f"
                      }
                    },
                    "ternary": {
                      "aaxis": {
                        "gridcolor": "white",
                        "linecolor": "white",
                        "ticks": ""
                      },
                      "baxis": {
                        "gridcolor": "white",
                        "linecolor": "white",
                        "ticks": ""
                      },
                      "bgcolor": "#E5ECF6",
                      "caxis": {
                        "gridcolor": "white",
                        "linecolor": "white",
                        "ticks": ""
                      }
                    },
                    "title": {
                      "x": 0.05
                    },
                    "xaxis": {
                      "automargin": true,
                      "gridcolor": "white",
                      "linecolor": "white",
                      "ticks": "",
                      "title": {
                        "standoff": 15
                      },
                      "zerolinecolor": "white",
                      "zerolinewidth": 2
                    },
                    "yaxis": {
                      "automargin": true,
                      "gridcolor": "white",
                      "linecolor": "white",
                      "ticks": "",
                      "title": {
                        "standoff": 15
                      },
                      "zerolinecolor": "white",
                      "zerolinewidth": 2
                    }
                  }
                },
                "title": {
                  "text": "Training Progress - No Preprocessing"
                },
                "xaxis": {
                  "anchor": "y",
                  "domain": [
                    0,
                    0.45
                  ],
                  "title": {
                    "text": "Epoch"
                  }
                },
                "xaxis2": {
                  "anchor": "y2",
                  "domain": [
                    0.55,
                    1
                  ],
                  "title": {
                    "text": "Epoch"
                  }
                },
                "xaxis3": {
                  "anchor": "y3",
                  "domain": [
                    0,
                    0.45
                  ],
                  "title": {
                    "text": "Epoch"
                  }
                },
                "xaxis4": {
                  "anchor": "y4",
                  "domain": [
                    0.55,
                    1
                  ],
                  "title": {
                    "text": "Epoch"
                  }
                },
                "yaxis": {
                  "anchor": "x",
                  "domain": [
                    0.625,
                    1
                  ],
                  "title": {
                    "text": "Value"
                  }
                },
                "yaxis2": {
                  "anchor": "x2",
                  "domain": [
                    0.625,
                    1
                  ],
                  "title": {
                    "text": "Value"
                  }
                },
                "yaxis3": {
                  "anchor": "x3",
                  "domain": [
                    0,
                    0.375
                  ],
                  "title": {
                    "text": "Value"
                  }
                },
                "yaxis4": {
                  "anchor": "x4",
                  "domain": [
                    0,
                    0.375
                  ],
                  "title": {
                    "text": "Value"
                  }
                }
              }
            }
          },
          "metadata": {},
          "output_type": "display_data"
        },
        {
          "data": {
            "application/vnd.plotly.v1+json": {
              "config": {
                "plotlyServerURL": "https://plot.ly"
              },
              "data": [
                {
                  "line": {
                    "color": "blue"
                  },
                  "mode": "lines",
                  "name": "Training Loss",
                  "type": "scatter",
                  "x": [
                    1,
                    2,
                    3,
                    4,
                    5,
                    6,
                    7,
                    8,
                    9,
                    10,
                    11,
                    12,
                    13,
                    14,
                    15,
                    16,
                    17,
                    18,
                    19,
                    20,
                    21,
                    22,
                    23,
                    24,
                    25,
                    26,
                    27,
                    28,
                    29,
                    30
                  ],
                  "xaxis": "x",
                  "y": [
                    1.108339786529541,
                    0.7083925008773804,
                    0.6922463178634644,
                    0.6894883513450623,
                    0.6839282512664795,
                    0.669018566608429,
                    0.6346847414970398,
                    0.6844719052314758,
                    0.5990548133850098,
                    0.4621008038520813,
                    0.4749358892440796,
                    0.4769679307937622,
                    0.4910908043384552,
                    0.4316326081752777,
                    0.3854566514492035,
                    0.39115118980407715,
                    0.37661460041999817,
                    0.3781467080116272,
                    0.3058633804321289,
                    0.29399609565734863,
                    0.283649742603302,
                    0.3257242441177368,
                    0.3127744793891907,
                    0.2835465669631958,
                    0.28718945384025574,
                    0.2942486107349396,
                    0.23586878180503845,
                    0.2758413255214691,
                    0.33632001280784607,
                    0.3714181184768677
                  ],
                  "yaxis": "y"
                },
                {
                  "line": {
                    "color": "red"
                  },
                  "mode": "lines",
                  "name": "Validation Loss",
                  "type": "scatter",
                  "x": [
                    1,
                    2,
                    3,
                    4,
                    5,
                    6,
                    7,
                    8,
                    9,
                    10,
                    11,
                    12,
                    13,
                    14,
                    15,
                    16,
                    17,
                    18,
                    19,
                    20,
                    21,
                    22,
                    23,
                    24,
                    25,
                    26,
                    27,
                    28,
                    29,
                    30
                  ],
                  "xaxis": "x",
                  "y": [
                    0.7113823890686035,
                    0.6926360130310059,
                    0.6906247138977051,
                    0.6806602478027344,
                    0.6289049983024597,
                    0.5813301205635071,
                    0.5422146320343018,
                    0.525671124458313,
                    0.3865644037723541,
                    0.30348604917526245,
                    0.4438784420490265,
                    0.4144277572631836,
                    0.2538769245147705,
                    0.25260570645332336,
                    0.22079285979270935,
                    0.29787373542785645,
                    0.2163039594888687,
                    0.22971275448799133,
                    0.19488824903964996,
                    0.21482285857200623,
                    0.1884915977716446,
                    0.24329139292240143,
                    0.1513054370880127,
                    0.1681150197982788,
                    0.21931177377700806,
                    0.156436488032341,
                    0.1578502058982849,
                    0.15764759480953217,
                    0.29829123616218567,
                    0.14165768027305603
                  ],
                  "yaxis": "y"
                },
                {
                  "line": {
                    "color": "blue"
                  },
                  "mode": "lines",
                  "name": "Training Accuracy",
                  "type": "scatter",
                  "x": [
                    1,
                    2,
                    3,
                    4,
                    5,
                    6,
                    7,
                    8,
                    9,
                    10,
                    11,
                    12,
                    13,
                    14,
                    15,
                    16,
                    17,
                    18,
                    19,
                    20,
                    21,
                    22,
                    23,
                    24,
                    25,
                    26,
                    27,
                    28,
                    29,
                    30
                  ],
                  "xaxis": "x2",
                  "y": [
                    0.5056250095367432,
                    0.5049999952316284,
                    0.512499988079071,
                    0.543749988079071,
                    0.6081249713897705,
                    0.653124988079071,
                    0.7012500166893005,
                    0.6993749737739563,
                    0.703125,
                    0.8050000071525574,
                    0.8193749785423279,
                    0.7662500143051147,
                    0.8362500071525574,
                    0.856249988079071,
                    0.8631250262260437,
                    0.84375,
                    0.8725000023841858,
                    0.8743749856948853,
                    0.8768749833106995,
                    0.8887500166893005,
                    0.8799999952316284,
                    0.8725000023841858,
                    0.8974999785423279,
                    0.8974999785423279,
                    0.893750011920929,
                    0.8943750262260437,
                    0.9056249856948853,
                    0.8956249952316284,
                    0.9087499976158142,
                    0.8756250143051147
                  ],
                  "yaxis": "y2"
                },
                {
                  "line": {
                    "color": "red"
                  },
                  "mode": "lines",
                  "name": "Validation Accuracy",
                  "type": "scatter",
                  "x": [
                    1,
                    2,
                    3,
                    4,
                    5,
                    6,
                    7,
                    8,
                    9,
                    10,
                    11,
                    12,
                    13,
                    14,
                    15,
                    16,
                    17,
                    18,
                    19,
                    20,
                    21,
                    22,
                    23,
                    24,
                    25,
                    26,
                    27,
                    28,
                    29,
                    30
                  ],
                  "xaxis": "x2",
                  "y": [
                    0.47999998927116394,
                    0.512499988079071,
                    0.5350000262260437,
                    0.6399999856948853,
                    0.6625000238418579,
                    0.699999988079071,
                    0.8324999809265137,
                    0.8149999976158142,
                    0.8349999785423279,
                    0.8849999904632568,
                    0.862500011920929,
                    0.8274999856948853,
                    0.8924999833106995,
                    0.9075000286102295,
                    0.9100000262260437,
                    0.8974999785423279,
                    0.9024999737739563,
                    0.9175000190734863,
                    0.925000011920929,
                    0.9175000190734863,
                    0.9200000166893005,
                    0.9150000214576721,
                    0.9175000190734863,
                    0.9150000214576721,
                    0.9175000190734863,
                    0.9125000238418579,
                    0.9175000190734863,
                    0.9175000190734863,
                    0.8774999976158142,
                    0.9350000023841858
                  ],
                  "yaxis": "y2"
                },
                {
                  "line": {
                    "color": "blue"
                  },
                  "mode": "lines",
                  "name": "Training Precision",
                  "type": "scatter",
                  "x": [
                    1,
                    2,
                    3,
                    4,
                    5,
                    6,
                    7,
                    8,
                    9,
                    10,
                    11,
                    12,
                    13,
                    14,
                    15,
                    16,
                    17,
                    18,
                    19,
                    20,
                    21,
                    22,
                    23,
                    24,
                    25,
                    26,
                    27,
                    28,
                    29,
                    30
                  ],
                  "xaxis": "x3",
                  "y": [
                    0.5313653349876404,
                    0.5049999952316284,
                    0.6555555462837219,
                    0.5351351499557495,
                    0.596998929977417,
                    0.7279279232025146,
                    0.7777777910232544,
                    0.7904085516929626,
                    0.8208092451095581,
                    0.8195876479148865,
                    0.8437086343765259,
                    0.8522727489471436,
                    0.8109339475631714,
                    0.8432304263114929,
                    0.8667497038841248,
                    0.8435960412025452,
                    0.8647342920303345,
                    0.862604558467865,
                    0.8871989846229553,
                    0.8776978254318237,
                    0.8632075190544128,
                    0.8544601202011108,
                    0.8898305296897888,
                    0.8815165758132935,
                    0.9068877696990967,
                    0.8626560568809509,
                    0.8962605595588684,
                    0.9167750477790833,
                    0.9116915464401245,
                    0.8878980875015259
                  ],
                  "yaxis": "y3"
                },
                {
                  "line": {
                    "color": "red"
                  },
                  "mode": "lines",
                  "name": "Validation Precision",
                  "type": "scatter",
                  "x": [
                    1,
                    2,
                    3,
                    4,
                    5,
                    6,
                    7,
                    8,
                    9,
                    10,
                    11,
                    12,
                    13,
                    14,
                    15,
                    16,
                    17,
                    18,
                    19,
                    20,
                    21,
                    22,
                    23,
                    24,
                    25,
                    26,
                    27,
                    28,
                    29,
                    30
                  ],
                  "xaxis": "x3",
                  "y": [
                    0.47999998927116394,
                    0.47999998927116394,
                    0.6499999761581421,
                    0.5967742204666138,
                    0.7435897588729858,
                    0.8529411554336548,
                    0.8205128312110901,
                    0.7836538553237915,
                    0.78125,
                    0.8802083134651184,
                    0.7965368032455444,
                    0.7510204315185547,
                    0.8530805706977844,
                    0.8817734122276306,
                    0.9105263352394104,
                    0.9575757384300232,
                    0.9226519465446472,
                    0.976047933101654,
                    0.949999988079071,
                    0.920634925365448,
                    0.9301075339317322,
                    0.9876543283462524,
                    0.920634925365448,
                    0.8910890817642212,
                    0.9491525292396545,
                    0.9109947681427002,
                    0.8878048658370972,
                    0.8840579986572266,
                    1,
                    0.9108911156654358
                  ],
                  "yaxis": "y3"
                },
                {
                  "line": {
                    "color": "blue"
                  },
                  "mode": "lines",
                  "name": "Training Recall",
                  "type": "scatter",
                  "x": [
                    1,
                    2,
                    3,
                    4,
                    5,
                    6,
                    7,
                    8,
                    9,
                    10,
                    11,
                    12,
                    13,
                    14,
                    15,
                    16,
                    17,
                    18,
                    19,
                    20,
                    21,
                    22,
                    23,
                    24,
                    25,
                    26,
                    27,
                    28,
                    29,
                    30
                  ],
                  "xaxis": "x4",
                  "y": [
                    0.1782178282737732,
                    1,
                    0.07301980257034302,
                    0.7351484894752502,
                    0.6893564462661743,
                    0.5,
                    0.5717821717262268,
                    0.5507425665855408,
                    0.5272276997566223,
                    0.7871286869049072,
                    0.7883663177490234,
                    0.6497524976730347,
                    0.8811880946159363,
                    0.8787128925323486,
                    0.8613861203193665,
                    0.8477723002433777,
                    0.8861386179924011,
                    0.8935643434524536,
                    0.8663366436958313,
                    0.905940592288971,
                    0.905940592288971,
                    0.9009901285171509,
                    0.9096534848213196,
                    0.9207921028137207,
                    0.8799505233764648,
                    0.9405940771102905,
                    0.9195544719696045,
                    0.8725247383117676,
                    0.9071782231330872,
                    0.8626237511634827
                  ],
                  "yaxis": "y4"
                },
                {
                  "line": {
                    "color": "red"
                  },
                  "mode": "lines",
                  "name": "Validation Recall",
                  "type": "scatter",
                  "x": [
                    1,
                    2,
                    3,
                    4,
                    5,
                    6,
                    7,
                    8,
                    9,
                    10,
                    11,
                    12,
                    13,
                    14,
                    15,
                    16,
                    17,
                    18,
                    19,
                    20,
                    21,
                    22,
                    23,
                    24,
                    25,
                    26,
                    27,
                    28,
                    29,
                    30
                  ],
                  "xaxis": "x4",
                  "y": [
                    1,
                    0.1875,
                    0.0677083358168602,
                    0.7708333134651184,
                    0.453125,
                    0.453125,
                    0.8333333134651184,
                    0.8489583134651184,
                    0.9114583134651184,
                    0.8802083134651184,
                    0.9583333134651184,
                    0.9583333134651184,
                    0.9375,
                    0.9322916865348816,
                    0.9010416865348816,
                    0.8229166865348816,
                    0.8697916865348816,
                    0.8489583134651184,
                    0.890625,
                    0.90625,
                    0.9010416865348816,
                    0.8333333134651184,
                    0.90625,
                    0.9375,
                    0.875,
                    0.90625,
                    0.9479166865348816,
                    0.953125,
                    0.7447916865348816,
                    0.9583333134651184
                  ],
                  "yaxis": "y4"
                }
              ],
              "layout": {
                "annotations": [
                  {
                    "font": {
                      "size": 16
                    },
                    "showarrow": false,
                    "text": "Training and Validation Loss",
                    "x": 0.225,
                    "xanchor": "center",
                    "xref": "paper",
                    "y": 1,
                    "yanchor": "bottom",
                    "yref": "paper"
                  },
                  {
                    "font": {
                      "size": 16
                    },
                    "showarrow": false,
                    "text": "Training and Validation Accuracy",
                    "x": 0.775,
                    "xanchor": "center",
                    "xref": "paper",
                    "y": 1,
                    "yanchor": "bottom",
                    "yref": "paper"
                  },
                  {
                    "font": {
                      "size": 16
                    },
                    "showarrow": false,
                    "text": "Training and Validation Precision",
                    "x": 0.225,
                    "xanchor": "center",
                    "xref": "paper",
                    "y": 0.375,
                    "yanchor": "bottom",
                    "yref": "paper"
                  },
                  {
                    "font": {
                      "size": 16
                    },
                    "showarrow": false,
                    "text": "Training and Validation Recall",
                    "x": 0.775,
                    "xanchor": "center",
                    "xref": "paper",
                    "y": 0.375,
                    "yanchor": "bottom",
                    "yref": "paper"
                  }
                ],
                "height": 600,
                "showlegend": true,
                "template": {
                  "data": {
                    "bar": [
                      {
                        "error_x": {
                          "color": "#2a3f5f"
                        },
                        "error_y": {
                          "color": "#2a3f5f"
                        },
                        "marker": {
                          "line": {
                            "color": "#E5ECF6",
                            "width": 0.5
                          },
                          "pattern": {
                            "fillmode": "overlay",
                            "size": 10,
                            "solidity": 0.2
                          }
                        },
                        "type": "bar"
                      }
                    ],
                    "barpolar": [
                      {
                        "marker": {
                          "line": {
                            "color": "#E5ECF6",
                            "width": 0.5
                          },
                          "pattern": {
                            "fillmode": "overlay",
                            "size": 10,
                            "solidity": 0.2
                          }
                        },
                        "type": "barpolar"
                      }
                    ],
                    "carpet": [
                      {
                        "aaxis": {
                          "endlinecolor": "#2a3f5f",
                          "gridcolor": "white",
                          "linecolor": "white",
                          "minorgridcolor": "white",
                          "startlinecolor": "#2a3f5f"
                        },
                        "baxis": {
                          "endlinecolor": "#2a3f5f",
                          "gridcolor": "white",
                          "linecolor": "white",
                          "minorgridcolor": "white",
                          "startlinecolor": "#2a3f5f"
                        },
                        "type": "carpet"
                      }
                    ],
                    "choropleth": [
                      {
                        "colorbar": {
                          "outlinewidth": 0,
                          "ticks": ""
                        },
                        "type": "choropleth"
                      }
                    ],
                    "contour": [
                      {
                        "colorbar": {
                          "outlinewidth": 0,
                          "ticks": ""
                        },
                        "colorscale": [
                          [
                            0,
                            "#0d0887"
                          ],
                          [
                            0.1111111111111111,
                            "#46039f"
                          ],
                          [
                            0.2222222222222222,
                            "#7201a8"
                          ],
                          [
                            0.3333333333333333,
                            "#9c179e"
                          ],
                          [
                            0.4444444444444444,
                            "#bd3786"
                          ],
                          [
                            0.5555555555555556,
                            "#d8576b"
                          ],
                          [
                            0.6666666666666666,
                            "#ed7953"
                          ],
                          [
                            0.7777777777777778,
                            "#fb9f3a"
                          ],
                          [
                            0.8888888888888888,
                            "#fdca26"
                          ],
                          [
                            1,
                            "#f0f921"
                          ]
                        ],
                        "type": "contour"
                      }
                    ],
                    "contourcarpet": [
                      {
                        "colorbar": {
                          "outlinewidth": 0,
                          "ticks": ""
                        },
                        "type": "contourcarpet"
                      }
                    ],
                    "heatmap": [
                      {
                        "colorbar": {
                          "outlinewidth": 0,
                          "ticks": ""
                        },
                        "colorscale": [
                          [
                            0,
                            "#0d0887"
                          ],
                          [
                            0.1111111111111111,
                            "#46039f"
                          ],
                          [
                            0.2222222222222222,
                            "#7201a8"
                          ],
                          [
                            0.3333333333333333,
                            "#9c179e"
                          ],
                          [
                            0.4444444444444444,
                            "#bd3786"
                          ],
                          [
                            0.5555555555555556,
                            "#d8576b"
                          ],
                          [
                            0.6666666666666666,
                            "#ed7953"
                          ],
                          [
                            0.7777777777777778,
                            "#fb9f3a"
                          ],
                          [
                            0.8888888888888888,
                            "#fdca26"
                          ],
                          [
                            1,
                            "#f0f921"
                          ]
                        ],
                        "type": "heatmap"
                      }
                    ],
                    "histogram": [
                      {
                        "marker": {
                          "pattern": {
                            "fillmode": "overlay",
                            "size": 10,
                            "solidity": 0.2
                          }
                        },
                        "type": "histogram"
                      }
                    ],
                    "histogram2d": [
                      {
                        "colorbar": {
                          "outlinewidth": 0,
                          "ticks": ""
                        },
                        "colorscale": [
                          [
                            0,
                            "#0d0887"
                          ],
                          [
                            0.1111111111111111,
                            "#46039f"
                          ],
                          [
                            0.2222222222222222,
                            "#7201a8"
                          ],
                          [
                            0.3333333333333333,
                            "#9c179e"
                          ],
                          [
                            0.4444444444444444,
                            "#bd3786"
                          ],
                          [
                            0.5555555555555556,
                            "#d8576b"
                          ],
                          [
                            0.6666666666666666,
                            "#ed7953"
                          ],
                          [
                            0.7777777777777778,
                            "#fb9f3a"
                          ],
                          [
                            0.8888888888888888,
                            "#fdca26"
                          ],
                          [
                            1,
                            "#f0f921"
                          ]
                        ],
                        "type": "histogram2d"
                      }
                    ],
                    "histogram2dcontour": [
                      {
                        "colorbar": {
                          "outlinewidth": 0,
                          "ticks": ""
                        },
                        "colorscale": [
                          [
                            0,
                            "#0d0887"
                          ],
                          [
                            0.1111111111111111,
                            "#46039f"
                          ],
                          [
                            0.2222222222222222,
                            "#7201a8"
                          ],
                          [
                            0.3333333333333333,
                            "#9c179e"
                          ],
                          [
                            0.4444444444444444,
                            "#bd3786"
                          ],
                          [
                            0.5555555555555556,
                            "#d8576b"
                          ],
                          [
                            0.6666666666666666,
                            "#ed7953"
                          ],
                          [
                            0.7777777777777778,
                            "#fb9f3a"
                          ],
                          [
                            0.8888888888888888,
                            "#fdca26"
                          ],
                          [
                            1,
                            "#f0f921"
                          ]
                        ],
                        "type": "histogram2dcontour"
                      }
                    ],
                    "mesh3d": [
                      {
                        "colorbar": {
                          "outlinewidth": 0,
                          "ticks": ""
                        },
                        "type": "mesh3d"
                      }
                    ],
                    "parcoords": [
                      {
                        "line": {
                          "colorbar": {
                            "outlinewidth": 0,
                            "ticks": ""
                          }
                        },
                        "type": "parcoords"
                      }
                    ],
                    "pie": [
                      {
                        "automargin": true,
                        "type": "pie"
                      }
                    ],
                    "scatter": [
                      {
                        "fillpattern": {
                          "fillmode": "overlay",
                          "size": 10,
                          "solidity": 0.2
                        },
                        "type": "scatter"
                      }
                    ],
                    "scatter3d": [
                      {
                        "line": {
                          "colorbar": {
                            "outlinewidth": 0,
                            "ticks": ""
                          }
                        },
                        "marker": {
                          "colorbar": {
                            "outlinewidth": 0,
                            "ticks": ""
                          }
                        },
                        "type": "scatter3d"
                      }
                    ],
                    "scattercarpet": [
                      {
                        "marker": {
                          "colorbar": {
                            "outlinewidth": 0,
                            "ticks": ""
                          }
                        },
                        "type": "scattercarpet"
                      }
                    ],
                    "scattergeo": [
                      {
                        "marker": {
                          "colorbar": {
                            "outlinewidth": 0,
                            "ticks": ""
                          }
                        },
                        "type": "scattergeo"
                      }
                    ],
                    "scattergl": [
                      {
                        "marker": {
                          "colorbar": {
                            "outlinewidth": 0,
                            "ticks": ""
                          }
                        },
                        "type": "scattergl"
                      }
                    ],
                    "scattermap": [
                      {
                        "marker": {
                          "colorbar": {
                            "outlinewidth": 0,
                            "ticks": ""
                          }
                        },
                        "type": "scattermap"
                      }
                    ],
                    "scattermapbox": [
                      {
                        "marker": {
                          "colorbar": {
                            "outlinewidth": 0,
                            "ticks": ""
                          }
                        },
                        "type": "scattermapbox"
                      }
                    ],
                    "scatterpolar": [
                      {
                        "marker": {
                          "colorbar": {
                            "outlinewidth": 0,
                            "ticks": ""
                          }
                        },
                        "type": "scatterpolar"
                      }
                    ],
                    "scatterpolargl": [
                      {
                        "marker": {
                          "colorbar": {
                            "outlinewidth": 0,
                            "ticks": ""
                          }
                        },
                        "type": "scatterpolargl"
                      }
                    ],
                    "scatterternary": [
                      {
                        "marker": {
                          "colorbar": {
                            "outlinewidth": 0,
                            "ticks": ""
                          }
                        },
                        "type": "scatterternary"
                      }
                    ],
                    "surface": [
                      {
                        "colorbar": {
                          "outlinewidth": 0,
                          "ticks": ""
                        },
                        "colorscale": [
                          [
                            0,
                            "#0d0887"
                          ],
                          [
                            0.1111111111111111,
                            "#46039f"
                          ],
                          [
                            0.2222222222222222,
                            "#7201a8"
                          ],
                          [
                            0.3333333333333333,
                            "#9c179e"
                          ],
                          [
                            0.4444444444444444,
                            "#bd3786"
                          ],
                          [
                            0.5555555555555556,
                            "#d8576b"
                          ],
                          [
                            0.6666666666666666,
                            "#ed7953"
                          ],
                          [
                            0.7777777777777778,
                            "#fb9f3a"
                          ],
                          [
                            0.8888888888888888,
                            "#fdca26"
                          ],
                          [
                            1,
                            "#f0f921"
                          ]
                        ],
                        "type": "surface"
                      }
                    ],
                    "table": [
                      {
                        "cells": {
                          "fill": {
                            "color": "#EBF0F8"
                          },
                          "line": {
                            "color": "white"
                          }
                        },
                        "header": {
                          "fill": {
                            "color": "#C8D4E3"
                          },
                          "line": {
                            "color": "white"
                          }
                        },
                        "type": "table"
                      }
                    ]
                  },
                  "layout": {
                    "annotationdefaults": {
                      "arrowcolor": "#2a3f5f",
                      "arrowhead": 0,
                      "arrowwidth": 1
                    },
                    "autotypenumbers": "strict",
                    "coloraxis": {
                      "colorbar": {
                        "outlinewidth": 0,
                        "ticks": ""
                      }
                    },
                    "colorscale": {
                      "diverging": [
                        [
                          0,
                          "#8e0152"
                        ],
                        [
                          0.1,
                          "#c51b7d"
                        ],
                        [
                          0.2,
                          "#de77ae"
                        ],
                        [
                          0.3,
                          "#f1b6da"
                        ],
                        [
                          0.4,
                          "#fde0ef"
                        ],
                        [
                          0.5,
                          "#f7f7f7"
                        ],
                        [
                          0.6,
                          "#e6f5d0"
                        ],
                        [
                          0.7,
                          "#b8e186"
                        ],
                        [
                          0.8,
                          "#7fbc41"
                        ],
                        [
                          0.9,
                          "#4d9221"
                        ],
                        [
                          1,
                          "#276419"
                        ]
                      ],
                      "sequential": [
                        [
                          0,
                          "#0d0887"
                        ],
                        [
                          0.1111111111111111,
                          "#46039f"
                        ],
                        [
                          0.2222222222222222,
                          "#7201a8"
                        ],
                        [
                          0.3333333333333333,
                          "#9c179e"
                        ],
                        [
                          0.4444444444444444,
                          "#bd3786"
                        ],
                        [
                          0.5555555555555556,
                          "#d8576b"
                        ],
                        [
                          0.6666666666666666,
                          "#ed7953"
                        ],
                        [
                          0.7777777777777778,
                          "#fb9f3a"
                        ],
                        [
                          0.8888888888888888,
                          "#fdca26"
                        ],
                        [
                          1,
                          "#f0f921"
                        ]
                      ],
                      "sequentialminus": [
                        [
                          0,
                          "#0d0887"
                        ],
                        [
                          0.1111111111111111,
                          "#46039f"
                        ],
                        [
                          0.2222222222222222,
                          "#7201a8"
                        ],
                        [
                          0.3333333333333333,
                          "#9c179e"
                        ],
                        [
                          0.4444444444444444,
                          "#bd3786"
                        ],
                        [
                          0.5555555555555556,
                          "#d8576b"
                        ],
                        [
                          0.6666666666666666,
                          "#ed7953"
                        ],
                        [
                          0.7777777777777778,
                          "#fb9f3a"
                        ],
                        [
                          0.8888888888888888,
                          "#fdca26"
                        ],
                        [
                          1,
                          "#f0f921"
                        ]
                      ]
                    },
                    "colorway": [
                      "#636efa",
                      "#EF553B",
                      "#00cc96",
                      "#ab63fa",
                      "#FFA15A",
                      "#19d3f3",
                      "#FF6692",
                      "#B6E880",
                      "#FF97FF",
                      "#FECB52"
                    ],
                    "font": {
                      "color": "#2a3f5f"
                    },
                    "geo": {
                      "bgcolor": "white",
                      "lakecolor": "white",
                      "landcolor": "#E5ECF6",
                      "showlakes": true,
                      "showland": true,
                      "subunitcolor": "white"
                    },
                    "hoverlabel": {
                      "align": "left"
                    },
                    "hovermode": "closest",
                    "mapbox": {
                      "style": "light"
                    },
                    "paper_bgcolor": "white",
                    "plot_bgcolor": "#E5ECF6",
                    "polar": {
                      "angularaxis": {
                        "gridcolor": "white",
                        "linecolor": "white",
                        "ticks": ""
                      },
                      "bgcolor": "#E5ECF6",
                      "radialaxis": {
                        "gridcolor": "white",
                        "linecolor": "white",
                        "ticks": ""
                      }
                    },
                    "scene": {
                      "xaxis": {
                        "backgroundcolor": "#E5ECF6",
                        "gridcolor": "white",
                        "gridwidth": 2,
                        "linecolor": "white",
                        "showbackground": true,
                        "ticks": "",
                        "zerolinecolor": "white"
                      },
                      "yaxis": {
                        "backgroundcolor": "#E5ECF6",
                        "gridcolor": "white",
                        "gridwidth": 2,
                        "linecolor": "white",
                        "showbackground": true,
                        "ticks": "",
                        "zerolinecolor": "white"
                      },
                      "zaxis": {
                        "backgroundcolor": "#E5ECF6",
                        "gridcolor": "white",
                        "gridwidth": 2,
                        "linecolor": "white",
                        "showbackground": true,
                        "ticks": "",
                        "zerolinecolor": "white"
                      }
                    },
                    "shapedefaults": {
                      "line": {
                        "color": "#2a3f5f"
                      }
                    },
                    "ternary": {
                      "aaxis": {
                        "gridcolor": "white",
                        "linecolor": "white",
                        "ticks": ""
                      },
                      "baxis": {
                        "gridcolor": "white",
                        "linecolor": "white",
                        "ticks": ""
                      },
                      "bgcolor": "#E5ECF6",
                      "caxis": {
                        "gridcolor": "white",
                        "linecolor": "white",
                        "ticks": ""
                      }
                    },
                    "title": {
                      "x": 0.05
                    },
                    "xaxis": {
                      "automargin": true,
                      "gridcolor": "white",
                      "linecolor": "white",
                      "ticks": "",
                      "title": {
                        "standoff": 15
                      },
                      "zerolinecolor": "white",
                      "zerolinewidth": 2
                    },
                    "yaxis": {
                      "automargin": true,
                      "gridcolor": "white",
                      "linecolor": "white",
                      "ticks": "",
                      "title": {
                        "standoff": 15
                      },
                      "zerolinecolor": "white",
                      "zerolinewidth": 2
                    }
                  }
                },
                "title": {
                  "text": "Training Progress - With Preprocessing"
                },
                "xaxis": {
                  "anchor": "y",
                  "domain": [
                    0,
                    0.45
                  ],
                  "title": {
                    "text": "Epoch"
                  }
                },
                "xaxis2": {
                  "anchor": "y2",
                  "domain": [
                    0.55,
                    1
                  ],
                  "title": {
                    "text": "Epoch"
                  }
                },
                "xaxis3": {
                  "anchor": "y3",
                  "domain": [
                    0,
                    0.45
                  ],
                  "title": {
                    "text": "Epoch"
                  }
                },
                "xaxis4": {
                  "anchor": "y4",
                  "domain": [
                    0.55,
                    1
                  ],
                  "title": {
                    "text": "Epoch"
                  }
                },
                "yaxis": {
                  "anchor": "x",
                  "domain": [
                    0.625,
                    1
                  ],
                  "title": {
                    "text": "Value"
                  }
                },
                "yaxis2": {
                  "anchor": "x2",
                  "domain": [
                    0.625,
                    1
                  ],
                  "title": {
                    "text": "Value"
                  }
                },
                "yaxis3": {
                  "anchor": "x3",
                  "domain": [
                    0,
                    0.375
                  ],
                  "title": {
                    "text": "Value"
                  }
                },
                "yaxis4": {
                  "anchor": "x4",
                  "domain": [
                    0,
                    0.375
                  ],
                  "title": {
                    "text": "Value"
                  }
                }
              }
            }
          },
          "metadata": {},
          "output_type": "display_data"
        },
        {
          "name": "stdout",
          "output_type": "stream",
          "text": [
            "✅ Training visualizations created successfully!\n"
          ]
        }
      ],
      "source": [
        "# Create training history comparison\n",
        "print(\"📊 Creating training visualizations...\")\n",
        "\n",
        "# Plot training history for both models\n",
        "fig_no_prep = KMRPlotter.plot_training_history(\n",
        "    history,\n",
        "    metrics=['loss', 'accuracy', 'precision', 'recall'],\n",
        "    title=\"Training Progress - No Preprocessing\",\n",
        "    height=600\n",
        ")\n",
        "fig_no_prep.show()\n",
        "\n",
        "fig_with_prep = KMRPlotter.plot_training_history(\n",
        "    history_with_preprocessing,\n",
        "    metrics=['loss', 'accuracy', 'precision', 'recall'],\n",
        "    title=\"Training Progress - With Preprocessing\",\n",
        "    height=600\n",
        ")\n",
        "fig_with_prep.show()\n",
        "\n",
        "print(\"✅ Training visualizations created successfully!\")\n"
      ]
    },
    {
      "cell_type": "code",
      "execution_count": 24,
      "metadata": {},
      "outputs": [
        {
          "name": "stdout",
          "output_type": "stream",
          "text": [
            "🔍 Making predictions and creating comprehensive visualizations...\n",
            "\u001b[1m 1/13\u001b[0m \u001b[32m━\u001b[0m\u001b[37m━━━━━━━━━━━━━━━━━━━\u001b[0m \u001b[1m0s\u001b[0m 8ms/step"
          ]
        },
        {
          "name": "stdout",
          "output_type": "stream",
          "text": [
            "\u001b[1m13/13\u001b[0m \u001b[32m━━━━━━━━━━━━━━━━━━━━\u001b[0m\u001b[37m\u001b[0m \u001b[1m0s\u001b[0m 1ms/step\n",
            "\u001b[1m13/13\u001b[0m \u001b[32m━━━━━━━━━━━━━━━━━━━━\u001b[0m\u001b[37m\u001b[0m \u001b[1m0s\u001b[0m 1ms/step\n"
          ]
        },
        {
          "data": {
            "application/vnd.plotly.v1+json": {
              "config": {
                "plotlyServerURL": "https://plot.ly"
              },
              "data": [
                {
                  "colorscale": [
                    [
                      0,
                      "rgb(247,251,255)"
                    ],
                    [
                      0.125,
                      "rgb(222,235,247)"
                    ],
                    [
                      0.25,
                      "rgb(198,219,239)"
                    ],
                    [
                      0.375,
                      "rgb(158,202,225)"
                    ],
                    [
                      0.5,
                      "rgb(107,174,214)"
                    ],
                    [
                      0.625,
                      "rgb(66,146,198)"
                    ],
                    [
                      0.75,
                      "rgb(33,113,181)"
                    ],
                    [
                      0.875,
                      "rgb(8,81,156)"
                    ],
                    [
                      1,
                      "rgb(8,48,107)"
                    ]
                  ],
                  "text": {
                    "bdata": "xAADAAwAvQA=",
                    "dtype": "i2",
                    "shape": "2, 2"
                  },
                  "textfont": {
                    "size": 16
                  },
                  "texttemplate": "%{text}",
                  "type": "heatmap",
                  "x": [
                    "Predicted 0",
                    "Predicted 1"
                  ],
                  "xaxis": "x",
                  "y": [
                    "Actual 0",
                    "Actual 1"
                  ],
                  "yaxis": "y",
                  "z": {
                    "bdata": "xAADAAwAvQA=",
                    "dtype": "i2",
                    "shape": "2, 2"
                  }
                },
                {
                  "marker": {
                    "color": [
                      "#1f77b4",
                      "#ff7f0e",
                      "#2ca02c",
                      "#d62728"
                    ]
                  },
                  "type": "bar",
                  "x": [
                    "Accuracy",
                    "Precision",
                    "Recall",
                    "F1-Score"
                  ],
                  "xaxis": "x2",
                  "y": [
                    0.9625,
                    0.984375,
                    0.9402985074626866,
                    0.9618320610687023
                  ],
                  "yaxis": "y2"
                },
                {
                  "name": "Scores",
                  "nbinsx": 30,
                  "type": "histogram",
                  "x": {
                    "bdata": "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",
                    "dtype": "f4"
                  },
                  "xaxis": "x3",
                  "yaxis": "y3"
                },
                {
                  "line": {
                    "width": 3
                  },
                  "mode": "lines",
                  "name": "PR Curve",
                  "type": "scatter",
                  "x": [
                    1,
                    0.6716417910447762,
                    0.5472636815920398,
                    0.43283582089552236,
                    0.35323383084577115,
                    0.2736318407960199,
                    0.23383084577114427,
                    0.19900497512437812,
                    0.16417910447761194,
                    0.14427860696517414,
                    0.12437810945273632,
                    0.11442786069651742,
                    0.09950248756218906,
                    0.09950248756218906,
                    0.0945273631840796,
                    0.07960199004975124,
                    0.07960199004975124,
                    0.05970149253731343,
                    0.05472636815920398,
                    0.04477611940298507,
                    0.03980099502487562,
                    0.03482587064676617,
                    0.029850746268656716,
                    0.024875621890547265,
                    0.024875621890547265,
                    0.024875621890547265,
                    0.024875621890547265,
                    0.01990049751243781,
                    0.01990049751243781,
                    0.01990049751243781,
                    0.01990049751243781,
                    0.014925373134328358,
                    0.014925373134328358,
                    0.014925373134328358,
                    0.014925373134328358,
                    0.014925373134328358,
                    0.014925373134328358,
                    0.014925373134328358,
                    0.014925373134328358,
                    0.014925373134328358,
                    0.014925373134328358,
                    0.014925373134328358,
                    0.014925373134328358,
                    0.014925373134328358,
                    0.014925373134328358,
                    0.014925373134328358,
                    0.014925373134328358,
                    0.014925373134328358,
                    0.014925373134328358,
                    0.014925373134328358,
                    0.014925373134328358,
                    0.014925373134328358,
                    0.014925373134328358,
                    0.014925373134328358,
                    0.014925373134328358,
                    0.009950248756218905,
                    0.009950248756218905,
                    0.009950248756218905,
                    0.009950248756218905,
                    0.009950248756218905,
                    0.009950248756218905,
                    0.009950248756218905,
                    0.004975124378109453,
                    0.004975124378109453,
                    0.004975124378109453,
                    0.004975124378109453,
                    0.004975124378109453,
                    0.004975124378109453,
                    0.004975124378109453,
                    0.004975124378109453,
                    0.004975124378109453,
                    0.004975124378109453,
                    0.004975124378109453,
                    0.004975124378109453,
                    0.004975124378109453,
                    0.004975124378109453,
                    0.004975124378109453,
                    0.004975124378109453,
                    0.004975124378109453,
                    0.004975124378109453,
                    0.004975124378109453,
                    0.004975124378109453,
                    0.004975124378109453,
                    0.004975124378109453,
                    0.004975124378109453,
                    0.004975124378109453,
                    0.004975124378109453,
                    0.004975124378109453,
                    0.004975124378109453,
                    0.004975124378109453,
                    0.004975124378109453,
                    0.004975124378109453,
                    0.004975124378109453,
                    0.004975124378109453,
                    0.004975124378109453,
                    0.004975124378109453,
                    0.004975124378109453,
                    0.004975124378109453,
                    0.004975124378109453,
                    0
                  ],
                  "xaxis": "x4",
                  "y": [
                    0.9136363636363637,
                    1,
                    1,
                    1,
                    1,
                    1,
                    1,
                    1,
                    1,
                    1,
                    1,
                    1,
                    1,
                    1,
                    1,
                    1,
                    1,
                    1,
                    1,
                    1,
                    1,
                    1,
                    1,
                    1,
                    1,
                    1,
                    1,
                    1,
                    1,
                    1,
                    1,
                    1,
                    1,
                    1,
                    1,
                    1,
                    1,
                    1,
                    1,
                    1,
                    1,
                    1,
                    1,
                    1,
                    1,
                    1,
                    1,
                    1,
                    1,
                    1,
                    1,
                    1,
                    1,
                    1,
                    1,
                    1,
                    1,
                    1,
                    1,
                    1,
                    1,
                    1,
                    1,
                    1,
                    1,
                    1,
                    1,
                    1,
                    1,
                    1,
                    1,
                    1,
                    1,
                    1,
                    1,
                    1,
                    1,
                    1,
                    1,
                    1,
                    1,
                    1,
                    1,
                    1,
                    1,
                    1,
                    1,
                    1,
                    1,
                    1,
                    1,
                    1,
                    1,
                    1,
                    1,
                    1,
                    1,
                    1,
                    1,
                    0
                  ],
                  "yaxis": "y4"
                }
              ],
              "layout": {
                "annotations": [
                  {
                    "font": {
                      "size": 16
                    },
                    "showarrow": false,
                    "text": "Confusion Matrix",
                    "x": 0.225,
                    "xanchor": "center",
                    "xref": "paper",
                    "y": 1,
                    "yanchor": "bottom",
                    "yref": "paper"
                  },
                  {
                    "font": {
                      "size": 16
                    },
                    "showarrow": false,
                    "text": "Performance Metrics",
                    "x": 0.775,
                    "xanchor": "center",
                    "xref": "paper",
                    "y": 1,
                    "yanchor": "bottom",
                    "yref": "paper"
                  },
                  {
                    "font": {
                      "size": 16
                    },
                    "showarrow": false,
                    "text": "Score Distribution",
                    "x": 0.225,
                    "xanchor": "center",
                    "xref": "paper",
                    "y": 0.375,
                    "yanchor": "bottom",
                    "yref": "paper"
                  },
                  {
                    "font": {
                      "size": 16
                    },
                    "showarrow": false,
                    "text": "Precision-Recall Curve",
                    "x": 0.775,
                    "xanchor": "center",
                    "xref": "paper",
                    "y": 0.375,
                    "yanchor": "bottom",
                    "yref": "paper"
                  }
                ],
                "height": 800,
                "showlegend": true,
                "template": {
                  "data": {
                    "bar": [
                      {
                        "error_x": {
                          "color": "#2a3f5f"
                        },
                        "error_y": {
                          "color": "#2a3f5f"
                        },
                        "marker": {
                          "line": {
                            "color": "#E5ECF6",
                            "width": 0.5
                          },
                          "pattern": {
                            "fillmode": "overlay",
                            "size": 10,
                            "solidity": 0.2
                          }
                        },
                        "type": "bar"
                      }
                    ],
                    "barpolar": [
                      {
                        "marker": {
                          "line": {
                            "color": "#E5ECF6",
                            "width": 0.5
                          },
                          "pattern": {
                            "fillmode": "overlay",
                            "size": 10,
                            "solidity": 0.2
                          }
                        },
                        "type": "barpolar"
                      }
                    ],
                    "carpet": [
                      {
                        "aaxis": {
                          "endlinecolor": "#2a3f5f",
                          "gridcolor": "white",
                          "linecolor": "white",
                          "minorgridcolor": "white",
                          "startlinecolor": "#2a3f5f"
                        },
                        "baxis": {
                          "endlinecolor": "#2a3f5f",
                          "gridcolor": "white",
                          "linecolor": "white",
                          "minorgridcolor": "white",
                          "startlinecolor": "#2a3f5f"
                        },
                        "type": "carpet"
                      }
                    ],
                    "choropleth": [
                      {
                        "colorbar": {
                          "outlinewidth": 0,
                          "ticks": ""
                        },
                        "type": "choropleth"
                      }
                    ],
                    "contour": [
                      {
                        "colorbar": {
                          "outlinewidth": 0,
                          "ticks": ""
                        },
                        "colorscale": [
                          [
                            0,
                            "#0d0887"
                          ],
                          [
                            0.1111111111111111,
                            "#46039f"
                          ],
                          [
                            0.2222222222222222,
                            "#7201a8"
                          ],
                          [
                            0.3333333333333333,
                            "#9c179e"
                          ],
                          [
                            0.4444444444444444,
                            "#bd3786"
                          ],
                          [
                            0.5555555555555556,
                            "#d8576b"
                          ],
                          [
                            0.6666666666666666,
                            "#ed7953"
                          ],
                          [
                            0.7777777777777778,
                            "#fb9f3a"
                          ],
                          [
                            0.8888888888888888,
                            "#fdca26"
                          ],
                          [
                            1,
                            "#f0f921"
                          ]
                        ],
                        "type": "contour"
                      }
                    ],
                    "contourcarpet": [
                      {
                        "colorbar": {
                          "outlinewidth": 0,
                          "ticks": ""
                        },
                        "type": "contourcarpet"
                      }
                    ],
                    "heatmap": [
                      {
                        "colorbar": {
                          "outlinewidth": 0,
                          "ticks": ""
                        },
                        "colorscale": [
                          [
                            0,
                            "#0d0887"
                          ],
                          [
                            0.1111111111111111,
                            "#46039f"
                          ],
                          [
                            0.2222222222222222,
                            "#7201a8"
                          ],
                          [
                            0.3333333333333333,
                            "#9c179e"
                          ],
                          [
                            0.4444444444444444,
                            "#bd3786"
                          ],
                          [
                            0.5555555555555556,
                            "#d8576b"
                          ],
                          [
                            0.6666666666666666,
                            "#ed7953"
                          ],
                          [
                            0.7777777777777778,
                            "#fb9f3a"
                          ],
                          [
                            0.8888888888888888,
                            "#fdca26"
                          ],
                          [
                            1,
                            "#f0f921"
                          ]
                        ],
                        "type": "heatmap"
                      }
                    ],
                    "histogram": [
                      {
                        "marker": {
                          "pattern": {
                            "fillmode": "overlay",
                            "size": 10,
                            "solidity": 0.2
                          }
                        },
                        "type": "histogram"
                      }
                    ],
                    "histogram2d": [
                      {
                        "colorbar": {
                          "outlinewidth": 0,
                          "ticks": ""
                        },
                        "colorscale": [
                          [
                            0,
                            "#0d0887"
                          ],
                          [
                            0.1111111111111111,
                            "#46039f"
                          ],
                          [
                            0.2222222222222222,
                            "#7201a8"
                          ],
                          [
                            0.3333333333333333,
                            "#9c179e"
                          ],
                          [
                            0.4444444444444444,
                            "#bd3786"
                          ],
                          [
                            0.5555555555555556,
                            "#d8576b"
                          ],
                          [
                            0.6666666666666666,
                            "#ed7953"
                          ],
                          [
                            0.7777777777777778,
                            "#fb9f3a"
                          ],
                          [
                            0.8888888888888888,
                            "#fdca26"
                          ],
                          [
                            1,
                            "#f0f921"
                          ]
                        ],
                        "type": "histogram2d"
                      }
                    ],
                    "histogram2dcontour": [
                      {
                        "colorbar": {
                          "outlinewidth": 0,
                          "ticks": ""
                        },
                        "colorscale": [
                          [
                            0,
                            "#0d0887"
                          ],
                          [
                            0.1111111111111111,
                            "#46039f"
                          ],
                          [
                            0.2222222222222222,
                            "#7201a8"
                          ],
                          [
                            0.3333333333333333,
                            "#9c179e"
                          ],
                          [
                            0.4444444444444444,
                            "#bd3786"
                          ],
                          [
                            0.5555555555555556,
                            "#d8576b"
                          ],
                          [
                            0.6666666666666666,
                            "#ed7953"
                          ],
                          [
                            0.7777777777777778,
                            "#fb9f3a"
                          ],
                          [
                            0.8888888888888888,
                            "#fdca26"
                          ],
                          [
                            1,
                            "#f0f921"
                          ]
                        ],
                        "type": "histogram2dcontour"
                      }
                    ],
                    "mesh3d": [
                      {
                        "colorbar": {
                          "outlinewidth": 0,
                          "ticks": ""
                        },
                        "type": "mesh3d"
                      }
                    ],
                    "parcoords": [
                      {
                        "line": {
                          "colorbar": {
                            "outlinewidth": 0,
                            "ticks": ""
                          }
                        },
                        "type": "parcoords"
                      }
                    ],
                    "pie": [
                      {
                        "automargin": true,
                        "type": "pie"
                      }
                    ],
                    "scatter": [
                      {
                        "fillpattern": {
                          "fillmode": "overlay",
                          "size": 10,
                          "solidity": 0.2
                        },
                        "type": "scatter"
                      }
                    ],
                    "scatter3d": [
                      {
                        "line": {
                          "colorbar": {
                            "outlinewidth": 0,
                            "ticks": ""
                          }
                        },
                        "marker": {
                          "colorbar": {
                            "outlinewidth": 0,
                            "ticks": ""
                          }
                        },
                        "type": "scatter3d"
                      }
                    ],
                    "scattercarpet": [
                      {
                        "marker": {
                          "colorbar": {
                            "outlinewidth": 0,
                            "ticks": ""
                          }
                        },
                        "type": "scattercarpet"
                      }
                    ],
                    "scattergeo": [
                      {
                        "marker": {
                          "colorbar": {
                            "outlinewidth": 0,
                            "ticks": ""
                          }
                        },
                        "type": "scattergeo"
                      }
                    ],
                    "scattergl": [
                      {
                        "marker": {
                          "colorbar": {
                            "outlinewidth": 0,
                            "ticks": ""
                          }
                        },
                        "type": "scattergl"
                      }
                    ],
                    "scattermap": [
                      {
                        "marker": {
                          "colorbar": {
                            "outlinewidth": 0,
                            "ticks": ""
                          }
                        },
                        "type": "scattermap"
                      }
                    ],
                    "scattermapbox": [
                      {
                        "marker": {
                          "colorbar": {
                            "outlinewidth": 0,
                            "ticks": ""
                          }
                        },
                        "type": "scattermapbox"
                      }
                    ],
                    "scatterpolar": [
                      {
                        "marker": {
                          "colorbar": {
                            "outlinewidth": 0,
                            "ticks": ""
                          }
                        },
                        "type": "scatterpolar"
                      }
                    ],
                    "scatterpolargl": [
                      {
                        "marker": {
                          "colorbar": {
                            "outlinewidth": 0,
                            "ticks": ""
                          }
                        },
                        "type": "scatterpolargl"
                      }
                    ],
                    "scatterternary": [
                      {
                        "marker": {
                          "colorbar": {
                            "outlinewidth": 0,
                            "ticks": ""
                          }
                        },
                        "type": "scatterternary"
                      }
                    ],
                    "surface": [
                      {
                        "colorbar": {
                          "outlinewidth": 0,
                          "ticks": ""
                        },
                        "colorscale": [
                          [
                            0,
                            "#0d0887"
                          ],
                          [
                            0.1111111111111111,
                            "#46039f"
                          ],
                          [
                            0.2222222222222222,
                            "#7201a8"
                          ],
                          [
                            0.3333333333333333,
                            "#9c179e"
                          ],
                          [
                            0.4444444444444444,
                            "#bd3786"
                          ],
                          [
                            0.5555555555555556,
                            "#d8576b"
                          ],
                          [
                            0.6666666666666666,
                            "#ed7953"
                          ],
                          [
                            0.7777777777777778,
                            "#fb9f3a"
                          ],
                          [
                            0.8888888888888888,
                            "#fdca26"
                          ],
                          [
                            1,
                            "#f0f921"
                          ]
                        ],
                        "type": "surface"
                      }
                    ],
                    "table": [
                      {
                        "cells": {
                          "fill": {
                            "color": "#EBF0F8"
                          },
                          "line": {
                            "color": "white"
                          }
                        },
                        "header": {
                          "fill": {
                            "color": "#C8D4E3"
                          },
                          "line": {
                            "color": "white"
                          }
                        },
                        "type": "table"
                      }
                    ]
                  },
                  "layout": {
                    "annotationdefaults": {
                      "arrowcolor": "#2a3f5f",
                      "arrowhead": 0,
                      "arrowwidth": 1
                    },
                    "autotypenumbers": "strict",
                    "coloraxis": {
                      "colorbar": {
                        "outlinewidth": 0,
                        "ticks": ""
                      }
                    },
                    "colorscale": {
                      "diverging": [
                        [
                          0,
                          "#8e0152"
                        ],
                        [
                          0.1,
                          "#c51b7d"
                        ],
                        [
                          0.2,
                          "#de77ae"
                        ],
                        [
                          0.3,
                          "#f1b6da"
                        ],
                        [
                          0.4,
                          "#fde0ef"
                        ],
                        [
                          0.5,
                          "#f7f7f7"
                        ],
                        [
                          0.6,
                          "#e6f5d0"
                        ],
                        [
                          0.7,
                          "#b8e186"
                        ],
                        [
                          0.8,
                          "#7fbc41"
                        ],
                        [
                          0.9,
                          "#4d9221"
                        ],
                        [
                          1,
                          "#276419"
                        ]
                      ],
                      "sequential": [
                        [
                          0,
                          "#0d0887"
                        ],
                        [
                          0.1111111111111111,
                          "#46039f"
                        ],
                        [
                          0.2222222222222222,
                          "#7201a8"
                        ],
                        [
                          0.3333333333333333,
                          "#9c179e"
                        ],
                        [
                          0.4444444444444444,
                          "#bd3786"
                        ],
                        [
                          0.5555555555555556,
                          "#d8576b"
                        ],
                        [
                          0.6666666666666666,
                          "#ed7953"
                        ],
                        [
                          0.7777777777777778,
                          "#fb9f3a"
                        ],
                        [
                          0.8888888888888888,
                          "#fdca26"
                        ],
                        [
                          1,
                          "#f0f921"
                        ]
                      ],
                      "sequentialminus": [
                        [
                          0,
                          "#0d0887"
                        ],
                        [
                          0.1111111111111111,
                          "#46039f"
                        ],
                        [
                          0.2222222222222222,
                          "#7201a8"
                        ],
                        [
                          0.3333333333333333,
                          "#9c179e"
                        ],
                        [
                          0.4444444444444444,
                          "#bd3786"
                        ],
                        [
                          0.5555555555555556,
                          "#d8576b"
                        ],
                        [
                          0.6666666666666666,
                          "#ed7953"
                        ],
                        [
                          0.7777777777777778,
                          "#fb9f3a"
                        ],
                        [
                          0.8888888888888888,
                          "#fdca26"
                        ],
                        [
                          1,
                          "#f0f921"
                        ]
                      ]
                    },
                    "colorway": [
                      "#636efa",
                      "#EF553B",
                      "#00cc96",
                      "#ab63fa",
                      "#FFA15A",
                      "#19d3f3",
                      "#FF6692",
                      "#B6E880",
                      "#FF97FF",
                      "#FECB52"
                    ],
                    "font": {
                      "color": "#2a3f5f"
                    },
                    "geo": {
                      "bgcolor": "white",
                      "lakecolor": "white",
                      "landcolor": "#E5ECF6",
                      "showlakes": true,
                      "showland": true,
                      "subunitcolor": "white"
                    },
                    "hoverlabel": {
                      "align": "left"
                    },
                    "hovermode": "closest",
                    "mapbox": {
                      "style": "light"
                    },
                    "paper_bgcolor": "white",
                    "plot_bgcolor": "#E5ECF6",
                    "polar": {
                      "angularaxis": {
                        "gridcolor": "white",
                        "linecolor": "white",
                        "ticks": ""
                      },
                      "bgcolor": "#E5ECF6",
                      "radialaxis": {
                        "gridcolor": "white",
                        "linecolor": "white",
                        "ticks": ""
                      }
                    },
                    "scene": {
                      "xaxis": {
                        "backgroundcolor": "#E5ECF6",
                        "gridcolor": "white",
                        "gridwidth": 2,
                        "linecolor": "white",
                        "showbackground": true,
                        "ticks": "",
                        "zerolinecolor": "white"
                      },
                      "yaxis": {
                        "backgroundcolor": "#E5ECF6",
                        "gridcolor": "white",
                        "gridwidth": 2,
                        "linecolor": "white",
                        "showbackground": true,
                        "ticks": "",
                        "zerolinecolor": "white"
                      },
                      "zaxis": {
                        "backgroundcolor": "#E5ECF6",
                        "gridcolor": "white",
                        "gridwidth": 2,
                        "linecolor": "white",
                        "showbackground": true,
                        "ticks": "",
                        "zerolinecolor": "white"
                      }
                    },
                    "shapedefaults": {
                      "line": {
                        "color": "#2a3f5f"
                      }
                    },
                    "ternary": {
                      "aaxis": {
                        "gridcolor": "white",
                        "linecolor": "white",
                        "ticks": ""
                      },
                      "baxis": {
                        "gridcolor": "white",
                        "linecolor": "white",
                        "ticks": ""
                      },
                      "bgcolor": "#E5ECF6",
                      "caxis": {
                        "gridcolor": "white",
                        "linecolor": "white",
                        "ticks": ""
                      }
                    },
                    "title": {
                      "x": 0.05
                    },
                    "xaxis": {
                      "automargin": true,
                      "gridcolor": "white",
                      "linecolor": "white",
                      "ticks": "",
                      "title": {
                        "standoff": 15
                      },
                      "zerolinecolor": "white",
                      "zerolinewidth": 2
                    },
                    "yaxis": {
                      "automargin": true,
                      "gridcolor": "white",
                      "linecolor": "white",
                      "ticks": "",
                      "title": {
                        "standoff": 15
                      },
                      "zerolinecolor": "white",
                      "zerolinewidth": 2
                    }
                  }
                },
                "title": {
                  "text": "SFNEBlock Classification Results - No Preprocessing"
                },
                "xaxis": {
                  "anchor": "y",
                  "domain": [
                    0,
                    0.45
                  ]
                },
                "xaxis2": {
                  "anchor": "y2",
                  "domain": [
                    0.55,
                    1
                  ]
                },
                "xaxis3": {
                  "anchor": "y3",
                  "domain": [
                    0,
                    0.45
                  ]
                },
                "xaxis4": {
                  "anchor": "y4",
                  "domain": [
                    0.55,
                    1
                  ]
                },
                "yaxis": {
                  "anchor": "x",
                  "domain": [
                    0.625,
                    1
                  ]
                },
                "yaxis2": {
                  "anchor": "x2",
                  "domain": [
                    0.625,
                    1
                  ]
                },
                "yaxis3": {
                  "anchor": "x3",
                  "domain": [
                    0,
                    0.375
                  ]
                },
                "yaxis4": {
                  "anchor": "x4",
                  "domain": [
                    0,
                    0.375
                  ]
                }
              }
            }
          },
          "metadata": {},
          "output_type": "display_data"
        },
        {
          "data": {
            "application/vnd.plotly.v1+json": {
              "config": {
                "plotlyServerURL": "https://plot.ly"
              },
              "data": [
                {
                  "colorscale": [
                    [
                      0,
                      "rgb(247,251,255)"
                    ],
                    [
                      0.125,
                      "rgb(222,235,247)"
                    ],
                    [
                      0.25,
                      "rgb(198,219,239)"
                    ],
                    [
                      0.375,
                      "rgb(158,202,225)"
                    ],
                    [
                      0.5,
                      "rgb(107,174,214)"
                    ],
                    [
                      0.625,
                      "rgb(66,146,198)"
                    ],
                    [
                      0.75,
                      "rgb(33,113,181)"
                    ],
                    [
                      0.875,
                      "rgb(8,81,156)"
                    ],
                    [
                      1,
                      "rgb(8,48,107)"
                    ]
                  ],
                  "text": {
                    "bdata": "vgASAAgAuAA=",
                    "dtype": "i2",
                    "shape": "2, 2"
                  },
                  "textfont": {
                    "size": 16
                  },
                  "texttemplate": "%{text}",
                  "type": "heatmap",
                  "x": [
                    "Predicted 0",
                    "Predicted 1"
                  ],
                  "xaxis": "x",
                  "y": [
                    "Actual 0",
                    "Actual 1"
                  ],
                  "yaxis": "y",
                  "z": {
                    "bdata": "vgASAAgAuAA=",
                    "dtype": "i2",
                    "shape": "2, 2"
                  }
                },
                {
                  "marker": {
                    "color": [
                      "#1f77b4",
                      "#ff7f0e",
                      "#2ca02c",
                      "#d62728"
                    ]
                  },
                  "type": "bar",
                  "x": [
                    "Accuracy",
                    "Precision",
                    "Recall",
                    "F1-Score"
                  ],
                  "xaxis": "x2",
                  "y": [
                    0.935,
                    0.9108910891089109,
                    0.9583333333333334,
                    0.934010152284264
                  ],
                  "yaxis": "y2"
                },
                {
                  "name": "Scores",
                  "nbinsx": 30,
                  "type": "histogram",
                  "x": {
                    "bdata": "rJu3P+LWDz8EdT8/hmg8P8vMBUDjDsU74/OePcFKhj3jDsU7T0gBQOMOxTuQdn0/jaCVP+MOxTskAT8/E/LZP+MOxTtrKyhA4w7FOzblpD0JpQxAsjkYPs/Y4T8R3UI/kpwkP+MOxTt+v14+VrkDQPE/W0DlDi0+IyLpP+MOxTv5KYg/4w7FOz0HZT7euFI/M5ifP+MOxTuMmro/SbmUPn59wj18FCxAFhgDPuMOxTvqIMI/4w7FO3umlD/ArFA8k8XPP+MOxTvjDsU77oVtP+MOxTtjITs++/3WP6zqUj9b3s8/IEU1P9gu2D7OPwQ/ghTwPOMOxTsx09w/4w7FO+MOxTvjDsU7tAbTPQUm4j+VzkJA4w7FOys2HT8ng40/4w7FOxLblz7jDsU7tJTrPwUlEj677HU/Y/EaQDyYjEDjDsU7QZerP+MOxTvjDsU7BXOGPztOgD9nH5M9hHRlP+Rmdz/jDsU7QQ9GP+MOxTt8ZDBAXDfSPafDdkCHTUQ/4w7FOw0T9T8vY4I/UT6uP+MOxTvjDsU7snYgPuMOxTtIMAFA4w7FO+MOxTvjDsU74w7FO73YHT7jDsU7X1wDPGA9Sz4L3a4/4w7FOwmxQz/jDsU7DjAJQH3Gnj9y1EE/AenDP1XQSUDjDsU7eIfrPecQzj/jDsU7go4ZP5usFUCAEyM+T+pZPpwcOz+MikQ/4w7FO69NkD/jjsI/4w7FO+MOxTvjDsU7LbGzPwzEn0DjDsU7bwPEP67vkD/jDsU7OSF0QG4xuTyawyE/M0CIP/43S0DjDsU74w7FO+Fx/j8Cueg+sNXFP+MOxTvMlGE953wGQOMOxTsS/yxADMSwP++hjD6X6NI/iq3TPuMOxTvjDsU74w7FO+MOxTviWX8/4w7FO+MOxTup2tA/4w7FO9i2Uj334BJAjaMpQOudfT7jDsU7hpsmPMiDNz+fy+8/4w7FO+nFJD9R07o/3kcXPwZULj/iVEs/7ezHP9JeAz4jdIw/4w7FO5sx5T+Bhts/groPPFvhMD4OR54+d0KjP+MOxTsfbo0/4w7FO+MOxTtvJQdA6hdRP0Tbtz0QjH0/N86MP6ipdz/D/pM+ndurP4VMZ0CX7OM9SXScPPJLMT/MySI94w7FO+MOxTvjDsU74w7FO+MOxTvjDsU74w7FO5pbkTzejC1A9wK5P5PQLD9zRNE/UqQ7QBPpFT7k5Yc8x3EKQOFEFD/qVjc/z3VGP+MOxTvjgD8/CS4dPyWNDkDi+W4/ooJSPyYApT8s6OE8t+2fPspdLj9oViI/4w7FO+MOxTvjDsU7ZmQ2P0IKNz9SY5A94w7FO5vDyD/HirI/JykRQGe7JD6ZPr0/4w7FOzsiRT8p6rM/1EYcP+MOxTvjDsU7vRtSP0Pktj/jDsU74w7FO1xZsz+Vg1A+4xQAQI94oT7j3IQ/gz1oQG1YnT0pW6I/53aZP+MOxTvixFw/4w7FO+MOxTulH4084w7FOz9fQT+2bJY/4w7FOzzHbDx+wFs/w+elPx7f1j5y4DY/B6v/Pl8IpDzjDsU7sHFJP7/HhTzjDsU7lUS9PyRGhT8F7QBAwK9NQOMOxTvjDsU7/oo8P+mzuT/jDsU7kobwPVRPrz3jDsU74w7FO9k5jD/jDsU7mmVCP+MOxTsxOJ4//592QJcWL0BGqDQ/1nIkP+MOxTvVQAQ9fe8FQK3/yD7jDsU7tKdUP+MOxTsl4pY/4w7FOw4drD3Zop8/4w7FO+Dejz2sBHs/p2ChP+IfhD0CaSM/4w7FOxHsjz9Vtfw/vSXTP8vOID7jDsU74w7FO1c5lj9/+Ik9l/NBPueBuz/jDsU74w7FO8oLVj/B4e0+oX+kP+MOxTuSNkw/4w7FO+MOxTv9SoNAliNePOMOxTvqcco+PGsSPG+JQz/xpMI/qCQQPHLqfD/jDsU7Nz6UP+MOxTvjDsU74w7FO/E8EkACFaA/9byEP+MOxTuiNY4+0ukqQLDUB0DjDsU7Dl0pQJBPgD/jDsU711KHPyg+IT+msqI9PFetP+MOxTvjDsU7mbFkPwlqjT+JgZk/XQ6CP0GVHj756no/L4a6POMOxTud0RZA4w7FO9n3MD/nHgZA4w7FO2I0BECguWw/0Xp1Pw==",
                    "dtype": "f4"
                  },
                  "xaxis": "x3",
                  "yaxis": "y3"
                },
                {
                  "line": {
                    "width": 3
                  },
                  "mode": "lines",
                  "name": "PR Curve",
                  "type": "scatter",
                  "x": [
                    1,
                    1,
                    1,
                    0.9895833333333334,
                    0.9895833333333334,
                    0.9895833333333334,
                    0.9895833333333334,
                    0.984375,
                    0.9791666666666666,
                    0.96875,
                    0.9583333333333334,
                    0.953125,
                    0.9375,
                    0.921875,
                    0.890625,
                    0.828125,
                    0.796875,
                    0.7604166666666666,
                    0.7447916666666666,
                    0.7239583333333334,
                    0.671875,
                    0.6302083333333334,
                    0.59375,
                    0.5677083333333334,
                    0.5364583333333334,
                    0.5052083333333334,
                    0.4791666666666667,
                    0.4583333333333333,
                    0.4270833333333333,
                    0.390625,
                    0.375,
                    0.34375,
                    0.3333333333333333,
                    0.3020833333333333,
                    0.2864583333333333,
                    0.2708333333333333,
                    0.265625,
                    0.2552083333333333,
                    0.24479166666666666,
                    0.24479166666666666,
                    0.21354166666666666,
                    0.203125,
                    0.17708333333333334,
                    0.16145833333333334,
                    0.15625,
                    0.14583333333333334,
                    0.13541666666666666,
                    0.125,
                    0.11979166666666667,
                    0.11979166666666667,
                    0.11979166666666667,
                    0.11979166666666667,
                    0.11979166666666667,
                    0.09895833333333333,
                    0.08333333333333333,
                    0.07291666666666667,
                    0.07291666666666667,
                    0.07291666666666667,
                    0.07291666666666667,
                    0.06770833333333333,
                    0.06770833333333333,
                    0.0625,
                    0.0625,
                    0.052083333333333336,
                    0.046875,
                    0.046875,
                    0.046875,
                    0.046875,
                    0.041666666666666664,
                    0.041666666666666664,
                    0.041666666666666664,
                    0.041666666666666664,
                    0.03125,
                    0.03125,
                    0.03125,
                    0.03125,
                    0.026041666666666668,
                    0.015625,
                    0.015625,
                    0.015625,
                    0.015625,
                    0.015625,
                    0.010416666666666666,
                    0.010416666666666666,
                    0.010416666666666666,
                    0.010416666666666666,
                    0.010416666666666666,
                    0.010416666666666666,
                    0.005208333333333333,
                    0.005208333333333333,
                    0.005208333333333333,
                    0.005208333333333333,
                    0.005208333333333333,
                    0.005208333333333333,
                    0.005208333333333333,
                    0.005208333333333333,
                    0.005208333333333333,
                    0.005208333333333333,
                    0.005208333333333333,
                    0
                  ],
                  "xaxis": "x4",
                  "y": [
                    0.6857142857142857,
                    0.7441860465116279,
                    0.7933884297520661,
                    0.8260869565217391,
                    0.8558558558558559,
                    0.8715596330275229,
                    0.892018779342723,
                    0.9,
                    0.9038461538461539,
                    0.9117647058823529,
                    0.9108910891089109,
                    0.9104477611940298,
                    0.9183673469387755,
                    0.946524064171123,
                    0.95,
                    0.9636363636363636,
                    0.9870967741935484,
                    0.9931972789115646,
                    0.9930555555555556,
                    1,
                    1,
                    1,
                    1,
                    1,
                    1,
                    1,
                    1,
                    1,
                    1,
                    1,
                    1,
                    1,
                    1,
                    1,
                    1,
                    1,
                    1,
                    1,
                    1,
                    1,
                    1,
                    1,
                    1,
                    1,
                    1,
                    1,
                    1,
                    1,
                    1,
                    1,
                    1,
                    1,
                    1,
                    1,
                    1,
                    1,
                    1,
                    1,
                    1,
                    1,
                    1,
                    1,
                    1,
                    1,
                    1,
                    1,
                    1,
                    1,
                    1,
                    1,
                    1,
                    1,
                    1,
                    1,
                    1,
                    1,
                    1,
                    1,
                    1,
                    1,
                    1,
                    1,
                    1,
                    1,
                    1,
                    1,
                    1,
                    1,
                    1,
                    1,
                    1,
                    1,
                    1,
                    1,
                    1,
                    1,
                    1,
                    1,
                    1,
                    0
                  ],
                  "yaxis": "y4"
                }
              ],
              "layout": {
                "annotations": [
                  {
                    "font": {
                      "size": 16
                    },
                    "showarrow": false,
                    "text": "Confusion Matrix",
                    "x": 0.225,
                    "xanchor": "center",
                    "xref": "paper",
                    "y": 1,
                    "yanchor": "bottom",
                    "yref": "paper"
                  },
                  {
                    "font": {
                      "size": 16
                    },
                    "showarrow": false,
                    "text": "Performance Metrics",
                    "x": 0.775,
                    "xanchor": "center",
                    "xref": "paper",
                    "y": 1,
                    "yanchor": "bottom",
                    "yref": "paper"
                  },
                  {
                    "font": {
                      "size": 16
                    },
                    "showarrow": false,
                    "text": "Score Distribution",
                    "x": 0.225,
                    "xanchor": "center",
                    "xref": "paper",
                    "y": 0.375,
                    "yanchor": "bottom",
                    "yref": "paper"
                  },
                  {
                    "font": {
                      "size": 16
                    },
                    "showarrow": false,
                    "text": "Precision-Recall Curve",
                    "x": 0.775,
                    "xanchor": "center",
                    "xref": "paper",
                    "y": 0.375,
                    "yanchor": "bottom",
                    "yref": "paper"
                  }
                ],
                "height": 800,
                "showlegend": true,
                "template": {
                  "data": {
                    "bar": [
                      {
                        "error_x": {
                          "color": "#2a3f5f"
                        },
                        "error_y": {
                          "color": "#2a3f5f"
                        },
                        "marker": {
                          "line": {
                            "color": "#E5ECF6",
                            "width": 0.5
                          },
                          "pattern": {
                            "fillmode": "overlay",
                            "size": 10,
                            "solidity": 0.2
                          }
                        },
                        "type": "bar"
                      }
                    ],
                    "barpolar": [
                      {
                        "marker": {
                          "line": {
                            "color": "#E5ECF6",
                            "width": 0.5
                          },
                          "pattern": {
                            "fillmode": "overlay",
                            "size": 10,
                            "solidity": 0.2
                          }
                        },
                        "type": "barpolar"
                      }
                    ],
                    "carpet": [
                      {
                        "aaxis": {
                          "endlinecolor": "#2a3f5f",
                          "gridcolor": "white",
                          "linecolor": "white",
                          "minorgridcolor": "white",
                          "startlinecolor": "#2a3f5f"
                        },
                        "baxis": {
                          "endlinecolor": "#2a3f5f",
                          "gridcolor": "white",
                          "linecolor": "white",
                          "minorgridcolor": "white",
                          "startlinecolor": "#2a3f5f"
                        },
                        "type": "carpet"
                      }
                    ],
                    "choropleth": [
                      {
                        "colorbar": {
                          "outlinewidth": 0,
                          "ticks": ""
                        },
                        "type": "choropleth"
                      }
                    ],
                    "contour": [
                      {
                        "colorbar": {
                          "outlinewidth": 0,
                          "ticks": ""
                        },
                        "colorscale": [
                          [
                            0,
                            "#0d0887"
                          ],
                          [
                            0.1111111111111111,
                            "#46039f"
                          ],
                          [
                            0.2222222222222222,
                            "#7201a8"
                          ],
                          [
                            0.3333333333333333,
                            "#9c179e"
                          ],
                          [
                            0.4444444444444444,
                            "#bd3786"
                          ],
                          [
                            0.5555555555555556,
                            "#d8576b"
                          ],
                          [
                            0.6666666666666666,
                            "#ed7953"
                          ],
                          [
                            0.7777777777777778,
                            "#fb9f3a"
                          ],
                          [
                            0.8888888888888888,
                            "#fdca26"
                          ],
                          [
                            1,
                            "#f0f921"
                          ]
                        ],
                        "type": "contour"
                      }
                    ],
                    "contourcarpet": [
                      {
                        "colorbar": {
                          "outlinewidth": 0,
                          "ticks": ""
                        },
                        "type": "contourcarpet"
                      }
                    ],
                    "heatmap": [
                      {
                        "colorbar": {
                          "outlinewidth": 0,
                          "ticks": ""
                        },
                        "colorscale": [
                          [
                            0,
                            "#0d0887"
                          ],
                          [
                            0.1111111111111111,
                            "#46039f"
                          ],
                          [
                            0.2222222222222222,
                            "#7201a8"
                          ],
                          [
                            0.3333333333333333,
                            "#9c179e"
                          ],
                          [
                            0.4444444444444444,
                            "#bd3786"
                          ],
                          [
                            0.5555555555555556,
                            "#d8576b"
                          ],
                          [
                            0.6666666666666666,
                            "#ed7953"
                          ],
                          [
                            0.7777777777777778,
                            "#fb9f3a"
                          ],
                          [
                            0.8888888888888888,
                            "#fdca26"
                          ],
                          [
                            1,
                            "#f0f921"
                          ]
                        ],
                        "type": "heatmap"
                      }
                    ],
                    "histogram": [
                      {
                        "marker": {
                          "pattern": {
                            "fillmode": "overlay",
                            "size": 10,
                            "solidity": 0.2
                          }
                        },
                        "type": "histogram"
                      }
                    ],
                    "histogram2d": [
                      {
                        "colorbar": {
                          "outlinewidth": 0,
                          "ticks": ""
                        },
                        "colorscale": [
                          [
                            0,
                            "#0d0887"
                          ],
                          [
                            0.1111111111111111,
                            "#46039f"
                          ],
                          [
                            0.2222222222222222,
                            "#7201a8"
                          ],
                          [
                            0.3333333333333333,
                            "#9c179e"
                          ],
                          [
                            0.4444444444444444,
                            "#bd3786"
                          ],
                          [
                            0.5555555555555556,
                            "#d8576b"
                          ],
                          [
                            0.6666666666666666,
                            "#ed7953"
                          ],
                          [
                            0.7777777777777778,
                            "#fb9f3a"
                          ],
                          [
                            0.8888888888888888,
                            "#fdca26"
                          ],
                          [
                            1,
                            "#f0f921"
                          ]
                        ],
                        "type": "histogram2d"
                      }
                    ],
                    "histogram2dcontour": [
                      {
                        "colorbar": {
                          "outlinewidth": 0,
                          "ticks": ""
                        },
                        "colorscale": [
                          [
                            0,
                            "#0d0887"
                          ],
                          [
                            0.1111111111111111,
                            "#46039f"
                          ],
                          [
                            0.2222222222222222,
                            "#7201a8"
                          ],
                          [
                            0.3333333333333333,
                            "#9c179e"
                          ],
                          [
                            0.4444444444444444,
                            "#bd3786"
                          ],
                          [
                            0.5555555555555556,
                            "#d8576b"
                          ],
                          [
                            0.6666666666666666,
                            "#ed7953"
                          ],
                          [
                            0.7777777777777778,
                            "#fb9f3a"
                          ],
                          [
                            0.8888888888888888,
                            "#fdca26"
                          ],
                          [
                            1,
                            "#f0f921"
                          ]
                        ],
                        "type": "histogram2dcontour"
                      }
                    ],
                    "mesh3d": [
                      {
                        "colorbar": {
                          "outlinewidth": 0,
                          "ticks": ""
                        },
                        "type": "mesh3d"
                      }
                    ],
                    "parcoords": [
                      {
                        "line": {
                          "colorbar": {
                            "outlinewidth": 0,
                            "ticks": ""
                          }
                        },
                        "type": "parcoords"
                      }
                    ],
                    "pie": [
                      {
                        "automargin": true,
                        "type": "pie"
                      }
                    ],
                    "scatter": [
                      {
                        "fillpattern": {
                          "fillmode": "overlay",
                          "size": 10,
                          "solidity": 0.2
                        },
                        "type": "scatter"
                      }
                    ],
                    "scatter3d": [
                      {
                        "line": {
                          "colorbar": {
                            "outlinewidth": 0,
                            "ticks": ""
                          }
                        },
                        "marker": {
                          "colorbar": {
                            "outlinewidth": 0,
                            "ticks": ""
                          }
                        },
                        "type": "scatter3d"
                      }
                    ],
                    "scattercarpet": [
                      {
                        "marker": {
                          "colorbar": {
                            "outlinewidth": 0,
                            "ticks": ""
                          }
                        },
                        "type": "scattercarpet"
                      }
                    ],
                    "scattergeo": [
                      {
                        "marker": {
                          "colorbar": {
                            "outlinewidth": 0,
                            "ticks": ""
                          }
                        },
                        "type": "scattergeo"
                      }
                    ],
                    "scattergl": [
                      {
                        "marker": {
                          "colorbar": {
                            "outlinewidth": 0,
                            "ticks": ""
                          }
                        },
                        "type": "scattergl"
                      }
                    ],
                    "scattermap": [
                      {
                        "marker": {
                          "colorbar": {
                            "outlinewidth": 0,
                            "ticks": ""
                          }
                        },
                        "type": "scattermap"
                      }
                    ],
                    "scattermapbox": [
                      {
                        "marker": {
                          "colorbar": {
                            "outlinewidth": 0,
                            "ticks": ""
                          }
                        },
                        "type": "scattermapbox"
                      }
                    ],
                    "scatterpolar": [
                      {
                        "marker": {
                          "colorbar": {
                            "outlinewidth": 0,
                            "ticks": ""
                          }
                        },
                        "type": "scatterpolar"
                      }
                    ],
                    "scatterpolargl": [
                      {
                        "marker": {
                          "colorbar": {
                            "outlinewidth": 0,
                            "ticks": ""
                          }
                        },
                        "type": "scatterpolargl"
                      }
                    ],
                    "scatterternary": [
                      {
                        "marker": {
                          "colorbar": {
                            "outlinewidth": 0,
                            "ticks": ""
                          }
                        },
                        "type": "scatterternary"
                      }
                    ],
                    "surface": [
                      {
                        "colorbar": {
                          "outlinewidth": 0,
                          "ticks": ""
                        },
                        "colorscale": [
                          [
                            0,
                            "#0d0887"
                          ],
                          [
                            0.1111111111111111,
                            "#46039f"
                          ],
                          [
                            0.2222222222222222,
                            "#7201a8"
                          ],
                          [
                            0.3333333333333333,
                            "#9c179e"
                          ],
                          [
                            0.4444444444444444,
                            "#bd3786"
                          ],
                          [
                            0.5555555555555556,
                            "#d8576b"
                          ],
                          [
                            0.6666666666666666,
                            "#ed7953"
                          ],
                          [
                            0.7777777777777778,
                            "#fb9f3a"
                          ],
                          [
                            0.8888888888888888,
                            "#fdca26"
                          ],
                          [
                            1,
                            "#f0f921"
                          ]
                        ],
                        "type": "surface"
                      }
                    ],
                    "table": [
                      {
                        "cells": {
                          "fill": {
                            "color": "#EBF0F8"
                          },
                          "line": {
                            "color": "white"
                          }
                        },
                        "header": {
                          "fill": {
                            "color": "#C8D4E3"
                          },
                          "line": {
                            "color": "white"
                          }
                        },
                        "type": "table"
                      }
                    ]
                  },
                  "layout": {
                    "annotationdefaults": {
                      "arrowcolor": "#2a3f5f",
                      "arrowhead": 0,
                      "arrowwidth": 1
                    },
                    "autotypenumbers": "strict",
                    "coloraxis": {
                      "colorbar": {
                        "outlinewidth": 0,
                        "ticks": ""
                      }
                    },
                    "colorscale": {
                      "diverging": [
                        [
                          0,
                          "#8e0152"
                        ],
                        [
                          0.1,
                          "#c51b7d"
                        ],
                        [
                          0.2,
                          "#de77ae"
                        ],
                        [
                          0.3,
                          "#f1b6da"
                        ],
                        [
                          0.4,
                          "#fde0ef"
                        ],
                        [
                          0.5,
                          "#f7f7f7"
                        ],
                        [
                          0.6,
                          "#e6f5d0"
                        ],
                        [
                          0.7,
                          "#b8e186"
                        ],
                        [
                          0.8,
                          "#7fbc41"
                        ],
                        [
                          0.9,
                          "#4d9221"
                        ],
                        [
                          1,
                          "#276419"
                        ]
                      ],
                      "sequential": [
                        [
                          0,
                          "#0d0887"
                        ],
                        [
                          0.1111111111111111,
                          "#46039f"
                        ],
                        [
                          0.2222222222222222,
                          "#7201a8"
                        ],
                        [
                          0.3333333333333333,
                          "#9c179e"
                        ],
                        [
                          0.4444444444444444,
                          "#bd3786"
                        ],
                        [
                          0.5555555555555556,
                          "#d8576b"
                        ],
                        [
                          0.6666666666666666,
                          "#ed7953"
                        ],
                        [
                          0.7777777777777778,
                          "#fb9f3a"
                        ],
                        [
                          0.8888888888888888,
                          "#fdca26"
                        ],
                        [
                          1,
                          "#f0f921"
                        ]
                      ],
                      "sequentialminus": [
                        [
                          0,
                          "#0d0887"
                        ],
                        [
                          0.1111111111111111,
                          "#46039f"
                        ],
                        [
                          0.2222222222222222,
                          "#7201a8"
                        ],
                        [
                          0.3333333333333333,
                          "#9c179e"
                        ],
                        [
                          0.4444444444444444,
                          "#bd3786"
                        ],
                        [
                          0.5555555555555556,
                          "#d8576b"
                        ],
                        [
                          0.6666666666666666,
                          "#ed7953"
                        ],
                        [
                          0.7777777777777778,
                          "#fb9f3a"
                        ],
                        [
                          0.8888888888888888,
                          "#fdca26"
                        ],
                        [
                          1,
                          "#f0f921"
                        ]
                      ]
                    },
                    "colorway": [
                      "#636efa",
                      "#EF553B",
                      "#00cc96",
                      "#ab63fa",
                      "#FFA15A",
                      "#19d3f3",
                      "#FF6692",
                      "#B6E880",
                      "#FF97FF",
                      "#FECB52"
                    ],
                    "font": {
                      "color": "#2a3f5f"
                    },
                    "geo": {
                      "bgcolor": "white",
                      "lakecolor": "white",
                      "landcolor": "#E5ECF6",
                      "showlakes": true,
                      "showland": true,
                      "subunitcolor": "white"
                    },
                    "hoverlabel": {
                      "align": "left"
                    },
                    "hovermode": "closest",
                    "mapbox": {
                      "style": "light"
                    },
                    "paper_bgcolor": "white",
                    "plot_bgcolor": "#E5ECF6",
                    "polar": {
                      "angularaxis": {
                        "gridcolor": "white",
                        "linecolor": "white",
                        "ticks": ""
                      },
                      "bgcolor": "#E5ECF6",
                      "radialaxis": {
                        "gridcolor": "white",
                        "linecolor": "white",
                        "ticks": ""
                      }
                    },
                    "scene": {
                      "xaxis": {
                        "backgroundcolor": "#E5ECF6",
                        "gridcolor": "white",
                        "gridwidth": 2,
                        "linecolor": "white",
                        "showbackground": true,
                        "ticks": "",
                        "zerolinecolor": "white"
                      },
                      "yaxis": {
                        "backgroundcolor": "#E5ECF6",
                        "gridcolor": "white",
                        "gridwidth": 2,
                        "linecolor": "white",
                        "showbackground": true,
                        "ticks": "",
                        "zerolinecolor": "white"
                      },
                      "zaxis": {
                        "backgroundcolor": "#E5ECF6",
                        "gridcolor": "white",
                        "gridwidth": 2,
                        "linecolor": "white",
                        "showbackground": true,
                        "ticks": "",
                        "zerolinecolor": "white"
                      }
                    },
                    "shapedefaults": {
                      "line": {
                        "color": "#2a3f5f"
                      }
                    },
                    "ternary": {
                      "aaxis": {
                        "gridcolor": "white",
                        "linecolor": "white",
                        "ticks": ""
                      },
                      "baxis": {
                        "gridcolor": "white",
                        "linecolor": "white",
                        "ticks": ""
                      },
                      "bgcolor": "#E5ECF6",
                      "caxis": {
                        "gridcolor": "white",
                        "linecolor": "white",
                        "ticks": ""
                      }
                    },
                    "title": {
                      "x": 0.05
                    },
                    "xaxis": {
                      "automargin": true,
                      "gridcolor": "white",
                      "linecolor": "white",
                      "ticks": "",
                      "title": {
                        "standoff": 15
                      },
                      "zerolinecolor": "white",
                      "zerolinewidth": 2
                    },
                    "yaxis": {
                      "automargin": true,
                      "gridcolor": "white",
                      "linecolor": "white",
                      "ticks": "",
                      "title": {
                        "standoff": 15
                      },
                      "zerolinecolor": "white",
                      "zerolinewidth": 2
                    }
                  }
                },
                "title": {
                  "text": "SFNEBlock Classification Results - With Preprocessing"
                },
                "xaxis": {
                  "anchor": "y",
                  "domain": [
                    0,
                    0.45
                  ]
                },
                "xaxis2": {
                  "anchor": "y2",
                  "domain": [
                    0.55,
                    1
                  ]
                },
                "xaxis3": {
                  "anchor": "y3",
                  "domain": [
                    0,
                    0.45
                  ]
                },
                "xaxis4": {
                  "anchor": "y4",
                  "domain": [
                    0.55,
                    1
                  ]
                },
                "yaxis": {
                  "anchor": "x",
                  "domain": [
                    0.625,
                    1
                  ]
                },
                "yaxis2": {
                  "anchor": "x2",
                  "domain": [
                    0.625,
                    1
                  ]
                },
                "yaxis3": {
                  "anchor": "x3",
                  "domain": [
                    0,
                    0.375
                  ]
                },
                "yaxis4": {
                  "anchor": "x4",
                  "domain": [
                    0,
                    0.375
                  ]
                }
              }
            }
          },
          "metadata": {},
          "output_type": "display_data"
        },
        {
          "name": "stdout",
          "output_type": "stream",
          "text": [
            "✅ Comprehensive visualizations created successfully!\n"
          ]
        }
      ],
      "source": [
        "# Make predictions and create comprehensive plots\n",
        "print(\"🔍 Making predictions and creating comprehensive visualizations...\")\n",
        "\n",
        "# Predictions without preprocessing\n",
        "y_pred_proba_no_prep = model.predict(X_test)\n",
        "y_pred_no_prep = (y_pred_proba_no_prep > 0.5).astype(int).flatten()\n",
        "\n",
        "# Predictions with preprocessing\n",
        "y_pred_proba_with_prep = model_with_preprocessing.predict(X_test_dict)\n",
        "y_pred_with_prep = (y_pred_proba_with_prep > 0.5).astype(int).flatten()\n",
        "\n",
        "# Create comprehensive classification plots\n",
        "fig_no_prep = KMRPlotter.create_comprehensive_plot(\n",
        "    'classification',\n",
        "    y_true=y_test,\n",
        "    y_pred=y_pred_no_prep,\n",
        "    y_scores=y_pred_proba_no_prep.flatten(),\n",
        "    title=\"SFNEBlock Classification Results - No Preprocessing\"\n",
        ")\n",
        "fig_no_prep.show()\n",
        "\n",
        "fig_with_prep = KMRPlotter.create_comprehensive_plot(\n",
        "    'classification',\n",
        "    y_true=y_test_prep,\n",
        "    y_pred=y_pred_with_prep,\n",
        "    y_scores=y_pred_proba_with_prep.flatten(),\n",
        "    title=\"SFNEBlock Classification Results - With Preprocessing\"\n",
        ")\n",
        "fig_with_prep.show()\n",
        "\n",
        "print(\"✅ Comprehensive visualizations created successfully!\")\n"
      ]
    }
  ],
  "metadata": {
    "kernelspec": {
      "display_name": "kmr-S1SSCx8j-py3.12",
      "language": "python",
      "name": "python3"
    },
    "language_info": {
      "codemirror_mode": {
        "name": "ipython",
        "version": 3
      },
      "file_extension": ".py",
      "mimetype": "text/x-python",
      "name": "python",
      "nbconvert_exporter": "python",
      "pygments_lexer": "ipython3",
      "version": "3.12.4"
    }
  },
  "nbformat": 4,
  "nbformat_minor": 2
}
