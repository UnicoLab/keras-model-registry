{
 "cells": [
  {
   "cell_type": "markdown",
   "id": "aaa07632",
   "metadata": {},
   "source": [
    "# TerminatorModel End-to-End Demo\n",
    "\n",
    "This notebook demonstrates KMR's TerminatorModel for advanced hierarchical feature processing with context. It includes:\n",
    "\n",
    "- Data generation with input and context features\n",
    "- Model creation, training, and evaluation\n",
    "- Plotly visualizations\n",
    "- Model serialization and loading validation\n",
    "\n",
    "## 1. Setup and Imports\n"
   ]
  },
  {
   "cell_type": "code",
   "execution_count": 1,
   "id": "a73eaaac",
   "metadata": {},
   "outputs": [
    {
     "name": "stdout",
     "output_type": "stream",
     "text": [
      "✅ All imports successful!\n",
      "TensorFlow version: 2.18.0\n",
      "Keras version: 3.8.0\n"
     ]
    }
   ],
   "source": [
    "import os\n",
    "import tempfile\n",
    "\n",
    "import numpy as np\n",
    "import tensorflow as tf\n",
    "import keras\n",
    "from keras.optimizers import Adam\n",
    "from keras.losses import MeanSquaredError\n",
    "from keras.metrics import MeanAbsoluteError\n",
    "\n",
    "import plotly.graph_objects as go\n",
    "from plotly.subplots import make_subplots\n",
    "\n",
    "# KMR imports\n",
    "from kmr.models.TerminatorModel import TerminatorModel\n",
    "\n",
    "print(\"✅ All imports successful!\")\n",
    "print(f\"TensorFlow version: {tf.__version__}\")\n",
    "print(f\"Keras version: {keras.__version__}\")\n"
   ]
  },
  {
   "cell_type": "markdown",
   "id": "b8433bdf",
   "metadata": {},
   "source": [
    "## 2. Generate Synthetic Data\n",
    "\n",
    "We'll create a synthetic dataset with:\n",
    "- Input features (primary features)\n",
    "- Context features (additional contextual information)\n",
    "- A continuous target that depends on both inputs\n"
   ]
  },
  {
   "cell_type": "code",
   "execution_count": 2,
   "id": "08c61113",
   "metadata": {},
   "outputs": [
    {
     "name": "stdout",
     "output_type": "stream",
     "text": [
      "📦 Generating synthetic data...\n",
      "Target range: [0.0000, 1.0000] (scaled for sigmoid output)\n",
      "✅ Data shapes:\n",
      "  Input features -> Train: (1400, 16), Val: (300, 16), Test: (300, 16)\n",
      "  Context features -> Train: (1400, 8), Val: (300, 8), Test: (300, 8)\n",
      "  Targets -> Train: (1400,), Val: (300,), Test: (300,)\n"
     ]
    }
   ],
   "source": [
    "print(\"📦 Generating synthetic data...\")\n",
    "\n",
    "# Reproducibility\n",
    "np.random.seed(42)\n",
    "\n",
    "num_samples = 2000\n",
    "input_dim = 16  # Primary features\n",
    "context_dim = 8  # Context features\n",
    "\n",
    "# Generate input features\n",
    "X_input = np.random.randn(num_samples, input_dim).astype(np.float32)\n",
    "X_input[:, 1] = 0.3 * X_input[:, 0] + 0.7 * X_input[:, 1]  # introduce correlation\n",
    "\n",
    "# Generate context features\n",
    "X_context = np.random.randn(num_samples, context_dim).astype(np.float32)\n",
    "X_context[:, 0] = 0.5 * X_input[:, 0] + 0.3 * np.random.randn(num_samples).astype(np.float32)\n",
    "\n",
    "# Create target that depends on both input and context\n",
    "input_weights = np.linspace(1.0, 0.3, input_dim)\n",
    "context_weights = np.linspace(0.8, 0.2, context_dim)\n",
    "\n",
    "y_raw = (\n",
    "    2.0 * np.sin(X_input[:, 0])\n",
    "    + 0.5 * X_input[:, 1] ** 2\n",
    "    - 1.2 * X_context[:, 0]\n",
    "    + (X_input @ input_weights) * 0.5\n",
    "    + (X_context @ context_weights) * 0.4\n",
    "    + 0.3 * (X_input[:, 2] * X_context[:, 1])  # interaction term\n",
    "    + 0.4 * np.random.randn(num_samples)\n",
    ")\n",
    "\n",
    "# Scale to [0, 1] range for sigmoid output (TerminatorModel uses sigmoid)\n",
    "y_min, y_max = y_raw.min(), y_raw.max()\n",
    "y = ((y_raw - y_min) / (y_max - y_min + 1e-8)).astype(np.float32)\n",
    "\n",
    "print(f\"Target range: [{y.min():.4f}, {y.max():.4f}] (scaled for sigmoid output)\")\n",
    "\n",
    "# Train/Val/Test split\n",
    "train_size = int(0.7 * num_samples)\n",
    "val_size = int(0.15 * num_samples)\n",
    "\n",
    "X_input_train = X_input[:train_size]\n",
    "X_context_train = X_context[:train_size]\n",
    "y_train = y[:train_size]\n",
    "\n",
    "X_input_val = X_input[train_size:train_size + val_size]\n",
    "X_context_val = X_context[train_size:train_size + val_size]\n",
    "y_val = y[train_size:train_size + val_size]\n",
    "\n",
    "X_input_test = X_input[train_size + val_size:]\n",
    "X_context_test = X_context[train_size + val_size:]\n",
    "y_test = y[train_size + val_size:]\n",
    "\n",
    "print(f\"✅ Data shapes:\")\n",
    "print(f\"  Input features -> Train: {X_input_train.shape}, Val: {X_input_val.shape}, Test: {X_input_test.shape}\")\n",
    "print(f\"  Context features -> Train: {X_context_train.shape}, Val: {X_context_val.shape}, Test: {X_context_test.shape}\")\n",
    "print(f\"  Targets -> Train: {y_train.shape}, Val: {y_val.shape}, Test: {y_test.shape}\")\n"
   ]
  },
  {
   "cell_type": "markdown",
   "id": "8f7567aa",
   "metadata": {},
   "source": [
    "## 3. Build TerminatorModel\n",
    "\n",
    "TerminatorModel stacks multiple SFNE blocks for hierarchical feature processing and uses context features to guide the processing.\n"
   ]
  },
  {
   "cell_type": "code",
   "execution_count": 3,
   "id": "e5ee7db0",
   "metadata": {},
   "outputs": [
    {
     "name": "stderr",
     "output_type": "stream",
     "text": [
      "\u001b[32m2025-10-30 17:21:48.347\u001b[0m | \u001b[34m\u001b[1mDEBUG   \u001b[0m | \u001b[36mkmr.layers._base_layer\u001b[0m:\u001b[36m_log_initialization\u001b[0m:\u001b[36m73\u001b[0m - \u001b[34m\u001b[1mInitialized SlowNetwork with parameters: {'name': 'slow_network', 'trainable': True, 'dtype': {'module': 'keras', 'class_name': 'DTypePolicy', 'config': {'name': 'float32'}, 'registered_name': None}, 'input_dim': 8, 'num_layers': 3, 'units': 128}\u001b[0m\n",
      "\u001b[32m2025-10-30 17:21:48.351\u001b[0m | \u001b[34m\u001b[1mDEBUG   \u001b[0m | \u001b[36mkmr.layers._base_layer\u001b[0m:\u001b[36m_log_initialization\u001b[0m:\u001b[36m73\u001b[0m - \u001b[34m\u001b[1mInitialized HyperZZWOperator with parameters: {'name': 'hyper_zzw_operator', 'trainable': True, 'dtype': {'module': 'keras', 'class_name': 'DTypePolicy', 'config': {'name': 'float32'}, 'registered_name': None}, 'input_dim': 16, 'context_dim': 8}\u001b[0m\n",
      "\u001b[32m2025-10-30 17:21:48.354\u001b[0m | \u001b[34m\u001b[1mDEBUG   \u001b[0m | \u001b[36mkmr.layers._base_layer\u001b[0m:\u001b[36m_log_initialization\u001b[0m:\u001b[36m73\u001b[0m - \u001b[34m\u001b[1mInitialized SlowNetwork with parameters: {'name': 'slow_network_1', 'trainable': True, 'dtype': {'module': 'keras', 'class_name': 'DTypePolicy', 'config': {'name': 'float32'}, 'registered_name': None}, 'input_dim': 16, 'num_layers': 3, 'units': 128}\u001b[0m\n",
      "\u001b[32m2025-10-30 17:21:48.356\u001b[0m | \u001b[34m\u001b[1mDEBUG   \u001b[0m | \u001b[36mkmr.layers._base_layer\u001b[0m:\u001b[36m_log_initialization\u001b[0m:\u001b[36m73\u001b[0m - \u001b[34m\u001b[1mInitialized HyperZZWOperator with parameters: {'name': 'hyper_zzw_operator_1', 'trainable': True, 'dtype': {'module': 'keras', 'class_name': 'DTypePolicy', 'config': {'name': 'float32'}, 'registered_name': None}, 'input_dim': 64, 'context_dim': None}\u001b[0m\n",
      "\u001b[32m2025-10-30 17:21:48.362\u001b[0m | \u001b[34m\u001b[1mDEBUG   \u001b[0m | \u001b[36mkmr.layers._base_layer\u001b[0m:\u001b[36m_log_initialization\u001b[0m:\u001b[36m73\u001b[0m - \u001b[34m\u001b[1mInitialized SlowNetwork with parameters: {'name': 'slow_network_2', 'trainable': True, 'dtype': {'module': 'keras', 'class_name': 'DTypePolicy', 'config': {'name': 'float32'}, 'registered_name': None}, 'input_dim': 16, 'num_layers': 3, 'units': 128}\u001b[0m\n",
      "\u001b[32m2025-10-30 17:21:48.364\u001b[0m | \u001b[34m\u001b[1mDEBUG   \u001b[0m | \u001b[36mkmr.layers._base_layer\u001b[0m:\u001b[36m_log_initialization\u001b[0m:\u001b[36m73\u001b[0m - \u001b[34m\u001b[1mInitialized HyperZZWOperator with parameters: {'name': 'hyper_zzw_operator_2', 'trainable': True, 'dtype': {'module': 'keras', 'class_name': 'DTypePolicy', 'config': {'name': 'float32'}, 'registered_name': None}, 'input_dim': 64, 'context_dim': None}\u001b[0m\n",
      "\u001b[32m2025-10-30 17:21:48.369\u001b[0m | \u001b[34m\u001b[1mDEBUG   \u001b[0m | \u001b[36mkmr.layers._base_layer\u001b[0m:\u001b[36m_log_initialization\u001b[0m:\u001b[36m73\u001b[0m - \u001b[34m\u001b[1mInitialized SlowNetwork with parameters: {'name': 'slow_network_3', 'trainable': True, 'dtype': {'module': 'keras', 'class_name': 'DTypePolicy', 'config': {'name': 'float32'}, 'registered_name': None}, 'input_dim': 16, 'num_layers': 3, 'units': 128}\u001b[0m\n",
      "\u001b[32m2025-10-30 17:21:48.371\u001b[0m | \u001b[34m\u001b[1mDEBUG   \u001b[0m | \u001b[36mkmr.layers._base_layer\u001b[0m:\u001b[36m_log_initialization\u001b[0m:\u001b[36m73\u001b[0m - \u001b[34m\u001b[1mInitialized HyperZZWOperator with parameters: {'name': 'hyper_zzw_operator_3', 'trainable': True, 'dtype': {'module': 'keras', 'class_name': 'DTypePolicy', 'config': {'name': 'float32'}, 'registered_name': None}, 'input_dim': 64, 'context_dim': None}\u001b[0m\n"
     ]
    },
    {
     "name": "stdout",
     "output_type": "stream",
     "text": [
      "✅ TerminatorModel created and compiled!\n",
      "Input dimension: 16\n",
      "Context dimension: 8\n",
      "Output dimension: 1\n",
      "Number of SFNE blocks: 3\n"
     ]
    }
   ],
   "source": [
    "# Create TerminatorModel\n",
    "model = TerminatorModel(\n",
    "    input_dim=input_dim,\n",
    "    context_dim=context_dim,\n",
    "    output_dim=1,\n",
    "    hidden_dim=64,\n",
    "    num_layers=2,\n",
    "    num_blocks=3,\n",
    "    slow_network_layers=3,\n",
    "    slow_network_units=128,\n",
    "    name='terminator_demo'\n",
    ")\n",
    "\n",
    "# Compile model\n",
    "model.compile(\n",
    "    optimizer=Adam(learning_rate=0.001),\n",
    "    loss=MeanSquaredError(),\n",
    "    metrics=[MeanAbsoluteError()],\n",
    ")\n",
    "\n",
    "print(\"✅ TerminatorModel created and compiled!\")\n",
    "print(f\"Input dimension: {model.input_dim}\")\n",
    "print(f\"Context dimension: {model.context_dim}\")\n",
    "print(f\"Output dimension: {model.output_dim}\")\n",
    "print(f\"Number of SFNE blocks: {model.num_blocks}\")\n"
   ]
  },
  {
   "cell_type": "markdown",
   "id": "8d862463",
   "metadata": {},
   "source": [
    "## 4. Train and Evaluate\n",
    "\n",
    "TerminatorModel expects inputs as a list: `[input_features, context_features]`.\n"
   ]
  },
  {
   "cell_type": "code",
   "execution_count": 4,
   "id": "b9d94c2d",
   "metadata": {},
   "outputs": [
    {
     "name": "stdout",
     "output_type": "stream",
     "text": [
      "🚀 Starting training...\n",
      "Epoch 1/30\n"
     ]
    },
    {
     "name": "stderr",
     "output_type": "stream",
     "text": [
      "\u001b[32m2025-10-30 17:21:48.479\u001b[0m | \u001b[34m\u001b[1mDEBUG   \u001b[0m | \u001b[36mkmr.models.TerminatorModel\u001b[0m:\u001b[36mcall\u001b[0m:\u001b[36m205\u001b[0m - \u001b[34m\u001b[1mTerminatorModel input shape: (None, 16), context shape: (None, 8)\u001b[0m\n",
      "\u001b[32m2025-10-30 17:21:48.491\u001b[0m | \u001b[34m\u001b[1mDEBUG   \u001b[0m | \u001b[36mkmr.models.TerminatorModel\u001b[0m:\u001b[36mcall\u001b[0m:\u001b[36m211\u001b[0m - \u001b[34m\u001b[1mTerminatorModel input_layer output shape: (None, 16)\u001b[0m\n",
      "\u001b[32m2025-10-30 17:21:48.494\u001b[0m | \u001b[34m\u001b[1mDEBUG   \u001b[0m | \u001b[36mkmr.layers.SlowNetwork\u001b[0m:\u001b[36mbuild\u001b[0m:\u001b[36m106\u001b[0m - \u001b[34m\u001b[1mSlowNetwork built with input_dim=8, num_layers=3, units=128\u001b[0m\n",
      "\u001b[32m2025-10-30 17:21:48.495\u001b[0m | \u001b[34m\u001b[1mDEBUG   \u001b[0m | \u001b[36mkmr.layers.SlowNetwork\u001b[0m:\u001b[36mcall\u001b[0m:\u001b[36m122\u001b[0m - \u001b[34m\u001b[1mSlowNetwork input shape: (None, 8)\u001b[0m\n",
      "\u001b[32m2025-10-30 17:21:48.504\u001b[0m | \u001b[34m\u001b[1mDEBUG   \u001b[0m | \u001b[36mkmr.layers.SlowNetwork\u001b[0m:\u001b[36mcall\u001b[0m:\u001b[36m126\u001b[0m - \u001b[34m\u001b[1mSlowNetwork layer 0 output shape: (None, 128)\u001b[0m\n",
      "\u001b[32m2025-10-30 17:21:48.513\u001b[0m | \u001b[34m\u001b[1mDEBUG   \u001b[0m | \u001b[36mkmr.layers.SlowNetwork\u001b[0m:\u001b[36mcall\u001b[0m:\u001b[36m126\u001b[0m - \u001b[34m\u001b[1mSlowNetwork layer 1 output shape: (None, 128)\u001b[0m\n",
      "\u001b[32m2025-10-30 17:21:48.521\u001b[0m | \u001b[34m\u001b[1mDEBUG   \u001b[0m | \u001b[36mkmr.layers.SlowNetwork\u001b[0m:\u001b[36mcall\u001b[0m:\u001b[36m126\u001b[0m - \u001b[34m\u001b[1mSlowNetwork layer 2 output shape: (None, 128)\u001b[0m\n",
      "\u001b[32m2025-10-30 17:21:48.528\u001b[0m | \u001b[34m\u001b[1mDEBUG   \u001b[0m | \u001b[36mkmr.layers.SlowNetwork\u001b[0m:\u001b[36mcall\u001b[0m:\u001b[36m129\u001b[0m - \u001b[34m\u001b[1mSlowNetwork output shape: (None, 8)\u001b[0m\n",
      "\u001b[32m2025-10-30 17:21:48.529\u001b[0m | \u001b[34m\u001b[1mDEBUG   \u001b[0m | \u001b[36mkmr.models.TerminatorModel\u001b[0m:\u001b[36mcall\u001b[0m:\u001b[36m215\u001b[0m - \u001b[34m\u001b[1mTerminatorModel hyper_kernels shape: (None, 8)\u001b[0m\n",
      "\u001b[32m2025-10-30 17:21:48.530\u001b[0m | \u001b[34m\u001b[1mDEBUG   \u001b[0m | \u001b[36mkmr.layers.HyperZZWOperator\u001b[0m:\u001b[36mbuild\u001b[0m:\u001b[36m112\u001b[0m - \u001b[34m\u001b[1mHyperZZWOperator built with input_dim=16, context_dim=8\u001b[0m\n",
      "\u001b[32m2025-10-30 17:21:48.531\u001b[0m | \u001b[34m\u001b[1mDEBUG   \u001b[0m | \u001b[36mkmr.layers.HyperZZWOperator\u001b[0m:\u001b[36mcall\u001b[0m:\u001b[36m132\u001b[0m - \u001b[34m\u001b[1mHyperZZWOperator input_tensor shape: (None, 16)\u001b[0m\n",
      "\u001b[32m2025-10-30 17:21:48.531\u001b[0m | \u001b[34m\u001b[1mDEBUG   \u001b[0m | \u001b[36mkmr.layers.HyperZZWOperator\u001b[0m:\u001b[36mcall\u001b[0m:\u001b[36m133\u001b[0m - \u001b[34m\u001b[1mHyperZZWOperator context_tensor shape: (None, 8)\u001b[0m\n",
      "\u001b[32m2025-10-30 17:21:48.540\u001b[0m | \u001b[34m\u001b[1mDEBUG   \u001b[0m | \u001b[36mkmr.layers.HyperZZWOperator\u001b[0m:\u001b[36mcall\u001b[0m:\u001b[36m153\u001b[0m - \u001b[34m\u001b[1mHyperZZWOperator output shape: (None, 16)\u001b[0m\n",
      "\u001b[32m2025-10-30 17:21:48.540\u001b[0m | \u001b[34m\u001b[1mDEBUG   \u001b[0m | \u001b[36mkmr.models.TerminatorModel\u001b[0m:\u001b[36mcall\u001b[0m:\u001b[36m219\u001b[0m - \u001b[34m\u001b[1mTerminatorModel context_weights shape: (None, 16)\u001b[0m\n",
      "\u001b[32m2025-10-30 17:21:48.550\u001b[0m | \u001b[34m\u001b[1mDEBUG   \u001b[0m | \u001b[36mkmr.models.SFNEBlock\u001b[0m:\u001b[36mcall\u001b[0m:\u001b[36m176\u001b[0m - \u001b[34m\u001b[1mSFNEBlock input shape: (None, 16)\u001b[0m\n",
      "\u001b[32m2025-10-30 17:21:48.568\u001b[0m | \u001b[34m\u001b[1mDEBUG   \u001b[0m | \u001b[36mkmr.layers.SlowNetwork\u001b[0m:\u001b[36mbuild\u001b[0m:\u001b[36m106\u001b[0m - \u001b[34m\u001b[1mSlowNetwork built with input_dim=16, num_layers=3, units=128\u001b[0m\n",
      "\u001b[32m2025-10-30 17:21:48.568\u001b[0m | \u001b[34m\u001b[1mDEBUG   \u001b[0m | \u001b[36mkmr.layers.SlowNetwork\u001b[0m:\u001b[36mcall\u001b[0m:\u001b[36m122\u001b[0m - \u001b[34m\u001b[1mSlowNetwork input shape: (None, 64)\u001b[0m\n",
      "\u001b[32m2025-10-30 17:21:48.571\u001b[0m | \u001b[34m\u001b[1mDEBUG   \u001b[0m | \u001b[36mkmr.layers.SlowNetwork\u001b[0m:\u001b[36mcall\u001b[0m:\u001b[36m126\u001b[0m - \u001b[34m\u001b[1mSlowNetwork layer 0 output shape: (None, 128)\u001b[0m\n",
      "\u001b[32m2025-10-30 17:21:48.575\u001b[0m | \u001b[34m\u001b[1mDEBUG   \u001b[0m | \u001b[36mkmr.layers.SlowNetwork\u001b[0m:\u001b[36mcall\u001b[0m:\u001b[36m126\u001b[0m - \u001b[34m\u001b[1mSlowNetwork layer 1 output shape: (None, 128)\u001b[0m\n",
      "\u001b[32m2025-10-30 17:21:48.578\u001b[0m | \u001b[34m\u001b[1mDEBUG   \u001b[0m | \u001b[36mkmr.layers.SlowNetwork\u001b[0m:\u001b[36mcall\u001b[0m:\u001b[36m126\u001b[0m - \u001b[34m\u001b[1mSlowNetwork layer 2 output shape: (None, 128)\u001b[0m\n",
      "\u001b[32m2025-10-30 17:21:48.581\u001b[0m | \u001b[34m\u001b[1mDEBUG   \u001b[0m | \u001b[36mkmr.layers.SlowNetwork\u001b[0m:\u001b[36mcall\u001b[0m:\u001b[36m129\u001b[0m - \u001b[34m\u001b[1mSlowNetwork output shape: (None, 16)\u001b[0m\n",
      "\u001b[32m2025-10-30 17:21:48.581\u001b[0m | \u001b[34m\u001b[1mDEBUG   \u001b[0m | \u001b[36mkmr.models.SFNEBlock\u001b[0m:\u001b[36mcall\u001b[0m:\u001b[36m188\u001b[0m - \u001b[34m\u001b[1mSFNEBlock hyper_kernels shape: (None, 16)\u001b[0m\n",
      "\u001b[32m2025-10-30 17:21:48.582\u001b[0m | \u001b[34m\u001b[1mDEBUG   \u001b[0m | \u001b[36mkmr.layers.HyperZZWOperator\u001b[0m:\u001b[36mbuild\u001b[0m:\u001b[36m112\u001b[0m - \u001b[34m\u001b[1mHyperZZWOperator built with input_dim=64, context_dim=16\u001b[0m\n",
      "\u001b[32m2025-10-30 17:21:48.582\u001b[0m | \u001b[34m\u001b[1mDEBUG   \u001b[0m | \u001b[36mkmr.layers.HyperZZWOperator\u001b[0m:\u001b[36mcall\u001b[0m:\u001b[36m132\u001b[0m - \u001b[34m\u001b[1mHyperZZWOperator input_tensor shape: (None, 64)\u001b[0m\n",
      "\u001b[32m2025-10-30 17:21:48.582\u001b[0m | \u001b[34m\u001b[1mDEBUG   \u001b[0m | \u001b[36mkmr.layers.HyperZZWOperator\u001b[0m:\u001b[36mcall\u001b[0m:\u001b[36m133\u001b[0m - \u001b[34m\u001b[1mHyperZZWOperator context_tensor shape: (None, 16)\u001b[0m\n",
      "\u001b[32m2025-10-30 17:21:48.586\u001b[0m | \u001b[34m\u001b[1mDEBUG   \u001b[0m | \u001b[36mkmr.layers.HyperZZWOperator\u001b[0m:\u001b[36mcall\u001b[0m:\u001b[36m153\u001b[0m - \u001b[34m\u001b[1mHyperZZWOperator output shape: (None, 64)\u001b[0m\n",
      "\u001b[32m2025-10-30 17:21:48.586\u001b[0m | \u001b[34m\u001b[1mDEBUG   \u001b[0m | \u001b[36mkmr.models.SFNEBlock\u001b[0m:\u001b[36mcall\u001b[0m:\u001b[36m192\u001b[0m - \u001b[34m\u001b[1mSFNEBlock context_weights shape: (None, 64)\u001b[0m\n",
      "\u001b[32m2025-10-30 17:21:48.586\u001b[0m | \u001b[34m\u001b[1mDEBUG   \u001b[0m | \u001b[36mkmr.models.SFNEBlock\u001b[0m:\u001b[36mcall\u001b[0m:\u001b[36m196\u001b[0m - \u001b[34m\u001b[1mSFNEBlock context_weights_expanded shape: (None, 64, 1)\u001b[0m\n",
      "\u001b[32m2025-10-30 17:21:48.591\u001b[0m | \u001b[34m\u001b[1mDEBUG   \u001b[0m | \u001b[36mkmr.models.SFNEBlock\u001b[0m:\u001b[36mcall\u001b[0m:\u001b[36m202\u001b[0m - \u001b[34m\u001b[1mSFNEBlock global_output shape: (None, 64, 16)\u001b[0m\n",
      "\u001b[32m2025-10-30 17:21:48.595\u001b[0m | \u001b[34m\u001b[1mDEBUG   \u001b[0m | \u001b[36mkmr.models.SFNEBlock\u001b[0m:\u001b[36mcall\u001b[0m:\u001b[36m206\u001b[0m - \u001b[34m\u001b[1mSFNEBlock local_output shape: (None, 64, 16)\u001b[0m\n",
      "\u001b[32m2025-10-30 17:21:48.596\u001b[0m | \u001b[34m\u001b[1mDEBUG   \u001b[0m | \u001b[36mkmr.models.SFNEBlock\u001b[0m:\u001b[36mcall\u001b[0m:\u001b[36m210\u001b[0m - \u001b[34m\u001b[1mSFNEBlock combined_output shape: (None, 64, 32)\u001b[0m\n",
      "\u001b[32m2025-10-30 17:21:48.597\u001b[0m | \u001b[34m\u001b[1mDEBUG   \u001b[0m | \u001b[36mkmr.models.SFNEBlock\u001b[0m:\u001b[36mcall\u001b[0m:\u001b[36m217\u001b[0m - \u001b[34m\u001b[1mSFNEBlock combined_output_flat shape: (None, 2048)\u001b[0m\n",
      "\u001b[32m2025-10-30 17:21:48.600\u001b[0m | \u001b[34m\u001b[1mDEBUG   \u001b[0m | \u001b[36mkmr.models.SFNEBlock\u001b[0m:\u001b[36mcall\u001b[0m:\u001b[36m223\u001b[0m - \u001b[34m\u001b[1mSFNEBlock bottleneck_output shape: (None, 16)\u001b[0m\n",
      "\u001b[32m2025-10-30 17:21:48.603\u001b[0m | \u001b[34m\u001b[1mDEBUG   \u001b[0m | \u001b[36mkmr.models.SFNEBlock\u001b[0m:\u001b[36mcall\u001b[0m:\u001b[36m227\u001b[0m - \u001b[34m\u001b[1mSFNEBlock output_layer output shape: (None, 16)\u001b[0m\n",
      "\u001b[32m2025-10-30 17:21:48.603\u001b[0m | \u001b[34m\u001b[1mDEBUG   \u001b[0m | \u001b[36mkmr.models.SFNEBlock\u001b[0m:\u001b[36mcall\u001b[0m:\u001b[36m176\u001b[0m - \u001b[34m\u001b[1mSFNEBlock input shape: (None, 16)\u001b[0m\n",
      "\u001b[32m2025-10-30 17:21:48.611\u001b[0m | \u001b[34m\u001b[1mDEBUG   \u001b[0m | \u001b[36mkmr.layers.SlowNetwork\u001b[0m:\u001b[36mcall\u001b[0m:\u001b[36m122\u001b[0m - \u001b[34m\u001b[1mSlowNetwork input shape: (None, 64)\u001b[0m\n",
      "\u001b[32m2025-10-30 17:21:48.614\u001b[0m | \u001b[34m\u001b[1mDEBUG   \u001b[0m | \u001b[36mkmr.layers.SlowNetwork\u001b[0m:\u001b[36mcall\u001b[0m:\u001b[36m126\u001b[0m - \u001b[34m\u001b[1mSlowNetwork layer 0 output shape: (None, 128)\u001b[0m\n",
      "\u001b[32m2025-10-30 17:21:48.617\u001b[0m | \u001b[34m\u001b[1mDEBUG   \u001b[0m | \u001b[36mkmr.layers.SlowNetwork\u001b[0m:\u001b[36mcall\u001b[0m:\u001b[36m126\u001b[0m - \u001b[34m\u001b[1mSlowNetwork layer 1 output shape: (None, 128)\u001b[0m\n",
      "\u001b[32m2025-10-30 17:21:48.620\u001b[0m | \u001b[34m\u001b[1mDEBUG   \u001b[0m | \u001b[36mkmr.layers.SlowNetwork\u001b[0m:\u001b[36mcall\u001b[0m:\u001b[36m126\u001b[0m - \u001b[34m\u001b[1mSlowNetwork layer 2 output shape: (None, 128)\u001b[0m\n",
      "\u001b[32m2025-10-30 17:21:48.623\u001b[0m | \u001b[34m\u001b[1mDEBUG   \u001b[0m | \u001b[36mkmr.layers.SlowNetwork\u001b[0m:\u001b[36mcall\u001b[0m:\u001b[36m129\u001b[0m - \u001b[34m\u001b[1mSlowNetwork output shape: (None, 16)\u001b[0m\n",
      "\u001b[32m2025-10-30 17:21:48.623\u001b[0m | \u001b[34m\u001b[1mDEBUG   \u001b[0m | \u001b[36mkmr.models.SFNEBlock\u001b[0m:\u001b[36mcall\u001b[0m:\u001b[36m188\u001b[0m - \u001b[34m\u001b[1mSFNEBlock hyper_kernels shape: (None, 16)\u001b[0m\n",
      "\u001b[32m2025-10-30 17:21:48.623\u001b[0m | \u001b[34m\u001b[1mDEBUG   \u001b[0m | \u001b[36mkmr.layers.HyperZZWOperator\u001b[0m:\u001b[36mcall\u001b[0m:\u001b[36m132\u001b[0m - \u001b[34m\u001b[1mHyperZZWOperator input_tensor shape: (None, 64)\u001b[0m\n",
      "\u001b[32m2025-10-30 17:21:48.623\u001b[0m | \u001b[34m\u001b[1mDEBUG   \u001b[0m | \u001b[36mkmr.layers.HyperZZWOperator\u001b[0m:\u001b[36mcall\u001b[0m:\u001b[36m133\u001b[0m - \u001b[34m\u001b[1mHyperZZWOperator context_tensor shape: (None, 16)\u001b[0m\n",
      "\u001b[32m2025-10-30 17:21:48.627\u001b[0m | \u001b[34m\u001b[1mDEBUG   \u001b[0m | \u001b[36mkmr.layers.HyperZZWOperator\u001b[0m:\u001b[36mcall\u001b[0m:\u001b[36m153\u001b[0m - \u001b[34m\u001b[1mHyperZZWOperator output shape: (None, 64)\u001b[0m\n",
      "\u001b[32m2025-10-30 17:21:48.627\u001b[0m | \u001b[34m\u001b[1mDEBUG   \u001b[0m | \u001b[36mkmr.models.SFNEBlock\u001b[0m:\u001b[36mcall\u001b[0m:\u001b[36m192\u001b[0m - \u001b[34m\u001b[1mSFNEBlock context_weights shape: (None, 64)\u001b[0m\n",
      "\u001b[32m2025-10-30 17:21:48.628\u001b[0m | \u001b[34m\u001b[1mDEBUG   \u001b[0m | \u001b[36mkmr.models.SFNEBlock\u001b[0m:\u001b[36mcall\u001b[0m:\u001b[36m196\u001b[0m - \u001b[34m\u001b[1mSFNEBlock context_weights_expanded shape: (None, 64, 1)\u001b[0m\n",
      "\u001b[32m2025-10-30 17:21:48.632\u001b[0m | \u001b[34m\u001b[1mDEBUG   \u001b[0m | \u001b[36mkmr.models.SFNEBlock\u001b[0m:\u001b[36mcall\u001b[0m:\u001b[36m202\u001b[0m - \u001b[34m\u001b[1mSFNEBlock global_output shape: (None, 64, 16)\u001b[0m\n",
      "\u001b[32m2025-10-30 17:21:48.636\u001b[0m | \u001b[34m\u001b[1mDEBUG   \u001b[0m | \u001b[36mkmr.models.SFNEBlock\u001b[0m:\u001b[36mcall\u001b[0m:\u001b[36m206\u001b[0m - \u001b[34m\u001b[1mSFNEBlock local_output shape: (None, 64, 16)\u001b[0m\n",
      "\u001b[32m2025-10-30 17:21:48.637\u001b[0m | \u001b[34m\u001b[1mDEBUG   \u001b[0m | \u001b[36mkmr.models.SFNEBlock\u001b[0m:\u001b[36mcall\u001b[0m:\u001b[36m210\u001b[0m - \u001b[34m\u001b[1mSFNEBlock combined_output shape: (None, 64, 32)\u001b[0m\n",
      "\u001b[32m2025-10-30 17:21:48.637\u001b[0m | \u001b[34m\u001b[1mDEBUG   \u001b[0m | \u001b[36mkmr.models.SFNEBlock\u001b[0m:\u001b[36mcall\u001b[0m:\u001b[36m217\u001b[0m - \u001b[34m\u001b[1mSFNEBlock combined_output_flat shape: (None, 2048)\u001b[0m\n",
      "\u001b[32m2025-10-30 17:21:48.641\u001b[0m | \u001b[34m\u001b[1mDEBUG   \u001b[0m | \u001b[36mkmr.models.SFNEBlock\u001b[0m:\u001b[36mcall\u001b[0m:\u001b[36m223\u001b[0m - \u001b[34m\u001b[1mSFNEBlock bottleneck_output shape: (None, 16)\u001b[0m\n",
      "\u001b[32m2025-10-30 17:21:48.644\u001b[0m | \u001b[34m\u001b[1mDEBUG   \u001b[0m | \u001b[36mkmr.models.SFNEBlock\u001b[0m:\u001b[36mcall\u001b[0m:\u001b[36m227\u001b[0m - \u001b[34m\u001b[1mSFNEBlock output_layer output shape: (None, 16)\u001b[0m\n",
      "\u001b[32m2025-10-30 17:21:48.644\u001b[0m | \u001b[34m\u001b[1mDEBUG   \u001b[0m | \u001b[36mkmr.models.TerminatorModel\u001b[0m:\u001b[36mcall\u001b[0m:\u001b[36m227\u001b[0m - \u001b[34m\u001b[1mTerminatorModel SFNEBlock 0 output shape: (None, 16)\u001b[0m\n",
      "\u001b[32m2025-10-30 17:21:48.644\u001b[0m | \u001b[34m\u001b[1mDEBUG   \u001b[0m | \u001b[36mkmr.models.SFNEBlock\u001b[0m:\u001b[36mcall\u001b[0m:\u001b[36m176\u001b[0m - \u001b[34m\u001b[1mSFNEBlock input shape: (None, 16)\u001b[0m\n",
      "\u001b[32m2025-10-30 17:21:48.654\u001b[0m | \u001b[34m\u001b[1mDEBUG   \u001b[0m | \u001b[36mkmr.layers.SlowNetwork\u001b[0m:\u001b[36mbuild\u001b[0m:\u001b[36m106\u001b[0m - \u001b[34m\u001b[1mSlowNetwork built with input_dim=16, num_layers=3, units=128\u001b[0m\n",
      "\u001b[32m2025-10-30 17:21:48.654\u001b[0m | \u001b[34m\u001b[1mDEBUG   \u001b[0m | \u001b[36mkmr.layers.SlowNetwork\u001b[0m:\u001b[36mcall\u001b[0m:\u001b[36m122\u001b[0m - \u001b[34m\u001b[1mSlowNetwork input shape: (None, 64)\u001b[0m\n",
      "\u001b[32m2025-10-30 17:21:48.657\u001b[0m | \u001b[34m\u001b[1mDEBUG   \u001b[0m | \u001b[36mkmr.layers.SlowNetwork\u001b[0m:\u001b[36mcall\u001b[0m:\u001b[36m126\u001b[0m - \u001b[34m\u001b[1mSlowNetwork layer 0 output shape: (None, 128)\u001b[0m\n",
      "\u001b[32m2025-10-30 17:21:48.660\u001b[0m | \u001b[34m\u001b[1mDEBUG   \u001b[0m | \u001b[36mkmr.layers.SlowNetwork\u001b[0m:\u001b[36mcall\u001b[0m:\u001b[36m126\u001b[0m - \u001b[34m\u001b[1mSlowNetwork layer 1 output shape: (None, 128)\u001b[0m\n",
      "\u001b[32m2025-10-30 17:21:48.663\u001b[0m | \u001b[34m\u001b[1mDEBUG   \u001b[0m | \u001b[36mkmr.layers.SlowNetwork\u001b[0m:\u001b[36mcall\u001b[0m:\u001b[36m126\u001b[0m - \u001b[34m\u001b[1mSlowNetwork layer 2 output shape: (None, 128)\u001b[0m\n",
      "\u001b[32m2025-10-30 17:21:48.666\u001b[0m | \u001b[34m\u001b[1mDEBUG   \u001b[0m | \u001b[36mkmr.layers.SlowNetwork\u001b[0m:\u001b[36mcall\u001b[0m:\u001b[36m129\u001b[0m - \u001b[34m\u001b[1mSlowNetwork output shape: (None, 16)\u001b[0m\n",
      "\u001b[32m2025-10-30 17:21:48.666\u001b[0m | \u001b[34m\u001b[1mDEBUG   \u001b[0m | \u001b[36mkmr.models.SFNEBlock\u001b[0m:\u001b[36mcall\u001b[0m:\u001b[36m188\u001b[0m - \u001b[34m\u001b[1mSFNEBlock hyper_kernels shape: (None, 16)\u001b[0m\n",
      "\u001b[32m2025-10-30 17:21:48.667\u001b[0m | \u001b[34m\u001b[1mDEBUG   \u001b[0m | \u001b[36mkmr.layers.HyperZZWOperator\u001b[0m:\u001b[36mbuild\u001b[0m:\u001b[36m112\u001b[0m - \u001b[34m\u001b[1mHyperZZWOperator built with input_dim=64, context_dim=16\u001b[0m\n",
      "\u001b[32m2025-10-30 17:21:48.667\u001b[0m | \u001b[34m\u001b[1mDEBUG   \u001b[0m | \u001b[36mkmr.layers.HyperZZWOperator\u001b[0m:\u001b[36mcall\u001b[0m:\u001b[36m132\u001b[0m - \u001b[34m\u001b[1mHyperZZWOperator input_tensor shape: (None, 64)\u001b[0m\n",
      "\u001b[32m2025-10-30 17:21:48.667\u001b[0m | \u001b[34m\u001b[1mDEBUG   \u001b[0m | \u001b[36mkmr.layers.HyperZZWOperator\u001b[0m:\u001b[36mcall\u001b[0m:\u001b[36m133\u001b[0m - \u001b[34m\u001b[1mHyperZZWOperator context_tensor shape: (None, 16)\u001b[0m\n",
      "\u001b[32m2025-10-30 17:21:48.670\u001b[0m | \u001b[34m\u001b[1mDEBUG   \u001b[0m | \u001b[36mkmr.layers.HyperZZWOperator\u001b[0m:\u001b[36mcall\u001b[0m:\u001b[36m153\u001b[0m - \u001b[34m\u001b[1mHyperZZWOperator output shape: (None, 64)\u001b[0m\n",
      "\u001b[32m2025-10-30 17:21:48.671\u001b[0m | \u001b[34m\u001b[1mDEBUG   \u001b[0m | \u001b[36mkmr.models.SFNEBlock\u001b[0m:\u001b[36mcall\u001b[0m:\u001b[36m192\u001b[0m - \u001b[34m\u001b[1mSFNEBlock context_weights shape: (None, 64)\u001b[0m\n",
      "\u001b[32m2025-10-30 17:21:48.671\u001b[0m | \u001b[34m\u001b[1mDEBUG   \u001b[0m | \u001b[36mkmr.models.SFNEBlock\u001b[0m:\u001b[36mcall\u001b[0m:\u001b[36m196\u001b[0m - \u001b[34m\u001b[1mSFNEBlock context_weights_expanded shape: (None, 64, 1)\u001b[0m\n",
      "\u001b[32m2025-10-30 17:21:48.676\u001b[0m | \u001b[34m\u001b[1mDEBUG   \u001b[0m | \u001b[36mkmr.models.SFNEBlock\u001b[0m:\u001b[36mcall\u001b[0m:\u001b[36m202\u001b[0m - \u001b[34m\u001b[1mSFNEBlock global_output shape: (None, 64, 16)\u001b[0m\n",
      "\u001b[32m2025-10-30 17:21:48.680\u001b[0m | \u001b[34m\u001b[1mDEBUG   \u001b[0m | \u001b[36mkmr.models.SFNEBlock\u001b[0m:\u001b[36mcall\u001b[0m:\u001b[36m206\u001b[0m - \u001b[34m\u001b[1mSFNEBlock local_output shape: (None, 64, 16)\u001b[0m\n",
      "\u001b[32m2025-10-30 17:21:48.680\u001b[0m | \u001b[34m\u001b[1mDEBUG   \u001b[0m | \u001b[36mkmr.models.SFNEBlock\u001b[0m:\u001b[36mcall\u001b[0m:\u001b[36m210\u001b[0m - \u001b[34m\u001b[1mSFNEBlock combined_output shape: (None, 64, 32)\u001b[0m\n",
      "\u001b[32m2025-10-30 17:21:48.681\u001b[0m | \u001b[34m\u001b[1mDEBUG   \u001b[0m | \u001b[36mkmr.models.SFNEBlock\u001b[0m:\u001b[36mcall\u001b[0m:\u001b[36m217\u001b[0m - \u001b[34m\u001b[1mSFNEBlock combined_output_flat shape: (None, 2048)\u001b[0m\n",
      "\u001b[32m2025-10-30 17:21:48.684\u001b[0m | \u001b[34m\u001b[1mDEBUG   \u001b[0m | \u001b[36mkmr.models.SFNEBlock\u001b[0m:\u001b[36mcall\u001b[0m:\u001b[36m223\u001b[0m - \u001b[34m\u001b[1mSFNEBlock bottleneck_output shape: (None, 16)\u001b[0m\n",
      "\u001b[32m2025-10-30 17:21:48.687\u001b[0m | \u001b[34m\u001b[1mDEBUG   \u001b[0m | \u001b[36mkmr.models.SFNEBlock\u001b[0m:\u001b[36mcall\u001b[0m:\u001b[36m227\u001b[0m - \u001b[34m\u001b[1mSFNEBlock output_layer output shape: (None, 16)\u001b[0m\n",
      "\u001b[32m2025-10-30 17:21:48.687\u001b[0m | \u001b[34m\u001b[1mDEBUG   \u001b[0m | \u001b[36mkmr.models.SFNEBlock\u001b[0m:\u001b[36mcall\u001b[0m:\u001b[36m176\u001b[0m - \u001b[34m\u001b[1mSFNEBlock input shape: (None, 16)\u001b[0m\n",
      "\u001b[32m2025-10-30 17:21:48.696\u001b[0m | \u001b[34m\u001b[1mDEBUG   \u001b[0m | \u001b[36mkmr.layers.SlowNetwork\u001b[0m:\u001b[36mcall\u001b[0m:\u001b[36m122\u001b[0m - \u001b[34m\u001b[1mSlowNetwork input shape: (None, 64)\u001b[0m\n",
      "\u001b[32m2025-10-30 17:21:48.699\u001b[0m | \u001b[34m\u001b[1mDEBUG   \u001b[0m | \u001b[36mkmr.layers.SlowNetwork\u001b[0m:\u001b[36mcall\u001b[0m:\u001b[36m126\u001b[0m - \u001b[34m\u001b[1mSlowNetwork layer 0 output shape: (None, 128)\u001b[0m\n",
      "\u001b[32m2025-10-30 17:21:48.701\u001b[0m | \u001b[34m\u001b[1mDEBUG   \u001b[0m | \u001b[36mkmr.layers.SlowNetwork\u001b[0m:\u001b[36mcall\u001b[0m:\u001b[36m126\u001b[0m - \u001b[34m\u001b[1mSlowNetwork layer 1 output shape: (None, 128)\u001b[0m\n",
      "\u001b[32m2025-10-30 17:21:48.704\u001b[0m | \u001b[34m\u001b[1mDEBUG   \u001b[0m | \u001b[36mkmr.layers.SlowNetwork\u001b[0m:\u001b[36mcall\u001b[0m:\u001b[36m126\u001b[0m - \u001b[34m\u001b[1mSlowNetwork layer 2 output shape: (None, 128)\u001b[0m\n",
      "\u001b[32m2025-10-30 17:21:48.707\u001b[0m | \u001b[34m\u001b[1mDEBUG   \u001b[0m | \u001b[36mkmr.layers.SlowNetwork\u001b[0m:\u001b[36mcall\u001b[0m:\u001b[36m129\u001b[0m - \u001b[34m\u001b[1mSlowNetwork output shape: (None, 16)\u001b[0m\n",
      "\u001b[32m2025-10-30 17:21:48.707\u001b[0m | \u001b[34m\u001b[1mDEBUG   \u001b[0m | \u001b[36mkmr.models.SFNEBlock\u001b[0m:\u001b[36mcall\u001b[0m:\u001b[36m188\u001b[0m - \u001b[34m\u001b[1mSFNEBlock hyper_kernels shape: (None, 16)\u001b[0m\n",
      "\u001b[32m2025-10-30 17:21:48.707\u001b[0m | \u001b[34m\u001b[1mDEBUG   \u001b[0m | \u001b[36mkmr.layers.HyperZZWOperator\u001b[0m:\u001b[36mcall\u001b[0m:\u001b[36m132\u001b[0m - \u001b[34m\u001b[1mHyperZZWOperator input_tensor shape: (None, 64)\u001b[0m\n",
      "\u001b[32m2025-10-30 17:21:48.708\u001b[0m | \u001b[34m\u001b[1mDEBUG   \u001b[0m | \u001b[36mkmr.layers.HyperZZWOperator\u001b[0m:\u001b[36mcall\u001b[0m:\u001b[36m133\u001b[0m - \u001b[34m\u001b[1mHyperZZWOperator context_tensor shape: (None, 16)\u001b[0m\n",
      "\u001b[32m2025-10-30 17:21:48.711\u001b[0m | \u001b[34m\u001b[1mDEBUG   \u001b[0m | \u001b[36mkmr.layers.HyperZZWOperator\u001b[0m:\u001b[36mcall\u001b[0m:\u001b[36m153\u001b[0m - \u001b[34m\u001b[1mHyperZZWOperator output shape: (None, 64)\u001b[0m\n",
      "\u001b[32m2025-10-30 17:21:48.711\u001b[0m | \u001b[34m\u001b[1mDEBUG   \u001b[0m | \u001b[36mkmr.models.SFNEBlock\u001b[0m:\u001b[36mcall\u001b[0m:\u001b[36m192\u001b[0m - \u001b[34m\u001b[1mSFNEBlock context_weights shape: (None, 64)\u001b[0m\n",
      "\u001b[32m2025-10-30 17:21:48.712\u001b[0m | \u001b[34m\u001b[1mDEBUG   \u001b[0m | \u001b[36mkmr.models.SFNEBlock\u001b[0m:\u001b[36mcall\u001b[0m:\u001b[36m196\u001b[0m - \u001b[34m\u001b[1mSFNEBlock context_weights_expanded shape: (None, 64, 1)\u001b[0m\n",
      "\u001b[32m2025-10-30 17:21:48.716\u001b[0m | \u001b[34m\u001b[1mDEBUG   \u001b[0m | \u001b[36mkmr.models.SFNEBlock\u001b[0m:\u001b[36mcall\u001b[0m:\u001b[36m202\u001b[0m - \u001b[34m\u001b[1mSFNEBlock global_output shape: (None, 64, 16)\u001b[0m\n",
      "\u001b[32m2025-10-30 17:21:48.721\u001b[0m | \u001b[34m\u001b[1mDEBUG   \u001b[0m | \u001b[36mkmr.models.SFNEBlock\u001b[0m:\u001b[36mcall\u001b[0m:\u001b[36m206\u001b[0m - \u001b[34m\u001b[1mSFNEBlock local_output shape: (None, 64, 16)\u001b[0m\n",
      "\u001b[32m2025-10-30 17:21:48.722\u001b[0m | \u001b[34m\u001b[1mDEBUG   \u001b[0m | \u001b[36mkmr.models.SFNEBlock\u001b[0m:\u001b[36mcall\u001b[0m:\u001b[36m210\u001b[0m - \u001b[34m\u001b[1mSFNEBlock combined_output shape: (None, 64, 32)\u001b[0m\n",
      "\u001b[32m2025-10-30 17:21:48.723\u001b[0m | \u001b[34m\u001b[1mDEBUG   \u001b[0m | \u001b[36mkmr.models.SFNEBlock\u001b[0m:\u001b[36mcall\u001b[0m:\u001b[36m217\u001b[0m - \u001b[34m\u001b[1mSFNEBlock combined_output_flat shape: (None, 2048)\u001b[0m\n",
      "\u001b[32m2025-10-30 17:21:48.727\u001b[0m | \u001b[34m\u001b[1mDEBUG   \u001b[0m | \u001b[36mkmr.models.SFNEBlock\u001b[0m:\u001b[36mcall\u001b[0m:\u001b[36m223\u001b[0m - \u001b[34m\u001b[1mSFNEBlock bottleneck_output shape: (None, 16)\u001b[0m\n",
      "\u001b[32m2025-10-30 17:21:48.731\u001b[0m | \u001b[34m\u001b[1mDEBUG   \u001b[0m | \u001b[36mkmr.models.SFNEBlock\u001b[0m:\u001b[36mcall\u001b[0m:\u001b[36m227\u001b[0m - \u001b[34m\u001b[1mSFNEBlock output_layer output shape: (None, 16)\u001b[0m\n",
      "\u001b[32m2025-10-30 17:21:48.731\u001b[0m | \u001b[34m\u001b[1mDEBUG   \u001b[0m | \u001b[36mkmr.models.TerminatorModel\u001b[0m:\u001b[36mcall\u001b[0m:\u001b[36m227\u001b[0m - \u001b[34m\u001b[1mTerminatorModel SFNEBlock 1 output shape: (None, 16)\u001b[0m\n",
      "\u001b[32m2025-10-30 17:21:48.732\u001b[0m | \u001b[34m\u001b[1mDEBUG   \u001b[0m | \u001b[36mkmr.models.SFNEBlock\u001b[0m:\u001b[36mcall\u001b[0m:\u001b[36m176\u001b[0m - \u001b[34m\u001b[1mSFNEBlock input shape: (None, 16)\u001b[0m\n",
      "\u001b[32m2025-10-30 17:21:48.742\u001b[0m | \u001b[34m\u001b[1mDEBUG   \u001b[0m | \u001b[36mkmr.layers.SlowNetwork\u001b[0m:\u001b[36mbuild\u001b[0m:\u001b[36m106\u001b[0m - \u001b[34m\u001b[1mSlowNetwork built with input_dim=16, num_layers=3, units=128\u001b[0m\n",
      "\u001b[32m2025-10-30 17:21:48.742\u001b[0m | \u001b[34m\u001b[1mDEBUG   \u001b[0m | \u001b[36mkmr.layers.SlowNetwork\u001b[0m:\u001b[36mcall\u001b[0m:\u001b[36m122\u001b[0m - \u001b[34m\u001b[1mSlowNetwork input shape: (None, 64)\u001b[0m\n",
      "\u001b[32m2025-10-30 17:21:48.746\u001b[0m | \u001b[34m\u001b[1mDEBUG   \u001b[0m | \u001b[36mkmr.layers.SlowNetwork\u001b[0m:\u001b[36mcall\u001b[0m:\u001b[36m126\u001b[0m - \u001b[34m\u001b[1mSlowNetwork layer 0 output shape: (None, 128)\u001b[0m\n",
      "\u001b[32m2025-10-30 17:21:48.749\u001b[0m | \u001b[34m\u001b[1mDEBUG   \u001b[0m | \u001b[36mkmr.layers.SlowNetwork\u001b[0m:\u001b[36mcall\u001b[0m:\u001b[36m126\u001b[0m - \u001b[34m\u001b[1mSlowNetwork layer 1 output shape: (None, 128)\u001b[0m\n",
      "\u001b[32m2025-10-30 17:21:48.752\u001b[0m | \u001b[34m\u001b[1mDEBUG   \u001b[0m | \u001b[36mkmr.layers.SlowNetwork\u001b[0m:\u001b[36mcall\u001b[0m:\u001b[36m126\u001b[0m - \u001b[34m\u001b[1mSlowNetwork layer 2 output shape: (None, 128)\u001b[0m\n",
      "\u001b[32m2025-10-30 17:21:48.755\u001b[0m | \u001b[34m\u001b[1mDEBUG   \u001b[0m | \u001b[36mkmr.layers.SlowNetwork\u001b[0m:\u001b[36mcall\u001b[0m:\u001b[36m129\u001b[0m - \u001b[34m\u001b[1mSlowNetwork output shape: (None, 16)\u001b[0m\n",
      "\u001b[32m2025-10-30 17:21:48.755\u001b[0m | \u001b[34m\u001b[1mDEBUG   \u001b[0m | \u001b[36mkmr.models.SFNEBlock\u001b[0m:\u001b[36mcall\u001b[0m:\u001b[36m188\u001b[0m - \u001b[34m\u001b[1mSFNEBlock hyper_kernels shape: (None, 16)\u001b[0m\n",
      "\u001b[32m2025-10-30 17:21:48.755\u001b[0m | \u001b[34m\u001b[1mDEBUG   \u001b[0m | \u001b[36mkmr.layers.HyperZZWOperator\u001b[0m:\u001b[36mbuild\u001b[0m:\u001b[36m112\u001b[0m - \u001b[34m\u001b[1mHyperZZWOperator built with input_dim=64, context_dim=16\u001b[0m\n",
      "\u001b[32m2025-10-30 17:21:48.756\u001b[0m | \u001b[34m\u001b[1mDEBUG   \u001b[0m | \u001b[36mkmr.layers.HyperZZWOperator\u001b[0m:\u001b[36mcall\u001b[0m:\u001b[36m132\u001b[0m - \u001b[34m\u001b[1mHyperZZWOperator input_tensor shape: (None, 64)\u001b[0m\n",
      "\u001b[32m2025-10-30 17:21:48.756\u001b[0m | \u001b[34m\u001b[1mDEBUG   \u001b[0m | \u001b[36mkmr.layers.HyperZZWOperator\u001b[0m:\u001b[36mcall\u001b[0m:\u001b[36m133\u001b[0m - \u001b[34m\u001b[1mHyperZZWOperator context_tensor shape: (None, 16)\u001b[0m\n",
      "\u001b[32m2025-10-30 17:21:48.759\u001b[0m | \u001b[34m\u001b[1mDEBUG   \u001b[0m | \u001b[36mkmr.layers.HyperZZWOperator\u001b[0m:\u001b[36mcall\u001b[0m:\u001b[36m153\u001b[0m - \u001b[34m\u001b[1mHyperZZWOperator output shape: (None, 64)\u001b[0m\n",
      "\u001b[32m2025-10-30 17:21:48.760\u001b[0m | \u001b[34m\u001b[1mDEBUG   \u001b[0m | \u001b[36mkmr.models.SFNEBlock\u001b[0m:\u001b[36mcall\u001b[0m:\u001b[36m192\u001b[0m - \u001b[34m\u001b[1mSFNEBlock context_weights shape: (None, 64)\u001b[0m\n",
      "\u001b[32m2025-10-30 17:21:48.760\u001b[0m | \u001b[34m\u001b[1mDEBUG   \u001b[0m | \u001b[36mkmr.models.SFNEBlock\u001b[0m:\u001b[36mcall\u001b[0m:\u001b[36m196\u001b[0m - \u001b[34m\u001b[1mSFNEBlock context_weights_expanded shape: (None, 64, 1)\u001b[0m\n",
      "\u001b[32m2025-10-30 17:21:48.765\u001b[0m | \u001b[34m\u001b[1mDEBUG   \u001b[0m | \u001b[36mkmr.models.SFNEBlock\u001b[0m:\u001b[36mcall\u001b[0m:\u001b[36m202\u001b[0m - \u001b[34m\u001b[1mSFNEBlock global_output shape: (None, 64, 16)\u001b[0m\n",
      "\u001b[32m2025-10-30 17:21:48.769\u001b[0m | \u001b[34m\u001b[1mDEBUG   \u001b[0m | \u001b[36mkmr.models.SFNEBlock\u001b[0m:\u001b[36mcall\u001b[0m:\u001b[36m206\u001b[0m - \u001b[34m\u001b[1mSFNEBlock local_output shape: (None, 64, 16)\u001b[0m\n",
      "\u001b[32m2025-10-30 17:21:48.770\u001b[0m | \u001b[34m\u001b[1mDEBUG   \u001b[0m | \u001b[36mkmr.models.SFNEBlock\u001b[0m:\u001b[36mcall\u001b[0m:\u001b[36m210\u001b[0m - \u001b[34m\u001b[1mSFNEBlock combined_output shape: (None, 64, 32)\u001b[0m\n",
      "\u001b[32m2025-10-30 17:21:48.770\u001b[0m | \u001b[34m\u001b[1mDEBUG   \u001b[0m | \u001b[36mkmr.models.SFNEBlock\u001b[0m:\u001b[36mcall\u001b[0m:\u001b[36m217\u001b[0m - \u001b[34m\u001b[1mSFNEBlock combined_output_flat shape: (None, 2048)\u001b[0m\n",
      "\u001b[32m2025-10-30 17:21:48.774\u001b[0m | \u001b[34m\u001b[1mDEBUG   \u001b[0m | \u001b[36mkmr.models.SFNEBlock\u001b[0m:\u001b[36mcall\u001b[0m:\u001b[36m223\u001b[0m - \u001b[34m\u001b[1mSFNEBlock bottleneck_output shape: (None, 16)\u001b[0m\n",
      "\u001b[32m2025-10-30 17:21:48.776\u001b[0m | \u001b[34m\u001b[1mDEBUG   \u001b[0m | \u001b[36mkmr.models.SFNEBlock\u001b[0m:\u001b[36mcall\u001b[0m:\u001b[36m227\u001b[0m - \u001b[34m\u001b[1mSFNEBlock output_layer output shape: (None, 16)\u001b[0m\n",
      "\u001b[32m2025-10-30 17:21:48.777\u001b[0m | \u001b[34m\u001b[1mDEBUG   \u001b[0m | \u001b[36mkmr.models.SFNEBlock\u001b[0m:\u001b[36mcall\u001b[0m:\u001b[36m176\u001b[0m - \u001b[34m\u001b[1mSFNEBlock input shape: (None, 16)\u001b[0m\n",
      "\u001b[32m2025-10-30 17:21:48.785\u001b[0m | \u001b[34m\u001b[1mDEBUG   \u001b[0m | \u001b[36mkmr.layers.SlowNetwork\u001b[0m:\u001b[36mcall\u001b[0m:\u001b[36m122\u001b[0m - \u001b[34m\u001b[1mSlowNetwork input shape: (None, 64)\u001b[0m\n",
      "\u001b[32m2025-10-30 17:21:48.788\u001b[0m | \u001b[34m\u001b[1mDEBUG   \u001b[0m | \u001b[36mkmr.layers.SlowNetwork\u001b[0m:\u001b[36mcall\u001b[0m:\u001b[36m126\u001b[0m - \u001b[34m\u001b[1mSlowNetwork layer 0 output shape: (None, 128)\u001b[0m\n",
      "\u001b[32m2025-10-30 17:21:48.791\u001b[0m | \u001b[34m\u001b[1mDEBUG   \u001b[0m | \u001b[36mkmr.layers.SlowNetwork\u001b[0m:\u001b[36mcall\u001b[0m:\u001b[36m126\u001b[0m - \u001b[34m\u001b[1mSlowNetwork layer 1 output shape: (None, 128)\u001b[0m\n",
      "\u001b[32m2025-10-30 17:21:48.794\u001b[0m | \u001b[34m\u001b[1mDEBUG   \u001b[0m | \u001b[36mkmr.layers.SlowNetwork\u001b[0m:\u001b[36mcall\u001b[0m:\u001b[36m126\u001b[0m - \u001b[34m\u001b[1mSlowNetwork layer 2 output shape: (None, 128)\u001b[0m\n",
      "\u001b[32m2025-10-30 17:21:48.796\u001b[0m | \u001b[34m\u001b[1mDEBUG   \u001b[0m | \u001b[36mkmr.layers.SlowNetwork\u001b[0m:\u001b[36mcall\u001b[0m:\u001b[36m129\u001b[0m - \u001b[34m\u001b[1mSlowNetwork output shape: (None, 16)\u001b[0m\n",
      "\u001b[32m2025-10-30 17:21:48.797\u001b[0m | \u001b[34m\u001b[1mDEBUG   \u001b[0m | \u001b[36mkmr.models.SFNEBlock\u001b[0m:\u001b[36mcall\u001b[0m:\u001b[36m188\u001b[0m - \u001b[34m\u001b[1mSFNEBlock hyper_kernels shape: (None, 16)\u001b[0m\n",
      "\u001b[32m2025-10-30 17:21:48.797\u001b[0m | \u001b[34m\u001b[1mDEBUG   \u001b[0m | \u001b[36mkmr.layers.HyperZZWOperator\u001b[0m:\u001b[36mcall\u001b[0m:\u001b[36m132\u001b[0m - \u001b[34m\u001b[1mHyperZZWOperator input_tensor shape: (None, 64)\u001b[0m\n",
      "\u001b[32m2025-10-30 17:21:48.797\u001b[0m | \u001b[34m\u001b[1mDEBUG   \u001b[0m | \u001b[36mkmr.layers.HyperZZWOperator\u001b[0m:\u001b[36mcall\u001b[0m:\u001b[36m133\u001b[0m - \u001b[34m\u001b[1mHyperZZWOperator context_tensor shape: (None, 16)\u001b[0m\n",
      "\u001b[32m2025-10-30 17:21:48.800\u001b[0m | \u001b[34m\u001b[1mDEBUG   \u001b[0m | \u001b[36mkmr.layers.HyperZZWOperator\u001b[0m:\u001b[36mcall\u001b[0m:\u001b[36m153\u001b[0m - \u001b[34m\u001b[1mHyperZZWOperator output shape: (None, 64)\u001b[0m\n",
      "\u001b[32m2025-10-30 17:21:48.801\u001b[0m | \u001b[34m\u001b[1mDEBUG   \u001b[0m | \u001b[36mkmr.models.SFNEBlock\u001b[0m:\u001b[36mcall\u001b[0m:\u001b[36m192\u001b[0m - \u001b[34m\u001b[1mSFNEBlock context_weights shape: (None, 64)\u001b[0m\n",
      "\u001b[32m2025-10-30 17:21:48.801\u001b[0m | \u001b[34m\u001b[1mDEBUG   \u001b[0m | \u001b[36mkmr.models.SFNEBlock\u001b[0m:\u001b[36mcall\u001b[0m:\u001b[36m196\u001b[0m - \u001b[34m\u001b[1mSFNEBlock context_weights_expanded shape: (None, 64, 1)\u001b[0m\n",
      "\u001b[32m2025-10-30 17:21:48.806\u001b[0m | \u001b[34m\u001b[1mDEBUG   \u001b[0m | \u001b[36mkmr.models.SFNEBlock\u001b[0m:\u001b[36mcall\u001b[0m:\u001b[36m202\u001b[0m - \u001b[34m\u001b[1mSFNEBlock global_output shape: (None, 64, 16)\u001b[0m\n",
      "\u001b[32m2025-10-30 17:21:48.810\u001b[0m | \u001b[34m\u001b[1mDEBUG   \u001b[0m | \u001b[36mkmr.models.SFNEBlock\u001b[0m:\u001b[36mcall\u001b[0m:\u001b[36m206\u001b[0m - \u001b[34m\u001b[1mSFNEBlock local_output shape: (None, 64, 16)\u001b[0m\n",
      "\u001b[32m2025-10-30 17:21:48.810\u001b[0m | \u001b[34m\u001b[1mDEBUG   \u001b[0m | \u001b[36mkmr.models.SFNEBlock\u001b[0m:\u001b[36mcall\u001b[0m:\u001b[36m210\u001b[0m - \u001b[34m\u001b[1mSFNEBlock combined_output shape: (None, 64, 32)\u001b[0m\n",
      "\u001b[32m2025-10-30 17:21:48.811\u001b[0m | \u001b[34m\u001b[1mDEBUG   \u001b[0m | \u001b[36mkmr.models.SFNEBlock\u001b[0m:\u001b[36mcall\u001b[0m:\u001b[36m217\u001b[0m - \u001b[34m\u001b[1mSFNEBlock combined_output_flat shape: (None, 2048)\u001b[0m\n",
      "\u001b[32m2025-10-30 17:21:48.814\u001b[0m | \u001b[34m\u001b[1mDEBUG   \u001b[0m | \u001b[36mkmr.models.SFNEBlock\u001b[0m:\u001b[36mcall\u001b[0m:\u001b[36m223\u001b[0m - \u001b[34m\u001b[1mSFNEBlock bottleneck_output shape: (None, 16)\u001b[0m\n",
      "\u001b[32m2025-10-30 17:21:48.817\u001b[0m | \u001b[34m\u001b[1mDEBUG   \u001b[0m | \u001b[36mkmr.models.SFNEBlock\u001b[0m:\u001b[36mcall\u001b[0m:\u001b[36m227\u001b[0m - \u001b[34m\u001b[1mSFNEBlock output_layer output shape: (None, 16)\u001b[0m\n",
      "\u001b[32m2025-10-30 17:21:48.817\u001b[0m | \u001b[34m\u001b[1mDEBUG   \u001b[0m | \u001b[36mkmr.models.TerminatorModel\u001b[0m:\u001b[36mcall\u001b[0m:\u001b[36m227\u001b[0m - \u001b[34m\u001b[1mTerminatorModel SFNEBlock 2 output shape: (None, 16)\u001b[0m\n",
      "\u001b[32m2025-10-30 17:21:48.820\u001b[0m | \u001b[34m\u001b[1mDEBUG   \u001b[0m | \u001b[36mkmr.models.TerminatorModel\u001b[0m:\u001b[36mcall\u001b[0m:\u001b[36m234\u001b[0m - \u001b[34m\u001b[1mTerminatorModel output_layer output shape: (None, 1)\u001b[0m\n",
      "\u001b[32m2025-10-30 17:21:48.847\u001b[0m | \u001b[34m\u001b[1mDEBUG   \u001b[0m | \u001b[36mkmr.models.TerminatorModel\u001b[0m:\u001b[36mcall\u001b[0m:\u001b[36m205\u001b[0m - \u001b[34m\u001b[1mTerminatorModel input shape: (None, 16), context shape: (None, 8)\u001b[0m\n",
      "\u001b[32m2025-10-30 17:21:48.850\u001b[0m | \u001b[34m\u001b[1mDEBUG   \u001b[0m | \u001b[36mkmr.models.TerminatorModel\u001b[0m:\u001b[36mcall\u001b[0m:\u001b[36m211\u001b[0m - \u001b[34m\u001b[1mTerminatorModel input_layer output shape: (None, 16)\u001b[0m\n",
      "\u001b[32m2025-10-30 17:21:48.850\u001b[0m | \u001b[34m\u001b[1mDEBUG   \u001b[0m | \u001b[36mkmr.layers.SlowNetwork\u001b[0m:\u001b[36mcall\u001b[0m:\u001b[36m122\u001b[0m - \u001b[34m\u001b[1mSlowNetwork input shape: (None, 8)\u001b[0m\n",
      "\u001b[32m2025-10-30 17:21:48.852\u001b[0m | \u001b[34m\u001b[1mDEBUG   \u001b[0m | \u001b[36mkmr.layers.SlowNetwork\u001b[0m:\u001b[36mcall\u001b[0m:\u001b[36m126\u001b[0m - \u001b[34m\u001b[1mSlowNetwork layer 0 output shape: (None, 128)\u001b[0m\n",
      "\u001b[32m2025-10-30 17:21:48.854\u001b[0m | \u001b[34m\u001b[1mDEBUG   \u001b[0m | \u001b[36mkmr.layers.SlowNetwork\u001b[0m:\u001b[36mcall\u001b[0m:\u001b[36m126\u001b[0m - \u001b[34m\u001b[1mSlowNetwork layer 1 output shape: (None, 128)\u001b[0m\n",
      "\u001b[32m2025-10-30 17:21:48.856\u001b[0m | \u001b[34m\u001b[1mDEBUG   \u001b[0m | \u001b[36mkmr.layers.SlowNetwork\u001b[0m:\u001b[36mcall\u001b[0m:\u001b[36m126\u001b[0m - \u001b[34m\u001b[1mSlowNetwork layer 2 output shape: (None, 128)\u001b[0m\n",
      "\u001b[32m2025-10-30 17:21:48.857\u001b[0m | \u001b[34m\u001b[1mDEBUG   \u001b[0m | \u001b[36mkmr.layers.SlowNetwork\u001b[0m:\u001b[36mcall\u001b[0m:\u001b[36m129\u001b[0m - \u001b[34m\u001b[1mSlowNetwork output shape: (None, 8)\u001b[0m\n",
      "\u001b[32m2025-10-30 17:21:48.857\u001b[0m | \u001b[34m\u001b[1mDEBUG   \u001b[0m | \u001b[36mkmr.models.TerminatorModel\u001b[0m:\u001b[36mcall\u001b[0m:\u001b[36m215\u001b[0m - \u001b[34m\u001b[1mTerminatorModel hyper_kernels shape: (None, 8)\u001b[0m\n",
      "\u001b[32m2025-10-30 17:21:48.857\u001b[0m | \u001b[34m\u001b[1mDEBUG   \u001b[0m | \u001b[36mkmr.layers.HyperZZWOperator\u001b[0m:\u001b[36mcall\u001b[0m:\u001b[36m132\u001b[0m - \u001b[34m\u001b[1mHyperZZWOperator input_tensor shape: (None, 16)\u001b[0m\n",
      "\u001b[32m2025-10-30 17:21:48.858\u001b[0m | \u001b[34m\u001b[1mDEBUG   \u001b[0m | \u001b[36mkmr.layers.HyperZZWOperator\u001b[0m:\u001b[36mcall\u001b[0m:\u001b[36m133\u001b[0m - \u001b[34m\u001b[1mHyperZZWOperator context_tensor shape: (None, 8)\u001b[0m\n",
      "\u001b[32m2025-10-30 17:21:48.859\u001b[0m | \u001b[34m\u001b[1mDEBUG   \u001b[0m | \u001b[36mkmr.layers.HyperZZWOperator\u001b[0m:\u001b[36mcall\u001b[0m:\u001b[36m153\u001b[0m - \u001b[34m\u001b[1mHyperZZWOperator output shape: (None, 16)\u001b[0m\n",
      "\u001b[32m2025-10-30 17:21:48.859\u001b[0m | \u001b[34m\u001b[1mDEBUG   \u001b[0m | \u001b[36mkmr.models.TerminatorModel\u001b[0m:\u001b[36mcall\u001b[0m:\u001b[36m219\u001b[0m - \u001b[34m\u001b[1mTerminatorModel context_weights shape: (None, 16)\u001b[0m\n",
      "\u001b[32m2025-10-30 17:21:48.861\u001b[0m | \u001b[34m\u001b[1mDEBUG   \u001b[0m | \u001b[36mkmr.models.SFNEBlock\u001b[0m:\u001b[36mcall\u001b[0m:\u001b[36m176\u001b[0m - \u001b[34m\u001b[1mSFNEBlock input shape: (None, 16)\u001b[0m\n",
      "\u001b[32m2025-10-30 17:21:48.866\u001b[0m | \u001b[34m\u001b[1mDEBUG   \u001b[0m | \u001b[36mkmr.layers.SlowNetwork\u001b[0m:\u001b[36mcall\u001b[0m:\u001b[36m122\u001b[0m - \u001b[34m\u001b[1mSlowNetwork input shape: (None, 64)\u001b[0m\n",
      "\u001b[32m2025-10-30 17:21:48.868\u001b[0m | \u001b[34m\u001b[1mDEBUG   \u001b[0m | \u001b[36mkmr.layers.SlowNetwork\u001b[0m:\u001b[36mcall\u001b[0m:\u001b[36m126\u001b[0m - \u001b[34m\u001b[1mSlowNetwork layer 0 output shape: (None, 128)\u001b[0m\n",
      "\u001b[32m2025-10-30 17:21:48.869\u001b[0m | \u001b[34m\u001b[1mDEBUG   \u001b[0m | \u001b[36mkmr.layers.SlowNetwork\u001b[0m:\u001b[36mcall\u001b[0m:\u001b[36m126\u001b[0m - \u001b[34m\u001b[1mSlowNetwork layer 1 output shape: (None, 128)\u001b[0m\n",
      "\u001b[32m2025-10-30 17:21:48.871\u001b[0m | \u001b[34m\u001b[1mDEBUG   \u001b[0m | \u001b[36mkmr.layers.SlowNetwork\u001b[0m:\u001b[36mcall\u001b[0m:\u001b[36m126\u001b[0m - \u001b[34m\u001b[1mSlowNetwork layer 2 output shape: (None, 128)\u001b[0m\n",
      "\u001b[32m2025-10-30 17:21:48.873\u001b[0m | \u001b[34m\u001b[1mDEBUG   \u001b[0m | \u001b[36mkmr.layers.SlowNetwork\u001b[0m:\u001b[36mcall\u001b[0m:\u001b[36m129\u001b[0m - \u001b[34m\u001b[1mSlowNetwork output shape: (None, 16)\u001b[0m\n",
      "\u001b[32m2025-10-30 17:21:48.873\u001b[0m | \u001b[34m\u001b[1mDEBUG   \u001b[0m | \u001b[36mkmr.models.SFNEBlock\u001b[0m:\u001b[36mcall\u001b[0m:\u001b[36m188\u001b[0m - \u001b[34m\u001b[1mSFNEBlock hyper_kernels shape: (None, 16)\u001b[0m\n",
      "\u001b[32m2025-10-30 17:21:48.873\u001b[0m | \u001b[34m\u001b[1mDEBUG   \u001b[0m | \u001b[36mkmr.layers.HyperZZWOperator\u001b[0m:\u001b[36mcall\u001b[0m:\u001b[36m132\u001b[0m - \u001b[34m\u001b[1mHyperZZWOperator input_tensor shape: (None, 64)\u001b[0m\n",
      "\u001b[32m2025-10-30 17:21:48.873\u001b[0m | \u001b[34m\u001b[1mDEBUG   \u001b[0m | \u001b[36mkmr.layers.HyperZZWOperator\u001b[0m:\u001b[36mcall\u001b[0m:\u001b[36m133\u001b[0m - \u001b[34m\u001b[1mHyperZZWOperator context_tensor shape: (None, 16)\u001b[0m\n",
      "\u001b[32m2025-10-30 17:21:48.875\u001b[0m | \u001b[34m\u001b[1mDEBUG   \u001b[0m | \u001b[36mkmr.layers.HyperZZWOperator\u001b[0m:\u001b[36mcall\u001b[0m:\u001b[36m153\u001b[0m - \u001b[34m\u001b[1mHyperZZWOperator output shape: (None, 64)\u001b[0m\n",
      "\u001b[32m2025-10-30 17:21:48.875\u001b[0m | \u001b[34m\u001b[1mDEBUG   \u001b[0m | \u001b[36mkmr.models.SFNEBlock\u001b[0m:\u001b[36mcall\u001b[0m:\u001b[36m192\u001b[0m - \u001b[34m\u001b[1mSFNEBlock context_weights shape: (None, 64)\u001b[0m\n",
      "\u001b[32m2025-10-30 17:21:48.875\u001b[0m | \u001b[34m\u001b[1mDEBUG   \u001b[0m | \u001b[36mkmr.models.SFNEBlock\u001b[0m:\u001b[36mcall\u001b[0m:\u001b[36m196\u001b[0m - \u001b[34m\u001b[1mSFNEBlock context_weights_expanded shape: (None, 64, 1)\u001b[0m\n",
      "\u001b[32m2025-10-30 17:21:48.879\u001b[0m | \u001b[34m\u001b[1mDEBUG   \u001b[0m | \u001b[36mkmr.models.SFNEBlock\u001b[0m:\u001b[36mcall\u001b[0m:\u001b[36m202\u001b[0m - \u001b[34m\u001b[1mSFNEBlock global_output shape: (None, 64, 16)\u001b[0m\n",
      "\u001b[32m2025-10-30 17:21:48.882\u001b[0m | \u001b[34m\u001b[1mDEBUG   \u001b[0m | \u001b[36mkmr.models.SFNEBlock\u001b[0m:\u001b[36mcall\u001b[0m:\u001b[36m206\u001b[0m - \u001b[34m\u001b[1mSFNEBlock local_output shape: (None, 64, 16)\u001b[0m\n",
      "\u001b[32m2025-10-30 17:21:48.883\u001b[0m | \u001b[34m\u001b[1mDEBUG   \u001b[0m | \u001b[36mkmr.models.SFNEBlock\u001b[0m:\u001b[36mcall\u001b[0m:\u001b[36m210\u001b[0m - \u001b[34m\u001b[1mSFNEBlock combined_output shape: (None, 64, 32)\u001b[0m\n",
      "\u001b[32m2025-10-30 17:21:48.883\u001b[0m | \u001b[34m\u001b[1mDEBUG   \u001b[0m | \u001b[36mkmr.models.SFNEBlock\u001b[0m:\u001b[36mcall\u001b[0m:\u001b[36m217\u001b[0m - \u001b[34m\u001b[1mSFNEBlock combined_output_flat shape: (None, 2048)\u001b[0m\n",
      "\u001b[32m2025-10-30 17:21:48.885\u001b[0m | \u001b[34m\u001b[1mDEBUG   \u001b[0m | \u001b[36mkmr.models.SFNEBlock\u001b[0m:\u001b[36mcall\u001b[0m:\u001b[36m223\u001b[0m - \u001b[34m\u001b[1mSFNEBlock bottleneck_output shape: (None, 16)\u001b[0m\n",
      "\u001b[32m2025-10-30 17:21:48.886\u001b[0m | \u001b[34m\u001b[1mDEBUG   \u001b[0m | \u001b[36mkmr.models.SFNEBlock\u001b[0m:\u001b[36mcall\u001b[0m:\u001b[36m227\u001b[0m - \u001b[34m\u001b[1mSFNEBlock output_layer output shape: (None, 16)\u001b[0m\n",
      "\u001b[32m2025-10-30 17:21:48.887\u001b[0m | \u001b[34m\u001b[1mDEBUG   \u001b[0m | \u001b[36mkmr.models.TerminatorModel\u001b[0m:\u001b[36mcall\u001b[0m:\u001b[36m227\u001b[0m - \u001b[34m\u001b[1mTerminatorModel SFNEBlock 0 output shape: (None, 16)\u001b[0m\n",
      "\u001b[32m2025-10-30 17:21:48.887\u001b[0m | \u001b[34m\u001b[1mDEBUG   \u001b[0m | \u001b[36mkmr.models.SFNEBlock\u001b[0m:\u001b[36mcall\u001b[0m:\u001b[36m176\u001b[0m - \u001b[34m\u001b[1mSFNEBlock input shape: (None, 16)\u001b[0m\n",
      "\u001b[32m2025-10-30 17:21:48.893\u001b[0m | \u001b[34m\u001b[1mDEBUG   \u001b[0m | \u001b[36mkmr.layers.SlowNetwork\u001b[0m:\u001b[36mcall\u001b[0m:\u001b[36m122\u001b[0m - \u001b[34m\u001b[1mSlowNetwork input shape: (None, 64)\u001b[0m\n",
      "\u001b[32m2025-10-30 17:21:48.894\u001b[0m | \u001b[34m\u001b[1mDEBUG   \u001b[0m | \u001b[36mkmr.layers.SlowNetwork\u001b[0m:\u001b[36mcall\u001b[0m:\u001b[36m126\u001b[0m - \u001b[34m\u001b[1mSlowNetwork layer 0 output shape: (None, 128)\u001b[0m\n",
      "\u001b[32m2025-10-30 17:21:48.896\u001b[0m | \u001b[34m\u001b[1mDEBUG   \u001b[0m | \u001b[36mkmr.layers.SlowNetwork\u001b[0m:\u001b[36mcall\u001b[0m:\u001b[36m126\u001b[0m - \u001b[34m\u001b[1mSlowNetwork layer 1 output shape: (None, 128)\u001b[0m\n",
      "\u001b[32m2025-10-30 17:21:48.898\u001b[0m | \u001b[34m\u001b[1mDEBUG   \u001b[0m | \u001b[36mkmr.layers.SlowNetwork\u001b[0m:\u001b[36mcall\u001b[0m:\u001b[36m126\u001b[0m - \u001b[34m\u001b[1mSlowNetwork layer 2 output shape: (None, 128)\u001b[0m\n",
      "\u001b[32m2025-10-30 17:21:48.900\u001b[0m | \u001b[34m\u001b[1mDEBUG   \u001b[0m | \u001b[36mkmr.layers.SlowNetwork\u001b[0m:\u001b[36mcall\u001b[0m:\u001b[36m129\u001b[0m - \u001b[34m\u001b[1mSlowNetwork output shape: (None, 16)\u001b[0m\n",
      "\u001b[32m2025-10-30 17:21:48.900\u001b[0m | \u001b[34m\u001b[1mDEBUG   \u001b[0m | \u001b[36mkmr.models.SFNEBlock\u001b[0m:\u001b[36mcall\u001b[0m:\u001b[36m188\u001b[0m - \u001b[34m\u001b[1mSFNEBlock hyper_kernels shape: (None, 16)\u001b[0m\n",
      "\u001b[32m2025-10-30 17:21:48.900\u001b[0m | \u001b[34m\u001b[1mDEBUG   \u001b[0m | \u001b[36mkmr.layers.HyperZZWOperator\u001b[0m:\u001b[36mcall\u001b[0m:\u001b[36m132\u001b[0m - \u001b[34m\u001b[1mHyperZZWOperator input_tensor shape: (None, 64)\u001b[0m\n",
      "\u001b[32m2025-10-30 17:21:48.900\u001b[0m | \u001b[34m\u001b[1mDEBUG   \u001b[0m | \u001b[36mkmr.layers.HyperZZWOperator\u001b[0m:\u001b[36mcall\u001b[0m:\u001b[36m133\u001b[0m - \u001b[34m\u001b[1mHyperZZWOperator context_tensor shape: (None, 16)\u001b[0m\n",
      "\u001b[32m2025-10-30 17:21:48.902\u001b[0m | \u001b[34m\u001b[1mDEBUG   \u001b[0m | \u001b[36mkmr.layers.HyperZZWOperator\u001b[0m:\u001b[36mcall\u001b[0m:\u001b[36m153\u001b[0m - \u001b[34m\u001b[1mHyperZZWOperator output shape: (None, 64)\u001b[0m\n",
      "\u001b[32m2025-10-30 17:21:48.902\u001b[0m | \u001b[34m\u001b[1mDEBUG   \u001b[0m | \u001b[36mkmr.models.SFNEBlock\u001b[0m:\u001b[36mcall\u001b[0m:\u001b[36m192\u001b[0m - \u001b[34m\u001b[1mSFNEBlock context_weights shape: (None, 64)\u001b[0m\n",
      "\u001b[32m2025-10-30 17:21:48.902\u001b[0m | \u001b[34m\u001b[1mDEBUG   \u001b[0m | \u001b[36mkmr.models.SFNEBlock\u001b[0m:\u001b[36mcall\u001b[0m:\u001b[36m196\u001b[0m - \u001b[34m\u001b[1mSFNEBlock context_weights_expanded shape: (None, 64, 1)\u001b[0m\n",
      "\u001b[32m2025-10-30 17:21:48.906\u001b[0m | \u001b[34m\u001b[1mDEBUG   \u001b[0m | \u001b[36mkmr.models.SFNEBlock\u001b[0m:\u001b[36mcall\u001b[0m:\u001b[36m202\u001b[0m - \u001b[34m\u001b[1mSFNEBlock global_output shape: (None, 64, 16)\u001b[0m\n",
      "\u001b[32m2025-10-30 17:21:48.909\u001b[0m | \u001b[34m\u001b[1mDEBUG   \u001b[0m | \u001b[36mkmr.models.SFNEBlock\u001b[0m:\u001b[36mcall\u001b[0m:\u001b[36m206\u001b[0m - \u001b[34m\u001b[1mSFNEBlock local_output shape: (None, 64, 16)\u001b[0m\n",
      "\u001b[32m2025-10-30 17:21:48.910\u001b[0m | \u001b[34m\u001b[1mDEBUG   \u001b[0m | \u001b[36mkmr.models.SFNEBlock\u001b[0m:\u001b[36mcall\u001b[0m:\u001b[36m210\u001b[0m - \u001b[34m\u001b[1mSFNEBlock combined_output shape: (None, 64, 32)\u001b[0m\n",
      "\u001b[32m2025-10-30 17:21:48.910\u001b[0m | \u001b[34m\u001b[1mDEBUG   \u001b[0m | \u001b[36mkmr.models.SFNEBlock\u001b[0m:\u001b[36mcall\u001b[0m:\u001b[36m217\u001b[0m - \u001b[34m\u001b[1mSFNEBlock combined_output_flat shape: (None, 2048)\u001b[0m\n",
      "\u001b[32m2025-10-30 17:21:48.912\u001b[0m | \u001b[34m\u001b[1mDEBUG   \u001b[0m | \u001b[36mkmr.models.SFNEBlock\u001b[0m:\u001b[36mcall\u001b[0m:\u001b[36m223\u001b[0m - \u001b[34m\u001b[1mSFNEBlock bottleneck_output shape: (None, 16)\u001b[0m\n",
      "\u001b[32m2025-10-30 17:21:48.913\u001b[0m | \u001b[34m\u001b[1mDEBUG   \u001b[0m | \u001b[36mkmr.models.SFNEBlock\u001b[0m:\u001b[36mcall\u001b[0m:\u001b[36m227\u001b[0m - \u001b[34m\u001b[1mSFNEBlock output_layer output shape: (None, 16)\u001b[0m\n",
      "\u001b[32m2025-10-30 17:21:48.914\u001b[0m | \u001b[34m\u001b[1mDEBUG   \u001b[0m | \u001b[36mkmr.models.TerminatorModel\u001b[0m:\u001b[36mcall\u001b[0m:\u001b[36m227\u001b[0m - \u001b[34m\u001b[1mTerminatorModel SFNEBlock 1 output shape: (None, 16)\u001b[0m\n",
      "\u001b[32m2025-10-30 17:21:48.914\u001b[0m | \u001b[34m\u001b[1mDEBUG   \u001b[0m | \u001b[36mkmr.models.SFNEBlock\u001b[0m:\u001b[36mcall\u001b[0m:\u001b[36m176\u001b[0m - \u001b[34m\u001b[1mSFNEBlock input shape: (None, 16)\u001b[0m\n",
      "\u001b[32m2025-10-30 17:21:48.919\u001b[0m | \u001b[34m\u001b[1mDEBUG   \u001b[0m | \u001b[36mkmr.layers.SlowNetwork\u001b[0m:\u001b[36mcall\u001b[0m:\u001b[36m122\u001b[0m - \u001b[34m\u001b[1mSlowNetwork input shape: (None, 64)\u001b[0m\n",
      "\u001b[32m2025-10-30 17:21:48.920\u001b[0m | \u001b[34m\u001b[1mDEBUG   \u001b[0m | \u001b[36mkmr.layers.SlowNetwork\u001b[0m:\u001b[36mcall\u001b[0m:\u001b[36m126\u001b[0m - \u001b[34m\u001b[1mSlowNetwork layer 0 output shape: (None, 128)\u001b[0m\n",
      "\u001b[32m2025-10-30 17:21:48.922\u001b[0m | \u001b[34m\u001b[1mDEBUG   \u001b[0m | \u001b[36mkmr.layers.SlowNetwork\u001b[0m:\u001b[36mcall\u001b[0m:\u001b[36m126\u001b[0m - \u001b[34m\u001b[1mSlowNetwork layer 1 output shape: (None, 128)\u001b[0m\n",
      "\u001b[32m2025-10-30 17:21:48.924\u001b[0m | \u001b[34m\u001b[1mDEBUG   \u001b[0m | \u001b[36mkmr.layers.SlowNetwork\u001b[0m:\u001b[36mcall\u001b[0m:\u001b[36m126\u001b[0m - \u001b[34m\u001b[1mSlowNetwork layer 2 output shape: (None, 128)\u001b[0m\n",
      "\u001b[32m2025-10-30 17:21:48.925\u001b[0m | \u001b[34m\u001b[1mDEBUG   \u001b[0m | \u001b[36mkmr.layers.SlowNetwork\u001b[0m:\u001b[36mcall\u001b[0m:\u001b[36m129\u001b[0m - \u001b[34m\u001b[1mSlowNetwork output shape: (None, 16)\u001b[0m\n",
      "\u001b[32m2025-10-30 17:21:48.925\u001b[0m | \u001b[34m\u001b[1mDEBUG   \u001b[0m | \u001b[36mkmr.models.SFNEBlock\u001b[0m:\u001b[36mcall\u001b[0m:\u001b[36m188\u001b[0m - \u001b[34m\u001b[1mSFNEBlock hyper_kernels shape: (None, 16)\u001b[0m\n",
      "\u001b[32m2025-10-30 17:21:48.926\u001b[0m | \u001b[34m\u001b[1mDEBUG   \u001b[0m | \u001b[36mkmr.layers.HyperZZWOperator\u001b[0m:\u001b[36mcall\u001b[0m:\u001b[36m132\u001b[0m - \u001b[34m\u001b[1mHyperZZWOperator input_tensor shape: (None, 64)\u001b[0m\n",
      "\u001b[32m2025-10-30 17:21:48.926\u001b[0m | \u001b[34m\u001b[1mDEBUG   \u001b[0m | \u001b[36mkmr.layers.HyperZZWOperator\u001b[0m:\u001b[36mcall\u001b[0m:\u001b[36m133\u001b[0m - \u001b[34m\u001b[1mHyperZZWOperator context_tensor shape: (None, 16)\u001b[0m\n",
      "\u001b[32m2025-10-30 17:21:48.927\u001b[0m | \u001b[34m\u001b[1mDEBUG   \u001b[0m | \u001b[36mkmr.layers.HyperZZWOperator\u001b[0m:\u001b[36mcall\u001b[0m:\u001b[36m153\u001b[0m - \u001b[34m\u001b[1mHyperZZWOperator output shape: (None, 64)\u001b[0m\n",
      "\u001b[32m2025-10-30 17:21:48.927\u001b[0m | \u001b[34m\u001b[1mDEBUG   \u001b[0m | \u001b[36mkmr.models.SFNEBlock\u001b[0m:\u001b[36mcall\u001b[0m:\u001b[36m192\u001b[0m - \u001b[34m\u001b[1mSFNEBlock context_weights shape: (None, 64)\u001b[0m\n",
      "\u001b[32m2025-10-30 17:21:48.928\u001b[0m | \u001b[34m\u001b[1mDEBUG   \u001b[0m | \u001b[36mkmr.models.SFNEBlock\u001b[0m:\u001b[36mcall\u001b[0m:\u001b[36m196\u001b[0m - \u001b[34m\u001b[1mSFNEBlock context_weights_expanded shape: (None, 64, 1)\u001b[0m\n",
      "\u001b[32m2025-10-30 17:21:48.931\u001b[0m | \u001b[34m\u001b[1mDEBUG   \u001b[0m | \u001b[36mkmr.models.SFNEBlock\u001b[0m:\u001b[36mcall\u001b[0m:\u001b[36m202\u001b[0m - \u001b[34m\u001b[1mSFNEBlock global_output shape: (None, 64, 16)\u001b[0m\n",
      "\u001b[32m2025-10-30 17:21:48.935\u001b[0m | \u001b[34m\u001b[1mDEBUG   \u001b[0m | \u001b[36mkmr.models.SFNEBlock\u001b[0m:\u001b[36mcall\u001b[0m:\u001b[36m206\u001b[0m - \u001b[34m\u001b[1mSFNEBlock local_output shape: (None, 64, 16)\u001b[0m\n",
      "\u001b[32m2025-10-30 17:21:48.935\u001b[0m | \u001b[34m\u001b[1mDEBUG   \u001b[0m | \u001b[36mkmr.models.SFNEBlock\u001b[0m:\u001b[36mcall\u001b[0m:\u001b[36m210\u001b[0m - \u001b[34m\u001b[1mSFNEBlock combined_output shape: (None, 64, 32)\u001b[0m\n",
      "\u001b[32m2025-10-30 17:21:48.936\u001b[0m | \u001b[34m\u001b[1mDEBUG   \u001b[0m | \u001b[36mkmr.models.SFNEBlock\u001b[0m:\u001b[36mcall\u001b[0m:\u001b[36m217\u001b[0m - \u001b[34m\u001b[1mSFNEBlock combined_output_flat shape: (None, 2048)\u001b[0m\n",
      "\u001b[32m2025-10-30 17:21:48.937\u001b[0m | \u001b[34m\u001b[1mDEBUG   \u001b[0m | \u001b[36mkmr.models.SFNEBlock\u001b[0m:\u001b[36mcall\u001b[0m:\u001b[36m223\u001b[0m - \u001b[34m\u001b[1mSFNEBlock bottleneck_output shape: (None, 16)\u001b[0m\n",
      "\u001b[32m2025-10-30 17:21:48.939\u001b[0m | \u001b[34m\u001b[1mDEBUG   \u001b[0m | \u001b[36mkmr.models.SFNEBlock\u001b[0m:\u001b[36mcall\u001b[0m:\u001b[36m227\u001b[0m - \u001b[34m\u001b[1mSFNEBlock output_layer output shape: (None, 16)\u001b[0m\n",
      "\u001b[32m2025-10-30 17:21:48.939\u001b[0m | \u001b[34m\u001b[1mDEBUG   \u001b[0m | \u001b[36mkmr.models.TerminatorModel\u001b[0m:\u001b[36mcall\u001b[0m:\u001b[36m227\u001b[0m - \u001b[34m\u001b[1mTerminatorModel SFNEBlock 2 output shape: (None, 16)\u001b[0m\n",
      "\u001b[32m2025-10-30 17:21:48.941\u001b[0m | \u001b[34m\u001b[1mDEBUG   \u001b[0m | \u001b[36mkmr.models.TerminatorModel\u001b[0m:\u001b[36mcall\u001b[0m:\u001b[36m234\u001b[0m - \u001b[34m\u001b[1mTerminatorModel output_layer output shape: (None, 1)\u001b[0m\n",
      "\u001b[32m2025-10-30 17:21:50.338\u001b[0m | \u001b[34m\u001b[1mDEBUG   \u001b[0m | \u001b[36mkmr.models.TerminatorModel\u001b[0m:\u001b[36mcall\u001b[0m:\u001b[36m205\u001b[0m - \u001b[34m\u001b[1mTerminatorModel input shape: (None, 16), context shape: (None, 8)\u001b[0m\n",
      "\u001b[32m2025-10-30 17:21:50.340\u001b[0m | \u001b[34m\u001b[1mDEBUG   \u001b[0m | \u001b[36mkmr.models.TerminatorModel\u001b[0m:\u001b[36mcall\u001b[0m:\u001b[36m211\u001b[0m - \u001b[34m\u001b[1mTerminatorModel input_layer output shape: (None, 16)\u001b[0m\n",
      "\u001b[32m2025-10-30 17:21:50.340\u001b[0m | \u001b[34m\u001b[1mDEBUG   \u001b[0m | \u001b[36mkmr.layers.SlowNetwork\u001b[0m:\u001b[36mcall\u001b[0m:\u001b[36m122\u001b[0m - \u001b[34m\u001b[1mSlowNetwork input shape: (None, 8)\u001b[0m\n",
      "\u001b[32m2025-10-30 17:21:50.343\u001b[0m | \u001b[34m\u001b[1mDEBUG   \u001b[0m | \u001b[36mkmr.layers.SlowNetwork\u001b[0m:\u001b[36mcall\u001b[0m:\u001b[36m126\u001b[0m - \u001b[34m\u001b[1mSlowNetwork layer 0 output shape: (None, 128)\u001b[0m\n",
      "\u001b[32m2025-10-30 17:21:50.344\u001b[0m | \u001b[34m\u001b[1mDEBUG   \u001b[0m | \u001b[36mkmr.layers.SlowNetwork\u001b[0m:\u001b[36mcall\u001b[0m:\u001b[36m126\u001b[0m - \u001b[34m\u001b[1mSlowNetwork layer 1 output shape: (None, 128)\u001b[0m\n",
      "\u001b[32m2025-10-30 17:21:50.346\u001b[0m | \u001b[34m\u001b[1mDEBUG   \u001b[0m | \u001b[36mkmr.layers.SlowNetwork\u001b[0m:\u001b[36mcall\u001b[0m:\u001b[36m126\u001b[0m - \u001b[34m\u001b[1mSlowNetwork layer 2 output shape: (None, 128)\u001b[0m\n",
      "\u001b[32m2025-10-30 17:21:50.348\u001b[0m | \u001b[34m\u001b[1mDEBUG   \u001b[0m | \u001b[36mkmr.layers.SlowNetwork\u001b[0m:\u001b[36mcall\u001b[0m:\u001b[36m129\u001b[0m - \u001b[34m\u001b[1mSlowNetwork output shape: (None, 8)\u001b[0m\n",
      "\u001b[32m2025-10-30 17:21:50.348\u001b[0m | \u001b[34m\u001b[1mDEBUG   \u001b[0m | \u001b[36mkmr.models.TerminatorModel\u001b[0m:\u001b[36mcall\u001b[0m:\u001b[36m215\u001b[0m - \u001b[34m\u001b[1mTerminatorModel hyper_kernels shape: (None, 8)\u001b[0m\n",
      "\u001b[32m2025-10-30 17:21:50.348\u001b[0m | \u001b[34m\u001b[1mDEBUG   \u001b[0m | \u001b[36mkmr.layers.HyperZZWOperator\u001b[0m:\u001b[36mcall\u001b[0m:\u001b[36m132\u001b[0m - \u001b[34m\u001b[1mHyperZZWOperator input_tensor shape: (None, 16)\u001b[0m\n",
      "\u001b[32m2025-10-30 17:21:50.348\u001b[0m | \u001b[34m\u001b[1mDEBUG   \u001b[0m | \u001b[36mkmr.layers.HyperZZWOperator\u001b[0m:\u001b[36mcall\u001b[0m:\u001b[36m133\u001b[0m - \u001b[34m\u001b[1mHyperZZWOperator context_tensor shape: (None, 8)\u001b[0m\n",
      "\u001b[32m2025-10-30 17:21:50.350\u001b[0m | \u001b[34m\u001b[1mDEBUG   \u001b[0m | \u001b[36mkmr.layers.HyperZZWOperator\u001b[0m:\u001b[36mcall\u001b[0m:\u001b[36m153\u001b[0m - \u001b[34m\u001b[1mHyperZZWOperator output shape: (None, 16)\u001b[0m\n",
      "\u001b[32m2025-10-30 17:21:50.350\u001b[0m | \u001b[34m\u001b[1mDEBUG   \u001b[0m | \u001b[36mkmr.models.TerminatorModel\u001b[0m:\u001b[36mcall\u001b[0m:\u001b[36m219\u001b[0m - \u001b[34m\u001b[1mTerminatorModel context_weights shape: (None, 16)\u001b[0m\n",
      "\u001b[32m2025-10-30 17:21:50.352\u001b[0m | \u001b[34m\u001b[1mDEBUG   \u001b[0m | \u001b[36mkmr.models.SFNEBlock\u001b[0m:\u001b[36mcall\u001b[0m:\u001b[36m176\u001b[0m - \u001b[34m\u001b[1mSFNEBlock input shape: (None, 16)\u001b[0m\n",
      "\u001b[32m2025-10-30 17:21:50.357\u001b[0m | \u001b[34m\u001b[1mDEBUG   \u001b[0m | \u001b[36mkmr.layers.SlowNetwork\u001b[0m:\u001b[36mcall\u001b[0m:\u001b[36m122\u001b[0m - \u001b[34m\u001b[1mSlowNetwork input shape: (None, 64)\u001b[0m\n",
      "\u001b[32m2025-10-30 17:21:50.359\u001b[0m | \u001b[34m\u001b[1mDEBUG   \u001b[0m | \u001b[36mkmr.layers.SlowNetwork\u001b[0m:\u001b[36mcall\u001b[0m:\u001b[36m126\u001b[0m - \u001b[34m\u001b[1mSlowNetwork layer 0 output shape: (None, 128)\u001b[0m\n",
      "\u001b[32m2025-10-30 17:21:50.360\u001b[0m | \u001b[34m\u001b[1mDEBUG   \u001b[0m | \u001b[36mkmr.layers.SlowNetwork\u001b[0m:\u001b[36mcall\u001b[0m:\u001b[36m126\u001b[0m - \u001b[34m\u001b[1mSlowNetwork layer 1 output shape: (None, 128)\u001b[0m\n",
      "\u001b[32m2025-10-30 17:21:50.362\u001b[0m | \u001b[34m\u001b[1mDEBUG   \u001b[0m | \u001b[36mkmr.layers.SlowNetwork\u001b[0m:\u001b[36mcall\u001b[0m:\u001b[36m126\u001b[0m - \u001b[34m\u001b[1mSlowNetwork layer 2 output shape: (None, 128)\u001b[0m\n",
      "\u001b[32m2025-10-30 17:21:50.364\u001b[0m | \u001b[34m\u001b[1mDEBUG   \u001b[0m | \u001b[36mkmr.layers.SlowNetwork\u001b[0m:\u001b[36mcall\u001b[0m:\u001b[36m129\u001b[0m - \u001b[34m\u001b[1mSlowNetwork output shape: (None, 16)\u001b[0m\n",
      "\u001b[32m2025-10-30 17:21:50.364\u001b[0m | \u001b[34m\u001b[1mDEBUG   \u001b[0m | \u001b[36mkmr.models.SFNEBlock\u001b[0m:\u001b[36mcall\u001b[0m:\u001b[36m188\u001b[0m - \u001b[34m\u001b[1mSFNEBlock hyper_kernels shape: (None, 16)\u001b[0m\n",
      "\u001b[32m2025-10-30 17:21:50.364\u001b[0m | \u001b[34m\u001b[1mDEBUG   \u001b[0m | \u001b[36mkmr.layers.HyperZZWOperator\u001b[0m:\u001b[36mcall\u001b[0m:\u001b[36m132\u001b[0m - \u001b[34m\u001b[1mHyperZZWOperator input_tensor shape: (None, 64)\u001b[0m\n",
      "\u001b[32m2025-10-30 17:21:50.364\u001b[0m | \u001b[34m\u001b[1mDEBUG   \u001b[0m | \u001b[36mkmr.layers.HyperZZWOperator\u001b[0m:\u001b[36mcall\u001b[0m:\u001b[36m133\u001b[0m - \u001b[34m\u001b[1mHyperZZWOperator context_tensor shape: (None, 16)\u001b[0m\n",
      "\u001b[32m2025-10-30 17:21:50.365\u001b[0m | \u001b[34m\u001b[1mDEBUG   \u001b[0m | \u001b[36mkmr.layers.HyperZZWOperator\u001b[0m:\u001b[36mcall\u001b[0m:\u001b[36m153\u001b[0m - \u001b[34m\u001b[1mHyperZZWOperator output shape: (None, 64)\u001b[0m\n",
      "\u001b[32m2025-10-30 17:21:50.365\u001b[0m | \u001b[34m\u001b[1mDEBUG   \u001b[0m | \u001b[36mkmr.models.SFNEBlock\u001b[0m:\u001b[36mcall\u001b[0m:\u001b[36m192\u001b[0m - \u001b[34m\u001b[1mSFNEBlock context_weights shape: (None, 64)\u001b[0m\n",
      "\u001b[32m2025-10-30 17:21:50.366\u001b[0m | \u001b[34m\u001b[1mDEBUG   \u001b[0m | \u001b[36mkmr.models.SFNEBlock\u001b[0m:\u001b[36mcall\u001b[0m:\u001b[36m196\u001b[0m - \u001b[34m\u001b[1mSFNEBlock context_weights_expanded shape: (None, 64, 1)\u001b[0m\n",
      "\u001b[32m2025-10-30 17:21:50.370\u001b[0m | \u001b[34m\u001b[1mDEBUG   \u001b[0m | \u001b[36mkmr.models.SFNEBlock\u001b[0m:\u001b[36mcall\u001b[0m:\u001b[36m202\u001b[0m - \u001b[34m\u001b[1mSFNEBlock global_output shape: (None, 64, 16)\u001b[0m\n",
      "\u001b[32m2025-10-30 17:21:50.373\u001b[0m | \u001b[34m\u001b[1mDEBUG   \u001b[0m | \u001b[36mkmr.models.SFNEBlock\u001b[0m:\u001b[36mcall\u001b[0m:\u001b[36m206\u001b[0m - \u001b[34m\u001b[1mSFNEBlock local_output shape: (None, 64, 16)\u001b[0m\n",
      "\u001b[32m2025-10-30 17:21:50.374\u001b[0m | \u001b[34m\u001b[1mDEBUG   \u001b[0m | \u001b[36mkmr.models.SFNEBlock\u001b[0m:\u001b[36mcall\u001b[0m:\u001b[36m210\u001b[0m - \u001b[34m\u001b[1mSFNEBlock combined_output shape: (None, 64, 32)\u001b[0m\n",
      "\u001b[32m2025-10-30 17:21:50.374\u001b[0m | \u001b[34m\u001b[1mDEBUG   \u001b[0m | \u001b[36mkmr.models.SFNEBlock\u001b[0m:\u001b[36mcall\u001b[0m:\u001b[36m217\u001b[0m - \u001b[34m\u001b[1mSFNEBlock combined_output_flat shape: (None, 2048)\u001b[0m\n",
      "\u001b[32m2025-10-30 17:21:50.376\u001b[0m | \u001b[34m\u001b[1mDEBUG   \u001b[0m | \u001b[36mkmr.models.SFNEBlock\u001b[0m:\u001b[36mcall\u001b[0m:\u001b[36m223\u001b[0m - \u001b[34m\u001b[1mSFNEBlock bottleneck_output shape: (None, 16)\u001b[0m\n",
      "\u001b[32m2025-10-30 17:21:50.377\u001b[0m | \u001b[34m\u001b[1mDEBUG   \u001b[0m | \u001b[36mkmr.models.SFNEBlock\u001b[0m:\u001b[36mcall\u001b[0m:\u001b[36m227\u001b[0m - \u001b[34m\u001b[1mSFNEBlock output_layer output shape: (None, 16)\u001b[0m\n",
      "\u001b[32m2025-10-30 17:21:50.378\u001b[0m | \u001b[34m\u001b[1mDEBUG   \u001b[0m | \u001b[36mkmr.models.TerminatorModel\u001b[0m:\u001b[36mcall\u001b[0m:\u001b[36m227\u001b[0m - \u001b[34m\u001b[1mTerminatorModel SFNEBlock 0 output shape: (None, 16)\u001b[0m\n",
      "\u001b[32m2025-10-30 17:21:50.378\u001b[0m | \u001b[34m\u001b[1mDEBUG   \u001b[0m | \u001b[36mkmr.models.SFNEBlock\u001b[0m:\u001b[36mcall\u001b[0m:\u001b[36m176\u001b[0m - \u001b[34m\u001b[1mSFNEBlock input shape: (None, 16)\u001b[0m\n",
      "\u001b[32m2025-10-30 17:21:50.383\u001b[0m | \u001b[34m\u001b[1mDEBUG   \u001b[0m | \u001b[36mkmr.layers.SlowNetwork\u001b[0m:\u001b[36mcall\u001b[0m:\u001b[36m122\u001b[0m - \u001b[34m\u001b[1mSlowNetwork input shape: (None, 64)\u001b[0m\n",
      "\u001b[32m2025-10-30 17:21:50.384\u001b[0m | \u001b[34m\u001b[1mDEBUG   \u001b[0m | \u001b[36mkmr.layers.SlowNetwork\u001b[0m:\u001b[36mcall\u001b[0m:\u001b[36m126\u001b[0m - \u001b[34m\u001b[1mSlowNetwork layer 0 output shape: (None, 128)\u001b[0m\n",
      "\u001b[32m2025-10-30 17:21:50.386\u001b[0m | \u001b[34m\u001b[1mDEBUG   \u001b[0m | \u001b[36mkmr.layers.SlowNetwork\u001b[0m:\u001b[36mcall\u001b[0m:\u001b[36m126\u001b[0m - \u001b[34m\u001b[1mSlowNetwork layer 1 output shape: (None, 128)\u001b[0m\n",
      "\u001b[32m2025-10-30 17:21:50.388\u001b[0m | \u001b[34m\u001b[1mDEBUG   \u001b[0m | \u001b[36mkmr.layers.SlowNetwork\u001b[0m:\u001b[36mcall\u001b[0m:\u001b[36m126\u001b[0m - \u001b[34m\u001b[1mSlowNetwork layer 2 output shape: (None, 128)\u001b[0m\n",
      "\u001b[32m2025-10-30 17:21:50.389\u001b[0m | \u001b[34m\u001b[1mDEBUG   \u001b[0m | \u001b[36mkmr.layers.SlowNetwork\u001b[0m:\u001b[36mcall\u001b[0m:\u001b[36m129\u001b[0m - \u001b[34m\u001b[1mSlowNetwork output shape: (None, 16)\u001b[0m\n",
      "\u001b[32m2025-10-30 17:21:50.389\u001b[0m | \u001b[34m\u001b[1mDEBUG   \u001b[0m | \u001b[36mkmr.models.SFNEBlock\u001b[0m:\u001b[36mcall\u001b[0m:\u001b[36m188\u001b[0m - \u001b[34m\u001b[1mSFNEBlock hyper_kernels shape: (None, 16)\u001b[0m\n",
      "\u001b[32m2025-10-30 17:21:50.389\u001b[0m | \u001b[34m\u001b[1mDEBUG   \u001b[0m | \u001b[36mkmr.layers.HyperZZWOperator\u001b[0m:\u001b[36mcall\u001b[0m:\u001b[36m132\u001b[0m - \u001b[34m\u001b[1mHyperZZWOperator input_tensor shape: (None, 64)\u001b[0m\n",
      "\u001b[32m2025-10-30 17:21:50.390\u001b[0m | \u001b[34m\u001b[1mDEBUG   \u001b[0m | \u001b[36mkmr.layers.HyperZZWOperator\u001b[0m:\u001b[36mcall\u001b[0m:\u001b[36m133\u001b[0m - \u001b[34m\u001b[1mHyperZZWOperator context_tensor shape: (None, 16)\u001b[0m\n",
      "\u001b[32m2025-10-30 17:21:50.391\u001b[0m | \u001b[34m\u001b[1mDEBUG   \u001b[0m | \u001b[36mkmr.layers.HyperZZWOperator\u001b[0m:\u001b[36mcall\u001b[0m:\u001b[36m153\u001b[0m - \u001b[34m\u001b[1mHyperZZWOperator output shape: (None, 64)\u001b[0m\n",
      "\u001b[32m2025-10-30 17:21:50.391\u001b[0m | \u001b[34m\u001b[1mDEBUG   \u001b[0m | \u001b[36mkmr.models.SFNEBlock\u001b[0m:\u001b[36mcall\u001b[0m:\u001b[36m192\u001b[0m - \u001b[34m\u001b[1mSFNEBlock context_weights shape: (None, 64)\u001b[0m\n",
      "\u001b[32m2025-10-30 17:21:50.391\u001b[0m | \u001b[34m\u001b[1mDEBUG   \u001b[0m | \u001b[36mkmr.models.SFNEBlock\u001b[0m:\u001b[36mcall\u001b[0m:\u001b[36m196\u001b[0m - \u001b[34m\u001b[1mSFNEBlock context_weights_expanded shape: (None, 64, 1)\u001b[0m\n",
      "\u001b[32m2025-10-30 17:21:50.395\u001b[0m | \u001b[34m\u001b[1mDEBUG   \u001b[0m | \u001b[36mkmr.models.SFNEBlock\u001b[0m:\u001b[36mcall\u001b[0m:\u001b[36m202\u001b[0m - \u001b[34m\u001b[1mSFNEBlock global_output shape: (None, 64, 16)\u001b[0m\n",
      "\u001b[32m2025-10-30 17:21:50.399\u001b[0m | \u001b[34m\u001b[1mDEBUG   \u001b[0m | \u001b[36mkmr.models.SFNEBlock\u001b[0m:\u001b[36mcall\u001b[0m:\u001b[36m206\u001b[0m - \u001b[34m\u001b[1mSFNEBlock local_output shape: (None, 64, 16)\u001b[0m\n",
      "\u001b[32m2025-10-30 17:21:50.399\u001b[0m | \u001b[34m\u001b[1mDEBUG   \u001b[0m | \u001b[36mkmr.models.SFNEBlock\u001b[0m:\u001b[36mcall\u001b[0m:\u001b[36m210\u001b[0m - \u001b[34m\u001b[1mSFNEBlock combined_output shape: (None, 64, 32)\u001b[0m\n",
      "\u001b[32m2025-10-30 17:21:50.400\u001b[0m | \u001b[34m\u001b[1mDEBUG   \u001b[0m | \u001b[36mkmr.models.SFNEBlock\u001b[0m:\u001b[36mcall\u001b[0m:\u001b[36m217\u001b[0m - \u001b[34m\u001b[1mSFNEBlock combined_output_flat shape: (None, 2048)\u001b[0m\n",
      "\u001b[32m2025-10-30 17:21:50.401\u001b[0m | \u001b[34m\u001b[1mDEBUG   \u001b[0m | \u001b[36mkmr.models.SFNEBlock\u001b[0m:\u001b[36mcall\u001b[0m:\u001b[36m223\u001b[0m - \u001b[34m\u001b[1mSFNEBlock bottleneck_output shape: (None, 16)\u001b[0m\n",
      "\u001b[32m2025-10-30 17:21:50.403\u001b[0m | \u001b[34m\u001b[1mDEBUG   \u001b[0m | \u001b[36mkmr.models.SFNEBlock\u001b[0m:\u001b[36mcall\u001b[0m:\u001b[36m227\u001b[0m - \u001b[34m\u001b[1mSFNEBlock output_layer output shape: (None, 16)\u001b[0m\n",
      "\u001b[32m2025-10-30 17:21:50.403\u001b[0m | \u001b[34m\u001b[1mDEBUG   \u001b[0m | \u001b[36mkmr.models.TerminatorModel\u001b[0m:\u001b[36mcall\u001b[0m:\u001b[36m227\u001b[0m - \u001b[34m\u001b[1mTerminatorModel SFNEBlock 1 output shape: (None, 16)\u001b[0m\n",
      "\u001b[32m2025-10-30 17:21:50.403\u001b[0m | \u001b[34m\u001b[1mDEBUG   \u001b[0m | \u001b[36mkmr.models.SFNEBlock\u001b[0m:\u001b[36mcall\u001b[0m:\u001b[36m176\u001b[0m - \u001b[34m\u001b[1mSFNEBlock input shape: (None, 16)\u001b[0m\n",
      "\u001b[32m2025-10-30 17:21:50.408\u001b[0m | \u001b[34m\u001b[1mDEBUG   \u001b[0m | \u001b[36mkmr.layers.SlowNetwork\u001b[0m:\u001b[36mcall\u001b[0m:\u001b[36m122\u001b[0m - \u001b[34m\u001b[1mSlowNetwork input shape: (None, 64)\u001b[0m\n",
      "\u001b[32m2025-10-30 17:21:50.410\u001b[0m | \u001b[34m\u001b[1mDEBUG   \u001b[0m | \u001b[36mkmr.layers.SlowNetwork\u001b[0m:\u001b[36mcall\u001b[0m:\u001b[36m126\u001b[0m - \u001b[34m\u001b[1mSlowNetwork layer 0 output shape: (None, 128)\u001b[0m\n",
      "\u001b[32m2025-10-30 17:21:50.411\u001b[0m | \u001b[34m\u001b[1mDEBUG   \u001b[0m | \u001b[36mkmr.layers.SlowNetwork\u001b[0m:\u001b[36mcall\u001b[0m:\u001b[36m126\u001b[0m - \u001b[34m\u001b[1mSlowNetwork layer 1 output shape: (None, 128)\u001b[0m\n",
      "\u001b[32m2025-10-30 17:21:50.413\u001b[0m | \u001b[34m\u001b[1mDEBUG   \u001b[0m | \u001b[36mkmr.layers.SlowNetwork\u001b[0m:\u001b[36mcall\u001b[0m:\u001b[36m126\u001b[0m - \u001b[34m\u001b[1mSlowNetwork layer 2 output shape: (None, 128)\u001b[0m\n",
      "\u001b[32m2025-10-30 17:21:50.414\u001b[0m | \u001b[34m\u001b[1mDEBUG   \u001b[0m | \u001b[36mkmr.layers.SlowNetwork\u001b[0m:\u001b[36mcall\u001b[0m:\u001b[36m129\u001b[0m - \u001b[34m\u001b[1mSlowNetwork output shape: (None, 16)\u001b[0m\n",
      "\u001b[32m2025-10-30 17:21:50.414\u001b[0m | \u001b[34m\u001b[1mDEBUG   \u001b[0m | \u001b[36mkmr.models.SFNEBlock\u001b[0m:\u001b[36mcall\u001b[0m:\u001b[36m188\u001b[0m - \u001b[34m\u001b[1mSFNEBlock hyper_kernels shape: (None, 16)\u001b[0m\n",
      "\u001b[32m2025-10-30 17:21:50.415\u001b[0m | \u001b[34m\u001b[1mDEBUG   \u001b[0m | \u001b[36mkmr.layers.HyperZZWOperator\u001b[0m:\u001b[36mcall\u001b[0m:\u001b[36m132\u001b[0m - \u001b[34m\u001b[1mHyperZZWOperator input_tensor shape: (None, 64)\u001b[0m\n",
      "\u001b[32m2025-10-30 17:21:50.415\u001b[0m | \u001b[34m\u001b[1mDEBUG   \u001b[0m | \u001b[36mkmr.layers.HyperZZWOperator\u001b[0m:\u001b[36mcall\u001b[0m:\u001b[36m133\u001b[0m - \u001b[34m\u001b[1mHyperZZWOperator context_tensor shape: (None, 16)\u001b[0m\n",
      "\u001b[32m2025-10-30 17:21:50.416\u001b[0m | \u001b[34m\u001b[1mDEBUG   \u001b[0m | \u001b[36mkmr.layers.HyperZZWOperator\u001b[0m:\u001b[36mcall\u001b[0m:\u001b[36m153\u001b[0m - \u001b[34m\u001b[1mHyperZZWOperator output shape: (None, 64)\u001b[0m\n",
      "\u001b[32m2025-10-30 17:21:50.416\u001b[0m | \u001b[34m\u001b[1mDEBUG   \u001b[0m | \u001b[36mkmr.models.SFNEBlock\u001b[0m:\u001b[36mcall\u001b[0m:\u001b[36m192\u001b[0m - \u001b[34m\u001b[1mSFNEBlock context_weights shape: (None, 64)\u001b[0m\n",
      "\u001b[32m2025-10-30 17:21:50.417\u001b[0m | \u001b[34m\u001b[1mDEBUG   \u001b[0m | \u001b[36mkmr.models.SFNEBlock\u001b[0m:\u001b[36mcall\u001b[0m:\u001b[36m196\u001b[0m - \u001b[34m\u001b[1mSFNEBlock context_weights_expanded shape: (None, 64, 1)\u001b[0m\n",
      "\u001b[32m2025-10-30 17:21:50.420\u001b[0m | \u001b[34m\u001b[1mDEBUG   \u001b[0m | \u001b[36mkmr.models.SFNEBlock\u001b[0m:\u001b[36mcall\u001b[0m:\u001b[36m202\u001b[0m - \u001b[34m\u001b[1mSFNEBlock global_output shape: (None, 64, 16)\u001b[0m\n",
      "\u001b[32m2025-10-30 17:21:50.424\u001b[0m | \u001b[34m\u001b[1mDEBUG   \u001b[0m | \u001b[36mkmr.models.SFNEBlock\u001b[0m:\u001b[36mcall\u001b[0m:\u001b[36m206\u001b[0m - \u001b[34m\u001b[1mSFNEBlock local_output shape: (None, 64, 16)\u001b[0m\n",
      "\u001b[32m2025-10-30 17:21:50.424\u001b[0m | \u001b[34m\u001b[1mDEBUG   \u001b[0m | \u001b[36mkmr.models.SFNEBlock\u001b[0m:\u001b[36mcall\u001b[0m:\u001b[36m210\u001b[0m - \u001b[34m\u001b[1mSFNEBlock combined_output shape: (None, 64, 32)\u001b[0m\n",
      "\u001b[32m2025-10-30 17:21:50.425\u001b[0m | \u001b[34m\u001b[1mDEBUG   \u001b[0m | \u001b[36mkmr.models.SFNEBlock\u001b[0m:\u001b[36mcall\u001b[0m:\u001b[36m217\u001b[0m - \u001b[34m\u001b[1mSFNEBlock combined_output_flat shape: (None, 2048)\u001b[0m\n",
      "\u001b[32m2025-10-30 17:21:50.426\u001b[0m | \u001b[34m\u001b[1mDEBUG   \u001b[0m | \u001b[36mkmr.models.SFNEBlock\u001b[0m:\u001b[36mcall\u001b[0m:\u001b[36m223\u001b[0m - \u001b[34m\u001b[1mSFNEBlock bottleneck_output shape: (None, 16)\u001b[0m\n",
      "\u001b[32m2025-10-30 17:21:50.428\u001b[0m | \u001b[34m\u001b[1mDEBUG   \u001b[0m | \u001b[36mkmr.models.SFNEBlock\u001b[0m:\u001b[36mcall\u001b[0m:\u001b[36m227\u001b[0m - \u001b[34m\u001b[1mSFNEBlock output_layer output shape: (None, 16)\u001b[0m\n",
      "\u001b[32m2025-10-30 17:21:50.428\u001b[0m | \u001b[34m\u001b[1mDEBUG   \u001b[0m | \u001b[36mkmr.models.TerminatorModel\u001b[0m:\u001b[36mcall\u001b[0m:\u001b[36m227\u001b[0m - \u001b[34m\u001b[1mTerminatorModel SFNEBlock 2 output shape: (None, 16)\u001b[0m\n",
      "\u001b[32m2025-10-30 17:21:50.430\u001b[0m | \u001b[34m\u001b[1mDEBUG   \u001b[0m | \u001b[36mkmr.models.TerminatorModel\u001b[0m:\u001b[36mcall\u001b[0m:\u001b[36m234\u001b[0m - \u001b[34m\u001b[1mTerminatorModel output_layer output shape: (None, 1)\u001b[0m\n"
     ]
    },
    {
     "name": "stdout",
     "output_type": "stream",
     "text": [
      "\u001b[1m44/44\u001b[0m \u001b[32m━━━━━━━━━━━━━━━━━━━━\u001b[0m\u001b[37m\u001b[0m \u001b[1m0s\u001b[0m 4ms/step - loss: 0.0456 - mean_absolute_error: 0.1735"
     ]
    },
    {
     "name": "stderr",
     "output_type": "stream",
     "text": [
      "\u001b[32m2025-10-30 17:21:51.767\u001b[0m | \u001b[34m\u001b[1mDEBUG   \u001b[0m | \u001b[36mkmr.models.TerminatorModel\u001b[0m:\u001b[36mcall\u001b[0m:\u001b[36m205\u001b[0m - \u001b[34m\u001b[1mTerminatorModel input shape: (None, 16), context shape: (None, 8)\u001b[0m\n",
      "\u001b[32m2025-10-30 17:21:51.770\u001b[0m | \u001b[34m\u001b[1mDEBUG   \u001b[0m | \u001b[36mkmr.models.TerminatorModel\u001b[0m:\u001b[36mcall\u001b[0m:\u001b[36m211\u001b[0m - \u001b[34m\u001b[1mTerminatorModel input_layer output shape: (None, 16)\u001b[0m\n",
      "\u001b[32m2025-10-30 17:21:51.770\u001b[0m | \u001b[34m\u001b[1mDEBUG   \u001b[0m | \u001b[36mkmr.layers.SlowNetwork\u001b[0m:\u001b[36mcall\u001b[0m:\u001b[36m122\u001b[0m - \u001b[34m\u001b[1mSlowNetwork input shape: (None, 8)\u001b[0m\n",
      "\u001b[32m2025-10-30 17:21:51.773\u001b[0m | \u001b[34m\u001b[1mDEBUG   \u001b[0m | \u001b[36mkmr.layers.SlowNetwork\u001b[0m:\u001b[36mcall\u001b[0m:\u001b[36m126\u001b[0m - \u001b[34m\u001b[1mSlowNetwork layer 0 output shape: (None, 128)\u001b[0m\n",
      "\u001b[32m2025-10-30 17:21:51.775\u001b[0m | \u001b[34m\u001b[1mDEBUG   \u001b[0m | \u001b[36mkmr.layers.SlowNetwork\u001b[0m:\u001b[36mcall\u001b[0m:\u001b[36m126\u001b[0m - \u001b[34m\u001b[1mSlowNetwork layer 1 output shape: (None, 128)\u001b[0m\n",
      "\u001b[32m2025-10-30 17:21:51.777\u001b[0m | \u001b[34m\u001b[1mDEBUG   \u001b[0m | \u001b[36mkmr.layers.SlowNetwork\u001b[0m:\u001b[36mcall\u001b[0m:\u001b[36m126\u001b[0m - \u001b[34m\u001b[1mSlowNetwork layer 2 output shape: (None, 128)\u001b[0m\n",
      "\u001b[32m2025-10-30 17:21:51.779\u001b[0m | \u001b[34m\u001b[1mDEBUG   \u001b[0m | \u001b[36mkmr.layers.SlowNetwork\u001b[0m:\u001b[36mcall\u001b[0m:\u001b[36m129\u001b[0m - \u001b[34m\u001b[1mSlowNetwork output shape: (None, 8)\u001b[0m\n",
      "\u001b[32m2025-10-30 17:21:51.779\u001b[0m | \u001b[34m\u001b[1mDEBUG   \u001b[0m | \u001b[36mkmr.models.TerminatorModel\u001b[0m:\u001b[36mcall\u001b[0m:\u001b[36m215\u001b[0m - \u001b[34m\u001b[1mTerminatorModel hyper_kernels shape: (None, 8)\u001b[0m\n",
      "\u001b[32m2025-10-30 17:21:51.779\u001b[0m | \u001b[34m\u001b[1mDEBUG   \u001b[0m | \u001b[36mkmr.layers.HyperZZWOperator\u001b[0m:\u001b[36mcall\u001b[0m:\u001b[36m132\u001b[0m - \u001b[34m\u001b[1mHyperZZWOperator input_tensor shape: (None, 16)\u001b[0m\n",
      "\u001b[32m2025-10-30 17:21:51.780\u001b[0m | \u001b[34m\u001b[1mDEBUG   \u001b[0m | \u001b[36mkmr.layers.HyperZZWOperator\u001b[0m:\u001b[36mcall\u001b[0m:\u001b[36m133\u001b[0m - \u001b[34m\u001b[1mHyperZZWOperator context_tensor shape: (None, 8)\u001b[0m\n",
      "\u001b[32m2025-10-30 17:21:51.781\u001b[0m | \u001b[34m\u001b[1mDEBUG   \u001b[0m | \u001b[36mkmr.layers.HyperZZWOperator\u001b[0m:\u001b[36mcall\u001b[0m:\u001b[36m153\u001b[0m - \u001b[34m\u001b[1mHyperZZWOperator output shape: (None, 16)\u001b[0m\n",
      "\u001b[32m2025-10-30 17:21:51.781\u001b[0m | \u001b[34m\u001b[1mDEBUG   \u001b[0m | \u001b[36mkmr.models.TerminatorModel\u001b[0m:\u001b[36mcall\u001b[0m:\u001b[36m219\u001b[0m - \u001b[34m\u001b[1mTerminatorModel context_weights shape: (None, 16)\u001b[0m\n",
      "\u001b[32m2025-10-30 17:21:51.784\u001b[0m | \u001b[34m\u001b[1mDEBUG   \u001b[0m | \u001b[36mkmr.models.SFNEBlock\u001b[0m:\u001b[36mcall\u001b[0m:\u001b[36m176\u001b[0m - \u001b[34m\u001b[1mSFNEBlock input shape: (None, 16)\u001b[0m\n",
      "\u001b[32m2025-10-30 17:21:51.789\u001b[0m | \u001b[34m\u001b[1mDEBUG   \u001b[0m | \u001b[36mkmr.layers.SlowNetwork\u001b[0m:\u001b[36mcall\u001b[0m:\u001b[36m122\u001b[0m - \u001b[34m\u001b[1mSlowNetwork input shape: (None, 64)\u001b[0m\n",
      "\u001b[32m2025-10-30 17:21:51.791\u001b[0m | \u001b[34m\u001b[1mDEBUG   \u001b[0m | \u001b[36mkmr.layers.SlowNetwork\u001b[0m:\u001b[36mcall\u001b[0m:\u001b[36m126\u001b[0m - \u001b[34m\u001b[1mSlowNetwork layer 0 output shape: (None, 128)\u001b[0m\n",
      "\u001b[32m2025-10-30 17:21:51.793\u001b[0m | \u001b[34m\u001b[1mDEBUG   \u001b[0m | \u001b[36mkmr.layers.SlowNetwork\u001b[0m:\u001b[36mcall\u001b[0m:\u001b[36m126\u001b[0m - \u001b[34m\u001b[1mSlowNetwork layer 1 output shape: (None, 128)\u001b[0m\n",
      "\u001b[32m2025-10-30 17:21:51.795\u001b[0m | \u001b[34m\u001b[1mDEBUG   \u001b[0m | \u001b[36mkmr.layers.SlowNetwork\u001b[0m:\u001b[36mcall\u001b[0m:\u001b[36m126\u001b[0m - \u001b[34m\u001b[1mSlowNetwork layer 2 output shape: (None, 128)\u001b[0m\n",
      "\u001b[32m2025-10-30 17:21:51.796\u001b[0m | \u001b[34m\u001b[1mDEBUG   \u001b[0m | \u001b[36mkmr.layers.SlowNetwork\u001b[0m:\u001b[36mcall\u001b[0m:\u001b[36m129\u001b[0m - \u001b[34m\u001b[1mSlowNetwork output shape: (None, 16)\u001b[0m\n",
      "\u001b[32m2025-10-30 17:21:51.796\u001b[0m | \u001b[34m\u001b[1mDEBUG   \u001b[0m | \u001b[36mkmr.models.SFNEBlock\u001b[0m:\u001b[36mcall\u001b[0m:\u001b[36m188\u001b[0m - \u001b[34m\u001b[1mSFNEBlock hyper_kernels shape: (None, 16)\u001b[0m\n",
      "\u001b[32m2025-10-30 17:21:51.797\u001b[0m | \u001b[34m\u001b[1mDEBUG   \u001b[0m | \u001b[36mkmr.layers.HyperZZWOperator\u001b[0m:\u001b[36mcall\u001b[0m:\u001b[36m132\u001b[0m - \u001b[34m\u001b[1mHyperZZWOperator input_tensor shape: (None, 64)\u001b[0m\n",
      "\u001b[32m2025-10-30 17:21:51.797\u001b[0m | \u001b[34m\u001b[1mDEBUG   \u001b[0m | \u001b[36mkmr.layers.HyperZZWOperator\u001b[0m:\u001b[36mcall\u001b[0m:\u001b[36m133\u001b[0m - \u001b[34m\u001b[1mHyperZZWOperator context_tensor shape: (None, 16)\u001b[0m\n",
      "\u001b[32m2025-10-30 17:21:51.798\u001b[0m | \u001b[34m\u001b[1mDEBUG   \u001b[0m | \u001b[36mkmr.layers.HyperZZWOperator\u001b[0m:\u001b[36mcall\u001b[0m:\u001b[36m153\u001b[0m - \u001b[34m\u001b[1mHyperZZWOperator output shape: (None, 64)\u001b[0m\n",
      "\u001b[32m2025-10-30 17:21:51.798\u001b[0m | \u001b[34m\u001b[1mDEBUG   \u001b[0m | \u001b[36mkmr.models.SFNEBlock\u001b[0m:\u001b[36mcall\u001b[0m:\u001b[36m192\u001b[0m - \u001b[34m\u001b[1mSFNEBlock context_weights shape: (None, 64)\u001b[0m\n",
      "\u001b[32m2025-10-30 17:21:51.799\u001b[0m | \u001b[34m\u001b[1mDEBUG   \u001b[0m | \u001b[36mkmr.models.SFNEBlock\u001b[0m:\u001b[36mcall\u001b[0m:\u001b[36m196\u001b[0m - \u001b[34m\u001b[1mSFNEBlock context_weights_expanded shape: (None, 64, 1)\u001b[0m\n",
      "\u001b[32m2025-10-30 17:21:51.803\u001b[0m | \u001b[34m\u001b[1mDEBUG   \u001b[0m | \u001b[36mkmr.models.SFNEBlock\u001b[0m:\u001b[36mcall\u001b[0m:\u001b[36m202\u001b[0m - \u001b[34m\u001b[1mSFNEBlock global_output shape: (None, 64, 16)\u001b[0m\n",
      "\u001b[32m2025-10-30 17:21:51.806\u001b[0m | \u001b[34m\u001b[1mDEBUG   \u001b[0m | \u001b[36mkmr.models.SFNEBlock\u001b[0m:\u001b[36mcall\u001b[0m:\u001b[36m206\u001b[0m - \u001b[34m\u001b[1mSFNEBlock local_output shape: (None, 64, 16)\u001b[0m\n",
      "\u001b[32m2025-10-30 17:21:51.807\u001b[0m | \u001b[34m\u001b[1mDEBUG   \u001b[0m | \u001b[36mkmr.models.SFNEBlock\u001b[0m:\u001b[36mcall\u001b[0m:\u001b[36m210\u001b[0m - \u001b[34m\u001b[1mSFNEBlock combined_output shape: (None, 64, 32)\u001b[0m\n",
      "\u001b[32m2025-10-30 17:21:51.808\u001b[0m | \u001b[34m\u001b[1mDEBUG   \u001b[0m | \u001b[36mkmr.models.SFNEBlock\u001b[0m:\u001b[36mcall\u001b[0m:\u001b[36m217\u001b[0m - \u001b[34m\u001b[1mSFNEBlock combined_output_flat shape: (None, 2048)\u001b[0m\n",
      "\u001b[32m2025-10-30 17:21:51.810\u001b[0m | \u001b[34m\u001b[1mDEBUG   \u001b[0m | \u001b[36mkmr.models.SFNEBlock\u001b[0m:\u001b[36mcall\u001b[0m:\u001b[36m223\u001b[0m - \u001b[34m\u001b[1mSFNEBlock bottleneck_output shape: (None, 16)\u001b[0m\n",
      "\u001b[32m2025-10-30 17:21:51.811\u001b[0m | \u001b[34m\u001b[1mDEBUG   \u001b[0m | \u001b[36mkmr.models.SFNEBlock\u001b[0m:\u001b[36mcall\u001b[0m:\u001b[36m227\u001b[0m - \u001b[34m\u001b[1mSFNEBlock output_layer output shape: (None, 16)\u001b[0m\n",
      "\u001b[32m2025-10-30 17:21:51.811\u001b[0m | \u001b[34m\u001b[1mDEBUG   \u001b[0m | \u001b[36mkmr.models.TerminatorModel\u001b[0m:\u001b[36mcall\u001b[0m:\u001b[36m227\u001b[0m - \u001b[34m\u001b[1mTerminatorModel SFNEBlock 0 output shape: (None, 16)\u001b[0m\n",
      "\u001b[32m2025-10-30 17:21:51.812\u001b[0m | \u001b[34m\u001b[1mDEBUG   \u001b[0m | \u001b[36mkmr.models.SFNEBlock\u001b[0m:\u001b[36mcall\u001b[0m:\u001b[36m176\u001b[0m - \u001b[34m\u001b[1mSFNEBlock input shape: (None, 16)\u001b[0m\n",
      "\u001b[32m2025-10-30 17:21:51.817\u001b[0m | \u001b[34m\u001b[1mDEBUG   \u001b[0m | \u001b[36mkmr.layers.SlowNetwork\u001b[0m:\u001b[36mcall\u001b[0m:\u001b[36m122\u001b[0m - \u001b[34m\u001b[1mSlowNetwork input shape: (None, 64)\u001b[0m\n",
      "\u001b[32m2025-10-30 17:21:51.819\u001b[0m | \u001b[34m\u001b[1mDEBUG   \u001b[0m | \u001b[36mkmr.layers.SlowNetwork\u001b[0m:\u001b[36mcall\u001b[0m:\u001b[36m126\u001b[0m - \u001b[34m\u001b[1mSlowNetwork layer 0 output shape: (None, 128)\u001b[0m\n",
      "\u001b[32m2025-10-30 17:21:51.820\u001b[0m | \u001b[34m\u001b[1mDEBUG   \u001b[0m | \u001b[36mkmr.layers.SlowNetwork\u001b[0m:\u001b[36mcall\u001b[0m:\u001b[36m126\u001b[0m - \u001b[34m\u001b[1mSlowNetwork layer 1 output shape: (None, 128)\u001b[0m\n",
      "\u001b[32m2025-10-30 17:21:51.822\u001b[0m | \u001b[34m\u001b[1mDEBUG   \u001b[0m | \u001b[36mkmr.layers.SlowNetwork\u001b[0m:\u001b[36mcall\u001b[0m:\u001b[36m126\u001b[0m - \u001b[34m\u001b[1mSlowNetwork layer 2 output shape: (None, 128)\u001b[0m\n",
      "\u001b[32m2025-10-30 17:21:51.824\u001b[0m | \u001b[34m\u001b[1mDEBUG   \u001b[0m | \u001b[36mkmr.layers.SlowNetwork\u001b[0m:\u001b[36mcall\u001b[0m:\u001b[36m129\u001b[0m - \u001b[34m\u001b[1mSlowNetwork output shape: (None, 16)\u001b[0m\n",
      "\u001b[32m2025-10-30 17:21:51.824\u001b[0m | \u001b[34m\u001b[1mDEBUG   \u001b[0m | \u001b[36mkmr.models.SFNEBlock\u001b[0m:\u001b[36mcall\u001b[0m:\u001b[36m188\u001b[0m - \u001b[34m\u001b[1mSFNEBlock hyper_kernels shape: (None, 16)\u001b[0m\n",
      "\u001b[32m2025-10-30 17:21:51.824\u001b[0m | \u001b[34m\u001b[1mDEBUG   \u001b[0m | \u001b[36mkmr.layers.HyperZZWOperator\u001b[0m:\u001b[36mcall\u001b[0m:\u001b[36m132\u001b[0m - \u001b[34m\u001b[1mHyperZZWOperator input_tensor shape: (None, 64)\u001b[0m\n",
      "\u001b[32m2025-10-30 17:21:51.824\u001b[0m | \u001b[34m\u001b[1mDEBUG   \u001b[0m | \u001b[36mkmr.layers.HyperZZWOperator\u001b[0m:\u001b[36mcall\u001b[0m:\u001b[36m133\u001b[0m - \u001b[34m\u001b[1mHyperZZWOperator context_tensor shape: (None, 16)\u001b[0m\n",
      "\u001b[32m2025-10-30 17:21:51.826\u001b[0m | \u001b[34m\u001b[1mDEBUG   \u001b[0m | \u001b[36mkmr.layers.HyperZZWOperator\u001b[0m:\u001b[36mcall\u001b[0m:\u001b[36m153\u001b[0m - \u001b[34m\u001b[1mHyperZZWOperator output shape: (None, 64)\u001b[0m\n",
      "\u001b[32m2025-10-30 17:21:51.826\u001b[0m | \u001b[34m\u001b[1mDEBUG   \u001b[0m | \u001b[36mkmr.models.SFNEBlock\u001b[0m:\u001b[36mcall\u001b[0m:\u001b[36m192\u001b[0m - \u001b[34m\u001b[1mSFNEBlock context_weights shape: (None, 64)\u001b[0m\n",
      "\u001b[32m2025-10-30 17:21:51.826\u001b[0m | \u001b[34m\u001b[1mDEBUG   \u001b[0m | \u001b[36mkmr.models.SFNEBlock\u001b[0m:\u001b[36mcall\u001b[0m:\u001b[36m196\u001b[0m - \u001b[34m\u001b[1mSFNEBlock context_weights_expanded shape: (None, 64, 1)\u001b[0m\n",
      "\u001b[32m2025-10-30 17:21:51.829\u001b[0m | \u001b[34m\u001b[1mDEBUG   \u001b[0m | \u001b[36mkmr.models.SFNEBlock\u001b[0m:\u001b[36mcall\u001b[0m:\u001b[36m202\u001b[0m - \u001b[34m\u001b[1mSFNEBlock global_output shape: (None, 64, 16)\u001b[0m\n",
      "\u001b[32m2025-10-30 17:21:51.834\u001b[0m | \u001b[34m\u001b[1mDEBUG   \u001b[0m | \u001b[36mkmr.models.SFNEBlock\u001b[0m:\u001b[36mcall\u001b[0m:\u001b[36m206\u001b[0m - \u001b[34m\u001b[1mSFNEBlock local_output shape: (None, 64, 16)\u001b[0m\n",
      "\u001b[32m2025-10-30 17:21:51.834\u001b[0m | \u001b[34m\u001b[1mDEBUG   \u001b[0m | \u001b[36mkmr.models.SFNEBlock\u001b[0m:\u001b[36mcall\u001b[0m:\u001b[36m210\u001b[0m - \u001b[34m\u001b[1mSFNEBlock combined_output shape: (None, 64, 32)\u001b[0m\n",
      "\u001b[32m2025-10-30 17:21:51.835\u001b[0m | \u001b[34m\u001b[1mDEBUG   \u001b[0m | \u001b[36mkmr.models.SFNEBlock\u001b[0m:\u001b[36mcall\u001b[0m:\u001b[36m217\u001b[0m - \u001b[34m\u001b[1mSFNEBlock combined_output_flat shape: (None, 2048)\u001b[0m\n",
      "\u001b[32m2025-10-30 17:21:51.837\u001b[0m | \u001b[34m\u001b[1mDEBUG   \u001b[0m | \u001b[36mkmr.models.SFNEBlock\u001b[0m:\u001b[36mcall\u001b[0m:\u001b[36m223\u001b[0m - \u001b[34m\u001b[1mSFNEBlock bottleneck_output shape: (None, 16)\u001b[0m\n",
      "\u001b[32m2025-10-30 17:21:51.839\u001b[0m | \u001b[34m\u001b[1mDEBUG   \u001b[0m | \u001b[36mkmr.models.SFNEBlock\u001b[0m:\u001b[36mcall\u001b[0m:\u001b[36m227\u001b[0m - \u001b[34m\u001b[1mSFNEBlock output_layer output shape: (None, 16)\u001b[0m\n",
      "\u001b[32m2025-10-30 17:21:51.839\u001b[0m | \u001b[34m\u001b[1mDEBUG   \u001b[0m | \u001b[36mkmr.models.TerminatorModel\u001b[0m:\u001b[36mcall\u001b[0m:\u001b[36m227\u001b[0m - \u001b[34m\u001b[1mTerminatorModel SFNEBlock 1 output shape: (None, 16)\u001b[0m\n",
      "\u001b[32m2025-10-30 17:21:51.839\u001b[0m | \u001b[34m\u001b[1mDEBUG   \u001b[0m | \u001b[36mkmr.models.SFNEBlock\u001b[0m:\u001b[36mcall\u001b[0m:\u001b[36m176\u001b[0m - \u001b[34m\u001b[1mSFNEBlock input shape: (None, 16)\u001b[0m\n",
      "\u001b[32m2025-10-30 17:21:51.845\u001b[0m | \u001b[34m\u001b[1mDEBUG   \u001b[0m | \u001b[36mkmr.layers.SlowNetwork\u001b[0m:\u001b[36mcall\u001b[0m:\u001b[36m122\u001b[0m - \u001b[34m\u001b[1mSlowNetwork input shape: (None, 64)\u001b[0m\n",
      "\u001b[32m2025-10-30 17:21:51.846\u001b[0m | \u001b[34m\u001b[1mDEBUG   \u001b[0m | \u001b[36mkmr.layers.SlowNetwork\u001b[0m:\u001b[36mcall\u001b[0m:\u001b[36m126\u001b[0m - \u001b[34m\u001b[1mSlowNetwork layer 0 output shape: (None, 128)\u001b[0m\n",
      "\u001b[32m2025-10-30 17:21:51.848\u001b[0m | \u001b[34m\u001b[1mDEBUG   \u001b[0m | \u001b[36mkmr.layers.SlowNetwork\u001b[0m:\u001b[36mcall\u001b[0m:\u001b[36m126\u001b[0m - \u001b[34m\u001b[1mSlowNetwork layer 1 output shape: (None, 128)\u001b[0m\n",
      "\u001b[32m2025-10-30 17:21:51.850\u001b[0m | \u001b[34m\u001b[1mDEBUG   \u001b[0m | \u001b[36mkmr.layers.SlowNetwork\u001b[0m:\u001b[36mcall\u001b[0m:\u001b[36m126\u001b[0m - \u001b[34m\u001b[1mSlowNetwork layer 2 output shape: (None, 128)\u001b[0m\n",
      "\u001b[32m2025-10-30 17:21:51.851\u001b[0m | \u001b[34m\u001b[1mDEBUG   \u001b[0m | \u001b[36mkmr.layers.SlowNetwork\u001b[0m:\u001b[36mcall\u001b[0m:\u001b[36m129\u001b[0m - \u001b[34m\u001b[1mSlowNetwork output shape: (None, 16)\u001b[0m\n",
      "\u001b[32m2025-10-30 17:21:51.852\u001b[0m | \u001b[34m\u001b[1mDEBUG   \u001b[0m | \u001b[36mkmr.models.SFNEBlock\u001b[0m:\u001b[36mcall\u001b[0m:\u001b[36m188\u001b[0m - \u001b[34m\u001b[1mSFNEBlock hyper_kernels shape: (None, 16)\u001b[0m\n",
      "\u001b[32m2025-10-30 17:21:51.852\u001b[0m | \u001b[34m\u001b[1mDEBUG   \u001b[0m | \u001b[36mkmr.layers.HyperZZWOperator\u001b[0m:\u001b[36mcall\u001b[0m:\u001b[36m132\u001b[0m - \u001b[34m\u001b[1mHyperZZWOperator input_tensor shape: (None, 64)\u001b[0m\n",
      "\u001b[32m2025-10-30 17:21:51.852\u001b[0m | \u001b[34m\u001b[1mDEBUG   \u001b[0m | \u001b[36mkmr.layers.HyperZZWOperator\u001b[0m:\u001b[36mcall\u001b[0m:\u001b[36m133\u001b[0m - \u001b[34m\u001b[1mHyperZZWOperator context_tensor shape: (None, 16)\u001b[0m\n",
      "\u001b[32m2025-10-30 17:21:51.854\u001b[0m | \u001b[34m\u001b[1mDEBUG   \u001b[0m | \u001b[36mkmr.layers.HyperZZWOperator\u001b[0m:\u001b[36mcall\u001b[0m:\u001b[36m153\u001b[0m - \u001b[34m\u001b[1mHyperZZWOperator output shape: (None, 64)\u001b[0m\n",
      "\u001b[32m2025-10-30 17:21:51.854\u001b[0m | \u001b[34m\u001b[1mDEBUG   \u001b[0m | \u001b[36mkmr.models.SFNEBlock\u001b[0m:\u001b[36mcall\u001b[0m:\u001b[36m192\u001b[0m - \u001b[34m\u001b[1mSFNEBlock context_weights shape: (None, 64)\u001b[0m\n",
      "\u001b[32m2025-10-30 17:21:51.855\u001b[0m | \u001b[34m\u001b[1mDEBUG   \u001b[0m | \u001b[36mkmr.models.SFNEBlock\u001b[0m:\u001b[36mcall\u001b[0m:\u001b[36m196\u001b[0m - \u001b[34m\u001b[1mSFNEBlock context_weights_expanded shape: (None, 64, 1)\u001b[0m\n",
      "\u001b[32m2025-10-30 17:21:51.859\u001b[0m | \u001b[34m\u001b[1mDEBUG   \u001b[0m | \u001b[36mkmr.models.SFNEBlock\u001b[0m:\u001b[36mcall\u001b[0m:\u001b[36m202\u001b[0m - \u001b[34m\u001b[1mSFNEBlock global_output shape: (None, 64, 16)\u001b[0m\n",
      "\u001b[32m2025-10-30 17:21:51.862\u001b[0m | \u001b[34m\u001b[1mDEBUG   \u001b[0m | \u001b[36mkmr.models.SFNEBlock\u001b[0m:\u001b[36mcall\u001b[0m:\u001b[36m206\u001b[0m - \u001b[34m\u001b[1mSFNEBlock local_output shape: (None, 64, 16)\u001b[0m\n",
      "\u001b[32m2025-10-30 17:21:51.863\u001b[0m | \u001b[34m\u001b[1mDEBUG   \u001b[0m | \u001b[36mkmr.models.SFNEBlock\u001b[0m:\u001b[36mcall\u001b[0m:\u001b[36m210\u001b[0m - \u001b[34m\u001b[1mSFNEBlock combined_output shape: (None, 64, 32)\u001b[0m\n",
      "\u001b[32m2025-10-30 17:21:51.864\u001b[0m | \u001b[34m\u001b[1mDEBUG   \u001b[0m | \u001b[36mkmr.models.SFNEBlock\u001b[0m:\u001b[36mcall\u001b[0m:\u001b[36m217\u001b[0m - \u001b[34m\u001b[1mSFNEBlock combined_output_flat shape: (None, 2048)\u001b[0m\n",
      "\u001b[32m2025-10-30 17:21:51.866\u001b[0m | \u001b[34m\u001b[1mDEBUG   \u001b[0m | \u001b[36mkmr.models.SFNEBlock\u001b[0m:\u001b[36mcall\u001b[0m:\u001b[36m223\u001b[0m - \u001b[34m\u001b[1mSFNEBlock bottleneck_output shape: (None, 16)\u001b[0m\n",
      "\u001b[32m2025-10-30 17:21:51.868\u001b[0m | \u001b[34m\u001b[1mDEBUG   \u001b[0m | \u001b[36mkmr.models.SFNEBlock\u001b[0m:\u001b[36mcall\u001b[0m:\u001b[36m227\u001b[0m - \u001b[34m\u001b[1mSFNEBlock output_layer output shape: (None, 16)\u001b[0m\n",
      "\u001b[32m2025-10-30 17:21:51.868\u001b[0m | \u001b[34m\u001b[1mDEBUG   \u001b[0m | \u001b[36mkmr.models.TerminatorModel\u001b[0m:\u001b[36mcall\u001b[0m:\u001b[36m227\u001b[0m - \u001b[34m\u001b[1mTerminatorModel SFNEBlock 2 output shape: (None, 16)\u001b[0m\n",
      "\u001b[32m2025-10-30 17:21:51.870\u001b[0m | \u001b[34m\u001b[1mDEBUG   \u001b[0m | \u001b[36mkmr.models.TerminatorModel\u001b[0m:\u001b[36mcall\u001b[0m:\u001b[36m234\u001b[0m - \u001b[34m\u001b[1mTerminatorModel output_layer output shape: (None, 1)\u001b[0m\n"
     ]
    },
    {
     "name": "stdout",
     "output_type": "stream",
     "text": [
      "\u001b[1m44/44\u001b[0m \u001b[32m━━━━━━━━━━━━━━━━━━━━\u001b[0m\u001b[37m\u001b[0m \u001b[1m4s\u001b[0m 10ms/step - loss: 0.0453 - mean_absolute_error: 0.1729 - val_loss: 0.0208 - val_mean_absolute_error: 0.1165 - learning_rate: 0.0010\n",
      "Epoch 2/30\n",
      "\u001b[1m44/44\u001b[0m \u001b[32m━━━━━━━━━━━━━━━━━━━━\u001b[0m\u001b[37m\u001b[0m \u001b[1m0s\u001b[0m 5ms/step - loss: 0.0145 - mean_absolute_error: 0.0965 - val_loss: 0.0141 - val_mean_absolute_error: 0.0944 - learning_rate: 0.0010\n",
      "Epoch 3/30\n",
      "\u001b[1m44/44\u001b[0m \u001b[32m━━━━━━━━━━━━━━━━━━━━\u001b[0m\u001b[37m\u001b[0m \u001b[1m0s\u001b[0m 5ms/step - loss: 0.0110 - mean_absolute_error: 0.0836 - val_loss: 0.0112 - val_mean_absolute_error: 0.0834 - learning_rate: 0.0010\n",
      "Epoch 4/30\n",
      "\u001b[1m44/44\u001b[0m \u001b[32m━━━━━━━━━━━━━━━━━━━━\u001b[0m\u001b[37m\u001b[0m \u001b[1m0s\u001b[0m 5ms/step - loss: 0.0082 - mean_absolute_error: 0.0723 - val_loss: 0.0092 - val_mean_absolute_error: 0.0752 - learning_rate: 0.0010\n",
      "Epoch 5/30\n",
      "\u001b[1m44/44\u001b[0m \u001b[32m━━━━━━━━━━━━━━━━━━━━\u001b[0m\u001b[37m\u001b[0m \u001b[1m0s\u001b[0m 5ms/step - loss: 0.0064 - mean_absolute_error: 0.0638 - val_loss: 0.0079 - val_mean_absolute_error: 0.0697 - learning_rate: 0.0010\n",
      "Epoch 6/30\n",
      "\u001b[1m44/44\u001b[0m \u001b[32m━━━━━━━━━━━━━━━━━━━━\u001b[0m\u001b[37m\u001b[0m \u001b[1m0s\u001b[0m 5ms/step - loss: 0.0056 - mean_absolute_error: 0.0597 - val_loss: 0.0070 - val_mean_absolute_error: 0.0655 - learning_rate: 0.0010\n",
      "Epoch 7/30\n",
      "\u001b[1m44/44\u001b[0m \u001b[32m━━━━━━━━━━━━━━━━━━━━\u001b[0m\u001b[37m\u001b[0m \u001b[1m0s\u001b[0m 5ms/step - loss: 0.0045 - mean_absolute_error: 0.0529 - val_loss: 0.0065 - val_mean_absolute_error: 0.0634 - learning_rate: 0.0010\n",
      "Epoch 8/30\n",
      "\u001b[1m44/44\u001b[0m \u001b[32m━━━━━━━━━━━━━━━━━━━━\u001b[0m\u001b[37m\u001b[0m \u001b[1m0s\u001b[0m 5ms/step - loss: 0.0042 - mean_absolute_error: 0.0514 - val_loss: 0.0060 - val_mean_absolute_error: 0.0603 - learning_rate: 0.0010\n",
      "Epoch 9/30\n",
      "\u001b[1m44/44\u001b[0m \u001b[32m━━━━━━━━━━━━━━━━━━━━\u001b[0m\u001b[37m\u001b[0m \u001b[1m0s\u001b[0m 5ms/step - loss: 0.0040 - mean_absolute_error: 0.0501 - val_loss: 0.0056 - val_mean_absolute_error: 0.0595 - learning_rate: 0.0010\n",
      "Epoch 10/30\n",
      "\u001b[1m44/44\u001b[0m \u001b[32m━━━━━━━━━━━━━━━━━━━━\u001b[0m\u001b[37m\u001b[0m \u001b[1m0s\u001b[0m 4ms/step - loss: 0.0036 - mean_absolute_error: 0.0471 - val_loss: 0.0054 - val_mean_absolute_error: 0.0575 - learning_rate: 0.0010\n",
      "Epoch 11/30\n",
      "\u001b[1m44/44\u001b[0m \u001b[32m━━━━━━━━━━━━━━━━━━━━\u001b[0m\u001b[37m\u001b[0m \u001b[1m0s\u001b[0m 4ms/step - loss: 0.0031 - mean_absolute_error: 0.0431 - val_loss: 0.0056 - val_mean_absolute_error: 0.0604 - learning_rate: 0.0010\n",
      "Epoch 12/30\n",
      "\u001b[1m44/44\u001b[0m \u001b[32m━━━━━━━━━━━━━━━━━━━━\u001b[0m\u001b[37m\u001b[0m \u001b[1m0s\u001b[0m 4ms/step - loss: 0.0031 - mean_absolute_error: 0.0443 - val_loss: 0.0048 - val_mean_absolute_error: 0.0554 - learning_rate: 0.0010\n",
      "Epoch 13/30\n",
      "\u001b[1m44/44\u001b[0m \u001b[32m━━━━━━━━━━━━━━━━━━━━\u001b[0m\u001b[37m\u001b[0m \u001b[1m0s\u001b[0m 4ms/step - loss: 0.0027 - mean_absolute_error: 0.0418 - val_loss: 0.0048 - val_mean_absolute_error: 0.0537 - learning_rate: 0.0010\n",
      "Epoch 14/30\n",
      "\u001b[1m44/44\u001b[0m \u001b[32m━━━━━━━━━━━━━━━━━━━━\u001b[0m\u001b[37m\u001b[0m \u001b[1m0s\u001b[0m 4ms/step - loss: 0.0023 - mean_absolute_error: 0.0389 - val_loss: 0.0046 - val_mean_absolute_error: 0.0536 - learning_rate: 0.0010\n",
      "Epoch 15/30\n",
      "\u001b[1m44/44\u001b[0m \u001b[32m━━━━━━━━━━━━━━━━━━━━\u001b[0m\u001b[37m\u001b[0m \u001b[1m0s\u001b[0m 4ms/step - loss: 0.0023 - mean_absolute_error: 0.0376 - val_loss: 0.0044 - val_mean_absolute_error: 0.0512 - learning_rate: 0.0010\n",
      "Epoch 16/30\n",
      "\u001b[1m44/44\u001b[0m \u001b[32m━━━━━━━━━━━━━━━━━━━━\u001b[0m\u001b[37m\u001b[0m \u001b[1m0s\u001b[0m 4ms/step - loss: 0.0022 - mean_absolute_error: 0.0373 - val_loss: 0.0045 - val_mean_absolute_error: 0.0528 - learning_rate: 0.0010\n",
      "Epoch 17/30\n",
      "\u001b[1m44/44\u001b[0m \u001b[32m━━━━━━━━━━━━━━━━━━━━\u001b[0m\u001b[37m\u001b[0m \u001b[1m0s\u001b[0m 4ms/step - loss: 0.0018 - mean_absolute_error: 0.0336 - val_loss: 0.0047 - val_mean_absolute_error: 0.0546 - learning_rate: 0.0010\n",
      "Epoch 18/30\n",
      "\u001b[1m44/44\u001b[0m \u001b[32m━━━━━━━━━━━━━━━━━━━━\u001b[0m\u001b[37m\u001b[0m \u001b[1m0s\u001b[0m 4ms/step - loss: 0.0017 - mean_absolute_error: 0.0326 - val_loss: 0.0043 - val_mean_absolute_error: 0.0510 - learning_rate: 0.0010\n",
      "Epoch 19/30\n",
      "\u001b[1m44/44\u001b[0m \u001b[32m━━━━━━━━━━━━━━━━━━━━\u001b[0m\u001b[37m\u001b[0m \u001b[1m0s\u001b[0m 4ms/step - loss: 0.0017 - mean_absolute_error: 0.0327 - val_loss: 0.0043 - val_mean_absolute_error: 0.0509 - learning_rate: 0.0010\n",
      "Epoch 20/30\n",
      "\u001b[1m44/44\u001b[0m \u001b[32m━━━━━━━━━━━━━━━━━━━━\u001b[0m\u001b[37m\u001b[0m \u001b[1m0s\u001b[0m 4ms/step - loss: 0.0014 - mean_absolute_error: 0.0298 - val_loss: 0.0046 - val_mean_absolute_error: 0.0506 - learning_rate: 0.0010\n",
      "Epoch 21/30\n",
      "\u001b[1m44/44\u001b[0m \u001b[32m━━━━━━━━━━━━━━━━━━━━\u001b[0m\u001b[37m\u001b[0m \u001b[1m0s\u001b[0m 4ms/step - loss: 0.0017 - mean_absolute_error: 0.0324 - val_loss: 0.0042 - val_mean_absolute_error: 0.0499 - learning_rate: 0.0010\n",
      "Epoch 22/30\n",
      "\u001b[1m44/44\u001b[0m \u001b[32m━━━━━━━━━━━━━━━━━━━━\u001b[0m\u001b[37m\u001b[0m \u001b[1m0s\u001b[0m 4ms/step - loss: 0.0012 - mean_absolute_error: 0.0273 - val_loss: 0.0043 - val_mean_absolute_error: 0.0511 - learning_rate: 0.0010\n",
      "Epoch 23/30\n",
      "\u001b[1m44/44\u001b[0m \u001b[32m━━━━━━━━━━━━━━━━━━━━\u001b[0m\u001b[37m\u001b[0m \u001b[1m0s\u001b[0m 4ms/step - loss: 0.0010 - mean_absolute_error: 0.0253 - val_loss: 0.0043 - val_mean_absolute_error: 0.0492 - learning_rate: 0.0010\n",
      "Epoch 24/30\n",
      "\u001b[1m44/44\u001b[0m \u001b[32m━━━━━━━━━━━━━━━━━━━━\u001b[0m\u001b[37m\u001b[0m \u001b[1m0s\u001b[0m 4ms/step - loss: 0.0010 - mean_absolute_error: 0.0248 - val_loss: 0.0042 - val_mean_absolute_error: 0.0496 - learning_rate: 0.0010\n",
      "Epoch 25/30\n",
      "\u001b[1m44/44\u001b[0m \u001b[32m━━━━━━━━━━━━━━━━━━━━\u001b[0m\u001b[37m\u001b[0m \u001b[1m0s\u001b[0m 4ms/step - loss: 9.5717e-04 - mean_absolute_error: 0.0237 - val_loss: 0.0042 - val_mean_absolute_error: 0.0499 - learning_rate: 5.0000e-04\n",
      "Epoch 26/30\n",
      "\u001b[1m44/44\u001b[0m \u001b[32m━━━━━━━━━━━━━━━━━━━━\u001b[0m\u001b[37m\u001b[0m \u001b[1m0s\u001b[0m 4ms/step - loss: 7.7932e-04 - mean_absolute_error: 0.0215 - val_loss: 0.0043 - val_mean_absolute_error: 0.0511 - learning_rate: 5.0000e-04\n",
      "✅ Training completed!\n",
      "Validation - Loss: 0.0042, MAE: 0.0499\n"
     ]
    },
    {
     "name": "stderr",
     "output_type": "stream",
     "text": [
      "\u001b[32m2025-10-30 17:21:57.127\u001b[0m | \u001b[34m\u001b[1mDEBUG   \u001b[0m | \u001b[36mkmr.models.TerminatorModel\u001b[0m:\u001b[36mcall\u001b[0m:\u001b[36m205\u001b[0m - \u001b[34m\u001b[1mTerminatorModel input shape: (32, 16), context shape: (32, 8)\u001b[0m\n",
      "\u001b[32m2025-10-30 17:21:57.129\u001b[0m | \u001b[34m\u001b[1mDEBUG   \u001b[0m | \u001b[36mkmr.models.TerminatorModel\u001b[0m:\u001b[36mcall\u001b[0m:\u001b[36m211\u001b[0m - \u001b[34m\u001b[1mTerminatorModel input_layer output shape: (32, 16)\u001b[0m\n",
      "\u001b[32m2025-10-30 17:21:57.130\u001b[0m | \u001b[34m\u001b[1mDEBUG   \u001b[0m | \u001b[36mkmr.layers.SlowNetwork\u001b[0m:\u001b[36mcall\u001b[0m:\u001b[36m122\u001b[0m - \u001b[34m\u001b[1mSlowNetwork input shape: (32, 8)\u001b[0m\n",
      "\u001b[32m2025-10-30 17:21:57.132\u001b[0m | \u001b[34m\u001b[1mDEBUG   \u001b[0m | \u001b[36mkmr.layers.SlowNetwork\u001b[0m:\u001b[36mcall\u001b[0m:\u001b[36m126\u001b[0m - \u001b[34m\u001b[1mSlowNetwork layer 0 output shape: (32, 128)\u001b[0m\n",
      "\u001b[32m2025-10-30 17:21:57.134\u001b[0m | \u001b[34m\u001b[1mDEBUG   \u001b[0m | \u001b[36mkmr.layers.SlowNetwork\u001b[0m:\u001b[36mcall\u001b[0m:\u001b[36m126\u001b[0m - \u001b[34m\u001b[1mSlowNetwork layer 1 output shape: (32, 128)\u001b[0m\n",
      "\u001b[32m2025-10-30 17:21:57.135\u001b[0m | \u001b[34m\u001b[1mDEBUG   \u001b[0m | \u001b[36mkmr.layers.SlowNetwork\u001b[0m:\u001b[36mcall\u001b[0m:\u001b[36m126\u001b[0m - \u001b[34m\u001b[1mSlowNetwork layer 2 output shape: (32, 128)\u001b[0m\n",
      "\u001b[32m2025-10-30 17:21:57.137\u001b[0m | \u001b[34m\u001b[1mDEBUG   \u001b[0m | \u001b[36mkmr.layers.SlowNetwork\u001b[0m:\u001b[36mcall\u001b[0m:\u001b[36m129\u001b[0m - \u001b[34m\u001b[1mSlowNetwork output shape: (32, 8)\u001b[0m\n",
      "\u001b[32m2025-10-30 17:21:57.137\u001b[0m | \u001b[34m\u001b[1mDEBUG   \u001b[0m | \u001b[36mkmr.models.TerminatorModel\u001b[0m:\u001b[36mcall\u001b[0m:\u001b[36m215\u001b[0m - \u001b[34m\u001b[1mTerminatorModel hyper_kernels shape: (32, 8)\u001b[0m\n",
      "\u001b[32m2025-10-30 17:21:57.137\u001b[0m | \u001b[34m\u001b[1mDEBUG   \u001b[0m | \u001b[36mkmr.layers.HyperZZWOperator\u001b[0m:\u001b[36mcall\u001b[0m:\u001b[36m132\u001b[0m - \u001b[34m\u001b[1mHyperZZWOperator input_tensor shape: (32, 16)\u001b[0m\n",
      "\u001b[32m2025-10-30 17:21:57.137\u001b[0m | \u001b[34m\u001b[1mDEBUG   \u001b[0m | \u001b[36mkmr.layers.HyperZZWOperator\u001b[0m:\u001b[36mcall\u001b[0m:\u001b[36m133\u001b[0m - \u001b[34m\u001b[1mHyperZZWOperator context_tensor shape: (32, 8)\u001b[0m\n",
      "\u001b[32m2025-10-30 17:21:57.138\u001b[0m | \u001b[34m\u001b[1mDEBUG   \u001b[0m | \u001b[36mkmr.layers.HyperZZWOperator\u001b[0m:\u001b[36mcall\u001b[0m:\u001b[36m153\u001b[0m - \u001b[34m\u001b[1mHyperZZWOperator output shape: (32, 16)\u001b[0m\n",
      "\u001b[32m2025-10-30 17:21:57.139\u001b[0m | \u001b[34m\u001b[1mDEBUG   \u001b[0m | \u001b[36mkmr.models.TerminatorModel\u001b[0m:\u001b[36mcall\u001b[0m:\u001b[36m219\u001b[0m - \u001b[34m\u001b[1mTerminatorModel context_weights shape: (32, 16)\u001b[0m\n",
      "\u001b[32m2025-10-30 17:21:57.140\u001b[0m | \u001b[34m\u001b[1mDEBUG   \u001b[0m | \u001b[36mkmr.models.SFNEBlock\u001b[0m:\u001b[36mcall\u001b[0m:\u001b[36m176\u001b[0m - \u001b[34m\u001b[1mSFNEBlock input shape: (32, 16)\u001b[0m\n",
      "\u001b[32m2025-10-30 17:21:57.144\u001b[0m | \u001b[34m\u001b[1mDEBUG   \u001b[0m | \u001b[36mkmr.layers.SlowNetwork\u001b[0m:\u001b[36mcall\u001b[0m:\u001b[36m122\u001b[0m - \u001b[34m\u001b[1mSlowNetwork input shape: (32, 64)\u001b[0m\n",
      "\u001b[32m2025-10-30 17:21:57.146\u001b[0m | \u001b[34m\u001b[1mDEBUG   \u001b[0m | \u001b[36mkmr.layers.SlowNetwork\u001b[0m:\u001b[36mcall\u001b[0m:\u001b[36m126\u001b[0m - \u001b[34m\u001b[1mSlowNetwork layer 0 output shape: (32, 128)\u001b[0m\n",
      "\u001b[32m2025-10-30 17:21:57.148\u001b[0m | \u001b[34m\u001b[1mDEBUG   \u001b[0m | \u001b[36mkmr.layers.SlowNetwork\u001b[0m:\u001b[36mcall\u001b[0m:\u001b[36m126\u001b[0m - \u001b[34m\u001b[1mSlowNetwork layer 1 output shape: (32, 128)\u001b[0m\n",
      "\u001b[32m2025-10-30 17:21:57.150\u001b[0m | \u001b[34m\u001b[1mDEBUG   \u001b[0m | \u001b[36mkmr.layers.SlowNetwork\u001b[0m:\u001b[36mcall\u001b[0m:\u001b[36m126\u001b[0m - \u001b[34m\u001b[1mSlowNetwork layer 2 output shape: (32, 128)\u001b[0m\n",
      "\u001b[32m2025-10-30 17:21:57.151\u001b[0m | \u001b[34m\u001b[1mDEBUG   \u001b[0m | \u001b[36mkmr.layers.SlowNetwork\u001b[0m:\u001b[36mcall\u001b[0m:\u001b[36m129\u001b[0m - \u001b[34m\u001b[1mSlowNetwork output shape: (32, 16)\u001b[0m\n",
      "\u001b[32m2025-10-30 17:21:57.151\u001b[0m | \u001b[34m\u001b[1mDEBUG   \u001b[0m | \u001b[36mkmr.models.SFNEBlock\u001b[0m:\u001b[36mcall\u001b[0m:\u001b[36m188\u001b[0m - \u001b[34m\u001b[1mSFNEBlock hyper_kernels shape: (32, 16)\u001b[0m\n",
      "\u001b[32m2025-10-30 17:21:57.151\u001b[0m | \u001b[34m\u001b[1mDEBUG   \u001b[0m | \u001b[36mkmr.layers.HyperZZWOperator\u001b[0m:\u001b[36mcall\u001b[0m:\u001b[36m132\u001b[0m - \u001b[34m\u001b[1mHyperZZWOperator input_tensor shape: (32, 64)\u001b[0m\n",
      "\u001b[32m2025-10-30 17:21:57.152\u001b[0m | \u001b[34m\u001b[1mDEBUG   \u001b[0m | \u001b[36mkmr.layers.HyperZZWOperator\u001b[0m:\u001b[36mcall\u001b[0m:\u001b[36m133\u001b[0m - \u001b[34m\u001b[1mHyperZZWOperator context_tensor shape: (32, 16)\u001b[0m\n",
      "\u001b[32m2025-10-30 17:21:57.153\u001b[0m | \u001b[34m\u001b[1mDEBUG   \u001b[0m | \u001b[36mkmr.layers.HyperZZWOperator\u001b[0m:\u001b[36mcall\u001b[0m:\u001b[36m153\u001b[0m - \u001b[34m\u001b[1mHyperZZWOperator output shape: (32, 64)\u001b[0m\n",
      "\u001b[32m2025-10-30 17:21:57.153\u001b[0m | \u001b[34m\u001b[1mDEBUG   \u001b[0m | \u001b[36mkmr.models.SFNEBlock\u001b[0m:\u001b[36mcall\u001b[0m:\u001b[36m192\u001b[0m - \u001b[34m\u001b[1mSFNEBlock context_weights shape: (32, 64)\u001b[0m\n",
      "\u001b[32m2025-10-30 17:21:57.153\u001b[0m | \u001b[34m\u001b[1mDEBUG   \u001b[0m | \u001b[36mkmr.models.SFNEBlock\u001b[0m:\u001b[36mcall\u001b[0m:\u001b[36m196\u001b[0m - \u001b[34m\u001b[1mSFNEBlock context_weights_expanded shape: (32, 64, 1)\u001b[0m\n"
     ]
    },
    {
     "name": "stdout",
     "output_type": "stream",
     "text": [
      "Test - Loss: 0.0044, MAE: 0.0515\n"
     ]
    },
    {
     "name": "stderr",
     "output_type": "stream",
     "text": [
      "\u001b[32m2025-10-30 17:21:57.157\u001b[0m | \u001b[34m\u001b[1mDEBUG   \u001b[0m | \u001b[36mkmr.models.SFNEBlock\u001b[0m:\u001b[36mcall\u001b[0m:\u001b[36m202\u001b[0m - \u001b[34m\u001b[1mSFNEBlock global_output shape: (32, 64, 16)\u001b[0m\n",
      "\u001b[32m2025-10-30 17:21:57.160\u001b[0m | \u001b[34m\u001b[1mDEBUG   \u001b[0m | \u001b[36mkmr.models.SFNEBlock\u001b[0m:\u001b[36mcall\u001b[0m:\u001b[36m206\u001b[0m - \u001b[34m\u001b[1mSFNEBlock local_output shape: (32, 64, 16)\u001b[0m\n",
      "\u001b[32m2025-10-30 17:21:57.160\u001b[0m | \u001b[34m\u001b[1mDEBUG   \u001b[0m | \u001b[36mkmr.models.SFNEBlock\u001b[0m:\u001b[36mcall\u001b[0m:\u001b[36m210\u001b[0m - \u001b[34m\u001b[1mSFNEBlock combined_output shape: (32, 64, 32)\u001b[0m\n",
      "\u001b[32m2025-10-30 17:21:57.161\u001b[0m | \u001b[34m\u001b[1mDEBUG   \u001b[0m | \u001b[36mkmr.models.SFNEBlock\u001b[0m:\u001b[36mcall\u001b[0m:\u001b[36m217\u001b[0m - \u001b[34m\u001b[1mSFNEBlock combined_output_flat shape: (32, 2048)\u001b[0m\n",
      "\u001b[32m2025-10-30 17:21:57.162\u001b[0m | \u001b[34m\u001b[1mDEBUG   \u001b[0m | \u001b[36mkmr.models.SFNEBlock\u001b[0m:\u001b[36mcall\u001b[0m:\u001b[36m223\u001b[0m - \u001b[34m\u001b[1mSFNEBlock bottleneck_output shape: (32, 16)\u001b[0m\n",
      "\u001b[32m2025-10-30 17:21:57.164\u001b[0m | \u001b[34m\u001b[1mDEBUG   \u001b[0m | \u001b[36mkmr.models.SFNEBlock\u001b[0m:\u001b[36mcall\u001b[0m:\u001b[36m227\u001b[0m - \u001b[34m\u001b[1mSFNEBlock output_layer output shape: (32, 16)\u001b[0m\n",
      "\u001b[32m2025-10-30 17:21:57.164\u001b[0m | \u001b[34m\u001b[1mDEBUG   \u001b[0m | \u001b[36mkmr.models.TerminatorModel\u001b[0m:\u001b[36mcall\u001b[0m:\u001b[36m227\u001b[0m - \u001b[34m\u001b[1mTerminatorModel SFNEBlock 0 output shape: (32, 16)\u001b[0m\n",
      "\u001b[32m2025-10-30 17:21:57.164\u001b[0m | \u001b[34m\u001b[1mDEBUG   \u001b[0m | \u001b[36mkmr.models.SFNEBlock\u001b[0m:\u001b[36mcall\u001b[0m:\u001b[36m176\u001b[0m - \u001b[34m\u001b[1mSFNEBlock input shape: (32, 16)\u001b[0m\n",
      "\u001b[32m2025-10-30 17:21:57.168\u001b[0m | \u001b[34m\u001b[1mDEBUG   \u001b[0m | \u001b[36mkmr.layers.SlowNetwork\u001b[0m:\u001b[36mcall\u001b[0m:\u001b[36m122\u001b[0m - \u001b[34m\u001b[1mSlowNetwork input shape: (32, 64)\u001b[0m\n",
      "\u001b[32m2025-10-30 17:21:57.170\u001b[0m | \u001b[34m\u001b[1mDEBUG   \u001b[0m | \u001b[36mkmr.layers.SlowNetwork\u001b[0m:\u001b[36mcall\u001b[0m:\u001b[36m126\u001b[0m - \u001b[34m\u001b[1mSlowNetwork layer 0 output shape: (32, 128)\u001b[0m\n",
      "\u001b[32m2025-10-30 17:21:57.171\u001b[0m | \u001b[34m\u001b[1mDEBUG   \u001b[0m | \u001b[36mkmr.layers.SlowNetwork\u001b[0m:\u001b[36mcall\u001b[0m:\u001b[36m126\u001b[0m - \u001b[34m\u001b[1mSlowNetwork layer 1 output shape: (32, 128)\u001b[0m\n",
      "\u001b[32m2025-10-30 17:21:57.173\u001b[0m | \u001b[34m\u001b[1mDEBUG   \u001b[0m | \u001b[36mkmr.layers.SlowNetwork\u001b[0m:\u001b[36mcall\u001b[0m:\u001b[36m126\u001b[0m - \u001b[34m\u001b[1mSlowNetwork layer 2 output shape: (32, 128)\u001b[0m\n",
      "\u001b[32m2025-10-30 17:21:57.174\u001b[0m | \u001b[34m\u001b[1mDEBUG   \u001b[0m | \u001b[36mkmr.layers.SlowNetwork\u001b[0m:\u001b[36mcall\u001b[0m:\u001b[36m129\u001b[0m - \u001b[34m\u001b[1mSlowNetwork output shape: (32, 16)\u001b[0m\n",
      "\u001b[32m2025-10-30 17:21:57.174\u001b[0m | \u001b[34m\u001b[1mDEBUG   \u001b[0m | \u001b[36mkmr.models.SFNEBlock\u001b[0m:\u001b[36mcall\u001b[0m:\u001b[36m188\u001b[0m - \u001b[34m\u001b[1mSFNEBlock hyper_kernels shape: (32, 16)\u001b[0m\n",
      "\u001b[32m2025-10-30 17:21:57.174\u001b[0m | \u001b[34m\u001b[1mDEBUG   \u001b[0m | \u001b[36mkmr.layers.HyperZZWOperator\u001b[0m:\u001b[36mcall\u001b[0m:\u001b[36m132\u001b[0m - \u001b[34m\u001b[1mHyperZZWOperator input_tensor shape: (32, 64)\u001b[0m\n",
      "\u001b[32m2025-10-30 17:21:57.174\u001b[0m | \u001b[34m\u001b[1mDEBUG   \u001b[0m | \u001b[36mkmr.layers.HyperZZWOperator\u001b[0m:\u001b[36mcall\u001b[0m:\u001b[36m133\u001b[0m - \u001b[34m\u001b[1mHyperZZWOperator context_tensor shape: (32, 16)\u001b[0m\n",
      "\u001b[32m2025-10-30 17:21:57.175\u001b[0m | \u001b[34m\u001b[1mDEBUG   \u001b[0m | \u001b[36mkmr.layers.HyperZZWOperator\u001b[0m:\u001b[36mcall\u001b[0m:\u001b[36m153\u001b[0m - \u001b[34m\u001b[1mHyperZZWOperator output shape: (32, 64)\u001b[0m\n",
      "\u001b[32m2025-10-30 17:21:57.175\u001b[0m | \u001b[34m\u001b[1mDEBUG   \u001b[0m | \u001b[36mkmr.models.SFNEBlock\u001b[0m:\u001b[36mcall\u001b[0m:\u001b[36m192\u001b[0m - \u001b[34m\u001b[1mSFNEBlock context_weights shape: (32, 64)\u001b[0m\n",
      "\u001b[32m2025-10-30 17:21:57.176\u001b[0m | \u001b[34m\u001b[1mDEBUG   \u001b[0m | \u001b[36mkmr.models.SFNEBlock\u001b[0m:\u001b[36mcall\u001b[0m:\u001b[36m196\u001b[0m - \u001b[34m\u001b[1mSFNEBlock context_weights_expanded shape: (32, 64, 1)\u001b[0m\n",
      "\u001b[32m2025-10-30 17:21:57.179\u001b[0m | \u001b[34m\u001b[1mDEBUG   \u001b[0m | \u001b[36mkmr.models.SFNEBlock\u001b[0m:\u001b[36mcall\u001b[0m:\u001b[36m202\u001b[0m - \u001b[34m\u001b[1mSFNEBlock global_output shape: (32, 64, 16)\u001b[0m\n",
      "\u001b[32m2025-10-30 17:21:57.182\u001b[0m | \u001b[34m\u001b[1mDEBUG   \u001b[0m | \u001b[36mkmr.models.SFNEBlock\u001b[0m:\u001b[36mcall\u001b[0m:\u001b[36m206\u001b[0m - \u001b[34m\u001b[1mSFNEBlock local_output shape: (32, 64, 16)\u001b[0m\n",
      "\u001b[32m2025-10-30 17:21:57.182\u001b[0m | \u001b[34m\u001b[1mDEBUG   \u001b[0m | \u001b[36mkmr.models.SFNEBlock\u001b[0m:\u001b[36mcall\u001b[0m:\u001b[36m210\u001b[0m - \u001b[34m\u001b[1mSFNEBlock combined_output shape: (32, 64, 32)\u001b[0m\n",
      "\u001b[32m2025-10-30 17:21:57.183\u001b[0m | \u001b[34m\u001b[1mDEBUG   \u001b[0m | \u001b[36mkmr.models.SFNEBlock\u001b[0m:\u001b[36mcall\u001b[0m:\u001b[36m217\u001b[0m - \u001b[34m\u001b[1mSFNEBlock combined_output_flat shape: (32, 2048)\u001b[0m\n",
      "\u001b[32m2025-10-30 17:21:57.184\u001b[0m | \u001b[34m\u001b[1mDEBUG   \u001b[0m | \u001b[36mkmr.models.SFNEBlock\u001b[0m:\u001b[36mcall\u001b[0m:\u001b[36m223\u001b[0m - \u001b[34m\u001b[1mSFNEBlock bottleneck_output shape: (32, 16)\u001b[0m\n",
      "\u001b[32m2025-10-30 17:21:57.186\u001b[0m | \u001b[34m\u001b[1mDEBUG   \u001b[0m | \u001b[36mkmr.models.SFNEBlock\u001b[0m:\u001b[36mcall\u001b[0m:\u001b[36m227\u001b[0m - \u001b[34m\u001b[1mSFNEBlock output_layer output shape: (32, 16)\u001b[0m\n",
      "\u001b[32m2025-10-30 17:21:57.186\u001b[0m | \u001b[34m\u001b[1mDEBUG   \u001b[0m | \u001b[36mkmr.models.TerminatorModel\u001b[0m:\u001b[36mcall\u001b[0m:\u001b[36m227\u001b[0m - \u001b[34m\u001b[1mTerminatorModel SFNEBlock 1 output shape: (32, 16)\u001b[0m\n",
      "\u001b[32m2025-10-30 17:21:57.186\u001b[0m | \u001b[34m\u001b[1mDEBUG   \u001b[0m | \u001b[36mkmr.models.SFNEBlock\u001b[0m:\u001b[36mcall\u001b[0m:\u001b[36m176\u001b[0m - \u001b[34m\u001b[1mSFNEBlock input shape: (32, 16)\u001b[0m\n",
      "\u001b[32m2025-10-30 17:21:57.190\u001b[0m | \u001b[34m\u001b[1mDEBUG   \u001b[0m | \u001b[36mkmr.layers.SlowNetwork\u001b[0m:\u001b[36mcall\u001b[0m:\u001b[36m122\u001b[0m - \u001b[34m\u001b[1mSlowNetwork input shape: (32, 64)\u001b[0m\n",
      "\u001b[32m2025-10-30 17:21:57.192\u001b[0m | \u001b[34m\u001b[1mDEBUG   \u001b[0m | \u001b[36mkmr.layers.SlowNetwork\u001b[0m:\u001b[36mcall\u001b[0m:\u001b[36m126\u001b[0m - \u001b[34m\u001b[1mSlowNetwork layer 0 output shape: (32, 128)\u001b[0m\n",
      "\u001b[32m2025-10-30 17:21:57.193\u001b[0m | \u001b[34m\u001b[1mDEBUG   \u001b[0m | \u001b[36mkmr.layers.SlowNetwork\u001b[0m:\u001b[36mcall\u001b[0m:\u001b[36m126\u001b[0m - \u001b[34m\u001b[1mSlowNetwork layer 1 output shape: (32, 128)\u001b[0m\n",
      "\u001b[32m2025-10-30 17:21:57.195\u001b[0m | \u001b[34m\u001b[1mDEBUG   \u001b[0m | \u001b[36mkmr.layers.SlowNetwork\u001b[0m:\u001b[36mcall\u001b[0m:\u001b[36m126\u001b[0m - \u001b[34m\u001b[1mSlowNetwork layer 2 output shape: (32, 128)\u001b[0m\n",
      "\u001b[32m2025-10-30 17:21:57.196\u001b[0m | \u001b[34m\u001b[1mDEBUG   \u001b[0m | \u001b[36mkmr.layers.SlowNetwork\u001b[0m:\u001b[36mcall\u001b[0m:\u001b[36m129\u001b[0m - \u001b[34m\u001b[1mSlowNetwork output shape: (32, 16)\u001b[0m\n",
      "\u001b[32m2025-10-30 17:21:57.196\u001b[0m | \u001b[34m\u001b[1mDEBUG   \u001b[0m | \u001b[36mkmr.models.SFNEBlock\u001b[0m:\u001b[36mcall\u001b[0m:\u001b[36m188\u001b[0m - \u001b[34m\u001b[1mSFNEBlock hyper_kernels shape: (32, 16)\u001b[0m\n",
      "\u001b[32m2025-10-30 17:21:57.196\u001b[0m | \u001b[34m\u001b[1mDEBUG   \u001b[0m | \u001b[36mkmr.layers.HyperZZWOperator\u001b[0m:\u001b[36mcall\u001b[0m:\u001b[36m132\u001b[0m - \u001b[34m\u001b[1mHyperZZWOperator input_tensor shape: (32, 64)\u001b[0m\n",
      "\u001b[32m2025-10-30 17:21:57.196\u001b[0m | \u001b[34m\u001b[1mDEBUG   \u001b[0m | \u001b[36mkmr.layers.HyperZZWOperator\u001b[0m:\u001b[36mcall\u001b[0m:\u001b[36m133\u001b[0m - \u001b[34m\u001b[1mHyperZZWOperator context_tensor shape: (32, 16)\u001b[0m\n",
      "\u001b[32m2025-10-30 17:21:57.197\u001b[0m | \u001b[34m\u001b[1mDEBUG   \u001b[0m | \u001b[36mkmr.layers.HyperZZWOperator\u001b[0m:\u001b[36mcall\u001b[0m:\u001b[36m153\u001b[0m - \u001b[34m\u001b[1mHyperZZWOperator output shape: (32, 64)\u001b[0m\n",
      "\u001b[32m2025-10-30 17:21:57.197\u001b[0m | \u001b[34m\u001b[1mDEBUG   \u001b[0m | \u001b[36mkmr.models.SFNEBlock\u001b[0m:\u001b[36mcall\u001b[0m:\u001b[36m192\u001b[0m - \u001b[34m\u001b[1mSFNEBlock context_weights shape: (32, 64)\u001b[0m\n",
      "\u001b[32m2025-10-30 17:21:57.198\u001b[0m | \u001b[34m\u001b[1mDEBUG   \u001b[0m | \u001b[36mkmr.models.SFNEBlock\u001b[0m:\u001b[36mcall\u001b[0m:\u001b[36m196\u001b[0m - \u001b[34m\u001b[1mSFNEBlock context_weights_expanded shape: (32, 64, 1)\u001b[0m\n",
      "\u001b[32m2025-10-30 17:21:57.201\u001b[0m | \u001b[34m\u001b[1mDEBUG   \u001b[0m | \u001b[36mkmr.models.SFNEBlock\u001b[0m:\u001b[36mcall\u001b[0m:\u001b[36m202\u001b[0m - \u001b[34m\u001b[1mSFNEBlock global_output shape: (32, 64, 16)\u001b[0m\n",
      "\u001b[32m2025-10-30 17:21:57.205\u001b[0m | \u001b[34m\u001b[1mDEBUG   \u001b[0m | \u001b[36mkmr.models.SFNEBlock\u001b[0m:\u001b[36mcall\u001b[0m:\u001b[36m206\u001b[0m - \u001b[34m\u001b[1mSFNEBlock local_output shape: (32, 64, 16)\u001b[0m\n",
      "\u001b[32m2025-10-30 17:21:57.205\u001b[0m | \u001b[34m\u001b[1mDEBUG   \u001b[0m | \u001b[36mkmr.models.SFNEBlock\u001b[0m:\u001b[36mcall\u001b[0m:\u001b[36m210\u001b[0m - \u001b[34m\u001b[1mSFNEBlock combined_output shape: (32, 64, 32)\u001b[0m\n",
      "\u001b[32m2025-10-30 17:21:57.206\u001b[0m | \u001b[34m\u001b[1mDEBUG   \u001b[0m | \u001b[36mkmr.models.SFNEBlock\u001b[0m:\u001b[36mcall\u001b[0m:\u001b[36m217\u001b[0m - \u001b[34m\u001b[1mSFNEBlock combined_output_flat shape: (32, 2048)\u001b[0m\n",
      "\u001b[32m2025-10-30 17:21:57.208\u001b[0m | \u001b[34m\u001b[1mDEBUG   \u001b[0m | \u001b[36mkmr.models.SFNEBlock\u001b[0m:\u001b[36mcall\u001b[0m:\u001b[36m223\u001b[0m - \u001b[34m\u001b[1mSFNEBlock bottleneck_output shape: (32, 16)\u001b[0m\n",
      "\u001b[32m2025-10-30 17:21:57.209\u001b[0m | \u001b[34m\u001b[1mDEBUG   \u001b[0m | \u001b[36mkmr.models.SFNEBlock\u001b[0m:\u001b[36mcall\u001b[0m:\u001b[36m227\u001b[0m - \u001b[34m\u001b[1mSFNEBlock output_layer output shape: (32, 16)\u001b[0m\n",
      "\u001b[32m2025-10-30 17:21:57.210\u001b[0m | \u001b[34m\u001b[1mDEBUG   \u001b[0m | \u001b[36mkmr.models.TerminatorModel\u001b[0m:\u001b[36mcall\u001b[0m:\u001b[36m227\u001b[0m - \u001b[34m\u001b[1mTerminatorModel SFNEBlock 2 output shape: (32, 16)\u001b[0m\n",
      "\u001b[32m2025-10-30 17:21:57.212\u001b[0m | \u001b[34m\u001b[1mDEBUG   \u001b[0m | \u001b[36mkmr.models.TerminatorModel\u001b[0m:\u001b[36mcall\u001b[0m:\u001b[36m234\u001b[0m - \u001b[34m\u001b[1mTerminatorModel output_layer output shape: (32, 1)\u001b[0m\n",
      "\u001b[32m2025-10-30 17:21:57.280\u001b[0m | \u001b[34m\u001b[1mDEBUG   \u001b[0m | \u001b[36mkmr.models.TerminatorModel\u001b[0m:\u001b[36mcall\u001b[0m:\u001b[36m205\u001b[0m - \u001b[34m\u001b[1mTerminatorModel input shape: (None, 16), context shape: (None, 8)\u001b[0m\n",
      "\u001b[32m2025-10-30 17:21:57.282\u001b[0m | \u001b[34m\u001b[1mDEBUG   \u001b[0m | \u001b[36mkmr.models.TerminatorModel\u001b[0m:\u001b[36mcall\u001b[0m:\u001b[36m211\u001b[0m - \u001b[34m\u001b[1mTerminatorModel input_layer output shape: (None, 16)\u001b[0m\n",
      "\u001b[32m2025-10-30 17:21:57.283\u001b[0m | \u001b[34m\u001b[1mDEBUG   \u001b[0m | \u001b[36mkmr.layers.SlowNetwork\u001b[0m:\u001b[36mcall\u001b[0m:\u001b[36m122\u001b[0m - \u001b[34m\u001b[1mSlowNetwork input shape: (None, 8)\u001b[0m\n",
      "\u001b[32m2025-10-30 17:21:57.284\u001b[0m | \u001b[34m\u001b[1mDEBUG   \u001b[0m | \u001b[36mkmr.layers.SlowNetwork\u001b[0m:\u001b[36mcall\u001b[0m:\u001b[36m126\u001b[0m - \u001b[34m\u001b[1mSlowNetwork layer 0 output shape: (None, 128)\u001b[0m\n",
      "\u001b[32m2025-10-30 17:21:57.286\u001b[0m | \u001b[34m\u001b[1mDEBUG   \u001b[0m | \u001b[36mkmr.layers.SlowNetwork\u001b[0m:\u001b[36mcall\u001b[0m:\u001b[36m126\u001b[0m - \u001b[34m\u001b[1mSlowNetwork layer 1 output shape: (None, 128)\u001b[0m\n",
      "\u001b[32m2025-10-30 17:21:57.287\u001b[0m | \u001b[34m\u001b[1mDEBUG   \u001b[0m | \u001b[36mkmr.layers.SlowNetwork\u001b[0m:\u001b[36mcall\u001b[0m:\u001b[36m126\u001b[0m - \u001b[34m\u001b[1mSlowNetwork layer 2 output shape: (None, 128)\u001b[0m\n",
      "\u001b[32m2025-10-30 17:21:57.289\u001b[0m | \u001b[34m\u001b[1mDEBUG   \u001b[0m | \u001b[36mkmr.layers.SlowNetwork\u001b[0m:\u001b[36mcall\u001b[0m:\u001b[36m129\u001b[0m - \u001b[34m\u001b[1mSlowNetwork output shape: (None, 8)\u001b[0m\n",
      "\u001b[32m2025-10-30 17:21:57.289\u001b[0m | \u001b[34m\u001b[1mDEBUG   \u001b[0m | \u001b[36mkmr.models.TerminatorModel\u001b[0m:\u001b[36mcall\u001b[0m:\u001b[36m215\u001b[0m - \u001b[34m\u001b[1mTerminatorModel hyper_kernels shape: (None, 8)\u001b[0m\n",
      "\u001b[32m2025-10-30 17:21:57.289\u001b[0m | \u001b[34m\u001b[1mDEBUG   \u001b[0m | \u001b[36mkmr.layers.HyperZZWOperator\u001b[0m:\u001b[36mcall\u001b[0m:\u001b[36m132\u001b[0m - \u001b[34m\u001b[1mHyperZZWOperator input_tensor shape: (None, 16)\u001b[0m\n",
      "\u001b[32m2025-10-30 17:21:57.289\u001b[0m | \u001b[34m\u001b[1mDEBUG   \u001b[0m | \u001b[36mkmr.layers.HyperZZWOperator\u001b[0m:\u001b[36mcall\u001b[0m:\u001b[36m133\u001b[0m - \u001b[34m\u001b[1mHyperZZWOperator context_tensor shape: (None, 8)\u001b[0m\n",
      "\u001b[32m2025-10-30 17:21:57.290\u001b[0m | \u001b[34m\u001b[1mDEBUG   \u001b[0m | \u001b[36mkmr.layers.HyperZZWOperator\u001b[0m:\u001b[36mcall\u001b[0m:\u001b[36m153\u001b[0m - \u001b[34m\u001b[1mHyperZZWOperator output shape: (None, 16)\u001b[0m\n",
      "\u001b[32m2025-10-30 17:21:57.290\u001b[0m | \u001b[34m\u001b[1mDEBUG   \u001b[0m | \u001b[36mkmr.models.TerminatorModel\u001b[0m:\u001b[36mcall\u001b[0m:\u001b[36m219\u001b[0m - \u001b[34m\u001b[1mTerminatorModel context_weights shape: (None, 16)\u001b[0m\n",
      "\u001b[32m2025-10-30 17:21:57.292\u001b[0m | \u001b[34m\u001b[1mDEBUG   \u001b[0m | \u001b[36mkmr.models.SFNEBlock\u001b[0m:\u001b[36mcall\u001b[0m:\u001b[36m176\u001b[0m - \u001b[34m\u001b[1mSFNEBlock input shape: (None, 16)\u001b[0m\n",
      "\u001b[32m2025-10-30 17:21:57.297\u001b[0m | \u001b[34m\u001b[1mDEBUG   \u001b[0m | \u001b[36mkmr.layers.SlowNetwork\u001b[0m:\u001b[36mcall\u001b[0m:\u001b[36m122\u001b[0m - \u001b[34m\u001b[1mSlowNetwork input shape: (None, 64)\u001b[0m\n",
      "\u001b[32m2025-10-30 17:21:57.298\u001b[0m | \u001b[34m\u001b[1mDEBUG   \u001b[0m | \u001b[36mkmr.layers.SlowNetwork\u001b[0m:\u001b[36mcall\u001b[0m:\u001b[36m126\u001b[0m - \u001b[34m\u001b[1mSlowNetwork layer 0 output shape: (None, 128)\u001b[0m\n",
      "\u001b[32m2025-10-30 17:21:57.299\u001b[0m | \u001b[34m\u001b[1mDEBUG   \u001b[0m | \u001b[36mkmr.layers.SlowNetwork\u001b[0m:\u001b[36mcall\u001b[0m:\u001b[36m126\u001b[0m - \u001b[34m\u001b[1mSlowNetwork layer 1 output shape: (None, 128)\u001b[0m\n",
      "\u001b[32m2025-10-30 17:21:57.301\u001b[0m | \u001b[34m\u001b[1mDEBUG   \u001b[0m | \u001b[36mkmr.layers.SlowNetwork\u001b[0m:\u001b[36mcall\u001b[0m:\u001b[36m126\u001b[0m - \u001b[34m\u001b[1mSlowNetwork layer 2 output shape: (None, 128)\u001b[0m\n",
      "\u001b[32m2025-10-30 17:21:57.302\u001b[0m | \u001b[34m\u001b[1mDEBUG   \u001b[0m | \u001b[36mkmr.layers.SlowNetwork\u001b[0m:\u001b[36mcall\u001b[0m:\u001b[36m129\u001b[0m - \u001b[34m\u001b[1mSlowNetwork output shape: (None, 16)\u001b[0m\n",
      "\u001b[32m2025-10-30 17:21:57.302\u001b[0m | \u001b[34m\u001b[1mDEBUG   \u001b[0m | \u001b[36mkmr.models.SFNEBlock\u001b[0m:\u001b[36mcall\u001b[0m:\u001b[36m188\u001b[0m - \u001b[34m\u001b[1mSFNEBlock hyper_kernels shape: (None, 16)\u001b[0m\n",
      "\u001b[32m2025-10-30 17:21:57.302\u001b[0m | \u001b[34m\u001b[1mDEBUG   \u001b[0m | \u001b[36mkmr.layers.HyperZZWOperator\u001b[0m:\u001b[36mcall\u001b[0m:\u001b[36m132\u001b[0m - \u001b[34m\u001b[1mHyperZZWOperator input_tensor shape: (None, 64)\u001b[0m\n",
      "\u001b[32m2025-10-30 17:21:57.303\u001b[0m | \u001b[34m\u001b[1mDEBUG   \u001b[0m | \u001b[36mkmr.layers.HyperZZWOperator\u001b[0m:\u001b[36mcall\u001b[0m:\u001b[36m133\u001b[0m - \u001b[34m\u001b[1mHyperZZWOperator context_tensor shape: (None, 16)\u001b[0m\n",
      "\u001b[32m2025-10-30 17:21:57.304\u001b[0m | \u001b[34m\u001b[1mDEBUG   \u001b[0m | \u001b[36mkmr.layers.HyperZZWOperator\u001b[0m:\u001b[36mcall\u001b[0m:\u001b[36m153\u001b[0m - \u001b[34m\u001b[1mHyperZZWOperator output shape: (None, 64)\u001b[0m\n",
      "\u001b[32m2025-10-30 17:21:57.304\u001b[0m | \u001b[34m\u001b[1mDEBUG   \u001b[0m | \u001b[36mkmr.models.SFNEBlock\u001b[0m:\u001b[36mcall\u001b[0m:\u001b[36m192\u001b[0m - \u001b[34m\u001b[1mSFNEBlock context_weights shape: (None, 64)\u001b[0m\n",
      "\u001b[32m2025-10-30 17:21:57.304\u001b[0m | \u001b[34m\u001b[1mDEBUG   \u001b[0m | \u001b[36mkmr.models.SFNEBlock\u001b[0m:\u001b[36mcall\u001b[0m:\u001b[36m196\u001b[0m - \u001b[34m\u001b[1mSFNEBlock context_weights_expanded shape: (None, 64, 1)\u001b[0m\n",
      "\u001b[32m2025-10-30 17:21:57.308\u001b[0m | \u001b[34m\u001b[1mDEBUG   \u001b[0m | \u001b[36mkmr.models.SFNEBlock\u001b[0m:\u001b[36mcall\u001b[0m:\u001b[36m202\u001b[0m - \u001b[34m\u001b[1mSFNEBlock global_output shape: (None, 64, 16)\u001b[0m\n",
      "\u001b[32m2025-10-30 17:21:57.311\u001b[0m | \u001b[34m\u001b[1mDEBUG   \u001b[0m | \u001b[36mkmr.models.SFNEBlock\u001b[0m:\u001b[36mcall\u001b[0m:\u001b[36m206\u001b[0m - \u001b[34m\u001b[1mSFNEBlock local_output shape: (None, 64, 16)\u001b[0m\n",
      "\u001b[32m2025-10-30 17:21:57.311\u001b[0m | \u001b[34m\u001b[1mDEBUG   \u001b[0m | \u001b[36mkmr.models.SFNEBlock\u001b[0m:\u001b[36mcall\u001b[0m:\u001b[36m210\u001b[0m - \u001b[34m\u001b[1mSFNEBlock combined_output shape: (None, 64, 32)\u001b[0m\n",
      "\u001b[32m2025-10-30 17:21:57.311\u001b[0m | \u001b[34m\u001b[1mDEBUG   \u001b[0m | \u001b[36mkmr.models.SFNEBlock\u001b[0m:\u001b[36mcall\u001b[0m:\u001b[36m217\u001b[0m - \u001b[34m\u001b[1mSFNEBlock combined_output_flat shape: (None, 2048)\u001b[0m\n",
      "\u001b[32m2025-10-30 17:21:57.313\u001b[0m | \u001b[34m\u001b[1mDEBUG   \u001b[0m | \u001b[36mkmr.models.SFNEBlock\u001b[0m:\u001b[36mcall\u001b[0m:\u001b[36m223\u001b[0m - \u001b[34m\u001b[1mSFNEBlock bottleneck_output shape: (None, 16)\u001b[0m\n",
      "\u001b[32m2025-10-30 17:21:57.314\u001b[0m | \u001b[34m\u001b[1mDEBUG   \u001b[0m | \u001b[36mkmr.models.SFNEBlock\u001b[0m:\u001b[36mcall\u001b[0m:\u001b[36m227\u001b[0m - \u001b[34m\u001b[1mSFNEBlock output_layer output shape: (None, 16)\u001b[0m\n",
      "\u001b[32m2025-10-30 17:21:57.315\u001b[0m | \u001b[34m\u001b[1mDEBUG   \u001b[0m | \u001b[36mkmr.models.TerminatorModel\u001b[0m:\u001b[36mcall\u001b[0m:\u001b[36m227\u001b[0m - \u001b[34m\u001b[1mTerminatorModel SFNEBlock 0 output shape: (None, 16)\u001b[0m\n",
      "\u001b[32m2025-10-30 17:21:57.315\u001b[0m | \u001b[34m\u001b[1mDEBUG   \u001b[0m | \u001b[36mkmr.models.SFNEBlock\u001b[0m:\u001b[36mcall\u001b[0m:\u001b[36m176\u001b[0m - \u001b[34m\u001b[1mSFNEBlock input shape: (None, 16)\u001b[0m\n",
      "\u001b[32m2025-10-30 17:21:57.323\u001b[0m | \u001b[34m\u001b[1mDEBUG   \u001b[0m | \u001b[36mkmr.layers.SlowNetwork\u001b[0m:\u001b[36mcall\u001b[0m:\u001b[36m122\u001b[0m - \u001b[34m\u001b[1mSlowNetwork input shape: (None, 64)\u001b[0m\n",
      "\u001b[32m2025-10-30 17:21:57.325\u001b[0m | \u001b[34m\u001b[1mDEBUG   \u001b[0m | \u001b[36mkmr.layers.SlowNetwork\u001b[0m:\u001b[36mcall\u001b[0m:\u001b[36m126\u001b[0m - \u001b[34m\u001b[1mSlowNetwork layer 0 output shape: (None, 128)\u001b[0m\n",
      "\u001b[32m2025-10-30 17:21:57.327\u001b[0m | \u001b[34m\u001b[1mDEBUG   \u001b[0m | \u001b[36mkmr.layers.SlowNetwork\u001b[0m:\u001b[36mcall\u001b[0m:\u001b[36m126\u001b[0m - \u001b[34m\u001b[1mSlowNetwork layer 1 output shape: (None, 128)\u001b[0m\n",
      "\u001b[32m2025-10-30 17:21:57.329\u001b[0m | \u001b[34m\u001b[1mDEBUG   \u001b[0m | \u001b[36mkmr.layers.SlowNetwork\u001b[0m:\u001b[36mcall\u001b[0m:\u001b[36m126\u001b[0m - \u001b[34m\u001b[1mSlowNetwork layer 2 output shape: (None, 128)\u001b[0m\n",
      "\u001b[32m2025-10-30 17:21:57.330\u001b[0m | \u001b[34m\u001b[1mDEBUG   \u001b[0m | \u001b[36mkmr.layers.SlowNetwork\u001b[0m:\u001b[36mcall\u001b[0m:\u001b[36m129\u001b[0m - \u001b[34m\u001b[1mSlowNetwork output shape: (None, 16)\u001b[0m\n",
      "\u001b[32m2025-10-30 17:21:57.331\u001b[0m | \u001b[34m\u001b[1mDEBUG   \u001b[0m | \u001b[36mkmr.models.SFNEBlock\u001b[0m:\u001b[36mcall\u001b[0m:\u001b[36m188\u001b[0m - \u001b[34m\u001b[1mSFNEBlock hyper_kernels shape: (None, 16)\u001b[0m\n",
      "\u001b[32m2025-10-30 17:21:57.331\u001b[0m | \u001b[34m\u001b[1mDEBUG   \u001b[0m | \u001b[36mkmr.layers.HyperZZWOperator\u001b[0m:\u001b[36mcall\u001b[0m:\u001b[36m132\u001b[0m - \u001b[34m\u001b[1mHyperZZWOperator input_tensor shape: (None, 64)\u001b[0m\n",
      "\u001b[32m2025-10-30 17:21:57.331\u001b[0m | \u001b[34m\u001b[1mDEBUG   \u001b[0m | \u001b[36mkmr.layers.HyperZZWOperator\u001b[0m:\u001b[36mcall\u001b[0m:\u001b[36m133\u001b[0m - \u001b[34m\u001b[1mHyperZZWOperator context_tensor shape: (None, 16)\u001b[0m\n",
      "\u001b[32m2025-10-30 17:21:57.333\u001b[0m | \u001b[34m\u001b[1mDEBUG   \u001b[0m | \u001b[36mkmr.layers.HyperZZWOperator\u001b[0m:\u001b[36mcall\u001b[0m:\u001b[36m153\u001b[0m - \u001b[34m\u001b[1mHyperZZWOperator output shape: (None, 64)\u001b[0m\n",
      "\u001b[32m2025-10-30 17:21:57.333\u001b[0m | \u001b[34m\u001b[1mDEBUG   \u001b[0m | \u001b[36mkmr.models.SFNEBlock\u001b[0m:\u001b[36mcall\u001b[0m:\u001b[36m192\u001b[0m - \u001b[34m\u001b[1mSFNEBlock context_weights shape: (None, 64)\u001b[0m\n",
      "\u001b[32m2025-10-30 17:21:57.333\u001b[0m | \u001b[34m\u001b[1mDEBUG   \u001b[0m | \u001b[36mkmr.models.SFNEBlock\u001b[0m:\u001b[36mcall\u001b[0m:\u001b[36m196\u001b[0m - \u001b[34m\u001b[1mSFNEBlock context_weights_expanded shape: (None, 64, 1)\u001b[0m\n",
      "\u001b[32m2025-10-30 17:21:57.337\u001b[0m | \u001b[34m\u001b[1mDEBUG   \u001b[0m | \u001b[36mkmr.models.SFNEBlock\u001b[0m:\u001b[36mcall\u001b[0m:\u001b[36m202\u001b[0m - \u001b[34m\u001b[1mSFNEBlock global_output shape: (None, 64, 16)\u001b[0m\n",
      "\u001b[32m2025-10-30 17:21:57.341\u001b[0m | \u001b[34m\u001b[1mDEBUG   \u001b[0m | \u001b[36mkmr.models.SFNEBlock\u001b[0m:\u001b[36mcall\u001b[0m:\u001b[36m206\u001b[0m - \u001b[34m\u001b[1mSFNEBlock local_output shape: (None, 64, 16)\u001b[0m\n",
      "\u001b[32m2025-10-30 17:21:57.341\u001b[0m | \u001b[34m\u001b[1mDEBUG   \u001b[0m | \u001b[36mkmr.models.SFNEBlock\u001b[0m:\u001b[36mcall\u001b[0m:\u001b[36m210\u001b[0m - \u001b[34m\u001b[1mSFNEBlock combined_output shape: (None, 64, 32)\u001b[0m\n",
      "\u001b[32m2025-10-30 17:21:57.342\u001b[0m | \u001b[34m\u001b[1mDEBUG   \u001b[0m | \u001b[36mkmr.models.SFNEBlock\u001b[0m:\u001b[36mcall\u001b[0m:\u001b[36m217\u001b[0m - \u001b[34m\u001b[1mSFNEBlock combined_output_flat shape: (None, 2048)\u001b[0m\n",
      "\u001b[32m2025-10-30 17:21:57.344\u001b[0m | \u001b[34m\u001b[1mDEBUG   \u001b[0m | \u001b[36mkmr.models.SFNEBlock\u001b[0m:\u001b[36mcall\u001b[0m:\u001b[36m223\u001b[0m - \u001b[34m\u001b[1mSFNEBlock bottleneck_output shape: (None, 16)\u001b[0m\n",
      "\u001b[32m2025-10-30 17:21:57.345\u001b[0m | \u001b[34m\u001b[1mDEBUG   \u001b[0m | \u001b[36mkmr.models.SFNEBlock\u001b[0m:\u001b[36mcall\u001b[0m:\u001b[36m227\u001b[0m - \u001b[34m\u001b[1mSFNEBlock output_layer output shape: (None, 16)\u001b[0m\n",
      "\u001b[32m2025-10-30 17:21:57.345\u001b[0m | \u001b[34m\u001b[1mDEBUG   \u001b[0m | \u001b[36mkmr.models.TerminatorModel\u001b[0m:\u001b[36mcall\u001b[0m:\u001b[36m227\u001b[0m - \u001b[34m\u001b[1mTerminatorModel SFNEBlock 1 output shape: (None, 16)\u001b[0m\n",
      "\u001b[32m2025-10-30 17:21:57.346\u001b[0m | \u001b[34m\u001b[1mDEBUG   \u001b[0m | \u001b[36mkmr.models.SFNEBlock\u001b[0m:\u001b[36mcall\u001b[0m:\u001b[36m176\u001b[0m - \u001b[34m\u001b[1mSFNEBlock input shape: (None, 16)\u001b[0m\n",
      "\u001b[32m2025-10-30 17:21:57.351\u001b[0m | \u001b[34m\u001b[1mDEBUG   \u001b[0m | \u001b[36mkmr.layers.SlowNetwork\u001b[0m:\u001b[36mcall\u001b[0m:\u001b[36m122\u001b[0m - \u001b[34m\u001b[1mSlowNetwork input shape: (None, 64)\u001b[0m\n",
      "\u001b[32m2025-10-30 17:21:57.353\u001b[0m | \u001b[34m\u001b[1mDEBUG   \u001b[0m | \u001b[36mkmr.layers.SlowNetwork\u001b[0m:\u001b[36mcall\u001b[0m:\u001b[36m126\u001b[0m - \u001b[34m\u001b[1mSlowNetwork layer 0 output shape: (None, 128)\u001b[0m\n",
      "\u001b[32m2025-10-30 17:21:57.355\u001b[0m | \u001b[34m\u001b[1mDEBUG   \u001b[0m | \u001b[36mkmr.layers.SlowNetwork\u001b[0m:\u001b[36mcall\u001b[0m:\u001b[36m126\u001b[0m - \u001b[34m\u001b[1mSlowNetwork layer 1 output shape: (None, 128)\u001b[0m\n",
      "\u001b[32m2025-10-30 17:21:57.357\u001b[0m | \u001b[34m\u001b[1mDEBUG   \u001b[0m | \u001b[36mkmr.layers.SlowNetwork\u001b[0m:\u001b[36mcall\u001b[0m:\u001b[36m126\u001b[0m - \u001b[34m\u001b[1mSlowNetwork layer 2 output shape: (None, 128)\u001b[0m\n",
      "\u001b[32m2025-10-30 17:21:57.359\u001b[0m | \u001b[34m\u001b[1mDEBUG   \u001b[0m | \u001b[36mkmr.layers.SlowNetwork\u001b[0m:\u001b[36mcall\u001b[0m:\u001b[36m129\u001b[0m - \u001b[34m\u001b[1mSlowNetwork output shape: (None, 16)\u001b[0m\n",
      "\u001b[32m2025-10-30 17:21:57.359\u001b[0m | \u001b[34m\u001b[1mDEBUG   \u001b[0m | \u001b[36mkmr.models.SFNEBlock\u001b[0m:\u001b[36mcall\u001b[0m:\u001b[36m188\u001b[0m - \u001b[34m\u001b[1mSFNEBlock hyper_kernels shape: (None, 16)\u001b[0m\n",
      "\u001b[32m2025-10-30 17:21:57.360\u001b[0m | \u001b[34m\u001b[1mDEBUG   \u001b[0m | \u001b[36mkmr.layers.HyperZZWOperator\u001b[0m:\u001b[36mcall\u001b[0m:\u001b[36m132\u001b[0m - \u001b[34m\u001b[1mHyperZZWOperator input_tensor shape: (None, 64)\u001b[0m\n",
      "\u001b[32m2025-10-30 17:21:57.360\u001b[0m | \u001b[34m\u001b[1mDEBUG   \u001b[0m | \u001b[36mkmr.layers.HyperZZWOperator\u001b[0m:\u001b[36mcall\u001b[0m:\u001b[36m133\u001b[0m - \u001b[34m\u001b[1mHyperZZWOperator context_tensor shape: (None, 16)\u001b[0m\n",
      "\u001b[32m2025-10-30 17:21:57.361\u001b[0m | \u001b[34m\u001b[1mDEBUG   \u001b[0m | \u001b[36mkmr.layers.HyperZZWOperator\u001b[0m:\u001b[36mcall\u001b[0m:\u001b[36m153\u001b[0m - \u001b[34m\u001b[1mHyperZZWOperator output shape: (None, 64)\u001b[0m\n",
      "\u001b[32m2025-10-30 17:21:57.361\u001b[0m | \u001b[34m\u001b[1mDEBUG   \u001b[0m | \u001b[36mkmr.models.SFNEBlock\u001b[0m:\u001b[36mcall\u001b[0m:\u001b[36m192\u001b[0m - \u001b[34m\u001b[1mSFNEBlock context_weights shape: (None, 64)\u001b[0m\n",
      "\u001b[32m2025-10-30 17:21:57.362\u001b[0m | \u001b[34m\u001b[1mDEBUG   \u001b[0m | \u001b[36mkmr.models.SFNEBlock\u001b[0m:\u001b[36mcall\u001b[0m:\u001b[36m196\u001b[0m - \u001b[34m\u001b[1mSFNEBlock context_weights_expanded shape: (None, 64, 1)\u001b[0m\n",
      "\u001b[32m2025-10-30 17:21:57.366\u001b[0m | \u001b[34m\u001b[1mDEBUG   \u001b[0m | \u001b[36mkmr.models.SFNEBlock\u001b[0m:\u001b[36mcall\u001b[0m:\u001b[36m202\u001b[0m - \u001b[34m\u001b[1mSFNEBlock global_output shape: (None, 64, 16)\u001b[0m\n",
      "\u001b[32m2025-10-30 17:21:57.370\u001b[0m | \u001b[34m\u001b[1mDEBUG   \u001b[0m | \u001b[36mkmr.models.SFNEBlock\u001b[0m:\u001b[36mcall\u001b[0m:\u001b[36m206\u001b[0m - \u001b[34m\u001b[1mSFNEBlock local_output shape: (None, 64, 16)\u001b[0m\n",
      "\u001b[32m2025-10-30 17:21:57.371\u001b[0m | \u001b[34m\u001b[1mDEBUG   \u001b[0m | \u001b[36mkmr.models.SFNEBlock\u001b[0m:\u001b[36mcall\u001b[0m:\u001b[36m210\u001b[0m - \u001b[34m\u001b[1mSFNEBlock combined_output shape: (None, 64, 32)\u001b[0m\n",
      "\u001b[32m2025-10-30 17:21:57.372\u001b[0m | \u001b[34m\u001b[1mDEBUG   \u001b[0m | \u001b[36mkmr.models.SFNEBlock\u001b[0m:\u001b[36mcall\u001b[0m:\u001b[36m217\u001b[0m - \u001b[34m\u001b[1mSFNEBlock combined_output_flat shape: (None, 2048)\u001b[0m\n",
      "\u001b[32m2025-10-30 17:21:57.374\u001b[0m | \u001b[34m\u001b[1mDEBUG   \u001b[0m | \u001b[36mkmr.models.SFNEBlock\u001b[0m:\u001b[36mcall\u001b[0m:\u001b[36m223\u001b[0m - \u001b[34m\u001b[1mSFNEBlock bottleneck_output shape: (None, 16)\u001b[0m\n",
      "\u001b[32m2025-10-30 17:21:57.375\u001b[0m | \u001b[34m\u001b[1mDEBUG   \u001b[0m | \u001b[36mkmr.models.SFNEBlock\u001b[0m:\u001b[36mcall\u001b[0m:\u001b[36m227\u001b[0m - \u001b[34m\u001b[1mSFNEBlock output_layer output shape: (None, 16)\u001b[0m\n",
      "\u001b[32m2025-10-30 17:21:57.376\u001b[0m | \u001b[34m\u001b[1mDEBUG   \u001b[0m | \u001b[36mkmr.models.TerminatorModel\u001b[0m:\u001b[36mcall\u001b[0m:\u001b[36m227\u001b[0m - \u001b[34m\u001b[1mTerminatorModel SFNEBlock 2 output shape: (None, 16)\u001b[0m\n",
      "\u001b[32m2025-10-30 17:21:57.378\u001b[0m | \u001b[34m\u001b[1mDEBUG   \u001b[0m | \u001b[36mkmr.models.TerminatorModel\u001b[0m:\u001b[36mcall\u001b[0m:\u001b[36m234\u001b[0m - \u001b[34m\u001b[1mTerminatorModel output_layer output shape: (None, 1)\u001b[0m\n"
     ]
    }
   ],
   "source": [
    "print(\"🚀 Starting training...\")\n",
    "\n",
    "callbacks = [\n",
    "    keras.callbacks.EarlyStopping(monitor=\"val_loss\", patience=5, restore_best_weights=True),\n",
    "    keras.callbacks.ReduceLROnPlateau(monitor=\"val_loss\", factor=0.5, patience=3)\n",
    "]\n",
    "\n",
    "history = model.fit(\n",
    "    [X_input_train, X_context_train], y_train,\n",
    "    validation_data=([X_input_val, X_context_val], y_val),\n",
    "    epochs=30,\n",
    "    batch_size=32,\n",
    "    callbacks=callbacks,\n",
    "    verbose=1\n",
    ")\n",
    "\n",
    "print(\"✅ Training completed!\")\n",
    "\n",
    "# Evaluate\n",
    "val_loss, val_mae = model.evaluate([X_input_val, X_context_val], y_val, verbose=0)\n",
    "print(f\"Validation - Loss: {val_loss:.4f}, MAE: {val_mae:.4f}\")\n",
    "\n",
    "test_loss, test_mae = model.evaluate([X_input_test, X_context_test], y_test, verbose=0)\n",
    "print(f\"Test - Loss: {test_loss:.4f}, MAE: {test_mae:.4f}\")\n",
    "\n",
    "# Predictions for later visualizations\n",
    "y_pred_val = model.predict([X_input_val, X_context_val], verbose=0).squeeze()\n",
    "y_pred_test = model.predict([X_input_test, X_context_test], verbose=0).squeeze()\n"
   ]
  },
  {
   "cell_type": "markdown",
   "id": "fdca5945",
   "metadata": {},
   "source": [
    "## 5. Visualizations\n",
    "\n",
    "We will plot training curves, predictions vs. ground truth, and residuals.\n"
   ]
  },
  {
   "cell_type": "code",
   "execution_count": 5,
   "id": "896b87bc",
   "metadata": {},
   "outputs": [
    {
     "name": "stdout",
     "output_type": "stream",
     "text": [
      "📊 Creating visualizations...\n"
     ]
    },
    {
     "data": {
      "application/vnd.plotly.v1+json": {
       "config": {
        "plotlyServerURL": "https://plot.ly"
       },
       "data": [
        {
         "mode": "lines",
         "name": "loss",
         "type": "scatter",
         "xaxis": "x",
         "y": [
          0.03420058265328407,
          0.013789739459753036,
          0.010148929432034492,
          0.008073568344116211,
          0.0064829871989786625,
          0.005572597496211529,
          0.004808535799384117,
          0.004378614015877247,
          0.003937010653316975,
          0.003510774578899145,
          0.0031863681506365538,
          0.0030936982948333025,
          0.0026911618188023567,
          0.002441850956529379,
          0.00230425875633955,
          0.002122434787452221,
          0.0018757954239845276,
          0.0018116063438355923,
          0.001652187667787075,
          0.0015887559857219458,
          0.001564612379297614,
          0.0012833671644330025,
          0.0011351191205903888,
          0.001066099270246923,
          0.0008997941622510552,
          0.0007933976594358683
         ],
         "yaxis": "y"
        },
        {
         "mode": "lines",
         "name": "val_loss",
         "type": "scatter",
         "xaxis": "x",
         "y": [
          0.020804280415177345,
          0.014050863683223724,
          0.011226060800254345,
          0.00924801453948021,
          0.007894889451563358,
          0.006993412971496582,
          0.006458404008299112,
          0.006026166491210461,
          0.0056203207932412624,
          0.005423407536000013,
          0.005612754262983799,
          0.004822444636374712,
          0.00478767417371273,
          0.004627431742846966,
          0.004425353836268187,
          0.004528052639216185,
          0.004684435669332743,
          0.004311601631343365,
          0.0043460410088300705,
          0.004573950543999672,
          0.004186408128589392,
          0.0043406360782682896,
          0.004261372610926628,
          0.0042171115055680275,
          0.0042248438112437725,
          0.004340183921158314
         ],
         "yaxis": "y"
        },
        {
         "mode": "markers",
         "name": "pred vs true",
         "type": "scatter",
         "x": {
          "bdata": "SOHgP0yO0b/k8ba/xAKBvyBJcD40Hpw/iG5Wv8Bu0j4AmCE7/BKPP8DthL9Aofm+KIVJvxbkF0AylV9AeGGHwHCZiL8g6NC+eEs1P4AHrT0mpGDA+M0fvxALx7+BkpZAlq4bQLw6mb+QZnG/EnAmQJIUGsDAELO+IKrIv2IfNUC8v7I/AG4dPHzqtD8yWypAmvzFv+vInEAGFZnAkGVJwLxJ8D/0jQ5AUGLTPxDntr7zHBLA3koTQMC7s72YYjo/6LY1vwAoIz2fR1LAEAYFP2STwD8A09W9fn1UQACmHb9w3p+/iD5oP4aLVUAMu5M/wGGgvzQy578wr2A/tnwqQFEcIsAsNRxAdNK7P1opY0AwwTk/NmgMwFZoksAgcRjAQ3KJQJZjRkDoLIa/tYnJQOhwT7/o/zE/LKu4P/JBMED8B8c/BC+DP2qzxr/wGg+/LKCdP82ZhcD4NKw/AGxrvhDBoL6ghFS+woJKQOwZlT+uCwhA4GN7P49HH8DQgbw+AFKJvkcXBcC+rihAPGbHv04URUBh5iPAdGIDQLTRF0Bq4kdAk9s4wABg3z9o3Ds/QvM4QMifTz848po/9sIFwKDWSL6q5RnA/nM+QPrJIkA5uQXAIPBxvgVCJMCAexRAALCrOlJZTsBY1E6/Tg8gQKhbpD/8SsO/4Eh6vjZw4r/EdtO/WJNMP7qswb//ssRAYIAjvzDsXT+Ewrs/6BQvP+rvHkA4fX7AWV2EQM7+C0DAPo8908YLwAYWO0Cwl43AePMXP8CUib5o7+U/kIoDv/AzYj9Jq4dA1Fe5v2Cskb7ixfq/nH22vxeVI8B2hNG/cPiIPwB0YL40Zso/86VRwDZmesA0wLo/iHMbQAYtQ0AgTn6+yAYivwlHwEDoZWw/QDSGPrgp8b+o+DE/4OrHPuq7C8A8c7A/mGsdv6AEKb+oogk/EKRwvzKQCcDAJSU+FWqFQP7+u7+k8jvAWLm3v+D3Hr8gVXnAwM+/vfxVBcBfahXAJFO4v9IdU0CA7CA+MbYHwLglUr9xykPAUDl3vwDEVry2TilAXFwMQKR/mr/enS5AYuojQKn+hUBA0rS/MNOhvzzyuT+IG3u/kRtAwO66jcCUY3PAYDb8PoC9dD/VAqvAILkEvv+uGsBIgd2/gJdcvojBL7+Qmfw/UFa1v2gXXb8ASiE8/ELtv0BKrj44jZi/HwNYwO5K078QaR6/hr0mQC5ZAsBam7q/aE+pv2BqqL4AmXW+uG8ZvxWGY8ASKwNAwC7CvRA7eL/g8HQ+eDMVP+CZhT+YXW+/EAVMv5Qbpz+YsC0/uh4DQfBSnb8mqYHAoKFiv5RQ0z+gXRk/HDr2P+BvHUCNHIJAcFvrvsBZA7448GU/3PnYvzARqb9Y4OE/SFQZwKAXB8D6rWJAIBPVPucTaMC8XBxAIAx9P+J/PMA0e40/vp9EQGC1TL+cho4/dvE1QNS7qz+gH/c+AARnvagjUz8eDApAcNdev7hcD0B8PZM/aOl4PwA4A7xQ9UQ/agoVQEQkw78AeDI9UPBNwPj6OD9gmHM/oCsAvqC/Dr/Q1VY/nM6ivxIoFkBKxB1AJG7uP/hv4T8YiSk/",
          "dtype": "f4"
         },
         "xaxis": "x2",
         "y": {
          "bdata": "WFfyP/IEwb8AH6i+dOWiv5AhAr/QaOY/wPTIPrTmqj/A/4A9gNkuPSrm2L9AeS8+gJF3vjJvJ0AqUEFAYCChwNBjlb5eJGfAAPJnP1DUED8IThbAznjDv9jDbr+v7KRANO6UP3vCF8AA0EHAkjJEQO1sEMB4Bku/9YIkwMaVVUBUe/A/SP7kv7yXgD8mWg9AdP7Ov+dOpkDG4DvAb5A1wKJ1PUAqcBNABITPP/Dzpz/U69W/prZUQOiRKT++iAVAGgXsv0gKZT+Aa2LAoLVlPjIMEECgOKy++olNQFQSk7/NRRrAmIMCP0JhQUB4H4k/QHPJvjhmib9AwRk/egU0QCV7FcDIbRtA4EOFP8IhJUCA1zQ9MNuWvyjbPMB+p/G/K52OQDzH+z+0sYu/QZPSQHCRuz4oTUo//ppFQJ4lEEB40xBAEMjVPtqqYcBoEF6/MIttP4kLVcAOhAJAcH3ivmh6U78A2AY/Wp8eQJDAv768mxNAIAQrPiYXAcCMQKy/ALx0PdxYp78Yfx5AyFYnvybCI0D06BLApnhzQHZOZUBOqAhAKtHMv5bvFkDg4Rk/ugw1QHIxHkBKdhtAep26v/gber/eOjPATmRJQPrZC0AnZlDAEBwbP/jdAcBI/LE/AB28vMF9TcBgAQa/GpwqQCCyez/Agsy/wGAEQEJ//7/leAnA0FOjPgre/7+nEKZAiDC8v6D4mT/g3vQ/YH4Kv4ifZj+yJlPA+rNTQF4pJEDYmKU/AGs8wMhoAkCylILAaKf8PyyHqr8IkrQ/DHeqv8Qdmj+kgNo/AKBMPrQGjD/64zbAyFWMvzA39b8dRDTAEkUWQKTUnz/AmL8/+UqJwBh9QsC0gZ8/zrVZQN6GbUDAx4U9sCGsvkPZl0CA1I0/SLUFv1zFtr/gnUE/+ABbv8jrXL8EE6A/KIegv3izPr9C6zNAnCmkv4Qiyb/Qww2/3xmHQFC8Pb+rk1TAcJodv9Adnb50sYnALNfcv3Qf67+8aey//MCmvz6XNkBYMsc/GXQdwNiAP7+gUEzAllbEv0C+Cb9cI8E/aEkFQGCS4r/2ISxAIuNUQHYHVUB87QrA2JcuvzDN1z9YQ7a/4N73v8VCg8CimjzAAMI9vHzhtD/1F37AACOSP+KcK8AxgBXAQIV1P4BYLT0k9Kk/KO7Ov8Dmm7/w+/2+7D+Zv0Aekj84OFO/CpP0vxho/L+EaM2/lrpeQCrlGMBIfhS/aDXJv0DJ/L6rhk3AwAymvVN+S8BuAjxAAEIuPaC/Xj4gkeK+2FzVP5DCKj+Qd/O+sSMCwNgLbj9mpzZAl3+4QGArib+gzRHAcJLTv7Q4tT90apw/sGpRP/4iMEDeIHNAXNfIPxBDi76ANEy+HjXgvzCJbL+4QhVANHiov4Dqpb/SCzNANPCbPzssUMD08BRAcDS5P4V1j8BwANc+XFf/P1B3mr9K6X9ApkVkQMBSnT/QEY2/AGfRPfTYAUAsTOE/WHSdvzRbm791hRHA8HnyP9CsF7/gXyA+orYWQDTdgL8gTQk/axQBwICtEz4iakdAuK0fv2x0lr9sOOI/RKq+v4bRB0DsGdc/CGsfQOAEhj9Q/JO/",
          "dtype": "f4"
         },
         "yaxis": "y2"
        },
        {
         "mode": "lines",
         "name": "ideal",
         "type": "scatter",
         "x": [
          -5.344095706939697,
          8.195001602172852
         ],
         "xaxis": "x2",
         "y": [
          -5.344095706939697,
          8.195001602172852
         ],
         "yaxis": "y2"
        },
        {
         "name": "residuals",
         "nbinsx": 40,
         "type": "histogram",
         "x": {
          "bdata": "cOh8P0D0X7/YSiU/gJkwPRi3oT/QSgS+EArFP/DRoL5Q3Ug/qHSkPvDqnT7AsXi+JARmP9CK0r8A5ne9JLqiv/CYlb6Aueq+QMX4PnglED+AXuI9gHQivsgUs78w2tA/WN0cPwCieT0QkMo/oFbAPjgIxT4qrZQ/QJHmPTBstT74lzu/QIwYvjSQCb/YVk2/QINEPziVFL9AMMs+YAw9vuCOWT6IY1E/4OuXvug9Nb8kOeY/gHDePXDXWz8Qlzq/3MDoPwCT1L+giD4/UJ+ovlDmRz8g6Ik/jJLsvzDgrb/4Z3w/YHhoPnikX79AfJM9yreZvwBh2z/Ah20+4NL1Pjz1gb8Ilmy/uHMuPxzXAcDEA5c/MHYvP3R0nb+AIrg+FCCav1x2BUDIoAu/2KJQP/zlI7/AUDm/MGMGP2D6Ij4knBy/NHO7v3BdY79cMIq/AJP3PKYpkT+E+Zq/Gy0+QNjPIL+APCG+wGhlPiCOBL8IrPm+kIKnvsBGnL1Idx+/UNbEP3DEu74A+h49oB2QPeAJXL8ggwE/UDGXPjpKlj+0kEI/4C+wvkDYUb+gNOQ+ANjGPHz1l7/wrii/AJFbvMxxsL9ADTc/rEE6v0DXrD3AvSg+YGcpv0JYiL+YDxQ/wBJKvgAwfz6kyZw/gHXFPgB6Gz/QnJa/yluAP1A62j60kaO/wBJ1P7B1Z7/YMz4/OBIBP1j+HL9gPb++AHntPfD/kD+AiVC/8J8VP/zlpL+gSAU/YBdNvzgpHj8AJ5W9gFTBvkiD8b5OBRTAwAEDPpDXgr8zJFtASFIfvwCZoL5Qehq+wF+YvmAJQL9QcQA/YB54P/Clkb4A9Fk+JOO7v8DMKL4I68+/QCjyPv7fgT8gZHy+2kSeP0C5qT2gjS8/kNkBv9xZlT9gCpo+7KScv3D1bT+srbC/UGqbPnCR6b7Aioc++LRiPwipnr4ABS++wL5MPtxzET/4gEa/KPk7v4Dpp75AS/y+AONDvzD84j6ofgg/UgpdQMD7E79wEUI/QN1ePmQs4L9o64e+4HXLPiCuBL/gADm+AAo/vxjs/T642co/IAYovxhvhz7gGQM/QO+tPkAWIkBaB01A1OvSv1DW4j4wD6S+AGrCvaBF/z6kI2c/gHLQPuCi5b4w1jY/SqL8PwBkRzxg7va+EHqRP+DbjT5gMsu+WAnjvxiYV78Av3A+4MGIPsB2rT3gpwy+AEvRPriiIz8AHNa8AIC3PiBSoT5q26+/PKyUv6BD675oz0g/ZKtFvwgfgT5IpjG/YCwTPkD3TT8wShG/tK3VvxA+wL7AmJC+QDsLwBgJeb+6extAMJyJP9TwJz8AXSW+IJpKvoCwC77EhI0/QJEMvgDlV71g4sA+8ArqvoBTer0k6oy/4F+0PhzDir94Cmy/oKnKPmy4YL+QVZa/iKGKv8gjW7/I11q/5NAhv4gOFb/wAam/COv8vkBoZz38IYg/YAjYPlBerz6g126+yIQuP8Bm9r6YghHA/KU4wFz6m7/4bqI/CJttv3Bx5L4gCqy+QG7QPgqECsCsfow/IOoHPgAU7r6w4FQ/4BpUPzR7nz80/ho/RKBYvxhaLb/wYgg+",
          "dtype": "f4"
         },
         "xaxis": "x3",
         "yaxis": "y3"
        },
        {
         "name": "MAE per bin",
         "type": "bar",
         "x": [
          -4.987803672489367,
          -4.275219603588706,
          -3.562635534688046,
          -2.850051465787385,
          -2.1374673968867253,
          -1.4248833279860644,
          -0.712299259085404,
          0.0002848098152563594,
          0.7128688787159172,
          1.4254529476165776,
          2.138037016517238,
          2.850621085417899,
          3.5632051543185597,
          4.27578922321922,
          4.98837329211988,
          5.70095736102054,
          6.413541429921201,
          7.126125498821862,
          7.838709567722522
         ],
         "xaxis": "x4",
         "y": [
          1.6110528707504272,
          0.9138959646224976,
          0.7266197800636292,
          0.6359543800354004,
          0.6390253305435181,
          0.6173828840255737,
          0.7772120237350464,
          0.7999854683876038,
          0.8732006549835205,
          0.7217128872871399,
          0.7603134512901306,
          0.5659180879592896,
          0.5093092918395996,
          0.7835332751274109,
          0.37305688858032227,
          1.2634000778198242,
          0.6198663711547852,
          0,
          0
         ],
         "yaxis": "y4"
        }
       ],
       "layout": {
        "annotations": [
         {
          "font": {
           "size": 16
          },
          "showarrow": false,
          "text": "Training/Validation Loss",
          "x": 0.225,
          "xanchor": "center",
          "xref": "paper",
          "y": 1,
          "yanchor": "bottom",
          "yref": "paper"
         },
         {
          "font": {
           "size": 16
          },
          "showarrow": false,
          "text": "Predictions vs Ground Truth (Test)",
          "x": 0.775,
          "xanchor": "center",
          "xref": "paper",
          "y": 1,
          "yanchor": "bottom",
          "yref": "paper"
         },
         {
          "font": {
           "size": 16
          },
          "showarrow": false,
          "text": "Residuals Histogram (Test)",
          "x": 0.225,
          "xanchor": "center",
          "xref": "paper",
          "y": 0.375,
          "yanchor": "bottom",
          "yref": "paper"
         },
         {
          "font": {
           "size": 16
          },
          "showarrow": false,
          "text": "MAE over Bins (Test)",
          "x": 0.775,
          "xanchor": "center",
          "xref": "paper",
          "y": 0.375,
          "yanchor": "bottom",
          "yref": "paper"
         }
        ],
        "height": 800,
        "showlegend": true,
        "template": {
         "data": {
          "bar": [
           {
            "error_x": {
             "color": "#2a3f5f"
            },
            "error_y": {
             "color": "#2a3f5f"
            },
            "marker": {
             "line": {
              "color": "#E5ECF6",
              "width": 0.5
             },
             "pattern": {
              "fillmode": "overlay",
              "size": 10,
              "solidity": 0.2
             }
            },
            "type": "bar"
           }
          ],
          "barpolar": [
           {
            "marker": {
             "line": {
              "color": "#E5ECF6",
              "width": 0.5
             },
             "pattern": {
              "fillmode": "overlay",
              "size": 10,
              "solidity": 0.2
             }
            },
            "type": "barpolar"
           }
          ],
          "carpet": [
           {
            "aaxis": {
             "endlinecolor": "#2a3f5f",
             "gridcolor": "white",
             "linecolor": "white",
             "minorgridcolor": "white",
             "startlinecolor": "#2a3f5f"
            },
            "baxis": {
             "endlinecolor": "#2a3f5f",
             "gridcolor": "white",
             "linecolor": "white",
             "minorgridcolor": "white",
             "startlinecolor": "#2a3f5f"
            },
            "type": "carpet"
           }
          ],
          "choropleth": [
           {
            "colorbar": {
             "outlinewidth": 0,
             "ticks": ""
            },
            "type": "choropleth"
           }
          ],
          "contour": [
           {
            "colorbar": {
             "outlinewidth": 0,
             "ticks": ""
            },
            "colorscale": [
             [
              0,
              "#0d0887"
             ],
             [
              0.1111111111111111,
              "#46039f"
             ],
             [
              0.2222222222222222,
              "#7201a8"
             ],
             [
              0.3333333333333333,
              "#9c179e"
             ],
             [
              0.4444444444444444,
              "#bd3786"
             ],
             [
              0.5555555555555556,
              "#d8576b"
             ],
             [
              0.6666666666666666,
              "#ed7953"
             ],
             [
              0.7777777777777778,
              "#fb9f3a"
             ],
             [
              0.8888888888888888,
              "#fdca26"
             ],
             [
              1,
              "#f0f921"
             ]
            ],
            "type": "contour"
           }
          ],
          "contourcarpet": [
           {
            "colorbar": {
             "outlinewidth": 0,
             "ticks": ""
            },
            "type": "contourcarpet"
           }
          ],
          "heatmap": [
           {
            "colorbar": {
             "outlinewidth": 0,
             "ticks": ""
            },
            "colorscale": [
             [
              0,
              "#0d0887"
             ],
             [
              0.1111111111111111,
              "#46039f"
             ],
             [
              0.2222222222222222,
              "#7201a8"
             ],
             [
              0.3333333333333333,
              "#9c179e"
             ],
             [
              0.4444444444444444,
              "#bd3786"
             ],
             [
              0.5555555555555556,
              "#d8576b"
             ],
             [
              0.6666666666666666,
              "#ed7953"
             ],
             [
              0.7777777777777778,
              "#fb9f3a"
             ],
             [
              0.8888888888888888,
              "#fdca26"
             ],
             [
              1,
              "#f0f921"
             ]
            ],
            "type": "heatmap"
           }
          ],
          "histogram": [
           {
            "marker": {
             "pattern": {
              "fillmode": "overlay",
              "size": 10,
              "solidity": 0.2
             }
            },
            "type": "histogram"
           }
          ],
          "histogram2d": [
           {
            "colorbar": {
             "outlinewidth": 0,
             "ticks": ""
            },
            "colorscale": [
             [
              0,
              "#0d0887"
             ],
             [
              0.1111111111111111,
              "#46039f"
             ],
             [
              0.2222222222222222,
              "#7201a8"
             ],
             [
              0.3333333333333333,
              "#9c179e"
             ],
             [
              0.4444444444444444,
              "#bd3786"
             ],
             [
              0.5555555555555556,
              "#d8576b"
             ],
             [
              0.6666666666666666,
              "#ed7953"
             ],
             [
              0.7777777777777778,
              "#fb9f3a"
             ],
             [
              0.8888888888888888,
              "#fdca26"
             ],
             [
              1,
              "#f0f921"
             ]
            ],
            "type": "histogram2d"
           }
          ],
          "histogram2dcontour": [
           {
            "colorbar": {
             "outlinewidth": 0,
             "ticks": ""
            },
            "colorscale": [
             [
              0,
              "#0d0887"
             ],
             [
              0.1111111111111111,
              "#46039f"
             ],
             [
              0.2222222222222222,
              "#7201a8"
             ],
             [
              0.3333333333333333,
              "#9c179e"
             ],
             [
              0.4444444444444444,
              "#bd3786"
             ],
             [
              0.5555555555555556,
              "#d8576b"
             ],
             [
              0.6666666666666666,
              "#ed7953"
             ],
             [
              0.7777777777777778,
              "#fb9f3a"
             ],
             [
              0.8888888888888888,
              "#fdca26"
             ],
             [
              1,
              "#f0f921"
             ]
            ],
            "type": "histogram2dcontour"
           }
          ],
          "mesh3d": [
           {
            "colorbar": {
             "outlinewidth": 0,
             "ticks": ""
            },
            "type": "mesh3d"
           }
          ],
          "parcoords": [
           {
            "line": {
             "colorbar": {
              "outlinewidth": 0,
              "ticks": ""
             }
            },
            "type": "parcoords"
           }
          ],
          "pie": [
           {
            "automargin": true,
            "type": "pie"
           }
          ],
          "scatter": [
           {
            "fillpattern": {
             "fillmode": "overlay",
             "size": 10,
             "solidity": 0.2
            },
            "type": "scatter"
           }
          ],
          "scatter3d": [
           {
            "line": {
             "colorbar": {
              "outlinewidth": 0,
              "ticks": ""
             }
            },
            "marker": {
             "colorbar": {
              "outlinewidth": 0,
              "ticks": ""
             }
            },
            "type": "scatter3d"
           }
          ],
          "scattercarpet": [
           {
            "marker": {
             "colorbar": {
              "outlinewidth": 0,
              "ticks": ""
             }
            },
            "type": "scattercarpet"
           }
          ],
          "scattergeo": [
           {
            "marker": {
             "colorbar": {
              "outlinewidth": 0,
              "ticks": ""
             }
            },
            "type": "scattergeo"
           }
          ],
          "scattergl": [
           {
            "marker": {
             "colorbar": {
              "outlinewidth": 0,
              "ticks": ""
             }
            },
            "type": "scattergl"
           }
          ],
          "scattermap": [
           {
            "marker": {
             "colorbar": {
              "outlinewidth": 0,
              "ticks": ""
             }
            },
            "type": "scattermap"
           }
          ],
          "scattermapbox": [
           {
            "marker": {
             "colorbar": {
              "outlinewidth": 0,
              "ticks": ""
             }
            },
            "type": "scattermapbox"
           }
          ],
          "scatterpolar": [
           {
            "marker": {
             "colorbar": {
              "outlinewidth": 0,
              "ticks": ""
             }
            },
            "type": "scatterpolar"
           }
          ],
          "scatterpolargl": [
           {
            "marker": {
             "colorbar": {
              "outlinewidth": 0,
              "ticks": ""
             }
            },
            "type": "scatterpolargl"
           }
          ],
          "scatterternary": [
           {
            "marker": {
             "colorbar": {
              "outlinewidth": 0,
              "ticks": ""
             }
            },
            "type": "scatterternary"
           }
          ],
          "surface": [
           {
            "colorbar": {
             "outlinewidth": 0,
             "ticks": ""
            },
            "colorscale": [
             [
              0,
              "#0d0887"
             ],
             [
              0.1111111111111111,
              "#46039f"
             ],
             [
              0.2222222222222222,
              "#7201a8"
             ],
             [
              0.3333333333333333,
              "#9c179e"
             ],
             [
              0.4444444444444444,
              "#bd3786"
             ],
             [
              0.5555555555555556,
              "#d8576b"
             ],
             [
              0.6666666666666666,
              "#ed7953"
             ],
             [
              0.7777777777777778,
              "#fb9f3a"
             ],
             [
              0.8888888888888888,
              "#fdca26"
             ],
             [
              1,
              "#f0f921"
             ]
            ],
            "type": "surface"
           }
          ],
          "table": [
           {
            "cells": {
             "fill": {
              "color": "#EBF0F8"
             },
             "line": {
              "color": "white"
             }
            },
            "header": {
             "fill": {
              "color": "#C8D4E3"
             },
             "line": {
              "color": "white"
             }
            },
            "type": "table"
           }
          ]
         },
         "layout": {
          "annotationdefaults": {
           "arrowcolor": "#2a3f5f",
           "arrowhead": 0,
           "arrowwidth": 1
          },
          "autotypenumbers": "strict",
          "coloraxis": {
           "colorbar": {
            "outlinewidth": 0,
            "ticks": ""
           }
          },
          "colorscale": {
           "diverging": [
            [
             0,
             "#8e0152"
            ],
            [
             0.1,
             "#c51b7d"
            ],
            [
             0.2,
             "#de77ae"
            ],
            [
             0.3,
             "#f1b6da"
            ],
            [
             0.4,
             "#fde0ef"
            ],
            [
             0.5,
             "#f7f7f7"
            ],
            [
             0.6,
             "#e6f5d0"
            ],
            [
             0.7,
             "#b8e186"
            ],
            [
             0.8,
             "#7fbc41"
            ],
            [
             0.9,
             "#4d9221"
            ],
            [
             1,
             "#276419"
            ]
           ],
           "sequential": [
            [
             0,
             "#0d0887"
            ],
            [
             0.1111111111111111,
             "#46039f"
            ],
            [
             0.2222222222222222,
             "#7201a8"
            ],
            [
             0.3333333333333333,
             "#9c179e"
            ],
            [
             0.4444444444444444,
             "#bd3786"
            ],
            [
             0.5555555555555556,
             "#d8576b"
            ],
            [
             0.6666666666666666,
             "#ed7953"
            ],
            [
             0.7777777777777778,
             "#fb9f3a"
            ],
            [
             0.8888888888888888,
             "#fdca26"
            ],
            [
             1,
             "#f0f921"
            ]
           ],
           "sequentialminus": [
            [
             0,
             "#0d0887"
            ],
            [
             0.1111111111111111,
             "#46039f"
            ],
            [
             0.2222222222222222,
             "#7201a8"
            ],
            [
             0.3333333333333333,
             "#9c179e"
            ],
            [
             0.4444444444444444,
             "#bd3786"
            ],
            [
             0.5555555555555556,
             "#d8576b"
            ],
            [
             0.6666666666666666,
             "#ed7953"
            ],
            [
             0.7777777777777778,
             "#fb9f3a"
            ],
            [
             0.8888888888888888,
             "#fdca26"
            ],
            [
             1,
             "#f0f921"
            ]
           ]
          },
          "colorway": [
           "#636efa",
           "#EF553B",
           "#00cc96",
           "#ab63fa",
           "#FFA15A",
           "#19d3f3",
           "#FF6692",
           "#B6E880",
           "#FF97FF",
           "#FECB52"
          ],
          "font": {
           "color": "#2a3f5f"
          },
          "geo": {
           "bgcolor": "white",
           "lakecolor": "white",
           "landcolor": "#E5ECF6",
           "showlakes": true,
           "showland": true,
           "subunitcolor": "white"
          },
          "hoverlabel": {
           "align": "left"
          },
          "hovermode": "closest",
          "mapbox": {
           "style": "light"
          },
          "paper_bgcolor": "white",
          "plot_bgcolor": "#E5ECF6",
          "polar": {
           "angularaxis": {
            "gridcolor": "white",
            "linecolor": "white",
            "ticks": ""
           },
           "bgcolor": "#E5ECF6",
           "radialaxis": {
            "gridcolor": "white",
            "linecolor": "white",
            "ticks": ""
           }
          },
          "scene": {
           "xaxis": {
            "backgroundcolor": "#E5ECF6",
            "gridcolor": "white",
            "gridwidth": 2,
            "linecolor": "white",
            "showbackground": true,
            "ticks": "",
            "zerolinecolor": "white"
           },
           "yaxis": {
            "backgroundcolor": "#E5ECF6",
            "gridcolor": "white",
            "gridwidth": 2,
            "linecolor": "white",
            "showbackground": true,
            "ticks": "",
            "zerolinecolor": "white"
           },
           "zaxis": {
            "backgroundcolor": "#E5ECF6",
            "gridcolor": "white",
            "gridwidth": 2,
            "linecolor": "white",
            "showbackground": true,
            "ticks": "",
            "zerolinecolor": "white"
           }
          },
          "shapedefaults": {
           "line": {
            "color": "#2a3f5f"
           }
          },
          "ternary": {
           "aaxis": {
            "gridcolor": "white",
            "linecolor": "white",
            "ticks": ""
           },
           "baxis": {
            "gridcolor": "white",
            "linecolor": "white",
            "ticks": ""
           },
           "bgcolor": "#E5ECF6",
           "caxis": {
            "gridcolor": "white",
            "linecolor": "white",
            "ticks": ""
           }
          },
          "title": {
           "x": 0.05
          },
          "xaxis": {
           "automargin": true,
           "gridcolor": "white",
           "linecolor": "white",
           "ticks": "",
           "title": {
            "standoff": 15
           },
           "zerolinecolor": "white",
           "zerolinewidth": 2
          },
          "yaxis": {
           "automargin": true,
           "gridcolor": "white",
           "linecolor": "white",
           "ticks": "",
           "title": {
            "standoff": 15
           },
           "zerolinecolor": "white",
           "zerolinewidth": 2
          }
         }
        },
        "title": {
         "text": "TerminatorModel Regression Results"
        },
        "xaxis": {
         "anchor": "y",
         "domain": [
          0,
          0.45
         ],
         "title": {
          "text": "Epoch"
         }
        },
        "xaxis2": {
         "anchor": "y2",
         "domain": [
          0.55,
          1
         ],
         "title": {
          "text": "True"
         }
        },
        "xaxis3": {
         "anchor": "y3",
         "domain": [
          0,
          0.45
         ],
         "title": {
          "text": "Residual"
         }
        },
        "xaxis4": {
         "anchor": "y4",
         "domain": [
          0.55,
          1
         ],
         "title": {
          "text": "Target (bin center)"
         }
        },
        "yaxis": {
         "anchor": "x",
         "domain": [
          0.625,
          1
         ],
         "title": {
          "text": "Loss"
         }
        },
        "yaxis2": {
         "anchor": "x2",
         "domain": [
          0.625,
          1
         ],
         "title": {
          "text": "Predicted"
         }
        },
        "yaxis3": {
         "anchor": "x3",
         "domain": [
          0,
          0.375
         ],
         "title": {
          "text": "Frequency"
         }
        },
        "yaxis4": {
         "anchor": "x4",
         "domain": [
          0,
          0.375
         ],
         "title": {
          "text": "MAE"
         }
        }
       }
      }
     },
     "metadata": {},
     "output_type": "display_data"
    },
    {
     "name": "stdout",
     "output_type": "stream",
     "text": [
      "✅ Visualizations created successfully!\n"
     ]
    }
   ],
   "source": [
    "print(\"📊 Creating visualizations...\")\n",
    "\n",
    "# Loss curves\n",
    "hist_loss = history.history.get(\"loss\", [])\n",
    "hist_val_loss = history.history.get(\"val_loss\", [])\n",
    "\n",
    "# Unscale predictions for better visualization (convert back from [0,1] range)\n",
    "# Recalculate scaling parameters from the original data\n",
    "y_test_raw = y_test * (y_raw.max() - y_raw.min()) + y_raw.min()\n",
    "y_pred_test_raw = y_pred_test * (y_raw.max() - y_raw.min()) + y_raw.min()\n",
    "\n",
    "# Residuals (test, unscaled)\n",
    "residuals = (y_test_raw - y_pred_test_raw)\n",
    "\n",
    "fig = make_subplots(\n",
    "    rows=2, cols=2,\n",
    "    subplot_titles=(\n",
    "        \"Training/Validation Loss\",\n",
    "        \"Predictions vs Ground Truth (Test)\",\n",
    "        \"Residuals Histogram (Test)\",\n",
    "        \"MAE over Bins (Test)\"\n",
    "    ),\n",
    "    specs=[[{\"type\": \"scatter\"}, {\"type\": \"scatter\"}],\n",
    "           [{\"type\": \"histogram\"}, {\"type\": \"bar\"}]]\n",
    ")\n",
    "\n",
    "# Plot 1: Loss curves\n",
    "fig.add_scatter(y=hist_loss, mode=\"lines\", name=\"loss\", row=1, col=1)\n",
    "fig.add_scatter(y=hist_val_loss, mode=\"lines\", name=\"val_loss\", row=1, col=1)\n",
    "\n",
    "# Plot 2: Predictions vs truth (unscaled)\n",
    "idx = np.random.choice(len(y_test_raw), size=min(400, len(y_test_raw)), replace=False)\n",
    "fig.add_scatter(\n",
    "    x=y_test_raw[idx], y=y_pred_test_raw[idx], mode=\"markers\", name=\"pred vs true\",\n",
    "    row=1, col=2\n",
    ")\n",
    "# Reference line (unscaled)\n",
    "min_v = float(min(y_test_raw.min(), y_pred_test_raw.min()))\n",
    "max_v = float(max(y_test_raw.max(), y_pred_test_raw.max()))\n",
    "fig.add_scatter(x=[min_v, max_v], y=[min_v, max_v], mode=\"lines\", name=\"ideal\", row=1, col=2)\n",
    "\n",
    "# Plot 3: Residuals histogram\n",
    "fig.add_histogram(x=residuals, nbinsx=40, name=\"residuals\", row=2, col=1)\n",
    "\n",
    "# Plot 4: MAE over bins\n",
    "bins = np.linspace(min_v, max_v, 20)\n",
    "bin_indices = np.digitize(y_test_raw, bins)\n",
    "mae_per_bin = []\n",
    "centers = []\n",
    "for b in range(1, len(bins)):\n",
    "    mask = bin_indices == b\n",
    "    if np.any(mask):\n",
    "        mae_per_bin.append(np.mean(np.abs(y_test_raw[mask] - y_pred_test_raw[mask])))\n",
    "        centers.append((bins[b] + bins[b-1]) / 2)\n",
    "    else:\n",
    "        mae_per_bin.append(0.0)\n",
    "        centers.append((bins[b] + bins[b-1]) / 2)\n",
    "\n",
    "fig.add_bar(x=centers, y=mae_per_bin, name=\"MAE per bin\", row=2, col=2)\n",
    "\n",
    "fig.update_layout(height=800, title_text=\"TerminatorModel Regression Results\", showlegend=True)\n",
    "fig.update_xaxes(title_text=\"Epoch\", row=1, col=1)\n",
    "fig.update_yaxes(title_text=\"Loss\", row=1, col=1)\n",
    "fig.update_xaxes(title_text=\"True\", row=1, col=2)\n",
    "fig.update_yaxes(title_text=\"Predicted\", row=1, col=2)\n",
    "fig.update_xaxes(title_text=\"Residual\", row=2, col=1)\n",
    "fig.update_yaxes(title_text=\"Frequency\", row=2, col=1)\n",
    "fig.update_xaxes(title_text=\"Target (bin center)\", row=2, col=2)\n",
    "fig.update_yaxes(title_text=\"MAE\", row=2, col=2)\n",
    "\n",
    "fig.show()\n",
    "print(\"✅ Visualizations created successfully!\")\n"
   ]
  },
  {
   "cell_type": "markdown",
   "id": "2ce21d04",
   "metadata": {},
   "source": [
    "## 6. Model Serialization and Loading\n",
    "\n",
    "We will save the TerminatorModel in Keras format and verify that a loaded model produces consistent predictions.\n"
   ]
  },
  {
   "cell_type": "code",
   "execution_count": 6,
   "id": "9a3a853f",
   "metadata": {},
   "outputs": [
    {
     "name": "stderr",
     "output_type": "stream",
     "text": [
      "\u001b[32m2025-10-30 17:21:57.587\u001b[0m | \u001b[34m\u001b[1mDEBUG   \u001b[0m | \u001b[36mkmr.layers._base_layer\u001b[0m:\u001b[36m_log_initialization\u001b[0m:\u001b[36m73\u001b[0m - \u001b[34m\u001b[1mInitialized SlowNetwork with parameters: {'name': 'slow_network_4', 'trainable': True, 'dtype': {'module': 'keras', 'class_name': 'DTypePolicy', 'config': {'name': 'float32'}, 'registered_name': None}, 'input_dim': 8, 'num_layers': 3, 'units': 128}\u001b[0m\n",
      "\u001b[32m2025-10-30 17:21:57.587\u001b[0m | \u001b[34m\u001b[1mDEBUG   \u001b[0m | \u001b[36mkmr.layers._base_layer\u001b[0m:\u001b[36m_log_initialization\u001b[0m:\u001b[36m73\u001b[0m - \u001b[34m\u001b[1mInitialized HyperZZWOperator with parameters: {'name': 'hyper_zzw_operator_4', 'trainable': True, 'dtype': {'module': 'keras', 'class_name': 'DTypePolicy', 'config': {'name': 'float32'}, 'registered_name': None, 'shared_object_id': 13822903840}, 'input_dim': 16, 'context_dim': 8}\u001b[0m\n",
      "\u001b[32m2025-10-30 17:21:57.589\u001b[0m | \u001b[34m\u001b[1mDEBUG   \u001b[0m | \u001b[36mkmr.layers._base_layer\u001b[0m:\u001b[36m_log_initialization\u001b[0m:\u001b[36m73\u001b[0m - \u001b[34m\u001b[1mInitialized SlowNetwork with parameters: {'name': 'slow_network_5', 'trainable': True, 'dtype': {'module': 'keras', 'class_name': 'DTypePolicy', 'config': {'name': 'float32'}, 'registered_name': None, 'shared_object_id': 13822903840}, 'input_dim': 16, 'num_layers': 3, 'units': 128}\u001b[0m\n",
      "\u001b[32m2025-10-30 17:21:57.589\u001b[0m | \u001b[34m\u001b[1mDEBUG   \u001b[0m | \u001b[36mkmr.layers._base_layer\u001b[0m:\u001b[36m_log_initialization\u001b[0m:\u001b[36m73\u001b[0m - \u001b[34m\u001b[1mInitialized HyperZZWOperator with parameters: {'name': 'hyper_zzw_operator_5', 'trainable': True, 'dtype': {'module': 'keras', 'class_name': 'DTypePolicy', 'config': {'name': 'float32'}, 'registered_name': None, 'shared_object_id': 13822903840}, 'input_dim': 64, 'context_dim': None}\u001b[0m\n",
      "\u001b[32m2025-10-30 17:21:57.591\u001b[0m | \u001b[34m\u001b[1mDEBUG   \u001b[0m | \u001b[36mkmr.layers._base_layer\u001b[0m:\u001b[36m_log_initialization\u001b[0m:\u001b[36m73\u001b[0m - \u001b[34m\u001b[1mInitialized SlowNetwork with parameters: {'name': 'slow_network_6', 'trainable': True, 'dtype': {'module': 'keras', 'class_name': 'DTypePolicy', 'config': {'name': 'float32'}, 'registered_name': None, 'shared_object_id': 13822903840}, 'input_dim': 16, 'num_layers': 3, 'units': 128}\u001b[0m\n",
      "\u001b[32m2025-10-30 17:21:57.591\u001b[0m | \u001b[34m\u001b[1mDEBUG   \u001b[0m | \u001b[36mkmr.layers._base_layer\u001b[0m:\u001b[36m_log_initialization\u001b[0m:\u001b[36m73\u001b[0m - \u001b[34m\u001b[1mInitialized HyperZZWOperator with parameters: {'name': 'hyper_zzw_operator_6', 'trainable': True, 'dtype': {'module': 'keras', 'class_name': 'DTypePolicy', 'config': {'name': 'float32'}, 'registered_name': None, 'shared_object_id': 13822903840}, 'input_dim': 64, 'context_dim': None}\u001b[0m\n",
      "\u001b[32m2025-10-30 17:21:57.593\u001b[0m | \u001b[34m\u001b[1mDEBUG   \u001b[0m | \u001b[36mkmr.layers._base_layer\u001b[0m:\u001b[36m_log_initialization\u001b[0m:\u001b[36m73\u001b[0m - \u001b[34m\u001b[1mInitialized SlowNetwork with parameters: {'name': 'slow_network_7', 'trainable': True, 'dtype': {'module': 'keras', 'class_name': 'DTypePolicy', 'config': {'name': 'float32'}, 'registered_name': None, 'shared_object_id': 13822903840}, 'input_dim': 16, 'num_layers': 3, 'units': 128}\u001b[0m\n",
      "\u001b[32m2025-10-30 17:21:57.593\u001b[0m | \u001b[34m\u001b[1mDEBUG   \u001b[0m | \u001b[36mkmr.layers._base_layer\u001b[0m:\u001b[36m_log_initialization\u001b[0m:\u001b[36m73\u001b[0m - \u001b[34m\u001b[1mInitialized HyperZZWOperator with parameters: {'name': 'hyper_zzw_operator_7', 'trainable': True, 'dtype': {'module': 'keras', 'class_name': 'DTypePolicy', 'config': {'name': 'float32'}, 'registered_name': None, 'shared_object_id': 13822903840}, 'input_dim': 64, 'context_dim': None}\u001b[0m\n",
      "\u001b[32m2025-10-30 17:21:57.595\u001b[0m | \u001b[34m\u001b[1mDEBUG   \u001b[0m | \u001b[36mkmr.models.TerminatorModel\u001b[0m:\u001b[36mcall\u001b[0m:\u001b[36m205\u001b[0m - \u001b[34m\u001b[1mTerminatorModel input shape: (None, 16), context shape: (None, 8)\u001b[0m\n",
      "\u001b[32m2025-10-30 17:21:57.599\u001b[0m | \u001b[34m\u001b[1mDEBUG   \u001b[0m | \u001b[36mkmr.models.TerminatorModel\u001b[0m:\u001b[36mcall\u001b[0m:\u001b[36m211\u001b[0m - \u001b[34m\u001b[1mTerminatorModel input_layer output shape: (None, 16)\u001b[0m\n",
      "\u001b[32m2025-10-30 17:21:57.600\u001b[0m | \u001b[34m\u001b[1mDEBUG   \u001b[0m | \u001b[36mkmr.layers.SlowNetwork\u001b[0m:\u001b[36mbuild\u001b[0m:\u001b[36m106\u001b[0m - \u001b[34m\u001b[1mSlowNetwork built with input_dim=8, num_layers=3, units=128\u001b[0m\n",
      "\u001b[32m2025-10-30 17:21:57.601\u001b[0m | \u001b[34m\u001b[1mDEBUG   \u001b[0m | \u001b[36mkmr.layers.SlowNetwork\u001b[0m:\u001b[36mcall\u001b[0m:\u001b[36m122\u001b[0m - \u001b[34m\u001b[1mSlowNetwork input shape: (None, 8)\u001b[0m\n",
      "\u001b[32m2025-10-30 17:21:57.604\u001b[0m | \u001b[34m\u001b[1mDEBUG   \u001b[0m | \u001b[36mkmr.layers.SlowNetwork\u001b[0m:\u001b[36mcall\u001b[0m:\u001b[36m126\u001b[0m - \u001b[34m\u001b[1mSlowNetwork layer 0 output shape: (None, 128)\u001b[0m\n",
      "\u001b[32m2025-10-30 17:21:57.607\u001b[0m | \u001b[34m\u001b[1mDEBUG   \u001b[0m | \u001b[36mkmr.layers.SlowNetwork\u001b[0m:\u001b[36mcall\u001b[0m:\u001b[36m126\u001b[0m - \u001b[34m\u001b[1mSlowNetwork layer 1 output shape: (None, 128)\u001b[0m\n",
      "\u001b[32m2025-10-30 17:21:57.610\u001b[0m | \u001b[34m\u001b[1mDEBUG   \u001b[0m | \u001b[36mkmr.layers.SlowNetwork\u001b[0m:\u001b[36mcall\u001b[0m:\u001b[36m126\u001b[0m - \u001b[34m\u001b[1mSlowNetwork layer 2 output shape: (None, 128)\u001b[0m\n",
      "\u001b[32m2025-10-30 17:21:57.613\u001b[0m | \u001b[34m\u001b[1mDEBUG   \u001b[0m | \u001b[36mkmr.layers.SlowNetwork\u001b[0m:\u001b[36mcall\u001b[0m:\u001b[36m129\u001b[0m - \u001b[34m\u001b[1mSlowNetwork output shape: (None, 8)\u001b[0m\n",
      "\u001b[32m2025-10-30 17:21:57.613\u001b[0m | \u001b[34m\u001b[1mDEBUG   \u001b[0m | \u001b[36mkmr.models.TerminatorModel\u001b[0m:\u001b[36mcall\u001b[0m:\u001b[36m215\u001b[0m - \u001b[34m\u001b[1mTerminatorModel hyper_kernels shape: (None, 8)\u001b[0m\n",
      "\u001b[32m2025-10-30 17:21:57.613\u001b[0m | \u001b[34m\u001b[1mDEBUG   \u001b[0m | \u001b[36mkmr.layers.HyperZZWOperator\u001b[0m:\u001b[36mbuild\u001b[0m:\u001b[36m112\u001b[0m - \u001b[34m\u001b[1mHyperZZWOperator built with input_dim=16, context_dim=8\u001b[0m\n",
      "\u001b[32m2025-10-30 17:21:57.613\u001b[0m | \u001b[34m\u001b[1mDEBUG   \u001b[0m | \u001b[36mkmr.layers.HyperZZWOperator\u001b[0m:\u001b[36mcall\u001b[0m:\u001b[36m132\u001b[0m - \u001b[34m\u001b[1mHyperZZWOperator input_tensor shape: (None, 16)\u001b[0m\n",
      "\u001b[32m2025-10-30 17:21:57.613\u001b[0m | \u001b[34m\u001b[1mDEBUG   \u001b[0m | \u001b[36mkmr.layers.HyperZZWOperator\u001b[0m:\u001b[36mcall\u001b[0m:\u001b[36m133\u001b[0m - \u001b[34m\u001b[1mHyperZZWOperator context_tensor shape: (None, 8)\u001b[0m\n",
      "\u001b[32m2025-10-30 17:21:57.616\u001b[0m | \u001b[34m\u001b[1mDEBUG   \u001b[0m | \u001b[36mkmr.layers.HyperZZWOperator\u001b[0m:\u001b[36mcall\u001b[0m:\u001b[36m153\u001b[0m - \u001b[34m\u001b[1mHyperZZWOperator output shape: (None, 16)\u001b[0m\n",
      "\u001b[32m2025-10-30 17:21:57.616\u001b[0m | \u001b[34m\u001b[1mDEBUG   \u001b[0m | \u001b[36mkmr.models.TerminatorModel\u001b[0m:\u001b[36mcall\u001b[0m:\u001b[36m219\u001b[0m - \u001b[34m\u001b[1mTerminatorModel context_weights shape: (None, 16)\u001b[0m\n",
      "\u001b[32m2025-10-30 17:21:57.619\u001b[0m | \u001b[34m\u001b[1mDEBUG   \u001b[0m | \u001b[36mkmr.models.SFNEBlock\u001b[0m:\u001b[36mcall\u001b[0m:\u001b[36m176\u001b[0m - \u001b[34m\u001b[1mSFNEBlock input shape: (None, 16)\u001b[0m\n",
      "\u001b[32m2025-10-30 17:21:57.627\u001b[0m | \u001b[34m\u001b[1mDEBUG   \u001b[0m | \u001b[36mkmr.layers.SlowNetwork\u001b[0m:\u001b[36mbuild\u001b[0m:\u001b[36m106\u001b[0m - \u001b[34m\u001b[1mSlowNetwork built with input_dim=16, num_layers=3, units=128\u001b[0m\n",
      "\u001b[32m2025-10-30 17:21:57.627\u001b[0m | \u001b[34m\u001b[1mDEBUG   \u001b[0m | \u001b[36mkmr.layers.SlowNetwork\u001b[0m:\u001b[36mcall\u001b[0m:\u001b[36m122\u001b[0m - \u001b[34m\u001b[1mSlowNetwork input shape: (None, 64)\u001b[0m\n",
      "\u001b[32m2025-10-30 17:21:57.630\u001b[0m | \u001b[34m\u001b[1mDEBUG   \u001b[0m | \u001b[36mkmr.layers.SlowNetwork\u001b[0m:\u001b[36mcall\u001b[0m:\u001b[36m126\u001b[0m - \u001b[34m\u001b[1mSlowNetwork layer 0 output shape: (None, 128)\u001b[0m\n",
      "\u001b[32m2025-10-30 17:21:57.632\u001b[0m | \u001b[34m\u001b[1mDEBUG   \u001b[0m | \u001b[36mkmr.layers.SlowNetwork\u001b[0m:\u001b[36mcall\u001b[0m:\u001b[36m126\u001b[0m - \u001b[34m\u001b[1mSlowNetwork layer 1 output shape: (None, 128)\u001b[0m\n",
      "\u001b[32m2025-10-30 17:21:57.635\u001b[0m | \u001b[34m\u001b[1mDEBUG   \u001b[0m | \u001b[36mkmr.layers.SlowNetwork\u001b[0m:\u001b[36mcall\u001b[0m:\u001b[36m126\u001b[0m - \u001b[34m\u001b[1mSlowNetwork layer 2 output shape: (None, 128)\u001b[0m\n",
      "\u001b[32m2025-10-30 17:21:57.637\u001b[0m | \u001b[34m\u001b[1mDEBUG   \u001b[0m | \u001b[36mkmr.layers.SlowNetwork\u001b[0m:\u001b[36mcall\u001b[0m:\u001b[36m129\u001b[0m - \u001b[34m\u001b[1mSlowNetwork output shape: (None, 16)\u001b[0m\n",
      "\u001b[32m2025-10-30 17:21:57.637\u001b[0m | \u001b[34m\u001b[1mDEBUG   \u001b[0m | \u001b[36mkmr.models.SFNEBlock\u001b[0m:\u001b[36mcall\u001b[0m:\u001b[36m188\u001b[0m - \u001b[34m\u001b[1mSFNEBlock hyper_kernels shape: (None, 16)\u001b[0m\n",
      "\u001b[32m2025-10-30 17:21:57.638\u001b[0m | \u001b[34m\u001b[1mDEBUG   \u001b[0m | \u001b[36mkmr.layers.HyperZZWOperator\u001b[0m:\u001b[36mbuild\u001b[0m:\u001b[36m112\u001b[0m - \u001b[34m\u001b[1mHyperZZWOperator built with input_dim=64, context_dim=16\u001b[0m\n",
      "\u001b[32m2025-10-30 17:21:57.638\u001b[0m | \u001b[34m\u001b[1mDEBUG   \u001b[0m | \u001b[36mkmr.layers.HyperZZWOperator\u001b[0m:\u001b[36mcall\u001b[0m:\u001b[36m132\u001b[0m - \u001b[34m\u001b[1mHyperZZWOperator input_tensor shape: (None, 64)\u001b[0m\n",
      "\u001b[32m2025-10-30 17:21:57.638\u001b[0m | \u001b[34m\u001b[1mDEBUG   \u001b[0m | \u001b[36mkmr.layers.HyperZZWOperator\u001b[0m:\u001b[36mcall\u001b[0m:\u001b[36m133\u001b[0m - \u001b[34m\u001b[1mHyperZZWOperator context_tensor shape: (None, 16)\u001b[0m\n",
      "\u001b[32m2025-10-30 17:21:57.641\u001b[0m | \u001b[34m\u001b[1mDEBUG   \u001b[0m | \u001b[36mkmr.layers.HyperZZWOperator\u001b[0m:\u001b[36mcall\u001b[0m:\u001b[36m153\u001b[0m - \u001b[34m\u001b[1mHyperZZWOperator output shape: (None, 64)\u001b[0m\n",
      "\u001b[32m2025-10-30 17:21:57.641\u001b[0m | \u001b[34m\u001b[1mDEBUG   \u001b[0m | \u001b[36mkmr.models.SFNEBlock\u001b[0m:\u001b[36mcall\u001b[0m:\u001b[36m192\u001b[0m - \u001b[34m\u001b[1mSFNEBlock context_weights shape: (None, 64)\u001b[0m\n",
      "\u001b[32m2025-10-30 17:21:57.642\u001b[0m | \u001b[34m\u001b[1mDEBUG   \u001b[0m | \u001b[36mkmr.models.SFNEBlock\u001b[0m:\u001b[36mcall\u001b[0m:\u001b[36m196\u001b[0m - \u001b[34m\u001b[1mSFNEBlock context_weights_expanded shape: (None, 64, 1)\u001b[0m\n",
      "\u001b[32m2025-10-30 17:21:57.646\u001b[0m | \u001b[34m\u001b[1mDEBUG   \u001b[0m | \u001b[36mkmr.models.SFNEBlock\u001b[0m:\u001b[36mcall\u001b[0m:\u001b[36m202\u001b[0m - \u001b[34m\u001b[1mSFNEBlock global_output shape: (None, 64, 16)\u001b[0m\n",
      "\u001b[32m2025-10-30 17:21:57.650\u001b[0m | \u001b[34m\u001b[1mDEBUG   \u001b[0m | \u001b[36mkmr.models.SFNEBlock\u001b[0m:\u001b[36mcall\u001b[0m:\u001b[36m206\u001b[0m - \u001b[34m\u001b[1mSFNEBlock local_output shape: (None, 64, 16)\u001b[0m\n",
      "\u001b[32m2025-10-30 17:21:57.651\u001b[0m | \u001b[34m\u001b[1mDEBUG   \u001b[0m | \u001b[36mkmr.models.SFNEBlock\u001b[0m:\u001b[36mcall\u001b[0m:\u001b[36m210\u001b[0m - \u001b[34m\u001b[1mSFNEBlock combined_output shape: (None, 64, 32)\u001b[0m\n",
      "\u001b[32m2025-10-30 17:21:57.651\u001b[0m | \u001b[34m\u001b[1mDEBUG   \u001b[0m | \u001b[36mkmr.models.SFNEBlock\u001b[0m:\u001b[36mcall\u001b[0m:\u001b[36m217\u001b[0m - \u001b[34m\u001b[1mSFNEBlock combined_output_flat shape: (None, 2048)\u001b[0m\n",
      "\u001b[32m2025-10-30 17:21:57.654\u001b[0m | \u001b[34m\u001b[1mDEBUG   \u001b[0m | \u001b[36mkmr.models.SFNEBlock\u001b[0m:\u001b[36mcall\u001b[0m:\u001b[36m223\u001b[0m - \u001b[34m\u001b[1mSFNEBlock bottleneck_output shape: (None, 16)\u001b[0m\n",
      "\u001b[32m2025-10-30 17:21:57.656\u001b[0m | \u001b[34m\u001b[1mDEBUG   \u001b[0m | \u001b[36mkmr.models.SFNEBlock\u001b[0m:\u001b[36mcall\u001b[0m:\u001b[36m227\u001b[0m - \u001b[34m\u001b[1mSFNEBlock output_layer output shape: (None, 16)\u001b[0m\n",
      "\u001b[32m2025-10-30 17:21:57.656\u001b[0m | \u001b[34m\u001b[1mDEBUG   \u001b[0m | \u001b[36mkmr.models.SFNEBlock\u001b[0m:\u001b[36mcall\u001b[0m:\u001b[36m176\u001b[0m - \u001b[34m\u001b[1mSFNEBlock input shape: (None, 16)\u001b[0m\n",
      "\u001b[32m2025-10-30 17:21:57.664\u001b[0m | \u001b[34m\u001b[1mDEBUG   \u001b[0m | \u001b[36mkmr.layers.SlowNetwork\u001b[0m:\u001b[36mcall\u001b[0m:\u001b[36m122\u001b[0m - \u001b[34m\u001b[1mSlowNetwork input shape: (None, 64)\u001b[0m\n",
      "\u001b[32m2025-10-30 17:21:57.666\u001b[0m | \u001b[34m\u001b[1mDEBUG   \u001b[0m | \u001b[36mkmr.layers.SlowNetwork\u001b[0m:\u001b[36mcall\u001b[0m:\u001b[36m126\u001b[0m - \u001b[34m\u001b[1mSlowNetwork layer 0 output shape: (None, 128)\u001b[0m\n",
      "\u001b[32m2025-10-30 17:21:57.669\u001b[0m | \u001b[34m\u001b[1mDEBUG   \u001b[0m | \u001b[36mkmr.layers.SlowNetwork\u001b[0m:\u001b[36mcall\u001b[0m:\u001b[36m126\u001b[0m - \u001b[34m\u001b[1mSlowNetwork layer 1 output shape: (None, 128)\u001b[0m\n",
      "\u001b[32m2025-10-30 17:21:57.671\u001b[0m | \u001b[34m\u001b[1mDEBUG   \u001b[0m | \u001b[36mkmr.layers.SlowNetwork\u001b[0m:\u001b[36mcall\u001b[0m:\u001b[36m126\u001b[0m - \u001b[34m\u001b[1mSlowNetwork layer 2 output shape: (None, 128)\u001b[0m\n",
      "\u001b[32m2025-10-30 17:21:57.673\u001b[0m | \u001b[34m\u001b[1mDEBUG   \u001b[0m | \u001b[36mkmr.layers.SlowNetwork\u001b[0m:\u001b[36mcall\u001b[0m:\u001b[36m129\u001b[0m - \u001b[34m\u001b[1mSlowNetwork output shape: (None, 16)\u001b[0m\n",
      "\u001b[32m2025-10-30 17:21:57.673\u001b[0m | \u001b[34m\u001b[1mDEBUG   \u001b[0m | \u001b[36mkmr.models.SFNEBlock\u001b[0m:\u001b[36mcall\u001b[0m:\u001b[36m188\u001b[0m - \u001b[34m\u001b[1mSFNEBlock hyper_kernels shape: (None, 16)\u001b[0m\n",
      "\u001b[32m2025-10-30 17:21:57.674\u001b[0m | \u001b[34m\u001b[1mDEBUG   \u001b[0m | \u001b[36mkmr.layers.HyperZZWOperator\u001b[0m:\u001b[36mcall\u001b[0m:\u001b[36m132\u001b[0m - \u001b[34m\u001b[1mHyperZZWOperator input_tensor shape: (None, 64)\u001b[0m\n",
      "\u001b[32m2025-10-30 17:21:57.674\u001b[0m | \u001b[34m\u001b[1mDEBUG   \u001b[0m | \u001b[36mkmr.layers.HyperZZWOperator\u001b[0m:\u001b[36mcall\u001b[0m:\u001b[36m133\u001b[0m - \u001b[34m\u001b[1mHyperZZWOperator context_tensor shape: (None, 16)\u001b[0m\n",
      "\u001b[32m2025-10-30 17:21:57.676\u001b[0m | \u001b[34m\u001b[1mDEBUG   \u001b[0m | \u001b[36mkmr.layers.HyperZZWOperator\u001b[0m:\u001b[36mcall\u001b[0m:\u001b[36m153\u001b[0m - \u001b[34m\u001b[1mHyperZZWOperator output shape: (None, 64)\u001b[0m\n",
      "\u001b[32m2025-10-30 17:21:57.677\u001b[0m | \u001b[34m\u001b[1mDEBUG   \u001b[0m | \u001b[36mkmr.models.SFNEBlock\u001b[0m:\u001b[36mcall\u001b[0m:\u001b[36m192\u001b[0m - \u001b[34m\u001b[1mSFNEBlock context_weights shape: (None, 64)\u001b[0m\n",
      "\u001b[32m2025-10-30 17:21:57.677\u001b[0m | \u001b[34m\u001b[1mDEBUG   \u001b[0m | \u001b[36mkmr.models.SFNEBlock\u001b[0m:\u001b[36mcall\u001b[0m:\u001b[36m196\u001b[0m - \u001b[34m\u001b[1mSFNEBlock context_weights_expanded shape: (None, 64, 1)\u001b[0m\n",
      "\u001b[32m2025-10-30 17:21:57.681\u001b[0m | \u001b[34m\u001b[1mDEBUG   \u001b[0m | \u001b[36mkmr.models.SFNEBlock\u001b[0m:\u001b[36mcall\u001b[0m:\u001b[36m202\u001b[0m - \u001b[34m\u001b[1mSFNEBlock global_output shape: (None, 64, 16)\u001b[0m\n",
      "\u001b[32m2025-10-30 17:21:57.685\u001b[0m | \u001b[34m\u001b[1mDEBUG   \u001b[0m | \u001b[36mkmr.models.SFNEBlock\u001b[0m:\u001b[36mcall\u001b[0m:\u001b[36m206\u001b[0m - \u001b[34m\u001b[1mSFNEBlock local_output shape: (None, 64, 16)\u001b[0m\n",
      "\u001b[32m2025-10-30 17:21:57.685\u001b[0m | \u001b[34m\u001b[1mDEBUG   \u001b[0m | \u001b[36mkmr.models.SFNEBlock\u001b[0m:\u001b[36mcall\u001b[0m:\u001b[36m210\u001b[0m - \u001b[34m\u001b[1mSFNEBlock combined_output shape: (None, 64, 32)\u001b[0m\n",
      "\u001b[32m2025-10-30 17:21:57.686\u001b[0m | \u001b[34m\u001b[1mDEBUG   \u001b[0m | \u001b[36mkmr.models.SFNEBlock\u001b[0m:\u001b[36mcall\u001b[0m:\u001b[36m217\u001b[0m - \u001b[34m\u001b[1mSFNEBlock combined_output_flat shape: (None, 2048)\u001b[0m\n"
     ]
    },
    {
     "name": "stdout",
     "output_type": "stream",
     "text": [
      "💾 Testing Keras format serialization...\n",
      "✅ Model saved to: /var/folders/v8/4l9cyywn1x970gdc1v67r5480000gn/T/tmpi8mapngd/terminator_demo.keras\n"
     ]
    },
    {
     "name": "stderr",
     "output_type": "stream",
     "text": [
      "\u001b[32m2025-10-30 17:21:57.689\u001b[0m | \u001b[34m\u001b[1mDEBUG   \u001b[0m | \u001b[36mkmr.models.SFNEBlock\u001b[0m:\u001b[36mcall\u001b[0m:\u001b[36m223\u001b[0m - \u001b[34m\u001b[1mSFNEBlock bottleneck_output shape: (None, 16)\u001b[0m\n",
      "\u001b[32m2025-10-30 17:21:57.691\u001b[0m | \u001b[34m\u001b[1mDEBUG   \u001b[0m | \u001b[36mkmr.models.SFNEBlock\u001b[0m:\u001b[36mcall\u001b[0m:\u001b[36m227\u001b[0m - \u001b[34m\u001b[1mSFNEBlock output_layer output shape: (None, 16)\u001b[0m\n",
      "\u001b[32m2025-10-30 17:21:57.691\u001b[0m | \u001b[34m\u001b[1mDEBUG   \u001b[0m | \u001b[36mkmr.models.TerminatorModel\u001b[0m:\u001b[36mcall\u001b[0m:\u001b[36m227\u001b[0m - \u001b[34m\u001b[1mTerminatorModel SFNEBlock 0 output shape: (None, 16)\u001b[0m\n",
      "\u001b[32m2025-10-30 17:21:57.691\u001b[0m | \u001b[34m\u001b[1mDEBUG   \u001b[0m | \u001b[36mkmr.models.SFNEBlock\u001b[0m:\u001b[36mcall\u001b[0m:\u001b[36m176\u001b[0m - \u001b[34m\u001b[1mSFNEBlock input shape: (None, 16)\u001b[0m\n",
      "\u001b[32m2025-10-30 17:21:57.699\u001b[0m | \u001b[34m\u001b[1mDEBUG   \u001b[0m | \u001b[36mkmr.layers.SlowNetwork\u001b[0m:\u001b[36mbuild\u001b[0m:\u001b[36m106\u001b[0m - \u001b[34m\u001b[1mSlowNetwork built with input_dim=16, num_layers=3, units=128\u001b[0m\n",
      "\u001b[32m2025-10-30 17:21:57.699\u001b[0m | \u001b[34m\u001b[1mDEBUG   \u001b[0m | \u001b[36mkmr.layers.SlowNetwork\u001b[0m:\u001b[36mcall\u001b[0m:\u001b[36m122\u001b[0m - \u001b[34m\u001b[1mSlowNetwork input shape: (None, 64)\u001b[0m\n",
      "\u001b[32m2025-10-30 17:21:57.702\u001b[0m | \u001b[34m\u001b[1mDEBUG   \u001b[0m | \u001b[36mkmr.layers.SlowNetwork\u001b[0m:\u001b[36mcall\u001b[0m:\u001b[36m126\u001b[0m - \u001b[34m\u001b[1mSlowNetwork layer 0 output shape: (None, 128)\u001b[0m\n",
      "\u001b[32m2025-10-30 17:21:57.705\u001b[0m | \u001b[34m\u001b[1mDEBUG   \u001b[0m | \u001b[36mkmr.layers.SlowNetwork\u001b[0m:\u001b[36mcall\u001b[0m:\u001b[36m126\u001b[0m - \u001b[34m\u001b[1mSlowNetwork layer 1 output shape: (None, 128)\u001b[0m\n",
      "\u001b[32m2025-10-30 17:21:57.707\u001b[0m | \u001b[34m\u001b[1mDEBUG   \u001b[0m | \u001b[36mkmr.layers.SlowNetwork\u001b[0m:\u001b[36mcall\u001b[0m:\u001b[36m126\u001b[0m - \u001b[34m\u001b[1mSlowNetwork layer 2 output shape: (None, 128)\u001b[0m\n",
      "\u001b[32m2025-10-30 17:21:57.709\u001b[0m | \u001b[34m\u001b[1mDEBUG   \u001b[0m | \u001b[36mkmr.layers.SlowNetwork\u001b[0m:\u001b[36mcall\u001b[0m:\u001b[36m129\u001b[0m - \u001b[34m\u001b[1mSlowNetwork output shape: (None, 16)\u001b[0m\n",
      "\u001b[32m2025-10-30 17:21:57.709\u001b[0m | \u001b[34m\u001b[1mDEBUG   \u001b[0m | \u001b[36mkmr.models.SFNEBlock\u001b[0m:\u001b[36mcall\u001b[0m:\u001b[36m188\u001b[0m - \u001b[34m\u001b[1mSFNEBlock hyper_kernels shape: (None, 16)\u001b[0m\n",
      "\u001b[32m2025-10-30 17:21:57.710\u001b[0m | \u001b[34m\u001b[1mDEBUG   \u001b[0m | \u001b[36mkmr.layers.HyperZZWOperator\u001b[0m:\u001b[36mbuild\u001b[0m:\u001b[36m112\u001b[0m - \u001b[34m\u001b[1mHyperZZWOperator built with input_dim=64, context_dim=16\u001b[0m\n",
      "\u001b[32m2025-10-30 17:21:57.710\u001b[0m | \u001b[34m\u001b[1mDEBUG   \u001b[0m | \u001b[36mkmr.layers.HyperZZWOperator\u001b[0m:\u001b[36mcall\u001b[0m:\u001b[36m132\u001b[0m - \u001b[34m\u001b[1mHyperZZWOperator input_tensor shape: (None, 64)\u001b[0m\n",
      "\u001b[32m2025-10-30 17:21:57.710\u001b[0m | \u001b[34m\u001b[1mDEBUG   \u001b[0m | \u001b[36mkmr.layers.HyperZZWOperator\u001b[0m:\u001b[36mcall\u001b[0m:\u001b[36m133\u001b[0m - \u001b[34m\u001b[1mHyperZZWOperator context_tensor shape: (None, 16)\u001b[0m\n",
      "\u001b[32m2025-10-30 17:21:57.713\u001b[0m | \u001b[34m\u001b[1mDEBUG   \u001b[0m | \u001b[36mkmr.layers.HyperZZWOperator\u001b[0m:\u001b[36mcall\u001b[0m:\u001b[36m153\u001b[0m - \u001b[34m\u001b[1mHyperZZWOperator output shape: (None, 64)\u001b[0m\n",
      "\u001b[32m2025-10-30 17:21:57.713\u001b[0m | \u001b[34m\u001b[1mDEBUG   \u001b[0m | \u001b[36mkmr.models.SFNEBlock\u001b[0m:\u001b[36mcall\u001b[0m:\u001b[36m192\u001b[0m - \u001b[34m\u001b[1mSFNEBlock context_weights shape: (None, 64)\u001b[0m\n",
      "\u001b[32m2025-10-30 17:21:57.714\u001b[0m | \u001b[34m\u001b[1mDEBUG   \u001b[0m | \u001b[36mkmr.models.SFNEBlock\u001b[0m:\u001b[36mcall\u001b[0m:\u001b[36m196\u001b[0m - \u001b[34m\u001b[1mSFNEBlock context_weights_expanded shape: (None, 64, 1)\u001b[0m\n",
      "\u001b[32m2025-10-30 17:21:57.718\u001b[0m | \u001b[34m\u001b[1mDEBUG   \u001b[0m | \u001b[36mkmr.models.SFNEBlock\u001b[0m:\u001b[36mcall\u001b[0m:\u001b[36m202\u001b[0m - \u001b[34m\u001b[1mSFNEBlock global_output shape: (None, 64, 16)\u001b[0m\n",
      "\u001b[32m2025-10-30 17:21:57.722\u001b[0m | \u001b[34m\u001b[1mDEBUG   \u001b[0m | \u001b[36mkmr.models.SFNEBlock\u001b[0m:\u001b[36mcall\u001b[0m:\u001b[36m206\u001b[0m - \u001b[34m\u001b[1mSFNEBlock local_output shape: (None, 64, 16)\u001b[0m\n",
      "\u001b[32m2025-10-30 17:21:57.722\u001b[0m | \u001b[34m\u001b[1mDEBUG   \u001b[0m | \u001b[36mkmr.models.SFNEBlock\u001b[0m:\u001b[36mcall\u001b[0m:\u001b[36m210\u001b[0m - \u001b[34m\u001b[1mSFNEBlock combined_output shape: (None, 64, 32)\u001b[0m\n",
      "\u001b[32m2025-10-30 17:21:57.723\u001b[0m | \u001b[34m\u001b[1mDEBUG   \u001b[0m | \u001b[36mkmr.models.SFNEBlock\u001b[0m:\u001b[36mcall\u001b[0m:\u001b[36m217\u001b[0m - \u001b[34m\u001b[1mSFNEBlock combined_output_flat shape: (None, 2048)\u001b[0m\n",
      "\u001b[32m2025-10-30 17:21:57.726\u001b[0m | \u001b[34m\u001b[1mDEBUG   \u001b[0m | \u001b[36mkmr.models.SFNEBlock\u001b[0m:\u001b[36mcall\u001b[0m:\u001b[36m223\u001b[0m - \u001b[34m\u001b[1mSFNEBlock bottleneck_output shape: (None, 16)\u001b[0m\n",
      "\u001b[32m2025-10-30 17:21:57.728\u001b[0m | \u001b[34m\u001b[1mDEBUG   \u001b[0m | \u001b[36mkmr.models.SFNEBlock\u001b[0m:\u001b[36mcall\u001b[0m:\u001b[36m227\u001b[0m - \u001b[34m\u001b[1mSFNEBlock output_layer output shape: (None, 16)\u001b[0m\n",
      "\u001b[32m2025-10-30 17:21:57.728\u001b[0m | \u001b[34m\u001b[1mDEBUG   \u001b[0m | \u001b[36mkmr.models.SFNEBlock\u001b[0m:\u001b[36mcall\u001b[0m:\u001b[36m176\u001b[0m - \u001b[34m\u001b[1mSFNEBlock input shape: (None, 16)\u001b[0m\n",
      "\u001b[32m2025-10-30 17:21:57.734\u001b[0m | \u001b[34m\u001b[1mDEBUG   \u001b[0m | \u001b[36mkmr.layers.SlowNetwork\u001b[0m:\u001b[36mcall\u001b[0m:\u001b[36m122\u001b[0m - \u001b[34m\u001b[1mSlowNetwork input shape: (None, 64)\u001b[0m\n",
      "\u001b[32m2025-10-30 17:21:57.737\u001b[0m | \u001b[34m\u001b[1mDEBUG   \u001b[0m | \u001b[36mkmr.layers.SlowNetwork\u001b[0m:\u001b[36mcall\u001b[0m:\u001b[36m126\u001b[0m - \u001b[34m\u001b[1mSlowNetwork layer 0 output shape: (None, 128)\u001b[0m\n",
      "\u001b[32m2025-10-30 17:21:57.739\u001b[0m | \u001b[34m\u001b[1mDEBUG   \u001b[0m | \u001b[36mkmr.layers.SlowNetwork\u001b[0m:\u001b[36mcall\u001b[0m:\u001b[36m126\u001b[0m - \u001b[34m\u001b[1mSlowNetwork layer 1 output shape: (None, 128)\u001b[0m\n",
      "\u001b[32m2025-10-30 17:21:57.742\u001b[0m | \u001b[34m\u001b[1mDEBUG   \u001b[0m | \u001b[36mkmr.layers.SlowNetwork\u001b[0m:\u001b[36mcall\u001b[0m:\u001b[36m126\u001b[0m - \u001b[34m\u001b[1mSlowNetwork layer 2 output shape: (None, 128)\u001b[0m\n",
      "\u001b[32m2025-10-30 17:21:57.744\u001b[0m | \u001b[34m\u001b[1mDEBUG   \u001b[0m | \u001b[36mkmr.layers.SlowNetwork\u001b[0m:\u001b[36mcall\u001b[0m:\u001b[36m129\u001b[0m - \u001b[34m\u001b[1mSlowNetwork output shape: (None, 16)\u001b[0m\n",
      "\u001b[32m2025-10-30 17:21:57.744\u001b[0m | \u001b[34m\u001b[1mDEBUG   \u001b[0m | \u001b[36mkmr.models.SFNEBlock\u001b[0m:\u001b[36mcall\u001b[0m:\u001b[36m188\u001b[0m - \u001b[34m\u001b[1mSFNEBlock hyper_kernels shape: (None, 16)\u001b[0m\n",
      "\u001b[32m2025-10-30 17:21:57.744\u001b[0m | \u001b[34m\u001b[1mDEBUG   \u001b[0m | \u001b[36mkmr.layers.HyperZZWOperator\u001b[0m:\u001b[36mcall\u001b[0m:\u001b[36m132\u001b[0m - \u001b[34m\u001b[1mHyperZZWOperator input_tensor shape: (None, 64)\u001b[0m\n",
      "\u001b[32m2025-10-30 17:21:57.744\u001b[0m | \u001b[34m\u001b[1mDEBUG   \u001b[0m | \u001b[36mkmr.layers.HyperZZWOperator\u001b[0m:\u001b[36mcall\u001b[0m:\u001b[36m133\u001b[0m - \u001b[34m\u001b[1mHyperZZWOperator context_tensor shape: (None, 16)\u001b[0m\n",
      "\u001b[32m2025-10-30 17:21:57.747\u001b[0m | \u001b[34m\u001b[1mDEBUG   \u001b[0m | \u001b[36mkmr.layers.HyperZZWOperator\u001b[0m:\u001b[36mcall\u001b[0m:\u001b[36m153\u001b[0m - \u001b[34m\u001b[1mHyperZZWOperator output shape: (None, 64)\u001b[0m\n",
      "\u001b[32m2025-10-30 17:21:57.747\u001b[0m | \u001b[34m\u001b[1mDEBUG   \u001b[0m | \u001b[36mkmr.models.SFNEBlock\u001b[0m:\u001b[36mcall\u001b[0m:\u001b[36m192\u001b[0m - \u001b[34m\u001b[1mSFNEBlock context_weights shape: (None, 64)\u001b[0m\n",
      "\u001b[32m2025-10-30 17:21:57.748\u001b[0m | \u001b[34m\u001b[1mDEBUG   \u001b[0m | \u001b[36mkmr.models.SFNEBlock\u001b[0m:\u001b[36mcall\u001b[0m:\u001b[36m196\u001b[0m - \u001b[34m\u001b[1mSFNEBlock context_weights_expanded shape: (None, 64, 1)\u001b[0m\n",
      "\u001b[32m2025-10-30 17:21:57.752\u001b[0m | \u001b[34m\u001b[1mDEBUG   \u001b[0m | \u001b[36mkmr.models.SFNEBlock\u001b[0m:\u001b[36mcall\u001b[0m:\u001b[36m202\u001b[0m - \u001b[34m\u001b[1mSFNEBlock global_output shape: (None, 64, 16)\u001b[0m\n",
      "\u001b[32m2025-10-30 17:21:57.756\u001b[0m | \u001b[34m\u001b[1mDEBUG   \u001b[0m | \u001b[36mkmr.models.SFNEBlock\u001b[0m:\u001b[36mcall\u001b[0m:\u001b[36m206\u001b[0m - \u001b[34m\u001b[1mSFNEBlock local_output shape: (None, 64, 16)\u001b[0m\n",
      "\u001b[32m2025-10-30 17:21:57.756\u001b[0m | \u001b[34m\u001b[1mDEBUG   \u001b[0m | \u001b[36mkmr.models.SFNEBlock\u001b[0m:\u001b[36mcall\u001b[0m:\u001b[36m210\u001b[0m - \u001b[34m\u001b[1mSFNEBlock combined_output shape: (None, 64, 32)\u001b[0m\n",
      "\u001b[32m2025-10-30 17:21:57.757\u001b[0m | \u001b[34m\u001b[1mDEBUG   \u001b[0m | \u001b[36mkmr.models.SFNEBlock\u001b[0m:\u001b[36mcall\u001b[0m:\u001b[36m217\u001b[0m - \u001b[34m\u001b[1mSFNEBlock combined_output_flat shape: (None, 2048)\u001b[0m\n",
      "\u001b[32m2025-10-30 17:21:57.759\u001b[0m | \u001b[34m\u001b[1mDEBUG   \u001b[0m | \u001b[36mkmr.models.SFNEBlock\u001b[0m:\u001b[36mcall\u001b[0m:\u001b[36m223\u001b[0m - \u001b[34m\u001b[1mSFNEBlock bottleneck_output shape: (None, 16)\u001b[0m\n",
      "\u001b[32m2025-10-30 17:21:57.762\u001b[0m | \u001b[34m\u001b[1mDEBUG   \u001b[0m | \u001b[36mkmr.models.SFNEBlock\u001b[0m:\u001b[36mcall\u001b[0m:\u001b[36m227\u001b[0m - \u001b[34m\u001b[1mSFNEBlock output_layer output shape: (None, 16)\u001b[0m\n",
      "\u001b[32m2025-10-30 17:21:57.762\u001b[0m | \u001b[34m\u001b[1mDEBUG   \u001b[0m | \u001b[36mkmr.models.TerminatorModel\u001b[0m:\u001b[36mcall\u001b[0m:\u001b[36m227\u001b[0m - \u001b[34m\u001b[1mTerminatorModel SFNEBlock 1 output shape: (None, 16)\u001b[0m\n",
      "\u001b[32m2025-10-30 17:21:57.762\u001b[0m | \u001b[34m\u001b[1mDEBUG   \u001b[0m | \u001b[36mkmr.models.SFNEBlock\u001b[0m:\u001b[36mcall\u001b[0m:\u001b[36m176\u001b[0m - \u001b[34m\u001b[1mSFNEBlock input shape: (None, 16)\u001b[0m\n",
      "\u001b[32m2025-10-30 17:21:57.770\u001b[0m | \u001b[34m\u001b[1mDEBUG   \u001b[0m | \u001b[36mkmr.layers.SlowNetwork\u001b[0m:\u001b[36mbuild\u001b[0m:\u001b[36m106\u001b[0m - \u001b[34m\u001b[1mSlowNetwork built with input_dim=16, num_layers=3, units=128\u001b[0m\n",
      "\u001b[32m2025-10-30 17:21:57.770\u001b[0m | \u001b[34m\u001b[1mDEBUG   \u001b[0m | \u001b[36mkmr.layers.SlowNetwork\u001b[0m:\u001b[36mcall\u001b[0m:\u001b[36m122\u001b[0m - \u001b[34m\u001b[1mSlowNetwork input shape: (None, 64)\u001b[0m\n",
      "\u001b[32m2025-10-30 17:21:57.773\u001b[0m | \u001b[34m\u001b[1mDEBUG   \u001b[0m | \u001b[36mkmr.layers.SlowNetwork\u001b[0m:\u001b[36mcall\u001b[0m:\u001b[36m126\u001b[0m - \u001b[34m\u001b[1mSlowNetwork layer 0 output shape: (None, 128)\u001b[0m\n",
      "\u001b[32m2025-10-30 17:21:57.775\u001b[0m | \u001b[34m\u001b[1mDEBUG   \u001b[0m | \u001b[36mkmr.layers.SlowNetwork\u001b[0m:\u001b[36mcall\u001b[0m:\u001b[36m126\u001b[0m - \u001b[34m\u001b[1mSlowNetwork layer 1 output shape: (None, 128)\u001b[0m\n",
      "\u001b[32m2025-10-30 17:21:57.778\u001b[0m | \u001b[34m\u001b[1mDEBUG   \u001b[0m | \u001b[36mkmr.layers.SlowNetwork\u001b[0m:\u001b[36mcall\u001b[0m:\u001b[36m126\u001b[0m - \u001b[34m\u001b[1mSlowNetwork layer 2 output shape: (None, 128)\u001b[0m\n",
      "\u001b[32m2025-10-30 17:21:57.780\u001b[0m | \u001b[34m\u001b[1mDEBUG   \u001b[0m | \u001b[36mkmr.layers.SlowNetwork\u001b[0m:\u001b[36mcall\u001b[0m:\u001b[36m129\u001b[0m - \u001b[34m\u001b[1mSlowNetwork output shape: (None, 16)\u001b[0m\n",
      "\u001b[32m2025-10-30 17:21:57.780\u001b[0m | \u001b[34m\u001b[1mDEBUG   \u001b[0m | \u001b[36mkmr.models.SFNEBlock\u001b[0m:\u001b[36mcall\u001b[0m:\u001b[36m188\u001b[0m - \u001b[34m\u001b[1mSFNEBlock hyper_kernels shape: (None, 16)\u001b[0m\n",
      "\u001b[32m2025-10-30 17:21:57.781\u001b[0m | \u001b[34m\u001b[1mDEBUG   \u001b[0m | \u001b[36mkmr.layers.HyperZZWOperator\u001b[0m:\u001b[36mbuild\u001b[0m:\u001b[36m112\u001b[0m - \u001b[34m\u001b[1mHyperZZWOperator built with input_dim=64, context_dim=16\u001b[0m\n",
      "\u001b[32m2025-10-30 17:21:57.781\u001b[0m | \u001b[34m\u001b[1mDEBUG   \u001b[0m | \u001b[36mkmr.layers.HyperZZWOperator\u001b[0m:\u001b[36mcall\u001b[0m:\u001b[36m132\u001b[0m - \u001b[34m\u001b[1mHyperZZWOperator input_tensor shape: (None, 64)\u001b[0m\n",
      "\u001b[32m2025-10-30 17:21:57.781\u001b[0m | \u001b[34m\u001b[1mDEBUG   \u001b[0m | \u001b[36mkmr.layers.HyperZZWOperator\u001b[0m:\u001b[36mcall\u001b[0m:\u001b[36m133\u001b[0m - \u001b[34m\u001b[1mHyperZZWOperator context_tensor shape: (None, 16)\u001b[0m\n",
      "\u001b[32m2025-10-30 17:21:57.784\u001b[0m | \u001b[34m\u001b[1mDEBUG   \u001b[0m | \u001b[36mkmr.layers.HyperZZWOperator\u001b[0m:\u001b[36mcall\u001b[0m:\u001b[36m153\u001b[0m - \u001b[34m\u001b[1mHyperZZWOperator output shape: (None, 64)\u001b[0m\n",
      "\u001b[32m2025-10-30 17:21:57.784\u001b[0m | \u001b[34m\u001b[1mDEBUG   \u001b[0m | \u001b[36mkmr.models.SFNEBlock\u001b[0m:\u001b[36mcall\u001b[0m:\u001b[36m192\u001b[0m - \u001b[34m\u001b[1mSFNEBlock context_weights shape: (None, 64)\u001b[0m\n",
      "\u001b[32m2025-10-30 17:21:57.784\u001b[0m | \u001b[34m\u001b[1mDEBUG   \u001b[0m | \u001b[36mkmr.models.SFNEBlock\u001b[0m:\u001b[36mcall\u001b[0m:\u001b[36m196\u001b[0m - \u001b[34m\u001b[1mSFNEBlock context_weights_expanded shape: (None, 64, 1)\u001b[0m\n",
      "\u001b[32m2025-10-30 17:21:57.789\u001b[0m | \u001b[34m\u001b[1mDEBUG   \u001b[0m | \u001b[36mkmr.models.SFNEBlock\u001b[0m:\u001b[36mcall\u001b[0m:\u001b[36m202\u001b[0m - \u001b[34m\u001b[1mSFNEBlock global_output shape: (None, 64, 16)\u001b[0m\n",
      "\u001b[32m2025-10-30 17:21:57.793\u001b[0m | \u001b[34m\u001b[1mDEBUG   \u001b[0m | \u001b[36mkmr.models.SFNEBlock\u001b[0m:\u001b[36mcall\u001b[0m:\u001b[36m206\u001b[0m - \u001b[34m\u001b[1mSFNEBlock local_output shape: (None, 64, 16)\u001b[0m\n",
      "\u001b[32m2025-10-30 17:21:57.794\u001b[0m | \u001b[34m\u001b[1mDEBUG   \u001b[0m | \u001b[36mkmr.models.SFNEBlock\u001b[0m:\u001b[36mcall\u001b[0m:\u001b[36m210\u001b[0m - \u001b[34m\u001b[1mSFNEBlock combined_output shape: (None, 64, 32)\u001b[0m\n",
      "\u001b[32m2025-10-30 17:21:57.794\u001b[0m | \u001b[34m\u001b[1mDEBUG   \u001b[0m | \u001b[36mkmr.models.SFNEBlock\u001b[0m:\u001b[36mcall\u001b[0m:\u001b[36m217\u001b[0m - \u001b[34m\u001b[1mSFNEBlock combined_output_flat shape: (None, 2048)\u001b[0m\n",
      "\u001b[32m2025-10-30 17:21:57.797\u001b[0m | \u001b[34m\u001b[1mDEBUG   \u001b[0m | \u001b[36mkmr.models.SFNEBlock\u001b[0m:\u001b[36mcall\u001b[0m:\u001b[36m223\u001b[0m - \u001b[34m\u001b[1mSFNEBlock bottleneck_output shape: (None, 16)\u001b[0m\n",
      "\u001b[32m2025-10-30 17:21:57.800\u001b[0m | \u001b[34m\u001b[1mDEBUG   \u001b[0m | \u001b[36mkmr.models.SFNEBlock\u001b[0m:\u001b[36mcall\u001b[0m:\u001b[36m227\u001b[0m - \u001b[34m\u001b[1mSFNEBlock output_layer output shape: (None, 16)\u001b[0m\n",
      "\u001b[32m2025-10-30 17:21:57.800\u001b[0m | \u001b[34m\u001b[1mDEBUG   \u001b[0m | \u001b[36mkmr.models.SFNEBlock\u001b[0m:\u001b[36mcall\u001b[0m:\u001b[36m176\u001b[0m - \u001b[34m\u001b[1mSFNEBlock input shape: (None, 16)\u001b[0m\n",
      "\u001b[32m2025-10-30 17:21:57.806\u001b[0m | \u001b[34m\u001b[1mDEBUG   \u001b[0m | \u001b[36mkmr.layers.SlowNetwork\u001b[0m:\u001b[36mcall\u001b[0m:\u001b[36m122\u001b[0m - \u001b[34m\u001b[1mSlowNetwork input shape: (None, 64)\u001b[0m\n",
      "\u001b[32m2025-10-30 17:21:57.810\u001b[0m | \u001b[34m\u001b[1mDEBUG   \u001b[0m | \u001b[36mkmr.layers.SlowNetwork\u001b[0m:\u001b[36mcall\u001b[0m:\u001b[36m126\u001b[0m - \u001b[34m\u001b[1mSlowNetwork layer 0 output shape: (None, 128)\u001b[0m\n",
      "\u001b[32m2025-10-30 17:21:57.812\u001b[0m | \u001b[34m\u001b[1mDEBUG   \u001b[0m | \u001b[36mkmr.layers.SlowNetwork\u001b[0m:\u001b[36mcall\u001b[0m:\u001b[36m126\u001b[0m - \u001b[34m\u001b[1mSlowNetwork layer 1 output shape: (None, 128)\u001b[0m\n",
      "\u001b[32m2025-10-30 17:21:57.815\u001b[0m | \u001b[34m\u001b[1mDEBUG   \u001b[0m | \u001b[36mkmr.layers.SlowNetwork\u001b[0m:\u001b[36mcall\u001b[0m:\u001b[36m126\u001b[0m - \u001b[34m\u001b[1mSlowNetwork layer 2 output shape: (None, 128)\u001b[0m\n",
      "\u001b[32m2025-10-30 17:21:57.817\u001b[0m | \u001b[34m\u001b[1mDEBUG   \u001b[0m | \u001b[36mkmr.layers.SlowNetwork\u001b[0m:\u001b[36mcall\u001b[0m:\u001b[36m129\u001b[0m - \u001b[34m\u001b[1mSlowNetwork output shape: (None, 16)\u001b[0m\n",
      "\u001b[32m2025-10-30 17:21:57.818\u001b[0m | \u001b[34m\u001b[1mDEBUG   \u001b[0m | \u001b[36mkmr.models.SFNEBlock\u001b[0m:\u001b[36mcall\u001b[0m:\u001b[36m188\u001b[0m - \u001b[34m\u001b[1mSFNEBlock hyper_kernels shape: (None, 16)\u001b[0m\n",
      "\u001b[32m2025-10-30 17:21:57.818\u001b[0m | \u001b[34m\u001b[1mDEBUG   \u001b[0m | \u001b[36mkmr.layers.HyperZZWOperator\u001b[0m:\u001b[36mcall\u001b[0m:\u001b[36m132\u001b[0m - \u001b[34m\u001b[1mHyperZZWOperator input_tensor shape: (None, 64)\u001b[0m\n",
      "\u001b[32m2025-10-30 17:21:57.818\u001b[0m | \u001b[34m\u001b[1mDEBUG   \u001b[0m | \u001b[36mkmr.layers.HyperZZWOperator\u001b[0m:\u001b[36mcall\u001b[0m:\u001b[36m133\u001b[0m - \u001b[34m\u001b[1mHyperZZWOperator context_tensor shape: (None, 16)\u001b[0m\n",
      "\u001b[32m2025-10-30 17:21:57.821\u001b[0m | \u001b[34m\u001b[1mDEBUG   \u001b[0m | \u001b[36mkmr.layers.HyperZZWOperator\u001b[0m:\u001b[36mcall\u001b[0m:\u001b[36m153\u001b[0m - \u001b[34m\u001b[1mHyperZZWOperator output shape: (None, 64)\u001b[0m\n",
      "\u001b[32m2025-10-30 17:21:57.821\u001b[0m | \u001b[34m\u001b[1mDEBUG   \u001b[0m | \u001b[36mkmr.models.SFNEBlock\u001b[0m:\u001b[36mcall\u001b[0m:\u001b[36m192\u001b[0m - \u001b[34m\u001b[1mSFNEBlock context_weights shape: (None, 64)\u001b[0m\n",
      "\u001b[32m2025-10-30 17:21:57.822\u001b[0m | \u001b[34m\u001b[1mDEBUG   \u001b[0m | \u001b[36mkmr.models.SFNEBlock\u001b[0m:\u001b[36mcall\u001b[0m:\u001b[36m196\u001b[0m - \u001b[34m\u001b[1mSFNEBlock context_weights_expanded shape: (None, 64, 1)\u001b[0m\n",
      "\u001b[32m2025-10-30 17:21:57.826\u001b[0m | \u001b[34m\u001b[1mDEBUG   \u001b[0m | \u001b[36mkmr.models.SFNEBlock\u001b[0m:\u001b[36mcall\u001b[0m:\u001b[36m202\u001b[0m - \u001b[34m\u001b[1mSFNEBlock global_output shape: (None, 64, 16)\u001b[0m\n",
      "\u001b[32m2025-10-30 17:21:57.830\u001b[0m | \u001b[34m\u001b[1mDEBUG   \u001b[0m | \u001b[36mkmr.models.SFNEBlock\u001b[0m:\u001b[36mcall\u001b[0m:\u001b[36m206\u001b[0m - \u001b[34m\u001b[1mSFNEBlock local_output shape: (None, 64, 16)\u001b[0m\n",
      "\u001b[32m2025-10-30 17:21:57.830\u001b[0m | \u001b[34m\u001b[1mDEBUG   \u001b[0m | \u001b[36mkmr.models.SFNEBlock\u001b[0m:\u001b[36mcall\u001b[0m:\u001b[36m210\u001b[0m - \u001b[34m\u001b[1mSFNEBlock combined_output shape: (None, 64, 32)\u001b[0m\n",
      "\u001b[32m2025-10-30 17:21:57.831\u001b[0m | \u001b[34m\u001b[1mDEBUG   \u001b[0m | \u001b[36mkmr.models.SFNEBlock\u001b[0m:\u001b[36mcall\u001b[0m:\u001b[36m217\u001b[0m - \u001b[34m\u001b[1mSFNEBlock combined_output_flat shape: (None, 2048)\u001b[0m\n",
      "\u001b[32m2025-10-30 17:21:57.834\u001b[0m | \u001b[34m\u001b[1mDEBUG   \u001b[0m | \u001b[36mkmr.models.SFNEBlock\u001b[0m:\u001b[36mcall\u001b[0m:\u001b[36m223\u001b[0m - \u001b[34m\u001b[1mSFNEBlock bottleneck_output shape: (None, 16)\u001b[0m\n",
      "\u001b[32m2025-10-30 17:21:57.836\u001b[0m | \u001b[34m\u001b[1mDEBUG   \u001b[0m | \u001b[36mkmr.models.SFNEBlock\u001b[0m:\u001b[36mcall\u001b[0m:\u001b[36m227\u001b[0m - \u001b[34m\u001b[1mSFNEBlock output_layer output shape: (None, 16)\u001b[0m\n",
      "\u001b[32m2025-10-30 17:21:57.836\u001b[0m | \u001b[34m\u001b[1mDEBUG   \u001b[0m | \u001b[36mkmr.models.TerminatorModel\u001b[0m:\u001b[36mcall\u001b[0m:\u001b[36m227\u001b[0m - \u001b[34m\u001b[1mTerminatorModel SFNEBlock 2 output shape: (None, 16)\u001b[0m\n",
      "\u001b[32m2025-10-30 17:21:57.839\u001b[0m | \u001b[34m\u001b[1mDEBUG   \u001b[0m | \u001b[36mkmr.models.TerminatorModel\u001b[0m:\u001b[36mcall\u001b[0m:\u001b[36m234\u001b[0m - \u001b[34m\u001b[1mTerminatorModel output_layer output shape: (None, 1)\u001b[0m\n",
      "\u001b[32m2025-10-30 17:21:58.003\u001b[0m | \u001b[34m\u001b[1mDEBUG   \u001b[0m | \u001b[36mkmr.models.TerminatorModel\u001b[0m:\u001b[36mcall\u001b[0m:\u001b[36m205\u001b[0m - \u001b[34m\u001b[1mTerminatorModel input shape: (32, 16), context shape: (32, 8)\u001b[0m\n",
      "\u001b[32m2025-10-30 17:21:58.004\u001b[0m | \u001b[34m\u001b[1mDEBUG   \u001b[0m | \u001b[36mkmr.models.TerminatorModel\u001b[0m:\u001b[36mcall\u001b[0m:\u001b[36m211\u001b[0m - \u001b[34m\u001b[1mTerminatorModel input_layer output shape: (32, 16)\u001b[0m\n",
      "\u001b[32m2025-10-30 17:21:58.005\u001b[0m | \u001b[34m\u001b[1mDEBUG   \u001b[0m | \u001b[36mkmr.layers.SlowNetwork\u001b[0m:\u001b[36mcall\u001b[0m:\u001b[36m122\u001b[0m - \u001b[34m\u001b[1mSlowNetwork input shape: (32, 8)\u001b[0m\n",
      "\u001b[32m2025-10-30 17:21:58.007\u001b[0m | \u001b[34m\u001b[1mDEBUG   \u001b[0m | \u001b[36mkmr.layers.SlowNetwork\u001b[0m:\u001b[36mcall\u001b[0m:\u001b[36m126\u001b[0m - \u001b[34m\u001b[1mSlowNetwork layer 0 output shape: (32, 128)\u001b[0m\n",
      "\u001b[32m2025-10-30 17:21:58.008\u001b[0m | \u001b[34m\u001b[1mDEBUG   \u001b[0m | \u001b[36mkmr.layers.SlowNetwork\u001b[0m:\u001b[36mcall\u001b[0m:\u001b[36m126\u001b[0m - \u001b[34m\u001b[1mSlowNetwork layer 1 output shape: (32, 128)\u001b[0m\n",
      "\u001b[32m2025-10-30 17:21:58.010\u001b[0m | \u001b[34m\u001b[1mDEBUG   \u001b[0m | \u001b[36mkmr.layers.SlowNetwork\u001b[0m:\u001b[36mcall\u001b[0m:\u001b[36m126\u001b[0m - \u001b[34m\u001b[1mSlowNetwork layer 2 output shape: (32, 128)\u001b[0m\n",
      "\u001b[32m2025-10-30 17:21:58.011\u001b[0m | \u001b[34m\u001b[1mDEBUG   \u001b[0m | \u001b[36mkmr.layers.SlowNetwork\u001b[0m:\u001b[36mcall\u001b[0m:\u001b[36m129\u001b[0m - \u001b[34m\u001b[1mSlowNetwork output shape: (32, 8)\u001b[0m\n",
      "\u001b[32m2025-10-30 17:21:58.011\u001b[0m | \u001b[34m\u001b[1mDEBUG   \u001b[0m | \u001b[36mkmr.models.TerminatorModel\u001b[0m:\u001b[36mcall\u001b[0m:\u001b[36m215\u001b[0m - \u001b[34m\u001b[1mTerminatorModel hyper_kernels shape: (32, 8)\u001b[0m\n",
      "\u001b[32m2025-10-30 17:21:58.012\u001b[0m | \u001b[34m\u001b[1mDEBUG   \u001b[0m | \u001b[36mkmr.layers.HyperZZWOperator\u001b[0m:\u001b[36mcall\u001b[0m:\u001b[36m132\u001b[0m - \u001b[34m\u001b[1mHyperZZWOperator input_tensor shape: (32, 16)\u001b[0m\n",
      "\u001b[32m2025-10-30 17:21:58.012\u001b[0m | \u001b[34m\u001b[1mDEBUG   \u001b[0m | \u001b[36mkmr.layers.HyperZZWOperator\u001b[0m:\u001b[36mcall\u001b[0m:\u001b[36m133\u001b[0m - \u001b[34m\u001b[1mHyperZZWOperator context_tensor shape: (32, 8)\u001b[0m\n",
      "\u001b[32m2025-10-30 17:21:58.013\u001b[0m | \u001b[34m\u001b[1mDEBUG   \u001b[0m | \u001b[36mkmr.layers.HyperZZWOperator\u001b[0m:\u001b[36mcall\u001b[0m:\u001b[36m153\u001b[0m - \u001b[34m\u001b[1mHyperZZWOperator output shape: (32, 16)\u001b[0m\n",
      "\u001b[32m2025-10-30 17:21:58.013\u001b[0m | \u001b[34m\u001b[1mDEBUG   \u001b[0m | \u001b[36mkmr.models.TerminatorModel\u001b[0m:\u001b[36mcall\u001b[0m:\u001b[36m219\u001b[0m - \u001b[34m\u001b[1mTerminatorModel context_weights shape: (32, 16)\u001b[0m\n",
      "\u001b[32m2025-10-30 17:21:58.014\u001b[0m | \u001b[34m\u001b[1mDEBUG   \u001b[0m | \u001b[36mkmr.models.SFNEBlock\u001b[0m:\u001b[36mcall\u001b[0m:\u001b[36m176\u001b[0m - \u001b[34m\u001b[1mSFNEBlock input shape: (32, 16)\u001b[0m\n",
      "\u001b[32m2025-10-30 17:21:58.019\u001b[0m | \u001b[34m\u001b[1mDEBUG   \u001b[0m | \u001b[36mkmr.layers.SlowNetwork\u001b[0m:\u001b[36mcall\u001b[0m:\u001b[36m122\u001b[0m - \u001b[34m\u001b[1mSlowNetwork input shape: (32, 64)\u001b[0m\n",
      "\u001b[32m2025-10-30 17:21:58.021\u001b[0m | \u001b[34m\u001b[1mDEBUG   \u001b[0m | \u001b[36mkmr.layers.SlowNetwork\u001b[0m:\u001b[36mcall\u001b[0m:\u001b[36m126\u001b[0m - \u001b[34m\u001b[1mSlowNetwork layer 0 output shape: (32, 128)\u001b[0m\n",
      "\u001b[32m2025-10-30 17:21:58.022\u001b[0m | \u001b[34m\u001b[1mDEBUG   \u001b[0m | \u001b[36mkmr.layers.SlowNetwork\u001b[0m:\u001b[36mcall\u001b[0m:\u001b[36m126\u001b[0m - \u001b[34m\u001b[1mSlowNetwork layer 1 output shape: (32, 128)\u001b[0m\n",
      "\u001b[32m2025-10-30 17:21:58.024\u001b[0m | \u001b[34m\u001b[1mDEBUG   \u001b[0m | \u001b[36mkmr.layers.SlowNetwork\u001b[0m:\u001b[36mcall\u001b[0m:\u001b[36m126\u001b[0m - \u001b[34m\u001b[1mSlowNetwork layer 2 output shape: (32, 128)\u001b[0m\n",
      "\u001b[32m2025-10-30 17:21:58.025\u001b[0m | \u001b[34m\u001b[1mDEBUG   \u001b[0m | \u001b[36mkmr.layers.SlowNetwork\u001b[0m:\u001b[36mcall\u001b[0m:\u001b[36m129\u001b[0m - \u001b[34m\u001b[1mSlowNetwork output shape: (32, 16)\u001b[0m\n",
      "\u001b[32m2025-10-30 17:21:58.025\u001b[0m | \u001b[34m\u001b[1mDEBUG   \u001b[0m | \u001b[36mkmr.models.SFNEBlock\u001b[0m:\u001b[36mcall\u001b[0m:\u001b[36m188\u001b[0m - \u001b[34m\u001b[1mSFNEBlock hyper_kernels shape: (32, 16)\u001b[0m\n",
      "\u001b[32m2025-10-30 17:21:58.025\u001b[0m | \u001b[34m\u001b[1mDEBUG   \u001b[0m | \u001b[36mkmr.layers.HyperZZWOperator\u001b[0m:\u001b[36mcall\u001b[0m:\u001b[36m132\u001b[0m - \u001b[34m\u001b[1mHyperZZWOperator input_tensor shape: (32, 64)\u001b[0m\n",
      "\u001b[32m2025-10-30 17:21:58.026\u001b[0m | \u001b[34m\u001b[1mDEBUG   \u001b[0m | \u001b[36mkmr.layers.HyperZZWOperator\u001b[0m:\u001b[36mcall\u001b[0m:\u001b[36m133\u001b[0m - \u001b[34m\u001b[1mHyperZZWOperator context_tensor shape: (32, 16)\u001b[0m\n",
      "\u001b[32m2025-10-30 17:21:58.027\u001b[0m | \u001b[34m\u001b[1mDEBUG   \u001b[0m | \u001b[36mkmr.layers.HyperZZWOperator\u001b[0m:\u001b[36mcall\u001b[0m:\u001b[36m153\u001b[0m - \u001b[34m\u001b[1mHyperZZWOperator output shape: (32, 64)\u001b[0m\n",
      "\u001b[32m2025-10-30 17:21:58.027\u001b[0m | \u001b[34m\u001b[1mDEBUG   \u001b[0m | \u001b[36mkmr.models.SFNEBlock\u001b[0m:\u001b[36mcall\u001b[0m:\u001b[36m192\u001b[0m - \u001b[34m\u001b[1mSFNEBlock context_weights shape: (32, 64)\u001b[0m\n",
      "\u001b[32m2025-10-30 17:21:58.027\u001b[0m | \u001b[34m\u001b[1mDEBUG   \u001b[0m | \u001b[36mkmr.models.SFNEBlock\u001b[0m:\u001b[36mcall\u001b[0m:\u001b[36m196\u001b[0m - \u001b[34m\u001b[1mSFNEBlock context_weights_expanded shape: (32, 64, 1)\u001b[0m\n",
      "\u001b[32m2025-10-30 17:21:58.030\u001b[0m | \u001b[34m\u001b[1mDEBUG   \u001b[0m | \u001b[36mkmr.models.SFNEBlock\u001b[0m:\u001b[36mcall\u001b[0m:\u001b[36m202\u001b[0m - \u001b[34m\u001b[1mSFNEBlock global_output shape: (32, 64, 16)\u001b[0m\n",
      "\u001b[32m2025-10-30 17:21:58.033\u001b[0m | \u001b[34m\u001b[1mDEBUG   \u001b[0m | \u001b[36mkmr.models.SFNEBlock\u001b[0m:\u001b[36mcall\u001b[0m:\u001b[36m206\u001b[0m - \u001b[34m\u001b[1mSFNEBlock local_output shape: (32, 64, 16)\u001b[0m\n",
      "\u001b[32m2025-10-30 17:21:58.034\u001b[0m | \u001b[34m\u001b[1mDEBUG   \u001b[0m | \u001b[36mkmr.models.SFNEBlock\u001b[0m:\u001b[36mcall\u001b[0m:\u001b[36m210\u001b[0m - \u001b[34m\u001b[1mSFNEBlock combined_output shape: (32, 64, 32)\u001b[0m\n",
      "\u001b[32m2025-10-30 17:21:58.034\u001b[0m | \u001b[34m\u001b[1mDEBUG   \u001b[0m | \u001b[36mkmr.models.SFNEBlock\u001b[0m:\u001b[36mcall\u001b[0m:\u001b[36m217\u001b[0m - \u001b[34m\u001b[1mSFNEBlock combined_output_flat shape: (32, 2048)\u001b[0m\n",
      "\u001b[32m2025-10-30 17:21:58.036\u001b[0m | \u001b[34m\u001b[1mDEBUG   \u001b[0m | \u001b[36mkmr.models.SFNEBlock\u001b[0m:\u001b[36mcall\u001b[0m:\u001b[36m223\u001b[0m - \u001b[34m\u001b[1mSFNEBlock bottleneck_output shape: (32, 16)\u001b[0m\n",
      "\u001b[32m2025-10-30 17:21:58.037\u001b[0m | \u001b[34m\u001b[1mDEBUG   \u001b[0m | \u001b[36mkmr.models.SFNEBlock\u001b[0m:\u001b[36mcall\u001b[0m:\u001b[36m227\u001b[0m - \u001b[34m\u001b[1mSFNEBlock output_layer output shape: (32, 16)\u001b[0m\n",
      "\u001b[32m2025-10-30 17:21:58.038\u001b[0m | \u001b[34m\u001b[1mDEBUG   \u001b[0m | \u001b[36mkmr.models.TerminatorModel\u001b[0m:\u001b[36mcall\u001b[0m:\u001b[36m227\u001b[0m - \u001b[34m\u001b[1mTerminatorModel SFNEBlock 0 output shape: (32, 16)\u001b[0m\n",
      "\u001b[32m2025-10-30 17:21:58.038\u001b[0m | \u001b[34m\u001b[1mDEBUG   \u001b[0m | \u001b[36mkmr.models.SFNEBlock\u001b[0m:\u001b[36mcall\u001b[0m:\u001b[36m176\u001b[0m - \u001b[34m\u001b[1mSFNEBlock input shape: (32, 16)\u001b[0m\n",
      "\u001b[32m2025-10-30 17:21:58.042\u001b[0m | \u001b[34m\u001b[1mDEBUG   \u001b[0m | \u001b[36mkmr.layers.SlowNetwork\u001b[0m:\u001b[36mcall\u001b[0m:\u001b[36m122\u001b[0m - \u001b[34m\u001b[1mSlowNetwork input shape: (32, 64)\u001b[0m\n",
      "\u001b[32m2025-10-30 17:21:58.043\u001b[0m | \u001b[34m\u001b[1mDEBUG   \u001b[0m | \u001b[36mkmr.layers.SlowNetwork\u001b[0m:\u001b[36mcall\u001b[0m:\u001b[36m126\u001b[0m - \u001b[34m\u001b[1mSlowNetwork layer 0 output shape: (32, 128)\u001b[0m\n",
      "\u001b[32m2025-10-30 17:21:58.044\u001b[0m | \u001b[34m\u001b[1mDEBUG   \u001b[0m | \u001b[36mkmr.layers.SlowNetwork\u001b[0m:\u001b[36mcall\u001b[0m:\u001b[36m126\u001b[0m - \u001b[34m\u001b[1mSlowNetwork layer 1 output shape: (32, 128)\u001b[0m\n",
      "\u001b[32m2025-10-30 17:21:58.046\u001b[0m | \u001b[34m\u001b[1mDEBUG   \u001b[0m | \u001b[36mkmr.layers.SlowNetwork\u001b[0m:\u001b[36mcall\u001b[0m:\u001b[36m126\u001b[0m - \u001b[34m\u001b[1mSlowNetwork layer 2 output shape: (32, 128)\u001b[0m\n",
      "\u001b[32m2025-10-30 17:21:58.047\u001b[0m | \u001b[34m\u001b[1mDEBUG   \u001b[0m | \u001b[36mkmr.layers.SlowNetwork\u001b[0m:\u001b[36mcall\u001b[0m:\u001b[36m129\u001b[0m - \u001b[34m\u001b[1mSlowNetwork output shape: (32, 16)\u001b[0m\n",
      "\u001b[32m2025-10-30 17:21:58.047\u001b[0m | \u001b[34m\u001b[1mDEBUG   \u001b[0m | \u001b[36mkmr.models.SFNEBlock\u001b[0m:\u001b[36mcall\u001b[0m:\u001b[36m188\u001b[0m - \u001b[34m\u001b[1mSFNEBlock hyper_kernels shape: (32, 16)\u001b[0m\n",
      "\u001b[32m2025-10-30 17:21:58.048\u001b[0m | \u001b[34m\u001b[1mDEBUG   \u001b[0m | \u001b[36mkmr.layers.HyperZZWOperator\u001b[0m:\u001b[36mcall\u001b[0m:\u001b[36m132\u001b[0m - \u001b[34m\u001b[1mHyperZZWOperator input_tensor shape: (32, 64)\u001b[0m\n",
      "\u001b[32m2025-10-30 17:21:58.048\u001b[0m | \u001b[34m\u001b[1mDEBUG   \u001b[0m | \u001b[36mkmr.layers.HyperZZWOperator\u001b[0m:\u001b[36mcall\u001b[0m:\u001b[36m133\u001b[0m - \u001b[34m\u001b[1mHyperZZWOperator context_tensor shape: (32, 16)\u001b[0m\n",
      "\u001b[32m2025-10-30 17:21:58.049\u001b[0m | \u001b[34m\u001b[1mDEBUG   \u001b[0m | \u001b[36mkmr.layers.HyperZZWOperator\u001b[0m:\u001b[36mcall\u001b[0m:\u001b[36m153\u001b[0m - \u001b[34m\u001b[1mHyperZZWOperator output shape: (32, 64)\u001b[0m\n",
      "\u001b[32m2025-10-30 17:21:58.049\u001b[0m | \u001b[34m\u001b[1mDEBUG   \u001b[0m | \u001b[36mkmr.models.SFNEBlock\u001b[0m:\u001b[36mcall\u001b[0m:\u001b[36m192\u001b[0m - \u001b[34m\u001b[1mSFNEBlock context_weights shape: (32, 64)\u001b[0m\n",
      "\u001b[32m2025-10-30 17:21:58.049\u001b[0m | \u001b[34m\u001b[1mDEBUG   \u001b[0m | \u001b[36mkmr.models.SFNEBlock\u001b[0m:\u001b[36mcall\u001b[0m:\u001b[36m196\u001b[0m - \u001b[34m\u001b[1mSFNEBlock context_weights_expanded shape: (32, 64, 1)\u001b[0m\n",
      "\u001b[32m2025-10-30 17:21:58.052\u001b[0m | \u001b[34m\u001b[1mDEBUG   \u001b[0m | \u001b[36mkmr.models.SFNEBlock\u001b[0m:\u001b[36mcall\u001b[0m:\u001b[36m202\u001b[0m - \u001b[34m\u001b[1mSFNEBlock global_output shape: (32, 64, 16)\u001b[0m\n",
      "\u001b[32m2025-10-30 17:21:58.055\u001b[0m | \u001b[34m\u001b[1mDEBUG   \u001b[0m | \u001b[36mkmr.models.SFNEBlock\u001b[0m:\u001b[36mcall\u001b[0m:\u001b[36m206\u001b[0m - \u001b[34m\u001b[1mSFNEBlock local_output shape: (32, 64, 16)\u001b[0m\n",
      "\u001b[32m2025-10-30 17:21:58.056\u001b[0m | \u001b[34m\u001b[1mDEBUG   \u001b[0m | \u001b[36mkmr.models.SFNEBlock\u001b[0m:\u001b[36mcall\u001b[0m:\u001b[36m210\u001b[0m - \u001b[34m\u001b[1mSFNEBlock combined_output shape: (32, 64, 32)\u001b[0m\n",
      "\u001b[32m2025-10-30 17:21:58.056\u001b[0m | \u001b[34m\u001b[1mDEBUG   \u001b[0m | \u001b[36mkmr.models.SFNEBlock\u001b[0m:\u001b[36mcall\u001b[0m:\u001b[36m217\u001b[0m - \u001b[34m\u001b[1mSFNEBlock combined_output_flat shape: (32, 2048)\u001b[0m\n",
      "\u001b[32m2025-10-30 17:21:58.058\u001b[0m | \u001b[34m\u001b[1mDEBUG   \u001b[0m | \u001b[36mkmr.models.SFNEBlock\u001b[0m:\u001b[36mcall\u001b[0m:\u001b[36m223\u001b[0m - \u001b[34m\u001b[1mSFNEBlock bottleneck_output shape: (32, 16)\u001b[0m\n",
      "\u001b[32m2025-10-30 17:21:58.059\u001b[0m | \u001b[34m\u001b[1mDEBUG   \u001b[0m | \u001b[36mkmr.models.SFNEBlock\u001b[0m:\u001b[36mcall\u001b[0m:\u001b[36m227\u001b[0m - \u001b[34m\u001b[1mSFNEBlock output_layer output shape: (32, 16)\u001b[0m\n",
      "\u001b[32m2025-10-30 17:21:58.060\u001b[0m | \u001b[34m\u001b[1mDEBUG   \u001b[0m | \u001b[36mkmr.models.TerminatorModel\u001b[0m:\u001b[36mcall\u001b[0m:\u001b[36m227\u001b[0m - \u001b[34m\u001b[1mTerminatorModel SFNEBlock 1 output shape: (32, 16)\u001b[0m\n",
      "\u001b[32m2025-10-30 17:21:58.060\u001b[0m | \u001b[34m\u001b[1mDEBUG   \u001b[0m | \u001b[36mkmr.models.SFNEBlock\u001b[0m:\u001b[36mcall\u001b[0m:\u001b[36m176\u001b[0m - \u001b[34m\u001b[1mSFNEBlock input shape: (32, 16)\u001b[0m\n",
      "\u001b[32m2025-10-30 17:21:58.064\u001b[0m | \u001b[34m\u001b[1mDEBUG   \u001b[0m | \u001b[36mkmr.layers.SlowNetwork\u001b[0m:\u001b[36mcall\u001b[0m:\u001b[36m122\u001b[0m - \u001b[34m\u001b[1mSlowNetwork input shape: (32, 64)\u001b[0m\n",
      "\u001b[32m2025-10-30 17:21:58.065\u001b[0m | \u001b[34m\u001b[1mDEBUG   \u001b[0m | \u001b[36mkmr.layers.SlowNetwork\u001b[0m:\u001b[36mcall\u001b[0m:\u001b[36m126\u001b[0m - \u001b[34m\u001b[1mSlowNetwork layer 0 output shape: (32, 128)\u001b[0m\n",
      "\u001b[32m2025-10-30 17:21:58.067\u001b[0m | \u001b[34m\u001b[1mDEBUG   \u001b[0m | \u001b[36mkmr.layers.SlowNetwork\u001b[0m:\u001b[36mcall\u001b[0m:\u001b[36m126\u001b[0m - \u001b[34m\u001b[1mSlowNetwork layer 1 output shape: (32, 128)\u001b[0m\n",
      "\u001b[32m2025-10-30 17:21:58.068\u001b[0m | \u001b[34m\u001b[1mDEBUG   \u001b[0m | \u001b[36mkmr.layers.SlowNetwork\u001b[0m:\u001b[36mcall\u001b[0m:\u001b[36m126\u001b[0m - \u001b[34m\u001b[1mSlowNetwork layer 2 output shape: (32, 128)\u001b[0m\n",
      "\u001b[32m2025-10-30 17:21:58.069\u001b[0m | \u001b[34m\u001b[1mDEBUG   \u001b[0m | \u001b[36mkmr.layers.SlowNetwork\u001b[0m:\u001b[36mcall\u001b[0m:\u001b[36m129\u001b[0m - \u001b[34m\u001b[1mSlowNetwork output shape: (32, 16)\u001b[0m\n",
      "\u001b[32m2025-10-30 17:21:58.069\u001b[0m | \u001b[34m\u001b[1mDEBUG   \u001b[0m | \u001b[36mkmr.models.SFNEBlock\u001b[0m:\u001b[36mcall\u001b[0m:\u001b[36m188\u001b[0m - \u001b[34m\u001b[1mSFNEBlock hyper_kernels shape: (32, 16)\u001b[0m\n",
      "\u001b[32m2025-10-30 17:21:58.070\u001b[0m | \u001b[34m\u001b[1mDEBUG   \u001b[0m | \u001b[36mkmr.layers.HyperZZWOperator\u001b[0m:\u001b[36mcall\u001b[0m:\u001b[36m132\u001b[0m - \u001b[34m\u001b[1mHyperZZWOperator input_tensor shape: (32, 64)\u001b[0m\n",
      "\u001b[32m2025-10-30 17:21:58.070\u001b[0m | \u001b[34m\u001b[1mDEBUG   \u001b[0m | \u001b[36mkmr.layers.HyperZZWOperator\u001b[0m:\u001b[36mcall\u001b[0m:\u001b[36m133\u001b[0m - \u001b[34m\u001b[1mHyperZZWOperator context_tensor shape: (32, 16)\u001b[0m\n",
      "\u001b[32m2025-10-30 17:21:58.071\u001b[0m | \u001b[34m\u001b[1mDEBUG   \u001b[0m | \u001b[36mkmr.layers.HyperZZWOperator\u001b[0m:\u001b[36mcall\u001b[0m:\u001b[36m153\u001b[0m - \u001b[34m\u001b[1mHyperZZWOperator output shape: (32, 64)\u001b[0m\n",
      "\u001b[32m2025-10-30 17:21:58.071\u001b[0m | \u001b[34m\u001b[1mDEBUG   \u001b[0m | \u001b[36mkmr.models.SFNEBlock\u001b[0m:\u001b[36mcall\u001b[0m:\u001b[36m192\u001b[0m - \u001b[34m\u001b[1mSFNEBlock context_weights shape: (32, 64)\u001b[0m\n",
      "\u001b[32m2025-10-30 17:21:58.071\u001b[0m | \u001b[34m\u001b[1mDEBUG   \u001b[0m | \u001b[36mkmr.models.SFNEBlock\u001b[0m:\u001b[36mcall\u001b[0m:\u001b[36m196\u001b[0m - \u001b[34m\u001b[1mSFNEBlock context_weights_expanded shape: (32, 64, 1)\u001b[0m\n",
      "\u001b[32m2025-10-30 17:21:58.074\u001b[0m | \u001b[34m\u001b[1mDEBUG   \u001b[0m | \u001b[36mkmr.models.SFNEBlock\u001b[0m:\u001b[36mcall\u001b[0m:\u001b[36m202\u001b[0m - \u001b[34m\u001b[1mSFNEBlock global_output shape: (32, 64, 16)\u001b[0m\n",
      "\u001b[32m2025-10-30 17:21:58.077\u001b[0m | \u001b[34m\u001b[1mDEBUG   \u001b[0m | \u001b[36mkmr.models.SFNEBlock\u001b[0m:\u001b[36mcall\u001b[0m:\u001b[36m206\u001b[0m - \u001b[34m\u001b[1mSFNEBlock local_output shape: (32, 64, 16)\u001b[0m\n",
      "\u001b[32m2025-10-30 17:21:58.077\u001b[0m | \u001b[34m\u001b[1mDEBUG   \u001b[0m | \u001b[36mkmr.models.SFNEBlock\u001b[0m:\u001b[36mcall\u001b[0m:\u001b[36m210\u001b[0m - \u001b[34m\u001b[1mSFNEBlock combined_output shape: (32, 64, 32)\u001b[0m\n",
      "\u001b[32m2025-10-30 17:21:58.078\u001b[0m | \u001b[34m\u001b[1mDEBUG   \u001b[0m | \u001b[36mkmr.models.SFNEBlock\u001b[0m:\u001b[36mcall\u001b[0m:\u001b[36m217\u001b[0m - \u001b[34m\u001b[1mSFNEBlock combined_output_flat shape: (32, 2048)\u001b[0m\n",
      "\u001b[32m2025-10-30 17:21:58.079\u001b[0m | \u001b[34m\u001b[1mDEBUG   \u001b[0m | \u001b[36mkmr.models.SFNEBlock\u001b[0m:\u001b[36mcall\u001b[0m:\u001b[36m223\u001b[0m - \u001b[34m\u001b[1mSFNEBlock bottleneck_output shape: (32, 16)\u001b[0m\n",
      "\u001b[32m2025-10-30 17:21:58.081\u001b[0m | \u001b[34m\u001b[1mDEBUG   \u001b[0m | \u001b[36mkmr.models.SFNEBlock\u001b[0m:\u001b[36mcall\u001b[0m:\u001b[36m227\u001b[0m - \u001b[34m\u001b[1mSFNEBlock output_layer output shape: (32, 16)\u001b[0m\n",
      "\u001b[32m2025-10-30 17:21:58.081\u001b[0m | \u001b[34m\u001b[1mDEBUG   \u001b[0m | \u001b[36mkmr.models.TerminatorModel\u001b[0m:\u001b[36mcall\u001b[0m:\u001b[36m227\u001b[0m - \u001b[34m\u001b[1mTerminatorModel SFNEBlock 2 output shape: (32, 16)\u001b[0m\n",
      "\u001b[32m2025-10-30 17:21:58.083\u001b[0m | \u001b[34m\u001b[1mDEBUG   \u001b[0m | \u001b[36mkmr.models.TerminatorModel\u001b[0m:\u001b[36mcall\u001b[0m:\u001b[36m234\u001b[0m - \u001b[34m\u001b[1mTerminatorModel output_layer output shape: (32, 1)\u001b[0m\n"
     ]
    },
    {
     "name": "stdout",
     "output_type": "stream",
     "text": [
      "✅ Model loaded successfully!\n",
      "🔍 Mean absolute difference between original and loaded predictions: 0.000000\n",
      "✅ Loaded model prediction check completed!\n"
     ]
    }
   ],
   "source": [
    "print(\"💾 Testing Keras format serialization...\")\n",
    "\n",
    "with tempfile.TemporaryDirectory() as temp_dir:\n",
    "    keras_path = os.path.join(temp_dir, \"terminator_demo.keras\")\n",
    "\n",
    "    # Save\n",
    "    model.save(keras_path)\n",
    "    print(f\"✅ Model saved to: {keras_path}\")\n",
    "\n",
    "    # Load\n",
    "    loaded_model = keras.models.load_model(keras_path)\n",
    "    print(\"✅ Model loaded successfully!\")\n",
    "\n",
    "    # Compare predictions on a small slice\n",
    "    sl = slice(0, 64)\n",
    "    preds_orig = model.predict([X_input_test[sl], X_context_test[sl]], verbose=0)\n",
    "    preds_loaded = loaded_model.predict([X_input_test[sl], X_context_test[sl]], verbose=0)\n",
    "\n",
    "    # Report similarity\n",
    "    diff = np.mean(np.abs(preds_orig - preds_loaded))\n",
    "    print(f\"🔍 Mean absolute difference between original and loaded predictions: {float(diff):.6f}\")\n",
    "    print(\"✅ Loaded model prediction check completed!\")\n"
   ]
  },
  {
   "cell_type": "markdown",
   "id": "2acb2b2b",
   "metadata": {},
   "source": [
    "## 7. Summary\n",
    "\n",
    "- Trained `TerminatorModel` on synthetic regression data with input and context features.\n",
    "- Achieved regression metrics (reported above) on validation and test sets.\n",
    "- Visualized loss curves, predictions vs. truth, and residuals.\n",
    "- Saved and loaded model in Keras format; verified prediction consistency.\n",
    "\n",
    "This notebook mirrors the style of the other KMR demos and showcases TerminatorModel's hierarchical feature processing with context-aware capabilities.\n"
   ]
  },
  {
   "cell_type": "markdown",
   "id": "f3d81f94",
   "metadata": {},
   "source": [
    "## 8. Alternative: Binary Classification Training (Better Fit)\n",
    "\n",
    "The current `TerminatorModel` uses a sigmoid output, which is naturally suited for binary classification. Below we derive a binary target from the same features and train the model with a classification-appropriate loss and metrics.\n"
   ]
  },
  {
   "cell_type": "code",
   "execution_count": 7,
   "id": "69295910",
   "metadata": {},
   "outputs": [
    {
     "name": "stdout",
     "output_type": "stream",
     "text": [
      "🔧 Preparing binary classification targets and model...\n"
     ]
    },
    {
     "name": "stderr",
     "output_type": "stream",
     "text": [
      "\u001b[32m2025-10-30 17:21:58.164\u001b[0m | \u001b[34m\u001b[1mDEBUG   \u001b[0m | \u001b[36mkmr.layers._base_layer\u001b[0m:\u001b[36m_log_initialization\u001b[0m:\u001b[36m73\u001b[0m - \u001b[34m\u001b[1mInitialized SlowNetwork with parameters: {'name': 'slow_network_8', 'trainable': True, 'dtype': {'module': 'keras', 'class_name': 'DTypePolicy', 'config': {'name': 'float32'}, 'registered_name': None}, 'input_dim': 8, 'num_layers': 3, 'units': 128}\u001b[0m\n",
      "\u001b[32m2025-10-30 17:21:58.165\u001b[0m | \u001b[34m\u001b[1mDEBUG   \u001b[0m | \u001b[36mkmr.layers._base_layer\u001b[0m:\u001b[36m_log_initialization\u001b[0m:\u001b[36m73\u001b[0m - \u001b[34m\u001b[1mInitialized HyperZZWOperator with parameters: {'name': 'hyper_zzw_operator_8', 'trainable': True, 'dtype': {'module': 'keras', 'class_name': 'DTypePolicy', 'config': {'name': 'float32'}, 'registered_name': None}, 'input_dim': 16, 'context_dim': 8}\u001b[0m\n",
      "\u001b[32m2025-10-30 17:21:58.169\u001b[0m | \u001b[34m\u001b[1mDEBUG   \u001b[0m | \u001b[36mkmr.layers._base_layer\u001b[0m:\u001b[36m_log_initialization\u001b[0m:\u001b[36m73\u001b[0m - \u001b[34m\u001b[1mInitialized SlowNetwork with parameters: {'name': 'slow_network_9', 'trainable': True, 'dtype': {'module': 'keras', 'class_name': 'DTypePolicy', 'config': {'name': 'float32'}, 'registered_name': None}, 'input_dim': 16, 'num_layers': 3, 'units': 128}\u001b[0m\n",
      "\u001b[32m2025-10-30 17:21:58.170\u001b[0m | \u001b[34m\u001b[1mDEBUG   \u001b[0m | \u001b[36mkmr.layers._base_layer\u001b[0m:\u001b[36m_log_initialization\u001b[0m:\u001b[36m73\u001b[0m - \u001b[34m\u001b[1mInitialized HyperZZWOperator with parameters: {'name': 'hyper_zzw_operator_9', 'trainable': True, 'dtype': {'module': 'keras', 'class_name': 'DTypePolicy', 'config': {'name': 'float32'}, 'registered_name': None}, 'input_dim': 64, 'context_dim': None}\u001b[0m\n",
      "\u001b[32m2025-10-30 17:21:58.176\u001b[0m | \u001b[34m\u001b[1mDEBUG   \u001b[0m | \u001b[36mkmr.layers._base_layer\u001b[0m:\u001b[36m_log_initialization\u001b[0m:\u001b[36m73\u001b[0m - \u001b[34m\u001b[1mInitialized SlowNetwork with parameters: {'name': 'slow_network_10', 'trainable': True, 'dtype': {'module': 'keras', 'class_name': 'DTypePolicy', 'config': {'name': 'float32'}, 'registered_name': None}, 'input_dim': 16, 'num_layers': 3, 'units': 128}\u001b[0m\n",
      "\u001b[32m2025-10-30 17:21:58.178\u001b[0m | \u001b[34m\u001b[1mDEBUG   \u001b[0m | \u001b[36mkmr.layers._base_layer\u001b[0m:\u001b[36m_log_initialization\u001b[0m:\u001b[36m73\u001b[0m - \u001b[34m\u001b[1mInitialized HyperZZWOperator with parameters: {'name': 'hyper_zzw_operator_10', 'trainable': True, 'dtype': {'module': 'keras', 'class_name': 'DTypePolicy', 'config': {'name': 'float32'}, 'registered_name': None}, 'input_dim': 64, 'context_dim': None}\u001b[0m\n",
      "\u001b[32m2025-10-30 17:21:58.181\u001b[0m | \u001b[34m\u001b[1mDEBUG   \u001b[0m | \u001b[36mkmr.layers._base_layer\u001b[0m:\u001b[36m_log_initialization\u001b[0m:\u001b[36m73\u001b[0m - \u001b[34m\u001b[1mInitialized SlowNetwork with parameters: {'name': 'slow_network_11', 'trainable': True, 'dtype': {'module': 'keras', 'class_name': 'DTypePolicy', 'config': {'name': 'float32'}, 'registered_name': None}, 'input_dim': 16, 'num_layers': 3, 'units': 128}\u001b[0m\n",
      "\u001b[32m2025-10-30 17:21:58.182\u001b[0m | \u001b[34m\u001b[1mDEBUG   \u001b[0m | \u001b[36mkmr.layers._base_layer\u001b[0m:\u001b[36m_log_initialization\u001b[0m:\u001b[36m73\u001b[0m - \u001b[34m\u001b[1mInitialized HyperZZWOperator with parameters: {'name': 'hyper_zzw_operator_11', 'trainable': True, 'dtype': {'module': 'keras', 'class_name': 'DTypePolicy', 'config': {'name': 'float32'}, 'registered_name': None}, 'input_dim': 64, 'context_dim': None}\u001b[0m\n"
     ]
    },
    {
     "name": "stdout",
     "output_type": "stream",
     "text": [
      "Class distribution: [1000 1000]\n",
      "🚀 Training classification model...\n",
      "Epoch 1/30\n"
     ]
    },
    {
     "name": "stderr",
     "output_type": "stream",
     "text": [
      "\u001b[32m2025-10-30 17:21:58.246\u001b[0m | \u001b[34m\u001b[1mDEBUG   \u001b[0m | \u001b[36mkmr.models.TerminatorModel\u001b[0m:\u001b[36mcall\u001b[0m:\u001b[36m205\u001b[0m - \u001b[34m\u001b[1mTerminatorModel input shape: (None, 16), context shape: (None, 8)\u001b[0m\n",
      "\u001b[32m2025-10-30 17:21:58.256\u001b[0m | \u001b[34m\u001b[1mDEBUG   \u001b[0m | \u001b[36mkmr.models.TerminatorModel\u001b[0m:\u001b[36mcall\u001b[0m:\u001b[36m211\u001b[0m - \u001b[34m\u001b[1mTerminatorModel input_layer output shape: (None, 16)\u001b[0m\n",
      "\u001b[32m2025-10-30 17:21:58.258\u001b[0m | \u001b[34m\u001b[1mDEBUG   \u001b[0m | \u001b[36mkmr.layers.SlowNetwork\u001b[0m:\u001b[36mbuild\u001b[0m:\u001b[36m106\u001b[0m - \u001b[34m\u001b[1mSlowNetwork built with input_dim=8, num_layers=3, units=128\u001b[0m\n",
      "\u001b[32m2025-10-30 17:21:58.259\u001b[0m | \u001b[34m\u001b[1mDEBUG   \u001b[0m | \u001b[36mkmr.layers.SlowNetwork\u001b[0m:\u001b[36mcall\u001b[0m:\u001b[36m122\u001b[0m - \u001b[34m\u001b[1mSlowNetwork input shape: (None, 8)\u001b[0m\n",
      "\u001b[32m2025-10-30 17:21:58.269\u001b[0m | \u001b[34m\u001b[1mDEBUG   \u001b[0m | \u001b[36mkmr.layers.SlowNetwork\u001b[0m:\u001b[36mcall\u001b[0m:\u001b[36m126\u001b[0m - \u001b[34m\u001b[1mSlowNetwork layer 0 output shape: (None, 128)\u001b[0m\n",
      "\u001b[32m2025-10-30 17:21:58.277\u001b[0m | \u001b[34m\u001b[1mDEBUG   \u001b[0m | \u001b[36mkmr.layers.SlowNetwork\u001b[0m:\u001b[36mcall\u001b[0m:\u001b[36m126\u001b[0m - \u001b[34m\u001b[1mSlowNetwork layer 1 output shape: (None, 128)\u001b[0m\n",
      "\u001b[32m2025-10-30 17:21:58.285\u001b[0m | \u001b[34m\u001b[1mDEBUG   \u001b[0m | \u001b[36mkmr.layers.SlowNetwork\u001b[0m:\u001b[36mcall\u001b[0m:\u001b[36m126\u001b[0m - \u001b[34m\u001b[1mSlowNetwork layer 2 output shape: (None, 128)\u001b[0m\n",
      "\u001b[32m2025-10-30 17:21:58.293\u001b[0m | \u001b[34m\u001b[1mDEBUG   \u001b[0m | \u001b[36mkmr.layers.SlowNetwork\u001b[0m:\u001b[36mcall\u001b[0m:\u001b[36m129\u001b[0m - \u001b[34m\u001b[1mSlowNetwork output shape: (None, 8)\u001b[0m\n",
      "\u001b[32m2025-10-30 17:21:58.293\u001b[0m | \u001b[34m\u001b[1mDEBUG   \u001b[0m | \u001b[36mkmr.models.TerminatorModel\u001b[0m:\u001b[36mcall\u001b[0m:\u001b[36m215\u001b[0m - \u001b[34m\u001b[1mTerminatorModel hyper_kernels shape: (None, 8)\u001b[0m\n",
      "\u001b[32m2025-10-30 17:21:58.294\u001b[0m | \u001b[34m\u001b[1mDEBUG   \u001b[0m | \u001b[36mkmr.layers.HyperZZWOperator\u001b[0m:\u001b[36mbuild\u001b[0m:\u001b[36m112\u001b[0m - \u001b[34m\u001b[1mHyperZZWOperator built with input_dim=16, context_dim=8\u001b[0m\n",
      "\u001b[32m2025-10-30 17:21:58.294\u001b[0m | \u001b[34m\u001b[1mDEBUG   \u001b[0m | \u001b[36mkmr.layers.HyperZZWOperator\u001b[0m:\u001b[36mcall\u001b[0m:\u001b[36m132\u001b[0m - \u001b[34m\u001b[1mHyperZZWOperator input_tensor shape: (None, 16)\u001b[0m\n",
      "\u001b[32m2025-10-30 17:21:58.295\u001b[0m | \u001b[34m\u001b[1mDEBUG   \u001b[0m | \u001b[36mkmr.layers.HyperZZWOperator\u001b[0m:\u001b[36mcall\u001b[0m:\u001b[36m133\u001b[0m - \u001b[34m\u001b[1mHyperZZWOperator context_tensor shape: (None, 8)\u001b[0m\n",
      "\u001b[32m2025-10-30 17:21:58.303\u001b[0m | \u001b[34m\u001b[1mDEBUG   \u001b[0m | \u001b[36mkmr.layers.HyperZZWOperator\u001b[0m:\u001b[36mcall\u001b[0m:\u001b[36m153\u001b[0m - \u001b[34m\u001b[1mHyperZZWOperator output shape: (None, 16)\u001b[0m\n",
      "\u001b[32m2025-10-30 17:21:58.304\u001b[0m | \u001b[34m\u001b[1mDEBUG   \u001b[0m | \u001b[36mkmr.models.TerminatorModel\u001b[0m:\u001b[36mcall\u001b[0m:\u001b[36m219\u001b[0m - \u001b[34m\u001b[1mTerminatorModel context_weights shape: (None, 16)\u001b[0m\n",
      "\u001b[32m2025-10-30 17:21:58.312\u001b[0m | \u001b[34m\u001b[1mDEBUG   \u001b[0m | \u001b[36mkmr.models.SFNEBlock\u001b[0m:\u001b[36mcall\u001b[0m:\u001b[36m176\u001b[0m - \u001b[34m\u001b[1mSFNEBlock input shape: (None, 16)\u001b[0m\n",
      "\u001b[32m2025-10-30 17:21:58.327\u001b[0m | \u001b[34m\u001b[1mDEBUG   \u001b[0m | \u001b[36mkmr.layers.SlowNetwork\u001b[0m:\u001b[36mbuild\u001b[0m:\u001b[36m106\u001b[0m - \u001b[34m\u001b[1mSlowNetwork built with input_dim=16, num_layers=3, units=128\u001b[0m\n",
      "\u001b[32m2025-10-30 17:21:58.328\u001b[0m | \u001b[34m\u001b[1mDEBUG   \u001b[0m | \u001b[36mkmr.layers.SlowNetwork\u001b[0m:\u001b[36mcall\u001b[0m:\u001b[36m122\u001b[0m - \u001b[34m\u001b[1mSlowNetwork input shape: (None, 64)\u001b[0m\n",
      "\u001b[32m2025-10-30 17:21:58.332\u001b[0m | \u001b[34m\u001b[1mDEBUG   \u001b[0m | \u001b[36mkmr.layers.SlowNetwork\u001b[0m:\u001b[36mcall\u001b[0m:\u001b[36m126\u001b[0m - \u001b[34m\u001b[1mSlowNetwork layer 0 output shape: (None, 128)\u001b[0m\n",
      "\u001b[32m2025-10-30 17:21:58.339\u001b[0m | \u001b[34m\u001b[1mDEBUG   \u001b[0m | \u001b[36mkmr.layers.SlowNetwork\u001b[0m:\u001b[36mcall\u001b[0m:\u001b[36m126\u001b[0m - \u001b[34m\u001b[1mSlowNetwork layer 1 output shape: (None, 128)\u001b[0m\n",
      "\u001b[32m2025-10-30 17:21:58.347\u001b[0m | \u001b[34m\u001b[1mDEBUG   \u001b[0m | \u001b[36mkmr.layers.SlowNetwork\u001b[0m:\u001b[36mcall\u001b[0m:\u001b[36m126\u001b[0m - \u001b[34m\u001b[1mSlowNetwork layer 2 output shape: (None, 128)\u001b[0m\n",
      "\u001b[32m2025-10-30 17:21:58.355\u001b[0m | \u001b[34m\u001b[1mDEBUG   \u001b[0m | \u001b[36mkmr.layers.SlowNetwork\u001b[0m:\u001b[36mcall\u001b[0m:\u001b[36m129\u001b[0m - \u001b[34m\u001b[1mSlowNetwork output shape: (None, 16)\u001b[0m\n",
      "\u001b[32m2025-10-30 17:21:58.355\u001b[0m | \u001b[34m\u001b[1mDEBUG   \u001b[0m | \u001b[36mkmr.models.SFNEBlock\u001b[0m:\u001b[36mcall\u001b[0m:\u001b[36m188\u001b[0m - \u001b[34m\u001b[1mSFNEBlock hyper_kernels shape: (None, 16)\u001b[0m\n",
      "\u001b[32m2025-10-30 17:21:58.357\u001b[0m | \u001b[34m\u001b[1mDEBUG   \u001b[0m | \u001b[36mkmr.layers.HyperZZWOperator\u001b[0m:\u001b[36mbuild\u001b[0m:\u001b[36m112\u001b[0m - \u001b[34m\u001b[1mHyperZZWOperator built with input_dim=64, context_dim=16\u001b[0m\n",
      "\u001b[32m2025-10-30 17:21:58.358\u001b[0m | \u001b[34m\u001b[1mDEBUG   \u001b[0m | \u001b[36mkmr.layers.HyperZZWOperator\u001b[0m:\u001b[36mcall\u001b[0m:\u001b[36m132\u001b[0m - \u001b[34m\u001b[1mHyperZZWOperator input_tensor shape: (None, 64)\u001b[0m\n",
      "\u001b[32m2025-10-30 17:21:58.359\u001b[0m | \u001b[34m\u001b[1mDEBUG   \u001b[0m | \u001b[36mkmr.layers.HyperZZWOperator\u001b[0m:\u001b[36mcall\u001b[0m:\u001b[36m133\u001b[0m - \u001b[34m\u001b[1mHyperZZWOperator context_tensor shape: (None, 16)\u001b[0m\n",
      "\u001b[32m2025-10-30 17:21:58.364\u001b[0m | \u001b[34m\u001b[1mDEBUG   \u001b[0m | \u001b[36mkmr.layers.HyperZZWOperator\u001b[0m:\u001b[36mcall\u001b[0m:\u001b[36m153\u001b[0m - \u001b[34m\u001b[1mHyperZZWOperator output shape: (None, 64)\u001b[0m\n",
      "\u001b[32m2025-10-30 17:21:58.365\u001b[0m | \u001b[34m\u001b[1mDEBUG   \u001b[0m | \u001b[36mkmr.models.SFNEBlock\u001b[0m:\u001b[36mcall\u001b[0m:\u001b[36m192\u001b[0m - \u001b[34m\u001b[1mSFNEBlock context_weights shape: (None, 64)\u001b[0m\n",
      "\u001b[32m2025-10-30 17:21:58.366\u001b[0m | \u001b[34m\u001b[1mDEBUG   \u001b[0m | \u001b[36mkmr.models.SFNEBlock\u001b[0m:\u001b[36mcall\u001b[0m:\u001b[36m196\u001b[0m - \u001b[34m\u001b[1mSFNEBlock context_weights_expanded shape: (None, 64, 1)\u001b[0m\n",
      "\u001b[32m2025-10-30 17:21:58.375\u001b[0m | \u001b[34m\u001b[1mDEBUG   \u001b[0m | \u001b[36mkmr.models.SFNEBlock\u001b[0m:\u001b[36mcall\u001b[0m:\u001b[36m202\u001b[0m - \u001b[34m\u001b[1mSFNEBlock global_output shape: (None, 64, 16)\u001b[0m\n",
      "\u001b[32m2025-10-30 17:21:58.388\u001b[0m | \u001b[34m\u001b[1mDEBUG   \u001b[0m | \u001b[36mkmr.models.SFNEBlock\u001b[0m:\u001b[36mcall\u001b[0m:\u001b[36m206\u001b[0m - \u001b[34m\u001b[1mSFNEBlock local_output shape: (None, 64, 16)\u001b[0m\n",
      "\u001b[32m2025-10-30 17:21:58.390\u001b[0m | \u001b[34m\u001b[1mDEBUG   \u001b[0m | \u001b[36mkmr.models.SFNEBlock\u001b[0m:\u001b[36mcall\u001b[0m:\u001b[36m210\u001b[0m - \u001b[34m\u001b[1mSFNEBlock combined_output shape: (None, 64, 32)\u001b[0m\n",
      "\u001b[32m2025-10-30 17:21:58.393\u001b[0m | \u001b[34m\u001b[1mDEBUG   \u001b[0m | \u001b[36mkmr.models.SFNEBlock\u001b[0m:\u001b[36mcall\u001b[0m:\u001b[36m217\u001b[0m - \u001b[34m\u001b[1mSFNEBlock combined_output_flat shape: (None, 2048)\u001b[0m\n",
      "\u001b[32m2025-10-30 17:21:58.396\u001b[0m | \u001b[34m\u001b[1mDEBUG   \u001b[0m | \u001b[36mkmr.models.SFNEBlock\u001b[0m:\u001b[36mcall\u001b[0m:\u001b[36m223\u001b[0m - \u001b[34m\u001b[1mSFNEBlock bottleneck_output shape: (None, 16)\u001b[0m\n",
      "\u001b[32m2025-10-30 17:21:58.403\u001b[0m | \u001b[34m\u001b[1mDEBUG   \u001b[0m | \u001b[36mkmr.models.SFNEBlock\u001b[0m:\u001b[36mcall\u001b[0m:\u001b[36m227\u001b[0m - \u001b[34m\u001b[1mSFNEBlock output_layer output shape: (None, 16)\u001b[0m\n",
      "\u001b[32m2025-10-30 17:21:58.405\u001b[0m | \u001b[34m\u001b[1mDEBUG   \u001b[0m | \u001b[36mkmr.models.SFNEBlock\u001b[0m:\u001b[36mcall\u001b[0m:\u001b[36m176\u001b[0m - \u001b[34m\u001b[1mSFNEBlock input shape: (None, 16)\u001b[0m\n",
      "\u001b[32m2025-10-30 17:21:58.510\u001b[0m | \u001b[34m\u001b[1mDEBUG   \u001b[0m | \u001b[36mkmr.layers.SlowNetwork\u001b[0m:\u001b[36mcall\u001b[0m:\u001b[36m122\u001b[0m - \u001b[34m\u001b[1mSlowNetwork input shape: (None, 64)\u001b[0m\n",
      "\u001b[32m2025-10-30 17:21:58.514\u001b[0m | \u001b[34m\u001b[1mDEBUG   \u001b[0m | \u001b[36mkmr.layers.SlowNetwork\u001b[0m:\u001b[36mcall\u001b[0m:\u001b[36m126\u001b[0m - \u001b[34m\u001b[1mSlowNetwork layer 0 output shape: (None, 128)\u001b[0m\n",
      "\u001b[32m2025-10-30 17:21:58.517\u001b[0m | \u001b[34m\u001b[1mDEBUG   \u001b[0m | \u001b[36mkmr.layers.SlowNetwork\u001b[0m:\u001b[36mcall\u001b[0m:\u001b[36m126\u001b[0m - \u001b[34m\u001b[1mSlowNetwork layer 1 output shape: (None, 128)\u001b[0m\n",
      "\u001b[32m2025-10-30 17:21:58.520\u001b[0m | \u001b[34m\u001b[1mDEBUG   \u001b[0m | \u001b[36mkmr.layers.SlowNetwork\u001b[0m:\u001b[36mcall\u001b[0m:\u001b[36m126\u001b[0m - \u001b[34m\u001b[1mSlowNetwork layer 2 output shape: (None, 128)\u001b[0m\n",
      "\u001b[32m2025-10-30 17:21:58.522\u001b[0m | \u001b[34m\u001b[1mDEBUG   \u001b[0m | \u001b[36mkmr.layers.SlowNetwork\u001b[0m:\u001b[36mcall\u001b[0m:\u001b[36m129\u001b[0m - \u001b[34m\u001b[1mSlowNetwork output shape: (None, 16)\u001b[0m\n",
      "\u001b[32m2025-10-30 17:21:58.523\u001b[0m | \u001b[34m\u001b[1mDEBUG   \u001b[0m | \u001b[36mkmr.models.SFNEBlock\u001b[0m:\u001b[36mcall\u001b[0m:\u001b[36m188\u001b[0m - \u001b[34m\u001b[1mSFNEBlock hyper_kernels shape: (None, 16)\u001b[0m\n",
      "\u001b[32m2025-10-30 17:21:58.523\u001b[0m | \u001b[34m\u001b[1mDEBUG   \u001b[0m | \u001b[36mkmr.layers.HyperZZWOperator\u001b[0m:\u001b[36mcall\u001b[0m:\u001b[36m132\u001b[0m - \u001b[34m\u001b[1mHyperZZWOperator input_tensor shape: (None, 64)\u001b[0m\n",
      "\u001b[32m2025-10-30 17:21:58.523\u001b[0m | \u001b[34m\u001b[1mDEBUG   \u001b[0m | \u001b[36mkmr.layers.HyperZZWOperator\u001b[0m:\u001b[36mcall\u001b[0m:\u001b[36m133\u001b[0m - \u001b[34m\u001b[1mHyperZZWOperator context_tensor shape: (None, 16)\u001b[0m\n",
      "\u001b[32m2025-10-30 17:21:58.526\u001b[0m | \u001b[34m\u001b[1mDEBUG   \u001b[0m | \u001b[36mkmr.layers.HyperZZWOperator\u001b[0m:\u001b[36mcall\u001b[0m:\u001b[36m153\u001b[0m - \u001b[34m\u001b[1mHyperZZWOperator output shape: (None, 64)\u001b[0m\n",
      "\u001b[32m2025-10-30 17:21:58.527\u001b[0m | \u001b[34m\u001b[1mDEBUG   \u001b[0m | \u001b[36mkmr.models.SFNEBlock\u001b[0m:\u001b[36mcall\u001b[0m:\u001b[36m192\u001b[0m - \u001b[34m\u001b[1mSFNEBlock context_weights shape: (None, 64)\u001b[0m\n",
      "\u001b[32m2025-10-30 17:21:58.527\u001b[0m | \u001b[34m\u001b[1mDEBUG   \u001b[0m | \u001b[36mkmr.models.SFNEBlock\u001b[0m:\u001b[36mcall\u001b[0m:\u001b[36m196\u001b[0m - \u001b[34m\u001b[1mSFNEBlock context_weights_expanded shape: (None, 64, 1)\u001b[0m\n",
      "\u001b[32m2025-10-30 17:21:58.532\u001b[0m | \u001b[34m\u001b[1mDEBUG   \u001b[0m | \u001b[36mkmr.models.SFNEBlock\u001b[0m:\u001b[36mcall\u001b[0m:\u001b[36m202\u001b[0m - \u001b[34m\u001b[1mSFNEBlock global_output shape: (None, 64, 16)\u001b[0m\n",
      "\u001b[32m2025-10-30 17:21:58.536\u001b[0m | \u001b[34m\u001b[1mDEBUG   \u001b[0m | \u001b[36mkmr.models.SFNEBlock\u001b[0m:\u001b[36mcall\u001b[0m:\u001b[36m206\u001b[0m - \u001b[34m\u001b[1mSFNEBlock local_output shape: (None, 64, 16)\u001b[0m\n",
      "\u001b[32m2025-10-30 17:21:58.536\u001b[0m | \u001b[34m\u001b[1mDEBUG   \u001b[0m | \u001b[36mkmr.models.SFNEBlock\u001b[0m:\u001b[36mcall\u001b[0m:\u001b[36m210\u001b[0m - \u001b[34m\u001b[1mSFNEBlock combined_output shape: (None, 64, 32)\u001b[0m\n",
      "\u001b[32m2025-10-30 17:21:58.537\u001b[0m | \u001b[34m\u001b[1mDEBUG   \u001b[0m | \u001b[36mkmr.models.SFNEBlock\u001b[0m:\u001b[36mcall\u001b[0m:\u001b[36m217\u001b[0m - \u001b[34m\u001b[1mSFNEBlock combined_output_flat shape: (None, 2048)\u001b[0m\n",
      "\u001b[32m2025-10-30 17:21:58.540\u001b[0m | \u001b[34m\u001b[1mDEBUG   \u001b[0m | \u001b[36mkmr.models.SFNEBlock\u001b[0m:\u001b[36mcall\u001b[0m:\u001b[36m223\u001b[0m - \u001b[34m\u001b[1mSFNEBlock bottleneck_output shape: (None, 16)\u001b[0m\n",
      "\u001b[32m2025-10-30 17:21:58.543\u001b[0m | \u001b[34m\u001b[1mDEBUG   \u001b[0m | \u001b[36mkmr.models.SFNEBlock\u001b[0m:\u001b[36mcall\u001b[0m:\u001b[36m227\u001b[0m - \u001b[34m\u001b[1mSFNEBlock output_layer output shape: (None, 16)\u001b[0m\n",
      "\u001b[32m2025-10-30 17:21:58.543\u001b[0m | \u001b[34m\u001b[1mDEBUG   \u001b[0m | \u001b[36mkmr.models.TerminatorModel\u001b[0m:\u001b[36mcall\u001b[0m:\u001b[36m227\u001b[0m - \u001b[34m\u001b[1mTerminatorModel SFNEBlock 0 output shape: (None, 16)\u001b[0m\n",
      "\u001b[32m2025-10-30 17:21:58.544\u001b[0m | \u001b[34m\u001b[1mDEBUG   \u001b[0m | \u001b[36mkmr.models.SFNEBlock\u001b[0m:\u001b[36mcall\u001b[0m:\u001b[36m176\u001b[0m - \u001b[34m\u001b[1mSFNEBlock input shape: (None, 16)\u001b[0m\n",
      "\u001b[32m2025-10-30 17:21:58.553\u001b[0m | \u001b[34m\u001b[1mDEBUG   \u001b[0m | \u001b[36mkmr.layers.SlowNetwork\u001b[0m:\u001b[36mbuild\u001b[0m:\u001b[36m106\u001b[0m - \u001b[34m\u001b[1mSlowNetwork built with input_dim=16, num_layers=3, units=128\u001b[0m\n",
      "\u001b[32m2025-10-30 17:21:58.554\u001b[0m | \u001b[34m\u001b[1mDEBUG   \u001b[0m | \u001b[36mkmr.layers.SlowNetwork\u001b[0m:\u001b[36mcall\u001b[0m:\u001b[36m122\u001b[0m - \u001b[34m\u001b[1mSlowNetwork input shape: (None, 64)\u001b[0m\n",
      "\u001b[32m2025-10-30 17:21:58.557\u001b[0m | \u001b[34m\u001b[1mDEBUG   \u001b[0m | \u001b[36mkmr.layers.SlowNetwork\u001b[0m:\u001b[36mcall\u001b[0m:\u001b[36m126\u001b[0m - \u001b[34m\u001b[1mSlowNetwork layer 0 output shape: (None, 128)\u001b[0m\n",
      "\u001b[32m2025-10-30 17:21:58.560\u001b[0m | \u001b[34m\u001b[1mDEBUG   \u001b[0m | \u001b[36mkmr.layers.SlowNetwork\u001b[0m:\u001b[36mcall\u001b[0m:\u001b[36m126\u001b[0m - \u001b[34m\u001b[1mSlowNetwork layer 1 output shape: (None, 128)\u001b[0m\n",
      "\u001b[32m2025-10-30 17:21:58.563\u001b[0m | \u001b[34m\u001b[1mDEBUG   \u001b[0m | \u001b[36mkmr.layers.SlowNetwork\u001b[0m:\u001b[36mcall\u001b[0m:\u001b[36m126\u001b[0m - \u001b[34m\u001b[1mSlowNetwork layer 2 output shape: (None, 128)\u001b[0m\n",
      "\u001b[32m2025-10-30 17:21:58.566\u001b[0m | \u001b[34m\u001b[1mDEBUG   \u001b[0m | \u001b[36mkmr.layers.SlowNetwork\u001b[0m:\u001b[36mcall\u001b[0m:\u001b[36m129\u001b[0m - \u001b[34m\u001b[1mSlowNetwork output shape: (None, 16)\u001b[0m\n",
      "\u001b[32m2025-10-30 17:21:58.566\u001b[0m | \u001b[34m\u001b[1mDEBUG   \u001b[0m | \u001b[36mkmr.models.SFNEBlock\u001b[0m:\u001b[36mcall\u001b[0m:\u001b[36m188\u001b[0m - \u001b[34m\u001b[1mSFNEBlock hyper_kernels shape: (None, 16)\u001b[0m\n",
      "\u001b[32m2025-10-30 17:21:58.566\u001b[0m | \u001b[34m\u001b[1mDEBUG   \u001b[0m | \u001b[36mkmr.layers.HyperZZWOperator\u001b[0m:\u001b[36mbuild\u001b[0m:\u001b[36m112\u001b[0m - \u001b[34m\u001b[1mHyperZZWOperator built with input_dim=64, context_dim=16\u001b[0m\n",
      "\u001b[32m2025-10-30 17:21:58.567\u001b[0m | \u001b[34m\u001b[1mDEBUG   \u001b[0m | \u001b[36mkmr.layers.HyperZZWOperator\u001b[0m:\u001b[36mcall\u001b[0m:\u001b[36m132\u001b[0m - \u001b[34m\u001b[1mHyperZZWOperator input_tensor shape: (None, 64)\u001b[0m\n",
      "\u001b[32m2025-10-30 17:21:58.567\u001b[0m | \u001b[34m\u001b[1mDEBUG   \u001b[0m | \u001b[36mkmr.layers.HyperZZWOperator\u001b[0m:\u001b[36mcall\u001b[0m:\u001b[36m133\u001b[0m - \u001b[34m\u001b[1mHyperZZWOperator context_tensor shape: (None, 16)\u001b[0m\n",
      "\u001b[32m2025-10-30 17:21:58.570\u001b[0m | \u001b[34m\u001b[1mDEBUG   \u001b[0m | \u001b[36mkmr.layers.HyperZZWOperator\u001b[0m:\u001b[36mcall\u001b[0m:\u001b[36m153\u001b[0m - \u001b[34m\u001b[1mHyperZZWOperator output shape: (None, 64)\u001b[0m\n",
      "\u001b[32m2025-10-30 17:21:58.570\u001b[0m | \u001b[34m\u001b[1mDEBUG   \u001b[0m | \u001b[36mkmr.models.SFNEBlock\u001b[0m:\u001b[36mcall\u001b[0m:\u001b[36m192\u001b[0m - \u001b[34m\u001b[1mSFNEBlock context_weights shape: (None, 64)\u001b[0m\n",
      "\u001b[32m2025-10-30 17:21:58.571\u001b[0m | \u001b[34m\u001b[1mDEBUG   \u001b[0m | \u001b[36mkmr.models.SFNEBlock\u001b[0m:\u001b[36mcall\u001b[0m:\u001b[36m196\u001b[0m - \u001b[34m\u001b[1mSFNEBlock context_weights_expanded shape: (None, 64, 1)\u001b[0m\n",
      "\u001b[32m2025-10-30 17:21:58.576\u001b[0m | \u001b[34m\u001b[1mDEBUG   \u001b[0m | \u001b[36mkmr.models.SFNEBlock\u001b[0m:\u001b[36mcall\u001b[0m:\u001b[36m202\u001b[0m - \u001b[34m\u001b[1mSFNEBlock global_output shape: (None, 64, 16)\u001b[0m\n",
      "\u001b[32m2025-10-30 17:21:58.580\u001b[0m | \u001b[34m\u001b[1mDEBUG   \u001b[0m | \u001b[36mkmr.models.SFNEBlock\u001b[0m:\u001b[36mcall\u001b[0m:\u001b[36m206\u001b[0m - \u001b[34m\u001b[1mSFNEBlock local_output shape: (None, 64, 16)\u001b[0m\n",
      "\u001b[32m2025-10-30 17:21:58.581\u001b[0m | \u001b[34m\u001b[1mDEBUG   \u001b[0m | \u001b[36mkmr.models.SFNEBlock\u001b[0m:\u001b[36mcall\u001b[0m:\u001b[36m210\u001b[0m - \u001b[34m\u001b[1mSFNEBlock combined_output shape: (None, 64, 32)\u001b[0m\n",
      "\u001b[32m2025-10-30 17:21:58.581\u001b[0m | \u001b[34m\u001b[1mDEBUG   \u001b[0m | \u001b[36mkmr.models.SFNEBlock\u001b[0m:\u001b[36mcall\u001b[0m:\u001b[36m217\u001b[0m - \u001b[34m\u001b[1mSFNEBlock combined_output_flat shape: (None, 2048)\u001b[0m\n",
      "\u001b[32m2025-10-30 17:21:58.584\u001b[0m | \u001b[34m\u001b[1mDEBUG   \u001b[0m | \u001b[36mkmr.models.SFNEBlock\u001b[0m:\u001b[36mcall\u001b[0m:\u001b[36m223\u001b[0m - \u001b[34m\u001b[1mSFNEBlock bottleneck_output shape: (None, 16)\u001b[0m\n",
      "\u001b[32m2025-10-30 17:21:58.587\u001b[0m | \u001b[34m\u001b[1mDEBUG   \u001b[0m | \u001b[36mkmr.models.SFNEBlock\u001b[0m:\u001b[36mcall\u001b[0m:\u001b[36m227\u001b[0m - \u001b[34m\u001b[1mSFNEBlock output_layer output shape: (None, 16)\u001b[0m\n",
      "\u001b[32m2025-10-30 17:21:58.587\u001b[0m | \u001b[34m\u001b[1mDEBUG   \u001b[0m | \u001b[36mkmr.models.SFNEBlock\u001b[0m:\u001b[36mcall\u001b[0m:\u001b[36m176\u001b[0m - \u001b[34m\u001b[1mSFNEBlock input shape: (None, 16)\u001b[0m\n",
      "\u001b[32m2025-10-30 17:21:58.595\u001b[0m | \u001b[34m\u001b[1mDEBUG   \u001b[0m | \u001b[36mkmr.layers.SlowNetwork\u001b[0m:\u001b[36mcall\u001b[0m:\u001b[36m122\u001b[0m - \u001b[34m\u001b[1mSlowNetwork input shape: (None, 64)\u001b[0m\n",
      "\u001b[32m2025-10-30 17:21:58.598\u001b[0m | \u001b[34m\u001b[1mDEBUG   \u001b[0m | \u001b[36mkmr.layers.SlowNetwork\u001b[0m:\u001b[36mcall\u001b[0m:\u001b[36m126\u001b[0m - \u001b[34m\u001b[1mSlowNetwork layer 0 output shape: (None, 128)\u001b[0m\n",
      "\u001b[32m2025-10-30 17:21:58.601\u001b[0m | \u001b[34m\u001b[1mDEBUG   \u001b[0m | \u001b[36mkmr.layers.SlowNetwork\u001b[0m:\u001b[36mcall\u001b[0m:\u001b[36m126\u001b[0m - \u001b[34m\u001b[1mSlowNetwork layer 1 output shape: (None, 128)\u001b[0m\n",
      "\u001b[32m2025-10-30 17:21:58.604\u001b[0m | \u001b[34m\u001b[1mDEBUG   \u001b[0m | \u001b[36mkmr.layers.SlowNetwork\u001b[0m:\u001b[36mcall\u001b[0m:\u001b[36m126\u001b[0m - \u001b[34m\u001b[1mSlowNetwork layer 2 output shape: (None, 128)\u001b[0m\n",
      "\u001b[32m2025-10-30 17:21:58.607\u001b[0m | \u001b[34m\u001b[1mDEBUG   \u001b[0m | \u001b[36mkmr.layers.SlowNetwork\u001b[0m:\u001b[36mcall\u001b[0m:\u001b[36m129\u001b[0m - \u001b[34m\u001b[1mSlowNetwork output shape: (None, 16)\u001b[0m\n",
      "\u001b[32m2025-10-30 17:21:58.607\u001b[0m | \u001b[34m\u001b[1mDEBUG   \u001b[0m | \u001b[36mkmr.models.SFNEBlock\u001b[0m:\u001b[36mcall\u001b[0m:\u001b[36m188\u001b[0m - \u001b[34m\u001b[1mSFNEBlock hyper_kernels shape: (None, 16)\u001b[0m\n",
      "\u001b[32m2025-10-30 17:21:58.607\u001b[0m | \u001b[34m\u001b[1mDEBUG   \u001b[0m | \u001b[36mkmr.layers.HyperZZWOperator\u001b[0m:\u001b[36mcall\u001b[0m:\u001b[36m132\u001b[0m - \u001b[34m\u001b[1mHyperZZWOperator input_tensor shape: (None, 64)\u001b[0m\n",
      "\u001b[32m2025-10-30 17:21:58.607\u001b[0m | \u001b[34m\u001b[1mDEBUG   \u001b[0m | \u001b[36mkmr.layers.HyperZZWOperator\u001b[0m:\u001b[36mcall\u001b[0m:\u001b[36m133\u001b[0m - \u001b[34m\u001b[1mHyperZZWOperator context_tensor shape: (None, 16)\u001b[0m\n",
      "\u001b[32m2025-10-30 17:21:58.610\u001b[0m | \u001b[34m\u001b[1mDEBUG   \u001b[0m | \u001b[36mkmr.layers.HyperZZWOperator\u001b[0m:\u001b[36mcall\u001b[0m:\u001b[36m153\u001b[0m - \u001b[34m\u001b[1mHyperZZWOperator output shape: (None, 64)\u001b[0m\n",
      "\u001b[32m2025-10-30 17:21:58.611\u001b[0m | \u001b[34m\u001b[1mDEBUG   \u001b[0m | \u001b[36mkmr.models.SFNEBlock\u001b[0m:\u001b[36mcall\u001b[0m:\u001b[36m192\u001b[0m - \u001b[34m\u001b[1mSFNEBlock context_weights shape: (None, 64)\u001b[0m\n",
      "\u001b[32m2025-10-30 17:21:58.611\u001b[0m | \u001b[34m\u001b[1mDEBUG   \u001b[0m | \u001b[36mkmr.models.SFNEBlock\u001b[0m:\u001b[36mcall\u001b[0m:\u001b[36m196\u001b[0m - \u001b[34m\u001b[1mSFNEBlock context_weights_expanded shape: (None, 64, 1)\u001b[0m\n",
      "\u001b[32m2025-10-30 17:21:58.616\u001b[0m | \u001b[34m\u001b[1mDEBUG   \u001b[0m | \u001b[36mkmr.models.SFNEBlock\u001b[0m:\u001b[36mcall\u001b[0m:\u001b[36m202\u001b[0m - \u001b[34m\u001b[1mSFNEBlock global_output shape: (None, 64, 16)\u001b[0m\n",
      "\u001b[32m2025-10-30 17:21:58.620\u001b[0m | \u001b[34m\u001b[1mDEBUG   \u001b[0m | \u001b[36mkmr.models.SFNEBlock\u001b[0m:\u001b[36mcall\u001b[0m:\u001b[36m206\u001b[0m - \u001b[34m\u001b[1mSFNEBlock local_output shape: (None, 64, 16)\u001b[0m\n",
      "\u001b[32m2025-10-30 17:21:58.620\u001b[0m | \u001b[34m\u001b[1mDEBUG   \u001b[0m | \u001b[36mkmr.models.SFNEBlock\u001b[0m:\u001b[36mcall\u001b[0m:\u001b[36m210\u001b[0m - \u001b[34m\u001b[1mSFNEBlock combined_output shape: (None, 64, 32)\u001b[0m\n",
      "\u001b[32m2025-10-30 17:21:58.621\u001b[0m | \u001b[34m\u001b[1mDEBUG   \u001b[0m | \u001b[36mkmr.models.SFNEBlock\u001b[0m:\u001b[36mcall\u001b[0m:\u001b[36m217\u001b[0m - \u001b[34m\u001b[1mSFNEBlock combined_output_flat shape: (None, 2048)\u001b[0m\n",
      "\u001b[32m2025-10-30 17:21:58.624\u001b[0m | \u001b[34m\u001b[1mDEBUG   \u001b[0m | \u001b[36mkmr.models.SFNEBlock\u001b[0m:\u001b[36mcall\u001b[0m:\u001b[36m223\u001b[0m - \u001b[34m\u001b[1mSFNEBlock bottleneck_output shape: (None, 16)\u001b[0m\n",
      "\u001b[32m2025-10-30 17:21:58.627\u001b[0m | \u001b[34m\u001b[1mDEBUG   \u001b[0m | \u001b[36mkmr.models.SFNEBlock\u001b[0m:\u001b[36mcall\u001b[0m:\u001b[36m227\u001b[0m - \u001b[34m\u001b[1mSFNEBlock output_layer output shape: (None, 16)\u001b[0m\n",
      "\u001b[32m2025-10-30 17:21:58.627\u001b[0m | \u001b[34m\u001b[1mDEBUG   \u001b[0m | \u001b[36mkmr.models.TerminatorModel\u001b[0m:\u001b[36mcall\u001b[0m:\u001b[36m227\u001b[0m - \u001b[34m\u001b[1mTerminatorModel SFNEBlock 1 output shape: (None, 16)\u001b[0m\n",
      "\u001b[32m2025-10-30 17:21:58.627\u001b[0m | \u001b[34m\u001b[1mDEBUG   \u001b[0m | \u001b[36mkmr.models.SFNEBlock\u001b[0m:\u001b[36mcall\u001b[0m:\u001b[36m176\u001b[0m - \u001b[34m\u001b[1mSFNEBlock input shape: (None, 16)\u001b[0m\n",
      "\u001b[32m2025-10-30 17:21:58.637\u001b[0m | \u001b[34m\u001b[1mDEBUG   \u001b[0m | \u001b[36mkmr.layers.SlowNetwork\u001b[0m:\u001b[36mbuild\u001b[0m:\u001b[36m106\u001b[0m - \u001b[34m\u001b[1mSlowNetwork built with input_dim=16, num_layers=3, units=128\u001b[0m\n",
      "\u001b[32m2025-10-30 17:21:58.637\u001b[0m | \u001b[34m\u001b[1mDEBUG   \u001b[0m | \u001b[36mkmr.layers.SlowNetwork\u001b[0m:\u001b[36mcall\u001b[0m:\u001b[36m122\u001b[0m - \u001b[34m\u001b[1mSlowNetwork input shape: (None, 64)\u001b[0m\n",
      "\u001b[32m2025-10-30 17:21:58.640\u001b[0m | \u001b[34m\u001b[1mDEBUG   \u001b[0m | \u001b[36mkmr.layers.SlowNetwork\u001b[0m:\u001b[36mcall\u001b[0m:\u001b[36m126\u001b[0m - \u001b[34m\u001b[1mSlowNetwork layer 0 output shape: (None, 128)\u001b[0m\n",
      "\u001b[32m2025-10-30 17:21:58.644\u001b[0m | \u001b[34m\u001b[1mDEBUG   \u001b[0m | \u001b[36mkmr.layers.SlowNetwork\u001b[0m:\u001b[36mcall\u001b[0m:\u001b[36m126\u001b[0m - \u001b[34m\u001b[1mSlowNetwork layer 1 output shape: (None, 128)\u001b[0m\n",
      "\u001b[32m2025-10-30 17:21:58.647\u001b[0m | \u001b[34m\u001b[1mDEBUG   \u001b[0m | \u001b[36mkmr.layers.SlowNetwork\u001b[0m:\u001b[36mcall\u001b[0m:\u001b[36m126\u001b[0m - \u001b[34m\u001b[1mSlowNetwork layer 2 output shape: (None, 128)\u001b[0m\n",
      "\u001b[32m2025-10-30 17:21:58.650\u001b[0m | \u001b[34m\u001b[1mDEBUG   \u001b[0m | \u001b[36mkmr.layers.SlowNetwork\u001b[0m:\u001b[36mcall\u001b[0m:\u001b[36m129\u001b[0m - \u001b[34m\u001b[1mSlowNetwork output shape: (None, 16)\u001b[0m\n",
      "\u001b[32m2025-10-30 17:21:58.650\u001b[0m | \u001b[34m\u001b[1mDEBUG   \u001b[0m | \u001b[36mkmr.models.SFNEBlock\u001b[0m:\u001b[36mcall\u001b[0m:\u001b[36m188\u001b[0m - \u001b[34m\u001b[1mSFNEBlock hyper_kernels shape: (None, 16)\u001b[0m\n",
      "\u001b[32m2025-10-30 17:21:58.650\u001b[0m | \u001b[34m\u001b[1mDEBUG   \u001b[0m | \u001b[36mkmr.layers.HyperZZWOperator\u001b[0m:\u001b[36mbuild\u001b[0m:\u001b[36m112\u001b[0m - \u001b[34m\u001b[1mHyperZZWOperator built with input_dim=64, context_dim=16\u001b[0m\n",
      "\u001b[32m2025-10-30 17:21:58.651\u001b[0m | \u001b[34m\u001b[1mDEBUG   \u001b[0m | \u001b[36mkmr.layers.HyperZZWOperator\u001b[0m:\u001b[36mcall\u001b[0m:\u001b[36m132\u001b[0m - \u001b[34m\u001b[1mHyperZZWOperator input_tensor shape: (None, 64)\u001b[0m\n",
      "\u001b[32m2025-10-30 17:21:58.651\u001b[0m | \u001b[34m\u001b[1mDEBUG   \u001b[0m | \u001b[36mkmr.layers.HyperZZWOperator\u001b[0m:\u001b[36mcall\u001b[0m:\u001b[36m133\u001b[0m - \u001b[34m\u001b[1mHyperZZWOperator context_tensor shape: (None, 16)\u001b[0m\n",
      "\u001b[32m2025-10-30 17:21:58.654\u001b[0m | \u001b[34m\u001b[1mDEBUG   \u001b[0m | \u001b[36mkmr.layers.HyperZZWOperator\u001b[0m:\u001b[36mcall\u001b[0m:\u001b[36m153\u001b[0m - \u001b[34m\u001b[1mHyperZZWOperator output shape: (None, 64)\u001b[0m\n",
      "\u001b[32m2025-10-30 17:21:58.654\u001b[0m | \u001b[34m\u001b[1mDEBUG   \u001b[0m | \u001b[36mkmr.models.SFNEBlock\u001b[0m:\u001b[36mcall\u001b[0m:\u001b[36m192\u001b[0m - \u001b[34m\u001b[1mSFNEBlock context_weights shape: (None, 64)\u001b[0m\n",
      "\u001b[32m2025-10-30 17:21:58.655\u001b[0m | \u001b[34m\u001b[1mDEBUG   \u001b[0m | \u001b[36mkmr.models.SFNEBlock\u001b[0m:\u001b[36mcall\u001b[0m:\u001b[36m196\u001b[0m - \u001b[34m\u001b[1mSFNEBlock context_weights_expanded shape: (None, 64, 1)\u001b[0m\n",
      "\u001b[32m2025-10-30 17:21:58.660\u001b[0m | \u001b[34m\u001b[1mDEBUG   \u001b[0m | \u001b[36mkmr.models.SFNEBlock\u001b[0m:\u001b[36mcall\u001b[0m:\u001b[36m202\u001b[0m - \u001b[34m\u001b[1mSFNEBlock global_output shape: (None, 64, 16)\u001b[0m\n",
      "\u001b[32m2025-10-30 17:21:58.664\u001b[0m | \u001b[34m\u001b[1mDEBUG   \u001b[0m | \u001b[36mkmr.models.SFNEBlock\u001b[0m:\u001b[36mcall\u001b[0m:\u001b[36m206\u001b[0m - \u001b[34m\u001b[1mSFNEBlock local_output shape: (None, 64, 16)\u001b[0m\n",
      "\u001b[32m2025-10-30 17:21:58.664\u001b[0m | \u001b[34m\u001b[1mDEBUG   \u001b[0m | \u001b[36mkmr.models.SFNEBlock\u001b[0m:\u001b[36mcall\u001b[0m:\u001b[36m210\u001b[0m - \u001b[34m\u001b[1mSFNEBlock combined_output shape: (None, 64, 32)\u001b[0m\n",
      "\u001b[32m2025-10-30 17:21:58.665\u001b[0m | \u001b[34m\u001b[1mDEBUG   \u001b[0m | \u001b[36mkmr.models.SFNEBlock\u001b[0m:\u001b[36mcall\u001b[0m:\u001b[36m217\u001b[0m - \u001b[34m\u001b[1mSFNEBlock combined_output_flat shape: (None, 2048)\u001b[0m\n",
      "\u001b[32m2025-10-30 17:21:58.668\u001b[0m | \u001b[34m\u001b[1mDEBUG   \u001b[0m | \u001b[36mkmr.models.SFNEBlock\u001b[0m:\u001b[36mcall\u001b[0m:\u001b[36m223\u001b[0m - \u001b[34m\u001b[1mSFNEBlock bottleneck_output shape: (None, 16)\u001b[0m\n",
      "\u001b[32m2025-10-30 17:21:58.671\u001b[0m | \u001b[34m\u001b[1mDEBUG   \u001b[0m | \u001b[36mkmr.models.SFNEBlock\u001b[0m:\u001b[36mcall\u001b[0m:\u001b[36m227\u001b[0m - \u001b[34m\u001b[1mSFNEBlock output_layer output shape: (None, 16)\u001b[0m\n",
      "\u001b[32m2025-10-30 17:21:58.671\u001b[0m | \u001b[34m\u001b[1mDEBUG   \u001b[0m | \u001b[36mkmr.models.SFNEBlock\u001b[0m:\u001b[36mcall\u001b[0m:\u001b[36m176\u001b[0m - \u001b[34m\u001b[1mSFNEBlock input shape: (None, 16)\u001b[0m\n",
      "\u001b[32m2025-10-30 17:21:58.679\u001b[0m | \u001b[34m\u001b[1mDEBUG   \u001b[0m | \u001b[36mkmr.layers.SlowNetwork\u001b[0m:\u001b[36mcall\u001b[0m:\u001b[36m122\u001b[0m - \u001b[34m\u001b[1mSlowNetwork input shape: (None, 64)\u001b[0m\n",
      "\u001b[32m2025-10-30 17:21:58.682\u001b[0m | \u001b[34m\u001b[1mDEBUG   \u001b[0m | \u001b[36mkmr.layers.SlowNetwork\u001b[0m:\u001b[36mcall\u001b[0m:\u001b[36m126\u001b[0m - \u001b[34m\u001b[1mSlowNetwork layer 0 output shape: (None, 128)\u001b[0m\n",
      "\u001b[32m2025-10-30 17:21:58.685\u001b[0m | \u001b[34m\u001b[1mDEBUG   \u001b[0m | \u001b[36mkmr.layers.SlowNetwork\u001b[0m:\u001b[36mcall\u001b[0m:\u001b[36m126\u001b[0m - \u001b[34m\u001b[1mSlowNetwork layer 1 output shape: (None, 128)\u001b[0m\n",
      "\u001b[32m2025-10-30 17:21:58.688\u001b[0m | \u001b[34m\u001b[1mDEBUG   \u001b[0m | \u001b[36mkmr.layers.SlowNetwork\u001b[0m:\u001b[36mcall\u001b[0m:\u001b[36m126\u001b[0m - \u001b[34m\u001b[1mSlowNetwork layer 2 output shape: (None, 128)\u001b[0m\n",
      "\u001b[32m2025-10-30 17:21:58.691\u001b[0m | \u001b[34m\u001b[1mDEBUG   \u001b[0m | \u001b[36mkmr.layers.SlowNetwork\u001b[0m:\u001b[36mcall\u001b[0m:\u001b[36m129\u001b[0m - \u001b[34m\u001b[1mSlowNetwork output shape: (None, 16)\u001b[0m\n",
      "\u001b[32m2025-10-30 17:21:58.691\u001b[0m | \u001b[34m\u001b[1mDEBUG   \u001b[0m | \u001b[36mkmr.models.SFNEBlock\u001b[0m:\u001b[36mcall\u001b[0m:\u001b[36m188\u001b[0m - \u001b[34m\u001b[1mSFNEBlock hyper_kernels shape: (None, 16)\u001b[0m\n",
      "\u001b[32m2025-10-30 17:21:58.691\u001b[0m | \u001b[34m\u001b[1mDEBUG   \u001b[0m | \u001b[36mkmr.layers.HyperZZWOperator\u001b[0m:\u001b[36mcall\u001b[0m:\u001b[36m132\u001b[0m - \u001b[34m\u001b[1mHyperZZWOperator input_tensor shape: (None, 64)\u001b[0m\n",
      "\u001b[32m2025-10-30 17:21:58.691\u001b[0m | \u001b[34m\u001b[1mDEBUG   \u001b[0m | \u001b[36mkmr.layers.HyperZZWOperator\u001b[0m:\u001b[36mcall\u001b[0m:\u001b[36m133\u001b[0m - \u001b[34m\u001b[1mHyperZZWOperator context_tensor shape: (None, 16)\u001b[0m\n",
      "\u001b[32m2025-10-30 17:21:58.694\u001b[0m | \u001b[34m\u001b[1mDEBUG   \u001b[0m | \u001b[36mkmr.layers.HyperZZWOperator\u001b[0m:\u001b[36mcall\u001b[0m:\u001b[36m153\u001b[0m - \u001b[34m\u001b[1mHyperZZWOperator output shape: (None, 64)\u001b[0m\n",
      "\u001b[32m2025-10-30 17:21:58.695\u001b[0m | \u001b[34m\u001b[1mDEBUG   \u001b[0m | \u001b[36mkmr.models.SFNEBlock\u001b[0m:\u001b[36mcall\u001b[0m:\u001b[36m192\u001b[0m - \u001b[34m\u001b[1mSFNEBlock context_weights shape: (None, 64)\u001b[0m\n",
      "\u001b[32m2025-10-30 17:21:58.695\u001b[0m | \u001b[34m\u001b[1mDEBUG   \u001b[0m | \u001b[36mkmr.models.SFNEBlock\u001b[0m:\u001b[36mcall\u001b[0m:\u001b[36m196\u001b[0m - \u001b[34m\u001b[1mSFNEBlock context_weights_expanded shape: (None, 64, 1)\u001b[0m\n",
      "\u001b[32m2025-10-30 17:21:58.700\u001b[0m | \u001b[34m\u001b[1mDEBUG   \u001b[0m | \u001b[36mkmr.models.SFNEBlock\u001b[0m:\u001b[36mcall\u001b[0m:\u001b[36m202\u001b[0m - \u001b[34m\u001b[1mSFNEBlock global_output shape: (None, 64, 16)\u001b[0m\n",
      "\u001b[32m2025-10-30 17:21:58.704\u001b[0m | \u001b[34m\u001b[1mDEBUG   \u001b[0m | \u001b[36mkmr.models.SFNEBlock\u001b[0m:\u001b[36mcall\u001b[0m:\u001b[36m206\u001b[0m - \u001b[34m\u001b[1mSFNEBlock local_output shape: (None, 64, 16)\u001b[0m\n",
      "\u001b[32m2025-10-30 17:21:58.704\u001b[0m | \u001b[34m\u001b[1mDEBUG   \u001b[0m | \u001b[36mkmr.models.SFNEBlock\u001b[0m:\u001b[36mcall\u001b[0m:\u001b[36m210\u001b[0m - \u001b[34m\u001b[1mSFNEBlock combined_output shape: (None, 64, 32)\u001b[0m\n",
      "\u001b[32m2025-10-30 17:21:58.705\u001b[0m | \u001b[34m\u001b[1mDEBUG   \u001b[0m | \u001b[36mkmr.models.SFNEBlock\u001b[0m:\u001b[36mcall\u001b[0m:\u001b[36m217\u001b[0m - \u001b[34m\u001b[1mSFNEBlock combined_output_flat shape: (None, 2048)\u001b[0m\n",
      "\u001b[32m2025-10-30 17:21:58.708\u001b[0m | \u001b[34m\u001b[1mDEBUG   \u001b[0m | \u001b[36mkmr.models.SFNEBlock\u001b[0m:\u001b[36mcall\u001b[0m:\u001b[36m223\u001b[0m - \u001b[34m\u001b[1mSFNEBlock bottleneck_output shape: (None, 16)\u001b[0m\n",
      "\u001b[32m2025-10-30 17:21:58.711\u001b[0m | \u001b[34m\u001b[1mDEBUG   \u001b[0m | \u001b[36mkmr.models.SFNEBlock\u001b[0m:\u001b[36mcall\u001b[0m:\u001b[36m227\u001b[0m - \u001b[34m\u001b[1mSFNEBlock output_layer output shape: (None, 16)\u001b[0m\n",
      "\u001b[32m2025-10-30 17:21:58.711\u001b[0m | \u001b[34m\u001b[1mDEBUG   \u001b[0m | \u001b[36mkmr.models.TerminatorModel\u001b[0m:\u001b[36mcall\u001b[0m:\u001b[36m227\u001b[0m - \u001b[34m\u001b[1mTerminatorModel SFNEBlock 2 output shape: (None, 16)\u001b[0m\n",
      "\u001b[32m2025-10-30 17:21:58.715\u001b[0m | \u001b[34m\u001b[1mDEBUG   \u001b[0m | \u001b[36mkmr.models.TerminatorModel\u001b[0m:\u001b[36mcall\u001b[0m:\u001b[36m234\u001b[0m - \u001b[34m\u001b[1mTerminatorModel output_layer output shape: (None, 1)\u001b[0m\n",
      "\u001b[32m2025-10-30 17:21:58.737\u001b[0m | \u001b[34m\u001b[1mDEBUG   \u001b[0m | \u001b[36mkmr.models.TerminatorModel\u001b[0m:\u001b[36mcall\u001b[0m:\u001b[36m205\u001b[0m - \u001b[34m\u001b[1mTerminatorModel input shape: (None, 16), context shape: (None, 8)\u001b[0m\n",
      "\u001b[32m2025-10-30 17:21:58.739\u001b[0m | \u001b[34m\u001b[1mDEBUG   \u001b[0m | \u001b[36mkmr.models.TerminatorModel\u001b[0m:\u001b[36mcall\u001b[0m:\u001b[36m211\u001b[0m - \u001b[34m\u001b[1mTerminatorModel input_layer output shape: (None, 16)\u001b[0m\n",
      "\u001b[32m2025-10-30 17:21:58.739\u001b[0m | \u001b[34m\u001b[1mDEBUG   \u001b[0m | \u001b[36mkmr.layers.SlowNetwork\u001b[0m:\u001b[36mcall\u001b[0m:\u001b[36m122\u001b[0m - \u001b[34m\u001b[1mSlowNetwork input shape: (None, 8)\u001b[0m\n",
      "\u001b[32m2025-10-30 17:21:58.741\u001b[0m | \u001b[34m\u001b[1mDEBUG   \u001b[0m | \u001b[36mkmr.layers.SlowNetwork\u001b[0m:\u001b[36mcall\u001b[0m:\u001b[36m126\u001b[0m - \u001b[34m\u001b[1mSlowNetwork layer 0 output shape: (None, 128)\u001b[0m\n",
      "\u001b[32m2025-10-30 17:21:58.743\u001b[0m | \u001b[34m\u001b[1mDEBUG   \u001b[0m | \u001b[36mkmr.layers.SlowNetwork\u001b[0m:\u001b[36mcall\u001b[0m:\u001b[36m126\u001b[0m - \u001b[34m\u001b[1mSlowNetwork layer 1 output shape: (None, 128)\u001b[0m\n",
      "\u001b[32m2025-10-30 17:21:58.745\u001b[0m | \u001b[34m\u001b[1mDEBUG   \u001b[0m | \u001b[36mkmr.layers.SlowNetwork\u001b[0m:\u001b[36mcall\u001b[0m:\u001b[36m126\u001b[0m - \u001b[34m\u001b[1mSlowNetwork layer 2 output shape: (None, 128)\u001b[0m\n",
      "\u001b[32m2025-10-30 17:21:58.747\u001b[0m | \u001b[34m\u001b[1mDEBUG   \u001b[0m | \u001b[36mkmr.layers.SlowNetwork\u001b[0m:\u001b[36mcall\u001b[0m:\u001b[36m129\u001b[0m - \u001b[34m\u001b[1mSlowNetwork output shape: (None, 8)\u001b[0m\n",
      "\u001b[32m2025-10-30 17:21:58.747\u001b[0m | \u001b[34m\u001b[1mDEBUG   \u001b[0m | \u001b[36mkmr.models.TerminatorModel\u001b[0m:\u001b[36mcall\u001b[0m:\u001b[36m215\u001b[0m - \u001b[34m\u001b[1mTerminatorModel hyper_kernels shape: (None, 8)\u001b[0m\n",
      "\u001b[32m2025-10-30 17:21:58.747\u001b[0m | \u001b[34m\u001b[1mDEBUG   \u001b[0m | \u001b[36mkmr.layers.HyperZZWOperator\u001b[0m:\u001b[36mcall\u001b[0m:\u001b[36m132\u001b[0m - \u001b[34m\u001b[1mHyperZZWOperator input_tensor shape: (None, 16)\u001b[0m\n",
      "\u001b[32m2025-10-30 17:21:58.747\u001b[0m | \u001b[34m\u001b[1mDEBUG   \u001b[0m | \u001b[36mkmr.layers.HyperZZWOperator\u001b[0m:\u001b[36mcall\u001b[0m:\u001b[36m133\u001b[0m - \u001b[34m\u001b[1mHyperZZWOperator context_tensor shape: (None, 8)\u001b[0m\n",
      "\u001b[32m2025-10-30 17:21:58.749\u001b[0m | \u001b[34m\u001b[1mDEBUG   \u001b[0m | \u001b[36mkmr.layers.HyperZZWOperator\u001b[0m:\u001b[36mcall\u001b[0m:\u001b[36m153\u001b[0m - \u001b[34m\u001b[1mHyperZZWOperator output shape: (None, 16)\u001b[0m\n",
      "\u001b[32m2025-10-30 17:21:58.749\u001b[0m | \u001b[34m\u001b[1mDEBUG   \u001b[0m | \u001b[36mkmr.models.TerminatorModel\u001b[0m:\u001b[36mcall\u001b[0m:\u001b[36m219\u001b[0m - \u001b[34m\u001b[1mTerminatorModel context_weights shape: (None, 16)\u001b[0m\n",
      "\u001b[32m2025-10-30 17:21:58.751\u001b[0m | \u001b[34m\u001b[1mDEBUG   \u001b[0m | \u001b[36mkmr.models.SFNEBlock\u001b[0m:\u001b[36mcall\u001b[0m:\u001b[36m176\u001b[0m - \u001b[34m\u001b[1mSFNEBlock input shape: (None, 16)\u001b[0m\n",
      "\u001b[32m2025-10-30 17:21:58.756\u001b[0m | \u001b[34m\u001b[1mDEBUG   \u001b[0m | \u001b[36mkmr.layers.SlowNetwork\u001b[0m:\u001b[36mcall\u001b[0m:\u001b[36m122\u001b[0m - \u001b[34m\u001b[1mSlowNetwork input shape: (None, 64)\u001b[0m\n",
      "\u001b[32m2025-10-30 17:21:58.758\u001b[0m | \u001b[34m\u001b[1mDEBUG   \u001b[0m | \u001b[36mkmr.layers.SlowNetwork\u001b[0m:\u001b[36mcall\u001b[0m:\u001b[36m126\u001b[0m - \u001b[34m\u001b[1mSlowNetwork layer 0 output shape: (None, 128)\u001b[0m\n",
      "\u001b[32m2025-10-30 17:21:58.759\u001b[0m | \u001b[34m\u001b[1mDEBUG   \u001b[0m | \u001b[36mkmr.layers.SlowNetwork\u001b[0m:\u001b[36mcall\u001b[0m:\u001b[36m126\u001b[0m - \u001b[34m\u001b[1mSlowNetwork layer 1 output shape: (None, 128)\u001b[0m\n",
      "\u001b[32m2025-10-30 17:21:58.761\u001b[0m | \u001b[34m\u001b[1mDEBUG   \u001b[0m | \u001b[36mkmr.layers.SlowNetwork\u001b[0m:\u001b[36mcall\u001b[0m:\u001b[36m126\u001b[0m - \u001b[34m\u001b[1mSlowNetwork layer 2 output shape: (None, 128)\u001b[0m\n",
      "\u001b[32m2025-10-30 17:21:58.762\u001b[0m | \u001b[34m\u001b[1mDEBUG   \u001b[0m | \u001b[36mkmr.layers.SlowNetwork\u001b[0m:\u001b[36mcall\u001b[0m:\u001b[36m129\u001b[0m - \u001b[34m\u001b[1mSlowNetwork output shape: (None, 16)\u001b[0m\n",
      "\u001b[32m2025-10-30 17:21:58.763\u001b[0m | \u001b[34m\u001b[1mDEBUG   \u001b[0m | \u001b[36mkmr.models.SFNEBlock\u001b[0m:\u001b[36mcall\u001b[0m:\u001b[36m188\u001b[0m - \u001b[34m\u001b[1mSFNEBlock hyper_kernels shape: (None, 16)\u001b[0m\n",
      "\u001b[32m2025-10-30 17:21:58.763\u001b[0m | \u001b[34m\u001b[1mDEBUG   \u001b[0m | \u001b[36mkmr.layers.HyperZZWOperator\u001b[0m:\u001b[36mcall\u001b[0m:\u001b[36m132\u001b[0m - \u001b[34m\u001b[1mHyperZZWOperator input_tensor shape: (None, 64)\u001b[0m\n",
      "\u001b[32m2025-10-30 17:21:58.763\u001b[0m | \u001b[34m\u001b[1mDEBUG   \u001b[0m | \u001b[36mkmr.layers.HyperZZWOperator\u001b[0m:\u001b[36mcall\u001b[0m:\u001b[36m133\u001b[0m - \u001b[34m\u001b[1mHyperZZWOperator context_tensor shape: (None, 16)\u001b[0m\n",
      "\u001b[32m2025-10-30 17:21:58.764\u001b[0m | \u001b[34m\u001b[1mDEBUG   \u001b[0m | \u001b[36mkmr.layers.HyperZZWOperator\u001b[0m:\u001b[36mcall\u001b[0m:\u001b[36m153\u001b[0m - \u001b[34m\u001b[1mHyperZZWOperator output shape: (None, 64)\u001b[0m\n",
      "\u001b[32m2025-10-30 17:21:58.764\u001b[0m | \u001b[34m\u001b[1mDEBUG   \u001b[0m | \u001b[36mkmr.models.SFNEBlock\u001b[0m:\u001b[36mcall\u001b[0m:\u001b[36m192\u001b[0m - \u001b[34m\u001b[1mSFNEBlock context_weights shape: (None, 64)\u001b[0m\n",
      "\u001b[32m2025-10-30 17:21:58.765\u001b[0m | \u001b[34m\u001b[1mDEBUG   \u001b[0m | \u001b[36mkmr.models.SFNEBlock\u001b[0m:\u001b[36mcall\u001b[0m:\u001b[36m196\u001b[0m - \u001b[34m\u001b[1mSFNEBlock context_weights_expanded shape: (None, 64, 1)\u001b[0m\n",
      "\u001b[32m2025-10-30 17:21:58.768\u001b[0m | \u001b[34m\u001b[1mDEBUG   \u001b[0m | \u001b[36mkmr.models.SFNEBlock\u001b[0m:\u001b[36mcall\u001b[0m:\u001b[36m202\u001b[0m - \u001b[34m\u001b[1mSFNEBlock global_output shape: (None, 64, 16)\u001b[0m\n",
      "\u001b[32m2025-10-30 17:21:58.772\u001b[0m | \u001b[34m\u001b[1mDEBUG   \u001b[0m | \u001b[36mkmr.models.SFNEBlock\u001b[0m:\u001b[36mcall\u001b[0m:\u001b[36m206\u001b[0m - \u001b[34m\u001b[1mSFNEBlock local_output shape: (None, 64, 16)\u001b[0m\n",
      "\u001b[32m2025-10-30 17:21:58.773\u001b[0m | \u001b[34m\u001b[1mDEBUG   \u001b[0m | \u001b[36mkmr.models.SFNEBlock\u001b[0m:\u001b[36mcall\u001b[0m:\u001b[36m210\u001b[0m - \u001b[34m\u001b[1mSFNEBlock combined_output shape: (None, 64, 32)\u001b[0m\n",
      "\u001b[32m2025-10-30 17:21:58.773\u001b[0m | \u001b[34m\u001b[1mDEBUG   \u001b[0m | \u001b[36mkmr.models.SFNEBlock\u001b[0m:\u001b[36mcall\u001b[0m:\u001b[36m217\u001b[0m - \u001b[34m\u001b[1mSFNEBlock combined_output_flat shape: (None, 2048)\u001b[0m\n",
      "\u001b[32m2025-10-30 17:21:58.775\u001b[0m | \u001b[34m\u001b[1mDEBUG   \u001b[0m | \u001b[36mkmr.models.SFNEBlock\u001b[0m:\u001b[36mcall\u001b[0m:\u001b[36m223\u001b[0m - \u001b[34m\u001b[1mSFNEBlock bottleneck_output shape: (None, 16)\u001b[0m\n",
      "\u001b[32m2025-10-30 17:21:58.776\u001b[0m | \u001b[34m\u001b[1mDEBUG   \u001b[0m | \u001b[36mkmr.models.SFNEBlock\u001b[0m:\u001b[36mcall\u001b[0m:\u001b[36m227\u001b[0m - \u001b[34m\u001b[1mSFNEBlock output_layer output shape: (None, 16)\u001b[0m\n",
      "\u001b[32m2025-10-30 17:21:58.777\u001b[0m | \u001b[34m\u001b[1mDEBUG   \u001b[0m | \u001b[36mkmr.models.TerminatorModel\u001b[0m:\u001b[36mcall\u001b[0m:\u001b[36m227\u001b[0m - \u001b[34m\u001b[1mTerminatorModel SFNEBlock 0 output shape: (None, 16)\u001b[0m\n",
      "\u001b[32m2025-10-30 17:21:58.777\u001b[0m | \u001b[34m\u001b[1mDEBUG   \u001b[0m | \u001b[36mkmr.models.SFNEBlock\u001b[0m:\u001b[36mcall\u001b[0m:\u001b[36m176\u001b[0m - \u001b[34m\u001b[1mSFNEBlock input shape: (None, 16)\u001b[0m\n",
      "\u001b[32m2025-10-30 17:21:58.782\u001b[0m | \u001b[34m\u001b[1mDEBUG   \u001b[0m | \u001b[36mkmr.layers.SlowNetwork\u001b[0m:\u001b[36mcall\u001b[0m:\u001b[36m122\u001b[0m - \u001b[34m\u001b[1mSlowNetwork input shape: (None, 64)\u001b[0m\n",
      "\u001b[32m2025-10-30 17:21:58.783\u001b[0m | \u001b[34m\u001b[1mDEBUG   \u001b[0m | \u001b[36mkmr.layers.SlowNetwork\u001b[0m:\u001b[36mcall\u001b[0m:\u001b[36m126\u001b[0m - \u001b[34m\u001b[1mSlowNetwork layer 0 output shape: (None, 128)\u001b[0m\n",
      "\u001b[32m2025-10-30 17:21:58.785\u001b[0m | \u001b[34m\u001b[1mDEBUG   \u001b[0m | \u001b[36mkmr.layers.SlowNetwork\u001b[0m:\u001b[36mcall\u001b[0m:\u001b[36m126\u001b[0m - \u001b[34m\u001b[1mSlowNetwork layer 1 output shape: (None, 128)\u001b[0m\n",
      "\u001b[32m2025-10-30 17:21:58.787\u001b[0m | \u001b[34m\u001b[1mDEBUG   \u001b[0m | \u001b[36mkmr.layers.SlowNetwork\u001b[0m:\u001b[36mcall\u001b[0m:\u001b[36m126\u001b[0m - \u001b[34m\u001b[1mSlowNetwork layer 2 output shape: (None, 128)\u001b[0m\n",
      "\u001b[32m2025-10-30 17:21:58.788\u001b[0m | \u001b[34m\u001b[1mDEBUG   \u001b[0m | \u001b[36mkmr.layers.SlowNetwork\u001b[0m:\u001b[36mcall\u001b[0m:\u001b[36m129\u001b[0m - \u001b[34m\u001b[1mSlowNetwork output shape: (None, 16)\u001b[0m\n",
      "\u001b[32m2025-10-30 17:21:58.788\u001b[0m | \u001b[34m\u001b[1mDEBUG   \u001b[0m | \u001b[36mkmr.models.SFNEBlock\u001b[0m:\u001b[36mcall\u001b[0m:\u001b[36m188\u001b[0m - \u001b[34m\u001b[1mSFNEBlock hyper_kernels shape: (None, 16)\u001b[0m\n",
      "\u001b[32m2025-10-30 17:21:58.789\u001b[0m | \u001b[34m\u001b[1mDEBUG   \u001b[0m | \u001b[36mkmr.layers.HyperZZWOperator\u001b[0m:\u001b[36mcall\u001b[0m:\u001b[36m132\u001b[0m - \u001b[34m\u001b[1mHyperZZWOperator input_tensor shape: (None, 64)\u001b[0m\n",
      "\u001b[32m2025-10-30 17:21:58.789\u001b[0m | \u001b[34m\u001b[1mDEBUG   \u001b[0m | \u001b[36mkmr.layers.HyperZZWOperator\u001b[0m:\u001b[36mcall\u001b[0m:\u001b[36m133\u001b[0m - \u001b[34m\u001b[1mHyperZZWOperator context_tensor shape: (None, 16)\u001b[0m\n",
      "\u001b[32m2025-10-30 17:21:58.790\u001b[0m | \u001b[34m\u001b[1mDEBUG   \u001b[0m | \u001b[36mkmr.layers.HyperZZWOperator\u001b[0m:\u001b[36mcall\u001b[0m:\u001b[36m153\u001b[0m - \u001b[34m\u001b[1mHyperZZWOperator output shape: (None, 64)\u001b[0m\n",
      "\u001b[32m2025-10-30 17:21:58.790\u001b[0m | \u001b[34m\u001b[1mDEBUG   \u001b[0m | \u001b[36mkmr.models.SFNEBlock\u001b[0m:\u001b[36mcall\u001b[0m:\u001b[36m192\u001b[0m - \u001b[34m\u001b[1mSFNEBlock context_weights shape: (None, 64)\u001b[0m\n",
      "\u001b[32m2025-10-30 17:21:58.790\u001b[0m | \u001b[34m\u001b[1mDEBUG   \u001b[0m | \u001b[36mkmr.models.SFNEBlock\u001b[0m:\u001b[36mcall\u001b[0m:\u001b[36m196\u001b[0m - \u001b[34m\u001b[1mSFNEBlock context_weights_expanded shape: (None, 64, 1)\u001b[0m\n",
      "\u001b[32m2025-10-30 17:21:58.794\u001b[0m | \u001b[34m\u001b[1mDEBUG   \u001b[0m | \u001b[36mkmr.models.SFNEBlock\u001b[0m:\u001b[36mcall\u001b[0m:\u001b[36m202\u001b[0m - \u001b[34m\u001b[1mSFNEBlock global_output shape: (None, 64, 16)\u001b[0m\n",
      "\u001b[32m2025-10-30 17:21:58.798\u001b[0m | \u001b[34m\u001b[1mDEBUG   \u001b[0m | \u001b[36mkmr.models.SFNEBlock\u001b[0m:\u001b[36mcall\u001b[0m:\u001b[36m206\u001b[0m - \u001b[34m\u001b[1mSFNEBlock local_output shape: (None, 64, 16)\u001b[0m\n",
      "\u001b[32m2025-10-30 17:21:58.798\u001b[0m | \u001b[34m\u001b[1mDEBUG   \u001b[0m | \u001b[36mkmr.models.SFNEBlock\u001b[0m:\u001b[36mcall\u001b[0m:\u001b[36m210\u001b[0m - \u001b[34m\u001b[1mSFNEBlock combined_output shape: (None, 64, 32)\u001b[0m\n",
      "\u001b[32m2025-10-30 17:21:58.799\u001b[0m | \u001b[34m\u001b[1mDEBUG   \u001b[0m | \u001b[36mkmr.models.SFNEBlock\u001b[0m:\u001b[36mcall\u001b[0m:\u001b[36m217\u001b[0m - \u001b[34m\u001b[1mSFNEBlock combined_output_flat shape: (None, 2048)\u001b[0m\n",
      "\u001b[32m2025-10-30 17:21:58.800\u001b[0m | \u001b[34m\u001b[1mDEBUG   \u001b[0m | \u001b[36mkmr.models.SFNEBlock\u001b[0m:\u001b[36mcall\u001b[0m:\u001b[36m223\u001b[0m - \u001b[34m\u001b[1mSFNEBlock bottleneck_output shape: (None, 16)\u001b[0m\n",
      "\u001b[32m2025-10-30 17:21:58.802\u001b[0m | \u001b[34m\u001b[1mDEBUG   \u001b[0m | \u001b[36mkmr.models.SFNEBlock\u001b[0m:\u001b[36mcall\u001b[0m:\u001b[36m227\u001b[0m - \u001b[34m\u001b[1mSFNEBlock output_layer output shape: (None, 16)\u001b[0m\n",
      "\u001b[32m2025-10-30 17:21:58.802\u001b[0m | \u001b[34m\u001b[1mDEBUG   \u001b[0m | \u001b[36mkmr.models.TerminatorModel\u001b[0m:\u001b[36mcall\u001b[0m:\u001b[36m227\u001b[0m - \u001b[34m\u001b[1mTerminatorModel SFNEBlock 1 output shape: (None, 16)\u001b[0m\n",
      "\u001b[32m2025-10-30 17:21:58.802\u001b[0m | \u001b[34m\u001b[1mDEBUG   \u001b[0m | \u001b[36mkmr.models.SFNEBlock\u001b[0m:\u001b[36mcall\u001b[0m:\u001b[36m176\u001b[0m - \u001b[34m\u001b[1mSFNEBlock input shape: (None, 16)\u001b[0m\n",
      "\u001b[32m2025-10-30 17:21:58.807\u001b[0m | \u001b[34m\u001b[1mDEBUG   \u001b[0m | \u001b[36mkmr.layers.SlowNetwork\u001b[0m:\u001b[36mcall\u001b[0m:\u001b[36m122\u001b[0m - \u001b[34m\u001b[1mSlowNetwork input shape: (None, 64)\u001b[0m\n",
      "\u001b[32m2025-10-30 17:21:58.810\u001b[0m | \u001b[34m\u001b[1mDEBUG   \u001b[0m | \u001b[36mkmr.layers.SlowNetwork\u001b[0m:\u001b[36mcall\u001b[0m:\u001b[36m126\u001b[0m - \u001b[34m\u001b[1mSlowNetwork layer 0 output shape: (None, 128)\u001b[0m\n",
      "\u001b[32m2025-10-30 17:21:58.811\u001b[0m | \u001b[34m\u001b[1mDEBUG   \u001b[0m | \u001b[36mkmr.layers.SlowNetwork\u001b[0m:\u001b[36mcall\u001b[0m:\u001b[36m126\u001b[0m - \u001b[34m\u001b[1mSlowNetwork layer 1 output shape: (None, 128)\u001b[0m\n",
      "\u001b[32m2025-10-30 17:21:58.813\u001b[0m | \u001b[34m\u001b[1mDEBUG   \u001b[0m | \u001b[36mkmr.layers.SlowNetwork\u001b[0m:\u001b[36mcall\u001b[0m:\u001b[36m126\u001b[0m - \u001b[34m\u001b[1mSlowNetwork layer 2 output shape: (None, 128)\u001b[0m\n",
      "\u001b[32m2025-10-30 17:21:58.814\u001b[0m | \u001b[34m\u001b[1mDEBUG   \u001b[0m | \u001b[36mkmr.layers.SlowNetwork\u001b[0m:\u001b[36mcall\u001b[0m:\u001b[36m129\u001b[0m - \u001b[34m\u001b[1mSlowNetwork output shape: (None, 16)\u001b[0m\n",
      "\u001b[32m2025-10-30 17:21:58.814\u001b[0m | \u001b[34m\u001b[1mDEBUG   \u001b[0m | \u001b[36mkmr.models.SFNEBlock\u001b[0m:\u001b[36mcall\u001b[0m:\u001b[36m188\u001b[0m - \u001b[34m\u001b[1mSFNEBlock hyper_kernels shape: (None, 16)\u001b[0m\n",
      "\u001b[32m2025-10-30 17:21:58.815\u001b[0m | \u001b[34m\u001b[1mDEBUG   \u001b[0m | \u001b[36mkmr.layers.HyperZZWOperator\u001b[0m:\u001b[36mcall\u001b[0m:\u001b[36m132\u001b[0m - \u001b[34m\u001b[1mHyperZZWOperator input_tensor shape: (None, 64)\u001b[0m\n",
      "\u001b[32m2025-10-30 17:21:58.815\u001b[0m | \u001b[34m\u001b[1mDEBUG   \u001b[0m | \u001b[36mkmr.layers.HyperZZWOperator\u001b[0m:\u001b[36mcall\u001b[0m:\u001b[36m133\u001b[0m - \u001b[34m\u001b[1mHyperZZWOperator context_tensor shape: (None, 16)\u001b[0m\n",
      "\u001b[32m2025-10-30 17:21:58.816\u001b[0m | \u001b[34m\u001b[1mDEBUG   \u001b[0m | \u001b[36mkmr.layers.HyperZZWOperator\u001b[0m:\u001b[36mcall\u001b[0m:\u001b[36m153\u001b[0m - \u001b[34m\u001b[1mHyperZZWOperator output shape: (None, 64)\u001b[0m\n",
      "\u001b[32m2025-10-30 17:21:58.816\u001b[0m | \u001b[34m\u001b[1mDEBUG   \u001b[0m | \u001b[36mkmr.models.SFNEBlock\u001b[0m:\u001b[36mcall\u001b[0m:\u001b[36m192\u001b[0m - \u001b[34m\u001b[1mSFNEBlock context_weights shape: (None, 64)\u001b[0m\n",
      "\u001b[32m2025-10-30 17:21:58.816\u001b[0m | \u001b[34m\u001b[1mDEBUG   \u001b[0m | \u001b[36mkmr.models.SFNEBlock\u001b[0m:\u001b[36mcall\u001b[0m:\u001b[36m196\u001b[0m - \u001b[34m\u001b[1mSFNEBlock context_weights_expanded shape: (None, 64, 1)\u001b[0m\n",
      "\u001b[32m2025-10-30 17:21:58.820\u001b[0m | \u001b[34m\u001b[1mDEBUG   \u001b[0m | \u001b[36mkmr.models.SFNEBlock\u001b[0m:\u001b[36mcall\u001b[0m:\u001b[36m202\u001b[0m - \u001b[34m\u001b[1mSFNEBlock global_output shape: (None, 64, 16)\u001b[0m\n",
      "\u001b[32m2025-10-30 17:21:58.823\u001b[0m | \u001b[34m\u001b[1mDEBUG   \u001b[0m | \u001b[36mkmr.models.SFNEBlock\u001b[0m:\u001b[36mcall\u001b[0m:\u001b[36m206\u001b[0m - \u001b[34m\u001b[1mSFNEBlock local_output shape: (None, 64, 16)\u001b[0m\n",
      "\u001b[32m2025-10-30 17:21:58.824\u001b[0m | \u001b[34m\u001b[1mDEBUG   \u001b[0m | \u001b[36mkmr.models.SFNEBlock\u001b[0m:\u001b[36mcall\u001b[0m:\u001b[36m210\u001b[0m - \u001b[34m\u001b[1mSFNEBlock combined_output shape: (None, 64, 32)\u001b[0m\n",
      "\u001b[32m2025-10-30 17:21:58.824\u001b[0m | \u001b[34m\u001b[1mDEBUG   \u001b[0m | \u001b[36mkmr.models.SFNEBlock\u001b[0m:\u001b[36mcall\u001b[0m:\u001b[36m217\u001b[0m - \u001b[34m\u001b[1mSFNEBlock combined_output_flat shape: (None, 2048)\u001b[0m\n",
      "\u001b[32m2025-10-30 17:21:58.826\u001b[0m | \u001b[34m\u001b[1mDEBUG   \u001b[0m | \u001b[36mkmr.models.SFNEBlock\u001b[0m:\u001b[36mcall\u001b[0m:\u001b[36m223\u001b[0m - \u001b[34m\u001b[1mSFNEBlock bottleneck_output shape: (None, 16)\u001b[0m\n",
      "\u001b[32m2025-10-30 17:21:58.828\u001b[0m | \u001b[34m\u001b[1mDEBUG   \u001b[0m | \u001b[36mkmr.models.SFNEBlock\u001b[0m:\u001b[36mcall\u001b[0m:\u001b[36m227\u001b[0m - \u001b[34m\u001b[1mSFNEBlock output_layer output shape: (None, 16)\u001b[0m\n",
      "\u001b[32m2025-10-30 17:21:58.828\u001b[0m | \u001b[34m\u001b[1mDEBUG   \u001b[0m | \u001b[36mkmr.models.TerminatorModel\u001b[0m:\u001b[36mcall\u001b[0m:\u001b[36m227\u001b[0m - \u001b[34m\u001b[1mTerminatorModel SFNEBlock 2 output shape: (None, 16)\u001b[0m\n",
      "\u001b[32m2025-10-30 17:21:58.830\u001b[0m | \u001b[34m\u001b[1mDEBUG   \u001b[0m | \u001b[36mkmr.models.TerminatorModel\u001b[0m:\u001b[36mcall\u001b[0m:\u001b[36m234\u001b[0m - \u001b[34m\u001b[1mTerminatorModel output_layer output shape: (None, 1)\u001b[0m\n",
      "\u001b[32m2025-10-30 17:22:00.242\u001b[0m | \u001b[34m\u001b[1mDEBUG   \u001b[0m | \u001b[36mkmr.models.TerminatorModel\u001b[0m:\u001b[36mcall\u001b[0m:\u001b[36m205\u001b[0m - \u001b[34m\u001b[1mTerminatorModel input shape: (None, 16), context shape: (None, 8)\u001b[0m\n",
      "\u001b[32m2025-10-30 17:22:00.244\u001b[0m | \u001b[34m\u001b[1mDEBUG   \u001b[0m | \u001b[36mkmr.models.TerminatorModel\u001b[0m:\u001b[36mcall\u001b[0m:\u001b[36m211\u001b[0m - \u001b[34m\u001b[1mTerminatorModel input_layer output shape: (None, 16)\u001b[0m\n",
      "\u001b[32m2025-10-30 17:22:00.245\u001b[0m | \u001b[34m\u001b[1mDEBUG   \u001b[0m | \u001b[36mkmr.layers.SlowNetwork\u001b[0m:\u001b[36mcall\u001b[0m:\u001b[36m122\u001b[0m - \u001b[34m\u001b[1mSlowNetwork input shape: (None, 8)\u001b[0m\n",
      "\u001b[32m2025-10-30 17:22:00.247\u001b[0m | \u001b[34m\u001b[1mDEBUG   \u001b[0m | \u001b[36mkmr.layers.SlowNetwork\u001b[0m:\u001b[36mcall\u001b[0m:\u001b[36m126\u001b[0m - \u001b[34m\u001b[1mSlowNetwork layer 0 output shape: (None, 128)\u001b[0m\n",
      "\u001b[32m2025-10-30 17:22:00.249\u001b[0m | \u001b[34m\u001b[1mDEBUG   \u001b[0m | \u001b[36mkmr.layers.SlowNetwork\u001b[0m:\u001b[36mcall\u001b[0m:\u001b[36m126\u001b[0m - \u001b[34m\u001b[1mSlowNetwork layer 1 output shape: (None, 128)\u001b[0m\n",
      "\u001b[32m2025-10-30 17:22:00.250\u001b[0m | \u001b[34m\u001b[1mDEBUG   \u001b[0m | \u001b[36mkmr.layers.SlowNetwork\u001b[0m:\u001b[36mcall\u001b[0m:\u001b[36m126\u001b[0m - \u001b[34m\u001b[1mSlowNetwork layer 2 output shape: (None, 128)\u001b[0m\n",
      "\u001b[32m2025-10-30 17:22:00.252\u001b[0m | \u001b[34m\u001b[1mDEBUG   \u001b[0m | \u001b[36mkmr.layers.SlowNetwork\u001b[0m:\u001b[36mcall\u001b[0m:\u001b[36m129\u001b[0m - \u001b[34m\u001b[1mSlowNetwork output shape: (None, 8)\u001b[0m\n",
      "\u001b[32m2025-10-30 17:22:00.252\u001b[0m | \u001b[34m\u001b[1mDEBUG   \u001b[0m | \u001b[36mkmr.models.TerminatorModel\u001b[0m:\u001b[36mcall\u001b[0m:\u001b[36m215\u001b[0m - \u001b[34m\u001b[1mTerminatorModel hyper_kernels shape: (None, 8)\u001b[0m\n",
      "\u001b[32m2025-10-30 17:22:00.252\u001b[0m | \u001b[34m\u001b[1mDEBUG   \u001b[0m | \u001b[36mkmr.layers.HyperZZWOperator\u001b[0m:\u001b[36mcall\u001b[0m:\u001b[36m132\u001b[0m - \u001b[34m\u001b[1mHyperZZWOperator input_tensor shape: (None, 16)\u001b[0m\n",
      "\u001b[32m2025-10-30 17:22:00.253\u001b[0m | \u001b[34m\u001b[1mDEBUG   \u001b[0m | \u001b[36mkmr.layers.HyperZZWOperator\u001b[0m:\u001b[36mcall\u001b[0m:\u001b[36m133\u001b[0m - \u001b[34m\u001b[1mHyperZZWOperator context_tensor shape: (None, 8)\u001b[0m\n",
      "\u001b[32m2025-10-30 17:22:00.254\u001b[0m | \u001b[34m\u001b[1mDEBUG   \u001b[0m | \u001b[36mkmr.layers.HyperZZWOperator\u001b[0m:\u001b[36mcall\u001b[0m:\u001b[36m153\u001b[0m - \u001b[34m\u001b[1mHyperZZWOperator output shape: (None, 16)\u001b[0m\n",
      "\u001b[32m2025-10-30 17:22:00.254\u001b[0m | \u001b[34m\u001b[1mDEBUG   \u001b[0m | \u001b[36mkmr.models.TerminatorModel\u001b[0m:\u001b[36mcall\u001b[0m:\u001b[36m219\u001b[0m - \u001b[34m\u001b[1mTerminatorModel context_weights shape: (None, 16)\u001b[0m\n",
      "\u001b[32m2025-10-30 17:22:00.257\u001b[0m | \u001b[34m\u001b[1mDEBUG   \u001b[0m | \u001b[36mkmr.models.SFNEBlock\u001b[0m:\u001b[36mcall\u001b[0m:\u001b[36m176\u001b[0m - \u001b[34m\u001b[1mSFNEBlock input shape: (None, 16)\u001b[0m\n",
      "\u001b[32m2025-10-30 17:22:00.262\u001b[0m | \u001b[34m\u001b[1mDEBUG   \u001b[0m | \u001b[36mkmr.layers.SlowNetwork\u001b[0m:\u001b[36mcall\u001b[0m:\u001b[36m122\u001b[0m - \u001b[34m\u001b[1mSlowNetwork input shape: (None, 64)\u001b[0m\n",
      "\u001b[32m2025-10-30 17:22:00.264\u001b[0m | \u001b[34m\u001b[1mDEBUG   \u001b[0m | \u001b[36mkmr.layers.SlowNetwork\u001b[0m:\u001b[36mcall\u001b[0m:\u001b[36m126\u001b[0m - \u001b[34m\u001b[1mSlowNetwork layer 0 output shape: (None, 128)\u001b[0m\n",
      "\u001b[32m2025-10-30 17:22:00.265\u001b[0m | \u001b[34m\u001b[1mDEBUG   \u001b[0m | \u001b[36mkmr.layers.SlowNetwork\u001b[0m:\u001b[36mcall\u001b[0m:\u001b[36m126\u001b[0m - \u001b[34m\u001b[1mSlowNetwork layer 1 output shape: (None, 128)\u001b[0m\n",
      "\u001b[32m2025-10-30 17:22:00.267\u001b[0m | \u001b[34m\u001b[1mDEBUG   \u001b[0m | \u001b[36mkmr.layers.SlowNetwork\u001b[0m:\u001b[36mcall\u001b[0m:\u001b[36m126\u001b[0m - \u001b[34m\u001b[1mSlowNetwork layer 2 output shape: (None, 128)\u001b[0m\n",
      "\u001b[32m2025-10-30 17:22:00.269\u001b[0m | \u001b[34m\u001b[1mDEBUG   \u001b[0m | \u001b[36mkmr.layers.SlowNetwork\u001b[0m:\u001b[36mcall\u001b[0m:\u001b[36m129\u001b[0m - \u001b[34m\u001b[1mSlowNetwork output shape: (None, 16)\u001b[0m\n",
      "\u001b[32m2025-10-30 17:22:00.269\u001b[0m | \u001b[34m\u001b[1mDEBUG   \u001b[0m | \u001b[36mkmr.models.SFNEBlock\u001b[0m:\u001b[36mcall\u001b[0m:\u001b[36m188\u001b[0m - \u001b[34m\u001b[1mSFNEBlock hyper_kernels shape: (None, 16)\u001b[0m\n",
      "\u001b[32m2025-10-30 17:22:00.269\u001b[0m | \u001b[34m\u001b[1mDEBUG   \u001b[0m | \u001b[36mkmr.layers.HyperZZWOperator\u001b[0m:\u001b[36mcall\u001b[0m:\u001b[36m132\u001b[0m - \u001b[34m\u001b[1mHyperZZWOperator input_tensor shape: (None, 64)\u001b[0m\n",
      "\u001b[32m2025-10-30 17:22:00.269\u001b[0m | \u001b[34m\u001b[1mDEBUG   \u001b[0m | \u001b[36mkmr.layers.HyperZZWOperator\u001b[0m:\u001b[36mcall\u001b[0m:\u001b[36m133\u001b[0m - \u001b[34m\u001b[1mHyperZZWOperator context_tensor shape: (None, 16)\u001b[0m\n",
      "\u001b[32m2025-10-30 17:22:00.271\u001b[0m | \u001b[34m\u001b[1mDEBUG   \u001b[0m | \u001b[36mkmr.layers.HyperZZWOperator\u001b[0m:\u001b[36mcall\u001b[0m:\u001b[36m153\u001b[0m - \u001b[34m\u001b[1mHyperZZWOperator output shape: (None, 64)\u001b[0m\n",
      "\u001b[32m2025-10-30 17:22:00.271\u001b[0m | \u001b[34m\u001b[1mDEBUG   \u001b[0m | \u001b[36mkmr.models.SFNEBlock\u001b[0m:\u001b[36mcall\u001b[0m:\u001b[36m192\u001b[0m - \u001b[34m\u001b[1mSFNEBlock context_weights shape: (None, 64)\u001b[0m\n",
      "\u001b[32m2025-10-30 17:22:00.271\u001b[0m | \u001b[34m\u001b[1mDEBUG   \u001b[0m | \u001b[36mkmr.models.SFNEBlock\u001b[0m:\u001b[36mcall\u001b[0m:\u001b[36m196\u001b[0m - \u001b[34m\u001b[1mSFNEBlock context_weights_expanded shape: (None, 64, 1)\u001b[0m\n",
      "\u001b[32m2025-10-30 17:22:00.275\u001b[0m | \u001b[34m\u001b[1mDEBUG   \u001b[0m | \u001b[36mkmr.models.SFNEBlock\u001b[0m:\u001b[36mcall\u001b[0m:\u001b[36m202\u001b[0m - \u001b[34m\u001b[1mSFNEBlock global_output shape: (None, 64, 16)\u001b[0m\n",
      "\u001b[32m2025-10-30 17:22:00.278\u001b[0m | \u001b[34m\u001b[1mDEBUG   \u001b[0m | \u001b[36mkmr.models.SFNEBlock\u001b[0m:\u001b[36mcall\u001b[0m:\u001b[36m206\u001b[0m - \u001b[34m\u001b[1mSFNEBlock local_output shape: (None, 64, 16)\u001b[0m\n",
      "\u001b[32m2025-10-30 17:22:00.279\u001b[0m | \u001b[34m\u001b[1mDEBUG   \u001b[0m | \u001b[36mkmr.models.SFNEBlock\u001b[0m:\u001b[36mcall\u001b[0m:\u001b[36m210\u001b[0m - \u001b[34m\u001b[1mSFNEBlock combined_output shape: (None, 64, 32)\u001b[0m\n",
      "\u001b[32m2025-10-30 17:22:00.280\u001b[0m | \u001b[34m\u001b[1mDEBUG   \u001b[0m | \u001b[36mkmr.models.SFNEBlock\u001b[0m:\u001b[36mcall\u001b[0m:\u001b[36m217\u001b[0m - \u001b[34m\u001b[1mSFNEBlock combined_output_flat shape: (None, 2048)\u001b[0m\n",
      "\u001b[32m2025-10-30 17:22:00.281\u001b[0m | \u001b[34m\u001b[1mDEBUG   \u001b[0m | \u001b[36mkmr.models.SFNEBlock\u001b[0m:\u001b[36mcall\u001b[0m:\u001b[36m223\u001b[0m - \u001b[34m\u001b[1mSFNEBlock bottleneck_output shape: (None, 16)\u001b[0m\n",
      "\u001b[32m2025-10-30 17:22:00.283\u001b[0m | \u001b[34m\u001b[1mDEBUG   \u001b[0m | \u001b[36mkmr.models.SFNEBlock\u001b[0m:\u001b[36mcall\u001b[0m:\u001b[36m227\u001b[0m - \u001b[34m\u001b[1mSFNEBlock output_layer output shape: (None, 16)\u001b[0m\n",
      "\u001b[32m2025-10-30 17:22:00.283\u001b[0m | \u001b[34m\u001b[1mDEBUG   \u001b[0m | \u001b[36mkmr.models.TerminatorModel\u001b[0m:\u001b[36mcall\u001b[0m:\u001b[36m227\u001b[0m - \u001b[34m\u001b[1mTerminatorModel SFNEBlock 0 output shape: (None, 16)\u001b[0m\n",
      "\u001b[32m2025-10-30 17:22:00.283\u001b[0m | \u001b[34m\u001b[1mDEBUG   \u001b[0m | \u001b[36mkmr.models.SFNEBlock\u001b[0m:\u001b[36mcall\u001b[0m:\u001b[36m176\u001b[0m - \u001b[34m\u001b[1mSFNEBlock input shape: (None, 16)\u001b[0m\n",
      "\u001b[32m2025-10-30 17:22:00.288\u001b[0m | \u001b[34m\u001b[1mDEBUG   \u001b[0m | \u001b[36mkmr.layers.SlowNetwork\u001b[0m:\u001b[36mcall\u001b[0m:\u001b[36m122\u001b[0m - \u001b[34m\u001b[1mSlowNetwork input shape: (None, 64)\u001b[0m\n",
      "\u001b[32m2025-10-30 17:22:00.290\u001b[0m | \u001b[34m\u001b[1mDEBUG   \u001b[0m | \u001b[36mkmr.layers.SlowNetwork\u001b[0m:\u001b[36mcall\u001b[0m:\u001b[36m126\u001b[0m - \u001b[34m\u001b[1mSlowNetwork layer 0 output shape: (None, 128)\u001b[0m\n",
      "\u001b[32m2025-10-30 17:22:00.291\u001b[0m | \u001b[34m\u001b[1mDEBUG   \u001b[0m | \u001b[36mkmr.layers.SlowNetwork\u001b[0m:\u001b[36mcall\u001b[0m:\u001b[36m126\u001b[0m - \u001b[34m\u001b[1mSlowNetwork layer 1 output shape: (None, 128)\u001b[0m\n",
      "\u001b[32m2025-10-30 17:22:00.293\u001b[0m | \u001b[34m\u001b[1mDEBUG   \u001b[0m | \u001b[36mkmr.layers.SlowNetwork\u001b[0m:\u001b[36mcall\u001b[0m:\u001b[36m126\u001b[0m - \u001b[34m\u001b[1mSlowNetwork layer 2 output shape: (None, 128)\u001b[0m\n",
      "\u001b[32m2025-10-30 17:22:00.294\u001b[0m | \u001b[34m\u001b[1mDEBUG   \u001b[0m | \u001b[36mkmr.layers.SlowNetwork\u001b[0m:\u001b[36mcall\u001b[0m:\u001b[36m129\u001b[0m - \u001b[34m\u001b[1mSlowNetwork output shape: (None, 16)\u001b[0m\n",
      "\u001b[32m2025-10-30 17:22:00.294\u001b[0m | \u001b[34m\u001b[1mDEBUG   \u001b[0m | \u001b[36mkmr.models.SFNEBlock\u001b[0m:\u001b[36mcall\u001b[0m:\u001b[36m188\u001b[0m - \u001b[34m\u001b[1mSFNEBlock hyper_kernels shape: (None, 16)\u001b[0m\n",
      "\u001b[32m2025-10-30 17:22:00.295\u001b[0m | \u001b[34m\u001b[1mDEBUG   \u001b[0m | \u001b[36mkmr.layers.HyperZZWOperator\u001b[0m:\u001b[36mcall\u001b[0m:\u001b[36m132\u001b[0m - \u001b[34m\u001b[1mHyperZZWOperator input_tensor shape: (None, 64)\u001b[0m\n",
      "\u001b[32m2025-10-30 17:22:00.295\u001b[0m | \u001b[34m\u001b[1mDEBUG   \u001b[0m | \u001b[36mkmr.layers.HyperZZWOperator\u001b[0m:\u001b[36mcall\u001b[0m:\u001b[36m133\u001b[0m - \u001b[34m\u001b[1mHyperZZWOperator context_tensor shape: (None, 16)\u001b[0m\n",
      "\u001b[32m2025-10-30 17:22:00.296\u001b[0m | \u001b[34m\u001b[1mDEBUG   \u001b[0m | \u001b[36mkmr.layers.HyperZZWOperator\u001b[0m:\u001b[36mcall\u001b[0m:\u001b[36m153\u001b[0m - \u001b[34m\u001b[1mHyperZZWOperator output shape: (None, 64)\u001b[0m\n",
      "\u001b[32m2025-10-30 17:22:00.296\u001b[0m | \u001b[34m\u001b[1mDEBUG   \u001b[0m | \u001b[36mkmr.models.SFNEBlock\u001b[0m:\u001b[36mcall\u001b[0m:\u001b[36m192\u001b[0m - \u001b[34m\u001b[1mSFNEBlock context_weights shape: (None, 64)\u001b[0m\n",
      "\u001b[32m2025-10-30 17:22:00.297\u001b[0m | \u001b[34m\u001b[1mDEBUG   \u001b[0m | \u001b[36mkmr.models.SFNEBlock\u001b[0m:\u001b[36mcall\u001b[0m:\u001b[36m196\u001b[0m - \u001b[34m\u001b[1mSFNEBlock context_weights_expanded shape: (None, 64, 1)\u001b[0m\n",
      "\u001b[32m2025-10-30 17:22:00.301\u001b[0m | \u001b[34m\u001b[1mDEBUG   \u001b[0m | \u001b[36mkmr.models.SFNEBlock\u001b[0m:\u001b[36mcall\u001b[0m:\u001b[36m202\u001b[0m - \u001b[34m\u001b[1mSFNEBlock global_output shape: (None, 64, 16)\u001b[0m\n",
      "\u001b[32m2025-10-30 17:22:00.304\u001b[0m | \u001b[34m\u001b[1mDEBUG   \u001b[0m | \u001b[36mkmr.models.SFNEBlock\u001b[0m:\u001b[36mcall\u001b[0m:\u001b[36m206\u001b[0m - \u001b[34m\u001b[1mSFNEBlock local_output shape: (None, 64, 16)\u001b[0m\n",
      "\u001b[32m2025-10-30 17:22:00.305\u001b[0m | \u001b[34m\u001b[1mDEBUG   \u001b[0m | \u001b[36mkmr.models.SFNEBlock\u001b[0m:\u001b[36mcall\u001b[0m:\u001b[36m210\u001b[0m - \u001b[34m\u001b[1mSFNEBlock combined_output shape: (None, 64, 32)\u001b[0m\n",
      "\u001b[32m2025-10-30 17:22:00.305\u001b[0m | \u001b[34m\u001b[1mDEBUG   \u001b[0m | \u001b[36mkmr.models.SFNEBlock\u001b[0m:\u001b[36mcall\u001b[0m:\u001b[36m217\u001b[0m - \u001b[34m\u001b[1mSFNEBlock combined_output_flat shape: (None, 2048)\u001b[0m\n",
      "\u001b[32m2025-10-30 17:22:00.307\u001b[0m | \u001b[34m\u001b[1mDEBUG   \u001b[0m | \u001b[36mkmr.models.SFNEBlock\u001b[0m:\u001b[36mcall\u001b[0m:\u001b[36m223\u001b[0m - \u001b[34m\u001b[1mSFNEBlock bottleneck_output shape: (None, 16)\u001b[0m\n",
      "\u001b[32m2025-10-30 17:22:00.309\u001b[0m | \u001b[34m\u001b[1mDEBUG   \u001b[0m | \u001b[36mkmr.models.SFNEBlock\u001b[0m:\u001b[36mcall\u001b[0m:\u001b[36m227\u001b[0m - \u001b[34m\u001b[1mSFNEBlock output_layer output shape: (None, 16)\u001b[0m\n",
      "\u001b[32m2025-10-30 17:22:00.309\u001b[0m | \u001b[34m\u001b[1mDEBUG   \u001b[0m | \u001b[36mkmr.models.TerminatorModel\u001b[0m:\u001b[36mcall\u001b[0m:\u001b[36m227\u001b[0m - \u001b[34m\u001b[1mTerminatorModel SFNEBlock 1 output shape: (None, 16)\u001b[0m\n",
      "\u001b[32m2025-10-30 17:22:00.309\u001b[0m | \u001b[34m\u001b[1mDEBUG   \u001b[0m | \u001b[36mkmr.models.SFNEBlock\u001b[0m:\u001b[36mcall\u001b[0m:\u001b[36m176\u001b[0m - \u001b[34m\u001b[1mSFNEBlock input shape: (None, 16)\u001b[0m\n",
      "\u001b[32m2025-10-30 17:22:00.314\u001b[0m | \u001b[34m\u001b[1mDEBUG   \u001b[0m | \u001b[36mkmr.layers.SlowNetwork\u001b[0m:\u001b[36mcall\u001b[0m:\u001b[36m122\u001b[0m - \u001b[34m\u001b[1mSlowNetwork input shape: (None, 64)\u001b[0m\n",
      "\u001b[32m2025-10-30 17:22:00.315\u001b[0m | \u001b[34m\u001b[1mDEBUG   \u001b[0m | \u001b[36mkmr.layers.SlowNetwork\u001b[0m:\u001b[36mcall\u001b[0m:\u001b[36m126\u001b[0m - \u001b[34m\u001b[1mSlowNetwork layer 0 output shape: (None, 128)\u001b[0m\n",
      "\u001b[32m2025-10-30 17:22:00.317\u001b[0m | \u001b[34m\u001b[1mDEBUG   \u001b[0m | \u001b[36mkmr.layers.SlowNetwork\u001b[0m:\u001b[36mcall\u001b[0m:\u001b[36m126\u001b[0m - \u001b[34m\u001b[1mSlowNetwork layer 1 output shape: (None, 128)\u001b[0m\n",
      "\u001b[32m2025-10-30 17:22:00.319\u001b[0m | \u001b[34m\u001b[1mDEBUG   \u001b[0m | \u001b[36mkmr.layers.SlowNetwork\u001b[0m:\u001b[36mcall\u001b[0m:\u001b[36m126\u001b[0m - \u001b[34m\u001b[1mSlowNetwork layer 2 output shape: (None, 128)\u001b[0m\n",
      "\u001b[32m2025-10-30 17:22:00.320\u001b[0m | \u001b[34m\u001b[1mDEBUG   \u001b[0m | \u001b[36mkmr.layers.SlowNetwork\u001b[0m:\u001b[36mcall\u001b[0m:\u001b[36m129\u001b[0m - \u001b[34m\u001b[1mSlowNetwork output shape: (None, 16)\u001b[0m\n",
      "\u001b[32m2025-10-30 17:22:00.320\u001b[0m | \u001b[34m\u001b[1mDEBUG   \u001b[0m | \u001b[36mkmr.models.SFNEBlock\u001b[0m:\u001b[36mcall\u001b[0m:\u001b[36m188\u001b[0m - \u001b[34m\u001b[1mSFNEBlock hyper_kernels shape: (None, 16)\u001b[0m\n",
      "\u001b[32m2025-10-30 17:22:00.321\u001b[0m | \u001b[34m\u001b[1mDEBUG   \u001b[0m | \u001b[36mkmr.layers.HyperZZWOperator\u001b[0m:\u001b[36mcall\u001b[0m:\u001b[36m132\u001b[0m - \u001b[34m\u001b[1mHyperZZWOperator input_tensor shape: (None, 64)\u001b[0m\n",
      "\u001b[32m2025-10-30 17:22:00.321\u001b[0m | \u001b[34m\u001b[1mDEBUG   \u001b[0m | \u001b[36mkmr.layers.HyperZZWOperator\u001b[0m:\u001b[36mcall\u001b[0m:\u001b[36m133\u001b[0m - \u001b[34m\u001b[1mHyperZZWOperator context_tensor shape: (None, 16)\u001b[0m\n",
      "\u001b[32m2025-10-30 17:22:00.322\u001b[0m | \u001b[34m\u001b[1mDEBUG   \u001b[0m | \u001b[36mkmr.layers.HyperZZWOperator\u001b[0m:\u001b[36mcall\u001b[0m:\u001b[36m153\u001b[0m - \u001b[34m\u001b[1mHyperZZWOperator output shape: (None, 64)\u001b[0m\n",
      "\u001b[32m2025-10-30 17:22:00.322\u001b[0m | \u001b[34m\u001b[1mDEBUG   \u001b[0m | \u001b[36mkmr.models.SFNEBlock\u001b[0m:\u001b[36mcall\u001b[0m:\u001b[36m192\u001b[0m - \u001b[34m\u001b[1mSFNEBlock context_weights shape: (None, 64)\u001b[0m\n",
      "\u001b[32m2025-10-30 17:22:00.322\u001b[0m | \u001b[34m\u001b[1mDEBUG   \u001b[0m | \u001b[36mkmr.models.SFNEBlock\u001b[0m:\u001b[36mcall\u001b[0m:\u001b[36m196\u001b[0m - \u001b[34m\u001b[1mSFNEBlock context_weights_expanded shape: (None, 64, 1)\u001b[0m\n",
      "\u001b[32m2025-10-30 17:22:00.326\u001b[0m | \u001b[34m\u001b[1mDEBUG   \u001b[0m | \u001b[36mkmr.models.SFNEBlock\u001b[0m:\u001b[36mcall\u001b[0m:\u001b[36m202\u001b[0m - \u001b[34m\u001b[1mSFNEBlock global_output shape: (None, 64, 16)\u001b[0m\n",
      "\u001b[32m2025-10-30 17:22:00.334\u001b[0m | \u001b[34m\u001b[1mDEBUG   \u001b[0m | \u001b[36mkmr.models.SFNEBlock\u001b[0m:\u001b[36mcall\u001b[0m:\u001b[36m206\u001b[0m - \u001b[34m\u001b[1mSFNEBlock local_output shape: (None, 64, 16)\u001b[0m\n",
      "\u001b[32m2025-10-30 17:22:00.335\u001b[0m | \u001b[34m\u001b[1mDEBUG   \u001b[0m | \u001b[36mkmr.models.SFNEBlock\u001b[0m:\u001b[36mcall\u001b[0m:\u001b[36m210\u001b[0m - \u001b[34m\u001b[1mSFNEBlock combined_output shape: (None, 64, 32)\u001b[0m\n",
      "\u001b[32m2025-10-30 17:22:00.336\u001b[0m | \u001b[34m\u001b[1mDEBUG   \u001b[0m | \u001b[36mkmr.models.SFNEBlock\u001b[0m:\u001b[36mcall\u001b[0m:\u001b[36m217\u001b[0m - \u001b[34m\u001b[1mSFNEBlock combined_output_flat shape: (None, 2048)\u001b[0m\n",
      "\u001b[32m2025-10-30 17:22:00.338\u001b[0m | \u001b[34m\u001b[1mDEBUG   \u001b[0m | \u001b[36mkmr.models.SFNEBlock\u001b[0m:\u001b[36mcall\u001b[0m:\u001b[36m223\u001b[0m - \u001b[34m\u001b[1mSFNEBlock bottleneck_output shape: (None, 16)\u001b[0m\n",
      "\u001b[32m2025-10-30 17:22:00.340\u001b[0m | \u001b[34m\u001b[1mDEBUG   \u001b[0m | \u001b[36mkmr.models.SFNEBlock\u001b[0m:\u001b[36mcall\u001b[0m:\u001b[36m227\u001b[0m - \u001b[34m\u001b[1mSFNEBlock output_layer output shape: (None, 16)\u001b[0m\n",
      "\u001b[32m2025-10-30 17:22:00.340\u001b[0m | \u001b[34m\u001b[1mDEBUG   \u001b[0m | \u001b[36mkmr.models.TerminatorModel\u001b[0m:\u001b[36mcall\u001b[0m:\u001b[36m227\u001b[0m - \u001b[34m\u001b[1mTerminatorModel SFNEBlock 2 output shape: (None, 16)\u001b[0m\n",
      "\u001b[32m2025-10-30 17:22:00.343\u001b[0m | \u001b[34m\u001b[1mDEBUG   \u001b[0m | \u001b[36mkmr.models.TerminatorModel\u001b[0m:\u001b[36mcall\u001b[0m:\u001b[36m234\u001b[0m - \u001b[34m\u001b[1mTerminatorModel output_layer output shape: (None, 1)\u001b[0m\n"
     ]
    },
    {
     "name": "stdout",
     "output_type": "stream",
     "text": [
      "\u001b[1m12/22\u001b[0m \u001b[32m━━━━━━━━━━\u001b[0m\u001b[37m━━━━━━━━━━\u001b[0m \u001b[1m0s\u001b[0m 5ms/step - accuracy: 0.4961 - auc: 0.5060 - loss: 0.7606 - precision: 0.4967 - recall: 0.7665 "
     ]
    },
    {
     "name": "stderr",
     "output_type": "stream",
     "text": [
      "\u001b[32m2025-10-30 17:22:01.717\u001b[0m | \u001b[34m\u001b[1mDEBUG   \u001b[0m | \u001b[36mkmr.models.TerminatorModel\u001b[0m:\u001b[36mcall\u001b[0m:\u001b[36m205\u001b[0m - \u001b[34m\u001b[1mTerminatorModel input shape: (None, 16), context shape: (None, 8)\u001b[0m\n",
      "\u001b[32m2025-10-30 17:22:01.719\u001b[0m | \u001b[34m\u001b[1mDEBUG   \u001b[0m | \u001b[36mkmr.models.TerminatorModel\u001b[0m:\u001b[36mcall\u001b[0m:\u001b[36m211\u001b[0m - \u001b[34m\u001b[1mTerminatorModel input_layer output shape: (None, 16)\u001b[0m\n",
      "\u001b[32m2025-10-30 17:22:01.719\u001b[0m | \u001b[34m\u001b[1mDEBUG   \u001b[0m | \u001b[36mkmr.layers.SlowNetwork\u001b[0m:\u001b[36mcall\u001b[0m:\u001b[36m122\u001b[0m - \u001b[34m\u001b[1mSlowNetwork input shape: (None, 8)\u001b[0m\n",
      "\u001b[32m2025-10-30 17:22:01.721\u001b[0m | \u001b[34m\u001b[1mDEBUG   \u001b[0m | \u001b[36mkmr.layers.SlowNetwork\u001b[0m:\u001b[36mcall\u001b[0m:\u001b[36m126\u001b[0m - \u001b[34m\u001b[1mSlowNetwork layer 0 output shape: (None, 128)\u001b[0m\n",
      "\u001b[32m2025-10-30 17:22:01.723\u001b[0m | \u001b[34m\u001b[1mDEBUG   \u001b[0m | \u001b[36mkmr.layers.SlowNetwork\u001b[0m:\u001b[36mcall\u001b[0m:\u001b[36m126\u001b[0m - \u001b[34m\u001b[1mSlowNetwork layer 1 output shape: (None, 128)\u001b[0m\n",
      "\u001b[32m2025-10-30 17:22:01.725\u001b[0m | \u001b[34m\u001b[1mDEBUG   \u001b[0m | \u001b[36mkmr.layers.SlowNetwork\u001b[0m:\u001b[36mcall\u001b[0m:\u001b[36m126\u001b[0m - \u001b[34m\u001b[1mSlowNetwork layer 2 output shape: (None, 128)\u001b[0m\n",
      "\u001b[32m2025-10-30 17:22:01.726\u001b[0m | \u001b[34m\u001b[1mDEBUG   \u001b[0m | \u001b[36mkmr.layers.SlowNetwork\u001b[0m:\u001b[36mcall\u001b[0m:\u001b[36m129\u001b[0m - \u001b[34m\u001b[1mSlowNetwork output shape: (None, 8)\u001b[0m\n",
      "\u001b[32m2025-10-30 17:22:01.726\u001b[0m | \u001b[34m\u001b[1mDEBUG   \u001b[0m | \u001b[36mkmr.models.TerminatorModel\u001b[0m:\u001b[36mcall\u001b[0m:\u001b[36m215\u001b[0m - \u001b[34m\u001b[1mTerminatorModel hyper_kernels shape: (None, 8)\u001b[0m\n",
      "\u001b[32m2025-10-30 17:22:01.727\u001b[0m | \u001b[34m\u001b[1mDEBUG   \u001b[0m | \u001b[36mkmr.layers.HyperZZWOperator\u001b[0m:\u001b[36mcall\u001b[0m:\u001b[36m132\u001b[0m - \u001b[34m\u001b[1mHyperZZWOperator input_tensor shape: (None, 16)\u001b[0m\n",
      "\u001b[32m2025-10-30 17:22:01.727\u001b[0m | \u001b[34m\u001b[1mDEBUG   \u001b[0m | \u001b[36mkmr.layers.HyperZZWOperator\u001b[0m:\u001b[36mcall\u001b[0m:\u001b[36m133\u001b[0m - \u001b[34m\u001b[1mHyperZZWOperator context_tensor shape: (None, 8)\u001b[0m\n",
      "\u001b[32m2025-10-30 17:22:01.728\u001b[0m | \u001b[34m\u001b[1mDEBUG   \u001b[0m | \u001b[36mkmr.layers.HyperZZWOperator\u001b[0m:\u001b[36mcall\u001b[0m:\u001b[36m153\u001b[0m - \u001b[34m\u001b[1mHyperZZWOperator output shape: (None, 16)\u001b[0m\n",
      "\u001b[32m2025-10-30 17:22:01.728\u001b[0m | \u001b[34m\u001b[1mDEBUG   \u001b[0m | \u001b[36mkmr.models.TerminatorModel\u001b[0m:\u001b[36mcall\u001b[0m:\u001b[36m219\u001b[0m - \u001b[34m\u001b[1mTerminatorModel context_weights shape: (None, 16)\u001b[0m\n",
      "\u001b[32m2025-10-30 17:22:01.730\u001b[0m | \u001b[34m\u001b[1mDEBUG   \u001b[0m | \u001b[36mkmr.models.SFNEBlock\u001b[0m:\u001b[36mcall\u001b[0m:\u001b[36m176\u001b[0m - \u001b[34m\u001b[1mSFNEBlock input shape: (None, 16)\u001b[0m\n",
      "\u001b[32m2025-10-30 17:22:01.734\u001b[0m | \u001b[34m\u001b[1mDEBUG   \u001b[0m | \u001b[36mkmr.layers.SlowNetwork\u001b[0m:\u001b[36mcall\u001b[0m:\u001b[36m122\u001b[0m - \u001b[34m\u001b[1mSlowNetwork input shape: (None, 64)\u001b[0m\n",
      "\u001b[32m2025-10-30 17:22:01.736\u001b[0m | \u001b[34m\u001b[1mDEBUG   \u001b[0m | \u001b[36mkmr.layers.SlowNetwork\u001b[0m:\u001b[36mcall\u001b[0m:\u001b[36m126\u001b[0m - \u001b[34m\u001b[1mSlowNetwork layer 0 output shape: (None, 128)\u001b[0m\n",
      "\u001b[32m2025-10-30 17:22:01.738\u001b[0m | \u001b[34m\u001b[1mDEBUG   \u001b[0m | \u001b[36mkmr.layers.SlowNetwork\u001b[0m:\u001b[36mcall\u001b[0m:\u001b[36m126\u001b[0m - \u001b[34m\u001b[1mSlowNetwork layer 1 output shape: (None, 128)\u001b[0m\n",
      "\u001b[32m2025-10-30 17:22:01.739\u001b[0m | \u001b[34m\u001b[1mDEBUG   \u001b[0m | \u001b[36mkmr.layers.SlowNetwork\u001b[0m:\u001b[36mcall\u001b[0m:\u001b[36m126\u001b[0m - \u001b[34m\u001b[1mSlowNetwork layer 2 output shape: (None, 128)\u001b[0m\n",
      "\u001b[32m2025-10-30 17:22:01.741\u001b[0m | \u001b[34m\u001b[1mDEBUG   \u001b[0m | \u001b[36mkmr.layers.SlowNetwork\u001b[0m:\u001b[36mcall\u001b[0m:\u001b[36m129\u001b[0m - \u001b[34m\u001b[1mSlowNetwork output shape: (None, 16)\u001b[0m\n",
      "\u001b[32m2025-10-30 17:22:01.741\u001b[0m | \u001b[34m\u001b[1mDEBUG   \u001b[0m | \u001b[36mkmr.models.SFNEBlock\u001b[0m:\u001b[36mcall\u001b[0m:\u001b[36m188\u001b[0m - \u001b[34m\u001b[1mSFNEBlock hyper_kernels shape: (None, 16)\u001b[0m\n",
      "\u001b[32m2025-10-30 17:22:01.741\u001b[0m | \u001b[34m\u001b[1mDEBUG   \u001b[0m | \u001b[36mkmr.layers.HyperZZWOperator\u001b[0m:\u001b[36mcall\u001b[0m:\u001b[36m132\u001b[0m - \u001b[34m\u001b[1mHyperZZWOperator input_tensor shape: (None, 64)\u001b[0m\n",
      "\u001b[32m2025-10-30 17:22:01.741\u001b[0m | \u001b[34m\u001b[1mDEBUG   \u001b[0m | \u001b[36mkmr.layers.HyperZZWOperator\u001b[0m:\u001b[36mcall\u001b[0m:\u001b[36m133\u001b[0m - \u001b[34m\u001b[1mHyperZZWOperator context_tensor shape: (None, 16)\u001b[0m\n",
      "\u001b[32m2025-10-30 17:22:01.743\u001b[0m | \u001b[34m\u001b[1mDEBUG   \u001b[0m | \u001b[36mkmr.layers.HyperZZWOperator\u001b[0m:\u001b[36mcall\u001b[0m:\u001b[36m153\u001b[0m - \u001b[34m\u001b[1mHyperZZWOperator output shape: (None, 64)\u001b[0m\n",
      "\u001b[32m2025-10-30 17:22:01.743\u001b[0m | \u001b[34m\u001b[1mDEBUG   \u001b[0m | \u001b[36mkmr.models.SFNEBlock\u001b[0m:\u001b[36mcall\u001b[0m:\u001b[36m192\u001b[0m - \u001b[34m\u001b[1mSFNEBlock context_weights shape: (None, 64)\u001b[0m\n",
      "\u001b[32m2025-10-30 17:22:01.743\u001b[0m | \u001b[34m\u001b[1mDEBUG   \u001b[0m | \u001b[36mkmr.models.SFNEBlock\u001b[0m:\u001b[36mcall\u001b[0m:\u001b[36m196\u001b[0m - \u001b[34m\u001b[1mSFNEBlock context_weights_expanded shape: (None, 64, 1)\u001b[0m\n",
      "\u001b[32m2025-10-30 17:22:01.747\u001b[0m | \u001b[34m\u001b[1mDEBUG   \u001b[0m | \u001b[36mkmr.models.SFNEBlock\u001b[0m:\u001b[36mcall\u001b[0m:\u001b[36m202\u001b[0m - \u001b[34m\u001b[1mSFNEBlock global_output shape: (None, 64, 16)\u001b[0m\n",
      "\u001b[32m2025-10-30 17:22:01.750\u001b[0m | \u001b[34m\u001b[1mDEBUG   \u001b[0m | \u001b[36mkmr.models.SFNEBlock\u001b[0m:\u001b[36mcall\u001b[0m:\u001b[36m206\u001b[0m - \u001b[34m\u001b[1mSFNEBlock local_output shape: (None, 64, 16)\u001b[0m\n",
      "\u001b[32m2025-10-30 17:22:01.750\u001b[0m | \u001b[34m\u001b[1mDEBUG   \u001b[0m | \u001b[36mkmr.models.SFNEBlock\u001b[0m:\u001b[36mcall\u001b[0m:\u001b[36m210\u001b[0m - \u001b[34m\u001b[1mSFNEBlock combined_output shape: (None, 64, 32)\u001b[0m\n",
      "\u001b[32m2025-10-30 17:22:01.751\u001b[0m | \u001b[34m\u001b[1mDEBUG   \u001b[0m | \u001b[36mkmr.models.SFNEBlock\u001b[0m:\u001b[36mcall\u001b[0m:\u001b[36m217\u001b[0m - \u001b[34m\u001b[1mSFNEBlock combined_output_flat shape: (None, 2048)\u001b[0m\n",
      "\u001b[32m2025-10-30 17:22:01.752\u001b[0m | \u001b[34m\u001b[1mDEBUG   \u001b[0m | \u001b[36mkmr.models.SFNEBlock\u001b[0m:\u001b[36mcall\u001b[0m:\u001b[36m223\u001b[0m - \u001b[34m\u001b[1mSFNEBlock bottleneck_output shape: (None, 16)\u001b[0m\n",
      "\u001b[32m2025-10-30 17:22:01.754\u001b[0m | \u001b[34m\u001b[1mDEBUG   \u001b[0m | \u001b[36mkmr.models.SFNEBlock\u001b[0m:\u001b[36mcall\u001b[0m:\u001b[36m227\u001b[0m - \u001b[34m\u001b[1mSFNEBlock output_layer output shape: (None, 16)\u001b[0m\n",
      "\u001b[32m2025-10-30 17:22:01.754\u001b[0m | \u001b[34m\u001b[1mDEBUG   \u001b[0m | \u001b[36mkmr.models.TerminatorModel\u001b[0m:\u001b[36mcall\u001b[0m:\u001b[36m227\u001b[0m - \u001b[34m\u001b[1mTerminatorModel SFNEBlock 0 output shape: (None, 16)\u001b[0m\n",
      "\u001b[32m2025-10-30 17:22:01.755\u001b[0m | \u001b[34m\u001b[1mDEBUG   \u001b[0m | \u001b[36mkmr.models.SFNEBlock\u001b[0m:\u001b[36mcall\u001b[0m:\u001b[36m176\u001b[0m - \u001b[34m\u001b[1mSFNEBlock input shape: (None, 16)\u001b[0m\n",
      "\u001b[32m2025-10-30 17:22:01.759\u001b[0m | \u001b[34m\u001b[1mDEBUG   \u001b[0m | \u001b[36mkmr.layers.SlowNetwork\u001b[0m:\u001b[36mcall\u001b[0m:\u001b[36m122\u001b[0m - \u001b[34m\u001b[1mSlowNetwork input shape: (None, 64)\u001b[0m\n",
      "\u001b[32m2025-10-30 17:22:01.761\u001b[0m | \u001b[34m\u001b[1mDEBUG   \u001b[0m | \u001b[36mkmr.layers.SlowNetwork\u001b[0m:\u001b[36mcall\u001b[0m:\u001b[36m126\u001b[0m - \u001b[34m\u001b[1mSlowNetwork layer 0 output shape: (None, 128)\u001b[0m\n",
      "\u001b[32m2025-10-30 17:22:01.762\u001b[0m | \u001b[34m\u001b[1mDEBUG   \u001b[0m | \u001b[36mkmr.layers.SlowNetwork\u001b[0m:\u001b[36mcall\u001b[0m:\u001b[36m126\u001b[0m - \u001b[34m\u001b[1mSlowNetwork layer 1 output shape: (None, 128)\u001b[0m\n",
      "\u001b[32m2025-10-30 17:22:01.764\u001b[0m | \u001b[34m\u001b[1mDEBUG   \u001b[0m | \u001b[36mkmr.layers.SlowNetwork\u001b[0m:\u001b[36mcall\u001b[0m:\u001b[36m126\u001b[0m - \u001b[34m\u001b[1mSlowNetwork layer 2 output shape: (None, 128)\u001b[0m\n",
      "\u001b[32m2025-10-30 17:22:01.765\u001b[0m | \u001b[34m\u001b[1mDEBUG   \u001b[0m | \u001b[36mkmr.layers.SlowNetwork\u001b[0m:\u001b[36mcall\u001b[0m:\u001b[36m129\u001b[0m - \u001b[34m\u001b[1mSlowNetwork output shape: (None, 16)\u001b[0m\n",
      "\u001b[32m2025-10-30 17:22:01.766\u001b[0m | \u001b[34m\u001b[1mDEBUG   \u001b[0m | \u001b[36mkmr.models.SFNEBlock\u001b[0m:\u001b[36mcall\u001b[0m:\u001b[36m188\u001b[0m - \u001b[34m\u001b[1mSFNEBlock hyper_kernels shape: (None, 16)\u001b[0m\n",
      "\u001b[32m2025-10-30 17:22:01.766\u001b[0m | \u001b[34m\u001b[1mDEBUG   \u001b[0m | \u001b[36mkmr.layers.HyperZZWOperator\u001b[0m:\u001b[36mcall\u001b[0m:\u001b[36m132\u001b[0m - \u001b[34m\u001b[1mHyperZZWOperator input_tensor shape: (None, 64)\u001b[0m\n",
      "\u001b[32m2025-10-30 17:22:01.766\u001b[0m | \u001b[34m\u001b[1mDEBUG   \u001b[0m | \u001b[36mkmr.layers.HyperZZWOperator\u001b[0m:\u001b[36mcall\u001b[0m:\u001b[36m133\u001b[0m - \u001b[34m\u001b[1mHyperZZWOperator context_tensor shape: (None, 16)\u001b[0m\n",
      "\u001b[32m2025-10-30 17:22:01.767\u001b[0m | \u001b[34m\u001b[1mDEBUG   \u001b[0m | \u001b[36mkmr.layers.HyperZZWOperator\u001b[0m:\u001b[36mcall\u001b[0m:\u001b[36m153\u001b[0m - \u001b[34m\u001b[1mHyperZZWOperator output shape: (None, 64)\u001b[0m\n",
      "\u001b[32m2025-10-30 17:22:01.767\u001b[0m | \u001b[34m\u001b[1mDEBUG   \u001b[0m | \u001b[36mkmr.models.SFNEBlock\u001b[0m:\u001b[36mcall\u001b[0m:\u001b[36m192\u001b[0m - \u001b[34m\u001b[1mSFNEBlock context_weights shape: (None, 64)\u001b[0m\n",
      "\u001b[32m2025-10-30 17:22:01.768\u001b[0m | \u001b[34m\u001b[1mDEBUG   \u001b[0m | \u001b[36mkmr.models.SFNEBlock\u001b[0m:\u001b[36mcall\u001b[0m:\u001b[36m196\u001b[0m - \u001b[34m\u001b[1mSFNEBlock context_weights_expanded shape: (None, 64, 1)\u001b[0m\n",
      "\u001b[32m2025-10-30 17:22:01.771\u001b[0m | \u001b[34m\u001b[1mDEBUG   \u001b[0m | \u001b[36mkmr.models.SFNEBlock\u001b[0m:\u001b[36mcall\u001b[0m:\u001b[36m202\u001b[0m - \u001b[34m\u001b[1mSFNEBlock global_output shape: (None, 64, 16)\u001b[0m\n",
      "\u001b[32m2025-10-30 17:22:01.774\u001b[0m | \u001b[34m\u001b[1mDEBUG   \u001b[0m | \u001b[36mkmr.models.SFNEBlock\u001b[0m:\u001b[36mcall\u001b[0m:\u001b[36m206\u001b[0m - \u001b[34m\u001b[1mSFNEBlock local_output shape: (None, 64, 16)\u001b[0m\n",
      "\u001b[32m2025-10-30 17:22:01.775\u001b[0m | \u001b[34m\u001b[1mDEBUG   \u001b[0m | \u001b[36mkmr.models.SFNEBlock\u001b[0m:\u001b[36mcall\u001b[0m:\u001b[36m210\u001b[0m - \u001b[34m\u001b[1mSFNEBlock combined_output shape: (None, 64, 32)\u001b[0m\n",
      "\u001b[32m2025-10-30 17:22:01.775\u001b[0m | \u001b[34m\u001b[1mDEBUG   \u001b[0m | \u001b[36mkmr.models.SFNEBlock\u001b[0m:\u001b[36mcall\u001b[0m:\u001b[36m217\u001b[0m - \u001b[34m\u001b[1mSFNEBlock combined_output_flat shape: (None, 2048)\u001b[0m\n",
      "\u001b[32m2025-10-30 17:22:01.777\u001b[0m | \u001b[34m\u001b[1mDEBUG   \u001b[0m | \u001b[36mkmr.models.SFNEBlock\u001b[0m:\u001b[36mcall\u001b[0m:\u001b[36m223\u001b[0m - \u001b[34m\u001b[1mSFNEBlock bottleneck_output shape: (None, 16)\u001b[0m\n",
      "\u001b[32m2025-10-30 17:22:01.778\u001b[0m | \u001b[34m\u001b[1mDEBUG   \u001b[0m | \u001b[36mkmr.models.SFNEBlock\u001b[0m:\u001b[36mcall\u001b[0m:\u001b[36m227\u001b[0m - \u001b[34m\u001b[1mSFNEBlock output_layer output shape: (None, 16)\u001b[0m\n",
      "\u001b[32m2025-10-30 17:22:01.778\u001b[0m | \u001b[34m\u001b[1mDEBUG   \u001b[0m | \u001b[36mkmr.models.TerminatorModel\u001b[0m:\u001b[36mcall\u001b[0m:\u001b[36m227\u001b[0m - \u001b[34m\u001b[1mTerminatorModel SFNEBlock 1 output shape: (None, 16)\u001b[0m\n",
      "\u001b[32m2025-10-30 17:22:01.779\u001b[0m | \u001b[34m\u001b[1mDEBUG   \u001b[0m | \u001b[36mkmr.models.SFNEBlock\u001b[0m:\u001b[36mcall\u001b[0m:\u001b[36m176\u001b[0m - \u001b[34m\u001b[1mSFNEBlock input shape: (None, 16)\u001b[0m\n",
      "\u001b[32m2025-10-30 17:22:01.783\u001b[0m | \u001b[34m\u001b[1mDEBUG   \u001b[0m | \u001b[36mkmr.layers.SlowNetwork\u001b[0m:\u001b[36mcall\u001b[0m:\u001b[36m122\u001b[0m - \u001b[34m\u001b[1mSlowNetwork input shape: (None, 64)\u001b[0m\n",
      "\u001b[32m2025-10-30 17:22:01.785\u001b[0m | \u001b[34m\u001b[1mDEBUG   \u001b[0m | \u001b[36mkmr.layers.SlowNetwork\u001b[0m:\u001b[36mcall\u001b[0m:\u001b[36m126\u001b[0m - \u001b[34m\u001b[1mSlowNetwork layer 0 output shape: (None, 128)\u001b[0m\n",
      "\u001b[32m2025-10-30 17:22:01.786\u001b[0m | \u001b[34m\u001b[1mDEBUG   \u001b[0m | \u001b[36mkmr.layers.SlowNetwork\u001b[0m:\u001b[36mcall\u001b[0m:\u001b[36m126\u001b[0m - \u001b[34m\u001b[1mSlowNetwork layer 1 output shape: (None, 128)\u001b[0m\n",
      "\u001b[32m2025-10-30 17:22:01.788\u001b[0m | \u001b[34m\u001b[1mDEBUG   \u001b[0m | \u001b[36mkmr.layers.SlowNetwork\u001b[0m:\u001b[36mcall\u001b[0m:\u001b[36m126\u001b[0m - \u001b[34m\u001b[1mSlowNetwork layer 2 output shape: (None, 128)\u001b[0m\n",
      "\u001b[32m2025-10-30 17:22:01.789\u001b[0m | \u001b[34m\u001b[1mDEBUG   \u001b[0m | \u001b[36mkmr.layers.SlowNetwork\u001b[0m:\u001b[36mcall\u001b[0m:\u001b[36m129\u001b[0m - \u001b[34m\u001b[1mSlowNetwork output shape: (None, 16)\u001b[0m\n",
      "\u001b[32m2025-10-30 17:22:01.789\u001b[0m | \u001b[34m\u001b[1mDEBUG   \u001b[0m | \u001b[36mkmr.models.SFNEBlock\u001b[0m:\u001b[36mcall\u001b[0m:\u001b[36m188\u001b[0m - \u001b[34m\u001b[1mSFNEBlock hyper_kernels shape: (None, 16)\u001b[0m\n",
      "\u001b[32m2025-10-30 17:22:01.790\u001b[0m | \u001b[34m\u001b[1mDEBUG   \u001b[0m | \u001b[36mkmr.layers.HyperZZWOperator\u001b[0m:\u001b[36mcall\u001b[0m:\u001b[36m132\u001b[0m - \u001b[34m\u001b[1mHyperZZWOperator input_tensor shape: (None, 64)\u001b[0m\n",
      "\u001b[32m2025-10-30 17:22:01.790\u001b[0m | \u001b[34m\u001b[1mDEBUG   \u001b[0m | \u001b[36mkmr.layers.HyperZZWOperator\u001b[0m:\u001b[36mcall\u001b[0m:\u001b[36m133\u001b[0m - \u001b[34m\u001b[1mHyperZZWOperator context_tensor shape: (None, 16)\u001b[0m\n",
      "\u001b[32m2025-10-30 17:22:01.791\u001b[0m | \u001b[34m\u001b[1mDEBUG   \u001b[0m | \u001b[36mkmr.layers.HyperZZWOperator\u001b[0m:\u001b[36mcall\u001b[0m:\u001b[36m153\u001b[0m - \u001b[34m\u001b[1mHyperZZWOperator output shape: (None, 64)\u001b[0m\n",
      "\u001b[32m2025-10-30 17:22:01.791\u001b[0m | \u001b[34m\u001b[1mDEBUG   \u001b[0m | \u001b[36mkmr.models.SFNEBlock\u001b[0m:\u001b[36mcall\u001b[0m:\u001b[36m192\u001b[0m - \u001b[34m\u001b[1mSFNEBlock context_weights shape: (None, 64)\u001b[0m\n",
      "\u001b[32m2025-10-30 17:22:01.792\u001b[0m | \u001b[34m\u001b[1mDEBUG   \u001b[0m | \u001b[36mkmr.models.SFNEBlock\u001b[0m:\u001b[36mcall\u001b[0m:\u001b[36m196\u001b[0m - \u001b[34m\u001b[1mSFNEBlock context_weights_expanded shape: (None, 64, 1)\u001b[0m\n",
      "\u001b[32m2025-10-30 17:22:01.795\u001b[0m | \u001b[34m\u001b[1mDEBUG   \u001b[0m | \u001b[36mkmr.models.SFNEBlock\u001b[0m:\u001b[36mcall\u001b[0m:\u001b[36m202\u001b[0m - \u001b[34m\u001b[1mSFNEBlock global_output shape: (None, 64, 16)\u001b[0m\n",
      "\u001b[32m2025-10-30 17:22:01.798\u001b[0m | \u001b[34m\u001b[1mDEBUG   \u001b[0m | \u001b[36mkmr.models.SFNEBlock\u001b[0m:\u001b[36mcall\u001b[0m:\u001b[36m206\u001b[0m - \u001b[34m\u001b[1mSFNEBlock local_output shape: (None, 64, 16)\u001b[0m\n",
      "\u001b[32m2025-10-30 17:22:01.799\u001b[0m | \u001b[34m\u001b[1mDEBUG   \u001b[0m | \u001b[36mkmr.models.SFNEBlock\u001b[0m:\u001b[36mcall\u001b[0m:\u001b[36m210\u001b[0m - \u001b[34m\u001b[1mSFNEBlock combined_output shape: (None, 64, 32)\u001b[0m\n",
      "\u001b[32m2025-10-30 17:22:01.799\u001b[0m | \u001b[34m\u001b[1mDEBUG   \u001b[0m | \u001b[36mkmr.models.SFNEBlock\u001b[0m:\u001b[36mcall\u001b[0m:\u001b[36m217\u001b[0m - \u001b[34m\u001b[1mSFNEBlock combined_output_flat shape: (None, 2048)\u001b[0m\n",
      "\u001b[32m2025-10-30 17:22:01.801\u001b[0m | \u001b[34m\u001b[1mDEBUG   \u001b[0m | \u001b[36mkmr.models.SFNEBlock\u001b[0m:\u001b[36mcall\u001b[0m:\u001b[36m223\u001b[0m - \u001b[34m\u001b[1mSFNEBlock bottleneck_output shape: (None, 16)\u001b[0m\n",
      "\u001b[32m2025-10-30 17:22:01.802\u001b[0m | \u001b[34m\u001b[1mDEBUG   \u001b[0m | \u001b[36mkmr.models.SFNEBlock\u001b[0m:\u001b[36mcall\u001b[0m:\u001b[36m227\u001b[0m - \u001b[34m\u001b[1mSFNEBlock output_layer output shape: (None, 16)\u001b[0m\n",
      "\u001b[32m2025-10-30 17:22:01.803\u001b[0m | \u001b[34m\u001b[1mDEBUG   \u001b[0m | \u001b[36mkmr.models.TerminatorModel\u001b[0m:\u001b[36mcall\u001b[0m:\u001b[36m227\u001b[0m - \u001b[34m\u001b[1mTerminatorModel SFNEBlock 2 output shape: (None, 16)\u001b[0m\n",
      "\u001b[32m2025-10-30 17:22:01.805\u001b[0m | \u001b[34m\u001b[1mDEBUG   \u001b[0m | \u001b[36mkmr.models.TerminatorModel\u001b[0m:\u001b[36mcall\u001b[0m:\u001b[36m234\u001b[0m - \u001b[34m\u001b[1mTerminatorModel output_layer output shape: (None, 1)\u001b[0m\n"
     ]
    },
    {
     "name": "stdout",
     "output_type": "stream",
     "text": [
      "\u001b[1m22/22\u001b[0m \u001b[32m━━━━━━━━━━━━━━━━━━━━\u001b[0m\u001b[37m\u001b[0m \u001b[1m4s\u001b[0m 25ms/step - accuracy: 0.5046 - auc: 0.5093 - loss: 0.7555 - precision: 0.5044 - recall: 0.7735 - val_accuracy: 0.5633 - val_auc: 0.5814 - val_loss: 0.6914 - val_precision: 0.5513 - val_recall: 0.5850 - learning_rate: 0.0010\n",
      "Epoch 2/30\n",
      "\u001b[1m22/22\u001b[0m \u001b[32m━━━━━━━━━━━━━━━━━━━━\u001b[0m\u001b[37m\u001b[0m \u001b[1m0s\u001b[0m 6ms/step - accuracy: 0.5954 - auc: 0.6647 - loss: 0.6519 - precision: 0.6383 - recall: 0.5157 - val_accuracy: 0.6533 - val_auc: 0.7098 - val_loss: 0.6220 - val_precision: 0.6387 - val_recall: 0.6735 - learning_rate: 0.0010\n",
      "Epoch 3/30\n",
      "\u001b[1m22/22\u001b[0m \u001b[32m━━━━━━━━━━━━━━━━━━━━\u001b[0m\u001b[37m\u001b[0m \u001b[1m0s\u001b[0m 6ms/step - accuracy: 0.7039 - auc: 0.7657 - loss: 0.5859 - precision: 0.6907 - recall: 0.7415 - val_accuracy: 0.7000 - val_auc: 0.7648 - val_loss: 0.5768 - val_precision: 0.6667 - val_recall: 0.7755 - learning_rate: 0.0010\n",
      "Epoch 4/30\n",
      "\u001b[1m22/22\u001b[0m \u001b[32m━━━━━━━━━━━━━━━━━━━━\u001b[0m\u001b[37m\u001b[0m \u001b[1m0s\u001b[0m 6ms/step - accuracy: 0.7581 - auc: 0.8293 - loss: 0.5236 - precision: 0.7469 - recall: 0.8050 - val_accuracy: 0.7333 - val_auc: 0.8175 - val_loss: 0.5277 - val_precision: 0.6811 - val_recall: 0.8571 - learning_rate: 0.0010\n",
      "Epoch 5/30\n",
      "\u001b[1m22/22\u001b[0m \u001b[32m━━━━━━━━━━━━━━━━━━━━\u001b[0m\u001b[37m\u001b[0m \u001b[1m0s\u001b[0m 6ms/step - accuracy: 0.7771 - auc: 0.8660 - loss: 0.4632 - precision: 0.7631 - recall: 0.8233 - val_accuracy: 0.7467 - val_auc: 0.8450 - val_loss: 0.4911 - val_precision: 0.7076 - val_recall: 0.8231 - learning_rate: 0.0010\n",
      "Epoch 6/30\n",
      "\u001b[1m22/22\u001b[0m \u001b[32m━━━━━━━━━━━━━━━━━━━━\u001b[0m\u001b[37m\u001b[0m \u001b[1m0s\u001b[0m 7ms/step - accuracy: 0.7957 - auc: 0.8914 - loss: 0.4157 - precision: 0.7777 - recall: 0.8235 - val_accuracy: 0.7767 - val_auc: 0.8673 - val_loss: 0.4651 - val_precision: 0.7597 - val_recall: 0.7959 - learning_rate: 0.0010\n",
      "Epoch 7/30\n",
      "\u001b[1m22/22\u001b[0m \u001b[32m━━━━━━━━━━━━━━━━━━━━\u001b[0m\u001b[37m\u001b[0m \u001b[1m0s\u001b[0m 7ms/step - accuracy: 0.8090 - auc: 0.9025 - loss: 0.3945 - precision: 0.8030 - recall: 0.8209 - val_accuracy: 0.7567 - val_auc: 0.8691 - val_loss: 0.4612 - val_precision: 0.7500 - val_recall: 0.7551 - learning_rate: 0.0010\n",
      "Epoch 8/30\n",
      "\u001b[1m22/22\u001b[0m \u001b[32m━━━━━━━━━━━━━━━━━━━━\u001b[0m\u001b[37m\u001b[0m \u001b[1m0s\u001b[0m 7ms/step - accuracy: 0.8380 - auc: 0.9260 - loss: 0.3446 - precision: 0.8337 - recall: 0.8485 - val_accuracy: 0.7733 - val_auc: 0.8690 - val_loss: 0.4661 - val_precision: 0.7548 - val_recall: 0.7959 - learning_rate: 0.0010\n",
      "Epoch 9/30\n",
      "\u001b[1m22/22\u001b[0m \u001b[32m━━━━━━━━━━━━━━━━━━━━\u001b[0m\u001b[37m\u001b[0m \u001b[1m0s\u001b[0m 7ms/step - accuracy: 0.8403 - auc: 0.9311 - loss: 0.3363 - precision: 0.8425 - recall: 0.8393 - val_accuracy: 0.7800 - val_auc: 0.8764 - val_loss: 0.4699 - val_precision: 0.7547 - val_recall: 0.8163 - learning_rate: 0.0010\n",
      "Epoch 10/30\n",
      "\u001b[1m22/22\u001b[0m \u001b[32m━━━━━━━━━━━━━━━━━━━━\u001b[0m\u001b[37m\u001b[0m \u001b[1m0s\u001b[0m 7ms/step - accuracy: 0.8587 - auc: 0.9456 - loss: 0.2993 - precision: 0.8556 - recall: 0.8637 - val_accuracy: 0.7700 - val_auc: 0.8721 - val_loss: 0.4786 - val_precision: 0.7437 - val_recall: 0.8095 - learning_rate: 0.0010\n",
      "Epoch 11/30\n",
      "\u001b[1m22/22\u001b[0m \u001b[32m━━━━━━━━━━━━━━━━━━━━\u001b[0m\u001b[37m\u001b[0m \u001b[1m0s\u001b[0m 8ms/step - accuracy: 0.8798 - auc: 0.9557 - loss: 0.2726 - precision: 0.8732 - recall: 0.8915 - val_accuracy: 0.7800 - val_auc: 0.8698 - val_loss: 0.4873 - val_precision: 0.7718 - val_recall: 0.7823 - learning_rate: 5.0000e-04\n",
      "Epoch 12/30\n",
      "\u001b[1m22/22\u001b[0m \u001b[32m━━━━━━━━━━━━━━━━━━━━\u001b[0m\u001b[37m\u001b[0m \u001b[1m0s\u001b[0m 8ms/step - accuracy: 0.8867 - auc: 0.9623 - loss: 0.2510 - precision: 0.8851 - recall: 0.8910 - val_accuracy: 0.7800 - val_auc: 0.8673 - val_loss: 0.5051 - val_precision: 0.7755 - val_recall: 0.7755 - learning_rate: 5.0000e-04\n",
      "✅ Classification training completed!\n"
     ]
    },
    {
     "name": "stderr",
     "output_type": "stream",
     "text": [
      "\u001b[32m2025-10-30 17:22:03.932\u001b[0m | \u001b[34m\u001b[1mDEBUG   \u001b[0m | \u001b[36mkmr.models.TerminatorModel\u001b[0m:\u001b[36mcall\u001b[0m:\u001b[36m205\u001b[0m - \u001b[34m\u001b[1mTerminatorModel input shape: (32, 16), context shape: (32, 8)\u001b[0m\n",
      "\u001b[32m2025-10-30 17:22:03.935\u001b[0m | \u001b[34m\u001b[1mDEBUG   \u001b[0m | \u001b[36mkmr.models.TerminatorModel\u001b[0m:\u001b[36mcall\u001b[0m:\u001b[36m211\u001b[0m - \u001b[34m\u001b[1mTerminatorModel input_layer output shape: (32, 16)\u001b[0m\n",
      "\u001b[32m2025-10-30 17:22:03.935\u001b[0m | \u001b[34m\u001b[1mDEBUG   \u001b[0m | \u001b[36mkmr.layers.SlowNetwork\u001b[0m:\u001b[36mcall\u001b[0m:\u001b[36m122\u001b[0m - \u001b[34m\u001b[1mSlowNetwork input shape: (32, 8)\u001b[0m\n",
      "\u001b[32m2025-10-30 17:22:03.937\u001b[0m | \u001b[34m\u001b[1mDEBUG   \u001b[0m | \u001b[36mkmr.layers.SlowNetwork\u001b[0m:\u001b[36mcall\u001b[0m:\u001b[36m126\u001b[0m - \u001b[34m\u001b[1mSlowNetwork layer 0 output shape: (32, 128)\u001b[0m\n",
      "\u001b[32m2025-10-30 17:22:03.939\u001b[0m | \u001b[34m\u001b[1mDEBUG   \u001b[0m | \u001b[36mkmr.layers.SlowNetwork\u001b[0m:\u001b[36mcall\u001b[0m:\u001b[36m126\u001b[0m - \u001b[34m\u001b[1mSlowNetwork layer 1 output shape: (32, 128)\u001b[0m\n",
      "\u001b[32m2025-10-30 17:22:03.940\u001b[0m | \u001b[34m\u001b[1mDEBUG   \u001b[0m | \u001b[36mkmr.layers.SlowNetwork\u001b[0m:\u001b[36mcall\u001b[0m:\u001b[36m126\u001b[0m - \u001b[34m\u001b[1mSlowNetwork layer 2 output shape: (32, 128)\u001b[0m\n",
      "\u001b[32m2025-10-30 17:22:03.942\u001b[0m | \u001b[34m\u001b[1mDEBUG   \u001b[0m | \u001b[36mkmr.layers.SlowNetwork\u001b[0m:\u001b[36mcall\u001b[0m:\u001b[36m129\u001b[0m - \u001b[34m\u001b[1mSlowNetwork output shape: (32, 8)\u001b[0m\n",
      "\u001b[32m2025-10-30 17:22:03.942\u001b[0m | \u001b[34m\u001b[1mDEBUG   \u001b[0m | \u001b[36mkmr.models.TerminatorModel\u001b[0m:\u001b[36mcall\u001b[0m:\u001b[36m215\u001b[0m - \u001b[34m\u001b[1mTerminatorModel hyper_kernels shape: (32, 8)\u001b[0m\n",
      "\u001b[32m2025-10-30 17:22:03.942\u001b[0m | \u001b[34m\u001b[1mDEBUG   \u001b[0m | \u001b[36mkmr.layers.HyperZZWOperator\u001b[0m:\u001b[36mcall\u001b[0m:\u001b[36m132\u001b[0m - \u001b[34m\u001b[1mHyperZZWOperator input_tensor shape: (32, 16)\u001b[0m\n",
      "\u001b[32m2025-10-30 17:22:03.942\u001b[0m | \u001b[34m\u001b[1mDEBUG   \u001b[0m | \u001b[36mkmr.layers.HyperZZWOperator\u001b[0m:\u001b[36mcall\u001b[0m:\u001b[36m133\u001b[0m - \u001b[34m\u001b[1mHyperZZWOperator context_tensor shape: (32, 8)\u001b[0m\n",
      "\u001b[32m2025-10-30 17:22:03.943\u001b[0m | \u001b[34m\u001b[1mDEBUG   \u001b[0m | \u001b[36mkmr.layers.HyperZZWOperator\u001b[0m:\u001b[36mcall\u001b[0m:\u001b[36m153\u001b[0m - \u001b[34m\u001b[1mHyperZZWOperator output shape: (32, 16)\u001b[0m\n",
      "\u001b[32m2025-10-30 17:22:03.943\u001b[0m | \u001b[34m\u001b[1mDEBUG   \u001b[0m | \u001b[36mkmr.models.TerminatorModel\u001b[0m:\u001b[36mcall\u001b[0m:\u001b[36m219\u001b[0m - \u001b[34m\u001b[1mTerminatorModel context_weights shape: (32, 16)\u001b[0m\n",
      "\u001b[32m2025-10-30 17:22:03.945\u001b[0m | \u001b[34m\u001b[1mDEBUG   \u001b[0m | \u001b[36mkmr.models.SFNEBlock\u001b[0m:\u001b[36mcall\u001b[0m:\u001b[36m176\u001b[0m - \u001b[34m\u001b[1mSFNEBlock input shape: (32, 16)\u001b[0m\n"
     ]
    },
    {
     "name": "stdout",
     "output_type": "stream",
     "text": [
      "Test -> loss 0.4314, acc 0.8200, prec 0.8201, recall 0.7972, auc 0.8955\n"
     ]
    },
    {
     "name": "stderr",
     "output_type": "stream",
     "text": [
      "\u001b[32m2025-10-30 17:22:03.950\u001b[0m | \u001b[34m\u001b[1mDEBUG   \u001b[0m | \u001b[36mkmr.layers.SlowNetwork\u001b[0m:\u001b[36mcall\u001b[0m:\u001b[36m122\u001b[0m - \u001b[34m\u001b[1mSlowNetwork input shape: (32, 64)\u001b[0m\n",
      "\u001b[32m2025-10-30 17:22:03.952\u001b[0m | \u001b[34m\u001b[1mDEBUG   \u001b[0m | \u001b[36mkmr.layers.SlowNetwork\u001b[0m:\u001b[36mcall\u001b[0m:\u001b[36m126\u001b[0m - \u001b[34m\u001b[1mSlowNetwork layer 0 output shape: (32, 128)\u001b[0m\n",
      "\u001b[32m2025-10-30 17:22:03.953\u001b[0m | \u001b[34m\u001b[1mDEBUG   \u001b[0m | \u001b[36mkmr.layers.SlowNetwork\u001b[0m:\u001b[36mcall\u001b[0m:\u001b[36m126\u001b[0m - \u001b[34m\u001b[1mSlowNetwork layer 1 output shape: (32, 128)\u001b[0m\n",
      "\u001b[32m2025-10-30 17:22:03.955\u001b[0m | \u001b[34m\u001b[1mDEBUG   \u001b[0m | \u001b[36mkmr.layers.SlowNetwork\u001b[0m:\u001b[36mcall\u001b[0m:\u001b[36m126\u001b[0m - \u001b[34m\u001b[1mSlowNetwork layer 2 output shape: (32, 128)\u001b[0m\n",
      "\u001b[32m2025-10-30 17:22:03.956\u001b[0m | \u001b[34m\u001b[1mDEBUG   \u001b[0m | \u001b[36mkmr.layers.SlowNetwork\u001b[0m:\u001b[36mcall\u001b[0m:\u001b[36m129\u001b[0m - \u001b[34m\u001b[1mSlowNetwork output shape: (32, 16)\u001b[0m\n",
      "\u001b[32m2025-10-30 17:22:03.956\u001b[0m | \u001b[34m\u001b[1mDEBUG   \u001b[0m | \u001b[36mkmr.models.SFNEBlock\u001b[0m:\u001b[36mcall\u001b[0m:\u001b[36m188\u001b[0m - \u001b[34m\u001b[1mSFNEBlock hyper_kernels shape: (32, 16)\u001b[0m\n",
      "\u001b[32m2025-10-30 17:22:03.956\u001b[0m | \u001b[34m\u001b[1mDEBUG   \u001b[0m | \u001b[36mkmr.layers.HyperZZWOperator\u001b[0m:\u001b[36mcall\u001b[0m:\u001b[36m132\u001b[0m - \u001b[34m\u001b[1mHyperZZWOperator input_tensor shape: (32, 64)\u001b[0m\n",
      "\u001b[32m2025-10-30 17:22:03.956\u001b[0m | \u001b[34m\u001b[1mDEBUG   \u001b[0m | \u001b[36mkmr.layers.HyperZZWOperator\u001b[0m:\u001b[36mcall\u001b[0m:\u001b[36m133\u001b[0m - \u001b[34m\u001b[1mHyperZZWOperator context_tensor shape: (32, 16)\u001b[0m\n",
      "\u001b[32m2025-10-30 17:22:03.957\u001b[0m | \u001b[34m\u001b[1mDEBUG   \u001b[0m | \u001b[36mkmr.layers.HyperZZWOperator\u001b[0m:\u001b[36mcall\u001b[0m:\u001b[36m153\u001b[0m - \u001b[34m\u001b[1mHyperZZWOperator output shape: (32, 64)\u001b[0m\n",
      "\u001b[32m2025-10-30 17:22:03.958\u001b[0m | \u001b[34m\u001b[1mDEBUG   \u001b[0m | \u001b[36mkmr.models.SFNEBlock\u001b[0m:\u001b[36mcall\u001b[0m:\u001b[36m192\u001b[0m - \u001b[34m\u001b[1mSFNEBlock context_weights shape: (32, 64)\u001b[0m\n",
      "\u001b[32m2025-10-30 17:22:03.958\u001b[0m | \u001b[34m\u001b[1mDEBUG   \u001b[0m | \u001b[36mkmr.models.SFNEBlock\u001b[0m:\u001b[36mcall\u001b[0m:\u001b[36m196\u001b[0m - \u001b[34m\u001b[1mSFNEBlock context_weights_expanded shape: (32, 64, 1)\u001b[0m\n",
      "\u001b[32m2025-10-30 17:22:03.962\u001b[0m | \u001b[34m\u001b[1mDEBUG   \u001b[0m | \u001b[36mkmr.models.SFNEBlock\u001b[0m:\u001b[36mcall\u001b[0m:\u001b[36m202\u001b[0m - \u001b[34m\u001b[1mSFNEBlock global_output shape: (32, 64, 16)\u001b[0m\n",
      "\u001b[32m2025-10-30 17:22:03.965\u001b[0m | \u001b[34m\u001b[1mDEBUG   \u001b[0m | \u001b[36mkmr.models.SFNEBlock\u001b[0m:\u001b[36mcall\u001b[0m:\u001b[36m206\u001b[0m - \u001b[34m\u001b[1mSFNEBlock local_output shape: (32, 64, 16)\u001b[0m\n",
      "\u001b[32m2025-10-30 17:22:03.966\u001b[0m | \u001b[34m\u001b[1mDEBUG   \u001b[0m | \u001b[36mkmr.models.SFNEBlock\u001b[0m:\u001b[36mcall\u001b[0m:\u001b[36m210\u001b[0m - \u001b[34m\u001b[1mSFNEBlock combined_output shape: (32, 64, 32)\u001b[0m\n",
      "\u001b[32m2025-10-30 17:22:03.966\u001b[0m | \u001b[34m\u001b[1mDEBUG   \u001b[0m | \u001b[36mkmr.models.SFNEBlock\u001b[0m:\u001b[36mcall\u001b[0m:\u001b[36m217\u001b[0m - \u001b[34m\u001b[1mSFNEBlock combined_output_flat shape: (32, 2048)\u001b[0m\n",
      "\u001b[32m2025-10-30 17:22:03.968\u001b[0m | \u001b[34m\u001b[1mDEBUG   \u001b[0m | \u001b[36mkmr.models.SFNEBlock\u001b[0m:\u001b[36mcall\u001b[0m:\u001b[36m223\u001b[0m - \u001b[34m\u001b[1mSFNEBlock bottleneck_output shape: (32, 16)\u001b[0m\n",
      "\u001b[32m2025-10-30 17:22:03.969\u001b[0m | \u001b[34m\u001b[1mDEBUG   \u001b[0m | \u001b[36mkmr.models.SFNEBlock\u001b[0m:\u001b[36mcall\u001b[0m:\u001b[36m227\u001b[0m - \u001b[34m\u001b[1mSFNEBlock output_layer output shape: (32, 16)\u001b[0m\n",
      "\u001b[32m2025-10-30 17:22:03.969\u001b[0m | \u001b[34m\u001b[1mDEBUG   \u001b[0m | \u001b[36mkmr.models.TerminatorModel\u001b[0m:\u001b[36mcall\u001b[0m:\u001b[36m227\u001b[0m - \u001b[34m\u001b[1mTerminatorModel SFNEBlock 0 output shape: (32, 16)\u001b[0m\n",
      "\u001b[32m2025-10-30 17:22:03.970\u001b[0m | \u001b[34m\u001b[1mDEBUG   \u001b[0m | \u001b[36mkmr.models.SFNEBlock\u001b[0m:\u001b[36mcall\u001b[0m:\u001b[36m176\u001b[0m - \u001b[34m\u001b[1mSFNEBlock input shape: (32, 16)\u001b[0m\n",
      "\u001b[32m2025-10-30 17:22:03.974\u001b[0m | \u001b[34m\u001b[1mDEBUG   \u001b[0m | \u001b[36mkmr.layers.SlowNetwork\u001b[0m:\u001b[36mcall\u001b[0m:\u001b[36m122\u001b[0m - \u001b[34m\u001b[1mSlowNetwork input shape: (32, 64)\u001b[0m\n",
      "\u001b[32m2025-10-30 17:22:03.976\u001b[0m | \u001b[34m\u001b[1mDEBUG   \u001b[0m | \u001b[36mkmr.layers.SlowNetwork\u001b[0m:\u001b[36mcall\u001b[0m:\u001b[36m126\u001b[0m - \u001b[34m\u001b[1mSlowNetwork layer 0 output shape: (32, 128)\u001b[0m\n",
      "\u001b[32m2025-10-30 17:22:03.977\u001b[0m | \u001b[34m\u001b[1mDEBUG   \u001b[0m | \u001b[36mkmr.layers.SlowNetwork\u001b[0m:\u001b[36mcall\u001b[0m:\u001b[36m126\u001b[0m - \u001b[34m\u001b[1mSlowNetwork layer 1 output shape: (32, 128)\u001b[0m\n",
      "\u001b[32m2025-10-30 17:22:03.979\u001b[0m | \u001b[34m\u001b[1mDEBUG   \u001b[0m | \u001b[36mkmr.layers.SlowNetwork\u001b[0m:\u001b[36mcall\u001b[0m:\u001b[36m126\u001b[0m - \u001b[34m\u001b[1mSlowNetwork layer 2 output shape: (32, 128)\u001b[0m\n",
      "\u001b[32m2025-10-30 17:22:03.980\u001b[0m | \u001b[34m\u001b[1mDEBUG   \u001b[0m | \u001b[36mkmr.layers.SlowNetwork\u001b[0m:\u001b[36mcall\u001b[0m:\u001b[36m129\u001b[0m - \u001b[34m\u001b[1mSlowNetwork output shape: (32, 16)\u001b[0m\n",
      "\u001b[32m2025-10-30 17:22:03.980\u001b[0m | \u001b[34m\u001b[1mDEBUG   \u001b[0m | \u001b[36mkmr.models.SFNEBlock\u001b[0m:\u001b[36mcall\u001b[0m:\u001b[36m188\u001b[0m - \u001b[34m\u001b[1mSFNEBlock hyper_kernels shape: (32, 16)\u001b[0m\n",
      "\u001b[32m2025-10-30 17:22:03.981\u001b[0m | \u001b[34m\u001b[1mDEBUG   \u001b[0m | \u001b[36mkmr.layers.HyperZZWOperator\u001b[0m:\u001b[36mcall\u001b[0m:\u001b[36m132\u001b[0m - \u001b[34m\u001b[1mHyperZZWOperator input_tensor shape: (32, 64)\u001b[0m\n",
      "\u001b[32m2025-10-30 17:22:03.981\u001b[0m | \u001b[34m\u001b[1mDEBUG   \u001b[0m | \u001b[36mkmr.layers.HyperZZWOperator\u001b[0m:\u001b[36mcall\u001b[0m:\u001b[36m133\u001b[0m - \u001b[34m\u001b[1mHyperZZWOperator context_tensor shape: (32, 16)\u001b[0m\n",
      "\u001b[32m2025-10-30 17:22:03.982\u001b[0m | \u001b[34m\u001b[1mDEBUG   \u001b[0m | \u001b[36mkmr.layers.HyperZZWOperator\u001b[0m:\u001b[36mcall\u001b[0m:\u001b[36m153\u001b[0m - \u001b[34m\u001b[1mHyperZZWOperator output shape: (32, 64)\u001b[0m\n",
      "\u001b[32m2025-10-30 17:22:03.982\u001b[0m | \u001b[34m\u001b[1mDEBUG   \u001b[0m | \u001b[36mkmr.models.SFNEBlock\u001b[0m:\u001b[36mcall\u001b[0m:\u001b[36m192\u001b[0m - \u001b[34m\u001b[1mSFNEBlock context_weights shape: (32, 64)\u001b[0m\n",
      "\u001b[32m2025-10-30 17:22:03.982\u001b[0m | \u001b[34m\u001b[1mDEBUG   \u001b[0m | \u001b[36mkmr.models.SFNEBlock\u001b[0m:\u001b[36mcall\u001b[0m:\u001b[36m196\u001b[0m - \u001b[34m\u001b[1mSFNEBlock context_weights_expanded shape: (32, 64, 1)\u001b[0m\n",
      "\u001b[32m2025-10-30 17:22:03.985\u001b[0m | \u001b[34m\u001b[1mDEBUG   \u001b[0m | \u001b[36mkmr.models.SFNEBlock\u001b[0m:\u001b[36mcall\u001b[0m:\u001b[36m202\u001b[0m - \u001b[34m\u001b[1mSFNEBlock global_output shape: (32, 64, 16)\u001b[0m\n",
      "\u001b[32m2025-10-30 17:22:03.988\u001b[0m | \u001b[34m\u001b[1mDEBUG   \u001b[0m | \u001b[36mkmr.models.SFNEBlock\u001b[0m:\u001b[36mcall\u001b[0m:\u001b[36m206\u001b[0m - \u001b[34m\u001b[1mSFNEBlock local_output shape: (32, 64, 16)\u001b[0m\n",
      "\u001b[32m2025-10-30 17:22:03.989\u001b[0m | \u001b[34m\u001b[1mDEBUG   \u001b[0m | \u001b[36mkmr.models.SFNEBlock\u001b[0m:\u001b[36mcall\u001b[0m:\u001b[36m210\u001b[0m - \u001b[34m\u001b[1mSFNEBlock combined_output shape: (32, 64, 32)\u001b[0m\n",
      "\u001b[32m2025-10-30 17:22:03.989\u001b[0m | \u001b[34m\u001b[1mDEBUG   \u001b[0m | \u001b[36mkmr.models.SFNEBlock\u001b[0m:\u001b[36mcall\u001b[0m:\u001b[36m217\u001b[0m - \u001b[34m\u001b[1mSFNEBlock combined_output_flat shape: (32, 2048)\u001b[0m\n",
      "\u001b[32m2025-10-30 17:22:03.991\u001b[0m | \u001b[34m\u001b[1mDEBUG   \u001b[0m | \u001b[36mkmr.models.SFNEBlock\u001b[0m:\u001b[36mcall\u001b[0m:\u001b[36m223\u001b[0m - \u001b[34m\u001b[1mSFNEBlock bottleneck_output shape: (32, 16)\u001b[0m\n",
      "\u001b[32m2025-10-30 17:22:03.992\u001b[0m | \u001b[34m\u001b[1mDEBUG   \u001b[0m | \u001b[36mkmr.models.SFNEBlock\u001b[0m:\u001b[36mcall\u001b[0m:\u001b[36m227\u001b[0m - \u001b[34m\u001b[1mSFNEBlock output_layer output shape: (32, 16)\u001b[0m\n",
      "\u001b[32m2025-10-30 17:22:03.993\u001b[0m | \u001b[34m\u001b[1mDEBUG   \u001b[0m | \u001b[36mkmr.models.TerminatorModel\u001b[0m:\u001b[36mcall\u001b[0m:\u001b[36m227\u001b[0m - \u001b[34m\u001b[1mTerminatorModel SFNEBlock 1 output shape: (32, 16)\u001b[0m\n",
      "\u001b[32m2025-10-30 17:22:03.993\u001b[0m | \u001b[34m\u001b[1mDEBUG   \u001b[0m | \u001b[36mkmr.models.SFNEBlock\u001b[0m:\u001b[36mcall\u001b[0m:\u001b[36m176\u001b[0m - \u001b[34m\u001b[1mSFNEBlock input shape: (32, 16)\u001b[0m\n",
      "\u001b[32m2025-10-30 17:22:03.997\u001b[0m | \u001b[34m\u001b[1mDEBUG   \u001b[0m | \u001b[36mkmr.layers.SlowNetwork\u001b[0m:\u001b[36mcall\u001b[0m:\u001b[36m122\u001b[0m - \u001b[34m\u001b[1mSlowNetwork input shape: (32, 64)\u001b[0m\n",
      "\u001b[32m2025-10-30 17:22:03.998\u001b[0m | \u001b[34m\u001b[1mDEBUG   \u001b[0m | \u001b[36mkmr.layers.SlowNetwork\u001b[0m:\u001b[36mcall\u001b[0m:\u001b[36m126\u001b[0m - \u001b[34m\u001b[1mSlowNetwork layer 0 output shape: (32, 128)\u001b[0m\n",
      "\u001b[32m2025-10-30 17:22:04.000\u001b[0m | \u001b[34m\u001b[1mDEBUG   \u001b[0m | \u001b[36mkmr.layers.SlowNetwork\u001b[0m:\u001b[36mcall\u001b[0m:\u001b[36m126\u001b[0m - \u001b[34m\u001b[1mSlowNetwork layer 1 output shape: (32, 128)\u001b[0m\n",
      "\u001b[32m2025-10-30 17:22:04.001\u001b[0m | \u001b[34m\u001b[1mDEBUG   \u001b[0m | \u001b[36mkmr.layers.SlowNetwork\u001b[0m:\u001b[36mcall\u001b[0m:\u001b[36m126\u001b[0m - \u001b[34m\u001b[1mSlowNetwork layer 2 output shape: (32, 128)\u001b[0m\n",
      "\u001b[32m2025-10-30 17:22:04.003\u001b[0m | \u001b[34m\u001b[1mDEBUG   \u001b[0m | \u001b[36mkmr.layers.SlowNetwork\u001b[0m:\u001b[36mcall\u001b[0m:\u001b[36m129\u001b[0m - \u001b[34m\u001b[1mSlowNetwork output shape: (32, 16)\u001b[0m\n",
      "\u001b[32m2025-10-30 17:22:04.003\u001b[0m | \u001b[34m\u001b[1mDEBUG   \u001b[0m | \u001b[36mkmr.models.SFNEBlock\u001b[0m:\u001b[36mcall\u001b[0m:\u001b[36m188\u001b[0m - \u001b[34m\u001b[1mSFNEBlock hyper_kernels shape: (32, 16)\u001b[0m\n",
      "\u001b[32m2025-10-30 17:22:04.003\u001b[0m | \u001b[34m\u001b[1mDEBUG   \u001b[0m | \u001b[36mkmr.layers.HyperZZWOperator\u001b[0m:\u001b[36mcall\u001b[0m:\u001b[36m132\u001b[0m - \u001b[34m\u001b[1mHyperZZWOperator input_tensor shape: (32, 64)\u001b[0m\n",
      "\u001b[32m2025-10-30 17:22:04.003\u001b[0m | \u001b[34m\u001b[1mDEBUG   \u001b[0m | \u001b[36mkmr.layers.HyperZZWOperator\u001b[0m:\u001b[36mcall\u001b[0m:\u001b[36m133\u001b[0m - \u001b[34m\u001b[1mHyperZZWOperator context_tensor shape: (32, 16)\u001b[0m\n",
      "\u001b[32m2025-10-30 17:22:04.004\u001b[0m | \u001b[34m\u001b[1mDEBUG   \u001b[0m | \u001b[36mkmr.layers.HyperZZWOperator\u001b[0m:\u001b[36mcall\u001b[0m:\u001b[36m153\u001b[0m - \u001b[34m\u001b[1mHyperZZWOperator output shape: (32, 64)\u001b[0m\n",
      "\u001b[32m2025-10-30 17:22:04.004\u001b[0m | \u001b[34m\u001b[1mDEBUG   \u001b[0m | \u001b[36mkmr.models.SFNEBlock\u001b[0m:\u001b[36mcall\u001b[0m:\u001b[36m192\u001b[0m - \u001b[34m\u001b[1mSFNEBlock context_weights shape: (32, 64)\u001b[0m\n",
      "\u001b[32m2025-10-30 17:22:04.005\u001b[0m | \u001b[34m\u001b[1mDEBUG   \u001b[0m | \u001b[36mkmr.models.SFNEBlock\u001b[0m:\u001b[36mcall\u001b[0m:\u001b[36m196\u001b[0m - \u001b[34m\u001b[1mSFNEBlock context_weights_expanded shape: (32, 64, 1)\u001b[0m\n",
      "\u001b[32m2025-10-30 17:22:04.008\u001b[0m | \u001b[34m\u001b[1mDEBUG   \u001b[0m | \u001b[36mkmr.models.SFNEBlock\u001b[0m:\u001b[36mcall\u001b[0m:\u001b[36m202\u001b[0m - \u001b[34m\u001b[1mSFNEBlock global_output shape: (32, 64, 16)\u001b[0m\n",
      "\u001b[32m2025-10-30 17:22:04.011\u001b[0m | \u001b[34m\u001b[1mDEBUG   \u001b[0m | \u001b[36mkmr.models.SFNEBlock\u001b[0m:\u001b[36mcall\u001b[0m:\u001b[36m206\u001b[0m - \u001b[34m\u001b[1mSFNEBlock local_output shape: (32, 64, 16)\u001b[0m\n",
      "\u001b[32m2025-10-30 17:22:04.012\u001b[0m | \u001b[34m\u001b[1mDEBUG   \u001b[0m | \u001b[36mkmr.models.SFNEBlock\u001b[0m:\u001b[36mcall\u001b[0m:\u001b[36m210\u001b[0m - \u001b[34m\u001b[1mSFNEBlock combined_output shape: (32, 64, 32)\u001b[0m\n",
      "\u001b[32m2025-10-30 17:22:04.012\u001b[0m | \u001b[34m\u001b[1mDEBUG   \u001b[0m | \u001b[36mkmr.models.SFNEBlock\u001b[0m:\u001b[36mcall\u001b[0m:\u001b[36m217\u001b[0m - \u001b[34m\u001b[1mSFNEBlock combined_output_flat shape: (32, 2048)\u001b[0m\n",
      "\u001b[32m2025-10-30 17:22:04.014\u001b[0m | \u001b[34m\u001b[1mDEBUG   \u001b[0m | \u001b[36mkmr.models.SFNEBlock\u001b[0m:\u001b[36mcall\u001b[0m:\u001b[36m223\u001b[0m - \u001b[34m\u001b[1mSFNEBlock bottleneck_output shape: (32, 16)\u001b[0m\n",
      "\u001b[32m2025-10-30 17:22:04.015\u001b[0m | \u001b[34m\u001b[1mDEBUG   \u001b[0m | \u001b[36mkmr.models.SFNEBlock\u001b[0m:\u001b[36mcall\u001b[0m:\u001b[36m227\u001b[0m - \u001b[34m\u001b[1mSFNEBlock output_layer output shape: (32, 16)\u001b[0m\n",
      "\u001b[32m2025-10-30 17:22:04.015\u001b[0m | \u001b[34m\u001b[1mDEBUG   \u001b[0m | \u001b[36mkmr.models.TerminatorModel\u001b[0m:\u001b[36mcall\u001b[0m:\u001b[36m227\u001b[0m - \u001b[34m\u001b[1mTerminatorModel SFNEBlock 2 output shape: (32, 16)\u001b[0m\n",
      "\u001b[32m2025-10-30 17:22:04.017\u001b[0m | \u001b[34m\u001b[1mDEBUG   \u001b[0m | \u001b[36mkmr.models.TerminatorModel\u001b[0m:\u001b[36mcall\u001b[0m:\u001b[36m234\u001b[0m - \u001b[34m\u001b[1mTerminatorModel output_layer output shape: (32, 1)\u001b[0m\n",
      "\u001b[32m2025-10-30 17:22:04.086\u001b[0m | \u001b[34m\u001b[1mDEBUG   \u001b[0m | \u001b[36mkmr.models.TerminatorModel\u001b[0m:\u001b[36mcall\u001b[0m:\u001b[36m205\u001b[0m - \u001b[34m\u001b[1mTerminatorModel input shape: (None, 16), context shape: (None, 8)\u001b[0m\n",
      "\u001b[32m2025-10-30 17:22:04.088\u001b[0m | \u001b[34m\u001b[1mDEBUG   \u001b[0m | \u001b[36mkmr.models.TerminatorModel\u001b[0m:\u001b[36mcall\u001b[0m:\u001b[36m211\u001b[0m - \u001b[34m\u001b[1mTerminatorModel input_layer output shape: (None, 16)\u001b[0m\n",
      "\u001b[32m2025-10-30 17:22:04.088\u001b[0m | \u001b[34m\u001b[1mDEBUG   \u001b[0m | \u001b[36mkmr.layers.SlowNetwork\u001b[0m:\u001b[36mcall\u001b[0m:\u001b[36m122\u001b[0m - \u001b[34m\u001b[1mSlowNetwork input shape: (None, 8)\u001b[0m\n",
      "\u001b[32m2025-10-30 17:22:04.090\u001b[0m | \u001b[34m\u001b[1mDEBUG   \u001b[0m | \u001b[36mkmr.layers.SlowNetwork\u001b[0m:\u001b[36mcall\u001b[0m:\u001b[36m126\u001b[0m - \u001b[34m\u001b[1mSlowNetwork layer 0 output shape: (None, 128)\u001b[0m\n",
      "\u001b[32m2025-10-30 17:22:04.092\u001b[0m | \u001b[34m\u001b[1mDEBUG   \u001b[0m | \u001b[36mkmr.layers.SlowNetwork\u001b[0m:\u001b[36mcall\u001b[0m:\u001b[36m126\u001b[0m - \u001b[34m\u001b[1mSlowNetwork layer 1 output shape: (None, 128)\u001b[0m\n",
      "\u001b[32m2025-10-30 17:22:04.093\u001b[0m | \u001b[34m\u001b[1mDEBUG   \u001b[0m | \u001b[36mkmr.layers.SlowNetwork\u001b[0m:\u001b[36mcall\u001b[0m:\u001b[36m126\u001b[0m - \u001b[34m\u001b[1mSlowNetwork layer 2 output shape: (None, 128)\u001b[0m\n",
      "\u001b[32m2025-10-30 17:22:04.095\u001b[0m | \u001b[34m\u001b[1mDEBUG   \u001b[0m | \u001b[36mkmr.layers.SlowNetwork\u001b[0m:\u001b[36mcall\u001b[0m:\u001b[36m129\u001b[0m - \u001b[34m\u001b[1mSlowNetwork output shape: (None, 8)\u001b[0m\n",
      "\u001b[32m2025-10-30 17:22:04.095\u001b[0m | \u001b[34m\u001b[1mDEBUG   \u001b[0m | \u001b[36mkmr.models.TerminatorModel\u001b[0m:\u001b[36mcall\u001b[0m:\u001b[36m215\u001b[0m - \u001b[34m\u001b[1mTerminatorModel hyper_kernels shape: (None, 8)\u001b[0m\n",
      "\u001b[32m2025-10-30 17:22:04.095\u001b[0m | \u001b[34m\u001b[1mDEBUG   \u001b[0m | \u001b[36mkmr.layers.HyperZZWOperator\u001b[0m:\u001b[36mcall\u001b[0m:\u001b[36m132\u001b[0m - \u001b[34m\u001b[1mHyperZZWOperator input_tensor shape: (None, 16)\u001b[0m\n",
      "\u001b[32m2025-10-30 17:22:04.095\u001b[0m | \u001b[34m\u001b[1mDEBUG   \u001b[0m | \u001b[36mkmr.layers.HyperZZWOperator\u001b[0m:\u001b[36mcall\u001b[0m:\u001b[36m133\u001b[0m - \u001b[34m\u001b[1mHyperZZWOperator context_tensor shape: (None, 8)\u001b[0m\n",
      "\u001b[32m2025-10-30 17:22:04.096\u001b[0m | \u001b[34m\u001b[1mDEBUG   \u001b[0m | \u001b[36mkmr.layers.HyperZZWOperator\u001b[0m:\u001b[36mcall\u001b[0m:\u001b[36m153\u001b[0m - \u001b[34m\u001b[1mHyperZZWOperator output shape: (None, 16)\u001b[0m\n",
      "\u001b[32m2025-10-30 17:22:04.096\u001b[0m | \u001b[34m\u001b[1mDEBUG   \u001b[0m | \u001b[36mkmr.models.TerminatorModel\u001b[0m:\u001b[36mcall\u001b[0m:\u001b[36m219\u001b[0m - \u001b[34m\u001b[1mTerminatorModel context_weights shape: (None, 16)\u001b[0m\n",
      "\u001b[32m2025-10-30 17:22:04.098\u001b[0m | \u001b[34m\u001b[1mDEBUG   \u001b[0m | \u001b[36mkmr.models.SFNEBlock\u001b[0m:\u001b[36mcall\u001b[0m:\u001b[36m176\u001b[0m - \u001b[34m\u001b[1mSFNEBlock input shape: (None, 16)\u001b[0m\n",
      "\u001b[32m2025-10-30 17:22:04.103\u001b[0m | \u001b[34m\u001b[1mDEBUG   \u001b[0m | \u001b[36mkmr.layers.SlowNetwork\u001b[0m:\u001b[36mcall\u001b[0m:\u001b[36m122\u001b[0m - \u001b[34m\u001b[1mSlowNetwork input shape: (None, 64)\u001b[0m\n",
      "\u001b[32m2025-10-30 17:22:04.105\u001b[0m | \u001b[34m\u001b[1mDEBUG   \u001b[0m | \u001b[36mkmr.layers.SlowNetwork\u001b[0m:\u001b[36mcall\u001b[0m:\u001b[36m126\u001b[0m - \u001b[34m\u001b[1mSlowNetwork layer 0 output shape: (None, 128)\u001b[0m\n",
      "\u001b[32m2025-10-30 17:22:04.106\u001b[0m | \u001b[34m\u001b[1mDEBUG   \u001b[0m | \u001b[36mkmr.layers.SlowNetwork\u001b[0m:\u001b[36mcall\u001b[0m:\u001b[36m126\u001b[0m - \u001b[34m\u001b[1mSlowNetwork layer 1 output shape: (None, 128)\u001b[0m\n",
      "\u001b[32m2025-10-30 17:22:04.108\u001b[0m | \u001b[34m\u001b[1mDEBUG   \u001b[0m | \u001b[36mkmr.layers.SlowNetwork\u001b[0m:\u001b[36mcall\u001b[0m:\u001b[36m126\u001b[0m - \u001b[34m\u001b[1mSlowNetwork layer 2 output shape: (None, 128)\u001b[0m\n",
      "\u001b[32m2025-10-30 17:22:04.109\u001b[0m | \u001b[34m\u001b[1mDEBUG   \u001b[0m | \u001b[36mkmr.layers.SlowNetwork\u001b[0m:\u001b[36mcall\u001b[0m:\u001b[36m129\u001b[0m - \u001b[34m\u001b[1mSlowNetwork output shape: (None, 16)\u001b[0m\n",
      "\u001b[32m2025-10-30 17:22:04.109\u001b[0m | \u001b[34m\u001b[1mDEBUG   \u001b[0m | \u001b[36mkmr.models.SFNEBlock\u001b[0m:\u001b[36mcall\u001b[0m:\u001b[36m188\u001b[0m - \u001b[34m\u001b[1mSFNEBlock hyper_kernels shape: (None, 16)\u001b[0m\n",
      "\u001b[32m2025-10-30 17:22:04.109\u001b[0m | \u001b[34m\u001b[1mDEBUG   \u001b[0m | \u001b[36mkmr.layers.HyperZZWOperator\u001b[0m:\u001b[36mcall\u001b[0m:\u001b[36m132\u001b[0m - \u001b[34m\u001b[1mHyperZZWOperator input_tensor shape: (None, 64)\u001b[0m\n",
      "\u001b[32m2025-10-30 17:22:04.110\u001b[0m | \u001b[34m\u001b[1mDEBUG   \u001b[0m | \u001b[36mkmr.layers.HyperZZWOperator\u001b[0m:\u001b[36mcall\u001b[0m:\u001b[36m133\u001b[0m - \u001b[34m\u001b[1mHyperZZWOperator context_tensor shape: (None, 16)\u001b[0m\n",
      "\u001b[32m2025-10-30 17:22:04.111\u001b[0m | \u001b[34m\u001b[1mDEBUG   \u001b[0m | \u001b[36mkmr.layers.HyperZZWOperator\u001b[0m:\u001b[36mcall\u001b[0m:\u001b[36m153\u001b[0m - \u001b[34m\u001b[1mHyperZZWOperator output shape: (None, 64)\u001b[0m\n",
      "\u001b[32m2025-10-30 17:22:04.111\u001b[0m | \u001b[34m\u001b[1mDEBUG   \u001b[0m | \u001b[36mkmr.models.SFNEBlock\u001b[0m:\u001b[36mcall\u001b[0m:\u001b[36m192\u001b[0m - \u001b[34m\u001b[1mSFNEBlock context_weights shape: (None, 64)\u001b[0m\n",
      "\u001b[32m2025-10-30 17:22:04.111\u001b[0m | \u001b[34m\u001b[1mDEBUG   \u001b[0m | \u001b[36mkmr.models.SFNEBlock\u001b[0m:\u001b[36mcall\u001b[0m:\u001b[36m196\u001b[0m - \u001b[34m\u001b[1mSFNEBlock context_weights_expanded shape: (None, 64, 1)\u001b[0m\n",
      "\u001b[32m2025-10-30 17:22:04.115\u001b[0m | \u001b[34m\u001b[1mDEBUG   \u001b[0m | \u001b[36mkmr.models.SFNEBlock\u001b[0m:\u001b[36mcall\u001b[0m:\u001b[36m202\u001b[0m - \u001b[34m\u001b[1mSFNEBlock global_output shape: (None, 64, 16)\u001b[0m\n",
      "\u001b[32m2025-10-30 17:22:04.118\u001b[0m | \u001b[34m\u001b[1mDEBUG   \u001b[0m | \u001b[36mkmr.models.SFNEBlock\u001b[0m:\u001b[36mcall\u001b[0m:\u001b[36m206\u001b[0m - \u001b[34m\u001b[1mSFNEBlock local_output shape: (None, 64, 16)\u001b[0m\n",
      "\u001b[32m2025-10-30 17:22:04.119\u001b[0m | \u001b[34m\u001b[1mDEBUG   \u001b[0m | \u001b[36mkmr.models.SFNEBlock\u001b[0m:\u001b[36mcall\u001b[0m:\u001b[36m210\u001b[0m - \u001b[34m\u001b[1mSFNEBlock combined_output shape: (None, 64, 32)\u001b[0m\n",
      "\u001b[32m2025-10-30 17:22:04.119\u001b[0m | \u001b[34m\u001b[1mDEBUG   \u001b[0m | \u001b[36mkmr.models.SFNEBlock\u001b[0m:\u001b[36mcall\u001b[0m:\u001b[36m217\u001b[0m - \u001b[34m\u001b[1mSFNEBlock combined_output_flat shape: (None, 2048)\u001b[0m\n",
      "\u001b[32m2025-10-30 17:22:04.121\u001b[0m | \u001b[34m\u001b[1mDEBUG   \u001b[0m | \u001b[36mkmr.models.SFNEBlock\u001b[0m:\u001b[36mcall\u001b[0m:\u001b[36m223\u001b[0m - \u001b[34m\u001b[1mSFNEBlock bottleneck_output shape: (None, 16)\u001b[0m\n",
      "\u001b[32m2025-10-30 17:22:04.123\u001b[0m | \u001b[34m\u001b[1mDEBUG   \u001b[0m | \u001b[36mkmr.models.SFNEBlock\u001b[0m:\u001b[36mcall\u001b[0m:\u001b[36m227\u001b[0m - \u001b[34m\u001b[1mSFNEBlock output_layer output shape: (None, 16)\u001b[0m\n",
      "\u001b[32m2025-10-30 17:22:04.123\u001b[0m | \u001b[34m\u001b[1mDEBUG   \u001b[0m | \u001b[36mkmr.models.TerminatorModel\u001b[0m:\u001b[36mcall\u001b[0m:\u001b[36m227\u001b[0m - \u001b[34m\u001b[1mTerminatorModel SFNEBlock 0 output shape: (None, 16)\u001b[0m\n",
      "\u001b[32m2025-10-30 17:22:04.124\u001b[0m | \u001b[34m\u001b[1mDEBUG   \u001b[0m | \u001b[36mkmr.models.SFNEBlock\u001b[0m:\u001b[36mcall\u001b[0m:\u001b[36m176\u001b[0m - \u001b[34m\u001b[1mSFNEBlock input shape: (None, 16)\u001b[0m\n",
      "\u001b[32m2025-10-30 17:22:04.128\u001b[0m | \u001b[34m\u001b[1mDEBUG   \u001b[0m | \u001b[36mkmr.layers.SlowNetwork\u001b[0m:\u001b[36mcall\u001b[0m:\u001b[36m122\u001b[0m - \u001b[34m\u001b[1mSlowNetwork input shape: (None, 64)\u001b[0m\n",
      "\u001b[32m2025-10-30 17:22:04.130\u001b[0m | \u001b[34m\u001b[1mDEBUG   \u001b[0m | \u001b[36mkmr.layers.SlowNetwork\u001b[0m:\u001b[36mcall\u001b[0m:\u001b[36m126\u001b[0m - \u001b[34m\u001b[1mSlowNetwork layer 0 output shape: (None, 128)\u001b[0m\n",
      "\u001b[32m2025-10-30 17:22:04.132\u001b[0m | \u001b[34m\u001b[1mDEBUG   \u001b[0m | \u001b[36mkmr.layers.SlowNetwork\u001b[0m:\u001b[36mcall\u001b[0m:\u001b[36m126\u001b[0m - \u001b[34m\u001b[1mSlowNetwork layer 1 output shape: (None, 128)\u001b[0m\n",
      "\u001b[32m2025-10-30 17:22:04.134\u001b[0m | \u001b[34m\u001b[1mDEBUG   \u001b[0m | \u001b[36mkmr.layers.SlowNetwork\u001b[0m:\u001b[36mcall\u001b[0m:\u001b[36m126\u001b[0m - \u001b[34m\u001b[1mSlowNetwork layer 2 output shape: (None, 128)\u001b[0m\n",
      "\u001b[32m2025-10-30 17:22:04.135\u001b[0m | \u001b[34m\u001b[1mDEBUG   \u001b[0m | \u001b[36mkmr.layers.SlowNetwork\u001b[0m:\u001b[36mcall\u001b[0m:\u001b[36m129\u001b[0m - \u001b[34m\u001b[1mSlowNetwork output shape: (None, 16)\u001b[0m\n",
      "\u001b[32m2025-10-30 17:22:04.135\u001b[0m | \u001b[34m\u001b[1mDEBUG   \u001b[0m | \u001b[36mkmr.models.SFNEBlock\u001b[0m:\u001b[36mcall\u001b[0m:\u001b[36m188\u001b[0m - \u001b[34m\u001b[1mSFNEBlock hyper_kernels shape: (None, 16)\u001b[0m\n",
      "\u001b[32m2025-10-30 17:22:04.135\u001b[0m | \u001b[34m\u001b[1mDEBUG   \u001b[0m | \u001b[36mkmr.layers.HyperZZWOperator\u001b[0m:\u001b[36mcall\u001b[0m:\u001b[36m132\u001b[0m - \u001b[34m\u001b[1mHyperZZWOperator input_tensor shape: (None, 64)\u001b[0m\n",
      "\u001b[32m2025-10-30 17:22:04.136\u001b[0m | \u001b[34m\u001b[1mDEBUG   \u001b[0m | \u001b[36mkmr.layers.HyperZZWOperator\u001b[0m:\u001b[36mcall\u001b[0m:\u001b[36m133\u001b[0m - \u001b[34m\u001b[1mHyperZZWOperator context_tensor shape: (None, 16)\u001b[0m\n",
      "\u001b[32m2025-10-30 17:22:04.137\u001b[0m | \u001b[34m\u001b[1mDEBUG   \u001b[0m | \u001b[36mkmr.layers.HyperZZWOperator\u001b[0m:\u001b[36mcall\u001b[0m:\u001b[36m153\u001b[0m - \u001b[34m\u001b[1mHyperZZWOperator output shape: (None, 64)\u001b[0m\n",
      "\u001b[32m2025-10-30 17:22:04.137\u001b[0m | \u001b[34m\u001b[1mDEBUG   \u001b[0m | \u001b[36mkmr.models.SFNEBlock\u001b[0m:\u001b[36mcall\u001b[0m:\u001b[36m192\u001b[0m - \u001b[34m\u001b[1mSFNEBlock context_weights shape: (None, 64)\u001b[0m\n",
      "\u001b[32m2025-10-30 17:22:04.138\u001b[0m | \u001b[34m\u001b[1mDEBUG   \u001b[0m | \u001b[36mkmr.models.SFNEBlock\u001b[0m:\u001b[36mcall\u001b[0m:\u001b[36m196\u001b[0m - \u001b[34m\u001b[1mSFNEBlock context_weights_expanded shape: (None, 64, 1)\u001b[0m\n",
      "\u001b[32m2025-10-30 17:22:04.141\u001b[0m | \u001b[34m\u001b[1mDEBUG   \u001b[0m | \u001b[36mkmr.models.SFNEBlock\u001b[0m:\u001b[36mcall\u001b[0m:\u001b[36m202\u001b[0m - \u001b[34m\u001b[1mSFNEBlock global_output shape: (None, 64, 16)\u001b[0m\n",
      "\u001b[32m2025-10-30 17:22:04.144\u001b[0m | \u001b[34m\u001b[1mDEBUG   \u001b[0m | \u001b[36mkmr.models.SFNEBlock\u001b[0m:\u001b[36mcall\u001b[0m:\u001b[36m206\u001b[0m - \u001b[34m\u001b[1mSFNEBlock local_output shape: (None, 64, 16)\u001b[0m\n",
      "\u001b[32m2025-10-30 17:22:04.145\u001b[0m | \u001b[34m\u001b[1mDEBUG   \u001b[0m | \u001b[36mkmr.models.SFNEBlock\u001b[0m:\u001b[36mcall\u001b[0m:\u001b[36m210\u001b[0m - \u001b[34m\u001b[1mSFNEBlock combined_output shape: (None, 64, 32)\u001b[0m\n",
      "\u001b[32m2025-10-30 17:22:04.145\u001b[0m | \u001b[34m\u001b[1mDEBUG   \u001b[0m | \u001b[36mkmr.models.SFNEBlock\u001b[0m:\u001b[36mcall\u001b[0m:\u001b[36m217\u001b[0m - \u001b[34m\u001b[1mSFNEBlock combined_output_flat shape: (None, 2048)\u001b[0m\n",
      "\u001b[32m2025-10-30 17:22:04.147\u001b[0m | \u001b[34m\u001b[1mDEBUG   \u001b[0m | \u001b[36mkmr.models.SFNEBlock\u001b[0m:\u001b[36mcall\u001b[0m:\u001b[36m223\u001b[0m - \u001b[34m\u001b[1mSFNEBlock bottleneck_output shape: (None, 16)\u001b[0m\n",
      "\u001b[32m2025-10-30 17:22:04.149\u001b[0m | \u001b[34m\u001b[1mDEBUG   \u001b[0m | \u001b[36mkmr.models.SFNEBlock\u001b[0m:\u001b[36mcall\u001b[0m:\u001b[36m227\u001b[0m - \u001b[34m\u001b[1mSFNEBlock output_layer output shape: (None, 16)\u001b[0m\n",
      "\u001b[32m2025-10-30 17:22:04.149\u001b[0m | \u001b[34m\u001b[1mDEBUG   \u001b[0m | \u001b[36mkmr.models.TerminatorModel\u001b[0m:\u001b[36mcall\u001b[0m:\u001b[36m227\u001b[0m - \u001b[34m\u001b[1mTerminatorModel SFNEBlock 1 output shape: (None, 16)\u001b[0m\n",
      "\u001b[32m2025-10-30 17:22:04.150\u001b[0m | \u001b[34m\u001b[1mDEBUG   \u001b[0m | \u001b[36mkmr.models.SFNEBlock\u001b[0m:\u001b[36mcall\u001b[0m:\u001b[36m176\u001b[0m - \u001b[34m\u001b[1mSFNEBlock input shape: (None, 16)\u001b[0m\n",
      "\u001b[32m2025-10-30 17:22:04.154\u001b[0m | \u001b[34m\u001b[1mDEBUG   \u001b[0m | \u001b[36mkmr.layers.SlowNetwork\u001b[0m:\u001b[36mcall\u001b[0m:\u001b[36m122\u001b[0m - \u001b[34m\u001b[1mSlowNetwork input shape: (None, 64)\u001b[0m\n",
      "\u001b[32m2025-10-30 17:22:04.156\u001b[0m | \u001b[34m\u001b[1mDEBUG   \u001b[0m | \u001b[36mkmr.layers.SlowNetwork\u001b[0m:\u001b[36mcall\u001b[0m:\u001b[36m126\u001b[0m - \u001b[34m\u001b[1mSlowNetwork layer 0 output shape: (None, 128)\u001b[0m\n",
      "\u001b[32m2025-10-30 17:22:04.158\u001b[0m | \u001b[34m\u001b[1mDEBUG   \u001b[0m | \u001b[36mkmr.layers.SlowNetwork\u001b[0m:\u001b[36mcall\u001b[0m:\u001b[36m126\u001b[0m - \u001b[34m\u001b[1mSlowNetwork layer 1 output shape: (None, 128)\u001b[0m\n",
      "\u001b[32m2025-10-30 17:22:04.160\u001b[0m | \u001b[34m\u001b[1mDEBUG   \u001b[0m | \u001b[36mkmr.layers.SlowNetwork\u001b[0m:\u001b[36mcall\u001b[0m:\u001b[36m126\u001b[0m - \u001b[34m\u001b[1mSlowNetwork layer 2 output shape: (None, 128)\u001b[0m\n",
      "\u001b[32m2025-10-30 17:22:04.161\u001b[0m | \u001b[34m\u001b[1mDEBUG   \u001b[0m | \u001b[36mkmr.layers.SlowNetwork\u001b[0m:\u001b[36mcall\u001b[0m:\u001b[36m129\u001b[0m - \u001b[34m\u001b[1mSlowNetwork output shape: (None, 16)\u001b[0m\n",
      "\u001b[32m2025-10-30 17:22:04.161\u001b[0m | \u001b[34m\u001b[1mDEBUG   \u001b[0m | \u001b[36mkmr.models.SFNEBlock\u001b[0m:\u001b[36mcall\u001b[0m:\u001b[36m188\u001b[0m - \u001b[34m\u001b[1mSFNEBlock hyper_kernels shape: (None, 16)\u001b[0m\n",
      "\u001b[32m2025-10-30 17:22:04.161\u001b[0m | \u001b[34m\u001b[1mDEBUG   \u001b[0m | \u001b[36mkmr.layers.HyperZZWOperator\u001b[0m:\u001b[36mcall\u001b[0m:\u001b[36m132\u001b[0m - \u001b[34m\u001b[1mHyperZZWOperator input_tensor shape: (None, 64)\u001b[0m\n",
      "\u001b[32m2025-10-30 17:22:04.161\u001b[0m | \u001b[34m\u001b[1mDEBUG   \u001b[0m | \u001b[36mkmr.layers.HyperZZWOperator\u001b[0m:\u001b[36mcall\u001b[0m:\u001b[36m133\u001b[0m - \u001b[34m\u001b[1mHyperZZWOperator context_tensor shape: (None, 16)\u001b[0m\n",
      "\u001b[32m2025-10-30 17:22:04.163\u001b[0m | \u001b[34m\u001b[1mDEBUG   \u001b[0m | \u001b[36mkmr.layers.HyperZZWOperator\u001b[0m:\u001b[36mcall\u001b[0m:\u001b[36m153\u001b[0m - \u001b[34m\u001b[1mHyperZZWOperator output shape: (None, 64)\u001b[0m\n",
      "\u001b[32m2025-10-30 17:22:04.163\u001b[0m | \u001b[34m\u001b[1mDEBUG   \u001b[0m | \u001b[36mkmr.models.SFNEBlock\u001b[0m:\u001b[36mcall\u001b[0m:\u001b[36m192\u001b[0m - \u001b[34m\u001b[1mSFNEBlock context_weights shape: (None, 64)\u001b[0m\n",
      "\u001b[32m2025-10-30 17:22:04.164\u001b[0m | \u001b[34m\u001b[1mDEBUG   \u001b[0m | \u001b[36mkmr.models.SFNEBlock\u001b[0m:\u001b[36mcall\u001b[0m:\u001b[36m196\u001b[0m - \u001b[34m\u001b[1mSFNEBlock context_weights_expanded shape: (None, 64, 1)\u001b[0m\n",
      "\u001b[32m2025-10-30 17:22:04.167\u001b[0m | \u001b[34m\u001b[1mDEBUG   \u001b[0m | \u001b[36mkmr.models.SFNEBlock\u001b[0m:\u001b[36mcall\u001b[0m:\u001b[36m202\u001b[0m - \u001b[34m\u001b[1mSFNEBlock global_output shape: (None, 64, 16)\u001b[0m\n",
      "\u001b[32m2025-10-30 17:22:04.171\u001b[0m | \u001b[34m\u001b[1mDEBUG   \u001b[0m | \u001b[36mkmr.models.SFNEBlock\u001b[0m:\u001b[36mcall\u001b[0m:\u001b[36m206\u001b[0m - \u001b[34m\u001b[1mSFNEBlock local_output shape: (None, 64, 16)\u001b[0m\n",
      "\u001b[32m2025-10-30 17:22:04.171\u001b[0m | \u001b[34m\u001b[1mDEBUG   \u001b[0m | \u001b[36mkmr.models.SFNEBlock\u001b[0m:\u001b[36mcall\u001b[0m:\u001b[36m210\u001b[0m - \u001b[34m\u001b[1mSFNEBlock combined_output shape: (None, 64, 32)\u001b[0m\n",
      "\u001b[32m2025-10-30 17:22:04.172\u001b[0m | \u001b[34m\u001b[1mDEBUG   \u001b[0m | \u001b[36mkmr.models.SFNEBlock\u001b[0m:\u001b[36mcall\u001b[0m:\u001b[36m217\u001b[0m - \u001b[34m\u001b[1mSFNEBlock combined_output_flat shape: (None, 2048)\u001b[0m\n",
      "\u001b[32m2025-10-30 17:22:04.174\u001b[0m | \u001b[34m\u001b[1mDEBUG   \u001b[0m | \u001b[36mkmr.models.SFNEBlock\u001b[0m:\u001b[36mcall\u001b[0m:\u001b[36m223\u001b[0m - \u001b[34m\u001b[1mSFNEBlock bottleneck_output shape: (None, 16)\u001b[0m\n",
      "\u001b[32m2025-10-30 17:22:04.175\u001b[0m | \u001b[34m\u001b[1mDEBUG   \u001b[0m | \u001b[36mkmr.models.SFNEBlock\u001b[0m:\u001b[36mcall\u001b[0m:\u001b[36m227\u001b[0m - \u001b[34m\u001b[1mSFNEBlock output_layer output shape: (None, 16)\u001b[0m\n",
      "\u001b[32m2025-10-30 17:22:04.175\u001b[0m | \u001b[34m\u001b[1mDEBUG   \u001b[0m | \u001b[36mkmr.models.TerminatorModel\u001b[0m:\u001b[36mcall\u001b[0m:\u001b[36m227\u001b[0m - \u001b[34m\u001b[1mTerminatorModel SFNEBlock 2 output shape: (None, 16)\u001b[0m\n",
      "\u001b[32m2025-10-30 17:22:04.177\u001b[0m | \u001b[34m\u001b[1mDEBUG   \u001b[0m | \u001b[36mkmr.models.TerminatorModel\u001b[0m:\u001b[36mcall\u001b[0m:\u001b[36m234\u001b[0m - \u001b[34m\u001b[1mTerminatorModel output_layer output shape: (None, 1)\u001b[0m\n"
     ]
    }
   ],
   "source": [
    "import keras\n",
    "from keras import layers\n",
    "from kmr.utils import KMRPlotter\n",
    "\n",
    "print(\"🔧 Preparing binary classification targets and model...\")\n",
    "\n",
    "# Build probabilities from input + context for a non-trivial decision boundary\n",
    "w_inp = np.linspace(0.7, 0.2, input_dim)\n",
    "w_ctx = np.linspace(0.5, 0.1, context_dim)\n",
    "logits = (\n",
    "    1.5 * np.sin(X_input[:, 0])\n",
    "    + 0.8 * (X_input[:, 1] ** 2)\n",
    "    - 1.1 * X_context[:, 0]\n",
    "    + 0.5 * (X_input @ w_inp)\n",
    "    + 0.4 * (X_context @ w_ctx)\n",
    "    + 0.35 * (X_input[:, 2] * X_context[:, 1])\n",
    "    + 0.2 * (X_input[:, 3] * X_context[:, 2])\n",
    ")\n",
    "probs = 1 / (1 + np.exp(-logits))\n",
    "\n",
    "# Ensure balanced classes\n",
    "y_cls = (probs > np.median(probs)).astype(np.float32)\n",
    "print(f\"Class distribution: {np.bincount(y_cls.astype(int))}\")\n",
    "\n",
    "y_train_cls = y_cls[:train_size]\n",
    "y_val_cls = y_cls[train_size:train_size + val_size]\n",
    "y_test_cls = y_cls[train_size + val_size:]\n",
    "\n",
    "# Fresh model for classification\n",
    "model_cls = TerminatorModel(\n",
    "    input_dim=input_dim,\n",
    "    context_dim=context_dim,\n",
    "    output_dim=1,\n",
    "    hidden_dim=64,\n",
    "    num_layers=2,\n",
    "    num_blocks=3,\n",
    "    slow_network_layers=3,\n",
    "    slow_network_units=128,\n",
    "    name='terminator_demo_cls'\n",
    ")\n",
    "\n",
    "model_cls.compile(\n",
    "    optimizer=keras.optimizers.Adam(1e-3),\n",
    "    loss='binary_crossentropy',\n",
    "    metrics=[\n",
    "        keras.metrics.BinaryAccuracy(name='accuracy'),\n",
    "        keras.metrics.Precision(name='precision'),\n",
    "        keras.metrics.Recall(name='recall'),\n",
    "        keras.metrics.AUC(name='auc')\n",
    "    ]\n",
    ")\n",
    "\n",
    "print(\"🚀 Training classification model...\")\n",
    "cls_callbacks = [\n",
    "    keras.callbacks.EarlyStopping(monitor='val_loss', patience=5, restore_best_weights=True),\n",
    "    keras.callbacks.ReduceLROnPlateau(monitor='val_loss', factor=0.5, patience=3)\n",
    "]\n",
    "\n",
    "history_cls = model_cls.fit(\n",
    "    [X_input_train, X_context_train], y_train_cls,\n",
    "    validation_data=([X_input_val, X_context_val], y_val_cls),\n",
    "    epochs=30,\n",
    "    batch_size=64,\n",
    "    callbacks=cls_callbacks,\n",
    "    verbose=1\n",
    ")\n",
    "\n",
    "print(\"✅ Classification training completed!\")\n",
    "\n",
    "# Evaluate and predict\n",
    "loss_t, acc_t, prec_t, rec_t, auc_t = model_cls.evaluate([X_input_test, X_context_test], y_test_cls, verbose=0)\n",
    "print(f\"Test -> loss {loss_t:.4f}, acc {acc_t:.4f}, prec {prec_t:.4f}, recall {rec_t:.4f}, auc {auc_t:.4f}\")\n",
    "\n",
    "y_pred_proba_cls = model_cls.predict([X_input_test, X_context_test], verbose=0).flatten()\n",
    "y_pred_cls = (y_pred_proba_cls > 0.5).astype(np.int32)\n"
   ]
  },
  {
   "cell_type": "code",
   "execution_count": 8,
   "id": "d3ce230b",
   "metadata": {},
   "outputs": [
    {
     "name": "stdout",
     "output_type": "stream",
     "text": [
      "📊 Creating classification visualizations...\n"
     ]
    },
    {
     "data": {
      "application/vnd.plotly.v1+json": {
       "config": {
        "plotlyServerURL": "https://plot.ly"
       },
       "data": [
        {
         "colorscale": [
          [
           0,
           "rgb(247,251,255)"
          ],
          [
           0.125,
           "rgb(222,235,247)"
          ],
          [
           0.25,
           "rgb(198,219,239)"
          ],
          [
           0.375,
           "rgb(158,202,225)"
          ],
          [
           0.5,
           "rgb(107,174,214)"
          ],
          [
           0.625,
           "rgb(66,146,198)"
          ],
          [
           0.75,
           "rgb(33,113,181)"
          ],
          [
           0.875,
           "rgb(8,81,156)"
          ],
          [
           1,
           "rgb(8,48,107)"
          ]
         ],
         "text": {
          "bdata": "hAAZAB0AcgA=",
          "dtype": "i2",
          "shape": "2, 2"
         },
         "textfont": {
          "size": 16
         },
         "texttemplate": "%{text}",
         "type": "heatmap",
         "x": [
          "Predicted 0",
          "Predicted 1"
         ],
         "xaxis": "x",
         "y": [
          "Actual 0",
          "Actual 1"
         ],
         "yaxis": "y",
         "z": {
          "bdata": "hAAZAB0AcgA=",
          "dtype": "i2",
          "shape": "2, 2"
         }
        },
        {
         "marker": {
          "color": [
           "#1f77b4",
           "#ff7f0e",
           "#2ca02c",
           "#d62728"
          ]
         },
         "type": "bar",
         "x": [
          "Accuracy",
          "Precision",
          "Recall",
          "F1-Score"
         ],
         "xaxis": "x2",
         "y": [
          0.82,
          0.8201438848920863,
          0.7972027972027972,
          0.8085106382978723
         ],
         "yaxis": "y2"
        },
        {
         "name": "Scores",
         "nbinsx": 30,
         "type": "histogram",
         "x": {
          "bdata": "W1zcPnUAVT8GYV8/eWWlPXqWfz8cr8w+ymNbP2d8Bj4R5j4/QEewONamUD/pEWk/YZQzO5i3dT92Uwo/uTXNPSRqfz9Ufms/rNaVPmsmYD1vxG0/tsL9PkYbHj9oerg8rHEpP/Nxfj9/i3k/2dw2P3Em+DxneN090Q4LP9p1kD34caM+afVyPwUtqjtcstY+QzZvPoRcQj9SF0Y/8vJ9P1t2wz4zRE0+JM7NPqCaHz/N2NA+/P9/P8q7Zz/fgy0/GL79PuMgsj53Rn8/EiC5PYGH0T7gDnQ/nA7oOqSiFD++IZk842mAPsMC1jzIix4+noxsPQ4KJT9UKV4/gFlgPte/mz6t404/uKoNPR5Pwz7w9G8+1FbpPu8qUz9Qt788mZN2P1zRlzzsRwA/95qlPZLJGT2vPX8//QirPuMMbj97wo8+kCHwPfJ8az8BE2M+BxVvP1Puij5lcmc/k78pPo3/bz+EyLw9WTprP/Iv5T6JgYw+2vutNTg1Tj9oBGk/JuEyPPisGD1C6nc/yDC3PVWuzD6r8wE+ogE0Pr0GBT7u5Kw6Nyc7O5bs8D0CnnY/ZXMMP/uPCD8othQ/yRtZPFtCPD9GCek+Ql3mPb3GYz8jCCI/eN57P23DIj6sCVg/AM2dPdEqCD8rSaA+JUo6PwLuWT+lkL8+kqOzOzasUz/exmY/Pfh/P4qAYj7tlgI/x/y/PmMBXj9aqU09+qovP73hND83wwU/ba3sPnuNjTzGznQ/djgWPlZIGT7KIe8+ZstxP9SjBD36f3Y/MTwmP0aHLj8RfzQ+PFlmPowkTz4TzgI+Ta59P2GwqD7URHk/RlV/P6ihqD5sIl4/CQAvP21vQD+vUNU7goZxPzu5oTwf8Fg9C1qAPR81Kz6CYnc/vAt+PzpEoDz/HAs/AdtPPl5ccj8Jdwo/vJHjPi7l2ztdchU/8alkP8m+5zrPOm4/FzrMPGUKfzlrHa0+xHbCPv3ODT+8XLQ+g1EAP8zq9z4sdwM+RxxmPMxG9TvN7NU9Bcq/PR++eT8Vd4Q+eaN2Puf33T4ABH4/755uP3r0mTyJOy4/+Fy0Po4/CT0FxAo/RG9OPXvLeT+qlxw9ohCAPAqNwD1klzE/qPp5P4Xquj5vHiw/bio8Prewfz+yZ9c+P22GNtpXeT8KA/4+HnHwPkUWUD8AL5M+u3T5PqfFST+itXM/ihp8Pzwwbz6tjS4+icpnP3/3+j70S3w/HFdzP5jdcD/KGUI7jL2OPuvCkj47Dks9zxmSPF9CcT3tZ2c/1iHzPgVvqDqYCV4/hCxGP6yTqDy0/38/0StcP8JGfz+ty38/1pKTPuWDBj340X8/vaxKP+YnGz9uZX8/FA2KPqNIdT/aQys/TUpbP8VqFD+QXZY+Dn9dPFSidz9nzxk+O67oPU5hjj2fZFA/xl5sPzON0zu9RWQ/HXkMPsbNij0nlbA9Ie9HO4+XgzvnSTw9l9pUPzyI1T6TT3U/9NOUO7RREz/eDFA/i6p+P5CTYz9IdFQ/yQlVP28jdD/KT9M+ESG2O4KZcz8SFSg/tALOPrHxkT6QDgQ/nABxP2zXQz8IZIc8WOYPPZp3sziG71U9",
          "dtype": "f4"
         },
         "xaxis": "x3",
         "yaxis": "y3"
        },
        {
         "line": {
          "width": 3
         },
         "mode": "lines",
         "name": "PR Curve",
         "type": "scatter",
         "x": [
          1,
          0.986013986013986,
          0.972027972027972,
          0.965034965034965,
          0.958041958041958,
          0.958041958041958,
          0.958041958041958,
          0.958041958041958,
          0.958041958041958,
          0.958041958041958,
          0.958041958041958,
          0.958041958041958,
          0.958041958041958,
          0.951048951048951,
          0.9440559440559441,
          0.9370629370629371,
          0.9370629370629371,
          0.9300699300699301,
          0.9230769230769231,
          0.916083916083916,
          0.916083916083916,
          0.916083916083916,
          0.916083916083916,
          0.916083916083916,
          0.9090909090909091,
          0.9090909090909091,
          0.9090909090909091,
          0.9090909090909091,
          0.9090909090909091,
          0.9020979020979021,
          0.9020979020979021,
          0.8951048951048951,
          0.8951048951048951,
          0.8881118881118881,
          0.8881118881118881,
          0.8811188811188811,
          0.8811188811188811,
          0.8741258741258742,
          0.8741258741258742,
          0.8741258741258742,
          0.8671328671328671,
          0.8601398601398601,
          0.8461538461538461,
          0.8391608391608392,
          0.8391608391608392,
          0.8321678321678322,
          0.8181818181818182,
          0.8111888111888111,
          0.8111888111888111,
          0.8111888111888111,
          0.7902097902097902,
          0.7902097902097902,
          0.7902097902097902,
          0.7902097902097902,
          0.7692307692307693,
          0.7552447552447552,
          0.7552447552447552,
          0.7482517482517482,
          0.7342657342657343,
          0.7342657342657343,
          0.7342657342657343,
          0.7272727272727273,
          0.7202797202797203,
          0.7202797202797203,
          0.7132867132867133,
          0.7062937062937062,
          0.6923076923076923,
          0.6853146853146853,
          0.6643356643356644,
          0.6573426573426573,
          0.6503496503496503,
          0.6433566433566433,
          0.6433566433566433,
          0.6363636363636364,
          0.6293706293706294,
          0.6223776223776224,
          0.6153846153846154,
          0.6083916083916084,
          0.6083916083916084,
          0.6013986013986014,
          0.5944055944055944,
          0.5804195804195804,
          0.5734265734265734,
          0.5454545454545454,
          0.5454545454545454,
          0.5244755244755245,
          0.48951048951048953,
          0.4825174825174825,
          0.4825174825174825,
          0.46153846153846156,
          0.42657342657342656,
          0.40559440559440557,
          0.3776223776223776,
          0.34265734265734266,
          0.3006993006993007,
          0.24475524475524477,
          0.1958041958041958,
          0.15384615384615385,
          0.13286713286713286,
          0
         ],
         "xaxis": "x4",
         "y": [
          0.4782608695652174,
          0.5071942446043165,
          0.5245283018867924,
          0.5328185328185329,
          0.545816733067729,
          0.5546558704453441,
          0.5661157024793388,
          0.5756302521008403,
          0.5805084745762712,
          0.5905172413793104,
          0.6008771929824561,
          0.6061946902654868,
          0.6171171171171171,
          0.6238532110091743,
          0.625,
          0.6291079812206573,
          0.6350710900473934,
          0.6394230769230769,
          0.6407766990291263,
          0.6390243902439025,
          0.6421568627450981,
          0.6485148514851485,
          0.6582914572864321,
          0.6616161616161617,
          0.6701030927835051,
          0.6735751295336787,
          0.6770833333333334,
          0.6842105263157895,
          0.6951871657754011,
          0.7087912087912088,
          0.712707182320442,
          0.7150837988826816,
          0.7191011235955056,
          0.7215909090909091,
          0.7298850574712644,
          0.7368421052631579,
          0.7368421052631579,
          0.7352941176470589,
          0.7575757575757576,
          0.7575757575757576,
          0.7701863354037267,
          0.7784810126582279,
          0.7806451612903226,
          0.7843137254901961,
          0.7843137254901961,
          0.7880794701986755,
          0.7905405405405406,
          0.7945205479452054,
          0.8055555555555556,
          0.8169014084507042,
          0.8248175182481752,
          0.8308823529411765,
          0.8432835820895522,
          0.8560606060606061,
          0.8661417322834646,
          0.864,
          0.864,
          0.8629032258064516,
          0.875,
          0.875,
          0.875,
          0.8739495798319328,
          0.8803418803418803,
          0.8879310344827587,
          0.8869565217391304,
          0.8859649122807017,
          0.8839285714285714,
          0.8909090909090909,
          0.9047619047619048,
          0.9038461538461539,
          0.9029126213592233,
          0.9019607843137255,
          0.9019607843137255,
          0.91,
          0.9090909090909091,
          0.9081632653061225,
          0.9166666666666666,
          0.925531914893617,
          0.925531914893617,
          0.9347826086956522,
          0.9340659340659341,
          0.9651162790697675,
          0.9761904761904762,
          0.975,
          0.9873417721518988,
          0.9868421052631579,
          0.9859154929577465,
          0.9857142857142858,
          0.9857142857142858,
          1,
          1,
          1,
          1,
          1,
          1,
          1,
          1,
          1,
          1,
          0
         ],
         "yaxis": "y4"
        }
       ],
       "layout": {
        "annotations": [
         {
          "font": {
           "size": 16
          },
          "showarrow": false,
          "text": "Confusion Matrix",
          "x": 0.225,
          "xanchor": "center",
          "xref": "paper",
          "y": 1,
          "yanchor": "bottom",
          "yref": "paper"
         },
         {
          "font": {
           "size": 16
          },
          "showarrow": false,
          "text": "Performance Metrics",
          "x": 0.775,
          "xanchor": "center",
          "xref": "paper",
          "y": 1,
          "yanchor": "bottom",
          "yref": "paper"
         },
         {
          "font": {
           "size": 16
          },
          "showarrow": false,
          "text": "Score Distribution",
          "x": 0.225,
          "xanchor": "center",
          "xref": "paper",
          "y": 0.375,
          "yanchor": "bottom",
          "yref": "paper"
         },
         {
          "font": {
           "size": 16
          },
          "showarrow": false,
          "text": "Precision-Recall Curve",
          "x": 0.775,
          "xanchor": "center",
          "xref": "paper",
          "y": 0.375,
          "yanchor": "bottom",
          "yref": "paper"
         }
        ],
        "height": 800,
        "showlegend": true,
        "template": {
         "data": {
          "bar": [
           {
            "error_x": {
             "color": "#2a3f5f"
            },
            "error_y": {
             "color": "#2a3f5f"
            },
            "marker": {
             "line": {
              "color": "#E5ECF6",
              "width": 0.5
             },
             "pattern": {
              "fillmode": "overlay",
              "size": 10,
              "solidity": 0.2
             }
            },
            "type": "bar"
           }
          ],
          "barpolar": [
           {
            "marker": {
             "line": {
              "color": "#E5ECF6",
              "width": 0.5
             },
             "pattern": {
              "fillmode": "overlay",
              "size": 10,
              "solidity": 0.2
             }
            },
            "type": "barpolar"
           }
          ],
          "carpet": [
           {
            "aaxis": {
             "endlinecolor": "#2a3f5f",
             "gridcolor": "white",
             "linecolor": "white",
             "minorgridcolor": "white",
             "startlinecolor": "#2a3f5f"
            },
            "baxis": {
             "endlinecolor": "#2a3f5f",
             "gridcolor": "white",
             "linecolor": "white",
             "minorgridcolor": "white",
             "startlinecolor": "#2a3f5f"
            },
            "type": "carpet"
           }
          ],
          "choropleth": [
           {
            "colorbar": {
             "outlinewidth": 0,
             "ticks": ""
            },
            "type": "choropleth"
           }
          ],
          "contour": [
           {
            "colorbar": {
             "outlinewidth": 0,
             "ticks": ""
            },
            "colorscale": [
             [
              0,
              "#0d0887"
             ],
             [
              0.1111111111111111,
              "#46039f"
             ],
             [
              0.2222222222222222,
              "#7201a8"
             ],
             [
              0.3333333333333333,
              "#9c179e"
             ],
             [
              0.4444444444444444,
              "#bd3786"
             ],
             [
              0.5555555555555556,
              "#d8576b"
             ],
             [
              0.6666666666666666,
              "#ed7953"
             ],
             [
              0.7777777777777778,
              "#fb9f3a"
             ],
             [
              0.8888888888888888,
              "#fdca26"
             ],
             [
              1,
              "#f0f921"
             ]
            ],
            "type": "contour"
           }
          ],
          "contourcarpet": [
           {
            "colorbar": {
             "outlinewidth": 0,
             "ticks": ""
            },
            "type": "contourcarpet"
           }
          ],
          "heatmap": [
           {
            "colorbar": {
             "outlinewidth": 0,
             "ticks": ""
            },
            "colorscale": [
             [
              0,
              "#0d0887"
             ],
             [
              0.1111111111111111,
              "#46039f"
             ],
             [
              0.2222222222222222,
              "#7201a8"
             ],
             [
              0.3333333333333333,
              "#9c179e"
             ],
             [
              0.4444444444444444,
              "#bd3786"
             ],
             [
              0.5555555555555556,
              "#d8576b"
             ],
             [
              0.6666666666666666,
              "#ed7953"
             ],
             [
              0.7777777777777778,
              "#fb9f3a"
             ],
             [
              0.8888888888888888,
              "#fdca26"
             ],
             [
              1,
              "#f0f921"
             ]
            ],
            "type": "heatmap"
           }
          ],
          "histogram": [
           {
            "marker": {
             "pattern": {
              "fillmode": "overlay",
              "size": 10,
              "solidity": 0.2
             }
            },
            "type": "histogram"
           }
          ],
          "histogram2d": [
           {
            "colorbar": {
             "outlinewidth": 0,
             "ticks": ""
            },
            "colorscale": [
             [
              0,
              "#0d0887"
             ],
             [
              0.1111111111111111,
              "#46039f"
             ],
             [
              0.2222222222222222,
              "#7201a8"
             ],
             [
              0.3333333333333333,
              "#9c179e"
             ],
             [
              0.4444444444444444,
              "#bd3786"
             ],
             [
              0.5555555555555556,
              "#d8576b"
             ],
             [
              0.6666666666666666,
              "#ed7953"
             ],
             [
              0.7777777777777778,
              "#fb9f3a"
             ],
             [
              0.8888888888888888,
              "#fdca26"
             ],
             [
              1,
              "#f0f921"
             ]
            ],
            "type": "histogram2d"
           }
          ],
          "histogram2dcontour": [
           {
            "colorbar": {
             "outlinewidth": 0,
             "ticks": ""
            },
            "colorscale": [
             [
              0,
              "#0d0887"
             ],
             [
              0.1111111111111111,
              "#46039f"
             ],
             [
              0.2222222222222222,
              "#7201a8"
             ],
             [
              0.3333333333333333,
              "#9c179e"
             ],
             [
              0.4444444444444444,
              "#bd3786"
             ],
             [
              0.5555555555555556,
              "#d8576b"
             ],
             [
              0.6666666666666666,
              "#ed7953"
             ],
             [
              0.7777777777777778,
              "#fb9f3a"
             ],
             [
              0.8888888888888888,
              "#fdca26"
             ],
             [
              1,
              "#f0f921"
             ]
            ],
            "type": "histogram2dcontour"
           }
          ],
          "mesh3d": [
           {
            "colorbar": {
             "outlinewidth": 0,
             "ticks": ""
            },
            "type": "mesh3d"
           }
          ],
          "parcoords": [
           {
            "line": {
             "colorbar": {
              "outlinewidth": 0,
              "ticks": ""
             }
            },
            "type": "parcoords"
           }
          ],
          "pie": [
           {
            "automargin": true,
            "type": "pie"
           }
          ],
          "scatter": [
           {
            "fillpattern": {
             "fillmode": "overlay",
             "size": 10,
             "solidity": 0.2
            },
            "type": "scatter"
           }
          ],
          "scatter3d": [
           {
            "line": {
             "colorbar": {
              "outlinewidth": 0,
              "ticks": ""
             }
            },
            "marker": {
             "colorbar": {
              "outlinewidth": 0,
              "ticks": ""
             }
            },
            "type": "scatter3d"
           }
          ],
          "scattercarpet": [
           {
            "marker": {
             "colorbar": {
              "outlinewidth": 0,
              "ticks": ""
             }
            },
            "type": "scattercarpet"
           }
          ],
          "scattergeo": [
           {
            "marker": {
             "colorbar": {
              "outlinewidth": 0,
              "ticks": ""
             }
            },
            "type": "scattergeo"
           }
          ],
          "scattergl": [
           {
            "marker": {
             "colorbar": {
              "outlinewidth": 0,
              "ticks": ""
             }
            },
            "type": "scattergl"
           }
          ],
          "scattermap": [
           {
            "marker": {
             "colorbar": {
              "outlinewidth": 0,
              "ticks": ""
             }
            },
            "type": "scattermap"
           }
          ],
          "scattermapbox": [
           {
            "marker": {
             "colorbar": {
              "outlinewidth": 0,
              "ticks": ""
             }
            },
            "type": "scattermapbox"
           }
          ],
          "scatterpolar": [
           {
            "marker": {
             "colorbar": {
              "outlinewidth": 0,
              "ticks": ""
             }
            },
            "type": "scatterpolar"
           }
          ],
          "scatterpolargl": [
           {
            "marker": {
             "colorbar": {
              "outlinewidth": 0,
              "ticks": ""
             }
            },
            "type": "scatterpolargl"
           }
          ],
          "scatterternary": [
           {
            "marker": {
             "colorbar": {
              "outlinewidth": 0,
              "ticks": ""
             }
            },
            "type": "scatterternary"
           }
          ],
          "surface": [
           {
            "colorbar": {
             "outlinewidth": 0,
             "ticks": ""
            },
            "colorscale": [
             [
              0,
              "#0d0887"
             ],
             [
              0.1111111111111111,
              "#46039f"
             ],
             [
              0.2222222222222222,
              "#7201a8"
             ],
             [
              0.3333333333333333,
              "#9c179e"
             ],
             [
              0.4444444444444444,
              "#bd3786"
             ],
             [
              0.5555555555555556,
              "#d8576b"
             ],
             [
              0.6666666666666666,
              "#ed7953"
             ],
             [
              0.7777777777777778,
              "#fb9f3a"
             ],
             [
              0.8888888888888888,
              "#fdca26"
             ],
             [
              1,
              "#f0f921"
             ]
            ],
            "type": "surface"
           }
          ],
          "table": [
           {
            "cells": {
             "fill": {
              "color": "#EBF0F8"
             },
             "line": {
              "color": "white"
             }
            },
            "header": {
             "fill": {
              "color": "#C8D4E3"
             },
             "line": {
              "color": "white"
             }
            },
            "type": "table"
           }
          ]
         },
         "layout": {
          "annotationdefaults": {
           "arrowcolor": "#2a3f5f",
           "arrowhead": 0,
           "arrowwidth": 1
          },
          "autotypenumbers": "strict",
          "coloraxis": {
           "colorbar": {
            "outlinewidth": 0,
            "ticks": ""
           }
          },
          "colorscale": {
           "diverging": [
            [
             0,
             "#8e0152"
            ],
            [
             0.1,
             "#c51b7d"
            ],
            [
             0.2,
             "#de77ae"
            ],
            [
             0.3,
             "#f1b6da"
            ],
            [
             0.4,
             "#fde0ef"
            ],
            [
             0.5,
             "#f7f7f7"
            ],
            [
             0.6,
             "#e6f5d0"
            ],
            [
             0.7,
             "#b8e186"
            ],
            [
             0.8,
             "#7fbc41"
            ],
            [
             0.9,
             "#4d9221"
            ],
            [
             1,
             "#276419"
            ]
           ],
           "sequential": [
            [
             0,
             "#0d0887"
            ],
            [
             0.1111111111111111,
             "#46039f"
            ],
            [
             0.2222222222222222,
             "#7201a8"
            ],
            [
             0.3333333333333333,
             "#9c179e"
            ],
            [
             0.4444444444444444,
             "#bd3786"
            ],
            [
             0.5555555555555556,
             "#d8576b"
            ],
            [
             0.6666666666666666,
             "#ed7953"
            ],
            [
             0.7777777777777778,
             "#fb9f3a"
            ],
            [
             0.8888888888888888,
             "#fdca26"
            ],
            [
             1,
             "#f0f921"
            ]
           ],
           "sequentialminus": [
            [
             0,
             "#0d0887"
            ],
            [
             0.1111111111111111,
             "#46039f"
            ],
            [
             0.2222222222222222,
             "#7201a8"
            ],
            [
             0.3333333333333333,
             "#9c179e"
            ],
            [
             0.4444444444444444,
             "#bd3786"
            ],
            [
             0.5555555555555556,
             "#d8576b"
            ],
            [
             0.6666666666666666,
             "#ed7953"
            ],
            [
             0.7777777777777778,
             "#fb9f3a"
            ],
            [
             0.8888888888888888,
             "#fdca26"
            ],
            [
             1,
             "#f0f921"
            ]
           ]
          },
          "colorway": [
           "#636efa",
           "#EF553B",
           "#00cc96",
           "#ab63fa",
           "#FFA15A",
           "#19d3f3",
           "#FF6692",
           "#B6E880",
           "#FF97FF",
           "#FECB52"
          ],
          "font": {
           "color": "#2a3f5f"
          },
          "geo": {
           "bgcolor": "white",
           "lakecolor": "white",
           "landcolor": "#E5ECF6",
           "showlakes": true,
           "showland": true,
           "subunitcolor": "white"
          },
          "hoverlabel": {
           "align": "left"
          },
          "hovermode": "closest",
          "mapbox": {
           "style": "light"
          },
          "paper_bgcolor": "white",
          "plot_bgcolor": "#E5ECF6",
          "polar": {
           "angularaxis": {
            "gridcolor": "white",
            "linecolor": "white",
            "ticks": ""
           },
           "bgcolor": "#E5ECF6",
           "radialaxis": {
            "gridcolor": "white",
            "linecolor": "white",
            "ticks": ""
           }
          },
          "scene": {
           "xaxis": {
            "backgroundcolor": "#E5ECF6",
            "gridcolor": "white",
            "gridwidth": 2,
            "linecolor": "white",
            "showbackground": true,
            "ticks": "",
            "zerolinecolor": "white"
           },
           "yaxis": {
            "backgroundcolor": "#E5ECF6",
            "gridcolor": "white",
            "gridwidth": 2,
            "linecolor": "white",
            "showbackground": true,
            "ticks": "",
            "zerolinecolor": "white"
           },
           "zaxis": {
            "backgroundcolor": "#E5ECF6",
            "gridcolor": "white",
            "gridwidth": 2,
            "linecolor": "white",
            "showbackground": true,
            "ticks": "",
            "zerolinecolor": "white"
           }
          },
          "shapedefaults": {
           "line": {
            "color": "#2a3f5f"
           }
          },
          "ternary": {
           "aaxis": {
            "gridcolor": "white",
            "linecolor": "white",
            "ticks": ""
           },
           "baxis": {
            "gridcolor": "white",
            "linecolor": "white",
            "ticks": ""
           },
           "bgcolor": "#E5ECF6",
           "caxis": {
            "gridcolor": "white",
            "linecolor": "white",
            "ticks": ""
           }
          },
          "title": {
           "x": 0.05
          },
          "xaxis": {
           "automargin": true,
           "gridcolor": "white",
           "linecolor": "white",
           "ticks": "",
           "title": {
            "standoff": 15
           },
           "zerolinecolor": "white",
           "zerolinewidth": 2
          },
          "yaxis": {
           "automargin": true,
           "gridcolor": "white",
           "linecolor": "white",
           "ticks": "",
           "title": {
            "standoff": 15
           },
           "zerolinecolor": "white",
           "zerolinewidth": 2
          }
         }
        },
        "title": {
         "text": "TerminatorModel Classification Results"
        },
        "xaxis": {
         "anchor": "y",
         "domain": [
          0,
          0.45
         ]
        },
        "xaxis2": {
         "anchor": "y2",
         "domain": [
          0.55,
          1
         ]
        },
        "xaxis3": {
         "anchor": "y3",
         "domain": [
          0,
          0.45
         ]
        },
        "xaxis4": {
         "anchor": "y4",
         "domain": [
          0.55,
          1
         ]
        },
        "yaxis": {
         "anchor": "x",
         "domain": [
          0.625,
          1
         ]
        },
        "yaxis2": {
         "anchor": "x2",
         "domain": [
          0.625,
          1
         ]
        },
        "yaxis3": {
         "anchor": "x3",
         "domain": [
          0,
          0.375
         ]
        },
        "yaxis4": {
         "anchor": "x4",
         "domain": [
          0,
          0.375
         ]
        }
       }
      }
     },
     "metadata": {},
     "output_type": "display_data"
    },
    {
     "name": "stdout",
     "output_type": "stream",
     "text": [
      "✅ Classification visualizations created!\n"
     ]
    }
   ],
   "source": [
    "# Classification visualizations\n",
    "print(\"📊 Creating classification visualizations...\")\n",
    "\n",
    "fig_cls = KMRPlotter.create_comprehensive_plot(\n",
    "    'classification',\n",
    "    y_true=y_test_cls,\n",
    "    y_pred=y_pred_cls,\n",
    "    y_scores=y_pred_proba_cls,\n",
    "    title=\"TerminatorModel Classification Results\"\n",
    ")\n",
    "fig_cls.show()\n",
    "print(\"✅ Classification visualizations created!\")\n"
   ]
  },
  {
   "cell_type": "markdown",
   "id": "67aac3b1",
   "metadata": {},
   "source": [
    "## 9. Scenario 2: With Preprocessing Model\n",
    "\n",
    "We now apply a preprocessing model that consumes `input` and `context`, projects them to a common space, combines, and outputs a processed representation that `TerminatorModel` then uses. We'll feed inputs as a dictionary to leverage universal input handling.\n"
   ]
  },
  {
   "cell_type": "code",
   "execution_count": 9,
   "id": "574271b8",
   "metadata": {},
   "outputs": [
    {
     "name": "stderr",
     "output_type": "stream",
     "text": [
      "\u001b[32m2025-10-30 17:22:04.381\u001b[0m | \u001b[34m\u001b[1mDEBUG   \u001b[0m | \u001b[36mkmr.models._base\u001b[0m:\u001b[36m_setup_preprocessing_model\u001b[0m:\u001b[36m294\u001b[0m - \u001b[34m\u001b[1mSetting up preprocessing model integration\u001b[0m\n",
      "\u001b[32m2025-10-30 17:22:04.382\u001b[0m | \u001b[34m\u001b[1mDEBUG   \u001b[0m | \u001b[36mkmr.layers._base_layer\u001b[0m:\u001b[36m_log_initialization\u001b[0m:\u001b[36m73\u001b[0m - \u001b[34m\u001b[1mInitialized SlowNetwork with parameters: {'name': 'slow_network_12', 'trainable': True, 'dtype': {'module': 'keras', 'class_name': 'DTypePolicy', 'config': {'name': 'float32'}, 'registered_name': None}, 'input_dim': 8, 'num_layers': 3, 'units': 128}\u001b[0m\n",
      "\u001b[32m2025-10-30 17:22:04.382\u001b[0m | \u001b[34m\u001b[1mDEBUG   \u001b[0m | \u001b[36mkmr.layers._base_layer\u001b[0m:\u001b[36m_log_initialization\u001b[0m:\u001b[36m73\u001b[0m - \u001b[34m\u001b[1mInitialized HyperZZWOperator with parameters: {'name': 'hyper_zzw_operator_12', 'trainable': True, 'dtype': {'module': 'keras', 'class_name': 'DTypePolicy', 'config': {'name': 'float32'}, 'registered_name': None}, 'input_dim': 16, 'context_dim': 8}\u001b[0m\n",
      "\u001b[32m2025-10-30 17:22:04.383\u001b[0m | \u001b[34m\u001b[1mDEBUG   \u001b[0m | \u001b[36mkmr.layers._base_layer\u001b[0m:\u001b[36m_log_initialization\u001b[0m:\u001b[36m73\u001b[0m - \u001b[34m\u001b[1mInitialized SlowNetwork with parameters: {'name': 'slow_network_13', 'trainable': True, 'dtype': {'module': 'keras', 'class_name': 'DTypePolicy', 'config': {'name': 'float32'}, 'registered_name': None}, 'input_dim': 16, 'num_layers': 3, 'units': 128}\u001b[0m\n",
      "\u001b[32m2025-10-30 17:22:04.384\u001b[0m | \u001b[34m\u001b[1mDEBUG   \u001b[0m | \u001b[36mkmr.layers._base_layer\u001b[0m:\u001b[36m_log_initialization\u001b[0m:\u001b[36m73\u001b[0m - \u001b[34m\u001b[1mInitialized HyperZZWOperator with parameters: {'name': 'hyper_zzw_operator_13', 'trainable': True, 'dtype': {'module': 'keras', 'class_name': 'DTypePolicy', 'config': {'name': 'float32'}, 'registered_name': None}, 'input_dim': 64, 'context_dim': None}\u001b[0m\n",
      "\u001b[32m2025-10-30 17:22:04.386\u001b[0m | \u001b[34m\u001b[1mDEBUG   \u001b[0m | \u001b[36mkmr.layers._base_layer\u001b[0m:\u001b[36m_log_initialization\u001b[0m:\u001b[36m73\u001b[0m - \u001b[34m\u001b[1mInitialized SlowNetwork with parameters: {'name': 'slow_network_14', 'trainable': True, 'dtype': {'module': 'keras', 'class_name': 'DTypePolicy', 'config': {'name': 'float32'}, 'registered_name': None}, 'input_dim': 16, 'num_layers': 3, 'units': 128}\u001b[0m\n",
      "\u001b[32m2025-10-30 17:22:04.386\u001b[0m | \u001b[34m\u001b[1mDEBUG   \u001b[0m | \u001b[36mkmr.layers._base_layer\u001b[0m:\u001b[36m_log_initialization\u001b[0m:\u001b[36m73\u001b[0m - \u001b[34m\u001b[1mInitialized HyperZZWOperator with parameters: {'name': 'hyper_zzw_operator_14', 'trainable': True, 'dtype': {'module': 'keras', 'class_name': 'DTypePolicy', 'config': {'name': 'float32'}, 'registered_name': None}, 'input_dim': 64, 'context_dim': None}\u001b[0m\n",
      "\u001b[32m2025-10-30 17:22:04.388\u001b[0m | \u001b[34m\u001b[1mDEBUG   \u001b[0m | \u001b[36mkmr.layers._base_layer\u001b[0m:\u001b[36m_log_initialization\u001b[0m:\u001b[36m73\u001b[0m - \u001b[34m\u001b[1mInitialized SlowNetwork with parameters: {'name': 'slow_network_15', 'trainable': True, 'dtype': {'module': 'keras', 'class_name': 'DTypePolicy', 'config': {'name': 'float32'}, 'registered_name': None}, 'input_dim': 16, 'num_layers': 3, 'units': 128}\u001b[0m\n",
      "\u001b[32m2025-10-30 17:22:04.388\u001b[0m | \u001b[34m\u001b[1mDEBUG   \u001b[0m | \u001b[36mkmr.layers._base_layer\u001b[0m:\u001b[36m_log_initialization\u001b[0m:\u001b[36m73\u001b[0m - \u001b[34m\u001b[1mInitialized HyperZZWOperator with parameters: {'name': 'hyper_zzw_operator_15', 'trainable': True, 'dtype': {'module': 'keras', 'class_name': 'DTypePolicy', 'config': {'name': 'float32'}, 'registered_name': None}, 'input_dim': 64, 'context_dim': None}\u001b[0m\n",
      "/Users/piotrlaczkowski/Library/Caches/pypoetry/virtualenvs/kmr-S1SSCx8j-py3.12/lib/python3.12/site-packages/keras/src/models/functional.py:237: UserWarning:\n",
      "\n",
      "The structure of `inputs` doesn't match the expected structure.\n",
      "Expected: {'input_0': 'input_0', 'input_1': 'input_1'}\n",
      "Received: inputs=['Tensor(shape=(1, 16))', 'Tensor(shape=(1, 8))']\n",
      "\n",
      "\u001b[32m2025-10-30 17:22:04.401\u001b[0m | \u001b[34m\u001b[1mDEBUG   \u001b[0m | \u001b[36mkmr.models.TerminatorModel\u001b[0m:\u001b[36mcall\u001b[0m:\u001b[36m205\u001b[0m - \u001b[34m\u001b[1mTerminatorModel input shape: (1, 16), context shape: (1, 8)\u001b[0m\n",
      "\u001b[32m2025-10-30 17:22:04.404\u001b[0m | \u001b[34m\u001b[1mDEBUG   \u001b[0m | \u001b[36mkmr.models.TerminatorModel\u001b[0m:\u001b[36mcall\u001b[0m:\u001b[36m211\u001b[0m - \u001b[34m\u001b[1mTerminatorModel input_layer output shape: (1, 16)\u001b[0m\n",
      "\u001b[32m2025-10-30 17:22:04.405\u001b[0m | \u001b[34m\u001b[1mDEBUG   \u001b[0m | \u001b[36mkmr.layers.SlowNetwork\u001b[0m:\u001b[36mbuild\u001b[0m:\u001b[36m106\u001b[0m - \u001b[34m\u001b[1mSlowNetwork built with input_dim=8, num_layers=3, units=128\u001b[0m\n",
      "\u001b[32m2025-10-30 17:22:04.405\u001b[0m | \u001b[34m\u001b[1mDEBUG   \u001b[0m | \u001b[36mkmr.layers.SlowNetwork\u001b[0m:\u001b[36mcall\u001b[0m:\u001b[36m122\u001b[0m - \u001b[34m\u001b[1mSlowNetwork input shape: (1, 8)\u001b[0m\n",
      "\u001b[32m2025-10-30 17:22:04.409\u001b[0m | \u001b[34m\u001b[1mDEBUG   \u001b[0m | \u001b[36mkmr.layers.SlowNetwork\u001b[0m:\u001b[36mcall\u001b[0m:\u001b[36m126\u001b[0m - \u001b[34m\u001b[1mSlowNetwork layer 0 output shape: (1, 128)\u001b[0m\n",
      "\u001b[32m2025-10-30 17:22:04.412\u001b[0m | \u001b[34m\u001b[1mDEBUG   \u001b[0m | \u001b[36mkmr.layers.SlowNetwork\u001b[0m:\u001b[36mcall\u001b[0m:\u001b[36m126\u001b[0m - \u001b[34m\u001b[1mSlowNetwork layer 1 output shape: (1, 128)\u001b[0m\n",
      "\u001b[32m2025-10-30 17:22:04.415\u001b[0m | \u001b[34m\u001b[1mDEBUG   \u001b[0m | \u001b[36mkmr.layers.SlowNetwork\u001b[0m:\u001b[36mcall\u001b[0m:\u001b[36m126\u001b[0m - \u001b[34m\u001b[1mSlowNetwork layer 2 output shape: (1, 128)\u001b[0m\n",
      "\u001b[32m2025-10-30 17:22:04.418\u001b[0m | \u001b[34m\u001b[1mDEBUG   \u001b[0m | \u001b[36mkmr.layers.SlowNetwork\u001b[0m:\u001b[36mcall\u001b[0m:\u001b[36m129\u001b[0m - \u001b[34m\u001b[1mSlowNetwork output shape: (1, 8)\u001b[0m\n",
      "\u001b[32m2025-10-30 17:22:04.418\u001b[0m | \u001b[34m\u001b[1mDEBUG   \u001b[0m | \u001b[36mkmr.models.TerminatorModel\u001b[0m:\u001b[36mcall\u001b[0m:\u001b[36m215\u001b[0m - \u001b[34m\u001b[1mTerminatorModel hyper_kernels shape: (1, 8)\u001b[0m\n",
      "\u001b[32m2025-10-30 17:22:04.419\u001b[0m | \u001b[34m\u001b[1mDEBUG   \u001b[0m | \u001b[36mkmr.layers.HyperZZWOperator\u001b[0m:\u001b[36mbuild\u001b[0m:\u001b[36m112\u001b[0m - \u001b[34m\u001b[1mHyperZZWOperator built with input_dim=16, context_dim=8\u001b[0m\n",
      "\u001b[32m2025-10-30 17:22:04.419\u001b[0m | \u001b[34m\u001b[1mDEBUG   \u001b[0m | \u001b[36mkmr.layers.HyperZZWOperator\u001b[0m:\u001b[36mcall\u001b[0m:\u001b[36m132\u001b[0m - \u001b[34m\u001b[1mHyperZZWOperator input_tensor shape: (1, 16)\u001b[0m\n",
      "\u001b[32m2025-10-30 17:22:04.419\u001b[0m | \u001b[34m\u001b[1mDEBUG   \u001b[0m | \u001b[36mkmr.layers.HyperZZWOperator\u001b[0m:\u001b[36mcall\u001b[0m:\u001b[36m133\u001b[0m - \u001b[34m\u001b[1mHyperZZWOperator context_tensor shape: (1, 8)\u001b[0m\n",
      "\u001b[32m2025-10-30 17:22:04.422\u001b[0m | \u001b[34m\u001b[1mDEBUG   \u001b[0m | \u001b[36mkmr.layers.HyperZZWOperator\u001b[0m:\u001b[36mcall\u001b[0m:\u001b[36m153\u001b[0m - \u001b[34m\u001b[1mHyperZZWOperator output shape: (1, 16)\u001b[0m\n",
      "\u001b[32m2025-10-30 17:22:04.423\u001b[0m | \u001b[34m\u001b[1mDEBUG   \u001b[0m | \u001b[36mkmr.models.TerminatorModel\u001b[0m:\u001b[36mcall\u001b[0m:\u001b[36m219\u001b[0m - \u001b[34m\u001b[1mTerminatorModel context_weights shape: (1, 16)\u001b[0m\n",
      "\u001b[32m2025-10-30 17:22:04.427\u001b[0m | \u001b[34m\u001b[1mDEBUG   \u001b[0m | \u001b[36mkmr.models.SFNEBlock\u001b[0m:\u001b[36mcall\u001b[0m:\u001b[36m176\u001b[0m - \u001b[34m\u001b[1mSFNEBlock input shape: (1, 16)\u001b[0m\n",
      "\u001b[32m2025-10-30 17:22:04.435\u001b[0m | \u001b[34m\u001b[1mDEBUG   \u001b[0m | \u001b[36mkmr.layers.SlowNetwork\u001b[0m:\u001b[36mbuild\u001b[0m:\u001b[36m106\u001b[0m - \u001b[34m\u001b[1mSlowNetwork built with input_dim=16, num_layers=3, units=128\u001b[0m\n",
      "\u001b[32m2025-10-30 17:22:04.436\u001b[0m | \u001b[34m\u001b[1mDEBUG   \u001b[0m | \u001b[36mkmr.layers.SlowNetwork\u001b[0m:\u001b[36mcall\u001b[0m:\u001b[36m122\u001b[0m - \u001b[34m\u001b[1mSlowNetwork input shape: (1, 64)\u001b[0m\n",
      "\u001b[32m2025-10-30 17:22:04.440\u001b[0m | \u001b[34m\u001b[1mDEBUG   \u001b[0m | \u001b[36mkmr.layers.SlowNetwork\u001b[0m:\u001b[36mcall\u001b[0m:\u001b[36m126\u001b[0m - \u001b[34m\u001b[1mSlowNetwork layer 0 output shape: (1, 128)\u001b[0m\n",
      "\u001b[32m2025-10-30 17:22:04.443\u001b[0m | \u001b[34m\u001b[1mDEBUG   \u001b[0m | \u001b[36mkmr.layers.SlowNetwork\u001b[0m:\u001b[36mcall\u001b[0m:\u001b[36m126\u001b[0m - \u001b[34m\u001b[1mSlowNetwork layer 1 output shape: (1, 128)\u001b[0m\n",
      "\u001b[32m2025-10-30 17:22:04.446\u001b[0m | \u001b[34m\u001b[1mDEBUG   \u001b[0m | \u001b[36mkmr.layers.SlowNetwork\u001b[0m:\u001b[36mcall\u001b[0m:\u001b[36m126\u001b[0m - \u001b[34m\u001b[1mSlowNetwork layer 2 output shape: (1, 128)\u001b[0m\n"
     ]
    },
    {
     "name": "stdout",
     "output_type": "stream",
     "text": [
      "🧩 Building preprocessing model...\n",
      "Testing preprocessing model...\n",
      "Preprocessing model output shape: (1, 16), expected: (1, 16)\n",
      "🚀 Training classification model with preprocessing...\n",
      "Testing model with preprocessing...\n"
     ]
    },
    {
     "name": "stderr",
     "output_type": "stream",
     "text": [
      "\u001b[32m2025-10-30 17:22:04.450\u001b[0m | \u001b[34m\u001b[1mDEBUG   \u001b[0m | \u001b[36mkmr.layers.SlowNetwork\u001b[0m:\u001b[36mcall\u001b[0m:\u001b[36m129\u001b[0m - \u001b[34m\u001b[1mSlowNetwork output shape: (1, 16)\u001b[0m\n",
      "\u001b[32m2025-10-30 17:22:04.450\u001b[0m | \u001b[34m\u001b[1mDEBUG   \u001b[0m | \u001b[36mkmr.models.SFNEBlock\u001b[0m:\u001b[36mcall\u001b[0m:\u001b[36m188\u001b[0m - \u001b[34m\u001b[1mSFNEBlock hyper_kernels shape: (1, 16)\u001b[0m\n",
      "\u001b[32m2025-10-30 17:22:04.451\u001b[0m | \u001b[34m\u001b[1mDEBUG   \u001b[0m | \u001b[36mkmr.layers.HyperZZWOperator\u001b[0m:\u001b[36mbuild\u001b[0m:\u001b[36m112\u001b[0m - \u001b[34m\u001b[1mHyperZZWOperator built with input_dim=64, context_dim=16\u001b[0m\n",
      "\u001b[32m2025-10-30 17:22:04.451\u001b[0m | \u001b[34m\u001b[1mDEBUG   \u001b[0m | \u001b[36mkmr.layers.HyperZZWOperator\u001b[0m:\u001b[36mcall\u001b[0m:\u001b[36m132\u001b[0m - \u001b[34m\u001b[1mHyperZZWOperator input_tensor shape: (1, 64)\u001b[0m\n",
      "\u001b[32m2025-10-30 17:22:04.451\u001b[0m | \u001b[34m\u001b[1mDEBUG   \u001b[0m | \u001b[36mkmr.layers.HyperZZWOperator\u001b[0m:\u001b[36mcall\u001b[0m:\u001b[36m133\u001b[0m - \u001b[34m\u001b[1mHyperZZWOperator context_tensor shape: (1, 16)\u001b[0m\n",
      "\u001b[32m2025-10-30 17:22:04.454\u001b[0m | \u001b[34m\u001b[1mDEBUG   \u001b[0m | \u001b[36mkmr.layers.HyperZZWOperator\u001b[0m:\u001b[36mcall\u001b[0m:\u001b[36m153\u001b[0m - \u001b[34m\u001b[1mHyperZZWOperator output shape: (1, 64)\u001b[0m\n",
      "\u001b[32m2025-10-30 17:22:04.455\u001b[0m | \u001b[34m\u001b[1mDEBUG   \u001b[0m | \u001b[36mkmr.models.SFNEBlock\u001b[0m:\u001b[36mcall\u001b[0m:\u001b[36m192\u001b[0m - \u001b[34m\u001b[1mSFNEBlock context_weights shape: (1, 64)\u001b[0m\n",
      "\u001b[32m2025-10-30 17:22:04.455\u001b[0m | \u001b[34m\u001b[1mDEBUG   \u001b[0m | \u001b[36mkmr.models.SFNEBlock\u001b[0m:\u001b[36mcall\u001b[0m:\u001b[36m196\u001b[0m - \u001b[34m\u001b[1mSFNEBlock context_weights_expanded shape: (1, 64, 1)\u001b[0m\n",
      "\u001b[32m2025-10-30 17:22:04.461\u001b[0m | \u001b[34m\u001b[1mDEBUG   \u001b[0m | \u001b[36mkmr.models.SFNEBlock\u001b[0m:\u001b[36mcall\u001b[0m:\u001b[36m202\u001b[0m - \u001b[34m\u001b[1mSFNEBlock global_output shape: (1, 64, 16)\u001b[0m\n",
      "\u001b[32m2025-10-30 17:22:04.466\u001b[0m | \u001b[34m\u001b[1mDEBUG   \u001b[0m | \u001b[36mkmr.models.SFNEBlock\u001b[0m:\u001b[36mcall\u001b[0m:\u001b[36m206\u001b[0m - \u001b[34m\u001b[1mSFNEBlock local_output shape: (1, 64, 16)\u001b[0m\n",
      "\u001b[32m2025-10-30 17:22:04.467\u001b[0m | \u001b[34m\u001b[1mDEBUG   \u001b[0m | \u001b[36mkmr.models.SFNEBlock\u001b[0m:\u001b[36mcall\u001b[0m:\u001b[36m210\u001b[0m - \u001b[34m\u001b[1mSFNEBlock combined_output shape: (1, 64, 32)\u001b[0m\n",
      "\u001b[32m2025-10-30 17:22:04.468\u001b[0m | \u001b[34m\u001b[1mDEBUG   \u001b[0m | \u001b[36mkmr.models.SFNEBlock\u001b[0m:\u001b[36mcall\u001b[0m:\u001b[36m217\u001b[0m - \u001b[34m\u001b[1mSFNEBlock combined_output_flat shape: (1, 2048)\u001b[0m\n",
      "\u001b[32m2025-10-30 17:22:04.471\u001b[0m | \u001b[34m\u001b[1mDEBUG   \u001b[0m | \u001b[36mkmr.models.SFNEBlock\u001b[0m:\u001b[36mcall\u001b[0m:\u001b[36m223\u001b[0m - \u001b[34m\u001b[1mSFNEBlock bottleneck_output shape: (1, 16)\u001b[0m\n",
      "\u001b[32m2025-10-30 17:22:04.474\u001b[0m | \u001b[34m\u001b[1mDEBUG   \u001b[0m | \u001b[36mkmr.models.SFNEBlock\u001b[0m:\u001b[36mcall\u001b[0m:\u001b[36m227\u001b[0m - \u001b[34m\u001b[1mSFNEBlock output_layer output shape: (1, 16)\u001b[0m\n",
      "\u001b[32m2025-10-30 17:22:04.474\u001b[0m | \u001b[34m\u001b[1mDEBUG   \u001b[0m | \u001b[36mkmr.models.SFNEBlock\u001b[0m:\u001b[36mcall\u001b[0m:\u001b[36m176\u001b[0m - \u001b[34m\u001b[1mSFNEBlock input shape: (1, 16)\u001b[0m\n",
      "\u001b[32m2025-10-30 17:22:04.482\u001b[0m | \u001b[34m\u001b[1mDEBUG   \u001b[0m | \u001b[36mkmr.layers.SlowNetwork\u001b[0m:\u001b[36mcall\u001b[0m:\u001b[36m122\u001b[0m - \u001b[34m\u001b[1mSlowNetwork input shape: (1, 64)\u001b[0m\n",
      "\u001b[32m2025-10-30 17:22:04.485\u001b[0m | \u001b[34m\u001b[1mDEBUG   \u001b[0m | \u001b[36mkmr.layers.SlowNetwork\u001b[0m:\u001b[36mcall\u001b[0m:\u001b[36m126\u001b[0m - \u001b[34m\u001b[1mSlowNetwork layer 0 output shape: (1, 128)\u001b[0m\n",
      "\u001b[32m2025-10-30 17:22:04.488\u001b[0m | \u001b[34m\u001b[1mDEBUG   \u001b[0m | \u001b[36mkmr.layers.SlowNetwork\u001b[0m:\u001b[36mcall\u001b[0m:\u001b[36m126\u001b[0m - \u001b[34m\u001b[1mSlowNetwork layer 1 output shape: (1, 128)\u001b[0m\n",
      "\u001b[32m2025-10-30 17:22:04.491\u001b[0m | \u001b[34m\u001b[1mDEBUG   \u001b[0m | \u001b[36mkmr.layers.SlowNetwork\u001b[0m:\u001b[36mcall\u001b[0m:\u001b[36m126\u001b[0m - \u001b[34m\u001b[1mSlowNetwork layer 2 output shape: (1, 128)\u001b[0m\n",
      "\u001b[32m2025-10-30 17:22:04.494\u001b[0m | \u001b[34m\u001b[1mDEBUG   \u001b[0m | \u001b[36mkmr.layers.SlowNetwork\u001b[0m:\u001b[36mcall\u001b[0m:\u001b[36m129\u001b[0m - \u001b[34m\u001b[1mSlowNetwork output shape: (1, 16)\u001b[0m\n",
      "\u001b[32m2025-10-30 17:22:04.494\u001b[0m | \u001b[34m\u001b[1mDEBUG   \u001b[0m | \u001b[36mkmr.models.SFNEBlock\u001b[0m:\u001b[36mcall\u001b[0m:\u001b[36m188\u001b[0m - \u001b[34m\u001b[1mSFNEBlock hyper_kernels shape: (1, 16)\u001b[0m\n",
      "\u001b[32m2025-10-30 17:22:04.494\u001b[0m | \u001b[34m\u001b[1mDEBUG   \u001b[0m | \u001b[36mkmr.layers.HyperZZWOperator\u001b[0m:\u001b[36mcall\u001b[0m:\u001b[36m132\u001b[0m - \u001b[34m\u001b[1mHyperZZWOperator input_tensor shape: (1, 64)\u001b[0m\n",
      "\u001b[32m2025-10-30 17:22:04.494\u001b[0m | \u001b[34m\u001b[1mDEBUG   \u001b[0m | \u001b[36mkmr.layers.HyperZZWOperator\u001b[0m:\u001b[36mcall\u001b[0m:\u001b[36m133\u001b[0m - \u001b[34m\u001b[1mHyperZZWOperator context_tensor shape: (1, 16)\u001b[0m\n",
      "\u001b[32m2025-10-30 17:22:04.497\u001b[0m | \u001b[34m\u001b[1mDEBUG   \u001b[0m | \u001b[36mkmr.layers.HyperZZWOperator\u001b[0m:\u001b[36mcall\u001b[0m:\u001b[36m153\u001b[0m - \u001b[34m\u001b[1mHyperZZWOperator output shape: (1, 64)\u001b[0m\n",
      "\u001b[32m2025-10-30 17:22:04.498\u001b[0m | \u001b[34m\u001b[1mDEBUG   \u001b[0m | \u001b[36mkmr.models.SFNEBlock\u001b[0m:\u001b[36mcall\u001b[0m:\u001b[36m192\u001b[0m - \u001b[34m\u001b[1mSFNEBlock context_weights shape: (1, 64)\u001b[0m\n",
      "\u001b[32m2025-10-30 17:22:04.498\u001b[0m | \u001b[34m\u001b[1mDEBUG   \u001b[0m | \u001b[36mkmr.models.SFNEBlock\u001b[0m:\u001b[36mcall\u001b[0m:\u001b[36m196\u001b[0m - \u001b[34m\u001b[1mSFNEBlock context_weights_expanded shape: (1, 64, 1)\u001b[0m\n",
      "\u001b[32m2025-10-30 17:22:04.503\u001b[0m | \u001b[34m\u001b[1mDEBUG   \u001b[0m | \u001b[36mkmr.models.SFNEBlock\u001b[0m:\u001b[36mcall\u001b[0m:\u001b[36m202\u001b[0m - \u001b[34m\u001b[1mSFNEBlock global_output shape: (1, 64, 16)\u001b[0m\n",
      "\u001b[32m2025-10-30 17:22:04.507\u001b[0m | \u001b[34m\u001b[1mDEBUG   \u001b[0m | \u001b[36mkmr.models.SFNEBlock\u001b[0m:\u001b[36mcall\u001b[0m:\u001b[36m206\u001b[0m - \u001b[34m\u001b[1mSFNEBlock local_output shape: (1, 64, 16)\u001b[0m\n",
      "\u001b[32m2025-10-30 17:22:04.508\u001b[0m | \u001b[34m\u001b[1mDEBUG   \u001b[0m | \u001b[36mkmr.models.SFNEBlock\u001b[0m:\u001b[36mcall\u001b[0m:\u001b[36m210\u001b[0m - \u001b[34m\u001b[1mSFNEBlock combined_output shape: (1, 64, 32)\u001b[0m\n",
      "\u001b[32m2025-10-30 17:22:04.508\u001b[0m | \u001b[34m\u001b[1mDEBUG   \u001b[0m | \u001b[36mkmr.models.SFNEBlock\u001b[0m:\u001b[36mcall\u001b[0m:\u001b[36m217\u001b[0m - \u001b[34m\u001b[1mSFNEBlock combined_output_flat shape: (1, 2048)\u001b[0m\n",
      "\u001b[32m2025-10-30 17:22:04.511\u001b[0m | \u001b[34m\u001b[1mDEBUG   \u001b[0m | \u001b[36mkmr.models.SFNEBlock\u001b[0m:\u001b[36mcall\u001b[0m:\u001b[36m223\u001b[0m - \u001b[34m\u001b[1mSFNEBlock bottleneck_output shape: (1, 16)\u001b[0m\n",
      "\u001b[32m2025-10-30 17:22:04.514\u001b[0m | \u001b[34m\u001b[1mDEBUG   \u001b[0m | \u001b[36mkmr.models.SFNEBlock\u001b[0m:\u001b[36mcall\u001b[0m:\u001b[36m227\u001b[0m - \u001b[34m\u001b[1mSFNEBlock output_layer output shape: (1, 16)\u001b[0m\n",
      "\u001b[32m2025-10-30 17:22:04.514\u001b[0m | \u001b[34m\u001b[1mDEBUG   \u001b[0m | \u001b[36mkmr.models.TerminatorModel\u001b[0m:\u001b[36mcall\u001b[0m:\u001b[36m227\u001b[0m - \u001b[34m\u001b[1mTerminatorModel SFNEBlock 0 output shape: (1, 16)\u001b[0m\n",
      "\u001b[32m2025-10-30 17:22:04.515\u001b[0m | \u001b[34m\u001b[1mDEBUG   \u001b[0m | \u001b[36mkmr.models.SFNEBlock\u001b[0m:\u001b[36mcall\u001b[0m:\u001b[36m176\u001b[0m - \u001b[34m\u001b[1mSFNEBlock input shape: (1, 16)\u001b[0m\n",
      "\u001b[32m2025-10-30 17:22:04.526\u001b[0m | \u001b[34m\u001b[1mDEBUG   \u001b[0m | \u001b[36mkmr.layers.SlowNetwork\u001b[0m:\u001b[36mbuild\u001b[0m:\u001b[36m106\u001b[0m - \u001b[34m\u001b[1mSlowNetwork built with input_dim=16, num_layers=3, units=128\u001b[0m\n",
      "\u001b[32m2025-10-30 17:22:04.526\u001b[0m | \u001b[34m\u001b[1mDEBUG   \u001b[0m | \u001b[36mkmr.layers.SlowNetwork\u001b[0m:\u001b[36mcall\u001b[0m:\u001b[36m122\u001b[0m - \u001b[34m\u001b[1mSlowNetwork input shape: (1, 64)\u001b[0m\n",
      "\u001b[32m2025-10-30 17:22:04.535\u001b[0m | \u001b[34m\u001b[1mDEBUG   \u001b[0m | \u001b[36mkmr.layers.SlowNetwork\u001b[0m:\u001b[36mcall\u001b[0m:\u001b[36m126\u001b[0m - \u001b[34m\u001b[1mSlowNetwork layer 0 output shape: (1, 128)\u001b[0m\n",
      "\u001b[32m2025-10-30 17:22:04.538\u001b[0m | \u001b[34m\u001b[1mDEBUG   \u001b[0m | \u001b[36mkmr.layers.SlowNetwork\u001b[0m:\u001b[36mcall\u001b[0m:\u001b[36m126\u001b[0m - \u001b[34m\u001b[1mSlowNetwork layer 1 output shape: (1, 128)\u001b[0m\n",
      "\u001b[32m2025-10-30 17:22:04.542\u001b[0m | \u001b[34m\u001b[1mDEBUG   \u001b[0m | \u001b[36mkmr.layers.SlowNetwork\u001b[0m:\u001b[36mcall\u001b[0m:\u001b[36m126\u001b[0m - \u001b[34m\u001b[1mSlowNetwork layer 2 output shape: (1, 128)\u001b[0m\n",
      "\u001b[32m2025-10-30 17:22:04.545\u001b[0m | \u001b[34m\u001b[1mDEBUG   \u001b[0m | \u001b[36mkmr.layers.SlowNetwork\u001b[0m:\u001b[36mcall\u001b[0m:\u001b[36m129\u001b[0m - \u001b[34m\u001b[1mSlowNetwork output shape: (1, 16)\u001b[0m\n",
      "\u001b[32m2025-10-30 17:22:04.546\u001b[0m | \u001b[34m\u001b[1mDEBUG   \u001b[0m | \u001b[36mkmr.models.SFNEBlock\u001b[0m:\u001b[36mcall\u001b[0m:\u001b[36m188\u001b[0m - \u001b[34m\u001b[1mSFNEBlock hyper_kernels shape: (1, 16)\u001b[0m\n",
      "\u001b[32m2025-10-30 17:22:04.546\u001b[0m | \u001b[34m\u001b[1mDEBUG   \u001b[0m | \u001b[36mkmr.layers.HyperZZWOperator\u001b[0m:\u001b[36mbuild\u001b[0m:\u001b[36m112\u001b[0m - \u001b[34m\u001b[1mHyperZZWOperator built with input_dim=64, context_dim=16\u001b[0m\n",
      "\u001b[32m2025-10-30 17:22:04.547\u001b[0m | \u001b[34m\u001b[1mDEBUG   \u001b[0m | \u001b[36mkmr.layers.HyperZZWOperator\u001b[0m:\u001b[36mcall\u001b[0m:\u001b[36m132\u001b[0m - \u001b[34m\u001b[1mHyperZZWOperator input_tensor shape: (1, 64)\u001b[0m\n",
      "\u001b[32m2025-10-30 17:22:04.547\u001b[0m | \u001b[34m\u001b[1mDEBUG   \u001b[0m | \u001b[36mkmr.layers.HyperZZWOperator\u001b[0m:\u001b[36mcall\u001b[0m:\u001b[36m133\u001b[0m - \u001b[34m\u001b[1mHyperZZWOperator context_tensor shape: (1, 16)\u001b[0m\n",
      "\u001b[32m2025-10-30 17:22:04.550\u001b[0m | \u001b[34m\u001b[1mDEBUG   \u001b[0m | \u001b[36mkmr.layers.HyperZZWOperator\u001b[0m:\u001b[36mcall\u001b[0m:\u001b[36m153\u001b[0m - \u001b[34m\u001b[1mHyperZZWOperator output shape: (1, 64)\u001b[0m\n",
      "\u001b[32m2025-10-30 17:22:04.551\u001b[0m | \u001b[34m\u001b[1mDEBUG   \u001b[0m | \u001b[36mkmr.models.SFNEBlock\u001b[0m:\u001b[36mcall\u001b[0m:\u001b[36m192\u001b[0m - \u001b[34m\u001b[1mSFNEBlock context_weights shape: (1, 64)\u001b[0m\n",
      "\u001b[32m2025-10-30 17:22:04.551\u001b[0m | \u001b[34m\u001b[1mDEBUG   \u001b[0m | \u001b[36mkmr.models.SFNEBlock\u001b[0m:\u001b[36mcall\u001b[0m:\u001b[36m196\u001b[0m - \u001b[34m\u001b[1mSFNEBlock context_weights_expanded shape: (1, 64, 1)\u001b[0m\n",
      "\u001b[32m2025-10-30 17:22:04.558\u001b[0m | \u001b[34m\u001b[1mDEBUG   \u001b[0m | \u001b[36mkmr.models.SFNEBlock\u001b[0m:\u001b[36mcall\u001b[0m:\u001b[36m202\u001b[0m - \u001b[34m\u001b[1mSFNEBlock global_output shape: (1, 64, 16)\u001b[0m\n",
      "\u001b[32m2025-10-30 17:22:04.563\u001b[0m | \u001b[34m\u001b[1mDEBUG   \u001b[0m | \u001b[36mkmr.models.SFNEBlock\u001b[0m:\u001b[36mcall\u001b[0m:\u001b[36m206\u001b[0m - \u001b[34m\u001b[1mSFNEBlock local_output shape: (1, 64, 16)\u001b[0m\n",
      "\u001b[32m2025-10-30 17:22:04.564\u001b[0m | \u001b[34m\u001b[1mDEBUG   \u001b[0m | \u001b[36mkmr.models.SFNEBlock\u001b[0m:\u001b[36mcall\u001b[0m:\u001b[36m210\u001b[0m - \u001b[34m\u001b[1mSFNEBlock combined_output shape: (1, 64, 32)\u001b[0m\n",
      "\u001b[32m2025-10-30 17:22:04.565\u001b[0m | \u001b[34m\u001b[1mDEBUG   \u001b[0m | \u001b[36mkmr.models.SFNEBlock\u001b[0m:\u001b[36mcall\u001b[0m:\u001b[36m217\u001b[0m - \u001b[34m\u001b[1mSFNEBlock combined_output_flat shape: (1, 2048)\u001b[0m\n",
      "\u001b[32m2025-10-30 17:22:04.569\u001b[0m | \u001b[34m\u001b[1mDEBUG   \u001b[0m | \u001b[36mkmr.models.SFNEBlock\u001b[0m:\u001b[36mcall\u001b[0m:\u001b[36m223\u001b[0m - \u001b[34m\u001b[1mSFNEBlock bottleneck_output shape: (1, 16)\u001b[0m\n",
      "\u001b[32m2025-10-30 17:22:04.572\u001b[0m | \u001b[34m\u001b[1mDEBUG   \u001b[0m | \u001b[36mkmr.models.SFNEBlock\u001b[0m:\u001b[36mcall\u001b[0m:\u001b[36m227\u001b[0m - \u001b[34m\u001b[1mSFNEBlock output_layer output shape: (1, 16)\u001b[0m\n",
      "\u001b[32m2025-10-30 17:22:04.573\u001b[0m | \u001b[34m\u001b[1mDEBUG   \u001b[0m | \u001b[36mkmr.models.SFNEBlock\u001b[0m:\u001b[36mcall\u001b[0m:\u001b[36m176\u001b[0m - \u001b[34m\u001b[1mSFNEBlock input shape: (1, 16)\u001b[0m\n",
      "\u001b[32m2025-10-30 17:22:04.581\u001b[0m | \u001b[34m\u001b[1mDEBUG   \u001b[0m | \u001b[36mkmr.layers.SlowNetwork\u001b[0m:\u001b[36mcall\u001b[0m:\u001b[36m122\u001b[0m - \u001b[34m\u001b[1mSlowNetwork input shape: (1, 64)\u001b[0m\n",
      "\u001b[32m2025-10-30 17:22:04.585\u001b[0m | \u001b[34m\u001b[1mDEBUG   \u001b[0m | \u001b[36mkmr.layers.SlowNetwork\u001b[0m:\u001b[36mcall\u001b[0m:\u001b[36m126\u001b[0m - \u001b[34m\u001b[1mSlowNetwork layer 0 output shape: (1, 128)\u001b[0m\n",
      "\u001b[32m2025-10-30 17:22:04.589\u001b[0m | \u001b[34m\u001b[1mDEBUG   \u001b[0m | \u001b[36mkmr.layers.SlowNetwork\u001b[0m:\u001b[36mcall\u001b[0m:\u001b[36m126\u001b[0m - \u001b[34m\u001b[1mSlowNetwork layer 1 output shape: (1, 128)\u001b[0m\n",
      "\u001b[32m2025-10-30 17:22:04.592\u001b[0m | \u001b[34m\u001b[1mDEBUG   \u001b[0m | \u001b[36mkmr.layers.SlowNetwork\u001b[0m:\u001b[36mcall\u001b[0m:\u001b[36m126\u001b[0m - \u001b[34m\u001b[1mSlowNetwork layer 2 output shape: (1, 128)\u001b[0m\n",
      "\u001b[32m2025-10-30 17:22:04.595\u001b[0m | \u001b[34m\u001b[1mDEBUG   \u001b[0m | \u001b[36mkmr.layers.SlowNetwork\u001b[0m:\u001b[36mcall\u001b[0m:\u001b[36m129\u001b[0m - \u001b[34m\u001b[1mSlowNetwork output shape: (1, 16)\u001b[0m\n",
      "\u001b[32m2025-10-30 17:22:04.595\u001b[0m | \u001b[34m\u001b[1mDEBUG   \u001b[0m | \u001b[36mkmr.models.SFNEBlock\u001b[0m:\u001b[36mcall\u001b[0m:\u001b[36m188\u001b[0m - \u001b[34m\u001b[1mSFNEBlock hyper_kernels shape: (1, 16)\u001b[0m\n",
      "\u001b[32m2025-10-30 17:22:04.595\u001b[0m | \u001b[34m\u001b[1mDEBUG   \u001b[0m | \u001b[36mkmr.layers.HyperZZWOperator\u001b[0m:\u001b[36mcall\u001b[0m:\u001b[36m132\u001b[0m - \u001b[34m\u001b[1mHyperZZWOperator input_tensor shape: (1, 64)\u001b[0m\n",
      "\u001b[32m2025-10-30 17:22:04.596\u001b[0m | \u001b[34m\u001b[1mDEBUG   \u001b[0m | \u001b[36mkmr.layers.HyperZZWOperator\u001b[0m:\u001b[36mcall\u001b[0m:\u001b[36m133\u001b[0m - \u001b[34m\u001b[1mHyperZZWOperator context_tensor shape: (1, 16)\u001b[0m\n",
      "\u001b[32m2025-10-30 17:22:04.599\u001b[0m | \u001b[34m\u001b[1mDEBUG   \u001b[0m | \u001b[36mkmr.layers.HyperZZWOperator\u001b[0m:\u001b[36mcall\u001b[0m:\u001b[36m153\u001b[0m - \u001b[34m\u001b[1mHyperZZWOperator output shape: (1, 64)\u001b[0m\n",
      "\u001b[32m2025-10-30 17:22:04.599\u001b[0m | \u001b[34m\u001b[1mDEBUG   \u001b[0m | \u001b[36mkmr.models.SFNEBlock\u001b[0m:\u001b[36mcall\u001b[0m:\u001b[36m192\u001b[0m - \u001b[34m\u001b[1mSFNEBlock context_weights shape: (1, 64)\u001b[0m\n",
      "\u001b[32m2025-10-30 17:22:04.600\u001b[0m | \u001b[34m\u001b[1mDEBUG   \u001b[0m | \u001b[36mkmr.models.SFNEBlock\u001b[0m:\u001b[36mcall\u001b[0m:\u001b[36m196\u001b[0m - \u001b[34m\u001b[1mSFNEBlock context_weights_expanded shape: (1, 64, 1)\u001b[0m\n",
      "\u001b[32m2025-10-30 17:22:04.605\u001b[0m | \u001b[34m\u001b[1mDEBUG   \u001b[0m | \u001b[36mkmr.models.SFNEBlock\u001b[0m:\u001b[36mcall\u001b[0m:\u001b[36m202\u001b[0m - \u001b[34m\u001b[1mSFNEBlock global_output shape: (1, 64, 16)\u001b[0m\n",
      "\u001b[32m2025-10-30 17:22:04.608\u001b[0m | \u001b[34m\u001b[1mDEBUG   \u001b[0m | \u001b[36mkmr.models.SFNEBlock\u001b[0m:\u001b[36mcall\u001b[0m:\u001b[36m206\u001b[0m - \u001b[34m\u001b[1mSFNEBlock local_output shape: (1, 64, 16)\u001b[0m\n",
      "\u001b[32m2025-10-30 17:22:04.609\u001b[0m | \u001b[34m\u001b[1mDEBUG   \u001b[0m | \u001b[36mkmr.models.SFNEBlock\u001b[0m:\u001b[36mcall\u001b[0m:\u001b[36m210\u001b[0m - \u001b[34m\u001b[1mSFNEBlock combined_output shape: (1, 64, 32)\u001b[0m\n",
      "\u001b[32m2025-10-30 17:22:04.609\u001b[0m | \u001b[34m\u001b[1mDEBUG   \u001b[0m | \u001b[36mkmr.models.SFNEBlock\u001b[0m:\u001b[36mcall\u001b[0m:\u001b[36m217\u001b[0m - \u001b[34m\u001b[1mSFNEBlock combined_output_flat shape: (1, 2048)\u001b[0m\n",
      "\u001b[32m2025-10-30 17:22:04.612\u001b[0m | \u001b[34m\u001b[1mDEBUG   \u001b[0m | \u001b[36mkmr.models.SFNEBlock\u001b[0m:\u001b[36mcall\u001b[0m:\u001b[36m223\u001b[0m - \u001b[34m\u001b[1mSFNEBlock bottleneck_output shape: (1, 16)\u001b[0m\n",
      "\u001b[32m2025-10-30 17:22:04.615\u001b[0m | \u001b[34m\u001b[1mDEBUG   \u001b[0m | \u001b[36mkmr.models.SFNEBlock\u001b[0m:\u001b[36mcall\u001b[0m:\u001b[36m227\u001b[0m - \u001b[34m\u001b[1mSFNEBlock output_layer output shape: (1, 16)\u001b[0m\n",
      "\u001b[32m2025-10-30 17:22:04.615\u001b[0m | \u001b[34m\u001b[1mDEBUG   \u001b[0m | \u001b[36mkmr.models.TerminatorModel\u001b[0m:\u001b[36mcall\u001b[0m:\u001b[36m227\u001b[0m - \u001b[34m\u001b[1mTerminatorModel SFNEBlock 1 output shape: (1, 16)\u001b[0m\n",
      "\u001b[32m2025-10-30 17:22:04.615\u001b[0m | \u001b[34m\u001b[1mDEBUG   \u001b[0m | \u001b[36mkmr.models.SFNEBlock\u001b[0m:\u001b[36mcall\u001b[0m:\u001b[36m176\u001b[0m - \u001b[34m\u001b[1mSFNEBlock input shape: (1, 16)\u001b[0m\n",
      "\u001b[32m2025-10-30 17:22:04.624\u001b[0m | \u001b[34m\u001b[1mDEBUG   \u001b[0m | \u001b[36mkmr.layers.SlowNetwork\u001b[0m:\u001b[36mbuild\u001b[0m:\u001b[36m106\u001b[0m - \u001b[34m\u001b[1mSlowNetwork built with input_dim=16, num_layers=3, units=128\u001b[0m\n",
      "\u001b[32m2025-10-30 17:22:04.625\u001b[0m | \u001b[34m\u001b[1mDEBUG   \u001b[0m | \u001b[36mkmr.layers.SlowNetwork\u001b[0m:\u001b[36mcall\u001b[0m:\u001b[36m122\u001b[0m - \u001b[34m\u001b[1mSlowNetwork input shape: (1, 64)\u001b[0m\n",
      "\u001b[32m2025-10-30 17:22:04.628\u001b[0m | \u001b[34m\u001b[1mDEBUG   \u001b[0m | \u001b[36mkmr.layers.SlowNetwork\u001b[0m:\u001b[36mcall\u001b[0m:\u001b[36m126\u001b[0m - \u001b[34m\u001b[1mSlowNetwork layer 0 output shape: (1, 128)\u001b[0m\n",
      "\u001b[32m2025-10-30 17:22:04.631\u001b[0m | \u001b[34m\u001b[1mDEBUG   \u001b[0m | \u001b[36mkmr.layers.SlowNetwork\u001b[0m:\u001b[36mcall\u001b[0m:\u001b[36m126\u001b[0m - \u001b[34m\u001b[1mSlowNetwork layer 1 output shape: (1, 128)\u001b[0m\n",
      "\u001b[32m2025-10-30 17:22:04.633\u001b[0m | \u001b[34m\u001b[1mDEBUG   \u001b[0m | \u001b[36mkmr.layers.SlowNetwork\u001b[0m:\u001b[36mcall\u001b[0m:\u001b[36m126\u001b[0m - \u001b[34m\u001b[1mSlowNetwork layer 2 output shape: (1, 128)\u001b[0m\n",
      "\u001b[32m2025-10-30 17:22:04.636\u001b[0m | \u001b[34m\u001b[1mDEBUG   \u001b[0m | \u001b[36mkmr.layers.SlowNetwork\u001b[0m:\u001b[36mcall\u001b[0m:\u001b[36m129\u001b[0m - \u001b[34m\u001b[1mSlowNetwork output shape: (1, 16)\u001b[0m\n",
      "\u001b[32m2025-10-30 17:22:04.636\u001b[0m | \u001b[34m\u001b[1mDEBUG   \u001b[0m | \u001b[36mkmr.models.SFNEBlock\u001b[0m:\u001b[36mcall\u001b[0m:\u001b[36m188\u001b[0m - \u001b[34m\u001b[1mSFNEBlock hyper_kernels shape: (1, 16)\u001b[0m\n",
      "\u001b[32m2025-10-30 17:22:04.637\u001b[0m | \u001b[34m\u001b[1mDEBUG   \u001b[0m | \u001b[36mkmr.layers.HyperZZWOperator\u001b[0m:\u001b[36mbuild\u001b[0m:\u001b[36m112\u001b[0m - \u001b[34m\u001b[1mHyperZZWOperator built with input_dim=64, context_dim=16\u001b[0m\n",
      "\u001b[32m2025-10-30 17:22:04.637\u001b[0m | \u001b[34m\u001b[1mDEBUG   \u001b[0m | \u001b[36mkmr.layers.HyperZZWOperator\u001b[0m:\u001b[36mcall\u001b[0m:\u001b[36m132\u001b[0m - \u001b[34m\u001b[1mHyperZZWOperator input_tensor shape: (1, 64)\u001b[0m\n",
      "\u001b[32m2025-10-30 17:22:04.637\u001b[0m | \u001b[34m\u001b[1mDEBUG   \u001b[0m | \u001b[36mkmr.layers.HyperZZWOperator\u001b[0m:\u001b[36mcall\u001b[0m:\u001b[36m133\u001b[0m - \u001b[34m\u001b[1mHyperZZWOperator context_tensor shape: (1, 16)\u001b[0m\n",
      "\u001b[32m2025-10-30 17:22:04.640\u001b[0m | \u001b[34m\u001b[1mDEBUG   \u001b[0m | \u001b[36mkmr.layers.HyperZZWOperator\u001b[0m:\u001b[36mcall\u001b[0m:\u001b[36m153\u001b[0m - \u001b[34m\u001b[1mHyperZZWOperator output shape: (1, 64)\u001b[0m\n",
      "\u001b[32m2025-10-30 17:22:04.640\u001b[0m | \u001b[34m\u001b[1mDEBUG   \u001b[0m | \u001b[36mkmr.models.SFNEBlock\u001b[0m:\u001b[36mcall\u001b[0m:\u001b[36m192\u001b[0m - \u001b[34m\u001b[1mSFNEBlock context_weights shape: (1, 64)\u001b[0m\n",
      "\u001b[32m2025-10-30 17:22:04.641\u001b[0m | \u001b[34m\u001b[1mDEBUG   \u001b[0m | \u001b[36mkmr.models.SFNEBlock\u001b[0m:\u001b[36mcall\u001b[0m:\u001b[36m196\u001b[0m - \u001b[34m\u001b[1mSFNEBlock context_weights_expanded shape: (1, 64, 1)\u001b[0m\n",
      "\u001b[32m2025-10-30 17:22:04.645\u001b[0m | \u001b[34m\u001b[1mDEBUG   \u001b[0m | \u001b[36mkmr.models.SFNEBlock\u001b[0m:\u001b[36mcall\u001b[0m:\u001b[36m202\u001b[0m - \u001b[34m\u001b[1mSFNEBlock global_output shape: (1, 64, 16)\u001b[0m\n",
      "\u001b[32m2025-10-30 17:22:04.649\u001b[0m | \u001b[34m\u001b[1mDEBUG   \u001b[0m | \u001b[36mkmr.models.SFNEBlock\u001b[0m:\u001b[36mcall\u001b[0m:\u001b[36m206\u001b[0m - \u001b[34m\u001b[1mSFNEBlock local_output shape: (1, 64, 16)\u001b[0m\n",
      "\u001b[32m2025-10-30 17:22:04.650\u001b[0m | \u001b[34m\u001b[1mDEBUG   \u001b[0m | \u001b[36mkmr.models.SFNEBlock\u001b[0m:\u001b[36mcall\u001b[0m:\u001b[36m210\u001b[0m - \u001b[34m\u001b[1mSFNEBlock combined_output shape: (1, 64, 32)\u001b[0m\n",
      "\u001b[32m2025-10-30 17:22:04.651\u001b[0m | \u001b[34m\u001b[1mDEBUG   \u001b[0m | \u001b[36mkmr.models.SFNEBlock\u001b[0m:\u001b[36mcall\u001b[0m:\u001b[36m217\u001b[0m - \u001b[34m\u001b[1mSFNEBlock combined_output_flat shape: (1, 2048)\u001b[0m\n",
      "\u001b[32m2025-10-30 17:22:04.656\u001b[0m | \u001b[34m\u001b[1mDEBUG   \u001b[0m | \u001b[36mkmr.models.SFNEBlock\u001b[0m:\u001b[36mcall\u001b[0m:\u001b[36m223\u001b[0m - \u001b[34m\u001b[1mSFNEBlock bottleneck_output shape: (1, 16)\u001b[0m\n",
      "\u001b[32m2025-10-30 17:22:04.659\u001b[0m | \u001b[34m\u001b[1mDEBUG   \u001b[0m | \u001b[36mkmr.models.SFNEBlock\u001b[0m:\u001b[36mcall\u001b[0m:\u001b[36m227\u001b[0m - \u001b[34m\u001b[1mSFNEBlock output_layer output shape: (1, 16)\u001b[0m\n",
      "\u001b[32m2025-10-30 17:22:04.659\u001b[0m | \u001b[34m\u001b[1mDEBUG   \u001b[0m | \u001b[36mkmr.models.SFNEBlock\u001b[0m:\u001b[36mcall\u001b[0m:\u001b[36m176\u001b[0m - \u001b[34m\u001b[1mSFNEBlock input shape: (1, 16)\u001b[0m\n",
      "\u001b[32m2025-10-30 17:22:04.667\u001b[0m | \u001b[34m\u001b[1mDEBUG   \u001b[0m | \u001b[36mkmr.layers.SlowNetwork\u001b[0m:\u001b[36mcall\u001b[0m:\u001b[36m122\u001b[0m - \u001b[34m\u001b[1mSlowNetwork input shape: (1, 64)\u001b[0m\n",
      "\u001b[32m2025-10-30 17:22:04.670\u001b[0m | \u001b[34m\u001b[1mDEBUG   \u001b[0m | \u001b[36mkmr.layers.SlowNetwork\u001b[0m:\u001b[36mcall\u001b[0m:\u001b[36m126\u001b[0m - \u001b[34m\u001b[1mSlowNetwork layer 0 output shape: (1, 128)\u001b[0m\n",
      "\u001b[32m2025-10-30 17:22:04.672\u001b[0m | \u001b[34m\u001b[1mDEBUG   \u001b[0m | \u001b[36mkmr.layers.SlowNetwork\u001b[0m:\u001b[36mcall\u001b[0m:\u001b[36m126\u001b[0m - \u001b[34m\u001b[1mSlowNetwork layer 1 output shape: (1, 128)\u001b[0m\n",
      "\u001b[32m2025-10-30 17:22:04.675\u001b[0m | \u001b[34m\u001b[1mDEBUG   \u001b[0m | \u001b[36mkmr.layers.SlowNetwork\u001b[0m:\u001b[36mcall\u001b[0m:\u001b[36m126\u001b[0m - \u001b[34m\u001b[1mSlowNetwork layer 2 output shape: (1, 128)\u001b[0m\n",
      "\u001b[32m2025-10-30 17:22:04.677\u001b[0m | \u001b[34m\u001b[1mDEBUG   \u001b[0m | \u001b[36mkmr.layers.SlowNetwork\u001b[0m:\u001b[36mcall\u001b[0m:\u001b[36m129\u001b[0m - \u001b[34m\u001b[1mSlowNetwork output shape: (1, 16)\u001b[0m\n",
      "\u001b[32m2025-10-30 17:22:04.677\u001b[0m | \u001b[34m\u001b[1mDEBUG   \u001b[0m | \u001b[36mkmr.models.SFNEBlock\u001b[0m:\u001b[36mcall\u001b[0m:\u001b[36m188\u001b[0m - \u001b[34m\u001b[1mSFNEBlock hyper_kernels shape: (1, 16)\u001b[0m\n",
      "\u001b[32m2025-10-30 17:22:04.678\u001b[0m | \u001b[34m\u001b[1mDEBUG   \u001b[0m | \u001b[36mkmr.layers.HyperZZWOperator\u001b[0m:\u001b[36mcall\u001b[0m:\u001b[36m132\u001b[0m - \u001b[34m\u001b[1mHyperZZWOperator input_tensor shape: (1, 64)\u001b[0m\n",
      "\u001b[32m2025-10-30 17:22:04.678\u001b[0m | \u001b[34m\u001b[1mDEBUG   \u001b[0m | \u001b[36mkmr.layers.HyperZZWOperator\u001b[0m:\u001b[36mcall\u001b[0m:\u001b[36m133\u001b[0m - \u001b[34m\u001b[1mHyperZZWOperator context_tensor shape: (1, 16)\u001b[0m\n",
      "\u001b[32m2025-10-30 17:22:04.681\u001b[0m | \u001b[34m\u001b[1mDEBUG   \u001b[0m | \u001b[36mkmr.layers.HyperZZWOperator\u001b[0m:\u001b[36mcall\u001b[0m:\u001b[36m153\u001b[0m - \u001b[34m\u001b[1mHyperZZWOperator output shape: (1, 64)\u001b[0m\n",
      "\u001b[32m2025-10-30 17:22:04.681\u001b[0m | \u001b[34m\u001b[1mDEBUG   \u001b[0m | \u001b[36mkmr.models.SFNEBlock\u001b[0m:\u001b[36mcall\u001b[0m:\u001b[36m192\u001b[0m - \u001b[34m\u001b[1mSFNEBlock context_weights shape: (1, 64)\u001b[0m\n",
      "\u001b[32m2025-10-30 17:22:04.682\u001b[0m | \u001b[34m\u001b[1mDEBUG   \u001b[0m | \u001b[36mkmr.models.SFNEBlock\u001b[0m:\u001b[36mcall\u001b[0m:\u001b[36m196\u001b[0m - \u001b[34m\u001b[1mSFNEBlock context_weights_expanded shape: (1, 64, 1)\u001b[0m\n",
      "\u001b[32m2025-10-30 17:22:04.686\u001b[0m | \u001b[34m\u001b[1mDEBUG   \u001b[0m | \u001b[36mkmr.models.SFNEBlock\u001b[0m:\u001b[36mcall\u001b[0m:\u001b[36m202\u001b[0m - \u001b[34m\u001b[1mSFNEBlock global_output shape: (1, 64, 16)\u001b[0m\n",
      "\u001b[32m2025-10-30 17:22:04.690\u001b[0m | \u001b[34m\u001b[1mDEBUG   \u001b[0m | \u001b[36mkmr.models.SFNEBlock\u001b[0m:\u001b[36mcall\u001b[0m:\u001b[36m206\u001b[0m - \u001b[34m\u001b[1mSFNEBlock local_output shape: (1, 64, 16)\u001b[0m\n",
      "\u001b[32m2025-10-30 17:22:04.690\u001b[0m | \u001b[34m\u001b[1mDEBUG   \u001b[0m | \u001b[36mkmr.models.SFNEBlock\u001b[0m:\u001b[36mcall\u001b[0m:\u001b[36m210\u001b[0m - \u001b[34m\u001b[1mSFNEBlock combined_output shape: (1, 64, 32)\u001b[0m\n",
      "\u001b[32m2025-10-30 17:22:04.691\u001b[0m | \u001b[34m\u001b[1mDEBUG   \u001b[0m | \u001b[36mkmr.models.SFNEBlock\u001b[0m:\u001b[36mcall\u001b[0m:\u001b[36m217\u001b[0m - \u001b[34m\u001b[1mSFNEBlock combined_output_flat shape: (1, 2048)\u001b[0m\n",
      "\u001b[32m2025-10-30 17:22:04.694\u001b[0m | \u001b[34m\u001b[1mDEBUG   \u001b[0m | \u001b[36mkmr.models.SFNEBlock\u001b[0m:\u001b[36mcall\u001b[0m:\u001b[36m223\u001b[0m - \u001b[34m\u001b[1mSFNEBlock bottleneck_output shape: (1, 16)\u001b[0m\n",
      "\u001b[32m2025-10-30 17:22:04.696\u001b[0m | \u001b[34m\u001b[1mDEBUG   \u001b[0m | \u001b[36mkmr.models.SFNEBlock\u001b[0m:\u001b[36mcall\u001b[0m:\u001b[36m227\u001b[0m - \u001b[34m\u001b[1mSFNEBlock output_layer output shape: (1, 16)\u001b[0m\n",
      "\u001b[32m2025-10-30 17:22:04.696\u001b[0m | \u001b[34m\u001b[1mDEBUG   \u001b[0m | \u001b[36mkmr.models.TerminatorModel\u001b[0m:\u001b[36mcall\u001b[0m:\u001b[36m227\u001b[0m - \u001b[34m\u001b[1mTerminatorModel SFNEBlock 2 output shape: (1, 16)\u001b[0m\n",
      "\u001b[32m2025-10-30 17:22:04.700\u001b[0m | \u001b[34m\u001b[1mDEBUG   \u001b[0m | \u001b[36mkmr.models.TerminatorModel\u001b[0m:\u001b[36mcall\u001b[0m:\u001b[36m234\u001b[0m - \u001b[34m\u001b[1mTerminatorModel output_layer output shape: (1, 1)\u001b[0m\n",
      "\u001b[32m2025-10-30 17:22:04.724\u001b[0m | \u001b[34m\u001b[1mDEBUG   \u001b[0m | \u001b[36mkmr.models.TerminatorModel\u001b[0m:\u001b[36mcall\u001b[0m:\u001b[36m205\u001b[0m - \u001b[34m\u001b[1mTerminatorModel input shape: (1, 16), context shape: (1, 8)\u001b[0m\n",
      "\u001b[32m2025-10-30 17:22:04.725\u001b[0m | \u001b[34m\u001b[1mDEBUG   \u001b[0m | \u001b[36mkmr.models.TerminatorModel\u001b[0m:\u001b[36mcall\u001b[0m:\u001b[36m211\u001b[0m - \u001b[34m\u001b[1mTerminatorModel input_layer output shape: (1, 16)\u001b[0m\n",
      "\u001b[32m2025-10-30 17:22:04.725\u001b[0m | \u001b[34m\u001b[1mDEBUG   \u001b[0m | \u001b[36mkmr.layers.SlowNetwork\u001b[0m:\u001b[36mcall\u001b[0m:\u001b[36m122\u001b[0m - \u001b[34m\u001b[1mSlowNetwork input shape: (1, 8)\u001b[0m\n",
      "\u001b[32m2025-10-30 17:22:04.726\u001b[0m | \u001b[34m\u001b[1mDEBUG   \u001b[0m | \u001b[36mkmr.layers.SlowNetwork\u001b[0m:\u001b[36mcall\u001b[0m:\u001b[36m126\u001b[0m - \u001b[34m\u001b[1mSlowNetwork layer 0 output shape: (1, 128)\u001b[0m\n",
      "\u001b[32m2025-10-30 17:22:04.727\u001b[0m | \u001b[34m\u001b[1mDEBUG   \u001b[0m | \u001b[36mkmr.layers.SlowNetwork\u001b[0m:\u001b[36mcall\u001b[0m:\u001b[36m126\u001b[0m - \u001b[34m\u001b[1mSlowNetwork layer 1 output shape: (1, 128)\u001b[0m\n",
      "\u001b[32m2025-10-30 17:22:04.727\u001b[0m | \u001b[34m\u001b[1mDEBUG   \u001b[0m | \u001b[36mkmr.layers.SlowNetwork\u001b[0m:\u001b[36mcall\u001b[0m:\u001b[36m126\u001b[0m - \u001b[34m\u001b[1mSlowNetwork layer 2 output shape: (1, 128)\u001b[0m\n",
      "\u001b[32m2025-10-30 17:22:04.728\u001b[0m | \u001b[34m\u001b[1mDEBUG   \u001b[0m | \u001b[36mkmr.layers.SlowNetwork\u001b[0m:\u001b[36mcall\u001b[0m:\u001b[36m129\u001b[0m - \u001b[34m\u001b[1mSlowNetwork output shape: (1, 8)\u001b[0m\n",
      "\u001b[32m2025-10-30 17:22:04.728\u001b[0m | \u001b[34m\u001b[1mDEBUG   \u001b[0m | \u001b[36mkmr.models.TerminatorModel\u001b[0m:\u001b[36mcall\u001b[0m:\u001b[36m215\u001b[0m - \u001b[34m\u001b[1mTerminatorModel hyper_kernels shape: (1, 8)\u001b[0m\n",
      "\u001b[32m2025-10-30 17:22:04.728\u001b[0m | \u001b[34m\u001b[1mDEBUG   \u001b[0m | \u001b[36mkmr.layers.HyperZZWOperator\u001b[0m:\u001b[36mcall\u001b[0m:\u001b[36m132\u001b[0m - \u001b[34m\u001b[1mHyperZZWOperator input_tensor shape: (1, 16)\u001b[0m\n",
      "\u001b[32m2025-10-30 17:22:04.729\u001b[0m | \u001b[34m\u001b[1mDEBUG   \u001b[0m | \u001b[36mkmr.layers.HyperZZWOperator\u001b[0m:\u001b[36mcall\u001b[0m:\u001b[36m133\u001b[0m - \u001b[34m\u001b[1mHyperZZWOperator context_tensor shape: (1, 8)\u001b[0m\n",
      "\u001b[32m2025-10-30 17:22:04.729\u001b[0m | \u001b[34m\u001b[1mDEBUG   \u001b[0m | \u001b[36mkmr.layers.HyperZZWOperator\u001b[0m:\u001b[36mcall\u001b[0m:\u001b[36m153\u001b[0m - \u001b[34m\u001b[1mHyperZZWOperator output shape: (1, 16)\u001b[0m\n",
      "\u001b[32m2025-10-30 17:22:04.729\u001b[0m | \u001b[34m\u001b[1mDEBUG   \u001b[0m | \u001b[36mkmr.models.TerminatorModel\u001b[0m:\u001b[36mcall\u001b[0m:\u001b[36m219\u001b[0m - \u001b[34m\u001b[1mTerminatorModel context_weights shape: (1, 16)\u001b[0m\n",
      "\u001b[32m2025-10-30 17:22:04.730\u001b[0m | \u001b[34m\u001b[1mDEBUG   \u001b[0m | \u001b[36mkmr.models.SFNEBlock\u001b[0m:\u001b[36mcall\u001b[0m:\u001b[36m176\u001b[0m - \u001b[34m\u001b[1mSFNEBlock input shape: (1, 16)\u001b[0m\n",
      "\u001b[32m2025-10-30 17:22:04.731\u001b[0m | \u001b[34m\u001b[1mDEBUG   \u001b[0m | \u001b[36mkmr.layers.SlowNetwork\u001b[0m:\u001b[36mcall\u001b[0m:\u001b[36m122\u001b[0m - \u001b[34m\u001b[1mSlowNetwork input shape: (1, 64)\u001b[0m\n",
      "\u001b[32m2025-10-30 17:22:04.732\u001b[0m | \u001b[34m\u001b[1mDEBUG   \u001b[0m | \u001b[36mkmr.layers.SlowNetwork\u001b[0m:\u001b[36mcall\u001b[0m:\u001b[36m126\u001b[0m - \u001b[34m\u001b[1mSlowNetwork layer 0 output shape: (1, 128)\u001b[0m\n",
      "\u001b[32m2025-10-30 17:22:04.732\u001b[0m | \u001b[34m\u001b[1mDEBUG   \u001b[0m | \u001b[36mkmr.layers.SlowNetwork\u001b[0m:\u001b[36mcall\u001b[0m:\u001b[36m126\u001b[0m - \u001b[34m\u001b[1mSlowNetwork layer 1 output shape: (1, 128)\u001b[0m\n",
      "\u001b[32m2025-10-30 17:22:04.733\u001b[0m | \u001b[34m\u001b[1mDEBUG   \u001b[0m | \u001b[36mkmr.layers.SlowNetwork\u001b[0m:\u001b[36mcall\u001b[0m:\u001b[36m126\u001b[0m - \u001b[34m\u001b[1mSlowNetwork layer 2 output shape: (1, 128)\u001b[0m\n",
      "\u001b[32m2025-10-30 17:22:04.733\u001b[0m | \u001b[34m\u001b[1mDEBUG   \u001b[0m | \u001b[36mkmr.layers.SlowNetwork\u001b[0m:\u001b[36mcall\u001b[0m:\u001b[36m129\u001b[0m - \u001b[34m\u001b[1mSlowNetwork output shape: (1, 16)\u001b[0m\n",
      "\u001b[32m2025-10-30 17:22:04.734\u001b[0m | \u001b[34m\u001b[1mDEBUG   \u001b[0m | \u001b[36mkmr.models.SFNEBlock\u001b[0m:\u001b[36mcall\u001b[0m:\u001b[36m188\u001b[0m - \u001b[34m\u001b[1mSFNEBlock hyper_kernels shape: (1, 16)\u001b[0m\n",
      "\u001b[32m2025-10-30 17:22:04.734\u001b[0m | \u001b[34m\u001b[1mDEBUG   \u001b[0m | \u001b[36mkmr.layers.HyperZZWOperator\u001b[0m:\u001b[36mcall\u001b[0m:\u001b[36m132\u001b[0m - \u001b[34m\u001b[1mHyperZZWOperator input_tensor shape: (1, 64)\u001b[0m\n",
      "\u001b[32m2025-10-30 17:22:04.734\u001b[0m | \u001b[34m\u001b[1mDEBUG   \u001b[0m | \u001b[36mkmr.layers.HyperZZWOperator\u001b[0m:\u001b[36mcall\u001b[0m:\u001b[36m133\u001b[0m - \u001b[34m\u001b[1mHyperZZWOperator context_tensor shape: (1, 16)\u001b[0m\n",
      "\u001b[32m2025-10-30 17:22:04.734\u001b[0m | \u001b[34m\u001b[1mDEBUG   \u001b[0m | \u001b[36mkmr.layers.HyperZZWOperator\u001b[0m:\u001b[36mcall\u001b[0m:\u001b[36m153\u001b[0m - \u001b[34m\u001b[1mHyperZZWOperator output shape: (1, 64)\u001b[0m\n",
      "\u001b[32m2025-10-30 17:22:04.735\u001b[0m | \u001b[34m\u001b[1mDEBUG   \u001b[0m | \u001b[36mkmr.models.SFNEBlock\u001b[0m:\u001b[36mcall\u001b[0m:\u001b[36m192\u001b[0m - \u001b[34m\u001b[1mSFNEBlock context_weights shape: (1, 64)\u001b[0m\n",
      "\u001b[32m2025-10-30 17:22:04.735\u001b[0m | \u001b[34m\u001b[1mDEBUG   \u001b[0m | \u001b[36mkmr.models.SFNEBlock\u001b[0m:\u001b[36mcall\u001b[0m:\u001b[36m196\u001b[0m - \u001b[34m\u001b[1mSFNEBlock context_weights_expanded shape: (1, 64, 1)\u001b[0m\n",
      "\u001b[32m2025-10-30 17:22:04.737\u001b[0m | \u001b[34m\u001b[1mDEBUG   \u001b[0m | \u001b[36mkmr.models.SFNEBlock\u001b[0m:\u001b[36mcall\u001b[0m:\u001b[36m202\u001b[0m - \u001b[34m\u001b[1mSFNEBlock global_output shape: (1, 64, 16)\u001b[0m\n",
      "\u001b[32m2025-10-30 17:22:04.739\u001b[0m | \u001b[34m\u001b[1mDEBUG   \u001b[0m | \u001b[36mkmr.models.SFNEBlock\u001b[0m:\u001b[36mcall\u001b[0m:\u001b[36m206\u001b[0m - \u001b[34m\u001b[1mSFNEBlock local_output shape: (1, 64, 16)\u001b[0m\n",
      "\u001b[32m2025-10-30 17:22:04.739\u001b[0m | \u001b[34m\u001b[1mDEBUG   \u001b[0m | \u001b[36mkmr.models.SFNEBlock\u001b[0m:\u001b[36mcall\u001b[0m:\u001b[36m210\u001b[0m - \u001b[34m\u001b[1mSFNEBlock combined_output shape: (1, 64, 32)\u001b[0m\n",
      "\u001b[32m2025-10-30 17:22:04.739\u001b[0m | \u001b[34m\u001b[1mDEBUG   \u001b[0m | \u001b[36mkmr.models.SFNEBlock\u001b[0m:\u001b[36mcall\u001b[0m:\u001b[36m217\u001b[0m - \u001b[34m\u001b[1mSFNEBlock combined_output_flat shape: (1, 2048)\u001b[0m\n",
      "\u001b[32m2025-10-30 17:22:04.740\u001b[0m | \u001b[34m\u001b[1mDEBUG   \u001b[0m | \u001b[36mkmr.models.SFNEBlock\u001b[0m:\u001b[36mcall\u001b[0m:\u001b[36m223\u001b[0m - \u001b[34m\u001b[1mSFNEBlock bottleneck_output shape: (1, 16)\u001b[0m\n",
      "\u001b[32m2025-10-30 17:22:04.741\u001b[0m | \u001b[34m\u001b[1mDEBUG   \u001b[0m | \u001b[36mkmr.models.SFNEBlock\u001b[0m:\u001b[36mcall\u001b[0m:\u001b[36m227\u001b[0m - \u001b[34m\u001b[1mSFNEBlock output_layer output shape: (1, 16)\u001b[0m\n",
      "\u001b[32m2025-10-30 17:22:04.741\u001b[0m | \u001b[34m\u001b[1mDEBUG   \u001b[0m | \u001b[36mkmr.models.TerminatorModel\u001b[0m:\u001b[36mcall\u001b[0m:\u001b[36m227\u001b[0m - \u001b[34m\u001b[1mTerminatorModel SFNEBlock 0 output shape: (1, 16)\u001b[0m\n",
      "\u001b[32m2025-10-30 17:22:04.741\u001b[0m | \u001b[34m\u001b[1mDEBUG   \u001b[0m | \u001b[36mkmr.models.SFNEBlock\u001b[0m:\u001b[36mcall\u001b[0m:\u001b[36m176\u001b[0m - \u001b[34m\u001b[1mSFNEBlock input shape: (1, 16)\u001b[0m\n",
      "\u001b[32m2025-10-30 17:22:04.742\u001b[0m | \u001b[34m\u001b[1mDEBUG   \u001b[0m | \u001b[36mkmr.layers.SlowNetwork\u001b[0m:\u001b[36mcall\u001b[0m:\u001b[36m122\u001b[0m - \u001b[34m\u001b[1mSlowNetwork input shape: (1, 64)\u001b[0m\n",
      "\u001b[32m2025-10-30 17:22:04.743\u001b[0m | \u001b[34m\u001b[1mDEBUG   \u001b[0m | \u001b[36mkmr.layers.SlowNetwork\u001b[0m:\u001b[36mcall\u001b[0m:\u001b[36m126\u001b[0m - \u001b[34m\u001b[1mSlowNetwork layer 0 output shape: (1, 128)\u001b[0m\n",
      "\u001b[32m2025-10-30 17:22:04.744\u001b[0m | \u001b[34m\u001b[1mDEBUG   \u001b[0m | \u001b[36mkmr.layers.SlowNetwork\u001b[0m:\u001b[36mcall\u001b[0m:\u001b[36m126\u001b[0m - \u001b[34m\u001b[1mSlowNetwork layer 1 output shape: (1, 128)\u001b[0m\n",
      "\u001b[32m2025-10-30 17:22:04.744\u001b[0m | \u001b[34m\u001b[1mDEBUG   \u001b[0m | \u001b[36mkmr.layers.SlowNetwork\u001b[0m:\u001b[36mcall\u001b[0m:\u001b[36m126\u001b[0m - \u001b[34m\u001b[1mSlowNetwork layer 2 output shape: (1, 128)\u001b[0m\n",
      "\u001b[32m2025-10-30 17:22:04.745\u001b[0m | \u001b[34m\u001b[1mDEBUG   \u001b[0m | \u001b[36mkmr.layers.SlowNetwork\u001b[0m:\u001b[36mcall\u001b[0m:\u001b[36m129\u001b[0m - \u001b[34m\u001b[1mSlowNetwork output shape: (1, 16)\u001b[0m\n",
      "\u001b[32m2025-10-30 17:22:04.745\u001b[0m | \u001b[34m\u001b[1mDEBUG   \u001b[0m | \u001b[36mkmr.models.SFNEBlock\u001b[0m:\u001b[36mcall\u001b[0m:\u001b[36m188\u001b[0m - \u001b[34m\u001b[1mSFNEBlock hyper_kernels shape: (1, 16)\u001b[0m\n",
      "\u001b[32m2025-10-30 17:22:04.745\u001b[0m | \u001b[34m\u001b[1mDEBUG   \u001b[0m | \u001b[36mkmr.layers.HyperZZWOperator\u001b[0m:\u001b[36mcall\u001b[0m:\u001b[36m132\u001b[0m - \u001b[34m\u001b[1mHyperZZWOperator input_tensor shape: (1, 64)\u001b[0m\n",
      "\u001b[32m2025-10-30 17:22:04.745\u001b[0m | \u001b[34m\u001b[1mDEBUG   \u001b[0m | \u001b[36mkmr.layers.HyperZZWOperator\u001b[0m:\u001b[36mcall\u001b[0m:\u001b[36m133\u001b[0m - \u001b[34m\u001b[1mHyperZZWOperator context_tensor shape: (1, 16)\u001b[0m\n",
      "\u001b[32m2025-10-30 17:22:04.746\u001b[0m | \u001b[34m\u001b[1mDEBUG   \u001b[0m | \u001b[36mkmr.layers.HyperZZWOperator\u001b[0m:\u001b[36mcall\u001b[0m:\u001b[36m153\u001b[0m - \u001b[34m\u001b[1mHyperZZWOperator output shape: (1, 64)\u001b[0m\n",
      "\u001b[32m2025-10-30 17:22:04.746\u001b[0m | \u001b[34m\u001b[1mDEBUG   \u001b[0m | \u001b[36mkmr.models.SFNEBlock\u001b[0m:\u001b[36mcall\u001b[0m:\u001b[36m192\u001b[0m - \u001b[34m\u001b[1mSFNEBlock context_weights shape: (1, 64)\u001b[0m\n",
      "\u001b[32m2025-10-30 17:22:04.746\u001b[0m | \u001b[34m\u001b[1mDEBUG   \u001b[0m | \u001b[36mkmr.models.SFNEBlock\u001b[0m:\u001b[36mcall\u001b[0m:\u001b[36m196\u001b[0m - \u001b[34m\u001b[1mSFNEBlock context_weights_expanded shape: (1, 64, 1)\u001b[0m\n",
      "\u001b[32m2025-10-30 17:22:04.749\u001b[0m | \u001b[34m\u001b[1mDEBUG   \u001b[0m | \u001b[36mkmr.models.SFNEBlock\u001b[0m:\u001b[36mcall\u001b[0m:\u001b[36m202\u001b[0m - \u001b[34m\u001b[1mSFNEBlock global_output shape: (1, 64, 16)\u001b[0m\n",
      "\u001b[32m2025-10-30 17:22:04.750\u001b[0m | \u001b[34m\u001b[1mDEBUG   \u001b[0m | \u001b[36mkmr.models.SFNEBlock\u001b[0m:\u001b[36mcall\u001b[0m:\u001b[36m206\u001b[0m - \u001b[34m\u001b[1mSFNEBlock local_output shape: (1, 64, 16)\u001b[0m\n",
      "\u001b[32m2025-10-30 17:22:04.750\u001b[0m | \u001b[34m\u001b[1mDEBUG   \u001b[0m | \u001b[36mkmr.models.SFNEBlock\u001b[0m:\u001b[36mcall\u001b[0m:\u001b[36m210\u001b[0m - \u001b[34m\u001b[1mSFNEBlock combined_output shape: (1, 64, 32)\u001b[0m\n",
      "\u001b[32m2025-10-30 17:22:04.750\u001b[0m | \u001b[34m\u001b[1mDEBUG   \u001b[0m | \u001b[36mkmr.models.SFNEBlock\u001b[0m:\u001b[36mcall\u001b[0m:\u001b[36m217\u001b[0m - \u001b[34m\u001b[1mSFNEBlock combined_output_flat shape: (1, 2048)\u001b[0m\n",
      "\u001b[32m2025-10-30 17:22:04.751\u001b[0m | \u001b[34m\u001b[1mDEBUG   \u001b[0m | \u001b[36mkmr.models.SFNEBlock\u001b[0m:\u001b[36mcall\u001b[0m:\u001b[36m223\u001b[0m - \u001b[34m\u001b[1mSFNEBlock bottleneck_output shape: (1, 16)\u001b[0m\n",
      "\u001b[32m2025-10-30 17:22:04.751\u001b[0m | \u001b[34m\u001b[1mDEBUG   \u001b[0m | \u001b[36mkmr.models.SFNEBlock\u001b[0m:\u001b[36mcall\u001b[0m:\u001b[36m227\u001b[0m - \u001b[34m\u001b[1mSFNEBlock output_layer output shape: (1, 16)\u001b[0m\n",
      "\u001b[32m2025-10-30 17:22:04.752\u001b[0m | \u001b[34m\u001b[1mDEBUG   \u001b[0m | \u001b[36mkmr.models.TerminatorModel\u001b[0m:\u001b[36mcall\u001b[0m:\u001b[36m227\u001b[0m - \u001b[34m\u001b[1mTerminatorModel SFNEBlock 1 output shape: (1, 16)\u001b[0m\n",
      "\u001b[32m2025-10-30 17:22:04.752\u001b[0m | \u001b[34m\u001b[1mDEBUG   \u001b[0m | \u001b[36mkmr.models.SFNEBlock\u001b[0m:\u001b[36mcall\u001b[0m:\u001b[36m176\u001b[0m - \u001b[34m\u001b[1mSFNEBlock input shape: (1, 16)\u001b[0m\n",
      "\u001b[32m2025-10-30 17:22:04.753\u001b[0m | \u001b[34m\u001b[1mDEBUG   \u001b[0m | \u001b[36mkmr.layers.SlowNetwork\u001b[0m:\u001b[36mcall\u001b[0m:\u001b[36m122\u001b[0m - \u001b[34m\u001b[1mSlowNetwork input shape: (1, 64)\u001b[0m\n",
      "\u001b[32m2025-10-30 17:22:04.754\u001b[0m | \u001b[34m\u001b[1mDEBUG   \u001b[0m | \u001b[36mkmr.layers.SlowNetwork\u001b[0m:\u001b[36mcall\u001b[0m:\u001b[36m126\u001b[0m - \u001b[34m\u001b[1mSlowNetwork layer 0 output shape: (1, 128)\u001b[0m\n",
      "\u001b[32m2025-10-30 17:22:04.755\u001b[0m | \u001b[34m\u001b[1mDEBUG   \u001b[0m | \u001b[36mkmr.layers.SlowNetwork\u001b[0m:\u001b[36mcall\u001b[0m:\u001b[36m126\u001b[0m - \u001b[34m\u001b[1mSlowNetwork layer 1 output shape: (1, 128)\u001b[0m\n",
      "\u001b[32m2025-10-30 17:22:04.755\u001b[0m | \u001b[34m\u001b[1mDEBUG   \u001b[0m | \u001b[36mkmr.layers.SlowNetwork\u001b[0m:\u001b[36mcall\u001b[0m:\u001b[36m126\u001b[0m - \u001b[34m\u001b[1mSlowNetwork layer 2 output shape: (1, 128)\u001b[0m\n",
      "\u001b[32m2025-10-30 17:22:04.756\u001b[0m | \u001b[34m\u001b[1mDEBUG   \u001b[0m | \u001b[36mkmr.layers.SlowNetwork\u001b[0m:\u001b[36mcall\u001b[0m:\u001b[36m129\u001b[0m - \u001b[34m\u001b[1mSlowNetwork output shape: (1, 16)\u001b[0m\n",
      "\u001b[32m2025-10-30 17:22:04.756\u001b[0m | \u001b[34m\u001b[1mDEBUG   \u001b[0m | \u001b[36mkmr.models.SFNEBlock\u001b[0m:\u001b[36mcall\u001b[0m:\u001b[36m188\u001b[0m - \u001b[34m\u001b[1mSFNEBlock hyper_kernels shape: (1, 16)\u001b[0m\n",
      "\u001b[32m2025-10-30 17:22:04.756\u001b[0m | \u001b[34m\u001b[1mDEBUG   \u001b[0m | \u001b[36mkmr.layers.HyperZZWOperator\u001b[0m:\u001b[36mcall\u001b[0m:\u001b[36m132\u001b[0m - \u001b[34m\u001b[1mHyperZZWOperator input_tensor shape: (1, 64)\u001b[0m\n",
      "\u001b[32m2025-10-30 17:22:04.756\u001b[0m | \u001b[34m\u001b[1mDEBUG   \u001b[0m | \u001b[36mkmr.layers.HyperZZWOperator\u001b[0m:\u001b[36mcall\u001b[0m:\u001b[36m133\u001b[0m - \u001b[34m\u001b[1mHyperZZWOperator context_tensor shape: (1, 16)\u001b[0m\n",
      "\u001b[32m2025-10-30 17:22:04.757\u001b[0m | \u001b[34m\u001b[1mDEBUG   \u001b[0m | \u001b[36mkmr.layers.HyperZZWOperator\u001b[0m:\u001b[36mcall\u001b[0m:\u001b[36m153\u001b[0m - \u001b[34m\u001b[1mHyperZZWOperator output shape: (1, 64)\u001b[0m\n",
      "\u001b[32m2025-10-30 17:22:04.757\u001b[0m | \u001b[34m\u001b[1mDEBUG   \u001b[0m | \u001b[36mkmr.models.SFNEBlock\u001b[0m:\u001b[36mcall\u001b[0m:\u001b[36m192\u001b[0m - \u001b[34m\u001b[1mSFNEBlock context_weights shape: (1, 64)\u001b[0m\n",
      "\u001b[32m2025-10-30 17:22:04.757\u001b[0m | \u001b[34m\u001b[1mDEBUG   \u001b[0m | \u001b[36mkmr.models.SFNEBlock\u001b[0m:\u001b[36mcall\u001b[0m:\u001b[36m196\u001b[0m - \u001b[34m\u001b[1mSFNEBlock context_weights_expanded shape: (1, 64, 1)\u001b[0m\n",
      "\u001b[32m2025-10-30 17:22:04.758\u001b[0m | \u001b[34m\u001b[1mDEBUG   \u001b[0m | \u001b[36mkmr.models.SFNEBlock\u001b[0m:\u001b[36mcall\u001b[0m:\u001b[36m202\u001b[0m - \u001b[34m\u001b[1mSFNEBlock global_output shape: (1, 64, 16)\u001b[0m\n",
      "\u001b[32m2025-10-30 17:22:04.760\u001b[0m | \u001b[34m\u001b[1mDEBUG   \u001b[0m | \u001b[36mkmr.models.SFNEBlock\u001b[0m:\u001b[36mcall\u001b[0m:\u001b[36m206\u001b[0m - \u001b[34m\u001b[1mSFNEBlock local_output shape: (1, 64, 16)\u001b[0m\n",
      "\u001b[32m2025-10-30 17:22:04.760\u001b[0m | \u001b[34m\u001b[1mDEBUG   \u001b[0m | \u001b[36mkmr.models.SFNEBlock\u001b[0m:\u001b[36mcall\u001b[0m:\u001b[36m210\u001b[0m - \u001b[34m\u001b[1mSFNEBlock combined_output shape: (1, 64, 32)\u001b[0m\n",
      "\u001b[32m2025-10-30 17:22:04.760\u001b[0m | \u001b[34m\u001b[1mDEBUG   \u001b[0m | \u001b[36mkmr.models.SFNEBlock\u001b[0m:\u001b[36mcall\u001b[0m:\u001b[36m217\u001b[0m - \u001b[34m\u001b[1mSFNEBlock combined_output_flat shape: (1, 2048)\u001b[0m\n",
      "\u001b[32m2025-10-30 17:22:04.761\u001b[0m | \u001b[34m\u001b[1mDEBUG   \u001b[0m | \u001b[36mkmr.models.SFNEBlock\u001b[0m:\u001b[36mcall\u001b[0m:\u001b[36m223\u001b[0m - \u001b[34m\u001b[1mSFNEBlock bottleneck_output shape: (1, 16)\u001b[0m\n",
      "\u001b[32m2025-10-30 17:22:04.761\u001b[0m | \u001b[34m\u001b[1mDEBUG   \u001b[0m | \u001b[36mkmr.models.SFNEBlock\u001b[0m:\u001b[36mcall\u001b[0m:\u001b[36m227\u001b[0m - \u001b[34m\u001b[1mSFNEBlock output_layer output shape: (1, 16)\u001b[0m\n",
      "\u001b[32m2025-10-30 17:22:04.762\u001b[0m | \u001b[34m\u001b[1mDEBUG   \u001b[0m | \u001b[36mkmr.models.TerminatorModel\u001b[0m:\u001b[36mcall\u001b[0m:\u001b[36m227\u001b[0m - \u001b[34m\u001b[1mTerminatorModel SFNEBlock 2 output shape: (1, 16)\u001b[0m\n",
      "\u001b[32m2025-10-30 17:22:04.763\u001b[0m | \u001b[34m\u001b[1mDEBUG   \u001b[0m | \u001b[36mkmr.models.TerminatorModel\u001b[0m:\u001b[36mcall\u001b[0m:\u001b[36m234\u001b[0m - \u001b[34m\u001b[1mTerminatorModel output_layer output shape: (1, 1)\u001b[0m\n",
      "\u001b[32m2025-10-30 17:22:04.763\u001b[0m | \u001b[1mINFO    \u001b[0m | \u001b[36mkmr.models._base\u001b[0m:\u001b[36m_auto_fit_preprocessing_model\u001b[0m:\u001b[36m341\u001b[0m - \u001b[1mAuto-fitting preprocessing model with training data...\u001b[0m\n",
      "\u001b[32m2025-10-30 17:22:04.763\u001b[0m | \u001b[1mINFO    \u001b[0m | \u001b[36mkmr.models._base\u001b[0m:\u001b[36m_auto_fit_preprocessing_model\u001b[0m:\u001b[36m358\u001b[0m - \u001b[1mBuilt Keras preprocessing model detected - no fitting needed\u001b[0m\n",
      "\u001b[32m2025-10-30 17:22:04.764\u001b[0m | \u001b[1mINFO    \u001b[0m | \u001b[36mkmr.models._base\u001b[0m:\u001b[36m_auto_fit_preprocessing_model\u001b[0m:\u001b[36m393\u001b[0m - \u001b[1mPreprocessing model auto-fitting completed\u001b[0m\n"
     ]
    },
    {
     "name": "stdout",
     "output_type": "stream",
     "text": [
      "Model with preprocessing test output shape: (1, 1)\n",
      "Training with list inputs...\n",
      "Epoch 1/30\n"
     ]
    },
    {
     "name": "stderr",
     "output_type": "stream",
     "text": [
      "/Users/piotrlaczkowski/Library/Caches/pypoetry/virtualenvs/kmr-S1SSCx8j-py3.12/lib/python3.12/site-packages/keras/src/models/functional.py:237: UserWarning:\n",
      "\n",
      "The structure of `inputs` doesn't match the expected structure.\n",
      "Expected: {'input_0': 'input_0', 'input_1': 'input_1'}\n",
      "Received: inputs=['Tensor(shape=(None, 16))', 'Tensor(shape=(None, 8))']\n",
      "\n",
      "\u001b[32m2025-10-30 17:22:04.808\u001b[0m | \u001b[34m\u001b[1mDEBUG   \u001b[0m | \u001b[36mkmr.models.TerminatorModel\u001b[0m:\u001b[36mcall\u001b[0m:\u001b[36m205\u001b[0m - \u001b[34m\u001b[1mTerminatorModel input shape: (None, 16), context shape: (None, 8)\u001b[0m\n",
      "\u001b[32m2025-10-30 17:22:04.810\u001b[0m | \u001b[34m\u001b[1mDEBUG   \u001b[0m | \u001b[36mkmr.models.TerminatorModel\u001b[0m:\u001b[36mcall\u001b[0m:\u001b[36m211\u001b[0m - \u001b[34m\u001b[1mTerminatorModel input_layer output shape: (None, 16)\u001b[0m\n",
      "\u001b[32m2025-10-30 17:22:04.810\u001b[0m | \u001b[34m\u001b[1mDEBUG   \u001b[0m | \u001b[36mkmr.layers.SlowNetwork\u001b[0m:\u001b[36mcall\u001b[0m:\u001b[36m122\u001b[0m - \u001b[34m\u001b[1mSlowNetwork input shape: (None, 8)\u001b[0m\n",
      "\u001b[32m2025-10-30 17:22:04.812\u001b[0m | \u001b[34m\u001b[1mDEBUG   \u001b[0m | \u001b[36mkmr.layers.SlowNetwork\u001b[0m:\u001b[36mcall\u001b[0m:\u001b[36m126\u001b[0m - \u001b[34m\u001b[1mSlowNetwork layer 0 output shape: (None, 128)\u001b[0m\n",
      "\u001b[32m2025-10-30 17:22:04.814\u001b[0m | \u001b[34m\u001b[1mDEBUG   \u001b[0m | \u001b[36mkmr.layers.SlowNetwork\u001b[0m:\u001b[36mcall\u001b[0m:\u001b[36m126\u001b[0m - \u001b[34m\u001b[1mSlowNetwork layer 1 output shape: (None, 128)\u001b[0m\n",
      "\u001b[32m2025-10-30 17:22:04.816\u001b[0m | \u001b[34m\u001b[1mDEBUG   \u001b[0m | \u001b[36mkmr.layers.SlowNetwork\u001b[0m:\u001b[36mcall\u001b[0m:\u001b[36m126\u001b[0m - \u001b[34m\u001b[1mSlowNetwork layer 2 output shape: (None, 128)\u001b[0m\n",
      "\u001b[32m2025-10-30 17:22:04.818\u001b[0m | \u001b[34m\u001b[1mDEBUG   \u001b[0m | \u001b[36mkmr.layers.SlowNetwork\u001b[0m:\u001b[36mcall\u001b[0m:\u001b[36m129\u001b[0m - \u001b[34m\u001b[1mSlowNetwork output shape: (None, 8)\u001b[0m\n",
      "\u001b[32m2025-10-30 17:22:04.818\u001b[0m | \u001b[34m\u001b[1mDEBUG   \u001b[0m | \u001b[36mkmr.models.TerminatorModel\u001b[0m:\u001b[36mcall\u001b[0m:\u001b[36m215\u001b[0m - \u001b[34m\u001b[1mTerminatorModel hyper_kernels shape: (None, 8)\u001b[0m\n",
      "\u001b[32m2025-10-30 17:22:04.818\u001b[0m | \u001b[34m\u001b[1mDEBUG   \u001b[0m | \u001b[36mkmr.layers.HyperZZWOperator\u001b[0m:\u001b[36mcall\u001b[0m:\u001b[36m132\u001b[0m - \u001b[34m\u001b[1mHyperZZWOperator input_tensor shape: (None, 16)\u001b[0m\n",
      "\u001b[32m2025-10-30 17:22:04.818\u001b[0m | \u001b[34m\u001b[1mDEBUG   \u001b[0m | \u001b[36mkmr.layers.HyperZZWOperator\u001b[0m:\u001b[36mcall\u001b[0m:\u001b[36m133\u001b[0m - \u001b[34m\u001b[1mHyperZZWOperator context_tensor shape: (None, 8)\u001b[0m\n",
      "\u001b[32m2025-10-30 17:22:04.820\u001b[0m | \u001b[34m\u001b[1mDEBUG   \u001b[0m | \u001b[36mkmr.layers.HyperZZWOperator\u001b[0m:\u001b[36mcall\u001b[0m:\u001b[36m153\u001b[0m - \u001b[34m\u001b[1mHyperZZWOperator output shape: (None, 16)\u001b[0m\n",
      "\u001b[32m2025-10-30 17:22:04.820\u001b[0m | \u001b[34m\u001b[1mDEBUG   \u001b[0m | \u001b[36mkmr.models.TerminatorModel\u001b[0m:\u001b[36mcall\u001b[0m:\u001b[36m219\u001b[0m - \u001b[34m\u001b[1mTerminatorModel context_weights shape: (None, 16)\u001b[0m\n",
      "\u001b[32m2025-10-30 17:22:04.823\u001b[0m | \u001b[34m\u001b[1mDEBUG   \u001b[0m | \u001b[36mkmr.models.SFNEBlock\u001b[0m:\u001b[36mcall\u001b[0m:\u001b[36m176\u001b[0m - \u001b[34m\u001b[1mSFNEBlock input shape: (None, 16)\u001b[0m\n",
      "\u001b[32m2025-10-30 17:22:04.828\u001b[0m | \u001b[34m\u001b[1mDEBUG   \u001b[0m | \u001b[36mkmr.layers.SlowNetwork\u001b[0m:\u001b[36mcall\u001b[0m:\u001b[36m122\u001b[0m - \u001b[34m\u001b[1mSlowNetwork input shape: (None, 64)\u001b[0m\n",
      "\u001b[32m2025-10-30 17:22:04.830\u001b[0m | \u001b[34m\u001b[1mDEBUG   \u001b[0m | \u001b[36mkmr.layers.SlowNetwork\u001b[0m:\u001b[36mcall\u001b[0m:\u001b[36m126\u001b[0m - \u001b[34m\u001b[1mSlowNetwork layer 0 output shape: (None, 128)\u001b[0m\n",
      "\u001b[32m2025-10-30 17:22:04.832\u001b[0m | \u001b[34m\u001b[1mDEBUG   \u001b[0m | \u001b[36mkmr.layers.SlowNetwork\u001b[0m:\u001b[36mcall\u001b[0m:\u001b[36m126\u001b[0m - \u001b[34m\u001b[1mSlowNetwork layer 1 output shape: (None, 128)\u001b[0m\n",
      "\u001b[32m2025-10-30 17:22:04.834\u001b[0m | \u001b[34m\u001b[1mDEBUG   \u001b[0m | \u001b[36mkmr.layers.SlowNetwork\u001b[0m:\u001b[36mcall\u001b[0m:\u001b[36m126\u001b[0m - \u001b[34m\u001b[1mSlowNetwork layer 2 output shape: (None, 128)\u001b[0m\n",
      "\u001b[32m2025-10-30 17:22:04.836\u001b[0m | \u001b[34m\u001b[1mDEBUG   \u001b[0m | \u001b[36mkmr.layers.SlowNetwork\u001b[0m:\u001b[36mcall\u001b[0m:\u001b[36m129\u001b[0m - \u001b[34m\u001b[1mSlowNetwork output shape: (None, 16)\u001b[0m\n",
      "\u001b[32m2025-10-30 17:22:04.836\u001b[0m | \u001b[34m\u001b[1mDEBUG   \u001b[0m | \u001b[36mkmr.models.SFNEBlock\u001b[0m:\u001b[36mcall\u001b[0m:\u001b[36m188\u001b[0m - \u001b[34m\u001b[1mSFNEBlock hyper_kernels shape: (None, 16)\u001b[0m\n",
      "\u001b[32m2025-10-30 17:22:04.837\u001b[0m | \u001b[34m\u001b[1mDEBUG   \u001b[0m | \u001b[36mkmr.layers.HyperZZWOperator\u001b[0m:\u001b[36mcall\u001b[0m:\u001b[36m132\u001b[0m - \u001b[34m\u001b[1mHyperZZWOperator input_tensor shape: (None, 64)\u001b[0m\n",
      "\u001b[32m2025-10-30 17:22:04.837\u001b[0m | \u001b[34m\u001b[1mDEBUG   \u001b[0m | \u001b[36mkmr.layers.HyperZZWOperator\u001b[0m:\u001b[36mcall\u001b[0m:\u001b[36m133\u001b[0m - \u001b[34m\u001b[1mHyperZZWOperator context_tensor shape: (None, 16)\u001b[0m\n",
      "\u001b[32m2025-10-30 17:22:04.839\u001b[0m | \u001b[34m\u001b[1mDEBUG   \u001b[0m | \u001b[36mkmr.layers.HyperZZWOperator\u001b[0m:\u001b[36mcall\u001b[0m:\u001b[36m153\u001b[0m - \u001b[34m\u001b[1mHyperZZWOperator output shape: (None, 64)\u001b[0m\n",
      "\u001b[32m2025-10-30 17:22:04.839\u001b[0m | \u001b[34m\u001b[1mDEBUG   \u001b[0m | \u001b[36mkmr.models.SFNEBlock\u001b[0m:\u001b[36mcall\u001b[0m:\u001b[36m192\u001b[0m - \u001b[34m\u001b[1mSFNEBlock context_weights shape: (None, 64)\u001b[0m\n",
      "\u001b[32m2025-10-30 17:22:04.840\u001b[0m | \u001b[34m\u001b[1mDEBUG   \u001b[0m | \u001b[36mkmr.models.SFNEBlock\u001b[0m:\u001b[36mcall\u001b[0m:\u001b[36m196\u001b[0m - \u001b[34m\u001b[1mSFNEBlock context_weights_expanded shape: (None, 64, 1)\u001b[0m\n",
      "\u001b[32m2025-10-30 17:22:04.843\u001b[0m | \u001b[34m\u001b[1mDEBUG   \u001b[0m | \u001b[36mkmr.models.SFNEBlock\u001b[0m:\u001b[36mcall\u001b[0m:\u001b[36m202\u001b[0m - \u001b[34m\u001b[1mSFNEBlock global_output shape: (None, 64, 16)\u001b[0m\n",
      "\u001b[32m2025-10-30 17:22:04.848\u001b[0m | \u001b[34m\u001b[1mDEBUG   \u001b[0m | \u001b[36mkmr.models.SFNEBlock\u001b[0m:\u001b[36mcall\u001b[0m:\u001b[36m206\u001b[0m - \u001b[34m\u001b[1mSFNEBlock local_output shape: (None, 64, 16)\u001b[0m\n",
      "\u001b[32m2025-10-30 17:22:04.849\u001b[0m | \u001b[34m\u001b[1mDEBUG   \u001b[0m | \u001b[36mkmr.models.SFNEBlock\u001b[0m:\u001b[36mcall\u001b[0m:\u001b[36m210\u001b[0m - \u001b[34m\u001b[1mSFNEBlock combined_output shape: (None, 64, 32)\u001b[0m\n",
      "\u001b[32m2025-10-30 17:22:04.850\u001b[0m | \u001b[34m\u001b[1mDEBUG   \u001b[0m | \u001b[36mkmr.models.SFNEBlock\u001b[0m:\u001b[36mcall\u001b[0m:\u001b[36m217\u001b[0m - \u001b[34m\u001b[1mSFNEBlock combined_output_flat shape: (None, 2048)\u001b[0m\n",
      "\u001b[32m2025-10-30 17:22:04.853\u001b[0m | \u001b[34m\u001b[1mDEBUG   \u001b[0m | \u001b[36mkmr.models.SFNEBlock\u001b[0m:\u001b[36mcall\u001b[0m:\u001b[36m223\u001b[0m - \u001b[34m\u001b[1mSFNEBlock bottleneck_output shape: (None, 16)\u001b[0m\n",
      "\u001b[32m2025-10-30 17:22:04.856\u001b[0m | \u001b[34m\u001b[1mDEBUG   \u001b[0m | \u001b[36mkmr.models.SFNEBlock\u001b[0m:\u001b[36mcall\u001b[0m:\u001b[36m227\u001b[0m - \u001b[34m\u001b[1mSFNEBlock output_layer output shape: (None, 16)\u001b[0m\n",
      "\u001b[32m2025-10-30 17:22:04.856\u001b[0m | \u001b[34m\u001b[1mDEBUG   \u001b[0m | \u001b[36mkmr.models.TerminatorModel\u001b[0m:\u001b[36mcall\u001b[0m:\u001b[36m227\u001b[0m - \u001b[34m\u001b[1mTerminatorModel SFNEBlock 0 output shape: (None, 16)\u001b[0m\n",
      "\u001b[32m2025-10-30 17:22:04.856\u001b[0m | \u001b[34m\u001b[1mDEBUG   \u001b[0m | \u001b[36mkmr.models.SFNEBlock\u001b[0m:\u001b[36mcall\u001b[0m:\u001b[36m176\u001b[0m - \u001b[34m\u001b[1mSFNEBlock input shape: (None, 16)\u001b[0m\n",
      "\u001b[32m2025-10-30 17:22:04.861\u001b[0m | \u001b[34m\u001b[1mDEBUG   \u001b[0m | \u001b[36mkmr.layers.SlowNetwork\u001b[0m:\u001b[36mcall\u001b[0m:\u001b[36m122\u001b[0m - \u001b[34m\u001b[1mSlowNetwork input shape: (None, 64)\u001b[0m\n",
      "\u001b[32m2025-10-30 17:22:04.863\u001b[0m | \u001b[34m\u001b[1mDEBUG   \u001b[0m | \u001b[36mkmr.layers.SlowNetwork\u001b[0m:\u001b[36mcall\u001b[0m:\u001b[36m126\u001b[0m - \u001b[34m\u001b[1mSlowNetwork layer 0 output shape: (None, 128)\u001b[0m\n",
      "\u001b[32m2025-10-30 17:22:04.866\u001b[0m | \u001b[34m\u001b[1mDEBUG   \u001b[0m | \u001b[36mkmr.layers.SlowNetwork\u001b[0m:\u001b[36mcall\u001b[0m:\u001b[36m126\u001b[0m - \u001b[34m\u001b[1mSlowNetwork layer 1 output shape: (None, 128)\u001b[0m\n",
      "\u001b[32m2025-10-30 17:22:04.868\u001b[0m | \u001b[34m\u001b[1mDEBUG   \u001b[0m | \u001b[36mkmr.layers.SlowNetwork\u001b[0m:\u001b[36mcall\u001b[0m:\u001b[36m126\u001b[0m - \u001b[34m\u001b[1mSlowNetwork layer 2 output shape: (None, 128)\u001b[0m\n",
      "\u001b[32m2025-10-30 17:22:04.869\u001b[0m | \u001b[34m\u001b[1mDEBUG   \u001b[0m | \u001b[36mkmr.layers.SlowNetwork\u001b[0m:\u001b[36mcall\u001b[0m:\u001b[36m129\u001b[0m - \u001b[34m\u001b[1mSlowNetwork output shape: (None, 16)\u001b[0m\n",
      "\u001b[32m2025-10-30 17:22:04.870\u001b[0m | \u001b[34m\u001b[1mDEBUG   \u001b[0m | \u001b[36mkmr.models.SFNEBlock\u001b[0m:\u001b[36mcall\u001b[0m:\u001b[36m188\u001b[0m - \u001b[34m\u001b[1mSFNEBlock hyper_kernels shape: (None, 16)\u001b[0m\n",
      "\u001b[32m2025-10-30 17:22:04.870\u001b[0m | \u001b[34m\u001b[1mDEBUG   \u001b[0m | \u001b[36mkmr.layers.HyperZZWOperator\u001b[0m:\u001b[36mcall\u001b[0m:\u001b[36m132\u001b[0m - \u001b[34m\u001b[1mHyperZZWOperator input_tensor shape: (None, 64)\u001b[0m\n",
      "\u001b[32m2025-10-30 17:22:04.870\u001b[0m | \u001b[34m\u001b[1mDEBUG   \u001b[0m | \u001b[36mkmr.layers.HyperZZWOperator\u001b[0m:\u001b[36mcall\u001b[0m:\u001b[36m133\u001b[0m - \u001b[34m\u001b[1mHyperZZWOperator context_tensor shape: (None, 16)\u001b[0m\n",
      "\u001b[32m2025-10-30 17:22:04.871\u001b[0m | \u001b[34m\u001b[1mDEBUG   \u001b[0m | \u001b[36mkmr.layers.HyperZZWOperator\u001b[0m:\u001b[36mcall\u001b[0m:\u001b[36m153\u001b[0m - \u001b[34m\u001b[1mHyperZZWOperator output shape: (None, 64)\u001b[0m\n",
      "\u001b[32m2025-10-30 17:22:04.872\u001b[0m | \u001b[34m\u001b[1mDEBUG   \u001b[0m | \u001b[36mkmr.models.SFNEBlock\u001b[0m:\u001b[36mcall\u001b[0m:\u001b[36m192\u001b[0m - \u001b[34m\u001b[1mSFNEBlock context_weights shape: (None, 64)\u001b[0m\n",
      "\u001b[32m2025-10-30 17:22:04.872\u001b[0m | \u001b[34m\u001b[1mDEBUG   \u001b[0m | \u001b[36mkmr.models.SFNEBlock\u001b[0m:\u001b[36mcall\u001b[0m:\u001b[36m196\u001b[0m - \u001b[34m\u001b[1mSFNEBlock context_weights_expanded shape: (None, 64, 1)\u001b[0m\n",
      "\u001b[32m2025-10-30 17:22:04.876\u001b[0m | \u001b[34m\u001b[1mDEBUG   \u001b[0m | \u001b[36mkmr.models.SFNEBlock\u001b[0m:\u001b[36mcall\u001b[0m:\u001b[36m202\u001b[0m - \u001b[34m\u001b[1mSFNEBlock global_output shape: (None, 64, 16)\u001b[0m\n",
      "\u001b[32m2025-10-30 17:22:04.880\u001b[0m | \u001b[34m\u001b[1mDEBUG   \u001b[0m | \u001b[36mkmr.models.SFNEBlock\u001b[0m:\u001b[36mcall\u001b[0m:\u001b[36m206\u001b[0m - \u001b[34m\u001b[1mSFNEBlock local_output shape: (None, 64, 16)\u001b[0m\n",
      "\u001b[32m2025-10-30 17:22:04.881\u001b[0m | \u001b[34m\u001b[1mDEBUG   \u001b[0m | \u001b[36mkmr.models.SFNEBlock\u001b[0m:\u001b[36mcall\u001b[0m:\u001b[36m210\u001b[0m - \u001b[34m\u001b[1mSFNEBlock combined_output shape: (None, 64, 32)\u001b[0m\n",
      "\u001b[32m2025-10-30 17:22:04.882\u001b[0m | \u001b[34m\u001b[1mDEBUG   \u001b[0m | \u001b[36mkmr.models.SFNEBlock\u001b[0m:\u001b[36mcall\u001b[0m:\u001b[36m217\u001b[0m - \u001b[34m\u001b[1mSFNEBlock combined_output_flat shape: (None, 2048)\u001b[0m\n",
      "\u001b[32m2025-10-30 17:22:04.884\u001b[0m | \u001b[34m\u001b[1mDEBUG   \u001b[0m | \u001b[36mkmr.models.SFNEBlock\u001b[0m:\u001b[36mcall\u001b[0m:\u001b[36m223\u001b[0m - \u001b[34m\u001b[1mSFNEBlock bottleneck_output shape: (None, 16)\u001b[0m\n",
      "\u001b[32m2025-10-30 17:22:04.886\u001b[0m | \u001b[34m\u001b[1mDEBUG   \u001b[0m | \u001b[36mkmr.models.SFNEBlock\u001b[0m:\u001b[36mcall\u001b[0m:\u001b[36m227\u001b[0m - \u001b[34m\u001b[1mSFNEBlock output_layer output shape: (None, 16)\u001b[0m\n",
      "\u001b[32m2025-10-30 17:22:04.886\u001b[0m | \u001b[34m\u001b[1mDEBUG   \u001b[0m | \u001b[36mkmr.models.TerminatorModel\u001b[0m:\u001b[36mcall\u001b[0m:\u001b[36m227\u001b[0m - \u001b[34m\u001b[1mTerminatorModel SFNEBlock 1 output shape: (None, 16)\u001b[0m\n",
      "\u001b[32m2025-10-30 17:22:04.887\u001b[0m | \u001b[34m\u001b[1mDEBUG   \u001b[0m | \u001b[36mkmr.models.SFNEBlock\u001b[0m:\u001b[36mcall\u001b[0m:\u001b[36m176\u001b[0m - \u001b[34m\u001b[1mSFNEBlock input shape: (None, 16)\u001b[0m\n",
      "\u001b[32m2025-10-30 17:22:04.892\u001b[0m | \u001b[34m\u001b[1mDEBUG   \u001b[0m | \u001b[36mkmr.layers.SlowNetwork\u001b[0m:\u001b[36mcall\u001b[0m:\u001b[36m122\u001b[0m - \u001b[34m\u001b[1mSlowNetwork input shape: (None, 64)\u001b[0m\n",
      "\u001b[32m2025-10-30 17:22:04.894\u001b[0m | \u001b[34m\u001b[1mDEBUG   \u001b[0m | \u001b[36mkmr.layers.SlowNetwork\u001b[0m:\u001b[36mcall\u001b[0m:\u001b[36m126\u001b[0m - \u001b[34m\u001b[1mSlowNetwork layer 0 output shape: (None, 128)\u001b[0m\n",
      "\u001b[32m2025-10-30 17:22:04.897\u001b[0m | \u001b[34m\u001b[1mDEBUG   \u001b[0m | \u001b[36mkmr.layers.SlowNetwork\u001b[0m:\u001b[36mcall\u001b[0m:\u001b[36m126\u001b[0m - \u001b[34m\u001b[1mSlowNetwork layer 1 output shape: (None, 128)\u001b[0m\n",
      "\u001b[32m2025-10-30 17:22:04.899\u001b[0m | \u001b[34m\u001b[1mDEBUG   \u001b[0m | \u001b[36mkmr.layers.SlowNetwork\u001b[0m:\u001b[36mcall\u001b[0m:\u001b[36m126\u001b[0m - \u001b[34m\u001b[1mSlowNetwork layer 2 output shape: (None, 128)\u001b[0m\n",
      "\u001b[32m2025-10-30 17:22:04.900\u001b[0m | \u001b[34m\u001b[1mDEBUG   \u001b[0m | \u001b[36mkmr.layers.SlowNetwork\u001b[0m:\u001b[36mcall\u001b[0m:\u001b[36m129\u001b[0m - \u001b[34m\u001b[1mSlowNetwork output shape: (None, 16)\u001b[0m\n",
      "\u001b[32m2025-10-30 17:22:04.901\u001b[0m | \u001b[34m\u001b[1mDEBUG   \u001b[0m | \u001b[36mkmr.models.SFNEBlock\u001b[0m:\u001b[36mcall\u001b[0m:\u001b[36m188\u001b[0m - \u001b[34m\u001b[1mSFNEBlock hyper_kernels shape: (None, 16)\u001b[0m\n",
      "\u001b[32m2025-10-30 17:22:04.901\u001b[0m | \u001b[34m\u001b[1mDEBUG   \u001b[0m | \u001b[36mkmr.layers.HyperZZWOperator\u001b[0m:\u001b[36mcall\u001b[0m:\u001b[36m132\u001b[0m - \u001b[34m\u001b[1mHyperZZWOperator input_tensor shape: (None, 64)\u001b[0m\n",
      "\u001b[32m2025-10-30 17:22:04.901\u001b[0m | \u001b[34m\u001b[1mDEBUG   \u001b[0m | \u001b[36mkmr.layers.HyperZZWOperator\u001b[0m:\u001b[36mcall\u001b[0m:\u001b[36m133\u001b[0m - \u001b[34m\u001b[1mHyperZZWOperator context_tensor shape: (None, 16)\u001b[0m\n",
      "\u001b[32m2025-10-30 17:22:04.902\u001b[0m | \u001b[34m\u001b[1mDEBUG   \u001b[0m | \u001b[36mkmr.layers.HyperZZWOperator\u001b[0m:\u001b[36mcall\u001b[0m:\u001b[36m153\u001b[0m - \u001b[34m\u001b[1mHyperZZWOperator output shape: (None, 64)\u001b[0m\n",
      "\u001b[32m2025-10-30 17:22:04.902\u001b[0m | \u001b[34m\u001b[1mDEBUG   \u001b[0m | \u001b[36mkmr.models.SFNEBlock\u001b[0m:\u001b[36mcall\u001b[0m:\u001b[36m192\u001b[0m - \u001b[34m\u001b[1mSFNEBlock context_weights shape: (None, 64)\u001b[0m\n",
      "\u001b[32m2025-10-30 17:22:04.903\u001b[0m | \u001b[34m\u001b[1mDEBUG   \u001b[0m | \u001b[36mkmr.models.SFNEBlock\u001b[0m:\u001b[36mcall\u001b[0m:\u001b[36m196\u001b[0m - \u001b[34m\u001b[1mSFNEBlock context_weights_expanded shape: (None, 64, 1)\u001b[0m\n",
      "\u001b[32m2025-10-30 17:22:04.907\u001b[0m | \u001b[34m\u001b[1mDEBUG   \u001b[0m | \u001b[36mkmr.models.SFNEBlock\u001b[0m:\u001b[36mcall\u001b[0m:\u001b[36m202\u001b[0m - \u001b[34m\u001b[1mSFNEBlock global_output shape: (None, 64, 16)\u001b[0m\n",
      "\u001b[32m2025-10-30 17:22:04.911\u001b[0m | \u001b[34m\u001b[1mDEBUG   \u001b[0m | \u001b[36mkmr.models.SFNEBlock\u001b[0m:\u001b[36mcall\u001b[0m:\u001b[36m206\u001b[0m - \u001b[34m\u001b[1mSFNEBlock local_output shape: (None, 64, 16)\u001b[0m\n",
      "\u001b[32m2025-10-30 17:22:04.912\u001b[0m | \u001b[34m\u001b[1mDEBUG   \u001b[0m | \u001b[36mkmr.models.SFNEBlock\u001b[0m:\u001b[36mcall\u001b[0m:\u001b[36m210\u001b[0m - \u001b[34m\u001b[1mSFNEBlock combined_output shape: (None, 64, 32)\u001b[0m\n",
      "\u001b[32m2025-10-30 17:22:04.912\u001b[0m | \u001b[34m\u001b[1mDEBUG   \u001b[0m | \u001b[36mkmr.models.SFNEBlock\u001b[0m:\u001b[36mcall\u001b[0m:\u001b[36m217\u001b[0m - \u001b[34m\u001b[1mSFNEBlock combined_output_flat shape: (None, 2048)\u001b[0m\n",
      "\u001b[32m2025-10-30 17:22:04.915\u001b[0m | \u001b[34m\u001b[1mDEBUG   \u001b[0m | \u001b[36mkmr.models.SFNEBlock\u001b[0m:\u001b[36mcall\u001b[0m:\u001b[36m223\u001b[0m - \u001b[34m\u001b[1mSFNEBlock bottleneck_output shape: (None, 16)\u001b[0m\n",
      "\u001b[32m2025-10-30 17:22:04.917\u001b[0m | \u001b[34m\u001b[1mDEBUG   \u001b[0m | \u001b[36mkmr.models.SFNEBlock\u001b[0m:\u001b[36mcall\u001b[0m:\u001b[36m227\u001b[0m - \u001b[34m\u001b[1mSFNEBlock output_layer output shape: (None, 16)\u001b[0m\n",
      "\u001b[32m2025-10-30 17:22:04.917\u001b[0m | \u001b[34m\u001b[1mDEBUG   \u001b[0m | \u001b[36mkmr.models.TerminatorModel\u001b[0m:\u001b[36mcall\u001b[0m:\u001b[36m227\u001b[0m - \u001b[34m\u001b[1mTerminatorModel SFNEBlock 2 output shape: (None, 16)\u001b[0m\n",
      "\u001b[32m2025-10-30 17:22:04.919\u001b[0m | \u001b[34m\u001b[1mDEBUG   \u001b[0m | \u001b[36mkmr.models.TerminatorModel\u001b[0m:\u001b[36mcall\u001b[0m:\u001b[36m234\u001b[0m - \u001b[34m\u001b[1mTerminatorModel output_layer output shape: (None, 1)\u001b[0m\n",
      "\u001b[32m2025-10-30 17:22:06.510\u001b[0m | \u001b[34m\u001b[1mDEBUG   \u001b[0m | \u001b[36mkmr.models.TerminatorModel\u001b[0m:\u001b[36mcall\u001b[0m:\u001b[36m205\u001b[0m - \u001b[34m\u001b[1mTerminatorModel input shape: (None, 16), context shape: (None, 8)\u001b[0m\n",
      "\u001b[32m2025-10-30 17:22:06.512\u001b[0m | \u001b[34m\u001b[1mDEBUG   \u001b[0m | \u001b[36mkmr.models.TerminatorModel\u001b[0m:\u001b[36mcall\u001b[0m:\u001b[36m211\u001b[0m - \u001b[34m\u001b[1mTerminatorModel input_layer output shape: (None, 16)\u001b[0m\n",
      "\u001b[32m2025-10-30 17:22:06.513\u001b[0m | \u001b[34m\u001b[1mDEBUG   \u001b[0m | \u001b[36mkmr.layers.SlowNetwork\u001b[0m:\u001b[36mcall\u001b[0m:\u001b[36m122\u001b[0m - \u001b[34m\u001b[1mSlowNetwork input shape: (None, 8)\u001b[0m\n",
      "\u001b[32m2025-10-30 17:22:06.515\u001b[0m | \u001b[34m\u001b[1mDEBUG   \u001b[0m | \u001b[36mkmr.layers.SlowNetwork\u001b[0m:\u001b[36mcall\u001b[0m:\u001b[36m126\u001b[0m - \u001b[34m\u001b[1mSlowNetwork layer 0 output shape: (None, 128)\u001b[0m\n",
      "\u001b[32m2025-10-30 17:22:06.517\u001b[0m | \u001b[34m\u001b[1mDEBUG   \u001b[0m | \u001b[36mkmr.layers.SlowNetwork\u001b[0m:\u001b[36mcall\u001b[0m:\u001b[36m126\u001b[0m - \u001b[34m\u001b[1mSlowNetwork layer 1 output shape: (None, 128)\u001b[0m\n",
      "\u001b[32m2025-10-30 17:22:06.518\u001b[0m | \u001b[34m\u001b[1mDEBUG   \u001b[0m | \u001b[36mkmr.layers.SlowNetwork\u001b[0m:\u001b[36mcall\u001b[0m:\u001b[36m126\u001b[0m - \u001b[34m\u001b[1mSlowNetwork layer 2 output shape: (None, 128)\u001b[0m\n",
      "\u001b[32m2025-10-30 17:22:06.520\u001b[0m | \u001b[34m\u001b[1mDEBUG   \u001b[0m | \u001b[36mkmr.layers.SlowNetwork\u001b[0m:\u001b[36mcall\u001b[0m:\u001b[36m129\u001b[0m - \u001b[34m\u001b[1mSlowNetwork output shape: (None, 8)\u001b[0m\n",
      "\u001b[32m2025-10-30 17:22:06.520\u001b[0m | \u001b[34m\u001b[1mDEBUG   \u001b[0m | \u001b[36mkmr.models.TerminatorModel\u001b[0m:\u001b[36mcall\u001b[0m:\u001b[36m215\u001b[0m - \u001b[34m\u001b[1mTerminatorModel hyper_kernels shape: (None, 8)\u001b[0m\n",
      "\u001b[32m2025-10-30 17:22:06.520\u001b[0m | \u001b[34m\u001b[1mDEBUG   \u001b[0m | \u001b[36mkmr.layers.HyperZZWOperator\u001b[0m:\u001b[36mcall\u001b[0m:\u001b[36m132\u001b[0m - \u001b[34m\u001b[1mHyperZZWOperator input_tensor shape: (None, 16)\u001b[0m\n",
      "\u001b[32m2025-10-30 17:22:06.521\u001b[0m | \u001b[34m\u001b[1mDEBUG   \u001b[0m | \u001b[36mkmr.layers.HyperZZWOperator\u001b[0m:\u001b[36mcall\u001b[0m:\u001b[36m133\u001b[0m - \u001b[34m\u001b[1mHyperZZWOperator context_tensor shape: (None, 8)\u001b[0m\n",
      "\u001b[32m2025-10-30 17:22:06.522\u001b[0m | \u001b[34m\u001b[1mDEBUG   \u001b[0m | \u001b[36mkmr.layers.HyperZZWOperator\u001b[0m:\u001b[36mcall\u001b[0m:\u001b[36m153\u001b[0m - \u001b[34m\u001b[1mHyperZZWOperator output shape: (None, 16)\u001b[0m\n",
      "\u001b[32m2025-10-30 17:22:06.522\u001b[0m | \u001b[34m\u001b[1mDEBUG   \u001b[0m | \u001b[36mkmr.models.TerminatorModel\u001b[0m:\u001b[36mcall\u001b[0m:\u001b[36m219\u001b[0m - \u001b[34m\u001b[1mTerminatorModel context_weights shape: (None, 16)\u001b[0m\n",
      "\u001b[32m2025-10-30 17:22:06.525\u001b[0m | \u001b[34m\u001b[1mDEBUG   \u001b[0m | \u001b[36mkmr.models.SFNEBlock\u001b[0m:\u001b[36mcall\u001b[0m:\u001b[36m176\u001b[0m - \u001b[34m\u001b[1mSFNEBlock input shape: (None, 16)\u001b[0m\n",
      "\u001b[32m2025-10-30 17:22:06.531\u001b[0m | \u001b[34m\u001b[1mDEBUG   \u001b[0m | \u001b[36mkmr.layers.SlowNetwork\u001b[0m:\u001b[36mcall\u001b[0m:\u001b[36m122\u001b[0m - \u001b[34m\u001b[1mSlowNetwork input shape: (None, 64)\u001b[0m\n",
      "\u001b[32m2025-10-30 17:22:06.533\u001b[0m | \u001b[34m\u001b[1mDEBUG   \u001b[0m | \u001b[36mkmr.layers.SlowNetwork\u001b[0m:\u001b[36mcall\u001b[0m:\u001b[36m126\u001b[0m - \u001b[34m\u001b[1mSlowNetwork layer 0 output shape: (None, 128)\u001b[0m\n",
      "\u001b[32m2025-10-30 17:22:06.535\u001b[0m | \u001b[34m\u001b[1mDEBUG   \u001b[0m | \u001b[36mkmr.layers.SlowNetwork\u001b[0m:\u001b[36mcall\u001b[0m:\u001b[36m126\u001b[0m - \u001b[34m\u001b[1mSlowNetwork layer 1 output shape: (None, 128)\u001b[0m\n",
      "\u001b[32m2025-10-30 17:22:06.537\u001b[0m | \u001b[34m\u001b[1mDEBUG   \u001b[0m | \u001b[36mkmr.layers.SlowNetwork\u001b[0m:\u001b[36mcall\u001b[0m:\u001b[36m126\u001b[0m - \u001b[34m\u001b[1mSlowNetwork layer 2 output shape: (None, 128)\u001b[0m\n",
      "\u001b[32m2025-10-30 17:22:06.539\u001b[0m | \u001b[34m\u001b[1mDEBUG   \u001b[0m | \u001b[36mkmr.layers.SlowNetwork\u001b[0m:\u001b[36mcall\u001b[0m:\u001b[36m129\u001b[0m - \u001b[34m\u001b[1mSlowNetwork output shape: (None, 16)\u001b[0m\n",
      "\u001b[32m2025-10-30 17:22:06.539\u001b[0m | \u001b[34m\u001b[1mDEBUG   \u001b[0m | \u001b[36mkmr.models.SFNEBlock\u001b[0m:\u001b[36mcall\u001b[0m:\u001b[36m188\u001b[0m - \u001b[34m\u001b[1mSFNEBlock hyper_kernels shape: (None, 16)\u001b[0m\n",
      "\u001b[32m2025-10-30 17:22:06.539\u001b[0m | \u001b[34m\u001b[1mDEBUG   \u001b[0m | \u001b[36mkmr.layers.HyperZZWOperator\u001b[0m:\u001b[36mcall\u001b[0m:\u001b[36m132\u001b[0m - \u001b[34m\u001b[1mHyperZZWOperator input_tensor shape: (None, 64)\u001b[0m\n",
      "\u001b[32m2025-10-30 17:22:06.539\u001b[0m | \u001b[34m\u001b[1mDEBUG   \u001b[0m | \u001b[36mkmr.layers.HyperZZWOperator\u001b[0m:\u001b[36mcall\u001b[0m:\u001b[36m133\u001b[0m - \u001b[34m\u001b[1mHyperZZWOperator context_tensor shape: (None, 16)\u001b[0m\n",
      "\u001b[32m2025-10-30 17:22:06.540\u001b[0m | \u001b[34m\u001b[1mDEBUG   \u001b[0m | \u001b[36mkmr.layers.HyperZZWOperator\u001b[0m:\u001b[36mcall\u001b[0m:\u001b[36m153\u001b[0m - \u001b[34m\u001b[1mHyperZZWOperator output shape: (None, 64)\u001b[0m\n",
      "\u001b[32m2025-10-30 17:22:06.541\u001b[0m | \u001b[34m\u001b[1mDEBUG   \u001b[0m | \u001b[36mkmr.models.SFNEBlock\u001b[0m:\u001b[36mcall\u001b[0m:\u001b[36m192\u001b[0m - \u001b[34m\u001b[1mSFNEBlock context_weights shape: (None, 64)\u001b[0m\n",
      "\u001b[32m2025-10-30 17:22:06.541\u001b[0m | \u001b[34m\u001b[1mDEBUG   \u001b[0m | \u001b[36mkmr.models.SFNEBlock\u001b[0m:\u001b[36mcall\u001b[0m:\u001b[36m196\u001b[0m - \u001b[34m\u001b[1mSFNEBlock context_weights_expanded shape: (None, 64, 1)\u001b[0m\n",
      "\u001b[32m2025-10-30 17:22:06.545\u001b[0m | \u001b[34m\u001b[1mDEBUG   \u001b[0m | \u001b[36mkmr.models.SFNEBlock\u001b[0m:\u001b[36mcall\u001b[0m:\u001b[36m202\u001b[0m - \u001b[34m\u001b[1mSFNEBlock global_output shape: (None, 64, 16)\u001b[0m\n",
      "\u001b[32m2025-10-30 17:22:06.550\u001b[0m | \u001b[34m\u001b[1mDEBUG   \u001b[0m | \u001b[36mkmr.models.SFNEBlock\u001b[0m:\u001b[36mcall\u001b[0m:\u001b[36m206\u001b[0m - \u001b[34m\u001b[1mSFNEBlock local_output shape: (None, 64, 16)\u001b[0m\n",
      "\u001b[32m2025-10-30 17:22:06.550\u001b[0m | \u001b[34m\u001b[1mDEBUG   \u001b[0m | \u001b[36mkmr.models.SFNEBlock\u001b[0m:\u001b[36mcall\u001b[0m:\u001b[36m210\u001b[0m - \u001b[34m\u001b[1mSFNEBlock combined_output shape: (None, 64, 32)\u001b[0m\n",
      "\u001b[32m2025-10-30 17:22:06.551\u001b[0m | \u001b[34m\u001b[1mDEBUG   \u001b[0m | \u001b[36mkmr.models.SFNEBlock\u001b[0m:\u001b[36mcall\u001b[0m:\u001b[36m217\u001b[0m - \u001b[34m\u001b[1mSFNEBlock combined_output_flat shape: (None, 2048)\u001b[0m\n",
      "\u001b[32m2025-10-30 17:22:06.553\u001b[0m | \u001b[34m\u001b[1mDEBUG   \u001b[0m | \u001b[36mkmr.models.SFNEBlock\u001b[0m:\u001b[36mcall\u001b[0m:\u001b[36m223\u001b[0m - \u001b[34m\u001b[1mSFNEBlock bottleneck_output shape: (None, 16)\u001b[0m\n",
      "\u001b[32m2025-10-30 17:22:06.555\u001b[0m | \u001b[34m\u001b[1mDEBUG   \u001b[0m | \u001b[36mkmr.models.SFNEBlock\u001b[0m:\u001b[36mcall\u001b[0m:\u001b[36m227\u001b[0m - \u001b[34m\u001b[1mSFNEBlock output_layer output shape: (None, 16)\u001b[0m\n",
      "\u001b[32m2025-10-30 17:22:06.555\u001b[0m | \u001b[34m\u001b[1mDEBUG   \u001b[0m | \u001b[36mkmr.models.TerminatorModel\u001b[0m:\u001b[36mcall\u001b[0m:\u001b[36m227\u001b[0m - \u001b[34m\u001b[1mTerminatorModel SFNEBlock 0 output shape: (None, 16)\u001b[0m\n",
      "\u001b[32m2025-10-30 17:22:06.555\u001b[0m | \u001b[34m\u001b[1mDEBUG   \u001b[0m | \u001b[36mkmr.models.SFNEBlock\u001b[0m:\u001b[36mcall\u001b[0m:\u001b[36m176\u001b[0m - \u001b[34m\u001b[1mSFNEBlock input shape: (None, 16)\u001b[0m\n",
      "\u001b[32m2025-10-30 17:22:06.560\u001b[0m | \u001b[34m\u001b[1mDEBUG   \u001b[0m | \u001b[36mkmr.layers.SlowNetwork\u001b[0m:\u001b[36mcall\u001b[0m:\u001b[36m122\u001b[0m - \u001b[34m\u001b[1mSlowNetwork input shape: (None, 64)\u001b[0m\n",
      "\u001b[32m2025-10-30 17:22:06.563\u001b[0m | \u001b[34m\u001b[1mDEBUG   \u001b[0m | \u001b[36mkmr.layers.SlowNetwork\u001b[0m:\u001b[36mcall\u001b[0m:\u001b[36m126\u001b[0m - \u001b[34m\u001b[1mSlowNetwork layer 0 output shape: (None, 128)\u001b[0m\n",
      "\u001b[32m2025-10-30 17:22:06.565\u001b[0m | \u001b[34m\u001b[1mDEBUG   \u001b[0m | \u001b[36mkmr.layers.SlowNetwork\u001b[0m:\u001b[36mcall\u001b[0m:\u001b[36m126\u001b[0m - \u001b[34m\u001b[1mSlowNetwork layer 1 output shape: (None, 128)\u001b[0m\n",
      "\u001b[32m2025-10-30 17:22:06.568\u001b[0m | \u001b[34m\u001b[1mDEBUG   \u001b[0m | \u001b[36mkmr.layers.SlowNetwork\u001b[0m:\u001b[36mcall\u001b[0m:\u001b[36m126\u001b[0m - \u001b[34m\u001b[1mSlowNetwork layer 2 output shape: (None, 128)\u001b[0m\n",
      "\u001b[32m2025-10-30 17:22:06.570\u001b[0m | \u001b[34m\u001b[1mDEBUG   \u001b[0m | \u001b[36mkmr.layers.SlowNetwork\u001b[0m:\u001b[36mcall\u001b[0m:\u001b[36m129\u001b[0m - \u001b[34m\u001b[1mSlowNetwork output shape: (None, 16)\u001b[0m\n",
      "\u001b[32m2025-10-30 17:22:06.570\u001b[0m | \u001b[34m\u001b[1mDEBUG   \u001b[0m | \u001b[36mkmr.models.SFNEBlock\u001b[0m:\u001b[36mcall\u001b[0m:\u001b[36m188\u001b[0m - \u001b[34m\u001b[1mSFNEBlock hyper_kernels shape: (None, 16)\u001b[0m\n",
      "\u001b[32m2025-10-30 17:22:06.571\u001b[0m | \u001b[34m\u001b[1mDEBUG   \u001b[0m | \u001b[36mkmr.layers.HyperZZWOperator\u001b[0m:\u001b[36mcall\u001b[0m:\u001b[36m132\u001b[0m - \u001b[34m\u001b[1mHyperZZWOperator input_tensor shape: (None, 64)\u001b[0m\n",
      "\u001b[32m2025-10-30 17:22:06.571\u001b[0m | \u001b[34m\u001b[1mDEBUG   \u001b[0m | \u001b[36mkmr.layers.HyperZZWOperator\u001b[0m:\u001b[36mcall\u001b[0m:\u001b[36m133\u001b[0m - \u001b[34m\u001b[1mHyperZZWOperator context_tensor shape: (None, 16)\u001b[0m\n",
      "\u001b[32m2025-10-30 17:22:06.572\u001b[0m | \u001b[34m\u001b[1mDEBUG   \u001b[0m | \u001b[36mkmr.layers.HyperZZWOperator\u001b[0m:\u001b[36mcall\u001b[0m:\u001b[36m153\u001b[0m - \u001b[34m\u001b[1mHyperZZWOperator output shape: (None, 64)\u001b[0m\n",
      "\u001b[32m2025-10-30 17:22:06.573\u001b[0m | \u001b[34m\u001b[1mDEBUG   \u001b[0m | \u001b[36mkmr.models.SFNEBlock\u001b[0m:\u001b[36mcall\u001b[0m:\u001b[36m192\u001b[0m - \u001b[34m\u001b[1mSFNEBlock context_weights shape: (None, 64)\u001b[0m\n",
      "\u001b[32m2025-10-30 17:22:06.573\u001b[0m | \u001b[34m\u001b[1mDEBUG   \u001b[0m | \u001b[36mkmr.models.SFNEBlock\u001b[0m:\u001b[36mcall\u001b[0m:\u001b[36m196\u001b[0m - \u001b[34m\u001b[1mSFNEBlock context_weights_expanded shape: (None, 64, 1)\u001b[0m\n",
      "\u001b[32m2025-10-30 17:22:06.578\u001b[0m | \u001b[34m\u001b[1mDEBUG   \u001b[0m | \u001b[36mkmr.models.SFNEBlock\u001b[0m:\u001b[36mcall\u001b[0m:\u001b[36m202\u001b[0m - \u001b[34m\u001b[1mSFNEBlock global_output shape: (None, 64, 16)\u001b[0m\n",
      "\u001b[32m2025-10-30 17:22:06.582\u001b[0m | \u001b[34m\u001b[1mDEBUG   \u001b[0m | \u001b[36mkmr.models.SFNEBlock\u001b[0m:\u001b[36mcall\u001b[0m:\u001b[36m206\u001b[0m - \u001b[34m\u001b[1mSFNEBlock local_output shape: (None, 64, 16)\u001b[0m\n",
      "\u001b[32m2025-10-30 17:22:06.582\u001b[0m | \u001b[34m\u001b[1mDEBUG   \u001b[0m | \u001b[36mkmr.models.SFNEBlock\u001b[0m:\u001b[36mcall\u001b[0m:\u001b[36m210\u001b[0m - \u001b[34m\u001b[1mSFNEBlock combined_output shape: (None, 64, 32)\u001b[0m\n",
      "\u001b[32m2025-10-30 17:22:06.583\u001b[0m | \u001b[34m\u001b[1mDEBUG   \u001b[0m | \u001b[36mkmr.models.SFNEBlock\u001b[0m:\u001b[36mcall\u001b[0m:\u001b[36m217\u001b[0m - \u001b[34m\u001b[1mSFNEBlock combined_output_flat shape: (None, 2048)\u001b[0m\n",
      "\u001b[32m2025-10-30 17:22:06.585\u001b[0m | \u001b[34m\u001b[1mDEBUG   \u001b[0m | \u001b[36mkmr.models.SFNEBlock\u001b[0m:\u001b[36mcall\u001b[0m:\u001b[36m223\u001b[0m - \u001b[34m\u001b[1mSFNEBlock bottleneck_output shape: (None, 16)\u001b[0m\n",
      "\u001b[32m2025-10-30 17:22:06.587\u001b[0m | \u001b[34m\u001b[1mDEBUG   \u001b[0m | \u001b[36mkmr.models.SFNEBlock\u001b[0m:\u001b[36mcall\u001b[0m:\u001b[36m227\u001b[0m - \u001b[34m\u001b[1mSFNEBlock output_layer output shape: (None, 16)\u001b[0m\n",
      "\u001b[32m2025-10-30 17:22:06.587\u001b[0m | \u001b[34m\u001b[1mDEBUG   \u001b[0m | \u001b[36mkmr.models.TerminatorModel\u001b[0m:\u001b[36mcall\u001b[0m:\u001b[36m227\u001b[0m - \u001b[34m\u001b[1mTerminatorModel SFNEBlock 1 output shape: (None, 16)\u001b[0m\n",
      "\u001b[32m2025-10-30 17:22:06.587\u001b[0m | \u001b[34m\u001b[1mDEBUG   \u001b[0m | \u001b[36mkmr.models.SFNEBlock\u001b[0m:\u001b[36mcall\u001b[0m:\u001b[36m176\u001b[0m - \u001b[34m\u001b[1mSFNEBlock input shape: (None, 16)\u001b[0m\n",
      "\u001b[32m2025-10-30 17:22:06.592\u001b[0m | \u001b[34m\u001b[1mDEBUG   \u001b[0m | \u001b[36mkmr.layers.SlowNetwork\u001b[0m:\u001b[36mcall\u001b[0m:\u001b[36m122\u001b[0m - \u001b[34m\u001b[1mSlowNetwork input shape: (None, 64)\u001b[0m\n",
      "\u001b[32m2025-10-30 17:22:06.594\u001b[0m | \u001b[34m\u001b[1mDEBUG   \u001b[0m | \u001b[36mkmr.layers.SlowNetwork\u001b[0m:\u001b[36mcall\u001b[0m:\u001b[36m126\u001b[0m - \u001b[34m\u001b[1mSlowNetwork layer 0 output shape: (None, 128)\u001b[0m\n",
      "\u001b[32m2025-10-30 17:22:06.596\u001b[0m | \u001b[34m\u001b[1mDEBUG   \u001b[0m | \u001b[36mkmr.layers.SlowNetwork\u001b[0m:\u001b[36mcall\u001b[0m:\u001b[36m126\u001b[0m - \u001b[34m\u001b[1mSlowNetwork layer 1 output shape: (None, 128)\u001b[0m\n",
      "\u001b[32m2025-10-30 17:22:06.598\u001b[0m | \u001b[34m\u001b[1mDEBUG   \u001b[0m | \u001b[36mkmr.layers.SlowNetwork\u001b[0m:\u001b[36mcall\u001b[0m:\u001b[36m126\u001b[0m - \u001b[34m\u001b[1mSlowNetwork layer 2 output shape: (None, 128)\u001b[0m\n",
      "\u001b[32m2025-10-30 17:22:06.599\u001b[0m | \u001b[34m\u001b[1mDEBUG   \u001b[0m | \u001b[36mkmr.layers.SlowNetwork\u001b[0m:\u001b[36mcall\u001b[0m:\u001b[36m129\u001b[0m - \u001b[34m\u001b[1mSlowNetwork output shape: (None, 16)\u001b[0m\n",
      "\u001b[32m2025-10-30 17:22:06.599\u001b[0m | \u001b[34m\u001b[1mDEBUG   \u001b[0m | \u001b[36mkmr.models.SFNEBlock\u001b[0m:\u001b[36mcall\u001b[0m:\u001b[36m188\u001b[0m - \u001b[34m\u001b[1mSFNEBlock hyper_kernels shape: (None, 16)\u001b[0m\n",
      "\u001b[32m2025-10-30 17:22:06.600\u001b[0m | \u001b[34m\u001b[1mDEBUG   \u001b[0m | \u001b[36mkmr.layers.HyperZZWOperator\u001b[0m:\u001b[36mcall\u001b[0m:\u001b[36m132\u001b[0m - \u001b[34m\u001b[1mHyperZZWOperator input_tensor shape: (None, 64)\u001b[0m\n",
      "\u001b[32m2025-10-30 17:22:06.600\u001b[0m | \u001b[34m\u001b[1mDEBUG   \u001b[0m | \u001b[36mkmr.layers.HyperZZWOperator\u001b[0m:\u001b[36mcall\u001b[0m:\u001b[36m133\u001b[0m - \u001b[34m\u001b[1mHyperZZWOperator context_tensor shape: (None, 16)\u001b[0m\n",
      "\u001b[32m2025-10-30 17:22:06.601\u001b[0m | \u001b[34m\u001b[1mDEBUG   \u001b[0m | \u001b[36mkmr.layers.HyperZZWOperator\u001b[0m:\u001b[36mcall\u001b[0m:\u001b[36m153\u001b[0m - \u001b[34m\u001b[1mHyperZZWOperator output shape: (None, 64)\u001b[0m\n",
      "\u001b[32m2025-10-30 17:22:06.601\u001b[0m | \u001b[34m\u001b[1mDEBUG   \u001b[0m | \u001b[36mkmr.models.SFNEBlock\u001b[0m:\u001b[36mcall\u001b[0m:\u001b[36m192\u001b[0m - \u001b[34m\u001b[1mSFNEBlock context_weights shape: (None, 64)\u001b[0m\n",
      "\u001b[32m2025-10-30 17:22:06.602\u001b[0m | \u001b[34m\u001b[1mDEBUG   \u001b[0m | \u001b[36mkmr.models.SFNEBlock\u001b[0m:\u001b[36mcall\u001b[0m:\u001b[36m196\u001b[0m - \u001b[34m\u001b[1mSFNEBlock context_weights_expanded shape: (None, 64, 1)\u001b[0m\n",
      "\u001b[32m2025-10-30 17:22:06.606\u001b[0m | \u001b[34m\u001b[1mDEBUG   \u001b[0m | \u001b[36mkmr.models.SFNEBlock\u001b[0m:\u001b[36mcall\u001b[0m:\u001b[36m202\u001b[0m - \u001b[34m\u001b[1mSFNEBlock global_output shape: (None, 64, 16)\u001b[0m\n",
      "\u001b[32m2025-10-30 17:22:06.610\u001b[0m | \u001b[34m\u001b[1mDEBUG   \u001b[0m | \u001b[36mkmr.models.SFNEBlock\u001b[0m:\u001b[36mcall\u001b[0m:\u001b[36m206\u001b[0m - \u001b[34m\u001b[1mSFNEBlock local_output shape: (None, 64, 16)\u001b[0m\n",
      "\u001b[32m2025-10-30 17:22:06.611\u001b[0m | \u001b[34m\u001b[1mDEBUG   \u001b[0m | \u001b[36mkmr.models.SFNEBlock\u001b[0m:\u001b[36mcall\u001b[0m:\u001b[36m210\u001b[0m - \u001b[34m\u001b[1mSFNEBlock combined_output shape: (None, 64, 32)\u001b[0m\n",
      "\u001b[32m2025-10-30 17:22:06.611\u001b[0m | \u001b[34m\u001b[1mDEBUG   \u001b[0m | \u001b[36mkmr.models.SFNEBlock\u001b[0m:\u001b[36mcall\u001b[0m:\u001b[36m217\u001b[0m - \u001b[34m\u001b[1mSFNEBlock combined_output_flat shape: (None, 2048)\u001b[0m\n",
      "\u001b[32m2025-10-30 17:22:06.614\u001b[0m | \u001b[34m\u001b[1mDEBUG   \u001b[0m | \u001b[36mkmr.models.SFNEBlock\u001b[0m:\u001b[36mcall\u001b[0m:\u001b[36m223\u001b[0m - \u001b[34m\u001b[1mSFNEBlock bottleneck_output shape: (None, 16)\u001b[0m\n",
      "\u001b[32m2025-10-30 17:22:06.616\u001b[0m | \u001b[34m\u001b[1mDEBUG   \u001b[0m | \u001b[36mkmr.models.SFNEBlock\u001b[0m:\u001b[36mcall\u001b[0m:\u001b[36m227\u001b[0m - \u001b[34m\u001b[1mSFNEBlock output_layer output shape: (None, 16)\u001b[0m\n",
      "\u001b[32m2025-10-30 17:22:06.616\u001b[0m | \u001b[34m\u001b[1mDEBUG   \u001b[0m | \u001b[36mkmr.models.TerminatorModel\u001b[0m:\u001b[36mcall\u001b[0m:\u001b[36m227\u001b[0m - \u001b[34m\u001b[1mTerminatorModel SFNEBlock 2 output shape: (None, 16)\u001b[0m\n",
      "\u001b[32m2025-10-30 17:22:06.618\u001b[0m | \u001b[34m\u001b[1mDEBUG   \u001b[0m | \u001b[36mkmr.models.TerminatorModel\u001b[0m:\u001b[36mcall\u001b[0m:\u001b[36m234\u001b[0m - \u001b[34m\u001b[1mTerminatorModel output_layer output shape: (None, 1)\u001b[0m\n"
     ]
    },
    {
     "name": "stdout",
     "output_type": "stream",
     "text": [
      "\u001b[1m12/22\u001b[0m \u001b[32m━━━━━━━━━━\u001b[0m\u001b[37m━━━━━━━━━━\u001b[0m \u001b[1m0s\u001b[0m 5ms/step - accuracy: 0.5801 - auc: 0.6367 - loss: 0.6649 - precision: 0.5552 - recall: 0.7326 "
     ]
    },
    {
     "name": "stderr",
     "output_type": "stream",
     "text": [
      "\u001b[32m2025-10-30 17:22:08.115\u001b[0m | \u001b[34m\u001b[1mDEBUG   \u001b[0m | \u001b[36mkmr.models.TerminatorModel\u001b[0m:\u001b[36mcall\u001b[0m:\u001b[36m205\u001b[0m - \u001b[34m\u001b[1mTerminatorModel input shape: (None, 16), context shape: (None, 8)\u001b[0m\n",
      "\u001b[32m2025-10-30 17:22:08.117\u001b[0m | \u001b[34m\u001b[1mDEBUG   \u001b[0m | \u001b[36mkmr.models.TerminatorModel\u001b[0m:\u001b[36mcall\u001b[0m:\u001b[36m211\u001b[0m - \u001b[34m\u001b[1mTerminatorModel input_layer output shape: (None, 16)\u001b[0m\n",
      "\u001b[32m2025-10-30 17:22:08.117\u001b[0m | \u001b[34m\u001b[1mDEBUG   \u001b[0m | \u001b[36mkmr.layers.SlowNetwork\u001b[0m:\u001b[36mcall\u001b[0m:\u001b[36m122\u001b[0m - \u001b[34m\u001b[1mSlowNetwork input shape: (None, 8)\u001b[0m\n",
      "\u001b[32m2025-10-30 17:22:08.119\u001b[0m | \u001b[34m\u001b[1mDEBUG   \u001b[0m | \u001b[36mkmr.layers.SlowNetwork\u001b[0m:\u001b[36mcall\u001b[0m:\u001b[36m126\u001b[0m - \u001b[34m\u001b[1mSlowNetwork layer 0 output shape: (None, 128)\u001b[0m\n",
      "\u001b[32m2025-10-30 17:22:08.121\u001b[0m | \u001b[34m\u001b[1mDEBUG   \u001b[0m | \u001b[36mkmr.layers.SlowNetwork\u001b[0m:\u001b[36mcall\u001b[0m:\u001b[36m126\u001b[0m - \u001b[34m\u001b[1mSlowNetwork layer 1 output shape: (None, 128)\u001b[0m\n",
      "\u001b[32m2025-10-30 17:22:08.123\u001b[0m | \u001b[34m\u001b[1mDEBUG   \u001b[0m | \u001b[36mkmr.layers.SlowNetwork\u001b[0m:\u001b[36mcall\u001b[0m:\u001b[36m126\u001b[0m - \u001b[34m\u001b[1mSlowNetwork layer 2 output shape: (None, 128)\u001b[0m\n",
      "\u001b[32m2025-10-30 17:22:08.124\u001b[0m | \u001b[34m\u001b[1mDEBUG   \u001b[0m | \u001b[36mkmr.layers.SlowNetwork\u001b[0m:\u001b[36mcall\u001b[0m:\u001b[36m129\u001b[0m - \u001b[34m\u001b[1mSlowNetwork output shape: (None, 8)\u001b[0m\n",
      "\u001b[32m2025-10-30 17:22:08.124\u001b[0m | \u001b[34m\u001b[1mDEBUG   \u001b[0m | \u001b[36mkmr.models.TerminatorModel\u001b[0m:\u001b[36mcall\u001b[0m:\u001b[36m215\u001b[0m - \u001b[34m\u001b[1mTerminatorModel hyper_kernels shape: (None, 8)\u001b[0m\n",
      "\u001b[32m2025-10-30 17:22:08.125\u001b[0m | \u001b[34m\u001b[1mDEBUG   \u001b[0m | \u001b[36mkmr.layers.HyperZZWOperator\u001b[0m:\u001b[36mcall\u001b[0m:\u001b[36m132\u001b[0m - \u001b[34m\u001b[1mHyperZZWOperator input_tensor shape: (None, 16)\u001b[0m\n",
      "\u001b[32m2025-10-30 17:22:08.125\u001b[0m | \u001b[34m\u001b[1mDEBUG   \u001b[0m | \u001b[36mkmr.layers.HyperZZWOperator\u001b[0m:\u001b[36mcall\u001b[0m:\u001b[36m133\u001b[0m - \u001b[34m\u001b[1mHyperZZWOperator context_tensor shape: (None, 8)\u001b[0m\n",
      "\u001b[32m2025-10-30 17:22:08.126\u001b[0m | \u001b[34m\u001b[1mDEBUG   \u001b[0m | \u001b[36mkmr.layers.HyperZZWOperator\u001b[0m:\u001b[36mcall\u001b[0m:\u001b[36m153\u001b[0m - \u001b[34m\u001b[1mHyperZZWOperator output shape: (None, 16)\u001b[0m\n",
      "\u001b[32m2025-10-30 17:22:08.126\u001b[0m | \u001b[34m\u001b[1mDEBUG   \u001b[0m | \u001b[36mkmr.models.TerminatorModel\u001b[0m:\u001b[36mcall\u001b[0m:\u001b[36m219\u001b[0m - \u001b[34m\u001b[1mTerminatorModel context_weights shape: (None, 16)\u001b[0m\n",
      "\u001b[32m2025-10-30 17:22:08.128\u001b[0m | \u001b[34m\u001b[1mDEBUG   \u001b[0m | \u001b[36mkmr.models.SFNEBlock\u001b[0m:\u001b[36mcall\u001b[0m:\u001b[36m176\u001b[0m - \u001b[34m\u001b[1mSFNEBlock input shape: (None, 16)\u001b[0m\n",
      "\u001b[32m2025-10-30 17:22:08.135\u001b[0m | \u001b[34m\u001b[1mDEBUG   \u001b[0m | \u001b[36mkmr.layers.SlowNetwork\u001b[0m:\u001b[36mcall\u001b[0m:\u001b[36m122\u001b[0m - \u001b[34m\u001b[1mSlowNetwork input shape: (None, 64)\u001b[0m\n",
      "\u001b[32m2025-10-30 17:22:08.137\u001b[0m | \u001b[34m\u001b[1mDEBUG   \u001b[0m | \u001b[36mkmr.layers.SlowNetwork\u001b[0m:\u001b[36mcall\u001b[0m:\u001b[36m126\u001b[0m - \u001b[34m\u001b[1mSlowNetwork layer 0 output shape: (None, 128)\u001b[0m\n",
      "\u001b[32m2025-10-30 17:22:08.139\u001b[0m | \u001b[34m\u001b[1mDEBUG   \u001b[0m | \u001b[36mkmr.layers.SlowNetwork\u001b[0m:\u001b[36mcall\u001b[0m:\u001b[36m126\u001b[0m - \u001b[34m\u001b[1mSlowNetwork layer 1 output shape: (None, 128)\u001b[0m\n",
      "\u001b[32m2025-10-30 17:22:08.141\u001b[0m | \u001b[34m\u001b[1mDEBUG   \u001b[0m | \u001b[36mkmr.layers.SlowNetwork\u001b[0m:\u001b[36mcall\u001b[0m:\u001b[36m126\u001b[0m - \u001b[34m\u001b[1mSlowNetwork layer 2 output shape: (None, 128)\u001b[0m\n",
      "\u001b[32m2025-10-30 17:22:08.143\u001b[0m | \u001b[34m\u001b[1mDEBUG   \u001b[0m | \u001b[36mkmr.layers.SlowNetwork\u001b[0m:\u001b[36mcall\u001b[0m:\u001b[36m129\u001b[0m - \u001b[34m\u001b[1mSlowNetwork output shape: (None, 16)\u001b[0m\n",
      "\u001b[32m2025-10-30 17:22:08.143\u001b[0m | \u001b[34m\u001b[1mDEBUG   \u001b[0m | \u001b[36mkmr.models.SFNEBlock\u001b[0m:\u001b[36mcall\u001b[0m:\u001b[36m188\u001b[0m - \u001b[34m\u001b[1mSFNEBlock hyper_kernels shape: (None, 16)\u001b[0m\n",
      "\u001b[32m2025-10-30 17:22:08.143\u001b[0m | \u001b[34m\u001b[1mDEBUG   \u001b[0m | \u001b[36mkmr.layers.HyperZZWOperator\u001b[0m:\u001b[36mcall\u001b[0m:\u001b[36m132\u001b[0m - \u001b[34m\u001b[1mHyperZZWOperator input_tensor shape: (None, 64)\u001b[0m\n",
      "\u001b[32m2025-10-30 17:22:08.143\u001b[0m | \u001b[34m\u001b[1mDEBUG   \u001b[0m | \u001b[36mkmr.layers.HyperZZWOperator\u001b[0m:\u001b[36mcall\u001b[0m:\u001b[36m133\u001b[0m - \u001b[34m\u001b[1mHyperZZWOperator context_tensor shape: (None, 16)\u001b[0m\n",
      "\u001b[32m2025-10-30 17:22:08.145\u001b[0m | \u001b[34m\u001b[1mDEBUG   \u001b[0m | \u001b[36mkmr.layers.HyperZZWOperator\u001b[0m:\u001b[36mcall\u001b[0m:\u001b[36m153\u001b[0m - \u001b[34m\u001b[1mHyperZZWOperator output shape: (None, 64)\u001b[0m\n",
      "\u001b[32m2025-10-30 17:22:08.145\u001b[0m | \u001b[34m\u001b[1mDEBUG   \u001b[0m | \u001b[36mkmr.models.SFNEBlock\u001b[0m:\u001b[36mcall\u001b[0m:\u001b[36m192\u001b[0m - \u001b[34m\u001b[1mSFNEBlock context_weights shape: (None, 64)\u001b[0m\n",
      "\u001b[32m2025-10-30 17:22:08.145\u001b[0m | \u001b[34m\u001b[1mDEBUG   \u001b[0m | \u001b[36mkmr.models.SFNEBlock\u001b[0m:\u001b[36mcall\u001b[0m:\u001b[36m196\u001b[0m - \u001b[34m\u001b[1mSFNEBlock context_weights_expanded shape: (None, 64, 1)\u001b[0m\n",
      "\u001b[32m2025-10-30 17:22:08.150\u001b[0m | \u001b[34m\u001b[1mDEBUG   \u001b[0m | \u001b[36mkmr.models.SFNEBlock\u001b[0m:\u001b[36mcall\u001b[0m:\u001b[36m202\u001b[0m - \u001b[34m\u001b[1mSFNEBlock global_output shape: (None, 64, 16)\u001b[0m\n",
      "\u001b[32m2025-10-30 17:22:08.153\u001b[0m | \u001b[34m\u001b[1mDEBUG   \u001b[0m | \u001b[36mkmr.models.SFNEBlock\u001b[0m:\u001b[36mcall\u001b[0m:\u001b[36m206\u001b[0m - \u001b[34m\u001b[1mSFNEBlock local_output shape: (None, 64, 16)\u001b[0m\n",
      "\u001b[32m2025-10-30 17:22:08.154\u001b[0m | \u001b[34m\u001b[1mDEBUG   \u001b[0m | \u001b[36mkmr.models.SFNEBlock\u001b[0m:\u001b[36mcall\u001b[0m:\u001b[36m210\u001b[0m - \u001b[34m\u001b[1mSFNEBlock combined_output shape: (None, 64, 32)\u001b[0m\n",
      "\u001b[32m2025-10-30 17:22:08.154\u001b[0m | \u001b[34m\u001b[1mDEBUG   \u001b[0m | \u001b[36mkmr.models.SFNEBlock\u001b[0m:\u001b[36mcall\u001b[0m:\u001b[36m217\u001b[0m - \u001b[34m\u001b[1mSFNEBlock combined_output_flat shape: (None, 2048)\u001b[0m\n",
      "\u001b[32m2025-10-30 17:22:08.156\u001b[0m | \u001b[34m\u001b[1mDEBUG   \u001b[0m | \u001b[36mkmr.models.SFNEBlock\u001b[0m:\u001b[36mcall\u001b[0m:\u001b[36m223\u001b[0m - \u001b[34m\u001b[1mSFNEBlock bottleneck_output shape: (None, 16)\u001b[0m\n",
      "\u001b[32m2025-10-30 17:22:08.158\u001b[0m | \u001b[34m\u001b[1mDEBUG   \u001b[0m | \u001b[36mkmr.models.SFNEBlock\u001b[0m:\u001b[36mcall\u001b[0m:\u001b[36m227\u001b[0m - \u001b[34m\u001b[1mSFNEBlock output_layer output shape: (None, 16)\u001b[0m\n",
      "\u001b[32m2025-10-30 17:22:08.159\u001b[0m | \u001b[34m\u001b[1mDEBUG   \u001b[0m | \u001b[36mkmr.models.TerminatorModel\u001b[0m:\u001b[36mcall\u001b[0m:\u001b[36m227\u001b[0m - \u001b[34m\u001b[1mTerminatorModel SFNEBlock 0 output shape: (None, 16)\u001b[0m\n",
      "\u001b[32m2025-10-30 17:22:08.159\u001b[0m | \u001b[34m\u001b[1mDEBUG   \u001b[0m | \u001b[36mkmr.models.SFNEBlock\u001b[0m:\u001b[36mcall\u001b[0m:\u001b[36m176\u001b[0m - \u001b[34m\u001b[1mSFNEBlock input shape: (None, 16)\u001b[0m\n",
      "\u001b[32m2025-10-30 17:22:08.165\u001b[0m | \u001b[34m\u001b[1mDEBUG   \u001b[0m | \u001b[36mkmr.layers.SlowNetwork\u001b[0m:\u001b[36mcall\u001b[0m:\u001b[36m122\u001b[0m - \u001b[34m\u001b[1mSlowNetwork input shape: (None, 64)\u001b[0m\n",
      "\u001b[32m2025-10-30 17:22:08.167\u001b[0m | \u001b[34m\u001b[1mDEBUG   \u001b[0m | \u001b[36mkmr.layers.SlowNetwork\u001b[0m:\u001b[36mcall\u001b[0m:\u001b[36m126\u001b[0m - \u001b[34m\u001b[1mSlowNetwork layer 0 output shape: (None, 128)\u001b[0m\n",
      "\u001b[32m2025-10-30 17:22:08.169\u001b[0m | \u001b[34m\u001b[1mDEBUG   \u001b[0m | \u001b[36mkmr.layers.SlowNetwork\u001b[0m:\u001b[36mcall\u001b[0m:\u001b[36m126\u001b[0m - \u001b[34m\u001b[1mSlowNetwork layer 1 output shape: (None, 128)\u001b[0m\n",
      "\u001b[32m2025-10-30 17:22:08.171\u001b[0m | \u001b[34m\u001b[1mDEBUG   \u001b[0m | \u001b[36mkmr.layers.SlowNetwork\u001b[0m:\u001b[36mcall\u001b[0m:\u001b[36m126\u001b[0m - \u001b[34m\u001b[1mSlowNetwork layer 2 output shape: (None, 128)\u001b[0m\n",
      "\u001b[32m2025-10-30 17:22:08.172\u001b[0m | \u001b[34m\u001b[1mDEBUG   \u001b[0m | \u001b[36mkmr.layers.SlowNetwork\u001b[0m:\u001b[36mcall\u001b[0m:\u001b[36m129\u001b[0m - \u001b[34m\u001b[1mSlowNetwork output shape: (None, 16)\u001b[0m\n",
      "\u001b[32m2025-10-30 17:22:08.173\u001b[0m | \u001b[34m\u001b[1mDEBUG   \u001b[0m | \u001b[36mkmr.models.SFNEBlock\u001b[0m:\u001b[36mcall\u001b[0m:\u001b[36m188\u001b[0m - \u001b[34m\u001b[1mSFNEBlock hyper_kernels shape: (None, 16)\u001b[0m\n",
      "\u001b[32m2025-10-30 17:22:08.173\u001b[0m | \u001b[34m\u001b[1mDEBUG   \u001b[0m | \u001b[36mkmr.layers.HyperZZWOperator\u001b[0m:\u001b[36mcall\u001b[0m:\u001b[36m132\u001b[0m - \u001b[34m\u001b[1mHyperZZWOperator input_tensor shape: (None, 64)\u001b[0m\n",
      "\u001b[32m2025-10-30 17:22:08.173\u001b[0m | \u001b[34m\u001b[1mDEBUG   \u001b[0m | \u001b[36mkmr.layers.HyperZZWOperator\u001b[0m:\u001b[36mcall\u001b[0m:\u001b[36m133\u001b[0m - \u001b[34m\u001b[1mHyperZZWOperator context_tensor shape: (None, 16)\u001b[0m\n",
      "\u001b[32m2025-10-30 17:22:08.175\u001b[0m | \u001b[34m\u001b[1mDEBUG   \u001b[0m | \u001b[36mkmr.layers.HyperZZWOperator\u001b[0m:\u001b[36mcall\u001b[0m:\u001b[36m153\u001b[0m - \u001b[34m\u001b[1mHyperZZWOperator output shape: (None, 64)\u001b[0m\n",
      "\u001b[32m2025-10-30 17:22:08.175\u001b[0m | \u001b[34m\u001b[1mDEBUG   \u001b[0m | \u001b[36mkmr.models.SFNEBlock\u001b[0m:\u001b[36mcall\u001b[0m:\u001b[36m192\u001b[0m - \u001b[34m\u001b[1mSFNEBlock context_weights shape: (None, 64)\u001b[0m\n",
      "\u001b[32m2025-10-30 17:22:08.175\u001b[0m | \u001b[34m\u001b[1mDEBUG   \u001b[0m | \u001b[36mkmr.models.SFNEBlock\u001b[0m:\u001b[36mcall\u001b[0m:\u001b[36m196\u001b[0m - \u001b[34m\u001b[1mSFNEBlock context_weights_expanded shape: (None, 64, 1)\u001b[0m\n",
      "\u001b[32m2025-10-30 17:22:08.179\u001b[0m | \u001b[34m\u001b[1mDEBUG   \u001b[0m | \u001b[36mkmr.models.SFNEBlock\u001b[0m:\u001b[36mcall\u001b[0m:\u001b[36m202\u001b[0m - \u001b[34m\u001b[1mSFNEBlock global_output shape: (None, 64, 16)\u001b[0m\n",
      "\u001b[32m2025-10-30 17:22:08.184\u001b[0m | \u001b[34m\u001b[1mDEBUG   \u001b[0m | \u001b[36mkmr.models.SFNEBlock\u001b[0m:\u001b[36mcall\u001b[0m:\u001b[36m206\u001b[0m - \u001b[34m\u001b[1mSFNEBlock local_output shape: (None, 64, 16)\u001b[0m\n",
      "\u001b[32m2025-10-30 17:22:08.185\u001b[0m | \u001b[34m\u001b[1mDEBUG   \u001b[0m | \u001b[36mkmr.models.SFNEBlock\u001b[0m:\u001b[36mcall\u001b[0m:\u001b[36m210\u001b[0m - \u001b[34m\u001b[1mSFNEBlock combined_output shape: (None, 64, 32)\u001b[0m\n",
      "\u001b[32m2025-10-30 17:22:08.185\u001b[0m | \u001b[34m\u001b[1mDEBUG   \u001b[0m | \u001b[36mkmr.models.SFNEBlock\u001b[0m:\u001b[36mcall\u001b[0m:\u001b[36m217\u001b[0m - \u001b[34m\u001b[1mSFNEBlock combined_output_flat shape: (None, 2048)\u001b[0m\n",
      "\u001b[32m2025-10-30 17:22:08.188\u001b[0m | \u001b[34m\u001b[1mDEBUG   \u001b[0m | \u001b[36mkmr.models.SFNEBlock\u001b[0m:\u001b[36mcall\u001b[0m:\u001b[36m223\u001b[0m - \u001b[34m\u001b[1mSFNEBlock bottleneck_output shape: (None, 16)\u001b[0m\n",
      "\u001b[32m2025-10-30 17:22:08.191\u001b[0m | \u001b[34m\u001b[1mDEBUG   \u001b[0m | \u001b[36mkmr.models.SFNEBlock\u001b[0m:\u001b[36mcall\u001b[0m:\u001b[36m227\u001b[0m - \u001b[34m\u001b[1mSFNEBlock output_layer output shape: (None, 16)\u001b[0m\n",
      "\u001b[32m2025-10-30 17:22:08.191\u001b[0m | \u001b[34m\u001b[1mDEBUG   \u001b[0m | \u001b[36mkmr.models.TerminatorModel\u001b[0m:\u001b[36mcall\u001b[0m:\u001b[36m227\u001b[0m - \u001b[34m\u001b[1mTerminatorModel SFNEBlock 1 output shape: (None, 16)\u001b[0m\n",
      "\u001b[32m2025-10-30 17:22:08.191\u001b[0m | \u001b[34m\u001b[1mDEBUG   \u001b[0m | \u001b[36mkmr.models.SFNEBlock\u001b[0m:\u001b[36mcall\u001b[0m:\u001b[36m176\u001b[0m - \u001b[34m\u001b[1mSFNEBlock input shape: (None, 16)\u001b[0m\n",
      "\u001b[32m2025-10-30 17:22:08.196\u001b[0m | \u001b[34m\u001b[1mDEBUG   \u001b[0m | \u001b[36mkmr.layers.SlowNetwork\u001b[0m:\u001b[36mcall\u001b[0m:\u001b[36m122\u001b[0m - \u001b[34m\u001b[1mSlowNetwork input shape: (None, 64)\u001b[0m\n",
      "\u001b[32m2025-10-30 17:22:08.198\u001b[0m | \u001b[34m\u001b[1mDEBUG   \u001b[0m | \u001b[36mkmr.layers.SlowNetwork\u001b[0m:\u001b[36mcall\u001b[0m:\u001b[36m126\u001b[0m - \u001b[34m\u001b[1mSlowNetwork layer 0 output shape: (None, 128)\u001b[0m\n",
      "\u001b[32m2025-10-30 17:22:08.200\u001b[0m | \u001b[34m\u001b[1mDEBUG   \u001b[0m | \u001b[36mkmr.layers.SlowNetwork\u001b[0m:\u001b[36mcall\u001b[0m:\u001b[36m126\u001b[0m - \u001b[34m\u001b[1mSlowNetwork layer 1 output shape: (None, 128)\u001b[0m\n",
      "\u001b[32m2025-10-30 17:22:08.202\u001b[0m | \u001b[34m\u001b[1mDEBUG   \u001b[0m | \u001b[36mkmr.layers.SlowNetwork\u001b[0m:\u001b[36mcall\u001b[0m:\u001b[36m126\u001b[0m - \u001b[34m\u001b[1mSlowNetwork layer 2 output shape: (None, 128)\u001b[0m\n",
      "\u001b[32m2025-10-30 17:22:08.203\u001b[0m | \u001b[34m\u001b[1mDEBUG   \u001b[0m | \u001b[36mkmr.layers.SlowNetwork\u001b[0m:\u001b[36mcall\u001b[0m:\u001b[36m129\u001b[0m - \u001b[34m\u001b[1mSlowNetwork output shape: (None, 16)\u001b[0m\n",
      "\u001b[32m2025-10-30 17:22:08.203\u001b[0m | \u001b[34m\u001b[1mDEBUG   \u001b[0m | \u001b[36mkmr.models.SFNEBlock\u001b[0m:\u001b[36mcall\u001b[0m:\u001b[36m188\u001b[0m - \u001b[34m\u001b[1mSFNEBlock hyper_kernels shape: (None, 16)\u001b[0m\n",
      "\u001b[32m2025-10-30 17:22:08.203\u001b[0m | \u001b[34m\u001b[1mDEBUG   \u001b[0m | \u001b[36mkmr.layers.HyperZZWOperator\u001b[0m:\u001b[36mcall\u001b[0m:\u001b[36m132\u001b[0m - \u001b[34m\u001b[1mHyperZZWOperator input_tensor shape: (None, 64)\u001b[0m\n",
      "\u001b[32m2025-10-30 17:22:08.204\u001b[0m | \u001b[34m\u001b[1mDEBUG   \u001b[0m | \u001b[36mkmr.layers.HyperZZWOperator\u001b[0m:\u001b[36mcall\u001b[0m:\u001b[36m133\u001b[0m - \u001b[34m\u001b[1mHyperZZWOperator context_tensor shape: (None, 16)\u001b[0m\n",
      "\u001b[32m2025-10-30 17:22:08.205\u001b[0m | \u001b[34m\u001b[1mDEBUG   \u001b[0m | \u001b[36mkmr.layers.HyperZZWOperator\u001b[0m:\u001b[36mcall\u001b[0m:\u001b[36m153\u001b[0m - \u001b[34m\u001b[1mHyperZZWOperator output shape: (None, 64)\u001b[0m\n",
      "\u001b[32m2025-10-30 17:22:08.205\u001b[0m | \u001b[34m\u001b[1mDEBUG   \u001b[0m | \u001b[36mkmr.models.SFNEBlock\u001b[0m:\u001b[36mcall\u001b[0m:\u001b[36m192\u001b[0m - \u001b[34m\u001b[1mSFNEBlock context_weights shape: (None, 64)\u001b[0m\n",
      "\u001b[32m2025-10-30 17:22:08.206\u001b[0m | \u001b[34m\u001b[1mDEBUG   \u001b[0m | \u001b[36mkmr.models.SFNEBlock\u001b[0m:\u001b[36mcall\u001b[0m:\u001b[36m196\u001b[0m - \u001b[34m\u001b[1mSFNEBlock context_weights_expanded shape: (None, 64, 1)\u001b[0m\n",
      "\u001b[32m2025-10-30 17:22:08.210\u001b[0m | \u001b[34m\u001b[1mDEBUG   \u001b[0m | \u001b[36mkmr.models.SFNEBlock\u001b[0m:\u001b[36mcall\u001b[0m:\u001b[36m202\u001b[0m - \u001b[34m\u001b[1mSFNEBlock global_output shape: (None, 64, 16)\u001b[0m\n",
      "\u001b[32m2025-10-30 17:22:08.213\u001b[0m | \u001b[34m\u001b[1mDEBUG   \u001b[0m | \u001b[36mkmr.models.SFNEBlock\u001b[0m:\u001b[36mcall\u001b[0m:\u001b[36m206\u001b[0m - \u001b[34m\u001b[1mSFNEBlock local_output shape: (None, 64, 16)\u001b[0m\n",
      "\u001b[32m2025-10-30 17:22:08.214\u001b[0m | \u001b[34m\u001b[1mDEBUG   \u001b[0m | \u001b[36mkmr.models.SFNEBlock\u001b[0m:\u001b[36mcall\u001b[0m:\u001b[36m210\u001b[0m - \u001b[34m\u001b[1mSFNEBlock combined_output shape: (None, 64, 32)\u001b[0m\n",
      "\u001b[32m2025-10-30 17:22:08.214\u001b[0m | \u001b[34m\u001b[1mDEBUG   \u001b[0m | \u001b[36mkmr.models.SFNEBlock\u001b[0m:\u001b[36mcall\u001b[0m:\u001b[36m217\u001b[0m - \u001b[34m\u001b[1mSFNEBlock combined_output_flat shape: (None, 2048)\u001b[0m\n",
      "\u001b[32m2025-10-30 17:22:08.216\u001b[0m | \u001b[34m\u001b[1mDEBUG   \u001b[0m | \u001b[36mkmr.models.SFNEBlock\u001b[0m:\u001b[36mcall\u001b[0m:\u001b[36m223\u001b[0m - \u001b[34m\u001b[1mSFNEBlock bottleneck_output shape: (None, 16)\u001b[0m\n",
      "\u001b[32m2025-10-30 17:22:08.218\u001b[0m | \u001b[34m\u001b[1mDEBUG   \u001b[0m | \u001b[36mkmr.models.SFNEBlock\u001b[0m:\u001b[36mcall\u001b[0m:\u001b[36m227\u001b[0m - \u001b[34m\u001b[1mSFNEBlock output_layer output shape: (None, 16)\u001b[0m\n",
      "\u001b[32m2025-10-30 17:22:08.218\u001b[0m | \u001b[34m\u001b[1mDEBUG   \u001b[0m | \u001b[36mkmr.models.TerminatorModel\u001b[0m:\u001b[36mcall\u001b[0m:\u001b[36m227\u001b[0m - \u001b[34m\u001b[1mTerminatorModel SFNEBlock 2 output shape: (None, 16)\u001b[0m\n",
      "\u001b[32m2025-10-30 17:22:08.220\u001b[0m | \u001b[34m\u001b[1mDEBUG   \u001b[0m | \u001b[36mkmr.models.TerminatorModel\u001b[0m:\u001b[36mcall\u001b[0m:\u001b[36m234\u001b[0m - \u001b[34m\u001b[1mTerminatorModel output_layer output shape: (None, 1)\u001b[0m\n"
     ]
    },
    {
     "name": "stdout",
     "output_type": "stream",
     "text": [
      "\u001b[1m22/22\u001b[0m \u001b[32m━━━━━━━━━━━━━━━━━━━━\u001b[0m\u001b[37m\u001b[0m \u001b[1m4s\u001b[0m 29ms/step - accuracy: 0.5749 - auc: 0.6234 - loss: 0.6729 - precision: 0.5590 - recall: 0.7099 - val_accuracy: 0.6333 - val_auc: 0.7051 - val_loss: 0.6361 - val_precision: 0.6581 - val_recall: 0.5238 - learning_rate: 0.0010\n",
      "Epoch 2/30\n",
      "\u001b[1m22/22\u001b[0m \u001b[32m━━━━━━━━━━━━━━━━━━━━\u001b[0m\u001b[37m\u001b[0m \u001b[1m0s\u001b[0m 6ms/step - accuracy: 0.6591 - auc: 0.7623 - loss: 0.5904 - precision: 0.7132 - recall: 0.5409 - val_accuracy: 0.7767 - val_auc: 0.8590 - val_loss: 0.5141 - val_precision: 0.7778 - val_recall: 0.7619 - learning_rate: 0.0010\n",
      "Epoch 3/30\n",
      "\u001b[1m22/22\u001b[0m \u001b[32m━━━━━━━━━━━━━━━━━━━━\u001b[0m\u001b[37m\u001b[0m \u001b[1m0s\u001b[0m 6ms/step - accuracy: 0.7978 - auc: 0.8741 - loss: 0.4541 - precision: 0.8004 - recall: 0.8060 - val_accuracy: 0.8167 - val_auc: 0.8818 - val_loss: 0.4506 - val_precision: 0.8108 - val_recall: 0.8163 - learning_rate: 0.0010\n",
      "Epoch 4/30\n",
      "\u001b[1m22/22\u001b[0m \u001b[32m━━━━━━━━━━━━━━━━━━━━\u001b[0m\u001b[37m\u001b[0m \u001b[1m0s\u001b[0m 6ms/step - accuracy: 0.8187 - auc: 0.9052 - loss: 0.3964 - precision: 0.8335 - recall: 0.8180 - val_accuracy: 0.8133 - val_auc: 0.8882 - val_loss: 0.4367 - val_precision: 0.8182 - val_recall: 0.7959 - learning_rate: 0.0010\n",
      "Epoch 5/30\n",
      "\u001b[1m22/22\u001b[0m \u001b[32m━━━━━━━━━━━━━━━━━━━━\u001b[0m\u001b[37m\u001b[0m \u001b[1m0s\u001b[0m 7ms/step - accuracy: 0.8459 - auc: 0.9222 - loss: 0.3582 - precision: 0.8632 - recall: 0.8512 - val_accuracy: 0.8167 - val_auc: 0.8956 - val_loss: 0.4437 - val_precision: 0.7805 - val_recall: 0.8707 - learning_rate: 0.0010\n",
      "Epoch 6/30\n",
      "\u001b[1m22/22\u001b[0m \u001b[32m━━━━━━━━━━━━━━━━━━━━\u001b[0m\u001b[37m\u001b[0m \u001b[1m0s\u001b[0m 7ms/step - accuracy: 0.8451 - auc: 0.9330 - loss: 0.3323 - precision: 0.8328 - recall: 0.8593 - val_accuracy: 0.8100 - val_auc: 0.8959 - val_loss: 0.4319 - val_precision: 0.7961 - val_recall: 0.8231 - learning_rate: 0.0010\n",
      "Epoch 7/30\n",
      "\u001b[1m22/22\u001b[0m \u001b[32m━━━━━━━━━━━━━━━━━━━━\u001b[0m\u001b[37m\u001b[0m \u001b[1m0s\u001b[0m 7ms/step - accuracy: 0.8768 - auc: 0.9488 - loss: 0.2970 - precision: 0.8709 - recall: 0.8856 - val_accuracy: 0.8100 - val_auc: 0.8967 - val_loss: 0.4775 - val_precision: 0.7586 - val_recall: 0.8980 - learning_rate: 0.0010\n",
      "Epoch 8/30\n",
      "\u001b[1m22/22\u001b[0m \u001b[32m━━━━━━━━━━━━━━━━━━━━\u001b[0m\u001b[37m\u001b[0m \u001b[1m0s\u001b[0m 7ms/step - accuracy: 0.8657 - auc: 0.9536 - loss: 0.2801 - precision: 0.8723 - recall: 0.8657 - val_accuracy: 0.8167 - val_auc: 0.8995 - val_loss: 0.4455 - val_precision: 0.8194 - val_recall: 0.8027 - learning_rate: 0.0010\n",
      "Epoch 9/30\n",
      "\u001b[1m22/22\u001b[0m \u001b[32m━━━━━━━━━━━━━━━━━━━━\u001b[0m\u001b[37m\u001b[0m \u001b[1m0s\u001b[0m 7ms/step - accuracy: 0.8870 - auc: 0.9625 - loss: 0.2485 - precision: 0.8971 - recall: 0.8778 - val_accuracy: 0.8200 - val_auc: 0.8994 - val_loss: 0.4329 - val_precision: 0.8252 - val_recall: 0.8027 - learning_rate: 0.0010\n",
      "Epoch 10/30\n",
      "\u001b[1m22/22\u001b[0m \u001b[32m━━━━━━━━━━━━━━━━━━━━\u001b[0m\u001b[37m\u001b[0m \u001b[1m0s\u001b[0m 7ms/step - accuracy: 0.8994 - auc: 0.9629 - loss: 0.2472 - precision: 0.9154 - recall: 0.8875 - val_accuracy: 0.8400 - val_auc: 0.9033 - val_loss: 0.4518 - val_precision: 0.8278 - val_recall: 0.8503 - learning_rate: 5.0000e-04\n",
      "Epoch 11/30\n",
      "\u001b[1m22/22\u001b[0m \u001b[32m━━━━━━━━━━━━━━━━━━━━\u001b[0m\u001b[37m\u001b[0m \u001b[1m0s\u001b[0m 7ms/step - accuracy: 0.9201 - auc: 0.9742 - loss: 0.2077 - precision: 0.9251 - recall: 0.9183 - val_accuracy: 0.8200 - val_auc: 0.8945 - val_loss: 0.4825 - val_precision: 0.8000 - val_recall: 0.8435 - learning_rate: 5.0000e-04\n",
      "✅ Training with preprocessing completed!\n"
     ]
    },
    {
     "name": "stderr",
     "output_type": "stream",
     "text": [
      "/Users/piotrlaczkowski/Library/Caches/pypoetry/virtualenvs/kmr-S1SSCx8j-py3.12/lib/python3.12/site-packages/keras/src/models/functional.py:237: UserWarning:\n",
      "\n",
      "The structure of `inputs` doesn't match the expected structure.\n",
      "Expected: {'input_0': 'input_0', 'input_1': 'input_1'}\n",
      "Received: inputs=['Tensor(shape=(32, 16))', 'Tensor(shape=(32, 8))']\n",
      "\n",
      "\u001b[32m2025-10-30 17:22:10.271\u001b[0m | \u001b[34m\u001b[1mDEBUG   \u001b[0m | \u001b[36mkmr.models.TerminatorModel\u001b[0m:\u001b[36mcall\u001b[0m:\u001b[36m205\u001b[0m - \u001b[34m\u001b[1mTerminatorModel input shape: (32, 16), context shape: (32, 8)\u001b[0m\n",
      "\u001b[32m2025-10-30 17:22:10.273\u001b[0m | \u001b[34m\u001b[1mDEBUG   \u001b[0m | \u001b[36mkmr.models.TerminatorModel\u001b[0m:\u001b[36mcall\u001b[0m:\u001b[36m211\u001b[0m - \u001b[34m\u001b[1mTerminatorModel input_layer output shape: (32, 16)\u001b[0m\n",
      "\u001b[32m2025-10-30 17:22:10.273\u001b[0m | \u001b[34m\u001b[1mDEBUG   \u001b[0m | \u001b[36mkmr.layers.SlowNetwork\u001b[0m:\u001b[36mcall\u001b[0m:\u001b[36m122\u001b[0m - \u001b[34m\u001b[1mSlowNetwork input shape: (32, 8)\u001b[0m\n",
      "\u001b[32m2025-10-30 17:22:10.275\u001b[0m | \u001b[34m\u001b[1mDEBUG   \u001b[0m | \u001b[36mkmr.layers.SlowNetwork\u001b[0m:\u001b[36mcall\u001b[0m:\u001b[36m126\u001b[0m - \u001b[34m\u001b[1mSlowNetwork layer 0 output shape: (32, 128)\u001b[0m\n",
      "\u001b[32m2025-10-30 17:22:10.277\u001b[0m | \u001b[34m\u001b[1mDEBUG   \u001b[0m | \u001b[36mkmr.layers.SlowNetwork\u001b[0m:\u001b[36mcall\u001b[0m:\u001b[36m126\u001b[0m - \u001b[34m\u001b[1mSlowNetwork layer 1 output shape: (32, 128)\u001b[0m\n",
      "\u001b[32m2025-10-30 17:22:10.278\u001b[0m | \u001b[34m\u001b[1mDEBUG   \u001b[0m | \u001b[36mkmr.layers.SlowNetwork\u001b[0m:\u001b[36mcall\u001b[0m:\u001b[36m126\u001b[0m - \u001b[34m\u001b[1mSlowNetwork layer 2 output shape: (32, 128)\u001b[0m\n",
      "\u001b[32m2025-10-30 17:22:10.280\u001b[0m | \u001b[34m\u001b[1mDEBUG   \u001b[0m | \u001b[36mkmr.layers.SlowNetwork\u001b[0m:\u001b[36mcall\u001b[0m:\u001b[36m129\u001b[0m - \u001b[34m\u001b[1mSlowNetwork output shape: (32, 8)\u001b[0m\n",
      "\u001b[32m2025-10-30 17:22:10.280\u001b[0m | \u001b[34m\u001b[1mDEBUG   \u001b[0m | \u001b[36mkmr.models.TerminatorModel\u001b[0m:\u001b[36mcall\u001b[0m:\u001b[36m215\u001b[0m - \u001b[34m\u001b[1mTerminatorModel hyper_kernels shape: (32, 8)\u001b[0m\n",
      "\u001b[32m2025-10-30 17:22:10.280\u001b[0m | \u001b[34m\u001b[1mDEBUG   \u001b[0m | \u001b[36mkmr.layers.HyperZZWOperator\u001b[0m:\u001b[36mcall\u001b[0m:\u001b[36m132\u001b[0m - \u001b[34m\u001b[1mHyperZZWOperator input_tensor shape: (32, 16)\u001b[0m\n",
      "\u001b[32m2025-10-30 17:22:10.280\u001b[0m | \u001b[34m\u001b[1mDEBUG   \u001b[0m | \u001b[36mkmr.layers.HyperZZWOperator\u001b[0m:\u001b[36mcall\u001b[0m:\u001b[36m133\u001b[0m - \u001b[34m\u001b[1mHyperZZWOperator context_tensor shape: (32, 8)\u001b[0m\n",
      "\u001b[32m2025-10-30 17:22:10.281\u001b[0m | \u001b[34m\u001b[1mDEBUG   \u001b[0m | \u001b[36mkmr.layers.HyperZZWOperator\u001b[0m:\u001b[36mcall\u001b[0m:\u001b[36m153\u001b[0m - \u001b[34m\u001b[1mHyperZZWOperator output shape: (32, 16)\u001b[0m\n",
      "\u001b[32m2025-10-30 17:22:10.281\u001b[0m | \u001b[34m\u001b[1mDEBUG   \u001b[0m | \u001b[36mkmr.models.TerminatorModel\u001b[0m:\u001b[36mcall\u001b[0m:\u001b[36m219\u001b[0m - \u001b[34m\u001b[1mTerminatorModel context_weights shape: (32, 16)\u001b[0m\n",
      "\u001b[32m2025-10-30 17:22:10.283\u001b[0m | \u001b[34m\u001b[1mDEBUG   \u001b[0m | \u001b[36mkmr.models.SFNEBlock\u001b[0m:\u001b[36mcall\u001b[0m:\u001b[36m176\u001b[0m - \u001b[34m\u001b[1mSFNEBlock input shape: (32, 16)\u001b[0m\n",
      "\u001b[32m2025-10-30 17:22:10.289\u001b[0m | \u001b[34m\u001b[1mDEBUG   \u001b[0m | \u001b[36mkmr.layers.SlowNetwork\u001b[0m:\u001b[36mcall\u001b[0m:\u001b[36m122\u001b[0m - \u001b[34m\u001b[1mSlowNetwork input shape: (32, 64)\u001b[0m\n",
      "\u001b[32m2025-10-30 17:22:10.291\u001b[0m | \u001b[34m\u001b[1mDEBUG   \u001b[0m | \u001b[36mkmr.layers.SlowNetwork\u001b[0m:\u001b[36mcall\u001b[0m:\u001b[36m126\u001b[0m - \u001b[34m\u001b[1mSlowNetwork layer 0 output shape: (32, 128)\u001b[0m\n",
      "\u001b[32m2025-10-30 17:22:10.292\u001b[0m | \u001b[34m\u001b[1mDEBUG   \u001b[0m | \u001b[36mkmr.layers.SlowNetwork\u001b[0m:\u001b[36mcall\u001b[0m:\u001b[36m126\u001b[0m - \u001b[34m\u001b[1mSlowNetwork layer 1 output shape: (32, 128)\u001b[0m\n",
      "\u001b[32m2025-10-30 17:22:10.294\u001b[0m | \u001b[34m\u001b[1mDEBUG   \u001b[0m | \u001b[36mkmr.layers.SlowNetwork\u001b[0m:\u001b[36mcall\u001b[0m:\u001b[36m126\u001b[0m - \u001b[34m\u001b[1mSlowNetwork layer 2 output shape: (32, 128)\u001b[0m\n",
      "\u001b[32m2025-10-30 17:22:10.296\u001b[0m | \u001b[34m\u001b[1mDEBUG   \u001b[0m | \u001b[36mkmr.layers.SlowNetwork\u001b[0m:\u001b[36mcall\u001b[0m:\u001b[36m129\u001b[0m - \u001b[34m\u001b[1mSlowNetwork output shape: (32, 16)\u001b[0m\n",
      "\u001b[32m2025-10-30 17:22:10.296\u001b[0m | \u001b[34m\u001b[1mDEBUG   \u001b[0m | \u001b[36mkmr.models.SFNEBlock\u001b[0m:\u001b[36mcall\u001b[0m:\u001b[36m188\u001b[0m - \u001b[34m\u001b[1mSFNEBlock hyper_kernels shape: (32, 16)\u001b[0m\n",
      "\u001b[32m2025-10-30 17:22:10.297\u001b[0m | \u001b[34m\u001b[1mDEBUG   \u001b[0m | \u001b[36mkmr.layers.HyperZZWOperator\u001b[0m:\u001b[36mcall\u001b[0m:\u001b[36m132\u001b[0m - \u001b[34m\u001b[1mHyperZZWOperator input_tensor shape: (32, 64)\u001b[0m\n",
      "\u001b[32m2025-10-30 17:22:10.297\u001b[0m | \u001b[34m\u001b[1mDEBUG   \u001b[0m | \u001b[36mkmr.layers.HyperZZWOperator\u001b[0m:\u001b[36mcall\u001b[0m:\u001b[36m133\u001b[0m - \u001b[34m\u001b[1mHyperZZWOperator context_tensor shape: (32, 16)\u001b[0m\n",
      "\u001b[32m2025-10-30 17:22:10.298\u001b[0m | \u001b[34m\u001b[1mDEBUG   \u001b[0m | \u001b[36mkmr.layers.HyperZZWOperator\u001b[0m:\u001b[36mcall\u001b[0m:\u001b[36m153\u001b[0m - \u001b[34m\u001b[1mHyperZZWOperator output shape: (32, 64)\u001b[0m\n",
      "\u001b[32m2025-10-30 17:22:10.298\u001b[0m | \u001b[34m\u001b[1mDEBUG   \u001b[0m | \u001b[36mkmr.models.SFNEBlock\u001b[0m:\u001b[36mcall\u001b[0m:\u001b[36m192\u001b[0m - \u001b[34m\u001b[1mSFNEBlock context_weights shape: (32, 64)\u001b[0m\n",
      "\u001b[32m2025-10-30 17:22:10.299\u001b[0m | \u001b[34m\u001b[1mDEBUG   \u001b[0m | \u001b[36mkmr.models.SFNEBlock\u001b[0m:\u001b[36mcall\u001b[0m:\u001b[36m196\u001b[0m - \u001b[34m\u001b[1mSFNEBlock context_weights_expanded shape: (32, 64, 1)\u001b[0m\n",
      "\u001b[32m2025-10-30 17:22:10.303\u001b[0m | \u001b[34m\u001b[1mDEBUG   \u001b[0m | \u001b[36mkmr.models.SFNEBlock\u001b[0m:\u001b[36mcall\u001b[0m:\u001b[36m202\u001b[0m - \u001b[34m\u001b[1mSFNEBlock global_output shape: (32, 64, 16)\u001b[0m\n",
      "\u001b[32m2025-10-30 17:22:10.306\u001b[0m | \u001b[34m\u001b[1mDEBUG   \u001b[0m | \u001b[36mkmr.models.SFNEBlock\u001b[0m:\u001b[36mcall\u001b[0m:\u001b[36m206\u001b[0m - \u001b[34m\u001b[1mSFNEBlock local_output shape: (32, 64, 16)\u001b[0m\n",
      "\u001b[32m2025-10-30 17:22:10.307\u001b[0m | \u001b[34m\u001b[1mDEBUG   \u001b[0m | \u001b[36mkmr.models.SFNEBlock\u001b[0m:\u001b[36mcall\u001b[0m:\u001b[36m210\u001b[0m - \u001b[34m\u001b[1mSFNEBlock combined_output shape: (32, 64, 32)\u001b[0m\n",
      "\u001b[32m2025-10-30 17:22:10.308\u001b[0m | \u001b[34m\u001b[1mDEBUG   \u001b[0m | \u001b[36mkmr.models.SFNEBlock\u001b[0m:\u001b[36mcall\u001b[0m:\u001b[36m217\u001b[0m - \u001b[34m\u001b[1mSFNEBlock combined_output_flat shape: (32, 2048)\u001b[0m\n",
      "\u001b[32m2025-10-30 17:22:10.309\u001b[0m | \u001b[34m\u001b[1mDEBUG   \u001b[0m | \u001b[36mkmr.models.SFNEBlock\u001b[0m:\u001b[36mcall\u001b[0m:\u001b[36m223\u001b[0m - \u001b[34m\u001b[1mSFNEBlock bottleneck_output shape: (32, 16)\u001b[0m\n",
      "\u001b[32m2025-10-30 17:22:10.312\u001b[0m | \u001b[34m\u001b[1mDEBUG   \u001b[0m | \u001b[36mkmr.models.SFNEBlock\u001b[0m:\u001b[36mcall\u001b[0m:\u001b[36m227\u001b[0m - \u001b[34m\u001b[1mSFNEBlock output_layer output shape: (32, 16)\u001b[0m\n",
      "\u001b[32m2025-10-30 17:22:10.312\u001b[0m | \u001b[34m\u001b[1mDEBUG   \u001b[0m | \u001b[36mkmr.models.TerminatorModel\u001b[0m:\u001b[36mcall\u001b[0m:\u001b[36m227\u001b[0m - \u001b[34m\u001b[1mTerminatorModel SFNEBlock 0 output shape: (32, 16)\u001b[0m\n",
      "\u001b[32m2025-10-30 17:22:10.312\u001b[0m | \u001b[34m\u001b[1mDEBUG   \u001b[0m | \u001b[36mkmr.models.SFNEBlock\u001b[0m:\u001b[36mcall\u001b[0m:\u001b[36m176\u001b[0m - \u001b[34m\u001b[1mSFNEBlock input shape: (32, 16)\u001b[0m\n",
      "\u001b[32m2025-10-30 17:22:10.317\u001b[0m | \u001b[34m\u001b[1mDEBUG   \u001b[0m | \u001b[36mkmr.layers.SlowNetwork\u001b[0m:\u001b[36mcall\u001b[0m:\u001b[36m122\u001b[0m - \u001b[34m\u001b[1mSlowNetwork input shape: (32, 64)\u001b[0m\n",
      "\u001b[32m2025-10-30 17:22:10.319\u001b[0m | \u001b[34m\u001b[1mDEBUG   \u001b[0m | \u001b[36mkmr.layers.SlowNetwork\u001b[0m:\u001b[36mcall\u001b[0m:\u001b[36m126\u001b[0m - \u001b[34m\u001b[1mSlowNetwork layer 0 output shape: (32, 128)\u001b[0m\n",
      "\u001b[32m2025-10-30 17:22:10.320\u001b[0m | \u001b[34m\u001b[1mDEBUG   \u001b[0m | \u001b[36mkmr.layers.SlowNetwork\u001b[0m:\u001b[36mcall\u001b[0m:\u001b[36m126\u001b[0m - \u001b[34m\u001b[1mSlowNetwork layer 1 output shape: (32, 128)\u001b[0m\n",
      "\u001b[32m2025-10-30 17:22:10.322\u001b[0m | \u001b[34m\u001b[1mDEBUG   \u001b[0m | \u001b[36mkmr.layers.SlowNetwork\u001b[0m:\u001b[36mcall\u001b[0m:\u001b[36m126\u001b[0m - \u001b[34m\u001b[1mSlowNetwork layer 2 output shape: (32, 128)\u001b[0m\n",
      "\u001b[32m2025-10-30 17:22:10.323\u001b[0m | \u001b[34m\u001b[1mDEBUG   \u001b[0m | \u001b[36mkmr.layers.SlowNetwork\u001b[0m:\u001b[36mcall\u001b[0m:\u001b[36m129\u001b[0m - \u001b[34m\u001b[1mSlowNetwork output shape: (32, 16)\u001b[0m\n",
      "\u001b[32m2025-10-30 17:22:10.324\u001b[0m | \u001b[34m\u001b[1mDEBUG   \u001b[0m | \u001b[36mkmr.models.SFNEBlock\u001b[0m:\u001b[36mcall\u001b[0m:\u001b[36m188\u001b[0m - \u001b[34m\u001b[1mSFNEBlock hyper_kernels shape: (32, 16)\u001b[0m\n",
      "\u001b[32m2025-10-30 17:22:10.324\u001b[0m | \u001b[34m\u001b[1mDEBUG   \u001b[0m | \u001b[36mkmr.layers.HyperZZWOperator\u001b[0m:\u001b[36mcall\u001b[0m:\u001b[36m132\u001b[0m - \u001b[34m\u001b[1mHyperZZWOperator input_tensor shape: (32, 64)\u001b[0m\n",
      "\u001b[32m2025-10-30 17:22:10.324\u001b[0m | \u001b[34m\u001b[1mDEBUG   \u001b[0m | \u001b[36mkmr.layers.HyperZZWOperator\u001b[0m:\u001b[36mcall\u001b[0m:\u001b[36m133\u001b[0m - \u001b[34m\u001b[1mHyperZZWOperator context_tensor shape: (32, 16)\u001b[0m\n",
      "\u001b[32m2025-10-30 17:22:10.325\u001b[0m | \u001b[34m\u001b[1mDEBUG   \u001b[0m | \u001b[36mkmr.layers.HyperZZWOperator\u001b[0m:\u001b[36mcall\u001b[0m:\u001b[36m153\u001b[0m - \u001b[34m\u001b[1mHyperZZWOperator output shape: (32, 64)\u001b[0m\n",
      "\u001b[32m2025-10-30 17:22:10.325\u001b[0m | \u001b[34m\u001b[1mDEBUG   \u001b[0m | \u001b[36mkmr.models.SFNEBlock\u001b[0m:\u001b[36mcall\u001b[0m:\u001b[36m192\u001b[0m - \u001b[34m\u001b[1mSFNEBlock context_weights shape: (32, 64)\u001b[0m\n",
      "\u001b[32m2025-10-30 17:22:10.326\u001b[0m | \u001b[34m\u001b[1mDEBUG   \u001b[0m | \u001b[36mkmr.models.SFNEBlock\u001b[0m:\u001b[36mcall\u001b[0m:\u001b[36m196\u001b[0m - \u001b[34m\u001b[1mSFNEBlock context_weights_expanded shape: (32, 64, 1)\u001b[0m\n",
      "\u001b[32m2025-10-30 17:22:10.330\u001b[0m | \u001b[34m\u001b[1mDEBUG   \u001b[0m | \u001b[36mkmr.models.SFNEBlock\u001b[0m:\u001b[36mcall\u001b[0m:\u001b[36m202\u001b[0m - \u001b[34m\u001b[1mSFNEBlock global_output shape: (32, 64, 16)\u001b[0m\n",
      "\u001b[32m2025-10-30 17:22:10.333\u001b[0m | \u001b[34m\u001b[1mDEBUG   \u001b[0m | \u001b[36mkmr.models.SFNEBlock\u001b[0m:\u001b[36mcall\u001b[0m:\u001b[36m206\u001b[0m - \u001b[34m\u001b[1mSFNEBlock local_output shape: (32, 64, 16)\u001b[0m\n",
      "\u001b[32m2025-10-30 17:22:10.333\u001b[0m | \u001b[34m\u001b[1mDEBUG   \u001b[0m | \u001b[36mkmr.models.SFNEBlock\u001b[0m:\u001b[36mcall\u001b[0m:\u001b[36m210\u001b[0m - \u001b[34m\u001b[1mSFNEBlock combined_output shape: (32, 64, 32)\u001b[0m\n",
      "\u001b[32m2025-10-30 17:22:10.334\u001b[0m | \u001b[34m\u001b[1mDEBUG   \u001b[0m | \u001b[36mkmr.models.SFNEBlock\u001b[0m:\u001b[36mcall\u001b[0m:\u001b[36m217\u001b[0m - \u001b[34m\u001b[1mSFNEBlock combined_output_flat shape: (32, 2048)\u001b[0m\n",
      "\u001b[32m2025-10-30 17:22:10.336\u001b[0m | \u001b[34m\u001b[1mDEBUG   \u001b[0m | \u001b[36mkmr.models.SFNEBlock\u001b[0m:\u001b[36mcall\u001b[0m:\u001b[36m223\u001b[0m - \u001b[34m\u001b[1mSFNEBlock bottleneck_output shape: (32, 16)\u001b[0m\n",
      "\u001b[32m2025-10-30 17:22:10.337\u001b[0m | \u001b[34m\u001b[1mDEBUG   \u001b[0m | \u001b[36mkmr.models.SFNEBlock\u001b[0m:\u001b[36mcall\u001b[0m:\u001b[36m227\u001b[0m - \u001b[34m\u001b[1mSFNEBlock output_layer output shape: (32, 16)\u001b[0m\n",
      "\u001b[32m2025-10-30 17:22:10.337\u001b[0m | \u001b[34m\u001b[1mDEBUG   \u001b[0m | \u001b[36mkmr.models.TerminatorModel\u001b[0m:\u001b[36mcall\u001b[0m:\u001b[36m227\u001b[0m - \u001b[34m\u001b[1mTerminatorModel SFNEBlock 1 output shape: (32, 16)\u001b[0m\n",
      "\u001b[32m2025-10-30 17:22:10.338\u001b[0m | \u001b[34m\u001b[1mDEBUG   \u001b[0m | \u001b[36mkmr.models.SFNEBlock\u001b[0m:\u001b[36mcall\u001b[0m:\u001b[36m176\u001b[0m - \u001b[34m\u001b[1mSFNEBlock input shape: (32, 16)\u001b[0m\n",
      "\u001b[32m2025-10-30 17:22:10.342\u001b[0m | \u001b[34m\u001b[1mDEBUG   \u001b[0m | \u001b[36mkmr.layers.SlowNetwork\u001b[0m:\u001b[36mcall\u001b[0m:\u001b[36m122\u001b[0m - \u001b[34m\u001b[1mSlowNetwork input shape: (32, 64)\u001b[0m\n",
      "\u001b[32m2025-10-30 17:22:10.344\u001b[0m | \u001b[34m\u001b[1mDEBUG   \u001b[0m | \u001b[36mkmr.layers.SlowNetwork\u001b[0m:\u001b[36mcall\u001b[0m:\u001b[36m126\u001b[0m - \u001b[34m\u001b[1mSlowNetwork layer 0 output shape: (32, 128)\u001b[0m\n",
      "\u001b[32m2025-10-30 17:22:10.346\u001b[0m | \u001b[34m\u001b[1mDEBUG   \u001b[0m | \u001b[36mkmr.layers.SlowNetwork\u001b[0m:\u001b[36mcall\u001b[0m:\u001b[36m126\u001b[0m - \u001b[34m\u001b[1mSlowNetwork layer 1 output shape: (32, 128)\u001b[0m\n",
      "\u001b[32m2025-10-30 17:22:10.349\u001b[0m | \u001b[34m\u001b[1mDEBUG   \u001b[0m | \u001b[36mkmr.layers.SlowNetwork\u001b[0m:\u001b[36mcall\u001b[0m:\u001b[36m126\u001b[0m - \u001b[34m\u001b[1mSlowNetwork layer 2 output shape: (32, 128)\u001b[0m\n",
      "\u001b[32m2025-10-30 17:22:10.351\u001b[0m | \u001b[34m\u001b[1mDEBUG   \u001b[0m | \u001b[36mkmr.layers.SlowNetwork\u001b[0m:\u001b[36mcall\u001b[0m:\u001b[36m129\u001b[0m - \u001b[34m\u001b[1mSlowNetwork output shape: (32, 16)\u001b[0m\n",
      "\u001b[32m2025-10-30 17:22:10.351\u001b[0m | \u001b[34m\u001b[1mDEBUG   \u001b[0m | \u001b[36mkmr.models.SFNEBlock\u001b[0m:\u001b[36mcall\u001b[0m:\u001b[36m188\u001b[0m - \u001b[34m\u001b[1mSFNEBlock hyper_kernels shape: (32, 16)\u001b[0m\n",
      "\u001b[32m2025-10-30 17:22:10.351\u001b[0m | \u001b[34m\u001b[1mDEBUG   \u001b[0m | \u001b[36mkmr.layers.HyperZZWOperator\u001b[0m:\u001b[36mcall\u001b[0m:\u001b[36m132\u001b[0m - \u001b[34m\u001b[1mHyperZZWOperator input_tensor shape: (32, 64)\u001b[0m\n",
      "\u001b[32m2025-10-30 17:22:10.352\u001b[0m | \u001b[34m\u001b[1mDEBUG   \u001b[0m | \u001b[36mkmr.layers.HyperZZWOperator\u001b[0m:\u001b[36mcall\u001b[0m:\u001b[36m133\u001b[0m - \u001b[34m\u001b[1mHyperZZWOperator context_tensor shape: (32, 16)\u001b[0m\n",
      "\u001b[32m2025-10-30 17:22:10.353\u001b[0m | \u001b[34m\u001b[1mDEBUG   \u001b[0m | \u001b[36mkmr.layers.HyperZZWOperator\u001b[0m:\u001b[36mcall\u001b[0m:\u001b[36m153\u001b[0m - \u001b[34m\u001b[1mHyperZZWOperator output shape: (32, 64)\u001b[0m\n",
      "\u001b[32m2025-10-30 17:22:10.353\u001b[0m | \u001b[34m\u001b[1mDEBUG   \u001b[0m | \u001b[36mkmr.models.SFNEBlock\u001b[0m:\u001b[36mcall\u001b[0m:\u001b[36m192\u001b[0m - \u001b[34m\u001b[1mSFNEBlock context_weights shape: (32, 64)\u001b[0m\n",
      "\u001b[32m2025-10-30 17:22:10.354\u001b[0m | \u001b[34m\u001b[1mDEBUG   \u001b[0m | \u001b[36mkmr.models.SFNEBlock\u001b[0m:\u001b[36mcall\u001b[0m:\u001b[36m196\u001b[0m - \u001b[34m\u001b[1mSFNEBlock context_weights_expanded shape: (32, 64, 1)\u001b[0m\n",
      "\u001b[32m2025-10-30 17:22:10.358\u001b[0m | \u001b[34m\u001b[1mDEBUG   \u001b[0m | \u001b[36mkmr.models.SFNEBlock\u001b[0m:\u001b[36mcall\u001b[0m:\u001b[36m202\u001b[0m - \u001b[34m\u001b[1mSFNEBlock global_output shape: (32, 64, 16)\u001b[0m\n",
      "\u001b[32m2025-10-30 17:22:10.361\u001b[0m | \u001b[34m\u001b[1mDEBUG   \u001b[0m | \u001b[36mkmr.models.SFNEBlock\u001b[0m:\u001b[36mcall\u001b[0m:\u001b[36m206\u001b[0m - \u001b[34m\u001b[1mSFNEBlock local_output shape: (32, 64, 16)\u001b[0m\n",
      "\u001b[32m2025-10-30 17:22:10.361\u001b[0m | \u001b[34m\u001b[1mDEBUG   \u001b[0m | \u001b[36mkmr.models.SFNEBlock\u001b[0m:\u001b[36mcall\u001b[0m:\u001b[36m210\u001b[0m - \u001b[34m\u001b[1mSFNEBlock combined_output shape: (32, 64, 32)\u001b[0m\n",
      "\u001b[32m2025-10-30 17:22:10.362\u001b[0m | \u001b[34m\u001b[1mDEBUG   \u001b[0m | \u001b[36mkmr.models.SFNEBlock\u001b[0m:\u001b[36mcall\u001b[0m:\u001b[36m217\u001b[0m - \u001b[34m\u001b[1mSFNEBlock combined_output_flat shape: (32, 2048)\u001b[0m\n",
      "\u001b[32m2025-10-30 17:22:10.364\u001b[0m | \u001b[34m\u001b[1mDEBUG   \u001b[0m | \u001b[36mkmr.models.SFNEBlock\u001b[0m:\u001b[36mcall\u001b[0m:\u001b[36m223\u001b[0m - \u001b[34m\u001b[1mSFNEBlock bottleneck_output shape: (32, 16)\u001b[0m\n",
      "\u001b[32m2025-10-30 17:22:10.366\u001b[0m | \u001b[34m\u001b[1mDEBUG   \u001b[0m | \u001b[36mkmr.models.SFNEBlock\u001b[0m:\u001b[36mcall\u001b[0m:\u001b[36m227\u001b[0m - \u001b[34m\u001b[1mSFNEBlock output_layer output shape: (32, 16)\u001b[0m\n",
      "\u001b[32m2025-10-30 17:22:10.366\u001b[0m | \u001b[34m\u001b[1mDEBUG   \u001b[0m | \u001b[36mkmr.models.TerminatorModel\u001b[0m:\u001b[36mcall\u001b[0m:\u001b[36m227\u001b[0m - \u001b[34m\u001b[1mTerminatorModel SFNEBlock 2 output shape: (32, 16)\u001b[0m\n",
      "\u001b[32m2025-10-30 17:22:10.368\u001b[0m | \u001b[34m\u001b[1mDEBUG   \u001b[0m | \u001b[36mkmr.models.TerminatorModel\u001b[0m:\u001b[36mcall\u001b[0m:\u001b[36m234\u001b[0m - \u001b[34m\u001b[1mTerminatorModel output_layer output shape: (32, 1)\u001b[0m\n",
      "\u001b[32m2025-10-30 17:22:10.447\u001b[0m | \u001b[34m\u001b[1mDEBUG   \u001b[0m | \u001b[36mkmr.models.TerminatorModel\u001b[0m:\u001b[36mcall\u001b[0m:\u001b[36m205\u001b[0m - \u001b[34m\u001b[1mTerminatorModel input shape: (None, 16), context shape: (None, 8)\u001b[0m\n",
      "\u001b[32m2025-10-30 17:22:10.449\u001b[0m | \u001b[34m\u001b[1mDEBUG   \u001b[0m | \u001b[36mkmr.models.TerminatorModel\u001b[0m:\u001b[36mcall\u001b[0m:\u001b[36m211\u001b[0m - \u001b[34m\u001b[1mTerminatorModel input_layer output shape: (None, 16)\u001b[0m\n",
      "\u001b[32m2025-10-30 17:22:10.449\u001b[0m | \u001b[34m\u001b[1mDEBUG   \u001b[0m | \u001b[36mkmr.layers.SlowNetwork\u001b[0m:\u001b[36mcall\u001b[0m:\u001b[36m122\u001b[0m - \u001b[34m\u001b[1mSlowNetwork input shape: (None, 8)\u001b[0m\n",
      "\u001b[32m2025-10-30 17:22:10.451\u001b[0m | \u001b[34m\u001b[1mDEBUG   \u001b[0m | \u001b[36mkmr.layers.SlowNetwork\u001b[0m:\u001b[36mcall\u001b[0m:\u001b[36m126\u001b[0m - \u001b[34m\u001b[1mSlowNetwork layer 0 output shape: (None, 128)\u001b[0m\n",
      "\u001b[32m2025-10-30 17:22:10.452\u001b[0m | \u001b[34m\u001b[1mDEBUG   \u001b[0m | \u001b[36mkmr.layers.SlowNetwork\u001b[0m:\u001b[36mcall\u001b[0m:\u001b[36m126\u001b[0m - \u001b[34m\u001b[1mSlowNetwork layer 1 output shape: (None, 128)\u001b[0m\n",
      "\u001b[32m2025-10-30 17:22:10.454\u001b[0m | \u001b[34m\u001b[1mDEBUG   \u001b[0m | \u001b[36mkmr.layers.SlowNetwork\u001b[0m:\u001b[36mcall\u001b[0m:\u001b[36m126\u001b[0m - \u001b[34m\u001b[1mSlowNetwork layer 2 output shape: (None, 128)\u001b[0m\n",
      "\u001b[32m2025-10-30 17:22:10.455\u001b[0m | \u001b[34m\u001b[1mDEBUG   \u001b[0m | \u001b[36mkmr.layers.SlowNetwork\u001b[0m:\u001b[36mcall\u001b[0m:\u001b[36m129\u001b[0m - \u001b[34m\u001b[1mSlowNetwork output shape: (None, 8)\u001b[0m\n",
      "\u001b[32m2025-10-30 17:22:10.456\u001b[0m | \u001b[34m\u001b[1mDEBUG   \u001b[0m | \u001b[36mkmr.models.TerminatorModel\u001b[0m:\u001b[36mcall\u001b[0m:\u001b[36m215\u001b[0m - \u001b[34m\u001b[1mTerminatorModel hyper_kernels shape: (None, 8)\u001b[0m\n",
      "\u001b[32m2025-10-30 17:22:10.456\u001b[0m | \u001b[34m\u001b[1mDEBUG   \u001b[0m | \u001b[36mkmr.layers.HyperZZWOperator\u001b[0m:\u001b[36mcall\u001b[0m:\u001b[36m132\u001b[0m - \u001b[34m\u001b[1mHyperZZWOperator input_tensor shape: (None, 16)\u001b[0m\n",
      "\u001b[32m2025-10-30 17:22:10.456\u001b[0m | \u001b[34m\u001b[1mDEBUG   \u001b[0m | \u001b[36mkmr.layers.HyperZZWOperator\u001b[0m:\u001b[36mcall\u001b[0m:\u001b[36m133\u001b[0m - \u001b[34m\u001b[1mHyperZZWOperator context_tensor shape: (None, 8)\u001b[0m\n",
      "\u001b[32m2025-10-30 17:22:10.457\u001b[0m | \u001b[34m\u001b[1mDEBUG   \u001b[0m | \u001b[36mkmr.layers.HyperZZWOperator\u001b[0m:\u001b[36mcall\u001b[0m:\u001b[36m153\u001b[0m - \u001b[34m\u001b[1mHyperZZWOperator output shape: (None, 16)\u001b[0m\n",
      "\u001b[32m2025-10-30 17:22:10.457\u001b[0m | \u001b[34m\u001b[1mDEBUG   \u001b[0m | \u001b[36mkmr.models.TerminatorModel\u001b[0m:\u001b[36mcall\u001b[0m:\u001b[36m219\u001b[0m - \u001b[34m\u001b[1mTerminatorModel context_weights shape: (None, 16)\u001b[0m\n",
      "\u001b[32m2025-10-30 17:22:10.459\u001b[0m | \u001b[34m\u001b[1mDEBUG   \u001b[0m | \u001b[36mkmr.models.SFNEBlock\u001b[0m:\u001b[36mcall\u001b[0m:\u001b[36m176\u001b[0m - \u001b[34m\u001b[1mSFNEBlock input shape: (None, 16)\u001b[0m\n",
      "\u001b[32m2025-10-30 17:22:10.463\u001b[0m | \u001b[34m\u001b[1mDEBUG   \u001b[0m | \u001b[36mkmr.layers.SlowNetwork\u001b[0m:\u001b[36mcall\u001b[0m:\u001b[36m122\u001b[0m - \u001b[34m\u001b[1mSlowNetwork input shape: (None, 64)\u001b[0m\n",
      "\u001b[32m2025-10-30 17:22:10.465\u001b[0m | \u001b[34m\u001b[1mDEBUG   \u001b[0m | \u001b[36mkmr.layers.SlowNetwork\u001b[0m:\u001b[36mcall\u001b[0m:\u001b[36m126\u001b[0m - \u001b[34m\u001b[1mSlowNetwork layer 0 output shape: (None, 128)\u001b[0m\n",
      "\u001b[32m2025-10-30 17:22:10.467\u001b[0m | \u001b[34m\u001b[1mDEBUG   \u001b[0m | \u001b[36mkmr.layers.SlowNetwork\u001b[0m:\u001b[36mcall\u001b[0m:\u001b[36m126\u001b[0m - \u001b[34m\u001b[1mSlowNetwork layer 1 output shape: (None, 128)\u001b[0m\n",
      "\u001b[32m2025-10-30 17:22:10.468\u001b[0m | \u001b[34m\u001b[1mDEBUG   \u001b[0m | \u001b[36mkmr.layers.SlowNetwork\u001b[0m:\u001b[36mcall\u001b[0m:\u001b[36m126\u001b[0m - \u001b[34m\u001b[1mSlowNetwork layer 2 output shape: (None, 128)\u001b[0m\n",
      "\u001b[32m2025-10-30 17:22:10.470\u001b[0m | \u001b[34m\u001b[1mDEBUG   \u001b[0m | \u001b[36mkmr.layers.SlowNetwork\u001b[0m:\u001b[36mcall\u001b[0m:\u001b[36m129\u001b[0m - \u001b[34m\u001b[1mSlowNetwork output shape: (None, 16)\u001b[0m\n",
      "\u001b[32m2025-10-30 17:22:10.470\u001b[0m | \u001b[34m\u001b[1mDEBUG   \u001b[0m | \u001b[36mkmr.models.SFNEBlock\u001b[0m:\u001b[36mcall\u001b[0m:\u001b[36m188\u001b[0m - \u001b[34m\u001b[1mSFNEBlock hyper_kernels shape: (None, 16)\u001b[0m\n",
      "\u001b[32m2025-10-30 17:22:10.470\u001b[0m | \u001b[34m\u001b[1mDEBUG   \u001b[0m | \u001b[36mkmr.layers.HyperZZWOperator\u001b[0m:\u001b[36mcall\u001b[0m:\u001b[36m132\u001b[0m - \u001b[34m\u001b[1mHyperZZWOperator input_tensor shape: (None, 64)\u001b[0m\n",
      "\u001b[32m2025-10-30 17:22:10.470\u001b[0m | \u001b[34m\u001b[1mDEBUG   \u001b[0m | \u001b[36mkmr.layers.HyperZZWOperator\u001b[0m:\u001b[36mcall\u001b[0m:\u001b[36m133\u001b[0m - \u001b[34m\u001b[1mHyperZZWOperator context_tensor shape: (None, 16)\u001b[0m\n",
      "\u001b[32m2025-10-30 17:22:10.472\u001b[0m | \u001b[34m\u001b[1mDEBUG   \u001b[0m | \u001b[36mkmr.layers.HyperZZWOperator\u001b[0m:\u001b[36mcall\u001b[0m:\u001b[36m153\u001b[0m - \u001b[34m\u001b[1mHyperZZWOperator output shape: (None, 64)\u001b[0m\n",
      "\u001b[32m2025-10-30 17:22:10.472\u001b[0m | \u001b[34m\u001b[1mDEBUG   \u001b[0m | \u001b[36mkmr.models.SFNEBlock\u001b[0m:\u001b[36mcall\u001b[0m:\u001b[36m192\u001b[0m - \u001b[34m\u001b[1mSFNEBlock context_weights shape: (None, 64)\u001b[0m\n",
      "\u001b[32m2025-10-30 17:22:10.472\u001b[0m | \u001b[34m\u001b[1mDEBUG   \u001b[0m | \u001b[36mkmr.models.SFNEBlock\u001b[0m:\u001b[36mcall\u001b[0m:\u001b[36m196\u001b[0m - \u001b[34m\u001b[1mSFNEBlock context_weights_expanded shape: (None, 64, 1)\u001b[0m\n",
      "\u001b[32m2025-10-30 17:22:10.477\u001b[0m | \u001b[34m\u001b[1mDEBUG   \u001b[0m | \u001b[36mkmr.models.SFNEBlock\u001b[0m:\u001b[36mcall\u001b[0m:\u001b[36m202\u001b[0m - \u001b[34m\u001b[1mSFNEBlock global_output shape: (None, 64, 16)\u001b[0m\n",
      "\u001b[32m2025-10-30 17:22:10.482\u001b[0m | \u001b[34m\u001b[1mDEBUG   \u001b[0m | \u001b[36mkmr.models.SFNEBlock\u001b[0m:\u001b[36mcall\u001b[0m:\u001b[36m206\u001b[0m - \u001b[34m\u001b[1mSFNEBlock local_output shape: (None, 64, 16)\u001b[0m\n",
      "\u001b[32m2025-10-30 17:22:10.482\u001b[0m | \u001b[34m\u001b[1mDEBUG   \u001b[0m | \u001b[36mkmr.models.SFNEBlock\u001b[0m:\u001b[36mcall\u001b[0m:\u001b[36m210\u001b[0m - \u001b[34m\u001b[1mSFNEBlock combined_output shape: (None, 64, 32)\u001b[0m\n",
      "\u001b[32m2025-10-30 17:22:10.483\u001b[0m | \u001b[34m\u001b[1mDEBUG   \u001b[0m | \u001b[36mkmr.models.SFNEBlock\u001b[0m:\u001b[36mcall\u001b[0m:\u001b[36m217\u001b[0m - \u001b[34m\u001b[1mSFNEBlock combined_output_flat shape: (None, 2048)\u001b[0m\n",
      "\u001b[32m2025-10-30 17:22:10.485\u001b[0m | \u001b[34m\u001b[1mDEBUG   \u001b[0m | \u001b[36mkmr.models.SFNEBlock\u001b[0m:\u001b[36mcall\u001b[0m:\u001b[36m223\u001b[0m - \u001b[34m\u001b[1mSFNEBlock bottleneck_output shape: (None, 16)\u001b[0m\n",
      "\u001b[32m2025-10-30 17:22:10.487\u001b[0m | \u001b[34m\u001b[1mDEBUG   \u001b[0m | \u001b[36mkmr.models.SFNEBlock\u001b[0m:\u001b[36mcall\u001b[0m:\u001b[36m227\u001b[0m - \u001b[34m\u001b[1mSFNEBlock output_layer output shape: (None, 16)\u001b[0m\n",
      "\u001b[32m2025-10-30 17:22:10.487\u001b[0m | \u001b[34m\u001b[1mDEBUG   \u001b[0m | \u001b[36mkmr.models.TerminatorModel\u001b[0m:\u001b[36mcall\u001b[0m:\u001b[36m227\u001b[0m - \u001b[34m\u001b[1mTerminatorModel SFNEBlock 0 output shape: (None, 16)\u001b[0m\n",
      "\u001b[32m2025-10-30 17:22:10.488\u001b[0m | \u001b[34m\u001b[1mDEBUG   \u001b[0m | \u001b[36mkmr.models.SFNEBlock\u001b[0m:\u001b[36mcall\u001b[0m:\u001b[36m176\u001b[0m - \u001b[34m\u001b[1mSFNEBlock input shape: (None, 16)\u001b[0m\n",
      "\u001b[32m2025-10-30 17:22:10.492\u001b[0m | \u001b[34m\u001b[1mDEBUG   \u001b[0m | \u001b[36mkmr.layers.SlowNetwork\u001b[0m:\u001b[36mcall\u001b[0m:\u001b[36m122\u001b[0m - \u001b[34m\u001b[1mSlowNetwork input shape: (None, 64)\u001b[0m\n",
      "\u001b[32m2025-10-30 17:22:10.494\u001b[0m | \u001b[34m\u001b[1mDEBUG   \u001b[0m | \u001b[36mkmr.layers.SlowNetwork\u001b[0m:\u001b[36mcall\u001b[0m:\u001b[36m126\u001b[0m - \u001b[34m\u001b[1mSlowNetwork layer 0 output shape: (None, 128)\u001b[0m\n",
      "\u001b[32m2025-10-30 17:22:10.496\u001b[0m | \u001b[34m\u001b[1mDEBUG   \u001b[0m | \u001b[36mkmr.layers.SlowNetwork\u001b[0m:\u001b[36mcall\u001b[0m:\u001b[36m126\u001b[0m - \u001b[34m\u001b[1mSlowNetwork layer 1 output shape: (None, 128)\u001b[0m\n",
      "\u001b[32m2025-10-30 17:22:10.498\u001b[0m | \u001b[34m\u001b[1mDEBUG   \u001b[0m | \u001b[36mkmr.layers.SlowNetwork\u001b[0m:\u001b[36mcall\u001b[0m:\u001b[36m126\u001b[0m - \u001b[34m\u001b[1mSlowNetwork layer 2 output shape: (None, 128)\u001b[0m\n",
      "\u001b[32m2025-10-30 17:22:10.499\u001b[0m | \u001b[34m\u001b[1mDEBUG   \u001b[0m | \u001b[36mkmr.layers.SlowNetwork\u001b[0m:\u001b[36mcall\u001b[0m:\u001b[36m129\u001b[0m - \u001b[34m\u001b[1mSlowNetwork output shape: (None, 16)\u001b[0m\n",
      "\u001b[32m2025-10-30 17:22:10.500\u001b[0m | \u001b[34m\u001b[1mDEBUG   \u001b[0m | \u001b[36mkmr.models.SFNEBlock\u001b[0m:\u001b[36mcall\u001b[0m:\u001b[36m188\u001b[0m - \u001b[34m\u001b[1mSFNEBlock hyper_kernels shape: (None, 16)\u001b[0m\n",
      "\u001b[32m2025-10-30 17:22:10.500\u001b[0m | \u001b[34m\u001b[1mDEBUG   \u001b[0m | \u001b[36mkmr.layers.HyperZZWOperator\u001b[0m:\u001b[36mcall\u001b[0m:\u001b[36m132\u001b[0m - \u001b[34m\u001b[1mHyperZZWOperator input_tensor shape: (None, 64)\u001b[0m\n",
      "\u001b[32m2025-10-30 17:22:10.500\u001b[0m | \u001b[34m\u001b[1mDEBUG   \u001b[0m | \u001b[36mkmr.layers.HyperZZWOperator\u001b[0m:\u001b[36mcall\u001b[0m:\u001b[36m133\u001b[0m - \u001b[34m\u001b[1mHyperZZWOperator context_tensor shape: (None, 16)\u001b[0m\n",
      "\u001b[32m2025-10-30 17:22:10.501\u001b[0m | \u001b[34m\u001b[1mDEBUG   \u001b[0m | \u001b[36mkmr.layers.HyperZZWOperator\u001b[0m:\u001b[36mcall\u001b[0m:\u001b[36m153\u001b[0m - \u001b[34m\u001b[1mHyperZZWOperator output shape: (None, 64)\u001b[0m\n",
      "\u001b[32m2025-10-30 17:22:10.501\u001b[0m | \u001b[34m\u001b[1mDEBUG   \u001b[0m | \u001b[36mkmr.models.SFNEBlock\u001b[0m:\u001b[36mcall\u001b[0m:\u001b[36m192\u001b[0m - \u001b[34m\u001b[1mSFNEBlock context_weights shape: (None, 64)\u001b[0m\n",
      "\u001b[32m2025-10-30 17:22:10.502\u001b[0m | \u001b[34m\u001b[1mDEBUG   \u001b[0m | \u001b[36mkmr.models.SFNEBlock\u001b[0m:\u001b[36mcall\u001b[0m:\u001b[36m196\u001b[0m - \u001b[34m\u001b[1mSFNEBlock context_weights_expanded shape: (None, 64, 1)\u001b[0m\n",
      "\u001b[32m2025-10-30 17:22:10.505\u001b[0m | \u001b[34m\u001b[1mDEBUG   \u001b[0m | \u001b[36mkmr.models.SFNEBlock\u001b[0m:\u001b[36mcall\u001b[0m:\u001b[36m202\u001b[0m - \u001b[34m\u001b[1mSFNEBlock global_output shape: (None, 64, 16)\u001b[0m\n",
      "\u001b[32m2025-10-30 17:22:10.509\u001b[0m | \u001b[34m\u001b[1mDEBUG   \u001b[0m | \u001b[36mkmr.models.SFNEBlock\u001b[0m:\u001b[36mcall\u001b[0m:\u001b[36m206\u001b[0m - \u001b[34m\u001b[1mSFNEBlock local_output shape: (None, 64, 16)\u001b[0m\n",
      "\u001b[32m2025-10-30 17:22:10.509\u001b[0m | \u001b[34m\u001b[1mDEBUG   \u001b[0m | \u001b[36mkmr.models.SFNEBlock\u001b[0m:\u001b[36mcall\u001b[0m:\u001b[36m210\u001b[0m - \u001b[34m\u001b[1mSFNEBlock combined_output shape: (None, 64, 32)\u001b[0m\n",
      "\u001b[32m2025-10-30 17:22:10.510\u001b[0m | \u001b[34m\u001b[1mDEBUG   \u001b[0m | \u001b[36mkmr.models.SFNEBlock\u001b[0m:\u001b[36mcall\u001b[0m:\u001b[36m217\u001b[0m - \u001b[34m\u001b[1mSFNEBlock combined_output_flat shape: (None, 2048)\u001b[0m\n",
      "\u001b[32m2025-10-30 17:22:10.512\u001b[0m | \u001b[34m\u001b[1mDEBUG   \u001b[0m | \u001b[36mkmr.models.SFNEBlock\u001b[0m:\u001b[36mcall\u001b[0m:\u001b[36m223\u001b[0m - \u001b[34m\u001b[1mSFNEBlock bottleneck_output shape: (None, 16)\u001b[0m\n",
      "\u001b[32m2025-10-30 17:22:10.513\u001b[0m | \u001b[34m\u001b[1mDEBUG   \u001b[0m | \u001b[36mkmr.models.SFNEBlock\u001b[0m:\u001b[36mcall\u001b[0m:\u001b[36m227\u001b[0m - \u001b[34m\u001b[1mSFNEBlock output_layer output shape: (None, 16)\u001b[0m\n",
      "\u001b[32m2025-10-30 17:22:10.514\u001b[0m | \u001b[34m\u001b[1mDEBUG   \u001b[0m | \u001b[36mkmr.models.TerminatorModel\u001b[0m:\u001b[36mcall\u001b[0m:\u001b[36m227\u001b[0m - \u001b[34m\u001b[1mTerminatorModel SFNEBlock 1 output shape: (None, 16)\u001b[0m\n",
      "\u001b[32m2025-10-30 17:22:10.514\u001b[0m | \u001b[34m\u001b[1mDEBUG   \u001b[0m | \u001b[36mkmr.models.SFNEBlock\u001b[0m:\u001b[36mcall\u001b[0m:\u001b[36m176\u001b[0m - \u001b[34m\u001b[1mSFNEBlock input shape: (None, 16)\u001b[0m\n",
      "\u001b[32m2025-10-30 17:22:10.518\u001b[0m | \u001b[34m\u001b[1mDEBUG   \u001b[0m | \u001b[36mkmr.layers.SlowNetwork\u001b[0m:\u001b[36mcall\u001b[0m:\u001b[36m122\u001b[0m - \u001b[34m\u001b[1mSlowNetwork input shape: (None, 64)\u001b[0m\n",
      "\u001b[32m2025-10-30 17:22:10.520\u001b[0m | \u001b[34m\u001b[1mDEBUG   \u001b[0m | \u001b[36mkmr.layers.SlowNetwork\u001b[0m:\u001b[36mcall\u001b[0m:\u001b[36m126\u001b[0m - \u001b[34m\u001b[1mSlowNetwork layer 0 output shape: (None, 128)\u001b[0m\n",
      "\u001b[32m2025-10-30 17:22:10.521\u001b[0m | \u001b[34m\u001b[1mDEBUG   \u001b[0m | \u001b[36mkmr.layers.SlowNetwork\u001b[0m:\u001b[36mcall\u001b[0m:\u001b[36m126\u001b[0m - \u001b[34m\u001b[1mSlowNetwork layer 1 output shape: (None, 128)\u001b[0m\n",
      "\u001b[32m2025-10-30 17:22:10.523\u001b[0m | \u001b[34m\u001b[1mDEBUG   \u001b[0m | \u001b[36mkmr.layers.SlowNetwork\u001b[0m:\u001b[36mcall\u001b[0m:\u001b[36m126\u001b[0m - \u001b[34m\u001b[1mSlowNetwork layer 2 output shape: (None, 128)\u001b[0m\n",
      "\u001b[32m2025-10-30 17:22:10.525\u001b[0m | \u001b[34m\u001b[1mDEBUG   \u001b[0m | \u001b[36mkmr.layers.SlowNetwork\u001b[0m:\u001b[36mcall\u001b[0m:\u001b[36m129\u001b[0m - \u001b[34m\u001b[1mSlowNetwork output shape: (None, 16)\u001b[0m\n",
      "\u001b[32m2025-10-30 17:22:10.525\u001b[0m | \u001b[34m\u001b[1mDEBUG   \u001b[0m | \u001b[36mkmr.models.SFNEBlock\u001b[0m:\u001b[36mcall\u001b[0m:\u001b[36m188\u001b[0m - \u001b[34m\u001b[1mSFNEBlock hyper_kernels shape: (None, 16)\u001b[0m\n",
      "\u001b[32m2025-10-30 17:22:10.525\u001b[0m | \u001b[34m\u001b[1mDEBUG   \u001b[0m | \u001b[36mkmr.layers.HyperZZWOperator\u001b[0m:\u001b[36mcall\u001b[0m:\u001b[36m132\u001b[0m - \u001b[34m\u001b[1mHyperZZWOperator input_tensor shape: (None, 64)\u001b[0m\n",
      "\u001b[32m2025-10-30 17:22:10.525\u001b[0m | \u001b[34m\u001b[1mDEBUG   \u001b[0m | \u001b[36mkmr.layers.HyperZZWOperator\u001b[0m:\u001b[36mcall\u001b[0m:\u001b[36m133\u001b[0m - \u001b[34m\u001b[1mHyperZZWOperator context_tensor shape: (None, 16)\u001b[0m\n",
      "\u001b[32m2025-10-30 17:22:10.526\u001b[0m | \u001b[34m\u001b[1mDEBUG   \u001b[0m | \u001b[36mkmr.layers.HyperZZWOperator\u001b[0m:\u001b[36mcall\u001b[0m:\u001b[36m153\u001b[0m - \u001b[34m\u001b[1mHyperZZWOperator output shape: (None, 64)\u001b[0m\n",
      "\u001b[32m2025-10-30 17:22:10.526\u001b[0m | \u001b[34m\u001b[1mDEBUG   \u001b[0m | \u001b[36mkmr.models.SFNEBlock\u001b[0m:\u001b[36mcall\u001b[0m:\u001b[36m192\u001b[0m - \u001b[34m\u001b[1mSFNEBlock context_weights shape: (None, 64)\u001b[0m\n",
      "\u001b[32m2025-10-30 17:22:10.527\u001b[0m | \u001b[34m\u001b[1mDEBUG   \u001b[0m | \u001b[36mkmr.models.SFNEBlock\u001b[0m:\u001b[36mcall\u001b[0m:\u001b[36m196\u001b[0m - \u001b[34m\u001b[1mSFNEBlock context_weights_expanded shape: (None, 64, 1)\u001b[0m\n",
      "\u001b[32m2025-10-30 17:22:10.530\u001b[0m | \u001b[34m\u001b[1mDEBUG   \u001b[0m | \u001b[36mkmr.models.SFNEBlock\u001b[0m:\u001b[36mcall\u001b[0m:\u001b[36m202\u001b[0m - \u001b[34m\u001b[1mSFNEBlock global_output shape: (None, 64, 16)\u001b[0m\n",
      "\u001b[32m2025-10-30 17:22:10.533\u001b[0m | \u001b[34m\u001b[1mDEBUG   \u001b[0m | \u001b[36mkmr.models.SFNEBlock\u001b[0m:\u001b[36mcall\u001b[0m:\u001b[36m206\u001b[0m - \u001b[34m\u001b[1mSFNEBlock local_output shape: (None, 64, 16)\u001b[0m\n",
      "\u001b[32m2025-10-30 17:22:10.534\u001b[0m | \u001b[34m\u001b[1mDEBUG   \u001b[0m | \u001b[36mkmr.models.SFNEBlock\u001b[0m:\u001b[36mcall\u001b[0m:\u001b[36m210\u001b[0m - \u001b[34m\u001b[1mSFNEBlock combined_output shape: (None, 64, 32)\u001b[0m\n",
      "\u001b[32m2025-10-30 17:22:10.534\u001b[0m | \u001b[34m\u001b[1mDEBUG   \u001b[0m | \u001b[36mkmr.models.SFNEBlock\u001b[0m:\u001b[36mcall\u001b[0m:\u001b[36m217\u001b[0m - \u001b[34m\u001b[1mSFNEBlock combined_output_flat shape: (None, 2048)\u001b[0m\n",
      "\u001b[32m2025-10-30 17:22:10.536\u001b[0m | \u001b[34m\u001b[1mDEBUG   \u001b[0m | \u001b[36mkmr.models.SFNEBlock\u001b[0m:\u001b[36mcall\u001b[0m:\u001b[36m223\u001b[0m - \u001b[34m\u001b[1mSFNEBlock bottleneck_output shape: (None, 16)\u001b[0m\n",
      "\u001b[32m2025-10-30 17:22:10.537\u001b[0m | \u001b[34m\u001b[1mDEBUG   \u001b[0m | \u001b[36mkmr.models.SFNEBlock\u001b[0m:\u001b[36mcall\u001b[0m:\u001b[36m227\u001b[0m - \u001b[34m\u001b[1mSFNEBlock output_layer output shape: (None, 16)\u001b[0m\n",
      "\u001b[32m2025-10-30 17:22:10.538\u001b[0m | \u001b[34m\u001b[1mDEBUG   \u001b[0m | \u001b[36mkmr.models.TerminatorModel\u001b[0m:\u001b[36mcall\u001b[0m:\u001b[36m227\u001b[0m - \u001b[34m\u001b[1mTerminatorModel SFNEBlock 2 output shape: (None, 16)\u001b[0m\n",
      "\u001b[32m2025-10-30 17:22:10.540\u001b[0m | \u001b[34m\u001b[1mDEBUG   \u001b[0m | \u001b[36mkmr.models.TerminatorModel\u001b[0m:\u001b[36mcall\u001b[0m:\u001b[36m234\u001b[0m - \u001b[34m\u001b[1mTerminatorModel output_layer output shape: (None, 1)\u001b[0m\n"
     ]
    },
    {
     "name": "stdout",
     "output_type": "stream",
     "text": [
      "Test (preproc) -> loss 0.4059, acc 0.8233, prec 0.8214, recall 0.8042, auc 0.9012\n"
     ]
    },
    {
     "data": {
      "application/vnd.plotly.v1+json": {
       "config": {
        "plotlyServerURL": "https://plot.ly"
       },
       "data": [
        {
         "colorscale": [
          [
           0,
           "rgb(247,251,255)"
          ],
          [
           0.125,
           "rgb(222,235,247)"
          ],
          [
           0.25,
           "rgb(198,219,239)"
          ],
          [
           0.375,
           "rgb(158,202,225)"
          ],
          [
           0.5,
           "rgb(107,174,214)"
          ],
          [
           0.625,
           "rgb(66,146,198)"
          ],
          [
           0.75,
           "rgb(33,113,181)"
          ],
          [
           0.875,
           "rgb(8,81,156)"
          ],
          [
           1,
           "rgb(8,48,107)"
          ]
         ],
         "text": {
          "bdata": "hAAZABwAcwA=",
          "dtype": "i2",
          "shape": "2, 2"
         },
         "textfont": {
          "size": 16
         },
         "texttemplate": "%{text}",
         "type": "heatmap",
         "x": [
          "Predicted 0",
          "Predicted 1"
         ],
         "xaxis": "x",
         "y": [
          "Actual 0",
          "Actual 1"
         ],
         "yaxis": "y",
         "z": {
          "bdata": "hAAZABwAcwA=",
          "dtype": "i2",
          "shape": "2, 2"
         }
        },
        {
         "marker": {
          "color": [
           "#1f77b4",
           "#ff7f0e",
           "#2ca02c",
           "#d62728"
          ]
         },
         "type": "bar",
         "x": [
          "Accuracy",
          "Precision",
          "Recall",
          "F1-Score"
         ],
         "xaxis": "x2",
         "y": [
          0.8233333333333334,
          0.8214285714285714,
          0.8041958041958042,
          0.8127208480565371
         ],
         "yaxis": "y2"
        },
        {
         "name": "Scores",
         "nbinsx": 30,
         "type": "histogram",
         "x": {
          "bdata": "kR5eP038aD/Za3E/3dQ5PRaWez9t5/48+496P1fidD5MX04/7g1kPbCYlT6qSn8/foLhO+mqez8hPdE+5bIMP6/SfT+DxT8/+54YPodF7D3gJGM/1vMCPwwfHz4nbB89AAbrPt7HfT+1JH0/dzx+PzSVTzlcJIU9qgBkPzH0Wz7jozI9PxpkP5btLj0vg4A+G1WrPmARST+Z9WI/mhZ9P6jqRD4qGVs/sH4cP1J/VD+B6Qs+7f9/P6hcdD9zA2s+nNmaPrxknz6yH34/Qnd3PmfbCj+NfXA/mCcYOT64ST+sg50+5cyFPp0tgjyfECU/BhSMPaB1Bj9b680+m6f8PqkiUz7urQE/lxgLPxIgKz88aRo+QUvIPgQoJT9gdiw9f611PxRGBz52vyE+EWgjP36FIj2q/H8/rsm5PYFLez+bWBU+ZSNoPh/rej/zTFM8oyx7Pzw2gD6keFQ/ncfHPd71SD9u94A9+MZ8P5rGID5CHyI+qvOXOlLRLz+Ll2I/9A3AOzsRZj6Pd24/FMGvPtCXvz0cWkM+SAcoPyFZxzsgB9I7DhiFO+u7gjwrUnw/3RnVPQVHWD2pyy4+Vzo0PbBtyj5+d2g//NVlPkYKez/PM3g+KE1+P2wBMTvIyCg/hRI3PMUa3z3wKus+TVR+P5Q4eD+mdkE/oPqFPPPwfD8+JGs/Xux/PzjD5D5Cr+w+YerZPgztXj/plpI8AehJP90gfT8vAz0+4rEtP2B4aj4DS30/t2YgP8Pbej0hU6A+9IRjP3KwOTqbjGo/NOUCP/5LZD/MEbc+1SS8PXIBzT6rSpI7OyN/PzYhsj78oH4/CfB/P61EJj7FZGU/DLW5PnRbTj8UVLs8Vi19Py5tuTniVOc9qxk0PgXrdj/14Xk/k+l/P3KioTykL1E/AF/sPiTAfj8ycOY+dl4TP48VPzouHp4+jVJ7P6gMrz2NcGg/F6M7PnFDIToQSVc+qtMPPv73BT/P+ws/1T8eP0ommT4OVbg9CEkUPmGjiT0lw4Q+G85yPRyFez8J7zQ9Ww3EPunlJT91Wn8/ybR+P5YHcT34Lh49ssx/PoJtyzvzL84+MQGEPL45fj8tTIo9pbz5PMM9XT36UCM/e512P6SURD7VYBQ/gSMHPulnfD9Bc1w/yaGIOoJxez/69nA/HtA8P9tNsD5EhFg+SynKPWW/TD+gO38/6qZ6Pw4JuD09vIo+qoMzP6du8z5j8X8/EG99P3wifj//7vQ8OeL+PE97bD/dhZw+pIfAPo9mpD0T1Xw/xKE1P2NuTTspEGk/BSLEPi87CTib9H8/uDM+P8gSfz+uWn8/k2XoPoli2Tcsz34/DsUBP4docj/vx3w/H1iDPbb5fz+C3JY+0jhwP643QD+vywI917i+PX+fez+Rq0s+yV8tPIJEfT5Auns/ZMNhP7BYPzqnFWA/J6X+PEDlpD7J6lI9sMG3PGB7gz014JY+/Rx7P6upTT631mU/z380O6KEXz/Knzo/ccZ/P17GeD+1mHA/pCM5P3hgeD+/QhE/WjW8OgpeQz822o492LLsPjWsWj/5XrY95xFFP4XqEj+P7os+UpjpOzBqWTyV6ys7",
          "dtype": "f4"
         },
         "xaxis": "x3",
         "yaxis": "y3"
        },
        {
         "line": {
          "width": 3
         },
         "mode": "lines",
         "name": "PR Curve",
         "type": "scatter",
         "x": [
          1,
          0.986013986013986,
          0.986013986013986,
          0.986013986013986,
          0.972027972027972,
          0.972027972027972,
          0.972027972027972,
          0.958041958041958,
          0.958041958041958,
          0.958041958041958,
          0.958041958041958,
          0.951048951048951,
          0.951048951048951,
          0.951048951048951,
          0.9370629370629371,
          0.9300699300699301,
          0.9300699300699301,
          0.9230769230769231,
          0.9230769230769231,
          0.916083916083916,
          0.9020979020979021,
          0.9020979020979021,
          0.9020979020979021,
          0.9020979020979021,
          0.8951048951048951,
          0.8881118881118881,
          0.8881118881118881,
          0.8881118881118881,
          0.8881118881118881,
          0.8881118881118881,
          0.8741258741258742,
          0.8671328671328671,
          0.8671328671328671,
          0.8671328671328671,
          0.8671328671328671,
          0.8601398601398601,
          0.8531468531468531,
          0.8531468531468531,
          0.8461538461538461,
          0.8391608391608392,
          0.8321678321678322,
          0.8321678321678322,
          0.8321678321678322,
          0.8321678321678322,
          0.8321678321678322,
          0.8251748251748252,
          0.8041958041958042,
          0.8041958041958042,
          0.8041958041958042,
          0.8041958041958042,
          0.8041958041958042,
          0.7902097902097902,
          0.7762237762237763,
          0.7762237762237763,
          0.7762237762237763,
          0.7762237762237763,
          0.7762237762237763,
          0.7622377622377622,
          0.7622377622377622,
          0.7622377622377622,
          0.7622377622377622,
          0.7622377622377622,
          0.7552447552447552,
          0.7552447552447552,
          0.7482517482517482,
          0.7482517482517482,
          0.7482517482517482,
          0.7482517482517482,
          0.7412587412587412,
          0.7412587412587412,
          0.7342657342657343,
          0.7342657342657343,
          0.7272727272727273,
          0.7202797202797203,
          0.7062937062937062,
          0.6993006993006993,
          0.6923076923076923,
          0.6853146853146853,
          0.6713286713286714,
          0.6573426573426573,
          0.6363636363636364,
          0.6293706293706294,
          0.6293706293706294,
          0.6153846153846154,
          0.6153846153846154,
          0.6083916083916084,
          0.5944055944055944,
          0.5804195804195804,
          0.5454545454545454,
          0.5104895104895105,
          0.4965034965034965,
          0.46853146853146854,
          0.46853146853146854,
          0.45454545454545453,
          0.4195804195804196,
          0.4125874125874126,
          0.38461538461538464,
          0.34965034965034963,
          0.1958041958041958,
          0
         ],
         "xaxis": "x4",
         "y": [
          0.4782608695652174,
          0.5108695652173914,
          0.5300751879699248,
          0.5361216730038023,
          0.5450980392156862,
          0.5582329317269076,
          0.5720164609053497,
          0.5854700854700855,
          0.5879828326180258,
          0.6008771929824561,
          0.6143497757847534,
          0.6153846153846154,
          0.6210045662100456,
          0.6210045662100456,
          0.6232558139534884,
          0.6303317535545023,
          0.642512077294686,
          0.6439024390243903,
          0.6470588235294118,
          0.6517412935323383,
          0.6548223350253807,
          0.6649484536082474,
          0.6683937823834197,
          0.6861702127659575,
          0.6918918918918919,
          0.7016574585635359,
          0.7094972067039106,
          0.7134831460674157,
          0.7175141242937854,
          0.7215909090909091,
          0.7267441860465116,
          0.7425149700598802,
          0.7469879518072289,
          0.7469879518072289,
          0.7560975609756098,
          0.7592592592592593,
          0.7625,
          0.7625,
          0.7707006369426752,
          0.7692307692307693,
          0.7828947368421053,
          0.7880794701986755,
          0.7880794701986755,
          0.7933333333333333,
          0.7933333333333333,
          0.8027210884353742,
          0.8098591549295775,
          0.8098591549295775,
          0.8156028368794326,
          0.8214285714285714,
          0.8214285714285714,
          0.8308823529411765,
          0.8283582089552238,
          0.8283582089552238,
          0.8409090909090909,
          0.8538461538461538,
          0.8538461538461538,
          0.8582677165354331,
          0.8650793650793651,
          0.8650793650793651,
          0.8650793650793651,
          0.872,
          0.8709677419354839,
          0.8780487804878049,
          0.8991596638655462,
          0.9145299145299145,
          0.9224137931034483,
          0.9304347826086956,
          0.9380530973451328,
          0.9380530973451328,
          0.9375,
          0.9459459459459459,
          0.9454545454545454,
          0.944954128440367,
          0.9439252336448598,
          0.9615384615384616,
          0.9611650485436893,
          0.9607843137254902,
          0.96,
          0.9591836734693877,
          0.9578947368421052,
          0.9574468085106383,
          0.9574468085106383,
          0.9565217391304348,
          0.9565217391304348,
          0.9666666666666667,
          0.9659090909090909,
          0.9764705882352941,
          0.975,
          0.9733333333333334,
          0.9726027397260274,
          0.9710144927536232,
          0.9852941176470589,
          0.9848484848484849,
          0.9836065573770492,
          0.9833333333333333,
          0.9821428571428571,
          0.9803921568627451,
          1,
          0
         ],
         "yaxis": "y4"
        }
       ],
       "layout": {
        "annotations": [
         {
          "font": {
           "size": 16
          },
          "showarrow": false,
          "text": "Confusion Matrix",
          "x": 0.225,
          "xanchor": "center",
          "xref": "paper",
          "y": 1,
          "yanchor": "bottom",
          "yref": "paper"
         },
         {
          "font": {
           "size": 16
          },
          "showarrow": false,
          "text": "Performance Metrics",
          "x": 0.775,
          "xanchor": "center",
          "xref": "paper",
          "y": 1,
          "yanchor": "bottom",
          "yref": "paper"
         },
         {
          "font": {
           "size": 16
          },
          "showarrow": false,
          "text": "Score Distribution",
          "x": 0.225,
          "xanchor": "center",
          "xref": "paper",
          "y": 0.375,
          "yanchor": "bottom",
          "yref": "paper"
         },
         {
          "font": {
           "size": 16
          },
          "showarrow": false,
          "text": "Precision-Recall Curve",
          "x": 0.775,
          "xanchor": "center",
          "xref": "paper",
          "y": 0.375,
          "yanchor": "bottom",
          "yref": "paper"
         }
        ],
        "height": 800,
        "showlegend": true,
        "template": {
         "data": {
          "bar": [
           {
            "error_x": {
             "color": "#2a3f5f"
            },
            "error_y": {
             "color": "#2a3f5f"
            },
            "marker": {
             "line": {
              "color": "#E5ECF6",
              "width": 0.5
             },
             "pattern": {
              "fillmode": "overlay",
              "size": 10,
              "solidity": 0.2
             }
            },
            "type": "bar"
           }
          ],
          "barpolar": [
           {
            "marker": {
             "line": {
              "color": "#E5ECF6",
              "width": 0.5
             },
             "pattern": {
              "fillmode": "overlay",
              "size": 10,
              "solidity": 0.2
             }
            },
            "type": "barpolar"
           }
          ],
          "carpet": [
           {
            "aaxis": {
             "endlinecolor": "#2a3f5f",
             "gridcolor": "white",
             "linecolor": "white",
             "minorgridcolor": "white",
             "startlinecolor": "#2a3f5f"
            },
            "baxis": {
             "endlinecolor": "#2a3f5f",
             "gridcolor": "white",
             "linecolor": "white",
             "minorgridcolor": "white",
             "startlinecolor": "#2a3f5f"
            },
            "type": "carpet"
           }
          ],
          "choropleth": [
           {
            "colorbar": {
             "outlinewidth": 0,
             "ticks": ""
            },
            "type": "choropleth"
           }
          ],
          "contour": [
           {
            "colorbar": {
             "outlinewidth": 0,
             "ticks": ""
            },
            "colorscale": [
             [
              0,
              "#0d0887"
             ],
             [
              0.1111111111111111,
              "#46039f"
             ],
             [
              0.2222222222222222,
              "#7201a8"
             ],
             [
              0.3333333333333333,
              "#9c179e"
             ],
             [
              0.4444444444444444,
              "#bd3786"
             ],
             [
              0.5555555555555556,
              "#d8576b"
             ],
             [
              0.6666666666666666,
              "#ed7953"
             ],
             [
              0.7777777777777778,
              "#fb9f3a"
             ],
             [
              0.8888888888888888,
              "#fdca26"
             ],
             [
              1,
              "#f0f921"
             ]
            ],
            "type": "contour"
           }
          ],
          "contourcarpet": [
           {
            "colorbar": {
             "outlinewidth": 0,
             "ticks": ""
            },
            "type": "contourcarpet"
           }
          ],
          "heatmap": [
           {
            "colorbar": {
             "outlinewidth": 0,
             "ticks": ""
            },
            "colorscale": [
             [
              0,
              "#0d0887"
             ],
             [
              0.1111111111111111,
              "#46039f"
             ],
             [
              0.2222222222222222,
              "#7201a8"
             ],
             [
              0.3333333333333333,
              "#9c179e"
             ],
             [
              0.4444444444444444,
              "#bd3786"
             ],
             [
              0.5555555555555556,
              "#d8576b"
             ],
             [
              0.6666666666666666,
              "#ed7953"
             ],
             [
              0.7777777777777778,
              "#fb9f3a"
             ],
             [
              0.8888888888888888,
              "#fdca26"
             ],
             [
              1,
              "#f0f921"
             ]
            ],
            "type": "heatmap"
           }
          ],
          "histogram": [
           {
            "marker": {
             "pattern": {
              "fillmode": "overlay",
              "size": 10,
              "solidity": 0.2
             }
            },
            "type": "histogram"
           }
          ],
          "histogram2d": [
           {
            "colorbar": {
             "outlinewidth": 0,
             "ticks": ""
            },
            "colorscale": [
             [
              0,
              "#0d0887"
             ],
             [
              0.1111111111111111,
              "#46039f"
             ],
             [
              0.2222222222222222,
              "#7201a8"
             ],
             [
              0.3333333333333333,
              "#9c179e"
             ],
             [
              0.4444444444444444,
              "#bd3786"
             ],
             [
              0.5555555555555556,
              "#d8576b"
             ],
             [
              0.6666666666666666,
              "#ed7953"
             ],
             [
              0.7777777777777778,
              "#fb9f3a"
             ],
             [
              0.8888888888888888,
              "#fdca26"
             ],
             [
              1,
              "#f0f921"
             ]
            ],
            "type": "histogram2d"
           }
          ],
          "histogram2dcontour": [
           {
            "colorbar": {
             "outlinewidth": 0,
             "ticks": ""
            },
            "colorscale": [
             [
              0,
              "#0d0887"
             ],
             [
              0.1111111111111111,
              "#46039f"
             ],
             [
              0.2222222222222222,
              "#7201a8"
             ],
             [
              0.3333333333333333,
              "#9c179e"
             ],
             [
              0.4444444444444444,
              "#bd3786"
             ],
             [
              0.5555555555555556,
              "#d8576b"
             ],
             [
              0.6666666666666666,
              "#ed7953"
             ],
             [
              0.7777777777777778,
              "#fb9f3a"
             ],
             [
              0.8888888888888888,
              "#fdca26"
             ],
             [
              1,
              "#f0f921"
             ]
            ],
            "type": "histogram2dcontour"
           }
          ],
          "mesh3d": [
           {
            "colorbar": {
             "outlinewidth": 0,
             "ticks": ""
            },
            "type": "mesh3d"
           }
          ],
          "parcoords": [
           {
            "line": {
             "colorbar": {
              "outlinewidth": 0,
              "ticks": ""
             }
            },
            "type": "parcoords"
           }
          ],
          "pie": [
           {
            "automargin": true,
            "type": "pie"
           }
          ],
          "scatter": [
           {
            "fillpattern": {
             "fillmode": "overlay",
             "size": 10,
             "solidity": 0.2
            },
            "type": "scatter"
           }
          ],
          "scatter3d": [
           {
            "line": {
             "colorbar": {
              "outlinewidth": 0,
              "ticks": ""
             }
            },
            "marker": {
             "colorbar": {
              "outlinewidth": 0,
              "ticks": ""
             }
            },
            "type": "scatter3d"
           }
          ],
          "scattercarpet": [
           {
            "marker": {
             "colorbar": {
              "outlinewidth": 0,
              "ticks": ""
             }
            },
            "type": "scattercarpet"
           }
          ],
          "scattergeo": [
           {
            "marker": {
             "colorbar": {
              "outlinewidth": 0,
              "ticks": ""
             }
            },
            "type": "scattergeo"
           }
          ],
          "scattergl": [
           {
            "marker": {
             "colorbar": {
              "outlinewidth": 0,
              "ticks": ""
             }
            },
            "type": "scattergl"
           }
          ],
          "scattermap": [
           {
            "marker": {
             "colorbar": {
              "outlinewidth": 0,
              "ticks": ""
             }
            },
            "type": "scattermap"
           }
          ],
          "scattermapbox": [
           {
            "marker": {
             "colorbar": {
              "outlinewidth": 0,
              "ticks": ""
             }
            },
            "type": "scattermapbox"
           }
          ],
          "scatterpolar": [
           {
            "marker": {
             "colorbar": {
              "outlinewidth": 0,
              "ticks": ""
             }
            },
            "type": "scatterpolar"
           }
          ],
          "scatterpolargl": [
           {
            "marker": {
             "colorbar": {
              "outlinewidth": 0,
              "ticks": ""
             }
            },
            "type": "scatterpolargl"
           }
          ],
          "scatterternary": [
           {
            "marker": {
             "colorbar": {
              "outlinewidth": 0,
              "ticks": ""
             }
            },
            "type": "scatterternary"
           }
          ],
          "surface": [
           {
            "colorbar": {
             "outlinewidth": 0,
             "ticks": ""
            },
            "colorscale": [
             [
              0,
              "#0d0887"
             ],
             [
              0.1111111111111111,
              "#46039f"
             ],
             [
              0.2222222222222222,
              "#7201a8"
             ],
             [
              0.3333333333333333,
              "#9c179e"
             ],
             [
              0.4444444444444444,
              "#bd3786"
             ],
             [
              0.5555555555555556,
              "#d8576b"
             ],
             [
              0.6666666666666666,
              "#ed7953"
             ],
             [
              0.7777777777777778,
              "#fb9f3a"
             ],
             [
              0.8888888888888888,
              "#fdca26"
             ],
             [
              1,
              "#f0f921"
             ]
            ],
            "type": "surface"
           }
          ],
          "table": [
           {
            "cells": {
             "fill": {
              "color": "#EBF0F8"
             },
             "line": {
              "color": "white"
             }
            },
            "header": {
             "fill": {
              "color": "#C8D4E3"
             },
             "line": {
              "color": "white"
             }
            },
            "type": "table"
           }
          ]
         },
         "layout": {
          "annotationdefaults": {
           "arrowcolor": "#2a3f5f",
           "arrowhead": 0,
           "arrowwidth": 1
          },
          "autotypenumbers": "strict",
          "coloraxis": {
           "colorbar": {
            "outlinewidth": 0,
            "ticks": ""
           }
          },
          "colorscale": {
           "diverging": [
            [
             0,
             "#8e0152"
            ],
            [
             0.1,
             "#c51b7d"
            ],
            [
             0.2,
             "#de77ae"
            ],
            [
             0.3,
             "#f1b6da"
            ],
            [
             0.4,
             "#fde0ef"
            ],
            [
             0.5,
             "#f7f7f7"
            ],
            [
             0.6,
             "#e6f5d0"
            ],
            [
             0.7,
             "#b8e186"
            ],
            [
             0.8,
             "#7fbc41"
            ],
            [
             0.9,
             "#4d9221"
            ],
            [
             1,
             "#276419"
            ]
           ],
           "sequential": [
            [
             0,
             "#0d0887"
            ],
            [
             0.1111111111111111,
             "#46039f"
            ],
            [
             0.2222222222222222,
             "#7201a8"
            ],
            [
             0.3333333333333333,
             "#9c179e"
            ],
            [
             0.4444444444444444,
             "#bd3786"
            ],
            [
             0.5555555555555556,
             "#d8576b"
            ],
            [
             0.6666666666666666,
             "#ed7953"
            ],
            [
             0.7777777777777778,
             "#fb9f3a"
            ],
            [
             0.8888888888888888,
             "#fdca26"
            ],
            [
             1,
             "#f0f921"
            ]
           ],
           "sequentialminus": [
            [
             0,
             "#0d0887"
            ],
            [
             0.1111111111111111,
             "#46039f"
            ],
            [
             0.2222222222222222,
             "#7201a8"
            ],
            [
             0.3333333333333333,
             "#9c179e"
            ],
            [
             0.4444444444444444,
             "#bd3786"
            ],
            [
             0.5555555555555556,
             "#d8576b"
            ],
            [
             0.6666666666666666,
             "#ed7953"
            ],
            [
             0.7777777777777778,
             "#fb9f3a"
            ],
            [
             0.8888888888888888,
             "#fdca26"
            ],
            [
             1,
             "#f0f921"
            ]
           ]
          },
          "colorway": [
           "#636efa",
           "#EF553B",
           "#00cc96",
           "#ab63fa",
           "#FFA15A",
           "#19d3f3",
           "#FF6692",
           "#B6E880",
           "#FF97FF",
           "#FECB52"
          ],
          "font": {
           "color": "#2a3f5f"
          },
          "geo": {
           "bgcolor": "white",
           "lakecolor": "white",
           "landcolor": "#E5ECF6",
           "showlakes": true,
           "showland": true,
           "subunitcolor": "white"
          },
          "hoverlabel": {
           "align": "left"
          },
          "hovermode": "closest",
          "mapbox": {
           "style": "light"
          },
          "paper_bgcolor": "white",
          "plot_bgcolor": "#E5ECF6",
          "polar": {
           "angularaxis": {
            "gridcolor": "white",
            "linecolor": "white",
            "ticks": ""
           },
           "bgcolor": "#E5ECF6",
           "radialaxis": {
            "gridcolor": "white",
            "linecolor": "white",
            "ticks": ""
           }
          },
          "scene": {
           "xaxis": {
            "backgroundcolor": "#E5ECF6",
            "gridcolor": "white",
            "gridwidth": 2,
            "linecolor": "white",
            "showbackground": true,
            "ticks": "",
            "zerolinecolor": "white"
           },
           "yaxis": {
            "backgroundcolor": "#E5ECF6",
            "gridcolor": "white",
            "gridwidth": 2,
            "linecolor": "white",
            "showbackground": true,
            "ticks": "",
            "zerolinecolor": "white"
           },
           "zaxis": {
            "backgroundcolor": "#E5ECF6",
            "gridcolor": "white",
            "gridwidth": 2,
            "linecolor": "white",
            "showbackground": true,
            "ticks": "",
            "zerolinecolor": "white"
           }
          },
          "shapedefaults": {
           "line": {
            "color": "#2a3f5f"
           }
          },
          "ternary": {
           "aaxis": {
            "gridcolor": "white",
            "linecolor": "white",
            "ticks": ""
           },
           "baxis": {
            "gridcolor": "white",
            "linecolor": "white",
            "ticks": ""
           },
           "bgcolor": "#E5ECF6",
           "caxis": {
            "gridcolor": "white",
            "linecolor": "white",
            "ticks": ""
           }
          },
          "title": {
           "x": 0.05
          },
          "xaxis": {
           "automargin": true,
           "gridcolor": "white",
           "linecolor": "white",
           "ticks": "",
           "title": {
            "standoff": 15
           },
           "zerolinecolor": "white",
           "zerolinewidth": 2
          },
          "yaxis": {
           "automargin": true,
           "gridcolor": "white",
           "linecolor": "white",
           "ticks": "",
           "title": {
            "standoff": 15
           },
           "zerolinecolor": "white",
           "zerolinewidth": 2
          }
         }
        },
        "title": {
         "text": "TerminatorModel Classification Results (With Preprocessing)"
        },
        "xaxis": {
         "anchor": "y",
         "domain": [
          0,
          0.45
         ]
        },
        "xaxis2": {
         "anchor": "y2",
         "domain": [
          0.55,
          1
         ]
        },
        "xaxis3": {
         "anchor": "y3",
         "domain": [
          0,
          0.45
         ]
        },
        "xaxis4": {
         "anchor": "y4",
         "domain": [
          0.55,
          1
         ]
        },
        "yaxis": {
         "anchor": "x",
         "domain": [
          0.625,
          1
         ]
        },
        "yaxis2": {
         "anchor": "x2",
         "domain": [
          0.625,
          1
         ]
        },
        "yaxis3": {
         "anchor": "x3",
         "domain": [
          0,
          0.375
         ]
        },
        "yaxis4": {
         "anchor": "x4",
         "domain": [
          0,
          0.375
         ]
        }
       }
      }
     },
     "metadata": {},
     "output_type": "display_data"
    },
    {
     "name": "stdout",
     "output_type": "stream",
     "text": [
      "✅ Classification visualizations with preprocessing created!\n"
     ]
    }
   ],
   "source": [
    "# Build a preprocessing model that works with TerminatorModel's standardized input format\n",
    "# TerminatorModel converts list inputs to {'input_0': input, 'input_1': context}\n",
    "from keras import Input, Model\n",
    "\n",
    "print(\"🧩 Building preprocessing model...\")\n",
    "\n",
    "# Input layers - using the standardized format that TerminatorModel provides\n",
    "inp_0 = Input(shape=(input_dim,), name='input_0')  # This will be the input features\n",
    "inp_1 = Input(shape=(context_dim,), name='input_1')  # This will be the context features\n",
    "\n",
    "# Process each input\n",
    "h1 = layers.Dense(64, activation='relu', name='preproc_dense1')(inp_0)\n",
    "h1 = layers.Dropout(0.1)(h1)\n",
    "h2 = layers.Dense(32, activation='relu', name='preproc_dense2')(inp_1)\n",
    "h2 = layers.Dropout(0.1)(h2)\n",
    "\n",
    "# Combine and process\n",
    "combined = layers.Concatenate(name='preproc_concat')([h1, h2])\n",
    "combined = layers.Dense(64, activation='relu', name='preproc_dense3')(combined)\n",
    "combined = layers.Dropout(0.1)(combined)\n",
    "processed = layers.Dense(input_dim, activation='linear', name='processed')(combined)\n",
    "\n",
    "# Create preprocessing model with the standardized input format\n",
    "preproc_model = Model(\n",
    "    inputs={'input_0': inp_0, 'input_1': inp_1}, \n",
    "    outputs=processed, \n",
    "    name='terminator_preproc'\n",
    ")\n",
    "\n",
    "# Test the preprocessing model with the standardized format\n",
    "print(\"Testing preprocessing model...\")\n",
    "test_inp = np.random.randn(1, input_dim).astype(np.float32)\n",
    "test_ctx = np.random.randn(1, context_dim).astype(np.float32)\n",
    "test_out = preproc_model({'input_0': test_inp, 'input_1': test_ctx})\n",
    "print(f\"Preprocessing model output shape: {test_out.shape}, expected: (1, {input_dim})\")\n",
    "assert test_out.shape[1] == input_dim, f\"Preprocessing output shape mismatch!\"\n",
    "\n",
    "# Model with preprocessing\n",
    "model_cls_preproc = TerminatorModel(\n",
    "    input_dim=input_dim,\n",
    "    context_dim=context_dim,\n",
    "    output_dim=1,\n",
    "    hidden_dim=64,\n",
    "    num_layers=2,\n",
    "    num_blocks=3,\n",
    "    slow_network_layers=3,\n",
    "    slow_network_units=128,\n",
    "    preprocessing_model=preproc_model,\n",
    "    name='terminator_demo_cls_preproc'\n",
    ")\n",
    "\n",
    "model_cls_preproc.compile(\n",
    "    optimizer=keras.optimizers.Adam(1e-3),\n",
    "    loss='binary_crossentropy',\n",
    "    metrics=[\n",
    "        keras.metrics.BinaryAccuracy(name='accuracy'),\n",
    "        keras.metrics.Precision(name='precision'),\n",
    "        keras.metrics.Recall(name='recall'),\n",
    "        keras.metrics.AUC(name='auc')\n",
    "    ]\n",
    ")\n",
    "\n",
    "print(\"🚀 Training classification model with preprocessing...\")\n",
    "\n",
    "# Test the model with preprocessing first\n",
    "print(\"Testing model with preprocessing...\")\n",
    "# Use list format since that's what TerminatorModel expects\n",
    "test_output = model_cls_preproc([X_input_train[:1], X_context_train[:1]])\n",
    "print(f\"Model with preprocessing test output shape: {test_output.shape}\")\n",
    "\n",
    "# Train with list format (which works with the preprocessing model)\n",
    "print(\"Training with list inputs...\")\n",
    "history_cls_preproc = model_cls_preproc.fit(\n",
    "    [X_input_train, X_context_train], y_train_cls,\n",
    "    validation_data=([X_input_val, X_context_val], y_val_cls),\n",
    "    epochs=30,\n",
    "    batch_size=64,\n",
    "    callbacks=cls_callbacks,\n",
    "    verbose=1\n",
    ")\n",
    "\n",
    "print(\"✅ Training with preprocessing completed!\")\n",
    "\n",
    "# Evaluate and visualize (use list format consistently)\n",
    "loss_p, acc_p, prec_p, rec_p, auc_p = model_cls_preproc.evaluate(\n",
    "    [X_input_test, X_context_test], y_test_cls, verbose=0\n",
    ")\n",
    "y_pred_proba_cls_p = model_cls_preproc.predict(\n",
    "    [X_input_test, X_context_test], verbose=0\n",
    ").flatten()\n",
    "\n",
    "print(f\"Test (preproc) -> loss {loss_p:.4f}, acc {acc_p:.4f}, prec {prec_p:.4f}, recall {rec_p:.4f}, auc {auc_p:.4f}\")\n",
    "\n",
    "y_pred_cls_p = (y_pred_proba_cls_p > 0.5).astype(np.int32)\n",
    "\n",
    "fig_cls_p = KMRPlotter.create_comprehensive_plot(\n",
    "    'classification',\n",
    "    y_true=y_test_cls,\n",
    "    y_pred=y_pred_cls_p,\n",
    "    y_scores=y_pred_proba_cls_p,\n",
    "    title=\"TerminatorModel Classification Results (With Preprocessing)\"\n",
    ")\n",
    "fig_cls_p.show()\n",
    "print(\"✅ Classification visualizations with preprocessing created!\")\n"
   ]
  },
  {
   "cell_type": "markdown",
   "id": "acbd974a",
   "metadata": {},
   "source": []
  }
 ],
 "metadata": {
  "kernelspec": {
   "display_name": "kmr-S1SSCx8j-py3.12",
   "language": "python",
   "name": "python3"
  },
  "language_info": {
   "codemirror_mode": {
    "name": "ipython",
    "version": 3
   },
   "file_extension": ".py",
   "mimetype": "text/x-python",
   "name": "python",
   "nbconvert_exporter": "python",
   "pygments_lexer": "ipython3",
   "version": "3.12.4"
  }
 },
 "nbformat": 4,
 "nbformat_minor": 5
}
